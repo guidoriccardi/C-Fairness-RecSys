{
 "cells": [
  {
   "cell_type": "markdown",
   "metadata": {},
   "source": [
    "# LastFM Gender Balanced Output Analysis\n",
    "\n",
    "This notebook contains our analysis of the recommender evaluation results.\n",
    "\n",
    "It proceeds in a few steps:\n",
    "\n",
    "1. [Setup](#Setup), where we do the initial R configuration\n",
    "2. [Read Data](#Read-Data), where we load in the experiment data for analysis\n",
    "3. [Controlling for Profile Size](#Controlling-for-Profile-Size), where we model accuracy as a function of user profile size in order to control for intrinsic profile difficulty\n",
    "4. [Gender](#Gender), where we analyze the results by gender.\n",
    "5. [Age](#Age), where we analyze the results by age."
   ]
  },
  {
   "cell_type": "markdown",
   "metadata": {},
   "source": [
    "## Setup\n",
    "\n",
    "Libraries:"
   ]
  },
  {
   "cell_type": "code",
   "execution_count": 11,
   "metadata": {},
   "outputs": [],
   "source": [
    "library(plyr)\n",
    "library(dplyr)\n",
    "library(readr)\n",
    "library(ggplot2)\n",
    "library(tidyr)\n",
    "library(modelr)\n",
    "library(tibble)\n",
    "source(\"plot-tools.R\")"
   ]
  },
  {
   "cell_type": "markdown",
   "metadata": {},
   "source": [
    "Options:"
   ]
  },
  {
   "cell_type": "code",
   "execution_count": 12,
   "metadata": {
    "collapsed": true
   },
   "outputs": [],
   "source": [
    "options(repr.plot.height=5)\n",
    "options(repr.matrix.max.rows=10)\n",
    "options(repr.matrix.max.columns=10)"
   ]
  },
  {
   "cell_type": "markdown",
   "metadata": {},
   "source": [
    "Copy in the `bound_ages` function from the input analysis:"
   ]
  },
  {
   "cell_type": "code",
   "execution_count": 13,
   "metadata": {
    "collapsed": true
   },
   "outputs": [],
   "source": [
    "ml_age_lbs = c(1, 18, 25, 35, 45, 50, 56)\n",
    "bound_ages = function(ages, bounds=ml_age_lbs) {\n",
    "    ages[ages <= 0] = NA\n",
    "    selectors = rowSums(outer(ages, ml_age_lbs, \">=\"))\n",
    "    factor(ml_age_lbs[selectors], levels=as.character(bounds))\n",
    "}"
   ]
  },
  {
   "cell_type": "markdown",
   "metadata": {},
   "source": [
    "## Read Data\n",
    "\n",
    "First, we need to read the user data from the underlying Last.FM data:"
   ]
  },
  {
   "cell_type": "code",
   "execution_count": 17,
   "metadata": {},
   "outputs": [
    {
     "name": "stderr",
     "output_type": "stream",
     "text": [
      "Parsed with column specification:\n",
      "cols(\n",
      "  id = col_integer(),\n",
      "  key = col_character(),\n",
      "  gender = col_character(),\n",
      "  age = col_integer()\n",
      ")\n"
     ]
    },
    {
     "data": {
      "text/html": [
       "<table>\n",
       "<thead><tr><th scope=col>user</th><th scope=col>gender</th><th scope=col>age</th></tr></thead>\n",
       "<tbody>\n",
       "\t<tr><td>1 </td><td>F </td><td>18</td></tr>\n",
       "\t<tr><td>2 </td><td>F </td><td>NA</td></tr>\n",
       "\t<tr><td>3 </td><td>NA</td><td>NA</td></tr>\n",
       "\t<tr><td>4 </td><td>M </td><td>18</td></tr>\n",
       "\t<tr><td>5 </td><td>M </td><td>25</td></tr>\n",
       "\t<tr><td>⋮</td><td>⋮</td><td>⋮</td></tr>\n",
       "\t<tr><td>359343</td><td>M     </td><td>25    </td></tr>\n",
       "\t<tr><td>359344</td><td>M     </td><td>25    </td></tr>\n",
       "\t<tr><td>359345</td><td>M     </td><td>18    </td></tr>\n",
       "\t<tr><td>359346</td><td>M     </td><td>18    </td></tr>\n",
       "\t<tr><td>359347</td><td>M     </td><td>18    </td></tr>\n",
       "</tbody>\n",
       "</table>\n"
      ],
      "text/latex": [
       "\\begin{tabular}{r|lll}\n",
       " user & gender & age\\\\\n",
       "\\hline\n",
       "\t 1  & F  & 18\\\\\n",
       "\t 2  & F  & NA\\\\\n",
       "\t 3  & NA & NA\\\\\n",
       "\t 4  & M  & 18\\\\\n",
       "\t 5  & M  & 25\\\\\n",
       "\t ⋮ & ⋮ & ⋮\\\\\n",
       "\t 359343 & M      & 25    \\\\\n",
       "\t 359344 & M      & 25    \\\\\n",
       "\t 359345 & M      & 18    \\\\\n",
       "\t 359346 & M      & 18    \\\\\n",
       "\t 359347 & M      & 18    \\\\\n",
       "\\end{tabular}\n"
      ],
      "text/markdown": [
       "\n",
       "user | gender | age | \n",
       "|---|---|---|---|---|---|---|---|---|---|---|\n",
       "| 1  | F  | 18 | \n",
       "| 2  | F  | NA | \n",
       "| 3  | NA | NA | \n",
       "| 4  | M  | 18 | \n",
       "| 5  | M  | 25 | \n",
       "| ⋮ | ⋮ | ⋮ | \n",
       "| 359343 | M      | 25     | \n",
       "| 359344 | M      | 25     | \n",
       "| 359345 | M      | 18     | \n",
       "| 359346 | M      | 18     | \n",
       "| 359347 | M      | 18     | \n",
       "\n",
       "\n"
      ],
      "text/plain": [
       "       user   gender age\n",
       "1      1      F      18 \n",
       "2      2      F      NA \n",
       "3      3      NA     NA \n",
       "4      4      M      18 \n",
       "5      5      M      25 \n",
       "⋮      ⋮      ⋮      ⋮  \n",
       "359343 359343 M      25 \n",
       "359344 359344 M      25 \n",
       "359345 359345 M      18 \n",
       "359346 359346 M      18 \n",
       "359347 359347 M      18 "
      ]
     },
     "metadata": {},
     "output_type": "display_data"
    }
   ],
   "source": [
    "users.meta.360k = read_csv(\"build/lastfm-users.csv\") %>%\n",
    "    mutate(gender=as.factor(toupper(gender)),\n",
    "           age=bound_ages(if_else(age > 0, age, as.integer(NA)))) %>%\n",
    "    select(user=id, gender, age)\n",
    "users.meta.360k"
   ]
  },
  {
   "cell_type": "code",
   "execution_count": 22,
   "metadata": {
    "collapsed": true
   },
   "outputs": [],
   "source": [
    "users.meta = users.meta.360k %>%\n",
    "    mutate(DataSet='LFM360K.GB') %>%\n",
    "    select(DataSet, user, gender, age) %>%\n",
    "    mutate(DataSet = as.factor(DataSet))"
   ]
  },
  {
   "cell_type": "code",
   "execution_count": 23,
   "metadata": {},
   "outputs": [
    {
     "data": {
      "text/html": [
       "<table>\n",
       "<thead><tr><th scope=col>DataSet</th><th scope=col>user</th><th scope=col>gender</th><th scope=col>age</th></tr></thead>\n",
       "<tbody>\n",
       "\t<tr><td>LFM360K.GB</td><td>1         </td><td>F         </td><td>18        </td></tr>\n",
       "\t<tr><td>LFM360K.GB</td><td>2         </td><td>F         </td><td>NA        </td></tr>\n",
       "\t<tr><td>LFM360K.GB</td><td>3         </td><td>NA        </td><td>NA        </td></tr>\n",
       "\t<tr><td>LFM360K.GB</td><td>4         </td><td>M         </td><td>18        </td></tr>\n",
       "\t<tr><td>LFM360K.GB</td><td>5         </td><td>M         </td><td>25        </td></tr>\n",
       "\t<tr><td>⋮</td><td>⋮</td><td>⋮</td><td>⋮</td></tr>\n",
       "\t<tr><td>LFM360K.GB</td><td>359343    </td><td>M         </td><td>25        </td></tr>\n",
       "\t<tr><td>LFM360K.GB</td><td>359344    </td><td>M         </td><td>25        </td></tr>\n",
       "\t<tr><td>LFM360K.GB</td><td>359345    </td><td>M         </td><td>18        </td></tr>\n",
       "\t<tr><td>LFM360K.GB</td><td>359346    </td><td>M         </td><td>18        </td></tr>\n",
       "\t<tr><td>LFM360K.GB</td><td>359347    </td><td>M         </td><td>18        </td></tr>\n",
       "</tbody>\n",
       "</table>\n"
      ],
      "text/latex": [
       "\\begin{tabular}{r|llll}\n",
       " DataSet & user & gender & age\\\\\n",
       "\\hline\n",
       "\t LFM360K.GB & 1          & F          & 18        \\\\\n",
       "\t LFM360K.GB & 2          & F          & NA        \\\\\n",
       "\t LFM360K.GB & 3          & NA         & NA        \\\\\n",
       "\t LFM360K.GB & 4          & M          & 18        \\\\\n",
       "\t LFM360K.GB & 5          & M          & 25        \\\\\n",
       "\t ⋮ & ⋮ & ⋮ & ⋮\\\\\n",
       "\t LFM360K.GB & 359343     & M          & 25        \\\\\n",
       "\t LFM360K.GB & 359344     & M          & 25        \\\\\n",
       "\t LFM360K.GB & 359345     & M          & 18        \\\\\n",
       "\t LFM360K.GB & 359346     & M          & 18        \\\\\n",
       "\t LFM360K.GB & 359347     & M          & 18        \\\\\n",
       "\\end{tabular}\n"
      ],
      "text/markdown": [
       "\n",
       "DataSet | user | gender | age | \n",
       "|---|---|---|---|---|---|---|---|---|---|---|\n",
       "| LFM360K.GB | 1          | F          | 18         | \n",
       "| LFM360K.GB | 2          | F          | NA         | \n",
       "| LFM360K.GB | 3          | NA         | NA         | \n",
       "| LFM360K.GB | 4          | M          | 18         | \n",
       "| LFM360K.GB | 5          | M          | 25         | \n",
       "| ⋮ | ⋮ | ⋮ | ⋮ | \n",
       "| LFM360K.GB | 359343     | M          | 25         | \n",
       "| LFM360K.GB | 359344     | M          | 25         | \n",
       "| LFM360K.GB | 359345     | M          | 18         | \n",
       "| LFM360K.GB | 359346     | M          | 18         | \n",
       "| LFM360K.GB | 359347     | M          | 18         | \n",
       "\n",
       "\n"
      ],
      "text/plain": [
       "       DataSet    user   gender age\n",
       "1      LFM360K.GB 1      F      18 \n",
       "2      LFM360K.GB 2      F      NA \n",
       "3      LFM360K.GB 3      NA     NA \n",
       "4      LFM360K.GB 4      M      18 \n",
       "5      LFM360K.GB 5      M      25 \n",
       "⋮      ⋮          ⋮      ⋮      ⋮  \n",
       "359343 LFM360K.GB 359343 M      25 \n",
       "359344 LFM360K.GB 359344 M      25 \n",
       "359345 LFM360K.GB 359345 M      18 \n",
       "359346 LFM360K.GB 359346 M      18 \n",
       "359347 LFM360K.GB 359347 M      18 "
      ]
     },
     "metadata": {},
     "output_type": "display_data"
    }
   ],
   "source": [
    "users.meta"
   ]
  },
  {
   "cell_type": "markdown",
   "metadata": {},
   "source": [
    "Now, we want to get user profile statistics. In order to do that, we need each user's train profile; we can load that from the training data output by the cross-folding process.\n",
    "\n",
    "For each partition, we need to load the _train ratings_ (historical profile) for all the _test users_ in that partition. So we will load the test data (to get the users) and the train data (to get the histories), then merge them."
   ]
  },
  {
   "cell_type": "code",
   "execution_count": 24,
   "metadata": {},
   "outputs": [
    {
     "name": "stderr",
     "output_type": "stream",
     "text": [
      "reading part 1\n",
      "Joining, by = \"user\"\n",
      "reading part 2\n",
      "Joining, by = \"user\"\n",
      "reading part 3\n",
      "Joining, by = \"user\"\n",
      "reading part 4\n",
      "Joining, by = \"user\"\n",
      "reading part 5\n",
      "Joining, by = \"user\"\n"
     ]
    },
    {
     "data": {
      "text/html": [
       "<table>\n",
       "<thead><tr><th scope=col>user</th><th scope=col>part</th><th scope=col>item</th><th scope=col>count</th></tr></thead>\n",
       "<tbody>\n",
       "\t<tr><td>112429</td><td>1     </td><td> 2130 </td><td>491   </td></tr>\n",
       "\t<tr><td>112429</td><td>1     </td><td> 1277 </td><td>199   </td></tr>\n",
       "\t<tr><td>112429</td><td>1     </td><td> 7930 </td><td>196   </td></tr>\n",
       "\t<tr><td>112429</td><td>1     </td><td> 2256 </td><td>164   </td></tr>\n",
       "\t<tr><td>112429</td><td>1     </td><td>12770 </td><td>156   </td></tr>\n",
       "\t<tr><td>112429</td><td>1     </td><td>  159 </td><td>117   </td></tr>\n",
       "</tbody>\n",
       "</table>\n"
      ],
      "text/latex": [
       "\\begin{tabular}{r|llll}\n",
       " user & part & item & count\\\\\n",
       "\\hline\n",
       "\t 112429 & 1      &  2130  & 491   \\\\\n",
       "\t 112429 & 1      &  1277  & 199   \\\\\n",
       "\t 112429 & 1      &  7930  & 196   \\\\\n",
       "\t 112429 & 1      &  2256  & 164   \\\\\n",
       "\t 112429 & 1      & 12770  & 156   \\\\\n",
       "\t 112429 & 1      &   159  & 117   \\\\\n",
       "\\end{tabular}\n"
      ],
      "text/markdown": [
       "\n",
       "user | part | item | count | \n",
       "|---|---|---|---|---|---|\n",
       "| 112429 | 1      |  2130  | 491    | \n",
       "| 112429 | 1      |  1277  | 199    | \n",
       "| 112429 | 1      |  7930  | 196    | \n",
       "| 112429 | 1      |  2256  | 164    | \n",
       "| 112429 | 1      | 12770  | 156    | \n",
       "| 112429 | 1      |   159  | 117    | \n",
       "\n",
       "\n"
      ],
      "text/plain": [
       "  user   part item  count\n",
       "1 112429 1     2130 491  \n",
       "2 112429 1     1277 199  \n",
       "3 112429 1     7930 196  \n",
       "4 112429 1     2256 164  \n",
       "5 112429 1    12770 156  \n",
       "6 112429 1      159 117  "
      ]
     },
     "metadata": {},
     "output_type": "display_data"
    }
   ],
   "source": [
    "train.ratings.360k = ldply(1:5, function(part) {\n",
    "    message(\"reading part \", part)\n",
    "    test.fn = sprintf(\"build/lastfm-splits-sample/u.part%d.test.csv\", part)\n",
    "    train.fn = sprintf(\"build/lastfm-splits-sample/u.part%d.train.csv\", part)\n",
    "    test = suppressMessages(read_csv(test.fn))\n",
    "    train = suppressMessages(read_csv(train.fn))\n",
    "    test %>%\n",
    "        select(user) %>%\n",
    "        distinct() %>%\n",
    "        mutate(part=as.factor(part)) %>%\n",
    "        inner_join(train)\n",
    "})\n",
    "head(train.ratings.360k)"
   ]
  },
  {
   "cell_type": "code",
   "execution_count": 25,
   "metadata": {
    "collapsed": true
   },
   "outputs": [],
   "source": [
    "train.ratings = train.ratings.360k %>%\n",
    "    mutate(DataSet = 'LFM360K.GB') %>%\n",
    "    mutate(DataSet = as.factor(DataSet)) %>%\n",
    "    select(DataSet, user, part, item, count)"
   ]
  },
  {
   "cell_type": "code",
   "execution_count": 26,
   "metadata": {},
   "outputs": [
    {
     "data": {
      "text/html": [
       "<table>\n",
       "<thead><tr><th scope=col>user</th><th scope=col>part</th><th scope=col>item</th><th scope=col>count</th><th scope=col>DataSet</th></tr></thead>\n",
       "<tbody>\n",
       "\t<tr><td>112429    </td><td>1         </td><td> 2130     </td><td>491       </td><td>LFM360K.GB</td></tr>\n",
       "\t<tr><td>112429    </td><td>1         </td><td> 1277     </td><td>199       </td><td>LFM360K.GB</td></tr>\n",
       "\t<tr><td>112429    </td><td>1         </td><td> 7930     </td><td>196       </td><td>LFM360K.GB</td></tr>\n",
       "\t<tr><td>112429    </td><td>1         </td><td> 2256     </td><td>164       </td><td>LFM360K.GB</td></tr>\n",
       "\t<tr><td>112429    </td><td>1         </td><td>12770     </td><td>156       </td><td>LFM360K.GB</td></tr>\n",
       "\t<tr><td>⋮</td><td>⋮</td><td>⋮</td><td>⋮</td><td>⋮</td></tr>\n",
       "\t<tr><td>279454    </td><td>5         </td><td>1484      </td><td>26        </td><td>LFM360K.GB</td></tr>\n",
       "\t<tr><td>279454    </td><td>5         </td><td> 798      </td><td>26        </td><td>LFM360K.GB</td></tr>\n",
       "\t<tr><td>279454    </td><td>5         </td><td>2255      </td><td>25        </td><td>LFM360K.GB</td></tr>\n",
       "\t<tr><td>279454    </td><td>5         </td><td> 159      </td><td>25        </td><td>LFM360K.GB</td></tr>\n",
       "\t<tr><td>279454    </td><td>5         </td><td> 517      </td><td>25        </td><td>LFM360K.GB</td></tr>\n",
       "</tbody>\n",
       "</table>\n"
      ],
      "text/latex": [
       "\\begin{tabular}{r|lllll}\n",
       " user & part & item & count & DataSet\\\\\n",
       "\\hline\n",
       "\t 112429     & 1          &  2130      & 491        & LFM360K.GB\\\\\n",
       "\t 112429     & 1          &  1277      & 199        & LFM360K.GB\\\\\n",
       "\t 112429     & 1          &  7930      & 196        & LFM360K.GB\\\\\n",
       "\t 112429     & 1          &  2256      & 164        & LFM360K.GB\\\\\n",
       "\t 112429     & 1          & 12770      & 156        & LFM360K.GB\\\\\n",
       "\t ⋮ & ⋮ & ⋮ & ⋮ & ⋮\\\\\n",
       "\t 279454     & 5          & 1484       & 26         & LFM360K.GB\\\\\n",
       "\t 279454     & 5          &  798       & 26         & LFM360K.GB\\\\\n",
       "\t 279454     & 5          & 2255       & 25         & LFM360K.GB\\\\\n",
       "\t 279454     & 5          &  159       & 25         & LFM360K.GB\\\\\n",
       "\t 279454     & 5          &  517       & 25         & LFM360K.GB\\\\\n",
       "\\end{tabular}\n"
      ],
      "text/markdown": [
       "\n",
       "user | part | item | count | DataSet | \n",
       "|---|---|---|---|---|---|---|---|---|---|---|\n",
       "| 112429     | 1          |  2130      | 491        | LFM360K.GB | \n",
       "| 112429     | 1          |  1277      | 199        | LFM360K.GB | \n",
       "| 112429     | 1          |  7930      | 196        | LFM360K.GB | \n",
       "| 112429     | 1          |  2256      | 164        | LFM360K.GB | \n",
       "| 112429     | 1          | 12770      | 156        | LFM360K.GB | \n",
       "| ⋮ | ⋮ | ⋮ | ⋮ | ⋮ | \n",
       "| 279454     | 5          | 1484       | 26         | LFM360K.GB | \n",
       "| 279454     | 5          |  798       | 26         | LFM360K.GB | \n",
       "| 279454     | 5          | 2255       | 25         | LFM360K.GB | \n",
       "| 279454     | 5          |  159       | 25         | LFM360K.GB | \n",
       "| 279454     | 5          |  517       | 25         | LFM360K.GB | \n",
       "\n",
       "\n"
      ],
      "text/plain": [
       "        user   part item  count DataSet   \n",
       "1       112429 1     2130 491   LFM360K.GB\n",
       "2       112429 1     1277 199   LFM360K.GB\n",
       "3       112429 1     7930 196   LFM360K.GB\n",
       "4       112429 1     2256 164   LFM360K.GB\n",
       "5       112429 1    12770 156   LFM360K.GB\n",
       "⋮       ⋮      ⋮    ⋮     ⋮     ⋮         \n",
       "1093401 279454 5    1484  26    LFM360K.GB\n",
       "1093402 279454 5     798  26    LFM360K.GB\n",
       "1093403 279454 5    2255  25    LFM360K.GB\n",
       "1093404 279454 5     159  25    LFM360K.GB\n",
       "1093405 279454 5     517  25    LFM360K.GB"
      ]
     },
     "metadata": {},
     "output_type": "display_data"
    }
   ],
   "source": [
    "train.ratings"
   ]
  },
  {
   "cell_type": "markdown",
   "metadata": {},
   "source": [
    "Quick summary just to see what this data looks like:"
   ]
  },
  {
   "cell_type": "code",
   "execution_count": 27,
   "metadata": {},
   "outputs": [
    {
     "data": {
      "text/plain": [
       "       DataSet        part           count         \n",
       " LFM360K.GB:1093405   1:218947   Min.   :     1.0  \n",
       "                      2:218266   1st Qu.:    34.0  \n",
       "                      3:219063   Median :    92.0  \n",
       "                      4:218728   Mean   :   209.6  \n",
       "                      5:218401   3rd Qu.:   216.0  \n",
       "                                 Max.   :141661.0  "
      ]
     },
     "metadata": {},
     "output_type": "display_data"
    }
   ],
   "source": [
    "train.ratings %>%\n",
    "    select(DataSet, part, count) %>%\n",
    "    summary()"
   ]
  },
  {
   "cell_type": "markdown",
   "metadata": {},
   "source": [
    "Now we want to compute per-user profile statistics:"
   ]
  },
  {
   "cell_type": "code",
   "execution_count": 28,
   "metadata": {},
   "outputs": [
    {
     "data": {
      "text/html": [
       "<table>\n",
       "<thead><tr><th scope=col>DataSet</th><th scope=col>user</th><th scope=col>nartists</th><th scope=col>meanPlays</th><th scope=col>medPlays</th><th scope=col>totalPlays</th></tr></thead>\n",
       "<tbody>\n",
       "\t<tr><td>LFM360K.GB</td><td> 1        </td><td>44        </td><td>352.772727</td><td>230.0     </td><td>15522     </td></tr>\n",
       "\t<tr><td>LFM360K.GB</td><td> 9        </td><td>44        </td><td>  5.090909</td><td>  4.0     </td><td>  224     </td></tr>\n",
       "\t<tr><td>LFM360K.GB</td><td>16        </td><td>42        </td><td>356.023810</td><td>319.5     </td><td>14953     </td></tr>\n",
       "\t<tr><td>LFM360K.GB</td><td>46        </td><td>57        </td><td>282.964912</td><td>180.0     </td><td>16129     </td></tr>\n",
       "\t<tr><td>LFM360K.GB</td><td>60        </td><td>43        </td><td>248.139535</td><td>198.0     </td><td>10670     </td></tr>\n",
       "\t<tr><td>⋮</td><td>⋮</td><td>⋮</td><td>⋮</td><td>⋮</td><td>⋮</td></tr>\n",
       "\t<tr><td>LFM360K.GB</td><td>359275    </td><td>45        </td><td>840.6222  </td><td>769       </td><td>37828     </td></tr>\n",
       "\t<tr><td>LFM360K.GB</td><td>359311    </td><td>40        </td><td> 14.0000  </td><td> 12       </td><td>  560     </td></tr>\n",
       "\t<tr><td>LFM360K.GB</td><td>359312    </td><td>49        </td><td>141.4082  </td><td> 96       </td><td> 6929     </td></tr>\n",
       "\t<tr><td>LFM360K.GB</td><td>359321    </td><td>42        </td><td>239.0714  </td><td>140       </td><td>10041     </td></tr>\n",
       "\t<tr><td>LFM360K.GB</td><td>359347    </td><td>45        </td><td>148.2444  </td><td> 97       </td><td> 6671     </td></tr>\n",
       "</tbody>\n",
       "</table>\n"
      ],
      "text/latex": [
       "\\begin{tabular}{r|llllll}\n",
       " DataSet & user & nartists & meanPlays & medPlays & totalPlays\\\\\n",
       "\\hline\n",
       "\t LFM360K.GB &  1         & 44         & 352.772727 & 230.0      & 15522     \\\\\n",
       "\t LFM360K.GB &  9         & 44         &   5.090909 &   4.0      &   224     \\\\\n",
       "\t LFM360K.GB & 16         & 42         & 356.023810 & 319.5      & 14953     \\\\\n",
       "\t LFM360K.GB & 46         & 57         & 282.964912 & 180.0      & 16129     \\\\\n",
       "\t LFM360K.GB & 60         & 43         & 248.139535 & 198.0      & 10670     \\\\\n",
       "\t ⋮ & ⋮ & ⋮ & ⋮ & ⋮ & ⋮\\\\\n",
       "\t LFM360K.GB & 359275     & 45         & 840.6222   & 769        & 37828     \\\\\n",
       "\t LFM360K.GB & 359311     & 40         &  14.0000   &  12        &   560     \\\\\n",
       "\t LFM360K.GB & 359312     & 49         & 141.4082   &  96        &  6929     \\\\\n",
       "\t LFM360K.GB & 359321     & 42         & 239.0714   & 140        & 10041     \\\\\n",
       "\t LFM360K.GB & 359347     & 45         & 148.2444   &  97        &  6671     \\\\\n",
       "\\end{tabular}\n"
      ],
      "text/markdown": [
       "\n",
       "DataSet | user | nartists | meanPlays | medPlays | totalPlays | \n",
       "|---|---|---|---|---|---|---|---|---|---|---|\n",
       "| LFM360K.GB |  1         | 44         | 352.772727 | 230.0      | 15522      | \n",
       "| LFM360K.GB |  9         | 44         |   5.090909 |   4.0      |   224      | \n",
       "| LFM360K.GB | 16         | 42         | 356.023810 | 319.5      | 14953      | \n",
       "| LFM360K.GB | 46         | 57         | 282.964912 | 180.0      | 16129      | \n",
       "| LFM360K.GB | 60         | 43         | 248.139535 | 198.0      | 10670      | \n",
       "| ⋮ | ⋮ | ⋮ | ⋮ | ⋮ | ⋮ | \n",
       "| LFM360K.GB | 359275     | 45         | 840.6222   | 769        | 37828      | \n",
       "| LFM360K.GB | 359311     | 40         |  14.0000   |  12        |   560      | \n",
       "| LFM360K.GB | 359312     | 49         | 141.4082   |  96        |  6929      | \n",
       "| LFM360K.GB | 359321     | 42         | 239.0714   | 140        | 10041      | \n",
       "| LFM360K.GB | 359347     | 45         | 148.2444   |  97        |  6671      | \n",
       "\n",
       "\n"
      ],
      "text/plain": [
       "      DataSet    user   nartists meanPlays  medPlays totalPlays\n",
       "1     LFM360K.GB  1     44       352.772727 230.0    15522     \n",
       "2     LFM360K.GB  9     44         5.090909   4.0      224     \n",
       "3     LFM360K.GB 16     42       356.023810 319.5    14953     \n",
       "4     LFM360K.GB 46     57       282.964912 180.0    16129     \n",
       "5     LFM360K.GB 60     43       248.139535 198.0    10670     \n",
       "⋮     ⋮          ⋮      ⋮        ⋮          ⋮        ⋮         \n",
       "24996 LFM360K.GB 359275 45       840.6222   769      37828     \n",
       "24997 LFM360K.GB 359311 40        14.0000    12        560     \n",
       "24998 LFM360K.GB 359312 49       141.4082    96       6929     \n",
       "24999 LFM360K.GB 359321 42       239.0714   140      10041     \n",
       "25000 LFM360K.GB 359347 45       148.2444    97       6671     "
      ]
     },
     "metadata": {},
     "output_type": "display_data"
    }
   ],
   "source": [
    "user.stats = train.ratings %>%\n",
    "    group_by(DataSet, user) %>%\n",
    "    summarize(nartists = n(), meanPlays=mean(count), medPlays=median(count), totalPlays=sum(count))\n",
    "user.stats"
   ]
  },
  {
   "cell_type": "markdown",
   "metadata": {},
   "source": [
    "Join these statistics with our user metadata table, so that we have one table of user information:"
   ]
  },
  {
   "cell_type": "code",
   "execution_count": 29,
   "metadata": {},
   "outputs": [
    {
     "name": "stderr",
     "output_type": "stream",
     "text": [
      "Joining, by = c(\"DataSet\", \"user\")\n"
     ]
    },
    {
     "data": {
      "text/html": [
       "<table>\n",
       "<thead><tr><th scope=col>DataSet</th><th scope=col>user</th><th scope=col>gender</th><th scope=col>age</th><th scope=col>nartists</th><th scope=col>meanPlays</th><th scope=col>medPlays</th><th scope=col>totalPlays</th></tr></thead>\n",
       "<tbody>\n",
       "\t<tr><td>LFM360K.GB</td><td> 1        </td><td>F         </td><td>18        </td><td>44        </td><td>352.772727</td><td>230.0     </td><td>15522     </td></tr>\n",
       "\t<tr><td>LFM360K.GB</td><td> 9        </td><td>F         </td><td>18        </td><td>44        </td><td>  5.090909</td><td>  4.0     </td><td>  224     </td></tr>\n",
       "\t<tr><td>LFM360K.GB</td><td>16        </td><td>M         </td><td>18        </td><td>42        </td><td>356.023810</td><td>319.5     </td><td>14953     </td></tr>\n",
       "\t<tr><td>LFM360K.GB</td><td>46        </td><td>M         </td><td>NA        </td><td>57        </td><td>282.964912</td><td>180.0     </td><td>16129     </td></tr>\n",
       "\t<tr><td>LFM360K.GB</td><td>60        </td><td>F         </td><td>18        </td><td>43        </td><td>248.139535</td><td>198.0     </td><td>10670     </td></tr>\n",
       "\t<tr><td>⋮</td><td>⋮</td><td>⋮</td><td>⋮</td><td>⋮</td><td>⋮</td><td>⋮</td><td>⋮</td></tr>\n",
       "\t<tr><td>LFM360K.GB</td><td>359275    </td><td>F         </td><td>NA        </td><td>45        </td><td>840.6222  </td><td>769       </td><td>37828     </td></tr>\n",
       "\t<tr><td>LFM360K.GB</td><td>359311    </td><td>M         </td><td>35        </td><td>40        </td><td> 14.0000  </td><td> 12       </td><td>  560     </td></tr>\n",
       "\t<tr><td>LFM360K.GB</td><td>359312    </td><td>M         </td><td>18        </td><td>49        </td><td>141.4082  </td><td> 96       </td><td> 6929     </td></tr>\n",
       "\t<tr><td>LFM360K.GB</td><td>359321    </td><td>F         </td><td>25        </td><td>42        </td><td>239.0714  </td><td>140       </td><td>10041     </td></tr>\n",
       "\t<tr><td>LFM360K.GB</td><td>359347    </td><td>M         </td><td>18        </td><td>45        </td><td>148.2444  </td><td> 97       </td><td> 6671     </td></tr>\n",
       "</tbody>\n",
       "</table>\n"
      ],
      "text/latex": [
       "\\begin{tabular}{r|llllllll}\n",
       " DataSet & user & gender & age & nartists & meanPlays & medPlays & totalPlays\\\\\n",
       "\\hline\n",
       "\t LFM360K.GB &  1         & F          & 18         & 44         & 352.772727 & 230.0      & 15522     \\\\\n",
       "\t LFM360K.GB &  9         & F          & 18         & 44         &   5.090909 &   4.0      &   224     \\\\\n",
       "\t LFM360K.GB & 16         & M          & 18         & 42         & 356.023810 & 319.5      & 14953     \\\\\n",
       "\t LFM360K.GB & 46         & M          & NA         & 57         & 282.964912 & 180.0      & 16129     \\\\\n",
       "\t LFM360K.GB & 60         & F          & 18         & 43         & 248.139535 & 198.0      & 10670     \\\\\n",
       "\t ⋮ & ⋮ & ⋮ & ⋮ & ⋮ & ⋮ & ⋮ & ⋮\\\\\n",
       "\t LFM360K.GB & 359275     & F          & NA         & 45         & 840.6222   & 769        & 37828     \\\\\n",
       "\t LFM360K.GB & 359311     & M          & 35         & 40         &  14.0000   &  12        &   560     \\\\\n",
       "\t LFM360K.GB & 359312     & M          & 18         & 49         & 141.4082   &  96        &  6929     \\\\\n",
       "\t LFM360K.GB & 359321     & F          & 25         & 42         & 239.0714   & 140        & 10041     \\\\\n",
       "\t LFM360K.GB & 359347     & M          & 18         & 45         & 148.2444   &  97        &  6671     \\\\\n",
       "\\end{tabular}\n"
      ],
      "text/markdown": [
       "\n",
       "DataSet | user | gender | age | nartists | meanPlays | medPlays | totalPlays | \n",
       "|---|---|---|---|---|---|---|---|---|---|---|\n",
       "| LFM360K.GB |  1         | F          | 18         | 44         | 352.772727 | 230.0      | 15522      | \n",
       "| LFM360K.GB |  9         | F          | 18         | 44         |   5.090909 |   4.0      |   224      | \n",
       "| LFM360K.GB | 16         | M          | 18         | 42         | 356.023810 | 319.5      | 14953      | \n",
       "| LFM360K.GB | 46         | M          | NA         | 57         | 282.964912 | 180.0      | 16129      | \n",
       "| LFM360K.GB | 60         | F          | 18         | 43         | 248.139535 | 198.0      | 10670      | \n",
       "| ⋮ | ⋮ | ⋮ | ⋮ | ⋮ | ⋮ | ⋮ | ⋮ | \n",
       "| LFM360K.GB | 359275     | F          | NA         | 45         | 840.6222   | 769        | 37828      | \n",
       "| LFM360K.GB | 359311     | M          | 35         | 40         |  14.0000   |  12        |   560      | \n",
       "| LFM360K.GB | 359312     | M          | 18         | 49         | 141.4082   |  96        |  6929      | \n",
       "| LFM360K.GB | 359321     | F          | 25         | 42         | 239.0714   | 140        | 10041      | \n",
       "| LFM360K.GB | 359347     | M          | 18         | 45         | 148.2444   |  97        |  6671      | \n",
       "\n",
       "\n"
      ],
      "text/plain": [
       "      DataSet    user   gender age nartists meanPlays  medPlays totalPlays\n",
       "1     LFM360K.GB  1     F      18  44       352.772727 230.0    15522     \n",
       "2     LFM360K.GB  9     F      18  44         5.090909   4.0      224     \n",
       "3     LFM360K.GB 16     M      18  42       356.023810 319.5    14953     \n",
       "4     LFM360K.GB 46     M      NA  57       282.964912 180.0    16129     \n",
       "5     LFM360K.GB 60     F      18  43       248.139535 198.0    10670     \n",
       "⋮     ⋮          ⋮      ⋮      ⋮   ⋮        ⋮          ⋮        ⋮         \n",
       "24996 LFM360K.GB 359275 F      NA  45       840.6222   769      37828     \n",
       "24997 LFM360K.GB 359311 M      35  40        14.0000    12        560     \n",
       "24998 LFM360K.GB 359312 M      18  49       141.4082    96       6929     \n",
       "24999 LFM360K.GB 359321 F      25  42       239.0714   140      10041     \n",
       "25000 LFM360K.GB 359347 M      18  45       148.2444    97       6671     "
      ]
     },
     "metadata": {},
     "output_type": "display_data"
    }
   ],
   "source": [
    "users = users.meta %>% inner_join(user.stats)\n",
    "users"
   ]
  },
  {
   "cell_type": "markdown",
   "metadata": {},
   "source": [
    "Now that we have user information, we can read the per-user recommender evaluation results."
   ]
  },
  {
   "cell_type": "code",
   "execution_count": 30,
   "metadata": {},
   "outputs": [
    {
     "name": "stderr",
     "output_type": "stream",
     "text": [
      "Parsed with column specification:\n",
      "cols(\n",
      "  .default = col_double(),\n",
      "  DataSet = col_character(),\n",
      "  Partition = col_integer(),\n",
      "  Algorithm = col_character(),\n",
      "  User = col_integer(),\n",
      "  L100.Rank = col_integer(),\n",
      "  L10K.Rank = col_integer(),\n",
      "  Rank = col_integer()\n",
      ")\n",
      "See spec(...) for full column specifications.\n"
     ]
    },
    {
     "data": {
      "text/plain": [
       "      nDCG           RecipRank            AvgPrec     \n",
       " Min.   :0.00000   Min.   :0.0000000   Min.   :0.00   \n",
       " 1st Qu.:0.07805   1st Qu.:0.0000537   1st Qu.:0.00   \n",
       " Median :0.10319   Median :0.0008757   Median :0.00   \n",
       " Mean   :0.13623   Mean   :0.0965536   Mean   :0.04   \n",
       " 3rd Qu.:0.16402   3rd Qu.:0.0322581   3rd Qu.:0.03   \n",
       " Max.   :0.99713   Max.   :1.0000000   Max.   :1.00   \n",
       "                                       NA's   :50000  "
      ]
     },
     "metadata": {},
     "output_type": "display_data"
    }
   ],
   "source": [
    "user.results.360k = read_csv(\"build/lastfm-balanced-user-results.csv\", guess_max=10000) %>%\n",
    "    rename(user=User) %>%\n",
    "    mutate(DataSet = \"LFM360K.GB\")\n",
    "user.results.360k %>% select(nDCG, RecipRank, AvgPrec) %>% summary()"
   ]
  },
  {
   "cell_type": "code",
   "execution_count": 31,
   "metadata": {},
   "outputs": [
    {
     "name": "stderr",
     "output_type": "stream",
     "text": [
      "Joining, by = c(\"DataSet\", \"user\")\n"
     ]
    },
    {
     "data": {
      "text/html": [
       "<table>\n",
       "<thead><tr><th scope=col>DataSet</th><th scope=col>Partition</th><th scope=col>Algorithm</th><th scope=col>user</th><th scope=col>TestTime</th><th scope=col>Rank.nDCG</th><th scope=col>L100.Rank</th><th scope=col>L100.RecipRank</th><th scope=col>L100.nDCG</th><th scope=col>L100.AvgPrec</th><th scope=col>⋯</th><th scope=col>Rank</th><th scope=col>RecipRank</th><th scope=col>nDCG</th><th scope=col>AvgPrec</th><th scope=col>gender</th><th scope=col>age</th><th scope=col>nartists</th><th scope=col>meanPlays</th><th scope=col>medPlays</th><th scope=col>totalPlays</th></tr></thead>\n",
       "<tbody>\n",
       "\t<tr><td>LFM360K.GB</td><td>5         </td><td>UU-B      </td><td>241257    </td><td>2.946     </td><td>0         </td><td>NA        </td><td>0         </td><td>0         </td><td>NA        </td><td>⋯         </td><td>NA        </td><td>0         </td><td>0         </td><td>NA        </td><td>F         </td><td>18        </td><td>47        </td><td>272.89362 </td><td>171       </td><td>12826     </td></tr>\n",
       "\t<tr><td>LFM360K.GB</td><td>4         </td><td>UU-C      </td><td>236288    </td><td>3.003     </td><td>0         </td><td>NA        </td><td>0         </td><td>0         </td><td>NA        </td><td>⋯         </td><td>NA        </td><td>0         </td><td>0         </td><td>NA        </td><td>M         </td><td>18        </td><td>39        </td><td> 27.10256 </td><td> 15       </td><td> 1057     </td></tr>\n",
       "\t<tr><td>LFM360K.GB</td><td>3         </td><td>UU-C      </td><td>238351    </td><td>3.015     </td><td>0         </td><td>NA        </td><td>0         </td><td>0         </td><td>NA        </td><td>⋯         </td><td>NA        </td><td>0         </td><td>0         </td><td>NA        </td><td>M         </td><td>18        </td><td>47        </td><td> 23.51064 </td><td> 14       </td><td> 1105     </td></tr>\n",
       "\t<tr><td>LFM360K.GB</td><td>5         </td><td>UU-C      </td><td>241257    </td><td>3.030     </td><td>0         </td><td>NA        </td><td>0         </td><td>0         </td><td>NA        </td><td>⋯         </td><td>NA        </td><td>0         </td><td>0         </td><td>NA        </td><td>F         </td><td>18        </td><td>47        </td><td>272.89362 </td><td>171       </td><td>12826     </td></tr>\n",
       "\t<tr><td>LFM360K.GB</td><td>3         </td><td>UU-B      </td><td>238351    </td><td>3.053     </td><td>0         </td><td>NA        </td><td>0         </td><td>0         </td><td>NA        </td><td>⋯         </td><td>NA        </td><td>0         </td><td>0         </td><td>NA        </td><td>M         </td><td>18        </td><td>47        </td><td> 23.51064 </td><td> 14       </td><td> 1105     </td></tr>\n",
       "\t<tr><td>⋮</td><td>⋮</td><td>⋮</td><td>⋮</td><td>⋮</td><td>⋮</td><td>⋮</td><td>⋮</td><td>⋮</td><td>⋮</td><td>⋱</td><td>⋮</td><td>⋮</td><td>⋮</td><td>⋮</td><td>⋮</td><td>⋮</td><td>⋮</td><td>⋮</td><td>⋮</td><td>⋮</td></tr>\n",
       "\t<tr><td>LFM360K.GB</td><td>1         </td><td>II-B      </td><td> 2454     </td><td>0.878     </td><td>0.9786268 </td><td> 1        </td><td>1.0000000 </td><td>0.46868978</td><td>0.40211640</td><td>⋯         </td><td> 1        </td><td>1.0000000 </td><td>0.5184497 </td><td>0.24517077</td><td>M         </td><td>18        </td><td>54        </td><td>118.98148 </td><td> 88.5     </td><td> 6425     </td></tr>\n",
       "\t<tr><td>LFM360K.GB</td><td>1         </td><td>II-B      </td><td>44667     </td><td>0.833     </td><td>0.7707650 </td><td> 3        </td><td>0.3333333 </td><td>0.23238157</td><td>0.20693976</td><td>⋯         </td><td> 3        </td><td>0.3333333 </td><td>0.2888432 </td><td>0.16810283</td><td>M         </td><td>18        </td><td>58        </td><td>151.27586 </td><td>131.5     </td><td> 8774     </td></tr>\n",
       "\t<tr><td>LFM360K.GB</td><td>1         </td><td>II-B      </td><td>35706     </td><td>0.808     </td><td>0.6387630 </td><td>10        </td><td>0.1000000 </td><td>0.04326819</td><td>0.06315789</td><td>⋯         </td><td>10        </td><td>0.1000000 </td><td>0.1510542 </td><td>0.03651757</td><td>M         </td><td>18        </td><td>42        </td><td> 99.16667 </td><td> 32.5     </td><td> 4165     </td></tr>\n",
       "\t<tr><td>LFM360K.GB</td><td>1         </td><td>II-B      </td><td>11621     </td><td>0.812     </td><td>0.9861884 </td><td> 1        </td><td>1.0000000 </td><td>0.48606784</td><td>0.32137083</td><td>⋯         </td><td> 1        </td><td>1.0000000 </td><td>0.5055259 </td><td>0.25811086</td><td>F         </td><td>18        </td><td>43        </td><td>612.16279 </td><td>427.0     </td><td>26323     </td></tr>\n",
       "\t<tr><td>LFM360K.GB</td><td>1         </td><td>II-B      </td><td>44698     </td><td>0.726     </td><td>0.8214894 </td><td> 7        </td><td>0.1428571 </td><td>0.13763436</td><td>0.08392857</td><td>⋯         </td><td> 7        </td><td>0.1428571 </td><td>0.2168469 </td><td>0.05517179</td><td>F         </td><td>25        </td><td>36        </td><td> 77.16667 </td><td> 40.0     </td><td> 2778     </td></tr>\n",
       "</tbody>\n",
       "</table>\n"
      ],
      "text/latex": [
       "\\begin{tabular}{r|llllllllllllllllllllllllll}\n",
       " DataSet & Partition & Algorithm & user & TestTime & Rank.nDCG & L100.Rank & L100.RecipRank & L100.nDCG & L100.AvgPrec & ⋯ & Rank & RecipRank & nDCG & AvgPrec & gender & age & nartists & meanPlays & medPlays & totalPlays\\\\\n",
       "\\hline\n",
       "\t LFM360K.GB & 5          & UU-B       & 241257     & 2.946      & 0          & NA         & 0          & 0          & NA         & ⋯          & NA         & 0          & 0          & NA         & F          & 18         & 47         & 272.89362  & 171        & 12826     \\\\\n",
       "\t LFM360K.GB & 4          & UU-C       & 236288     & 3.003      & 0          & NA         & 0          & 0          & NA         & ⋯          & NA         & 0          & 0          & NA         & M          & 18         & 39         &  27.10256  &  15        &  1057     \\\\\n",
       "\t LFM360K.GB & 3          & UU-C       & 238351     & 3.015      & 0          & NA         & 0          & 0          & NA         & ⋯          & NA         & 0          & 0          & NA         & M          & 18         & 47         &  23.51064  &  14        &  1105     \\\\\n",
       "\t LFM360K.GB & 5          & UU-C       & 241257     & 3.030      & 0          & NA         & 0          & 0          & NA         & ⋯          & NA         & 0          & 0          & NA         & F          & 18         & 47         & 272.89362  & 171        & 12826     \\\\\n",
       "\t LFM360K.GB & 3          & UU-B       & 238351     & 3.053      & 0          & NA         & 0          & 0          & NA         & ⋯          & NA         & 0          & 0          & NA         & M          & 18         & 47         &  23.51064  &  14        &  1105     \\\\\n",
       "\t ⋮ & ⋮ & ⋮ & ⋮ & ⋮ & ⋮ & ⋮ & ⋮ & ⋮ & ⋮ & ⋱ & ⋮ & ⋮ & ⋮ & ⋮ & ⋮ & ⋮ & ⋮ & ⋮ & ⋮ & ⋮\\\\\n",
       "\t LFM360K.GB & 1          & II-B       &  2454      & 0.878      & 0.9786268  &  1         & 1.0000000  & 0.46868978 & 0.40211640 & ⋯          &  1         & 1.0000000  & 0.5184497  & 0.24517077 & M          & 18         & 54         & 118.98148  &  88.5      &  6425     \\\\\n",
       "\t LFM360K.GB & 1          & II-B       & 44667      & 0.833      & 0.7707650  &  3         & 0.3333333  & 0.23238157 & 0.20693976 & ⋯          &  3         & 0.3333333  & 0.2888432  & 0.16810283 & M          & 18         & 58         & 151.27586  & 131.5      &  8774     \\\\\n",
       "\t LFM360K.GB & 1          & II-B       & 35706      & 0.808      & 0.6387630  & 10         & 0.1000000  & 0.04326819 & 0.06315789 & ⋯          & 10         & 0.1000000  & 0.1510542  & 0.03651757 & M          & 18         & 42         &  99.16667  &  32.5      &  4165     \\\\\n",
       "\t LFM360K.GB & 1          & II-B       & 11621      & 0.812      & 0.9861884  &  1         & 1.0000000  & 0.48606784 & 0.32137083 & ⋯          &  1         & 1.0000000  & 0.5055259  & 0.25811086 & F          & 18         & 43         & 612.16279  & 427.0      & 26323     \\\\\n",
       "\t LFM360K.GB & 1          & II-B       & 44698      & 0.726      & 0.8214894  &  7         & 0.1428571  & 0.13763436 & 0.08392857 & ⋯          &  7         & 0.1428571  & 0.2168469  & 0.05517179 & F          & 25         & 36         &  77.16667  &  40.0      &  2778     \\\\\n",
       "\\end{tabular}\n"
      ],
      "text/markdown": [
       "\n",
       "DataSet | Partition | Algorithm | user | TestTime | Rank.nDCG | L100.Rank | L100.RecipRank | L100.nDCG | L100.AvgPrec | ⋯ | Rank | RecipRank | nDCG | AvgPrec | gender | age | nartists | meanPlays | medPlays | totalPlays | \n",
       "|---|---|---|---|---|---|---|---|---|---|---|\n",
       "| LFM360K.GB | 5          | UU-B       | 241257     | 2.946      | 0          | NA         | 0          | 0          | NA         | ⋯          | NA         | 0          | 0          | NA         | F          | 18         | 47         | 272.89362  | 171        | 12826      | \n",
       "| LFM360K.GB | 4          | UU-C       | 236288     | 3.003      | 0          | NA         | 0          | 0          | NA         | ⋯          | NA         | 0          | 0          | NA         | M          | 18         | 39         |  27.10256  |  15        |  1057      | \n",
       "| LFM360K.GB | 3          | UU-C       | 238351     | 3.015      | 0          | NA         | 0          | 0          | NA         | ⋯          | NA         | 0          | 0          | NA         | M          | 18         | 47         |  23.51064  |  14        |  1105      | \n",
       "| LFM360K.GB | 5          | UU-C       | 241257     | 3.030      | 0          | NA         | 0          | 0          | NA         | ⋯          | NA         | 0          | 0          | NA         | F          | 18         | 47         | 272.89362  | 171        | 12826      | \n",
       "| LFM360K.GB | 3          | UU-B       | 238351     | 3.053      | 0          | NA         | 0          | 0          | NA         | ⋯          | NA         | 0          | 0          | NA         | M          | 18         | 47         |  23.51064  |  14        |  1105      | \n",
       "| ⋮ | ⋮ | ⋮ | ⋮ | ⋮ | ⋮ | ⋮ | ⋮ | ⋮ | ⋮ | ⋱ | ⋮ | ⋮ | ⋮ | ⋮ | ⋮ | ⋮ | ⋮ | ⋮ | ⋮ | ⋮ | \n",
       "| LFM360K.GB | 1          | II-B       |  2454      | 0.878      | 0.9786268  |  1         | 1.0000000  | 0.46868978 | 0.40211640 | ⋯          |  1         | 1.0000000  | 0.5184497  | 0.24517077 | M          | 18         | 54         | 118.98148  |  88.5      |  6425      | \n",
       "| LFM360K.GB | 1          | II-B       | 44667      | 0.833      | 0.7707650  |  3         | 0.3333333  | 0.23238157 | 0.20693976 | ⋯          |  3         | 0.3333333  | 0.2888432  | 0.16810283 | M          | 18         | 58         | 151.27586  | 131.5      |  8774      | \n",
       "| LFM360K.GB | 1          | II-B       | 35706      | 0.808      | 0.6387630  | 10         | 0.1000000  | 0.04326819 | 0.06315789 | ⋯          | 10         | 0.1000000  | 0.1510542  | 0.03651757 | M          | 18         | 42         |  99.16667  |  32.5      |  4165      | \n",
       "| LFM360K.GB | 1          | II-B       | 11621      | 0.812      | 0.9861884  |  1         | 1.0000000  | 0.48606784 | 0.32137083 | ⋯          |  1         | 1.0000000  | 0.5055259  | 0.25811086 | F          | 18         | 43         | 612.16279  | 427.0      | 26323      | \n",
       "| LFM360K.GB | 1          | II-B       | 44698      | 0.726      | 0.8214894  |  7         | 0.1428571  | 0.13763436 | 0.08392857 | ⋯          |  7         | 0.1428571  | 0.2168469  | 0.05517179 | F          | 25         | 36         |  77.16667  |  40.0      |  2778      | \n",
       "\n",
       "\n"
      ],
      "text/plain": [
       "       DataSet    Partition Algorithm user   TestTime Rank.nDCG L100.Rank\n",
       "1      LFM360K.GB 5         UU-B      241257 2.946    0         NA       \n",
       "2      LFM360K.GB 4         UU-C      236288 3.003    0         NA       \n",
       "3      LFM360K.GB 3         UU-C      238351 3.015    0         NA       \n",
       "4      LFM360K.GB 5         UU-C      241257 3.030    0         NA       \n",
       "5      LFM360K.GB 3         UU-B      238351 3.053    0         NA       \n",
       "⋮      ⋮          ⋮         ⋮         ⋮      ⋮        ⋮         ⋮        \n",
       "224996 LFM360K.GB 1         II-B       2454  0.878    0.9786268  1       \n",
       "224997 LFM360K.GB 1         II-B      44667  0.833    0.7707650  3       \n",
       "224998 LFM360K.GB 1         II-B      35706  0.808    0.6387630 10       \n",
       "224999 LFM360K.GB 1         II-B      11621  0.812    0.9861884  1       \n",
       "225000 LFM360K.GB 1         II-B      44698  0.726    0.8214894  7       \n",
       "       L100.RecipRank L100.nDCG  L100.AvgPrec ⋯ Rank RecipRank nDCG     \n",
       "1      0              0          NA           ⋯ NA   0         0        \n",
       "2      0              0          NA           ⋯ NA   0         0        \n",
       "3      0              0          NA           ⋯ NA   0         0        \n",
       "4      0              0          NA           ⋯ NA   0         0        \n",
       "5      0              0          NA           ⋯ NA   0         0        \n",
       "⋮      ⋮              ⋮          ⋮            ⋱ ⋮    ⋮         ⋮        \n",
       "224996 1.0000000      0.46868978 0.40211640   ⋯  1   1.0000000 0.5184497\n",
       "224997 0.3333333      0.23238157 0.20693976   ⋯  3   0.3333333 0.2888432\n",
       "224998 0.1000000      0.04326819 0.06315789   ⋯ 10   0.1000000 0.1510542\n",
       "224999 1.0000000      0.48606784 0.32137083   ⋯  1   1.0000000 0.5055259\n",
       "225000 0.1428571      0.13763436 0.08392857   ⋯  7   0.1428571 0.2168469\n",
       "       AvgPrec    gender age nartists meanPlays medPlays totalPlays\n",
       "1      NA         F      18  47       272.89362 171      12826     \n",
       "2      NA         M      18  39        27.10256  15       1057     \n",
       "3      NA         M      18  47        23.51064  14       1105     \n",
       "4      NA         F      18  47       272.89362 171      12826     \n",
       "5      NA         M      18  47        23.51064  14       1105     \n",
       "⋮      ⋮          ⋮      ⋮   ⋮        ⋮         ⋮        ⋮         \n",
       "224996 0.24517077 M      18  54       118.98148  88.5     6425     \n",
       "224997 0.16810283 M      18  58       151.27586 131.5     8774     \n",
       "224998 0.03651757 M      18  42        99.16667  32.5     4165     \n",
       "224999 0.25811086 F      18  43       612.16279 427.0    26323     \n",
       "225000 0.05517179 F      25  36        77.16667  40.0     2778     "
      ]
     },
     "metadata": {},
     "output_type": "display_data"
    }
   ],
   "source": [
    "user.results = user.results.360k %>%\n",
    "    mutate(DataSet=as.factor(DataSet),\n",
    "           Algorithm=as.factor(Algorithm)) %>%\n",
    "    inner_join(users)\n",
    "user.results"
   ]
  },
  {
   "cell_type": "code",
   "execution_count": 38,
   "metadata": {
    "collapsed": true
   },
   "outputs": [],
   "source": [
    "write_csv(user.results, \"build/lfm-integrated-user-results.csv\")"
   ]
  },
  {
   "cell_type": "markdown",
   "metadata": {},
   "source": [
    "## Gender"
   ]
  },
  {
   "cell_type": "markdown",
   "metadata": {},
   "source": [
    "Let's analyze accuracy by gender."
   ]
  },
  {
   "cell_type": "code",
   "execution_count": 32,
   "metadata": {},
   "outputs": [
    {
     "data": {
      "text/html": [
       "<table>\n",
       "<thead><tr><th scope=col>DataSet</th><th scope=col>Algorithm</th><th scope=col>gender</th><th scope=col>Metric</th><th scope=col>value</th></tr></thead>\n",
       "<tbody>\n",
       "\t<tr><td>LFM360K.GB</td><td>II-B      </td><td>F         </td><td>MAP       </td><td>0.1065419 </td></tr>\n",
       "\t<tr><td>LFM360K.GB</td><td>II-B      </td><td>F         </td><td>MRR       </td><td>0.2940326 </td></tr>\n",
       "\t<tr><td>LFM360K.GB</td><td>II-B      </td><td>F         </td><td>nDCG      </td><td>0.2952459 </td></tr>\n",
       "\t<tr><td>LFM360K.GB</td><td>II-B      </td><td>F         </td><td>Rank.nDCG </td><td>0.8908668 </td></tr>\n",
       "\t<tr><td>LFM360K.GB</td><td>II-B      </td><td>M         </td><td>MAP       </td><td>0.1088798 </td></tr>\n",
       "\t<tr><td>⋮</td><td>⋮</td><td>⋮</td><td>⋮</td><td>⋮</td></tr>\n",
       "\t<tr><td>LFM360K.GB</td><td>UU-C      </td><td>F         </td><td>Rank.nDCG </td><td> 0        </td></tr>\n",
       "\t<tr><td>LFM360K.GB</td><td>UU-C      </td><td>M         </td><td>MAP       </td><td>NA        </td></tr>\n",
       "\t<tr><td>LFM360K.GB</td><td>UU-C      </td><td>M         </td><td>MRR       </td><td> 0        </td></tr>\n",
       "\t<tr><td>LFM360K.GB</td><td>UU-C      </td><td>M         </td><td>nDCG      </td><td> 0        </td></tr>\n",
       "\t<tr><td>LFM360K.GB</td><td>UU-C      </td><td>M         </td><td>Rank.nDCG </td><td> 0        </td></tr>\n",
       "</tbody>\n",
       "</table>\n"
      ],
      "text/latex": [
       "\\begin{tabular}{r|lllll}\n",
       " DataSet & Algorithm & gender & Metric & value\\\\\n",
       "\\hline\n",
       "\t LFM360K.GB & II-B       & F          & MAP        & 0.1065419 \\\\\n",
       "\t LFM360K.GB & II-B       & F          & MRR        & 0.2940326 \\\\\n",
       "\t LFM360K.GB & II-B       & F          & nDCG       & 0.2952459 \\\\\n",
       "\t LFM360K.GB & II-B       & F          & Rank.nDCG  & 0.8908668 \\\\\n",
       "\t LFM360K.GB & II-B       & M          & MAP        & 0.1088798 \\\\\n",
       "\t ⋮ & ⋮ & ⋮ & ⋮ & ⋮\\\\\n",
       "\t LFM360K.GB & UU-C       & F          & Rank.nDCG  &  0        \\\\\n",
       "\t LFM360K.GB & UU-C       & M          & MAP        & NA        \\\\\n",
       "\t LFM360K.GB & UU-C       & M          & MRR        &  0        \\\\\n",
       "\t LFM360K.GB & UU-C       & M          & nDCG       &  0        \\\\\n",
       "\t LFM360K.GB & UU-C       & M          & Rank.nDCG  &  0        \\\\\n",
       "\\end{tabular}\n"
      ],
      "text/markdown": [
       "\n",
       "DataSet | Algorithm | gender | Metric | value | \n",
       "|---|---|---|---|---|---|---|---|---|---|---|\n",
       "| LFM360K.GB | II-B       | F          | MAP        | 0.1065419  | \n",
       "| LFM360K.GB | II-B       | F          | MRR        | 0.2940326  | \n",
       "| LFM360K.GB | II-B       | F          | nDCG       | 0.2952459  | \n",
       "| LFM360K.GB | II-B       | F          | Rank.nDCG  | 0.8908668  | \n",
       "| LFM360K.GB | II-B       | M          | MAP        | 0.1088798  | \n",
       "| ⋮ | ⋮ | ⋮ | ⋮ | ⋮ | \n",
       "| LFM360K.GB | UU-C       | F          | Rank.nDCG  |  0         | \n",
       "| LFM360K.GB | UU-C       | M          | MAP        | NA         | \n",
       "| LFM360K.GB | UU-C       | M          | MRR        |  0         | \n",
       "| LFM360K.GB | UU-C       | M          | nDCG       |  0         | \n",
       "| LFM360K.GB | UU-C       | M          | Rank.nDCG  |  0         | \n",
       "\n",
       "\n"
      ],
      "text/plain": [
       "   DataSet    Algorithm gender Metric    value    \n",
       "1  LFM360K.GB II-B      F      MAP       0.1065419\n",
       "2  LFM360K.GB II-B      F      MRR       0.2940326\n",
       "3  LFM360K.GB II-B      F      nDCG      0.2952459\n",
       "4  LFM360K.GB II-B      F      Rank.nDCG 0.8908668\n",
       "5  LFM360K.GB II-B      M      MAP       0.1088798\n",
       "⋮  ⋮          ⋮         ⋮      ⋮         ⋮        \n",
       "68 LFM360K.GB UU-C      F      Rank.nDCG  0       \n",
       "69 LFM360K.GB UU-C      M      MAP       NA       \n",
       "70 LFM360K.GB UU-C      M      MRR        0       \n",
       "71 LFM360K.GB UU-C      M      nDCG       0       \n",
       "72 LFM360K.GB UU-C      M      Rank.nDCG  0       "
      ]
     },
     "metadata": {},
     "output_type": "display_data"
    }
   ],
   "source": [
    "gender.results = user.results %>%\n",
    "    select(DataSet, Algorithm, gender, MAP=AvgPrec, MRR=RecipRank, nDCG, Rank.nDCG) %>%\n",
    "    gather(\"Metric\", \"value\", -DataSet, -Algorithm, -gender) %>%\n",
    "    group_by(DataSet, Algorithm, gender, Metric) %>%\n",
    "    summarize(value=mean(value)) %>%\n",
    "    ungroup() %>%\n",
    "    mutate(gender=ifelse(is.na(gender), \"?\", as.character(gender)))\n",
    "gender.results"
   ]
  },
  {
   "cell_type": "code",
   "execution_count": 33,
   "metadata": {},
   "outputs": [
    {
     "data": {
      "text/html": [
       "<table>\n",
       "<thead><tr><th scope=col>DataSet</th><th scope=col>Algorithm</th><th scope=col>gender</th><th scope=col>Metric</th><th scope=col>value</th></tr></thead>\n",
       "<tbody>\n",
       "\t<tr><td>LFM360K.GB</td><td>II-B      </td><td>F         </td><td>MAP       </td><td>0.1065419 </td></tr>\n",
       "\t<tr><td>LFM360K.GB</td><td>II-B      </td><td>F         </td><td>MRR       </td><td>0.2940326 </td></tr>\n",
       "\t<tr><td>LFM360K.GB</td><td>II-B      </td><td>F         </td><td>nDCG      </td><td>0.2952459 </td></tr>\n",
       "\t<tr><td>LFM360K.GB</td><td>II-B      </td><td>F         </td><td>Rank.nDCG </td><td>0.8908668 </td></tr>\n",
       "\t<tr><td>LFM360K.GB</td><td>II-B      </td><td>M         </td><td>MAP       </td><td>0.1088798 </td></tr>\n",
       "\t<tr><td>LFM360K.GB</td><td>II-B      </td><td>M         </td><td>MRR       </td><td>0.3016779 </td></tr>\n",
       "</tbody>\n",
       "</table>\n"
      ],
      "text/latex": [
       "\\begin{tabular}{r|lllll}\n",
       " DataSet & Algorithm & gender & Metric & value\\\\\n",
       "\\hline\n",
       "\t LFM360K.GB & II-B       & F          & MAP        & 0.1065419 \\\\\n",
       "\t LFM360K.GB & II-B       & F          & MRR        & 0.2940326 \\\\\n",
       "\t LFM360K.GB & II-B       & F          & nDCG       & 0.2952459 \\\\\n",
       "\t LFM360K.GB & II-B       & F          & Rank.nDCG  & 0.8908668 \\\\\n",
       "\t LFM360K.GB & II-B       & M          & MAP        & 0.1088798 \\\\\n",
       "\t LFM360K.GB & II-B       & M          & MRR        & 0.3016779 \\\\\n",
       "\\end{tabular}\n"
      ],
      "text/markdown": [
       "\n",
       "DataSet | Algorithm | gender | Metric | value | \n",
       "|---|---|---|---|---|---|\n",
       "| LFM360K.GB | II-B       | F          | MAP        | 0.1065419  | \n",
       "| LFM360K.GB | II-B       | F          | MRR        | 0.2940326  | \n",
       "| LFM360K.GB | II-B       | F          | nDCG       | 0.2952459  | \n",
       "| LFM360K.GB | II-B       | F          | Rank.nDCG  | 0.8908668  | \n",
       "| LFM360K.GB | II-B       | M          | MAP        | 0.1088798  | \n",
       "| LFM360K.GB | II-B       | M          | MRR        | 0.3016779  | \n",
       "\n",
       "\n"
      ],
      "text/plain": [
       "  DataSet    Algorithm gender Metric    value    \n",
       "1 LFM360K.GB II-B      F      MAP       0.1065419\n",
       "2 LFM360K.GB II-B      F      MRR       0.2940326\n",
       "3 LFM360K.GB II-B      F      nDCG      0.2952459\n",
       "4 LFM360K.GB II-B      F      Rank.nDCG 0.8908668\n",
       "5 LFM360K.GB II-B      M      MAP       0.1088798\n",
       "6 LFM360K.GB II-B      M      MRR       0.3016779"
      ]
     },
     "metadata": {},
     "output_type": "display_data"
    }
   ],
   "source": [
    "overall.results = user.results %>%\n",
    "    select(DataSet, Algorithm, MAP=AvgPrec, MRR=RecipRank, nDCG, Rank.nDCG) %>%\n",
    "    gather(\"Metric\", \"value\", -DataSet, -Algorithm) %>%\n",
    "    group_by(DataSet, Algorithm, Metric) %>%\n",
    "    summarize(value=mean(value)) %>%\n",
    "    ungroup() %>%\n",
    "    mutate(gender = 'Any')\n",
    "combined.results = rbind(gender.results, overall.results) %>%\n",
    "    mutate(gender=factor(gender, levels=c(\"F\", \"M\", \"?\", \"Any\"), ordered=TRUE))\n",
    "head(combined.results)"
   ]
  },
  {
   "cell_type": "code",
   "execution_count": 34,
   "metadata": {},
   "outputs": [
    {
     "name": "stderr",
     "output_type": "stream",
     "text": [
      "Warning message:\n",
      "“Removed 6 rows containing missing values (geom_bar).”"
     ]
    },
    {
     "data": {},
     "metadata": {},
     "output_type": "display_data"
    },
    {
     "data": {
      "image/png": "[encoded data removed]",
      "text/plain": [
       "plot without title"
      ]
     },
     "metadata": {},
     "output_type": "display_data"
    }
   ],
   "source": [
    "ggplot(combined.results) +\n",
    "    aes(x=gender, y=value, fill=Algorithm) +\n",
    "    geom_bar(stat=\"identity\", position=\"dodge\") +\n",
    "    facet_grid(Metric ~ DataSet, scales=\"free\")"
   ]
  },
  {
   "cell_type": "code",
   "execution_count": 35,
   "metadata": {},
   "outputs": [
    {
     "data": {},
     "metadata": {},
     "output_type": "display_data"
    },
    {
     "data": {
      "image/png": "[encoded data removed]",
      "text/plain": [
       "plot without title"
      ]
     },
     "metadata": {},
     "output_type": "display_data"
    }
   ],
   "source": [
    "make.plot(\"lastfm-gender-ndcg\", width=5, height=3, {\n",
    "    ggplot(combined.results %>% filter(Metric == \"nDCG\")) +\n",
    "        aes(x=Algorithm, y=value) +\n",
    "        geom_bar(stat=\"identity\") +\n",
    "        geom_text(mapping=aes(label=sprintf(\"%.03f\", value),\n",
    "                              hjust=ifelse(value > 0.025, 1.1, -0.05),\n",
    "                              color=ifelse(value > 0.025, \"white\", \"black\")),\n",
    "                  size=2, vjust=0.5, angle=90) +\n",
    "        scale_color_identity() +\n",
    "        facet_grid(DataSet ~ gender, scales=\"free_y\") +\n",
    "        theme_bw() +\n",
    "        theme(axis.text.x = element_text(angle = 90, hjust = 1, vjust=0.5)) +\n",
    "        ylab(\"nDCG\")\n",
    "})"
   ]
  },
  {
   "cell_type": "code",
   "execution_count": 36,
   "metadata": {},
   "outputs": [
    {
     "data": {},
     "metadata": {},
     "output_type": "display_data"
    },
    {
     "data": {
      "image/png": "[encoded data removed]",
      "text/plain": [
       "plot without title"
      ]
     },
     "metadata": {},
     "output_type": "display_data"
    }
   ],
   "source": [
    "make.plot(\"lastfm-gender-mrr\", width=5, height=3, {\n",
    "    ggplot(combined.results %>% filter(Metric == \"MRR\")) +\n",
    "        aes(x=Algorithm, y=value) +\n",
    "        geom_bar(stat=\"identity\") +\n",
    "        geom_text(mapping=aes(label=sprintf(\"%.03f\", value),\n",
    "                              hjust=ifelse(value > 0.025, 1.1, -0.05),\n",
    "                              color=ifelse(value > 0.025, \"white\", \"black\")),\n",
    "                  size=2, vjust=0.5, angle=90) +\n",
    "        scale_color_identity() +\n",
    "        facet_grid(DataSet ~ gender, scales=\"free_y\") +\n",
    "        theme_bw() +\n",
    "        theme(axis.text.x = element_text(angle = 90, hjust = 1, vjust=0.5)) +\n",
    "        ylab(\"MRR\")\n",
    "})"
   ]
  },
  {
   "cell_type": "markdown",
   "metadata": {
    "collapsed": true
   },
   "source": [
    "## Age\n",
    "\n",
    "Now we wish to do the same thing by age."
   ]
  },
  {
   "cell_type": "code",
   "execution_count": 37,
   "metadata": {},
   "outputs": [
    {
     "data": {
      "text/html": [
       "<table>\n",
       "<thead><tr><th scope=col>DataSet</th><th scope=col>Algorithm</th><th scope=col>age</th><th scope=col>Metric</th><th scope=col>value</th></tr></thead>\n",
       "<tbody>\n",
       "\t<tr><td>LFM360K.GB</td><td>II-B      </td><td>1         </td><td>MAP       </td><td>0.1263378 </td></tr>\n",
       "\t<tr><td>LFM360K.GB</td><td>II-B      </td><td>1         </td><td>MRR       </td><td>0.3401224 </td></tr>\n",
       "\t<tr><td>LFM360K.GB</td><td>II-B      </td><td>1         </td><td>nDCG      </td><td>0.3209175 </td></tr>\n",
       "\t<tr><td>LFM360K.GB</td><td>II-B      </td><td>1         </td><td>Rank.nDCG </td><td>0.8858405 </td></tr>\n",
       "\t<tr><td>LFM360K.GB</td><td>II-B      </td><td>18        </td><td>MAP       </td><td>0.1076804 </td></tr>\n",
       "\t<tr><td>⋮</td><td>⋮</td><td>⋮</td><td>⋮</td><td>⋮</td></tr>\n",
       "\t<tr><td>LFM360K.GB</td><td>UU-C      </td><td>56        </td><td>Rank.nDCG </td><td> 0        </td></tr>\n",
       "\t<tr><td>LFM360K.GB</td><td>UU-C      </td><td>NA        </td><td>MAP       </td><td>NA        </td></tr>\n",
       "\t<tr><td>LFM360K.GB</td><td>UU-C      </td><td>NA        </td><td>MRR       </td><td> 0        </td></tr>\n",
       "\t<tr><td>LFM360K.GB</td><td>UU-C      </td><td>NA        </td><td>nDCG      </td><td> 0        </td></tr>\n",
       "\t<tr><td>LFM360K.GB</td><td>UU-C      </td><td>NA        </td><td>Rank.nDCG </td><td> 0        </td></tr>\n",
       "</tbody>\n",
       "</table>\n"
      ],
      "text/latex": [
       "\\begin{tabular}{r|lllll}\n",
       " DataSet & Algorithm & age & Metric & value\\\\\n",
       "\\hline\n",
       "\t LFM360K.GB & II-B       & 1          & MAP        & 0.1263378 \\\\\n",
       "\t LFM360K.GB & II-B       & 1          & MRR        & 0.3401224 \\\\\n",
       "\t LFM360K.GB & II-B       & 1          & nDCG       & 0.3209175 \\\\\n",
       "\t LFM360K.GB & II-B       & 1          & Rank.nDCG  & 0.8858405 \\\\\n",
       "\t LFM360K.GB & II-B       & 18         & MAP        & 0.1076804 \\\\\n",
       "\t ⋮ & ⋮ & ⋮ & ⋮ & ⋮\\\\\n",
       "\t LFM360K.GB & UU-C       & 56         & Rank.nDCG  &  0        \\\\\n",
       "\t LFM360K.GB & UU-C       & NA         & MAP        & NA        \\\\\n",
       "\t LFM360K.GB & UU-C       & NA         & MRR        &  0        \\\\\n",
       "\t LFM360K.GB & UU-C       & NA         & nDCG       &  0        \\\\\n",
       "\t LFM360K.GB & UU-C       & NA         & Rank.nDCG  &  0        \\\\\n",
       "\\end{tabular}\n"
      ],
      "text/markdown": [
       "\n",
       "DataSet | Algorithm | age | Metric | value | \n",
       "|---|---|---|---|---|---|---|---|---|---|---|\n",
       "| LFM360K.GB | II-B       | 1          | MAP        | 0.1263378  | \n",
       "| LFM360K.GB | II-B       | 1          | MRR        | 0.3401224  | \n",
       "| LFM360K.GB | II-B       | 1          | nDCG       | 0.3209175  | \n",
       "| LFM360K.GB | II-B       | 1          | Rank.nDCG  | 0.8858405  | \n",
       "| LFM360K.GB | II-B       | 18         | MAP        | 0.1076804  | \n",
       "| ⋮ | ⋮ | ⋮ | ⋮ | ⋮ | \n",
       "| LFM360K.GB | UU-C       | 56         | Rank.nDCG  |  0         | \n",
       "| LFM360K.GB | UU-C       | NA         | MAP        | NA         | \n",
       "| LFM360K.GB | UU-C       | NA         | MRR        |  0         | \n",
       "| LFM360K.GB | UU-C       | NA         | nDCG       |  0         | \n",
       "| LFM360K.GB | UU-C       | NA         | Rank.nDCG  |  0         | \n",
       "\n",
       "\n"
      ],
      "text/plain": [
       "    DataSet    Algorithm age Metric    value    \n",
       "1   LFM360K.GB II-B      1   MAP       0.1263378\n",
       "2   LFM360K.GB II-B      1   MRR       0.3401224\n",
       "3   LFM360K.GB II-B      1   nDCG      0.3209175\n",
       "4   LFM360K.GB II-B      1   Rank.nDCG 0.8858405\n",
       "5   LFM360K.GB II-B      18  MAP       0.1076804\n",
       "⋮   ⋮          ⋮         ⋮   ⋮         ⋮        \n",
       "284 LFM360K.GB UU-C      56  Rank.nDCG  0       \n",
       "285 LFM360K.GB UU-C      NA  MAP       NA       \n",
       "286 LFM360K.GB UU-C      NA  MRR        0       \n",
       "287 LFM360K.GB UU-C      NA  nDCG       0       \n",
       "288 LFM360K.GB UU-C      NA  Rank.nDCG  0       "
      ]
     },
     "metadata": {},
     "output_type": "display_data"
    }
   ],
   "source": [
    "age.results = user.results %>%\n",
    "    select(DataSet, Algorithm, age, MAP=AvgPrec, MRR=RecipRank, nDCG, Rank.nDCG) %>%\n",
    "    gather(\"Metric\", \"value\", MAP, MRR, nDCG, Rank.nDCG) %>%\n",
    "    group_by(DataSet, Algorithm, age, Metric) %>%\n",
    "    summarize(value=mean(value)) %>%\n",
    "    ungroup()\n",
    "age.results"
   ]
  },
  {
   "cell_type": "code",
   "execution_count": 40,
   "metadata": {},
   "outputs": [
    {
     "data": {
      "text/html": [
       "<table>\n",
       "<thead><tr><th scope=col>DataSet</th><th scope=col>Algorithm</th><th scope=col>age</th><th scope=col>Metric</th><th scope=col>value</th></tr></thead>\n",
       "<tbody>\n",
       "\t<tr><td>LFM360K.GB</td><td>II-B      </td><td>1         </td><td>MAP       </td><td>0.1263378 </td></tr>\n",
       "\t<tr><td>LFM360K.GB</td><td>II-B      </td><td>1         </td><td>MRR       </td><td>0.3401224 </td></tr>\n",
       "\t<tr><td>LFM360K.GB</td><td>II-B      </td><td>1         </td><td>nDCG      </td><td>0.3209175 </td></tr>\n",
       "\t<tr><td>LFM360K.GB</td><td>II-B      </td><td>1         </td><td>Rank.nDCG </td><td>0.8858405 </td></tr>\n",
       "\t<tr><td>LFM360K.GB</td><td>II-B      </td><td>18        </td><td>MAP       </td><td>0.1076804 </td></tr>\n",
       "\t<tr><td>LFM360K.GB</td><td>II-B      </td><td>18        </td><td>MRR       </td><td>0.2979325 </td></tr>\n",
       "</tbody>\n",
       "</table>\n"
      ],
      "text/latex": [
       "\\begin{tabular}{r|lllll}\n",
       " DataSet & Algorithm & age & Metric & value\\\\\n",
       "\\hline\n",
       "\t LFM360K.GB & II-B       & 1          & MAP        & 0.1263378 \\\\\n",
       "\t LFM360K.GB & II-B       & 1          & MRR        & 0.3401224 \\\\\n",
       "\t LFM360K.GB & II-B       & 1          & nDCG       & 0.3209175 \\\\\n",
       "\t LFM360K.GB & II-B       & 1          & Rank.nDCG  & 0.8858405 \\\\\n",
       "\t LFM360K.GB & II-B       & 18         & MAP        & 0.1076804 \\\\\n",
       "\t LFM360K.GB & II-B       & 18         & MRR        & 0.2979325 \\\\\n",
       "\\end{tabular}\n"
      ],
      "text/markdown": [
       "\n",
       "DataSet | Algorithm | age | Metric | value | \n",
       "|---|---|---|---|---|---|\n",
       "| LFM360K.GB | II-B       | 1          | MAP        | 0.1263378  | \n",
       "| LFM360K.GB | II-B       | 1          | MRR        | 0.3401224  | \n",
       "| LFM360K.GB | II-B       | 1          | nDCG       | 0.3209175  | \n",
       "| LFM360K.GB | II-B       | 1          | Rank.nDCG  | 0.8858405  | \n",
       "| LFM360K.GB | II-B       | 18         | MAP        | 0.1076804  | \n",
       "| LFM360K.GB | II-B       | 18         | MRR        | 0.2979325  | \n",
       "\n",
       "\n"
      ],
      "text/plain": [
       "  DataSet    Algorithm age Metric    value    \n",
       "1 LFM360K.GB II-B      1   MAP       0.1263378\n",
       "2 LFM360K.GB II-B      1   MRR       0.3401224\n",
       "3 LFM360K.GB II-B      1   nDCG      0.3209175\n",
       "4 LFM360K.GB II-B      1   Rank.nDCG 0.8858405\n",
       "5 LFM360K.GB II-B      18  MAP       0.1076804\n",
       "6 LFM360K.GB II-B      18  MRR       0.2979325"
      ]
     },
     "metadata": {},
     "output_type": "display_data"
    }
   ],
   "source": [
    "overall.results = user.results %>%\n",
    "    select(DataSet, Algorithm, MAP=AvgPrec, MRR=RecipRank, nDCG, Rank.nDCG) %>%\n",
    "    gather(\"Metric\", \"value\", MAP, MRR, nDCG, Rank.nDCG) %>%\n",
    "    group_by(DataSet, Algorithm, Metric) %>%\n",
    "    summarize(value=mean(value)) %>%\n",
    "    ungroup() %>%\n",
    "    mutate(age = 'Any')\n",
    "age.combined.results = rbind(age.results, overall.results) %>%\n",
    "    filter(DataSet == \"LFM360K.GB\")\n",
    "head(age.combined.results)"
   ]
  },
  {
   "cell_type": "code",
   "execution_count": 41,
   "metadata": {},
   "outputs": [
    {
     "name": "stderr",
     "output_type": "stream",
     "text": [
      "Warning message:\n",
      "“Removed 18 rows containing missing values (geom_bar).”"
     ]
    },
    {
     "data": {},
     "metadata": {},
     "output_type": "display_data"
    },
    {
     "data": {
      "image/png": "[encoded data removed]",
      "text/plain": [
       "plot without title"
      ]
     },
     "metadata": {},
     "output_type": "display_data"
    }
   ],
   "source": [
    "ggplot(age.combined.results) +\n",
    "    aes(x=age, y=value, fill=Algorithm) +\n",
    "    geom_bar(stat=\"identity\", position=\"dodge\") +\n",
    "    facet_wrap(~ Metric, scales=\"free\")"
   ]
  },
  {
   "cell_type": "code",
   "execution_count": null,
   "metadata": {
    "collapsed": true
   },
   "outputs": [],
   "source": []
  }
 ],
 "metadata": {
  "kernelspec": {
   "display_name": "R",
   "language": "R",
   "name": "ir"
  },
  "language_info": {
   "codemirror_mode": "r",
   "file_extension": ".r",
   "mimetype": "text/x-r-source",
   "name": "R",
   "pygments_lexer": "r",
   "version": "3.3.2"
  }
 },
 "nbformat": 4,
 "nbformat_minor": 2
}
