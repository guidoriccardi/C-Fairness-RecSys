{
 "cells": [
  {
   "cell_type": "markdown",
   "metadata": {},
   "source": [
    "# Output Analysis\n",
    "\n",
    "This notebook contains the basic result analysis.\n",
    "\n",
    "Before running this notebook, run `preload-train-ratings-balanced.R` to prepare intermediate data files."
   ]
  },
  {
   "cell_type": "markdown",
   "metadata": {},
   "source": [
    "## Setup\n",
    "\n",
    "Libraries:"
   ]
  },
  {
   "cell_type": "code",
   "execution_count": 1,
   "metadata": {},
   "outputs": [
    {
     "name": "stderr",
     "output_type": "stream",
     "text": [
      "\n",
      "Attaching package: ‘dplyr’\n",
      "\n",
      "The following object is masked from ‘package:MASS’:\n",
      "\n",
      "    select\n",
      "\n",
      "The following objects are masked from ‘package:stats’:\n",
      "\n",
      "    filter, lag\n",
      "\n",
      "The following objects are masked from ‘package:base’:\n",
      "\n",
      "    intersect, setdiff, setequal, union\n",
      "\n"
     ]
    }
   ],
   "source": [
    "library(MASS)\n",
    "library(dplyr)\n",
    "library(readr)\n",
    "library(ggplot2)\n",
    "library(tidyr)\n",
    "library(modelr)\n",
    "library(tibble)"
   ]
  },
  {
   "cell_type": "markdown",
   "metadata": {},
   "source": [
    "Options:"
   ]
  },
  {
   "cell_type": "code",
   "execution_count": 2,
   "metadata": {
    "collapsed": true
   },
   "outputs": [],
   "source": [
    "options(repr.plot.height=5)\n",
    "options(repr.matrix.max.rows=10)\n",
    "options(repr.matrix.max.columns=10)"
   ]
  },
  {
   "cell_type": "markdown",
   "metadata": {},
   "source": [
    "Utilities:"
   ]
  },
  {
   "cell_type": "code",
   "execution_count": 3,
   "metadata": {
    "collapsed": true
   },
   "outputs": [],
   "source": [
    "source(\"plot-tools.R\")"
   ]
  },
  {
   "cell_type": "markdown",
   "metadata": {},
   "source": [
    "### Demographic Utilities"
   ]
  },
  {
   "cell_type": "markdown",
   "metadata": {},
   "source": [
    "We need to be able to normalize ages."
   ]
  },
  {
   "cell_type": "code",
   "execution_count": 4,
   "metadata": {
    "collapsed": true
   },
   "outputs": [],
   "source": [
    "ml_age_bins = c(\"1\"=\"1-17\", \"18\"=\"18-24\", \"25\"=\"25-34\", \"35\"=\"35-44\", \"45\"=\"45-49\", \"50\"=\"50-55\", \"56\"=\"56+\")\n",
    "ml_age_lbs = c(1, 18, 25, 35, 45, 50, 56)"
   ]
  },
  {
   "cell_type": "markdown",
   "metadata": {},
   "source": [
    "Function to bound numeric ages:"
   ]
  },
  {
   "cell_type": "code",
   "execution_count": 5,
   "metadata": {
    "collapsed": true
   },
   "outputs": [],
   "source": [
    "bound_ages = function(ages, bounds=ml_age_lbs) {\n",
    "    ages[ages <= 0] = NA\n",
    "    selectors = rowSums(outer(ages, ml_age_lbs, \">=\"))\n",
    "    factor(ml_age_bins[selectors], levels=ml_age_bins, ordered=TRUE)\n",
    "}"
   ]
  },
  {
   "cell_type": "markdown",
   "metadata": {},
   "source": [
    "Function to rename MovieLens age lower bounds:"
   ]
  },
  {
   "cell_type": "code",
   "execution_count": 6,
   "metadata": {
    "collapsed": true
   },
   "outputs": [],
   "source": [
    "rename_ages = function(ages) {\n",
    "    stopifnot(is.character(ages))\n",
    "    factor(ml_age_bins[ages], levels=ml_age_bins, ordered=TRUE)\n",
    "}"
   ]
  },
  {
   "cell_type": "markdown",
   "metadata": {},
   "source": [
    "## Read Data"
   ]
  },
  {
   "cell_type": "markdown",
   "metadata": {},
   "source": [
    "### User Data\n",
    "\n",
    "First, we need to read the user data from the underlying MovieLens data:\n",
    "\n",
    "user info can be same as unbalanced data."
   ]
  },
  {
   "cell_type": "code",
   "execution_count": 7,
   "metadata": {},
   "outputs": [
    {
     "data": {
      "text/html": [
       "<table>\n",
       "<thead><tr><th scope=col>user</th><th scope=col>gender</th><th scope=col>age</th><th scope=col>occupation</th><th scope=col>zip</th></tr></thead>\n",
       "<tbody>\n",
       "\t<tr><td>1    </td><td>F    </td><td>1-17 </td><td>10   </td><td>48067</td></tr>\n",
       "\t<tr><td>2    </td><td>M    </td><td>56+  </td><td>16   </td><td>70072</td></tr>\n",
       "\t<tr><td>3    </td><td>M    </td><td>25-34</td><td>15   </td><td>55117</td></tr>\n",
       "\t<tr><td>4    </td><td>M    </td><td>45-49</td><td>7    </td><td>02460</td></tr>\n",
       "\t<tr><td>5    </td><td>M    </td><td>25-34</td><td>20   </td><td>55455</td></tr>\n",
       "\t<tr><td>⋮</td><td>⋮</td><td>⋮</td><td>⋮</td><td>⋮</td></tr>\n",
       "\t<tr><td>6036 </td><td>F    </td><td>25-34</td><td>15   </td><td>32603</td></tr>\n",
       "\t<tr><td>6037 </td><td>F    </td><td>45-49</td><td>1    </td><td>76006</td></tr>\n",
       "\t<tr><td>6038 </td><td>F    </td><td>56+  </td><td>1    </td><td>14706</td></tr>\n",
       "\t<tr><td>6039 </td><td>F    </td><td>45-49</td><td>0    </td><td>01060</td></tr>\n",
       "\t<tr><td>6040 </td><td>M    </td><td>25-34</td><td>6    </td><td>11106</td></tr>\n",
       "</tbody>\n",
       "</table>\n"
      ],
      "text/latex": [
       "\\begin{tabular}{r|lllll}\n",
       " user & gender & age & occupation & zip\\\\\n",
       "\\hline\n",
       "\t 1     & F     & 1-17  & 10    & 48067\\\\\n",
       "\t 2     & M     & 56+   & 16    & 70072\\\\\n",
       "\t 3     & M     & 25-34 & 15    & 55117\\\\\n",
       "\t 4     & M     & 45-49 & 7     & 02460\\\\\n",
       "\t 5     & M     & 25-34 & 20    & 55455\\\\\n",
       "\t ⋮ & ⋮ & ⋮ & ⋮ & ⋮\\\\\n",
       "\t 6036  & F     & 25-34 & 15    & 32603\\\\\n",
       "\t 6037  & F     & 45-49 & 1     & 76006\\\\\n",
       "\t 6038  & F     & 56+   & 1     & 14706\\\\\n",
       "\t 6039  & F     & 45-49 & 0     & 01060\\\\\n",
       "\t 6040  & M     & 25-34 & 6     & 11106\\\\\n",
       "\\end{tabular}\n"
      ],
      "text/markdown": [
       "\n",
       "user | gender | age | occupation | zip | \n",
       "|---|---|---|---|---|---|---|---|---|---|---|\n",
       "| 1     | F     | 1-17  | 10    | 48067 | \n",
       "| 2     | M     | 56+   | 16    | 70072 | \n",
       "| 3     | M     | 25-34 | 15    | 55117 | \n",
       "| 4     | M     | 45-49 | 7     | 02460 | \n",
       "| 5     | M     | 25-34 | 20    | 55455 | \n",
       "| ⋮ | ⋮ | ⋮ | ⋮ | ⋮ | \n",
       "| 6036  | F     | 25-34 | 15    | 32603 | \n",
       "| 6037  | F     | 45-49 | 1     | 76006 | \n",
       "| 6038  | F     | 56+   | 1     | 14706 | \n",
       "| 6039  | F     | 45-49 | 0     | 01060 | \n",
       "| 6040  | M     | 25-34 | 6     | 11106 | \n",
       "\n",
       "\n"
      ],
      "text/plain": [
       "     user gender age   occupation zip  \n",
       "1    1    F      1-17  10         48067\n",
       "2    2    M      56+   16         70072\n",
       "3    3    M      25-34 15         55117\n",
       "4    4    M      45-49 7          02460\n",
       "5    5    M      25-34 20         55455\n",
       "⋮    ⋮    ⋮      ⋮     ⋮          ⋮    \n",
       "6036 6036 F      25-34 15         32603\n",
       "6037 6037 F      45-49 1          76006\n",
       "6038 6038 F      56+   1          14706\n",
       "6039 6039 F      45-49 0          01060\n",
       "6040 6040 M      25-34 6          11106"
      ]
     },
     "metadata": {},
     "output_type": "display_data"
    }
   ],
   "source": [
    "users.meta.ml = read_delim(\"data/ml-1m/users.dat\", delim=\":\",\n",
    "                   col_names=c(\"user\", \"gender\", \"age\", \"occupation\", \"zip\"),\n",
    "                   col_types=\"i_c_c_c_c\") %>%\n",
    "    mutate(gender=as.factor(gender),\n",
    "           age=rename_ages(age),\n",
    "           occupation=as.factor(occupation))\n",
    "users.meta.ml"
   ]
  },
  {
   "cell_type": "markdown",
   "metadata": {},
   "source": [
    "Do the same thing with Last.FM:"
   ]
  },
  {
   "cell_type": "code",
   "execution_count": 8,
   "metadata": {},
   "outputs": [
    {
     "name": "stderr",
     "output_type": "stream",
     "text": [
      "Parsed with column specification:\n",
      "cols(\n",
      "  id = col_integer(),\n",
      "  key = col_character(),\n",
      "  gender = col_character(),\n",
      "  age = col_integer()\n",
      ")\n"
     ]
    },
    {
     "data": {
      "text/html": [
       "<table>\n",
       "<thead><tr><th scope=col>user</th><th scope=col>gender</th><th scope=col>age</th></tr></thead>\n",
       "<tbody>\n",
       "\t<tr><td>1    </td><td>F    </td><td>18-24</td></tr>\n",
       "\t<tr><td>2    </td><td>F    </td><td>NA   </td></tr>\n",
       "\t<tr><td>3    </td><td>NA   </td><td>NA   </td></tr>\n",
       "\t<tr><td>4    </td><td>M    </td><td>18-24</td></tr>\n",
       "\t<tr><td>5    </td><td>M    </td><td>25-34</td></tr>\n",
       "\t<tr><td>⋮</td><td>⋮</td><td>⋮</td></tr>\n",
       "\t<tr><td>359343</td><td>M     </td><td>25-34 </td></tr>\n",
       "\t<tr><td>359344</td><td>M     </td><td>25-34 </td></tr>\n",
       "\t<tr><td>359345</td><td>M     </td><td>18-24 </td></tr>\n",
       "\t<tr><td>359346</td><td>M     </td><td>18-24 </td></tr>\n",
       "\t<tr><td>359347</td><td>M     </td><td>18-24 </td></tr>\n",
       "</tbody>\n",
       "</table>\n"
      ],
      "text/latex": [
       "\\begin{tabular}{r|lll}\n",
       " user & gender & age\\\\\n",
       "\\hline\n",
       "\t 1     & F     & 18-24\\\\\n",
       "\t 2     & F     & NA   \\\\\n",
       "\t 3     & NA    & NA   \\\\\n",
       "\t 4     & M     & 18-24\\\\\n",
       "\t 5     & M     & 25-34\\\\\n",
       "\t ⋮ & ⋮ & ⋮\\\\\n",
       "\t 359343 & M      & 25-34 \\\\\n",
       "\t 359344 & M      & 25-34 \\\\\n",
       "\t 359345 & M      & 18-24 \\\\\n",
       "\t 359346 & M      & 18-24 \\\\\n",
       "\t 359347 & M      & 18-24 \\\\\n",
       "\\end{tabular}\n"
      ],
      "text/markdown": [
       "\n",
       "user | gender | age | \n",
       "|---|---|---|---|---|---|---|---|---|---|---|\n",
       "| 1     | F     | 18-24 | \n",
       "| 2     | F     | NA    | \n",
       "| 3     | NA    | NA    | \n",
       "| 4     | M     | 18-24 | \n",
       "| 5     | M     | 25-34 | \n",
       "| ⋮ | ⋮ | ⋮ | \n",
       "| 359343 | M      | 25-34  | \n",
       "| 359344 | M      | 25-34  | \n",
       "| 359345 | M      | 18-24  | \n",
       "| 359346 | M      | 18-24  | \n",
       "| 359347 | M      | 18-24  | \n",
       "\n",
       "\n"
      ],
      "text/plain": [
       "       user   gender age  \n",
       "1      1      F      18-24\n",
       "2      2      F      NA   \n",
       "3      3      NA     NA   \n",
       "4      4      M      18-24\n",
       "5      5      M      25-34\n",
       "⋮      ⋮      ⋮      ⋮    \n",
       "359343 359343 M      25-34\n",
       "359344 359344 M      25-34\n",
       "359345 359345 M      18-24\n",
       "359346 359346 M      18-24\n",
       "359347 359347 M      18-24"
      ]
     },
     "metadata": {},
     "output_type": "display_data"
    }
   ],
   "source": [
    "users.meta.360k = read_csv(\"build/lastfm-users.csv\") %>%\n",
    "    mutate(gender=as.factor(toupper(gender)),\n",
    "           age=bound_ages(if_else(age > 0, age, as.integer(NA)))) %>%\n",
    "    select(user=id, gender, age)\n",
    "\n",
    "users.meta.360k"
   ]
  },
  {
   "cell_type": "markdown",
   "metadata": {},
   "source": [
    "Merge together the metadata."
   ]
  },
  {
   "cell_type": "code",
   "execution_count": 9,
   "metadata": {},
   "outputs": [
    {
     "data": {
      "text/html": [
       "<table>\n",
       "<thead><tr><th scope=col>DataSet</th><th scope=col>user</th><th scope=col>gender</th><th scope=col>age</th><th scope=col>occupation</th><th scope=col>zip</th></tr></thead>\n",
       "<tbody>\n",
       "\t<tr><td>ML1M.GB</td><td>1      </td><td>F      </td><td>1-17   </td><td>10     </td><td>48067  </td></tr>\n",
       "\t<tr><td>ML1M.GB</td><td>2      </td><td>M      </td><td>56+    </td><td>16     </td><td>70072  </td></tr>\n",
       "\t<tr><td>ML1M.GB</td><td>3      </td><td>M      </td><td>25-34  </td><td>15     </td><td>55117  </td></tr>\n",
       "\t<tr><td>ML1M.GB</td><td>4      </td><td>M      </td><td>45-49  </td><td>7      </td><td>02460  </td></tr>\n",
       "\t<tr><td>ML1M.GB</td><td>5      </td><td>M      </td><td>25-34  </td><td>20     </td><td>55455  </td></tr>\n",
       "\t<tr><td>⋮</td><td>⋮</td><td>⋮</td><td>⋮</td><td>⋮</td><td>⋮</td></tr>\n",
       "\t<tr><td>LFM360K.GB</td><td>359343    </td><td>M         </td><td>25-34     </td><td>NA        </td><td>NA        </td></tr>\n",
       "\t<tr><td>LFM360K.GB</td><td>359344    </td><td>M         </td><td>25-34     </td><td>NA        </td><td>NA        </td></tr>\n",
       "\t<tr><td>LFM360K.GB</td><td>359345    </td><td>M         </td><td>18-24     </td><td>NA        </td><td>NA        </td></tr>\n",
       "\t<tr><td>LFM360K.GB</td><td>359346    </td><td>M         </td><td>18-24     </td><td>NA        </td><td>NA        </td></tr>\n",
       "\t<tr><td>LFM360K.GB</td><td>359347    </td><td>M         </td><td>18-24     </td><td>NA        </td><td>NA        </td></tr>\n",
       "</tbody>\n",
       "</table>\n"
      ],
      "text/latex": [
       "\\begin{tabular}{r|llllll}\n",
       " DataSet & user & gender & age & occupation & zip\\\\\n",
       "\\hline\n",
       "\t ML1M.GB & 1       & F       & 1-17    & 10      & 48067  \\\\\n",
       "\t ML1M.GB & 2       & M       & 56+     & 16      & 70072  \\\\\n",
       "\t ML1M.GB & 3       & M       & 25-34   & 15      & 55117  \\\\\n",
       "\t ML1M.GB & 4       & M       & 45-49   & 7       & 02460  \\\\\n",
       "\t ML1M.GB & 5       & M       & 25-34   & 20      & 55455  \\\\\n",
       "\t ⋮ & ⋮ & ⋮ & ⋮ & ⋮ & ⋮\\\\\n",
       "\t LFM360K.GB & 359343     & M          & 25-34      & NA         & NA        \\\\\n",
       "\t LFM360K.GB & 359344     & M          & 25-34      & NA         & NA        \\\\\n",
       "\t LFM360K.GB & 359345     & M          & 18-24      & NA         & NA        \\\\\n",
       "\t LFM360K.GB & 359346     & M          & 18-24      & NA         & NA        \\\\\n",
       "\t LFM360K.GB & 359347     & M          & 18-24      & NA         & NA        \\\\\n",
       "\\end{tabular}\n"
      ],
      "text/markdown": [
       "\n",
       "DataSet | user | gender | age | occupation | zip | \n",
       "|---|---|---|---|---|---|---|---|---|---|---|\n",
       "| ML1M.GB | 1       | F       | 1-17    | 10      | 48067   | \n",
       "| ML1M.GB | 2       | M       | 56+     | 16      | 70072   | \n",
       "| ML1M.GB | 3       | M       | 25-34   | 15      | 55117   | \n",
       "| ML1M.GB | 4       | M       | 45-49   | 7       | 02460   | \n",
       "| ML1M.GB | 5       | M       | 25-34   | 20      | 55455   | \n",
       "| ⋮ | ⋮ | ⋮ | ⋮ | ⋮ | ⋮ | \n",
       "| LFM360K.GB | 359343     | M          | 25-34      | NA         | NA         | \n",
       "| LFM360K.GB | 359344     | M          | 25-34      | NA         | NA         | \n",
       "| LFM360K.GB | 359345     | M          | 18-24      | NA         | NA         | \n",
       "| LFM360K.GB | 359346     | M          | 18-24      | NA         | NA         | \n",
       "| LFM360K.GB | 359347     | M          | 18-24      | NA         | NA         | \n",
       "\n",
       "\n"
      ],
      "text/plain": [
       "       DataSet    user   gender age   occupation zip  \n",
       "1      ML1M.GB    1      F      1-17  10         48067\n",
       "2      ML1M.GB    2      M      56+   16         70072\n",
       "3      ML1M.GB    3      M      25-34 15         55117\n",
       "4      ML1M.GB    4      M      45-49 7          02460\n",
       "5      ML1M.GB    5      M      25-34 20         55455\n",
       "⋮      ⋮          ⋮      ⋮      ⋮     ⋮          ⋮    \n",
       "365383 LFM360K.GB 359343 M      25-34 NA         NA   \n",
       "365384 LFM360K.GB 359344 M      25-34 NA         NA   \n",
       "365385 LFM360K.GB 359345 M      18-24 NA         NA   \n",
       "365386 LFM360K.GB 359346 M      18-24 NA         NA   \n",
       "365387 LFM360K.GB 359347 M      18-24 NA         NA   "
      ]
     },
     "metadata": {},
     "output_type": "display_data"
    }
   ],
   "source": [
    "users.meta = \n",
    "    bind_rows(ML1M.GB=users.meta.ml,\n",
    "              LFM360K.GB=users.meta.360k,\n",
    "              .id=\"DataSet\")\n",
    "users.meta"
   ]
  },
  {
   "cell_type": "markdown",
   "metadata": {},
   "source": [
    "### User Profile Statistics"
   ]
  },
  {
   "cell_type": "markdown",
   "metadata": {},
   "source": [
    "Now, we want to get user profile statistics. In order to do that, we need each user's train profile; we can load that from the training data output by the cross-folding process.  The `preload-train-ratings.R` script pre-processes that data so we don't have to spend as much time doing it here.\n",
    "\n",
    "For each partition, we loaded the _train ratings_ (historical profile) for all the _test users_ in that partition. So we will load the test data (to get the users) and the train data (to get the histories), then merge them."
   ]
  },
  {
   "cell_type": "code",
   "execution_count": 10,
   "metadata": {},
   "outputs": [
    {
     "data": {
      "text/html": [
       "<table>\n",
       "<thead><tr><th scope=col>user</th><th scope=col>part</th><th scope=col>item</th><th scope=col>rating</th><th scope=col>timestamp</th></tr></thead>\n",
       "<tbody>\n",
       "\t<tr><td>4100     </td><td>1        </td><td>3082     </td><td>4        </td><td>965414364</td></tr>\n",
       "\t<tr><td>4100     </td><td>1        </td><td>3643     </td><td>4        </td><td>965414390</td></tr>\n",
       "\t<tr><td>4100     </td><td>1        </td><td>1587     </td><td>4        </td><td>965414364</td></tr>\n",
       "\t<tr><td>4100     </td><td>1        </td><td>2949     </td><td>4        </td><td>965414340</td></tr>\n",
       "\t<tr><td>4100     </td><td>1        </td><td>3763     </td><td>4        </td><td>965414073</td></tr>\n",
       "\t<tr><td>⋮</td><td>⋮</td><td>⋮</td><td>⋮</td><td>⋮</td></tr>\n",
       "\t<tr><td>4077     </td><td>5        </td><td>1391     </td><td>3        </td><td>965446817</td></tr>\n",
       "\t<tr><td>4077     </td><td>5        </td><td>2971     </td><td>5        </td><td>965449862</td></tr>\n",
       "\t<tr><td>4077     </td><td>5        </td><td>2006     </td><td>4        </td><td>965445356</td></tr>\n",
       "\t<tr><td>4077     </td><td>5        </td><td>2640     </td><td>5        </td><td>965444052</td></tr>\n",
       "\t<tr><td>4077     </td><td>5        </td><td>2717     </td><td>4        </td><td>965446752</td></tr>\n",
       "</tbody>\n",
       "</table>\n"
      ],
      "text/latex": [
       "\\begin{tabular}{r|lllll}\n",
       " user & part & item & rating & timestamp\\\\\n",
       "\\hline\n",
       "\t 4100      & 1         & 3082      & 4         & 965414364\\\\\n",
       "\t 4100      & 1         & 3643      & 4         & 965414390\\\\\n",
       "\t 4100      & 1         & 1587      & 4         & 965414364\\\\\n",
       "\t 4100      & 1         & 2949      & 4         & 965414340\\\\\n",
       "\t 4100      & 1         & 3763      & 4         & 965414073\\\\\n",
       "\t ⋮ & ⋮ & ⋮ & ⋮ & ⋮\\\\\n",
       "\t 4077      & 5         & 1391      & 3         & 965446817\\\\\n",
       "\t 4077      & 5         & 2971      & 5         & 965449862\\\\\n",
       "\t 4077      & 5         & 2006      & 4         & 965445356\\\\\n",
       "\t 4077      & 5         & 2640      & 5         & 965444052\\\\\n",
       "\t 4077      & 5         & 2717      & 4         & 965446752\\\\\n",
       "\\end{tabular}\n"
      ],
      "text/markdown": [
       "\n",
       "user | part | item | rating | timestamp | \n",
       "|---|---|---|---|---|---|---|---|---|---|---|\n",
       "| 4100      | 1         | 3082      | 4         | 965414364 | \n",
       "| 4100      | 1         | 3643      | 4         | 965414390 | \n",
       "| 4100      | 1         | 1587      | 4         | 965414364 | \n",
       "| 4100      | 1         | 2949      | 4         | 965414340 | \n",
       "| 4100      | 1         | 3763      | 4         | 965414073 | \n",
       "| ⋮ | ⋮ | ⋮ | ⋮ | ⋮ | \n",
       "| 4077      | 5         | 1391      | 3         | 965446817 | \n",
       "| 4077      | 5         | 2971      | 5         | 965449862 | \n",
       "| 4077      | 5         | 2006      | 4         | 965445356 | \n",
       "| 4077      | 5         | 2640      | 5         | 965444052 | \n",
       "| 4077      | 5         | 2717      | 4         | 965446752 | \n",
       "\n",
       "\n"
      ],
      "text/plain": [
       "       user part item rating timestamp\n",
       "1      4100 1    3082 4      965414364\n",
       "2      4100 1    3643 4      965414390\n",
       "3      4100 1    1587 4      965414364\n",
       "4      4100 1    2949 4      965414340\n",
       "5      4100 1    3763 4      965414073\n",
       "⋮      ⋮    ⋮    ⋮    ⋮      ⋮        \n",
       "450440 4077 5    1391 3      965446817\n",
       "450441 4077 5    2971 5      965449862\n",
       "450442 4077 5    2006 4      965445356\n",
       "450443 4077 5    2640 5      965444052\n",
       "450444 4077 5    2717 4      965446752"
      ]
     },
     "metadata": {},
     "output_type": "display_data"
    }
   ],
   "source": [
    "load(\"build/ml1m-train-balanced.Rdata\")\n",
    "ml1m.train.ratings"
   ]
  },
  {
   "cell_type": "code",
   "execution_count": 11,
   "metadata": {},
   "outputs": [
    {
     "data": {
      "text/html": [
       "<table>\n",
       "<thead><tr><th scope=col>user</th><th scope=col>part</th><th scope=col>item</th><th scope=col>count</th></tr></thead>\n",
       "<tbody>\n",
       "\t<tr><td>112429</td><td>1     </td><td> 2130 </td><td>491   </td></tr>\n",
       "\t<tr><td>112429</td><td>1     </td><td> 1277 </td><td>199   </td></tr>\n",
       "\t<tr><td>112429</td><td>1     </td><td> 7930 </td><td>196   </td></tr>\n",
       "\t<tr><td>112429</td><td>1     </td><td> 2256 </td><td>164   </td></tr>\n",
       "\t<tr><td>112429</td><td>1     </td><td>12770 </td><td>156   </td></tr>\n",
       "\t<tr><td>⋮</td><td>⋮</td><td>⋮</td><td>⋮</td></tr>\n",
       "\t<tr><td>279454</td><td>5     </td><td>1484  </td><td>26    </td></tr>\n",
       "\t<tr><td>279454</td><td>5     </td><td> 798  </td><td>26    </td></tr>\n",
       "\t<tr><td>279454</td><td>5     </td><td>2255  </td><td>25    </td></tr>\n",
       "\t<tr><td>279454</td><td>5     </td><td> 159  </td><td>25    </td></tr>\n",
       "\t<tr><td>279454</td><td>5     </td><td> 517  </td><td>25    </td></tr>\n",
       "</tbody>\n",
       "</table>\n"
      ],
      "text/latex": [
       "\\begin{tabular}{r|llll}\n",
       " user & part & item & count\\\\\n",
       "\\hline\n",
       "\t 112429 & 1      &  2130  & 491   \\\\\n",
       "\t 112429 & 1      &  1277  & 199   \\\\\n",
       "\t 112429 & 1      &  7930  & 196   \\\\\n",
       "\t 112429 & 1      &  2256  & 164   \\\\\n",
       "\t 112429 & 1      & 12770  & 156   \\\\\n",
       "\t ⋮ & ⋮ & ⋮ & ⋮\\\\\n",
       "\t 279454 & 5      & 1484   & 26    \\\\\n",
       "\t 279454 & 5      &  798   & 26    \\\\\n",
       "\t 279454 & 5      & 2255   & 25    \\\\\n",
       "\t 279454 & 5      &  159   & 25    \\\\\n",
       "\t 279454 & 5      &  517   & 25    \\\\\n",
       "\\end{tabular}\n"
      ],
      "text/markdown": [
       "\n",
       "user | part | item | count | \n",
       "|---|---|---|---|---|---|---|---|---|---|---|\n",
       "| 112429 | 1      |  2130  | 491    | \n",
       "| 112429 | 1      |  1277  | 199    | \n",
       "| 112429 | 1      |  7930  | 196    | \n",
       "| 112429 | 1      |  2256  | 164    | \n",
       "| 112429 | 1      | 12770  | 156    | \n",
       "| ⋮ | ⋮ | ⋮ | ⋮ | \n",
       "| 279454 | 5      | 1484   | 26     | \n",
       "| 279454 | 5      |  798   | 26     | \n",
       "| 279454 | 5      | 2255   | 25     | \n",
       "| 279454 | 5      |  159   | 25     | \n",
       "| 279454 | 5      |  517   | 25     | \n",
       "\n",
       "\n"
      ],
      "text/plain": [
       "        user   part item  count\n",
       "1       112429 1     2130 491  \n",
       "2       112429 1     1277 199  \n",
       "3       112429 1     7930 196  \n",
       "4       112429 1     2256 164  \n",
       "5       112429 1    12770 156  \n",
       "⋮       ⋮      ⋮    ⋮     ⋮    \n",
       "1093401 279454 5    1484  26   \n",
       "1093402 279454 5     798  26   \n",
       "1093403 279454 5    2255  25   \n",
       "1093404 279454 5     159  25   \n",
       "1093405 279454 5     517  25   "
      ]
     },
     "metadata": {},
     "output_type": "display_data"
    }
   ],
   "source": [
    "load(\"build/lfm360k-train-balanced.Rdata\")\n",
    "lfm360k.train.counts"
   ]
  },
  {
   "cell_type": "markdown",
   "metadata": {},
   "source": [
    "Now we want to compute per-user profile statistics."
   ]
  },
  {
   "cell_type": "code",
   "execution_count": 12,
   "metadata": {},
   "outputs": [
    {
     "data": {
      "text/html": [
       "<table>\n",
       "<thead><tr><th scope=col>user</th><th scope=col>nitems</th><th scope=col>meanRating</th><th scope=col>ratingVar</th></tr></thead>\n",
       "<tbody>\n",
       "\t<tr><td>1        </td><td> 48      </td><td>4.187500 </td><td>0.4534574</td></tr>\n",
       "\t<tr><td>4        </td><td> 16      </td><td>4.187500 </td><td>1.0958333</td></tr>\n",
       "\t<tr><td>5        </td><td>193      </td><td>3.124352 </td><td>1.2865393</td></tr>\n",
       "\t<tr><td>6        </td><td> 66      </td><td>3.909091 </td><td>0.6993007</td></tr>\n",
       "\t<tr><td>8        </td><td>134      </td><td>3.858209 </td><td>0.8594434</td></tr>\n",
       "\t<tr><td>⋮</td><td>⋮</td><td>⋮</td><td>⋮</td></tr>\n",
       "\t<tr><td>6031     </td><td> 46      </td><td>3.760870 </td><td>1.9637681</td></tr>\n",
       "\t<tr><td>6035     </td><td>275      </td><td>2.607273 </td><td>2.2904579</td></tr>\n",
       "\t<tr><td>6038     </td><td> 15      </td><td>3.866667 </td><td>0.8380952</td></tr>\n",
       "\t<tr><td>6039     </td><td>118      </td><td>3.889831 </td><td>0.5433145</td></tr>\n",
       "\t<tr><td>6040     </td><td>336      </td><td>3.592262 </td><td>1.3705668</td></tr>\n",
       "</tbody>\n",
       "</table>\n"
      ],
      "text/latex": [
       "\\begin{tabular}{r|llll}\n",
       " user & nitems & meanRating & ratingVar\\\\\n",
       "\\hline\n",
       "\t 1         &  48       & 4.187500  & 0.4534574\\\\\n",
       "\t 4         &  16       & 4.187500  & 1.0958333\\\\\n",
       "\t 5         & 193       & 3.124352  & 1.2865393\\\\\n",
       "\t 6         &  66       & 3.909091  & 0.6993007\\\\\n",
       "\t 8         & 134       & 3.858209  & 0.8594434\\\\\n",
       "\t ⋮ & ⋮ & ⋮ & ⋮\\\\\n",
       "\t 6031      &  46       & 3.760870  & 1.9637681\\\\\n",
       "\t 6035      & 275       & 2.607273  & 2.2904579\\\\\n",
       "\t 6038      &  15       & 3.866667  & 0.8380952\\\\\n",
       "\t 6039      & 118       & 3.889831  & 0.5433145\\\\\n",
       "\t 6040      & 336       & 3.592262  & 1.3705668\\\\\n",
       "\\end{tabular}\n"
      ],
      "text/markdown": [
       "\n",
       "user | nitems | meanRating | ratingVar | \n",
       "|---|---|---|---|---|---|---|---|---|---|---|\n",
       "| 1         |  48       | 4.187500  | 0.4534574 | \n",
       "| 4         |  16       | 4.187500  | 1.0958333 | \n",
       "| 5         | 193       | 3.124352  | 1.2865393 | \n",
       "| 6         |  66       | 3.909091  | 0.6993007 | \n",
       "| 8         | 134       | 3.858209  | 0.8594434 | \n",
       "| ⋮ | ⋮ | ⋮ | ⋮ | \n",
       "| 6031      |  46       | 3.760870  | 1.9637681 | \n",
       "| 6035      | 275       | 2.607273  | 2.2904579 | \n",
       "| 6038      |  15       | 3.866667  | 0.8380952 | \n",
       "| 6039      | 118       | 3.889831  | 0.5433145 | \n",
       "| 6040      | 336       | 3.592262  | 1.3705668 | \n",
       "\n",
       "\n"
      ],
      "text/plain": [
       "     user nitems meanRating ratingVar\n",
       "1    1     48    4.187500   0.4534574\n",
       "2    4     16    4.187500   1.0958333\n",
       "3    5    193    3.124352   1.2865393\n",
       "4    6     66    3.909091   0.6993007\n",
       "5    8    134    3.858209   0.8594434\n",
       "⋮    ⋮    ⋮      ⋮          ⋮        \n",
       "2996 6031  46    3.760870   1.9637681\n",
       "2997 6035 275    2.607273   2.2904579\n",
       "2998 6038  15    3.866667   0.8380952\n",
       "2999 6039 118    3.889831   0.5433145\n",
       "3000 6040 336    3.592262   1.3705668"
      ]
     },
     "metadata": {},
     "output_type": "display_data"
    }
   ],
   "source": [
    "ml.user.stats = ml1m.train.ratings %>%\n",
    "    group_by(user) %>%\n",
    "    summarize(nitems = n(), meanRating=mean(rating), ratingVar=var(rating))\n",
    "ml.user.stats"
   ]
  },
  {
   "cell_type": "code",
   "execution_count": 13,
   "metadata": {},
   "outputs": [
    {
     "data": {
      "text/html": [
       "<table>\n",
       "<thead><tr><th scope=col>user</th><th scope=col>nitems</th><th scope=col>medCount</th></tr></thead>\n",
       "<tbody>\n",
       "\t<tr><td> 1   </td><td>44   </td><td>230.0</td></tr>\n",
       "\t<tr><td> 9   </td><td>44   </td><td>  4.0</td></tr>\n",
       "\t<tr><td>16   </td><td>42   </td><td>319.5</td></tr>\n",
       "\t<tr><td>46   </td><td>57   </td><td>180.0</td></tr>\n",
       "\t<tr><td>60   </td><td>43   </td><td>198.0</td></tr>\n",
       "\t<tr><td>⋮</td><td>⋮</td><td>⋮</td></tr>\n",
       "\t<tr><td>359275</td><td>45    </td><td>769   </td></tr>\n",
       "\t<tr><td>359311</td><td>40    </td><td> 12   </td></tr>\n",
       "\t<tr><td>359312</td><td>49    </td><td> 96   </td></tr>\n",
       "\t<tr><td>359321</td><td>42    </td><td>140   </td></tr>\n",
       "\t<tr><td>359347</td><td>45    </td><td> 97   </td></tr>\n",
       "</tbody>\n",
       "</table>\n"
      ],
      "text/latex": [
       "\\begin{tabular}{r|lll}\n",
       " user & nitems & medCount\\\\\n",
       "\\hline\n",
       "\t  1    & 44    & 230.0\\\\\n",
       "\t  9    & 44    &   4.0\\\\\n",
       "\t 16    & 42    & 319.5\\\\\n",
       "\t 46    & 57    & 180.0\\\\\n",
       "\t 60    & 43    & 198.0\\\\\n",
       "\t ⋮ & ⋮ & ⋮\\\\\n",
       "\t 359275 & 45     & 769   \\\\\n",
       "\t 359311 & 40     &  12   \\\\\n",
       "\t 359312 & 49     &  96   \\\\\n",
       "\t 359321 & 42     & 140   \\\\\n",
       "\t 359347 & 45     &  97   \\\\\n",
       "\\end{tabular}\n"
      ],
      "text/markdown": [
       "\n",
       "user | nitems | medCount | \n",
       "|---|---|---|---|---|---|---|---|---|---|---|\n",
       "|  1    | 44    | 230.0 | \n",
       "|  9    | 44    |   4.0 | \n",
       "| 16    | 42    | 319.5 | \n",
       "| 46    | 57    | 180.0 | \n",
       "| 60    | 43    | 198.0 | \n",
       "| ⋮ | ⋮ | ⋮ | \n",
       "| 359275 | 45     | 769    | \n",
       "| 359311 | 40     |  12    | \n",
       "| 359312 | 49     |  96    | \n",
       "| 359321 | 42     | 140    | \n",
       "| 359347 | 45     |  97    | \n",
       "\n",
       "\n"
      ],
      "text/plain": [
       "      user   nitems medCount\n",
       "1      1     44     230.0   \n",
       "2      9     44       4.0   \n",
       "3     16     42     319.5   \n",
       "4     46     57     180.0   \n",
       "5     60     43     198.0   \n",
       "⋮     ⋮      ⋮      ⋮       \n",
       "24996 359275 45     769     \n",
       "24997 359311 40      12     \n",
       "24998 359312 49      96     \n",
       "24999 359321 42     140     \n",
       "25000 359347 45      97     "
      ]
     },
     "metadata": {},
     "output_type": "display_data"
    }
   ],
   "source": [
    "lfm360k.user.stats = lfm360k.train.counts %>%\n",
    "    group_by(user) %>%\n",
    "    summarize(nitems=n(), medCount=median(count))\n",
    "lfm360k.user.stats"
   ]
  },
  {
   "cell_type": "code",
   "execution_count": 14,
   "metadata": {},
   "outputs": [
    {
     "data": {
      "text/html": [
       "<table>\n",
       "<thead><tr><th scope=col>DataSet</th><th scope=col>user</th><th scope=col>nitems</th></tr></thead>\n",
       "<tbody>\n",
       "\t<tr><td>ML1M.GB</td><td>1      </td><td> 48    </td></tr>\n",
       "\t<tr><td>ML1M.GB</td><td>4      </td><td> 16    </td></tr>\n",
       "\t<tr><td>ML1M.GB</td><td>5      </td><td>193    </td></tr>\n",
       "\t<tr><td>ML1M.GB</td><td>6      </td><td> 66    </td></tr>\n",
       "\t<tr><td>ML1M.GB</td><td>8      </td><td>134    </td></tr>\n",
       "\t<tr><td>⋮</td><td>⋮</td><td>⋮</td></tr>\n",
       "\t<tr><td>LFM360K.GB</td><td>359275    </td><td>45        </td></tr>\n",
       "\t<tr><td>LFM360K.GB</td><td>359311    </td><td>40        </td></tr>\n",
       "\t<tr><td>LFM360K.GB</td><td>359312    </td><td>49        </td></tr>\n",
       "\t<tr><td>LFM360K.GB</td><td>359321    </td><td>42        </td></tr>\n",
       "\t<tr><td>LFM360K.GB</td><td>359347    </td><td>45        </td></tr>\n",
       "</tbody>\n",
       "</table>\n"
      ],
      "text/latex": [
       "\\begin{tabular}{r|lll}\n",
       " DataSet & user & nitems\\\\\n",
       "\\hline\n",
       "\t ML1M.GB & 1       &  48    \\\\\n",
       "\t ML1M.GB & 4       &  16    \\\\\n",
       "\t ML1M.GB & 5       & 193    \\\\\n",
       "\t ML1M.GB & 6       &  66    \\\\\n",
       "\t ML1M.GB & 8       & 134    \\\\\n",
       "\t ⋮ & ⋮ & ⋮\\\\\n",
       "\t LFM360K.GB & 359275     & 45        \\\\\n",
       "\t LFM360K.GB & 359311     & 40        \\\\\n",
       "\t LFM360K.GB & 359312     & 49        \\\\\n",
       "\t LFM360K.GB & 359321     & 42        \\\\\n",
       "\t LFM360K.GB & 359347     & 45        \\\\\n",
       "\\end{tabular}\n"
      ],
      "text/markdown": [
       "\n",
       "DataSet | user | nitems | \n",
       "|---|---|---|---|---|---|---|---|---|---|---|\n",
       "| ML1M.GB | 1       |  48     | \n",
       "| ML1M.GB | 4       |  16     | \n",
       "| ML1M.GB | 5       | 193     | \n",
       "| ML1M.GB | 6       |  66     | \n",
       "| ML1M.GB | 8       | 134     | \n",
       "| ⋮ | ⋮ | ⋮ | \n",
       "| LFM360K.GB | 359275     | 45         | \n",
       "| LFM360K.GB | 359311     | 40         | \n",
       "| LFM360K.GB | 359312     | 49         | \n",
       "| LFM360K.GB | 359321     | 42         | \n",
       "| LFM360K.GB | 359347     | 45         | \n",
       "\n",
       "\n"
      ],
      "text/plain": [
       "      DataSet    user   nitems\n",
       "1     ML1M.GB    1       48   \n",
       "2     ML1M.GB    4       16   \n",
       "3     ML1M.GB    5      193   \n",
       "4     ML1M.GB    6       66   \n",
       "5     ML1M.GB    8      134   \n",
       "⋮     ⋮          ⋮      ⋮     \n",
       "27996 LFM360K.GB 359275 45    \n",
       "27997 LFM360K.GB 359311 40    \n",
       "27998 LFM360K.GB 359312 49    \n",
       "27999 LFM360K.GB 359321 42    \n",
       "28000 LFM360K.GB 359347 45    "
      ]
     },
     "metadata": {},
     "output_type": "display_data"
    }
   ],
   "source": [
    "user.stats =\n",
    "    bind_rows(ML1M.GB=ml.user.stats,\n",
    "              LFM360K.GB=lfm360k.user.stats,\n",
    "              .id=\"DataSet\") %>%\n",
    "    select(DataSet, user, nitems)\n",
    "user.stats"
   ]
  },
  {
   "cell_type": "markdown",
   "metadata": {},
   "source": [
    "Join these statistics with our user metadata table, so that we have one table of user information:"
   ]
  },
  {
   "cell_type": "code",
   "execution_count": 15,
   "metadata": {},
   "outputs": [
    {
     "name": "stderr",
     "output_type": "stream",
     "text": [
      "Joining, by = c(\"DataSet\", \"user\")\n"
     ]
    },
    {
     "data": {
      "text/html": [
       "<table>\n",
       "<thead><tr><th scope=col>DataSet</th><th scope=col>user</th><th scope=col>gender</th><th scope=col>age</th><th scope=col>occupation</th><th scope=col>zip</th><th scope=col>nitems</th></tr></thead>\n",
       "<tbody>\n",
       "\t<tr><td>ML1M.GB</td><td>1      </td><td>F      </td><td>1-17   </td><td>10     </td><td>48067  </td><td> 48    </td></tr>\n",
       "\t<tr><td>ML1M.GB</td><td>4      </td><td>M      </td><td>45-49  </td><td>7      </td><td>02460  </td><td> 16    </td></tr>\n",
       "\t<tr><td>ML1M.GB</td><td>5      </td><td>M      </td><td>25-34  </td><td>20     </td><td>55455  </td><td>193    </td></tr>\n",
       "\t<tr><td>ML1M.GB</td><td>6      </td><td>F      </td><td>50-55  </td><td>9      </td><td>55117  </td><td> 66    </td></tr>\n",
       "\t<tr><td>ML1M.GB</td><td>8      </td><td>M      </td><td>25-34  </td><td>12     </td><td>11413  </td><td>134    </td></tr>\n",
       "\t<tr><td>⋮</td><td>⋮</td><td>⋮</td><td>⋮</td><td>⋮</td><td>⋮</td><td>⋮</td></tr>\n",
       "\t<tr><td>LFM360K.GB</td><td>359275    </td><td>F         </td><td>NA        </td><td>NA        </td><td>NA        </td><td>45        </td></tr>\n",
       "\t<tr><td>LFM360K.GB</td><td>359311    </td><td>M         </td><td>35-44     </td><td>NA        </td><td>NA        </td><td>40        </td></tr>\n",
       "\t<tr><td>LFM360K.GB</td><td>359312    </td><td>M         </td><td>18-24     </td><td>NA        </td><td>NA        </td><td>49        </td></tr>\n",
       "\t<tr><td>LFM360K.GB</td><td>359321    </td><td>F         </td><td>25-34     </td><td>NA        </td><td>NA        </td><td>42        </td></tr>\n",
       "\t<tr><td>LFM360K.GB</td><td>359347    </td><td>M         </td><td>18-24     </td><td>NA        </td><td>NA        </td><td>45        </td></tr>\n",
       "</tbody>\n",
       "</table>\n"
      ],
      "text/latex": [
       "\\begin{tabular}{r|lllllll}\n",
       " DataSet & user & gender & age & occupation & zip & nitems\\\\\n",
       "\\hline\n",
       "\t ML1M.GB & 1       & F       & 1-17    & 10      & 48067   &  48    \\\\\n",
       "\t ML1M.GB & 4       & M       & 45-49   & 7       & 02460   &  16    \\\\\n",
       "\t ML1M.GB & 5       & M       & 25-34   & 20      & 55455   & 193    \\\\\n",
       "\t ML1M.GB & 6       & F       & 50-55   & 9       & 55117   &  66    \\\\\n",
       "\t ML1M.GB & 8       & M       & 25-34   & 12      & 11413   & 134    \\\\\n",
       "\t ⋮ & ⋮ & ⋮ & ⋮ & ⋮ & ⋮ & ⋮\\\\\n",
       "\t LFM360K.GB & 359275     & F          & NA         & NA         & NA         & 45        \\\\\n",
       "\t LFM360K.GB & 359311     & M          & 35-44      & NA         & NA         & 40        \\\\\n",
       "\t LFM360K.GB & 359312     & M          & 18-24      & NA         & NA         & 49        \\\\\n",
       "\t LFM360K.GB & 359321     & F          & 25-34      & NA         & NA         & 42        \\\\\n",
       "\t LFM360K.GB & 359347     & M          & 18-24      & NA         & NA         & 45        \\\\\n",
       "\\end{tabular}\n"
      ],
      "text/markdown": [
       "\n",
       "DataSet | user | gender | age | occupation | zip | nitems | \n",
       "|---|---|---|---|---|---|---|---|---|---|---|\n",
       "| ML1M.GB | 1       | F       | 1-17    | 10      | 48067   |  48     | \n",
       "| ML1M.GB | 4       | M       | 45-49   | 7       | 02460   |  16     | \n",
       "| ML1M.GB | 5       | M       | 25-34   | 20      | 55455   | 193     | \n",
       "| ML1M.GB | 6       | F       | 50-55   | 9       | 55117   |  66     | \n",
       "| ML1M.GB | 8       | M       | 25-34   | 12      | 11413   | 134     | \n",
       "| ⋮ | ⋮ | ⋮ | ⋮ | ⋮ | ⋮ | ⋮ | \n",
       "| LFM360K.GB | 359275     | F          | NA         | NA         | NA         | 45         | \n",
       "| LFM360K.GB | 359311     | M          | 35-44      | NA         | NA         | 40         | \n",
       "| LFM360K.GB | 359312     | M          | 18-24      | NA         | NA         | 49         | \n",
       "| LFM360K.GB | 359321     | F          | 25-34      | NA         | NA         | 42         | \n",
       "| LFM360K.GB | 359347     | M          | 18-24      | NA         | NA         | 45         | \n",
       "\n",
       "\n"
      ],
      "text/plain": [
       "      DataSet    user   gender age   occupation zip   nitems\n",
       "1     ML1M.GB    1      F      1-17  10         48067  48   \n",
       "2     ML1M.GB    4      M      45-49 7          02460  16   \n",
       "3     ML1M.GB    5      M      25-34 20         55455 193   \n",
       "4     ML1M.GB    6      F      50-55 9          55117  66   \n",
       "5     ML1M.GB    8      M      25-34 12         11413 134   \n",
       "⋮     ⋮          ⋮      ⋮      ⋮     ⋮          ⋮     ⋮     \n",
       "27996 LFM360K.GB 359275 F      NA    NA         NA    45    \n",
       "27997 LFM360K.GB 359311 M      35-44 NA         NA    40    \n",
       "27998 LFM360K.GB 359312 M      18-24 NA         NA    49    \n",
       "27999 LFM360K.GB 359321 F      25-34 NA         NA    42    \n",
       "28000 LFM360K.GB 359347 M      18-24 NA         NA    45    "
      ]
     },
     "metadata": {},
     "output_type": "display_data"
    }
   ],
   "source": [
    "users = users.meta %>% inner_join(user.stats)\n",
    "users"
   ]
  },
  {
   "cell_type": "markdown",
   "metadata": {},
   "source": [
    "Now that we have user information, we can read the per-user recommender evaluation results."
   ]
  },
  {
   "cell_type": "code",
   "execution_count": 16,
   "metadata": {},
   "outputs": [
    {
     "name": "stderr",
     "output_type": "stream",
     "text": [
      "Parsed with column specification:\n",
      "cols(\n",
      "  .default = col_double(),\n",
      "  DataSet = col_character(),\n",
      "  Partition = col_integer(),\n",
      "  Algorithm = col_character(),\n",
      "  User = col_integer(),\n",
      "  L100.Rank = col_integer(),\n",
      "  Rank = col_integer(),\n",
      "  `1R.nDCG` = col_character(),\n",
      "  `1R.Rank` = col_character(),\n",
      "  `1R.RecipRank` = col_character(),\n",
      "  `1R.AvgPrec` = col_character()\n",
      ")\n",
      "See spec(...) for full column specifications.\n"
     ]
    },
    {
     "data": {
      "text/html": [
       "<table>\n",
       "<thead><tr><th scope=col>DataSet</th><th scope=col>Partition</th><th scope=col>Algorithm</th><th scope=col>user</th><th scope=col>TestTime</th><th scope=col>RMSE</th><th scope=col>Rank.nDCG</th><th scope=col>L100.nDCG</th><th scope=col>L100.Rank</th><th scope=col>L100.RecipRank</th><th scope=col>L100.AvgPrec</th><th scope=col>TopN.ActualLength</th><th scope=col>nDCG</th><th scope=col>Rank</th><th scope=col>RecipRank</th><th scope=col>AvgPrec</th><th scope=col>1R.nDCG</th><th scope=col>1R.Rank</th><th scope=col>1R.RecipRank</th><th scope=col>1R.AvgPrec</th></tr></thead>\n",
       "<tbody>\n",
       "\t<tr><td>ML1M.GB    </td><td>5          </td><td>UU-E       </td><td>4077       </td><td>2.166      </td><td>0.5989862  </td><td>0.9908541  </td><td>0.06519129 </td><td>41         </td><td>0.02439024 </td><td>0.02439024 </td><td>3661       </td><td>0.1678840  </td><td> 41        </td><td>0.024390244</td><td>0.008420578</td><td>NA         </td><td>NA         </td><td>NA         </td><td>NA         </td></tr>\n",
       "\t<tr><td>ML1M.GB    </td><td>5          </td><td>UU-E       </td><td>4103       </td><td>1.950      </td><td>1.2600390  </td><td>0.9702170  </td><td>0.00000000 </td><td>NA         </td><td>0.00000000 </td><td>0.00000000 </td><td>3742       </td><td>0.1295478  </td><td>511        </td><td>0.001956947</td><td>0.002338448</td><td>NA         </td><td>NA         </td><td>NA         </td><td>NA         </td></tr>\n",
       "\t<tr><td>ML1M.GB    </td><td>5          </td><td>UU-E       </td><td>4109       </td><td>1.723      </td><td>0.8923990  </td><td>0.9416146  </td><td>0.05619730 </td><td>63         </td><td>0.01587302 </td><td>0.01587302 </td><td>3863       </td><td>0.1611585  </td><td> 63        </td><td>0.015873016</td><td>0.008224152</td><td>NA         </td><td>NA         </td><td>NA         </td><td>NA         </td></tr>\n",
       "\t<tr><td>ML1M.GB    </td><td>5          </td><td>UU-E       </td><td>4119       </td><td>1.820      </td><td>1.0580385  </td><td>0.9256552  </td><td>0.00000000 </td><td>NA         </td><td>0.00000000 </td><td>0.00000000 </td><td>3834       </td><td>0.1438356  </td><td>241        </td><td>0.004149378</td><td>0.004885170</td><td>NA         </td><td>NA         </td><td>NA         </td><td>NA         </td></tr>\n",
       "\t<tr><td>ML1M.GB    </td><td>5          </td><td>UU-E       </td><td>4134       </td><td>1.950      </td><td>0.8821956  </td><td>0.9497345  </td><td>0.00000000 </td><td>NA         </td><td>0.00000000 </td><td>0.00000000 </td><td>3770       </td><td>0.1430856  </td><td>349        </td><td>0.002865330</td><td>0.004775088</td><td>NA         </td><td>NA         </td><td>NA         </td><td>NA         </td></tr>\n",
       "\t<tr><td>⋮</td><td>⋮</td><td>⋮</td><td>⋮</td><td>⋮</td><td>⋮</td><td>⋮</td><td>⋮</td><td>⋮</td><td>⋮</td><td>⋮</td><td>⋮</td><td>⋮</td><td>⋮</td><td>⋮</td><td>⋮</td><td>⋮</td><td>⋮</td><td>⋮</td><td>⋮</td></tr>\n",
       "\t<tr><td>ML1M.GB   </td><td>1         </td><td>UU-B      </td><td>3249      </td><td>1.884     </td><td>NA        </td><td>0.9956168 </td><td>0.16472759</td><td> 7        </td><td>0.14285714</td><td>0.08635394</td><td>3528      </td><td>0.2527621 </td><td> 7        </td><td>0.14285714</td><td>0.04479539</td><td>NA        </td><td>NA        </td><td>NA        </td><td>NA        </td></tr>\n",
       "\t<tr><td>ML1M.GB   </td><td>1         </td><td>UU-B      </td><td>3086      </td><td>1.788     </td><td>NA        </td><td>1.0000000 </td><td>0.08470706</td><td>98        </td><td>0.01020408</td><td>0.01510204</td><td>3480      </td><td>0.1817967 </td><td>98        </td><td>0.01020408</td><td>0.01203531</td><td>NA        </td><td>NA        </td><td>NA        </td><td>NA        </td></tr>\n",
       "\t<tr><td>ML1M.GB   </td><td>1         </td><td>UU-B      </td><td>3263      </td><td>1.936     </td><td>NA        </td><td>0.9568941 </td><td>0.61389900</td><td> 1        </td><td>1.00000000</td><td>0.63048246</td><td>3481      </td><td>0.6557103 </td><td> 1        </td><td>1.00000000</td><td>0.50810344</td><td>NA        </td><td>NA        </td><td>NA        </td><td>NA        </td></tr>\n",
       "\t<tr><td>ML1M.GB   </td><td>1         </td><td>UU-B      </td><td>3093      </td><td>1.883     </td><td>NA        </td><td>1.0000000 </td><td>0.16338324</td><td>11        </td><td>0.09090909</td><td>0.07771261</td><td>3413      </td><td>0.2288709 </td><td>11        </td><td>0.09090909</td><td>0.03488816</td><td>NA        </td><td>NA        </td><td>NA        </td><td>NA        </td></tr>\n",
       "\t<tr><td>ML1M.GB   </td><td>1         </td><td>UU-B      </td><td>3266      </td><td>1.990     </td><td>NA        </td><td>0.9881348 </td><td>0.05101375</td><td>56        </td><td>0.01785714</td><td>0.01785714</td><td>3443      </td><td>0.1772048 </td><td>56        </td><td>0.01785714</td><td>0.01104530</td><td>NA        </td><td>NA        </td><td>NA        </td><td>NA        </td></tr>\n",
       "</tbody>\n",
       "</table>\n"
      ],
      "text/latex": [
       "\\begin{tabular}{r|llllllllllllllllllll}\n",
       " DataSet & Partition & Algorithm & user & TestTime & RMSE & Rank.nDCG & L100.nDCG & L100.Rank & L100.RecipRank & L100.AvgPrec & TopN.ActualLength & nDCG & Rank & RecipRank & AvgPrec & 1R.nDCG & 1R.Rank & 1R.RecipRank & 1R.AvgPrec\\\\\n",
       "\\hline\n",
       "\t ML1M.GB     & 5           & UU-E        & 4077        & 2.166       & 0.5989862   & 0.9908541   & 0.06519129  & 41          & 0.02439024  & 0.02439024  & 3661        & 0.1678840   &  41         & 0.024390244 & 0.008420578 & NA          & NA          & NA          & NA         \\\\\n",
       "\t ML1M.GB     & 5           & UU-E        & 4103        & 1.950       & 1.2600390   & 0.9702170   & 0.00000000  & NA          & 0.00000000  & 0.00000000  & 3742        & 0.1295478   & 511         & 0.001956947 & 0.002338448 & NA          & NA          & NA          & NA         \\\\\n",
       "\t ML1M.GB     & 5           & UU-E        & 4109        & 1.723       & 0.8923990   & 0.9416146   & 0.05619730  & 63          & 0.01587302  & 0.01587302  & 3863        & 0.1611585   &  63         & 0.015873016 & 0.008224152 & NA          & NA          & NA          & NA         \\\\\n",
       "\t ML1M.GB     & 5           & UU-E        & 4119        & 1.820       & 1.0580385   & 0.9256552   & 0.00000000  & NA          & 0.00000000  & 0.00000000  & 3834        & 0.1438356   & 241         & 0.004149378 & 0.004885170 & NA          & NA          & NA          & NA         \\\\\n",
       "\t ML1M.GB     & 5           & UU-E        & 4134        & 1.950       & 0.8821956   & 0.9497345   & 0.00000000  & NA          & 0.00000000  & 0.00000000  & 3770        & 0.1430856   & 349         & 0.002865330 & 0.004775088 & NA          & NA          & NA          & NA         \\\\\n",
       "\t ⋮ & ⋮ & ⋮ & ⋮ & ⋮ & ⋮ & ⋮ & ⋮ & ⋮ & ⋮ & ⋮ & ⋮ & ⋮ & ⋮ & ⋮ & ⋮ & ⋮ & ⋮ & ⋮ & ⋮\\\\\n",
       "\t ML1M.GB    & 1          & UU-B       & 3249       & 1.884      & NA         & 0.9956168  & 0.16472759 &  7         & 0.14285714 & 0.08635394 & 3528       & 0.2527621  &  7         & 0.14285714 & 0.04479539 & NA         & NA         & NA         & NA        \\\\\n",
       "\t ML1M.GB    & 1          & UU-B       & 3086       & 1.788      & NA         & 1.0000000  & 0.08470706 & 98         & 0.01020408 & 0.01510204 & 3480       & 0.1817967  & 98         & 0.01020408 & 0.01203531 & NA         & NA         & NA         & NA        \\\\\n",
       "\t ML1M.GB    & 1          & UU-B       & 3263       & 1.936      & NA         & 0.9568941  & 0.61389900 &  1         & 1.00000000 & 0.63048246 & 3481       & 0.6557103  &  1         & 1.00000000 & 0.50810344 & NA         & NA         & NA         & NA        \\\\\n",
       "\t ML1M.GB    & 1          & UU-B       & 3093       & 1.883      & NA         & 1.0000000  & 0.16338324 & 11         & 0.09090909 & 0.07771261 & 3413       & 0.2288709  & 11         & 0.09090909 & 0.03488816 & NA         & NA         & NA         & NA        \\\\\n",
       "\t ML1M.GB    & 1          & UU-B       & 3266       & 1.990      & NA         & 0.9881348  & 0.05101375 & 56         & 0.01785714 & 0.01785714 & 3443       & 0.1772048  & 56         & 0.01785714 & 0.01104530 & NA         & NA         & NA         & NA        \\\\\n",
       "\\end{tabular}\n"
      ],
      "text/markdown": [
       "\n",
       "DataSet | Partition | Algorithm | user | TestTime | RMSE | Rank.nDCG | L100.nDCG | L100.Rank | L100.RecipRank | L100.AvgPrec | TopN.ActualLength | nDCG | Rank | RecipRank | AvgPrec | 1R.nDCG | 1R.Rank | 1R.RecipRank | 1R.AvgPrec | \n",
       "|---|---|---|---|---|---|---|---|---|---|---|\n",
       "| ML1M.GB     | 5           | UU-E        | 4077        | 2.166       | 0.5989862   | 0.9908541   | 0.06519129  | 41          | 0.02439024  | 0.02439024  | 3661        | 0.1678840   |  41         | 0.024390244 | 0.008420578 | NA          | NA          | NA          | NA          | \n",
       "| ML1M.GB     | 5           | UU-E        | 4103        | 1.950       | 1.2600390   | 0.9702170   | 0.00000000  | NA          | 0.00000000  | 0.00000000  | 3742        | 0.1295478   | 511         | 0.001956947 | 0.002338448 | NA          | NA          | NA          | NA          | \n",
       "| ML1M.GB     | 5           | UU-E        | 4109        | 1.723       | 0.8923990   | 0.9416146   | 0.05619730  | 63          | 0.01587302  | 0.01587302  | 3863        | 0.1611585   |  63         | 0.015873016 | 0.008224152 | NA          | NA          | NA          | NA          | \n",
       "| ML1M.GB     | 5           | UU-E        | 4119        | 1.820       | 1.0580385   | 0.9256552   | 0.00000000  | NA          | 0.00000000  | 0.00000000  | 3834        | 0.1438356   | 241         | 0.004149378 | 0.004885170 | NA          | NA          | NA          | NA          | \n",
       "| ML1M.GB     | 5           | UU-E        | 4134        | 1.950       | 0.8821956   | 0.9497345   | 0.00000000  | NA          | 0.00000000  | 0.00000000  | 3770        | 0.1430856   | 349         | 0.002865330 | 0.004775088 | NA          | NA          | NA          | NA          | \n",
       "| ⋮ | ⋮ | ⋮ | ⋮ | ⋮ | ⋮ | ⋮ | ⋮ | ⋮ | ⋮ | ⋮ | ⋮ | ⋮ | ⋮ | ⋮ | ⋮ | ⋮ | ⋮ | ⋮ | ⋮ | \n",
       "| ML1M.GB    | 1          | UU-B       | 3249       | 1.884      | NA         | 0.9956168  | 0.16472759 |  7         | 0.14285714 | 0.08635394 | 3528       | 0.2527621  |  7         | 0.14285714 | 0.04479539 | NA         | NA         | NA         | NA         | \n",
       "| ML1M.GB    | 1          | UU-B       | 3086       | 1.788      | NA         | 1.0000000  | 0.08470706 | 98         | 0.01020408 | 0.01510204 | 3480       | 0.1817967  | 98         | 0.01020408 | 0.01203531 | NA         | NA         | NA         | NA         | \n",
       "| ML1M.GB    | 1          | UU-B       | 3263       | 1.936      | NA         | 0.9568941  | 0.61389900 |  1         | 1.00000000 | 0.63048246 | 3481       | 0.6557103  |  1         | 1.00000000 | 0.50810344 | NA         | NA         | NA         | NA         | \n",
       "| ML1M.GB    | 1          | UU-B       | 3093       | 1.883      | NA         | 1.0000000  | 0.16338324 | 11         | 0.09090909 | 0.07771261 | 3413       | 0.2288709  | 11         | 0.09090909 | 0.03488816 | NA         | NA         | NA         | NA         | \n",
       "| ML1M.GB    | 1          | UU-B       | 3266       | 1.990      | NA         | 0.9881348  | 0.05101375 | 56         | 0.01785714 | 0.01785714 | 3443       | 0.1772048  | 56         | 0.01785714 | 0.01104530 | NA         | NA         | NA         | NA         | \n",
       "\n",
       "\n"
      ],
      "text/plain": [
       "      DataSet Partition Algorithm user TestTime RMSE      Rank.nDCG L100.nDCG \n",
       "1     ML1M.GB 5         UU-E      4077 2.166    0.5989862 0.9908541 0.06519129\n",
       "2     ML1M.GB 5         UU-E      4103 1.950    1.2600390 0.9702170 0.00000000\n",
       "3     ML1M.GB 5         UU-E      4109 1.723    0.8923990 0.9416146 0.05619730\n",
       "4     ML1M.GB 5         UU-E      4119 1.820    1.0580385 0.9256552 0.00000000\n",
       "5     ML1M.GB 5         UU-E      4134 1.950    0.8821956 0.9497345 0.00000000\n",
       "⋮     ⋮       ⋮         ⋮         ⋮    ⋮        ⋮         ⋮         ⋮         \n",
       "23996 ML1M.GB 1         UU-B      3249 1.884    NA        0.9956168 0.16472759\n",
       "23997 ML1M.GB 1         UU-B      3086 1.788    NA        1.0000000 0.08470706\n",
       "23998 ML1M.GB 1         UU-B      3263 1.936    NA        0.9568941 0.61389900\n",
       "23999 ML1M.GB 1         UU-B      3093 1.883    NA        1.0000000 0.16338324\n",
       "24000 ML1M.GB 1         UU-B      3266 1.990    NA        0.9881348 0.05101375\n",
       "      L100.Rank L100.RecipRank L100.AvgPrec TopN.ActualLength nDCG      Rank\n",
       "1     41        0.02439024     0.02439024   3661              0.1678840  41 \n",
       "2     NA        0.00000000     0.00000000   3742              0.1295478 511 \n",
       "3     63        0.01587302     0.01587302   3863              0.1611585  63 \n",
       "4     NA        0.00000000     0.00000000   3834              0.1438356 241 \n",
       "5     NA        0.00000000     0.00000000   3770              0.1430856 349 \n",
       "⋮     ⋮         ⋮              ⋮            ⋮                 ⋮         ⋮   \n",
       "23996  7        0.14285714     0.08635394   3528              0.2527621  7  \n",
       "23997 98        0.01020408     0.01510204   3480              0.1817967 98  \n",
       "23998  1        1.00000000     0.63048246   3481              0.6557103  1  \n",
       "23999 11        0.09090909     0.07771261   3413              0.2288709 11  \n",
       "24000 56        0.01785714     0.01785714   3443              0.1772048 56  \n",
       "      RecipRank   AvgPrec     1R.nDCG 1R.Rank 1R.RecipRank 1R.AvgPrec\n",
       "1     0.024390244 0.008420578 NA      NA      NA           NA        \n",
       "2     0.001956947 0.002338448 NA      NA      NA           NA        \n",
       "3     0.015873016 0.008224152 NA      NA      NA           NA        \n",
       "4     0.004149378 0.004885170 NA      NA      NA           NA        \n",
       "5     0.002865330 0.004775088 NA      NA      NA           NA        \n",
       "⋮     ⋮           ⋮           ⋮       ⋮       ⋮            ⋮         \n",
       "23996 0.14285714  0.04479539  NA      NA      NA           NA        \n",
       "23997 0.01020408  0.01203531  NA      NA      NA           NA        \n",
       "23998 1.00000000  0.50810344  NA      NA      NA           NA        \n",
       "23999 0.09090909  0.03488816  NA      NA      NA           NA        \n",
       "24000 0.01785714  0.01104530  NA      NA      NA           NA        "
      ]
     },
     "metadata": {},
     "output_type": "display_data"
    }
   ],
   "source": [
    "ml.user.results = read_csv(\"build/movielens-user-results.csv\", guess_max=10000) %>%\n",
    "    rename(user=User) %>%\n",
    "    filter(DataSet == \"ML-1M.GB\") %>%\n",
    "    mutate(DataSet = \"ML1M.GB\")\n",
    "ml.user.results"
   ]
  },
  {
   "cell_type": "code",
   "execution_count": 17,
   "metadata": {},
   "outputs": [
    {
     "name": "stderr",
     "output_type": "stream",
     "text": [
      "Parsed with column specification:\n",
      "cols(\n",
      "  .default = col_double(),\n",
      "  DataSet = col_character(),\n",
      "  Partition = col_integer(),\n",
      "  Algorithm = col_character(),\n",
      "  User = col_integer(),\n",
      "  L100.Rank = col_integer(),\n",
      "  L10K.Rank = col_integer(),\n",
      "  Rank = col_integer()\n",
      ")\n",
      "See spec(...) for full column specifications.\n"
     ]
    },
    {
     "data": {
      "text/html": [
       "<table>\n",
       "<thead><tr><th scope=col>DataSet</th><th scope=col>Partition</th><th scope=col>Algorithm</th><th scope=col>user</th><th scope=col>TestTime</th><th scope=col>Rank.nDCG</th><th scope=col>L100.Rank</th><th scope=col>L100.RecipRank</th><th scope=col>L100.nDCG</th><th scope=col>L100.AvgPrec</th><th scope=col>L10K.TopN.ActualLength</th><th scope=col>L10K.Rank</th><th scope=col>L10K.RecipRank</th><th scope=col>L10K.nDCG</th><th scope=col>L10K.AvgPrec</th><th scope=col>TopN.ActualLength</th><th scope=col>Rank</th><th scope=col>RecipRank</th><th scope=col>nDCG</th><th scope=col>AvgPrec</th></tr></thead>\n",
       "<tbody>\n",
       "\t<tr><td>LFM360K.GB </td><td>3          </td><td>Pop-B      </td><td>238351     </td><td>2.161      </td><td>0.8743048  </td><td>63         </td><td>0.01587302 </td><td>0.07035068 </td><td>0.01892552 </td><td>10000      </td><td> 63        </td><td>0.015873016</td><td>0.1625313  </td><td>0.013385420</td><td>125192     </td><td> 63        </td><td>0.015873016</td><td>0.1625313  </td><td>0.013385420</td></tr>\n",
       "\t<tr><td>LFM360K.GB </td><td>5          </td><td>Pop-B      </td><td>241257     </td><td>2.169      </td><td>0.9691688  </td><td> 5         </td><td>0.20000000 </td><td>0.26341645 </td><td>0.09904762 </td><td>10000      </td><td>  5        </td><td>0.200000000</td><td>0.3035794  </td><td>0.066905821</td><td>125217     </td><td>  5        </td><td>0.200000000</td><td>0.3035794  </td><td>0.066905821</td></tr>\n",
       "\t<tr><td>LFM360K.GB </td><td>4          </td><td>Pop-B      </td><td>236288     </td><td>0.278      </td><td>0.9203801  </td><td>NA         </td><td>0.00000000 </td><td>0.00000000 </td><td>0.00000000 </td><td>10000      </td><td>269        </td><td>0.003717472</td><td>0.1210761  </td><td>0.002147099</td><td>125209     </td><td>269        </td><td>0.003717472</td><td>0.1210761  </td><td>0.002147099</td></tr>\n",
       "\t<tr><td>LFM360K.GB </td><td>3          </td><td>Pop-C      </td><td>238351     </td><td>0.121      </td><td>0.8743048  </td><td>54         </td><td>0.01851852 </td><td>0.04212012 </td><td>0.01851852 </td><td>10000      </td><td> 54        </td><td>0.018518519</td><td>0.1587746  </td><td>0.011256772</td><td>125192     </td><td> 54        </td><td>0.018518519</td><td>0.1587746  </td><td>0.011256772</td></tr>\n",
       "\t<tr><td>LFM360K.GB </td><td>5          </td><td>Pop-C      </td><td>241257     </td><td>0.122      </td><td>0.9691688  </td><td> 6         </td><td>0.16666667 </td><td>0.29079045 </td><td>0.09782138 </td><td>10000      </td><td>  6        </td><td>0.166666667</td><td>0.3086040  </td><td>0.081568363</td><td>125217     </td><td>  6        </td><td>0.166666667</td><td>0.3086040  </td><td>0.081568363</td></tr>\n",
       "\t<tr><td>⋮</td><td>⋮</td><td>⋮</td><td>⋮</td><td>⋮</td><td>⋮</td><td>⋮</td><td>⋮</td><td>⋮</td><td>⋮</td><td>⋮</td><td>⋮</td><td>⋮</td><td>⋮</td><td>⋮</td><td>⋮</td><td>⋮</td><td>⋮</td><td>⋮</td><td>⋮</td></tr>\n",
       "\t<tr><td>LFM360K.GB</td><td>1         </td><td>II-B      </td><td> 2454     </td><td>0.878     </td><td>0.9786268 </td><td> 1        </td><td>1.0000000 </td><td>0.46868978</td><td>0.40211640</td><td>10000     </td><td> 1        </td><td>1.0000000 </td><td>0.5184497 </td><td>0.24517077</td><td>53192     </td><td> 1        </td><td>1.0000000 </td><td>0.5184497 </td><td>0.24517077</td></tr>\n",
       "\t<tr><td>LFM360K.GB</td><td>1         </td><td>II-B      </td><td>44667     </td><td>0.833     </td><td>0.7707650 </td><td> 3        </td><td>0.3333333 </td><td>0.23238157</td><td>0.20693976</td><td>10000     </td><td> 3        </td><td>0.3333333 </td><td>0.2888432 </td><td>0.16810283</td><td>83735     </td><td> 3        </td><td>0.3333333 </td><td>0.2888432 </td><td>0.16810283</td></tr>\n",
       "\t<tr><td>LFM360K.GB</td><td>1         </td><td>II-B      </td><td>35706     </td><td>0.808     </td><td>0.6387630 </td><td>10        </td><td>0.1000000 </td><td>0.04326819</td><td>0.06315789</td><td>10000     </td><td>10        </td><td>0.1000000 </td><td>0.1510542 </td><td>0.03651757</td><td>42826     </td><td>10        </td><td>0.1000000 </td><td>0.1510542 </td><td>0.03651757</td></tr>\n",
       "\t<tr><td>LFM360K.GB</td><td>1         </td><td>II-B      </td><td>11621     </td><td>0.812     </td><td>0.9861884 </td><td> 1        </td><td>1.0000000 </td><td>0.48606784</td><td>0.32137083</td><td>10000     </td><td> 1        </td><td>1.0000000 </td><td>0.5055259 </td><td>0.25811086</td><td>46332     </td><td> 1        </td><td>1.0000000 </td><td>0.5055259 </td><td>0.25811086</td></tr>\n",
       "\t<tr><td>LFM360K.GB</td><td>1         </td><td>II-B      </td><td>44698     </td><td>0.726     </td><td>0.8214894 </td><td> 7        </td><td>0.1428571 </td><td>0.13763436</td><td>0.08392857</td><td>10000     </td><td> 7        </td><td>0.1428571 </td><td>0.2168469 </td><td>0.05517179</td><td>42801     </td><td> 7        </td><td>0.1428571 </td><td>0.2168469 </td><td>0.05517179</td></tr>\n",
       "</tbody>\n",
       "</table>\n"
      ],
      "text/latex": [
       "\\begin{tabular}{r|llllllllllllllllllll}\n",
       " DataSet & Partition & Algorithm & user & TestTime & Rank.nDCG & L100.Rank & L100.RecipRank & L100.nDCG & L100.AvgPrec & L10K.TopN.ActualLength & L10K.Rank & L10K.RecipRank & L10K.nDCG & L10K.AvgPrec & TopN.ActualLength & Rank & RecipRank & nDCG & AvgPrec\\\\\n",
       "\\hline\n",
       "\t LFM360K.GB  & 3           & Pop-B       & 238351      & 2.161       & 0.8743048   & 63          & 0.01587302  & 0.07035068  & 0.01892552  & 10000       &  63         & 0.015873016 & 0.1625313   & 0.013385420 & 125192      &  63         & 0.015873016 & 0.1625313   & 0.013385420\\\\\n",
       "\t LFM360K.GB  & 5           & Pop-B       & 241257      & 2.169       & 0.9691688   &  5          & 0.20000000  & 0.26341645  & 0.09904762  & 10000       &   5         & 0.200000000 & 0.3035794   & 0.066905821 & 125217      &   5         & 0.200000000 & 0.3035794   & 0.066905821\\\\\n",
       "\t LFM360K.GB  & 4           & Pop-B       & 236288      & 0.278       & 0.9203801   & NA          & 0.00000000  & 0.00000000  & 0.00000000  & 10000       & 269         & 0.003717472 & 0.1210761   & 0.002147099 & 125209      & 269         & 0.003717472 & 0.1210761   & 0.002147099\\\\\n",
       "\t LFM360K.GB  & 3           & Pop-C       & 238351      & 0.121       & 0.8743048   & 54          & 0.01851852  & 0.04212012  & 0.01851852  & 10000       &  54         & 0.018518519 & 0.1587746   & 0.011256772 & 125192      &  54         & 0.018518519 & 0.1587746   & 0.011256772\\\\\n",
       "\t LFM360K.GB  & 5           & Pop-C       & 241257      & 0.122       & 0.9691688   &  6          & 0.16666667  & 0.29079045  & 0.09782138  & 10000       &   6         & 0.166666667 & 0.3086040   & 0.081568363 & 125217      &   6         & 0.166666667 & 0.3086040   & 0.081568363\\\\\n",
       "\t ⋮ & ⋮ & ⋮ & ⋮ & ⋮ & ⋮ & ⋮ & ⋮ & ⋮ & ⋮ & ⋮ & ⋮ & ⋮ & ⋮ & ⋮ & ⋮ & ⋮ & ⋮ & ⋮ & ⋮\\\\\n",
       "\t LFM360K.GB & 1          & II-B       &  2454      & 0.878      & 0.9786268  &  1         & 1.0000000  & 0.46868978 & 0.40211640 & 10000      &  1         & 1.0000000  & 0.5184497  & 0.24517077 & 53192      &  1         & 1.0000000  & 0.5184497  & 0.24517077\\\\\n",
       "\t LFM360K.GB & 1          & II-B       & 44667      & 0.833      & 0.7707650  &  3         & 0.3333333  & 0.23238157 & 0.20693976 & 10000      &  3         & 0.3333333  & 0.2888432  & 0.16810283 & 83735      &  3         & 0.3333333  & 0.2888432  & 0.16810283\\\\\n",
       "\t LFM360K.GB & 1          & II-B       & 35706      & 0.808      & 0.6387630  & 10         & 0.1000000  & 0.04326819 & 0.06315789 & 10000      & 10         & 0.1000000  & 0.1510542  & 0.03651757 & 42826      & 10         & 0.1000000  & 0.1510542  & 0.03651757\\\\\n",
       "\t LFM360K.GB & 1          & II-B       & 11621      & 0.812      & 0.9861884  &  1         & 1.0000000  & 0.48606784 & 0.32137083 & 10000      &  1         & 1.0000000  & 0.5055259  & 0.25811086 & 46332      &  1         & 1.0000000  & 0.5055259  & 0.25811086\\\\\n",
       "\t LFM360K.GB & 1          & II-B       & 44698      & 0.726      & 0.8214894  &  7         & 0.1428571  & 0.13763436 & 0.08392857 & 10000      &  7         & 0.1428571  & 0.2168469  & 0.05517179 & 42801      &  7         & 0.1428571  & 0.2168469  & 0.05517179\\\\\n",
       "\\end{tabular}\n"
      ],
      "text/markdown": [
       "\n",
       "DataSet | Partition | Algorithm | user | TestTime | Rank.nDCG | L100.Rank | L100.RecipRank | L100.nDCG | L100.AvgPrec | L10K.TopN.ActualLength | L10K.Rank | L10K.RecipRank | L10K.nDCG | L10K.AvgPrec | TopN.ActualLength | Rank | RecipRank | nDCG | AvgPrec | \n",
       "|---|---|---|---|---|---|---|---|---|---|---|\n",
       "| LFM360K.GB  | 3           | Pop-B       | 238351      | 2.161       | 0.8743048   | 63          | 0.01587302  | 0.07035068  | 0.01892552  | 10000       |  63         | 0.015873016 | 0.1625313   | 0.013385420 | 125192      |  63         | 0.015873016 | 0.1625313   | 0.013385420 | \n",
       "| LFM360K.GB  | 5           | Pop-B       | 241257      | 2.169       | 0.9691688   |  5          | 0.20000000  | 0.26341645  | 0.09904762  | 10000       |   5         | 0.200000000 | 0.3035794   | 0.066905821 | 125217      |   5         | 0.200000000 | 0.3035794   | 0.066905821 | \n",
       "| LFM360K.GB  | 4           | Pop-B       | 236288      | 0.278       | 0.9203801   | NA          | 0.00000000  | 0.00000000  | 0.00000000  | 10000       | 269         | 0.003717472 | 0.1210761   | 0.002147099 | 125209      | 269         | 0.003717472 | 0.1210761   | 0.002147099 | \n",
       "| LFM360K.GB  | 3           | Pop-C       | 238351      | 0.121       | 0.8743048   | 54          | 0.01851852  | 0.04212012  | 0.01851852  | 10000       |  54         | 0.018518519 | 0.1587746   | 0.011256772 | 125192      |  54         | 0.018518519 | 0.1587746   | 0.011256772 | \n",
       "| LFM360K.GB  | 5           | Pop-C       | 241257      | 0.122       | 0.9691688   |  6          | 0.16666667  | 0.29079045  | 0.09782138  | 10000       |   6         | 0.166666667 | 0.3086040   | 0.081568363 | 125217      |   6         | 0.166666667 | 0.3086040   | 0.081568363 | \n",
       "| ⋮ | ⋮ | ⋮ | ⋮ | ⋮ | ⋮ | ⋮ | ⋮ | ⋮ | ⋮ | ⋮ | ⋮ | ⋮ | ⋮ | ⋮ | ⋮ | ⋮ | ⋮ | ⋮ | ⋮ | \n",
       "| LFM360K.GB | 1          | II-B       |  2454      | 0.878      | 0.9786268  |  1         | 1.0000000  | 0.46868978 | 0.40211640 | 10000      |  1         | 1.0000000  | 0.5184497  | 0.24517077 | 53192      |  1         | 1.0000000  | 0.5184497  | 0.24517077 | \n",
       "| LFM360K.GB | 1          | II-B       | 44667      | 0.833      | 0.7707650  |  3         | 0.3333333  | 0.23238157 | 0.20693976 | 10000      |  3         | 0.3333333  | 0.2888432  | 0.16810283 | 83735      |  3         | 0.3333333  | 0.2888432  | 0.16810283 | \n",
       "| LFM360K.GB | 1          | II-B       | 35706      | 0.808      | 0.6387630  | 10         | 0.1000000  | 0.04326819 | 0.06315789 | 10000      | 10         | 0.1000000  | 0.1510542  | 0.03651757 | 42826      | 10         | 0.1000000  | 0.1510542  | 0.03651757 | \n",
       "| LFM360K.GB | 1          | II-B       | 11621      | 0.812      | 0.9861884  |  1         | 1.0000000  | 0.48606784 | 0.32137083 | 10000      |  1         | 1.0000000  | 0.5055259  | 0.25811086 | 46332      |  1         | 1.0000000  | 0.5055259  | 0.25811086 | \n",
       "| LFM360K.GB | 1          | II-B       | 44698      | 0.726      | 0.8214894  |  7         | 0.1428571  | 0.13763436 | 0.08392857 | 10000      |  7         | 0.1428571  | 0.2168469  | 0.05517179 | 42801      |  7         | 0.1428571  | 0.2168469  | 0.05517179 | \n",
       "\n",
       "\n"
      ],
      "text/plain": [
       "       DataSet    Partition Algorithm user   TestTime Rank.nDCG L100.Rank\n",
       "1      LFM360K.GB 3         Pop-B     238351 2.161    0.8743048 63       \n",
       "2      LFM360K.GB 5         Pop-B     241257 2.169    0.9691688  5       \n",
       "3      LFM360K.GB 4         Pop-B     236288 0.278    0.9203801 NA       \n",
       "4      LFM360K.GB 3         Pop-C     238351 0.121    0.8743048 54       \n",
       "5      LFM360K.GB 5         Pop-C     241257 0.122    0.9691688  6       \n",
       "⋮      ⋮          ⋮         ⋮         ⋮      ⋮        ⋮         ⋮        \n",
       "174996 LFM360K.GB 1         II-B       2454  0.878    0.9786268  1       \n",
       "174997 LFM360K.GB 1         II-B      44667  0.833    0.7707650  3       \n",
       "174998 LFM360K.GB 1         II-B      35706  0.808    0.6387630 10       \n",
       "174999 LFM360K.GB 1         II-B      11621  0.812    0.9861884  1       \n",
       "175000 LFM360K.GB 1         II-B      44698  0.726    0.8214894  7       \n",
       "       L100.RecipRank L100.nDCG  L100.AvgPrec L10K.TopN.ActualLength L10K.Rank\n",
       "1      0.01587302     0.07035068 0.01892552   10000                   63      \n",
       "2      0.20000000     0.26341645 0.09904762   10000                    5      \n",
       "3      0.00000000     0.00000000 0.00000000   10000                  269      \n",
       "4      0.01851852     0.04212012 0.01851852   10000                   54      \n",
       "5      0.16666667     0.29079045 0.09782138   10000                    6      \n",
       "⋮      ⋮              ⋮          ⋮            ⋮                      ⋮        \n",
       "174996 1.0000000      0.46868978 0.40211640   10000                   1       \n",
       "174997 0.3333333      0.23238157 0.20693976   10000                   3       \n",
       "174998 0.1000000      0.04326819 0.06315789   10000                  10       \n",
       "174999 1.0000000      0.48606784 0.32137083   10000                   1       \n",
       "175000 0.1428571      0.13763436 0.08392857   10000                   7       \n",
       "       L10K.RecipRank L10K.nDCG L10K.AvgPrec TopN.ActualLength Rank RecipRank  \n",
       "1      0.015873016    0.1625313 0.013385420  125192             63  0.015873016\n",
       "2      0.200000000    0.3035794 0.066905821  125217              5  0.200000000\n",
       "3      0.003717472    0.1210761 0.002147099  125209            269  0.003717472\n",
       "4      0.018518519    0.1587746 0.011256772  125192             54  0.018518519\n",
       "5      0.166666667    0.3086040 0.081568363  125217              6  0.166666667\n",
       "⋮      ⋮              ⋮         ⋮            ⋮                 ⋮    ⋮          \n",
       "174996 1.0000000      0.5184497 0.24517077   53192              1   1.0000000  \n",
       "174997 0.3333333      0.2888432 0.16810283   83735              3   0.3333333  \n",
       "174998 0.1000000      0.1510542 0.03651757   42826             10   0.1000000  \n",
       "174999 1.0000000      0.5055259 0.25811086   46332              1   1.0000000  \n",
       "175000 0.1428571      0.2168469 0.05517179   42801              7   0.1428571  \n",
       "       nDCG      AvgPrec    \n",
       "1      0.1625313 0.013385420\n",
       "2      0.3035794 0.066905821\n",
       "3      0.1210761 0.002147099\n",
       "4      0.1587746 0.011256772\n",
       "5      0.3086040 0.081568363\n",
       "⋮      ⋮         ⋮          \n",
       "174996 0.5184497 0.24517077 \n",
       "174997 0.2888432 0.16810283 \n",
       "174998 0.1510542 0.03651757 \n",
       "174999 0.5055259 0.25811086 \n",
       "175000 0.2168469 0.05517179 "
      ]
     },
     "metadata": {},
     "output_type": "display_data"
    }
   ],
   "source": [
    "lfm360k.user.results = read_csv(\"build/lastfm-balanced-user-results.csv\", guess_max=10000) %>%\n",
    "    rename(user=User) %>%\n",
    "    filter(!startsWith(Algorithm, \"UU-\")) %>%\n",
    "    mutate(DataSet = \"LFM360K.GB\")\n",
    "lfm360k.user.results"
   ]
  },
  {
   "cell_type": "code",
   "execution_count": 18,
   "metadata": {},
   "outputs": [
    {
     "name": "stderr",
     "output_type": "stream",
     "text": [
      "Joining, by = c(\"DataSet\", \"user\")\n"
     ]
    },
    {
     "data": {
      "text/html": [
       "<table>\n",
       "<thead><tr><th scope=col>DataSet</th><th scope=col>Partition</th><th scope=col>Algorithm</th><th scope=col>user</th><th scope=col>TestTime</th><th scope=col>RMSE</th><th scope=col>Rank.nDCG</th><th scope=col>L100.nDCG</th><th scope=col>L100.Rank</th><th scope=col>L100.RecipRank</th><th scope=col>⋯</th><th scope=col>L10K.TopN.ActualLength</th><th scope=col>L10K.Rank</th><th scope=col>L10K.RecipRank</th><th scope=col>L10K.nDCG</th><th scope=col>L10K.AvgPrec</th><th scope=col>gender</th><th scope=col>age</th><th scope=col>occupation</th><th scope=col>zip</th><th scope=col>nitems</th></tr></thead>\n",
       "<tbody>\n",
       "\t<tr><td>ML1M.GB   </td><td>5         </td><td>UU-E      </td><td>4077      </td><td>2.166     </td><td>0.5989862 </td><td>0.9908541 </td><td>0.06519129</td><td>41        </td><td>0.02439024</td><td>⋯         </td><td>NA        </td><td>NA        </td><td>NA        </td><td>NA        </td><td>NA        </td><td>F         </td><td>35-44     </td><td>2         </td><td>22030     </td><td>222       </td></tr>\n",
       "\t<tr><td>ML1M.GB   </td><td>5         </td><td>UU-E      </td><td>4103      </td><td>1.950     </td><td>1.2600390 </td><td>0.9702170 </td><td>0.00000000</td><td>NA        </td><td>0.00000000</td><td>⋯         </td><td>NA        </td><td>NA        </td><td>NA        </td><td>NA        </td><td>NA        </td><td>M         </td><td>18-24     </td><td>16        </td><td>11211     </td><td>141       </td></tr>\n",
       "\t<tr><td>ML1M.GB   </td><td>5         </td><td>UU-E      </td><td>4109      </td><td>1.723     </td><td>0.8923990 </td><td>0.9416146 </td><td>0.05619730</td><td>63        </td><td>0.01587302</td><td>⋯         </td><td>NA        </td><td>NA        </td><td>NA        </td><td>NA        </td><td>NA        </td><td>M         </td><td>35-44     </td><td>3         </td><td>97202     </td><td> 20       </td></tr>\n",
       "\t<tr><td>ML1M.GB   </td><td>5         </td><td>UU-E      </td><td>4119      </td><td>1.820     </td><td>1.0580385 </td><td>0.9256552 </td><td>0.00000000</td><td>NA        </td><td>0.00000000</td><td>⋯         </td><td>NA        </td><td>NA        </td><td>NA        </td><td>NA        </td><td>NA        </td><td>M         </td><td>50-55     </td><td>1         </td><td>39401     </td><td> 49       </td></tr>\n",
       "\t<tr><td>ML1M.GB   </td><td>5         </td><td>UU-E      </td><td>4134      </td><td>1.950     </td><td>0.8821956 </td><td>0.9497345 </td><td>0.00000000</td><td>NA        </td><td>0.00000000</td><td>⋯         </td><td>NA        </td><td>NA        </td><td>NA        </td><td>NA        </td><td>NA        </td><td>F         </td><td>45-49     </td><td>12        </td><td>85283     </td><td>113       </td></tr>\n",
       "\t<tr><td>⋮</td><td>⋮</td><td>⋮</td><td>⋮</td><td>⋮</td><td>⋮</td><td>⋮</td><td>⋮</td><td>⋮</td><td>⋮</td><td>⋱</td><td>⋮</td><td>⋮</td><td>⋮</td><td>⋮</td><td>⋮</td><td>⋮</td><td>⋮</td><td>⋮</td><td>⋮</td><td>⋮</td></tr>\n",
       "\t<tr><td>LFM360K.GB</td><td>1         </td><td>II-B      </td><td> 2454     </td><td>0.878     </td><td>NA        </td><td>0.9786268 </td><td>0.46868978</td><td> 1        </td><td>1.0000000 </td><td>⋯         </td><td>10000     </td><td> 1        </td><td>1.0000000 </td><td>0.5184497 </td><td>0.24517077</td><td>M         </td><td>18-24     </td><td>NA        </td><td>NA        </td><td>54        </td></tr>\n",
       "\t<tr><td>LFM360K.GB</td><td>1         </td><td>II-B      </td><td>44667     </td><td>0.833     </td><td>NA        </td><td>0.7707650 </td><td>0.23238157</td><td> 3        </td><td>0.3333333 </td><td>⋯         </td><td>10000     </td><td> 3        </td><td>0.3333333 </td><td>0.2888432 </td><td>0.16810283</td><td>M         </td><td>18-24     </td><td>NA        </td><td>NA        </td><td>58        </td></tr>\n",
       "\t<tr><td>LFM360K.GB</td><td>1         </td><td>II-B      </td><td>35706     </td><td>0.808     </td><td>NA        </td><td>0.6387630 </td><td>0.04326819</td><td>10        </td><td>0.1000000 </td><td>⋯         </td><td>10000     </td><td>10        </td><td>0.1000000 </td><td>0.1510542 </td><td>0.03651757</td><td>M         </td><td>18-24     </td><td>NA        </td><td>NA        </td><td>42        </td></tr>\n",
       "\t<tr><td>LFM360K.GB</td><td>1         </td><td>II-B      </td><td>11621     </td><td>0.812     </td><td>NA        </td><td>0.9861884 </td><td>0.48606784</td><td> 1        </td><td>1.0000000 </td><td>⋯         </td><td>10000     </td><td> 1        </td><td>1.0000000 </td><td>0.5055259 </td><td>0.25811086</td><td>F         </td><td>18-24     </td><td>NA        </td><td>NA        </td><td>43        </td></tr>\n",
       "\t<tr><td>LFM360K.GB</td><td>1         </td><td>II-B      </td><td>44698     </td><td>0.726     </td><td>NA        </td><td>0.8214894 </td><td>0.13763436</td><td> 7        </td><td>0.1428571 </td><td>⋯         </td><td>10000     </td><td> 7        </td><td>0.1428571 </td><td>0.2168469 </td><td>0.05517179</td><td>F         </td><td>25-34     </td><td>NA        </td><td>NA        </td><td>36        </td></tr>\n",
       "</tbody>\n",
       "</table>\n"
      ],
      "text/latex": [
       "\\begin{tabular}{r|llllllllllllllllllllllllllllll}\n",
       " DataSet & Partition & Algorithm & user & TestTime & RMSE & Rank.nDCG & L100.nDCG & L100.Rank & L100.RecipRank & ⋯ & L10K.TopN.ActualLength & L10K.Rank & L10K.RecipRank & L10K.nDCG & L10K.AvgPrec & gender & age & occupation & zip & nitems\\\\\n",
       "\\hline\n",
       "\t ML1M.GB    & 5          & UU-E       & 4077       & 2.166      & 0.5989862  & 0.9908541  & 0.06519129 & 41         & 0.02439024 & ⋯          & NA         & NA         & NA         & NA         & NA         & F          & 35-44      & 2          & 22030      & 222       \\\\\n",
       "\t ML1M.GB    & 5          & UU-E       & 4103       & 1.950      & 1.2600390  & 0.9702170  & 0.00000000 & NA         & 0.00000000 & ⋯          & NA         & NA         & NA         & NA         & NA         & M          & 18-24      & 16         & 11211      & 141       \\\\\n",
       "\t ML1M.GB    & 5          & UU-E       & 4109       & 1.723      & 0.8923990  & 0.9416146  & 0.05619730 & 63         & 0.01587302 & ⋯          & NA         & NA         & NA         & NA         & NA         & M          & 35-44      & 3          & 97202      &  20       \\\\\n",
       "\t ML1M.GB    & 5          & UU-E       & 4119       & 1.820      & 1.0580385  & 0.9256552  & 0.00000000 & NA         & 0.00000000 & ⋯          & NA         & NA         & NA         & NA         & NA         & M          & 50-55      & 1          & 39401      &  49       \\\\\n",
       "\t ML1M.GB    & 5          & UU-E       & 4134       & 1.950      & 0.8821956  & 0.9497345  & 0.00000000 & NA         & 0.00000000 & ⋯          & NA         & NA         & NA         & NA         & NA         & F          & 45-49      & 12         & 85283      & 113       \\\\\n",
       "\t ⋮ & ⋮ & ⋮ & ⋮ & ⋮ & ⋮ & ⋮ & ⋮ & ⋮ & ⋮ & ⋱ & ⋮ & ⋮ & ⋮ & ⋮ & ⋮ & ⋮ & ⋮ & ⋮ & ⋮ & ⋮\\\\\n",
       "\t LFM360K.GB & 1          & II-B       &  2454      & 0.878      & NA         & 0.9786268  & 0.46868978 &  1         & 1.0000000  & ⋯          & 10000      &  1         & 1.0000000  & 0.5184497  & 0.24517077 & M          & 18-24      & NA         & NA         & 54        \\\\\n",
       "\t LFM360K.GB & 1          & II-B       & 44667      & 0.833      & NA         & 0.7707650  & 0.23238157 &  3         & 0.3333333  & ⋯          & 10000      &  3         & 0.3333333  & 0.2888432  & 0.16810283 & M          & 18-24      & NA         & NA         & 58        \\\\\n",
       "\t LFM360K.GB & 1          & II-B       & 35706      & 0.808      & NA         & 0.6387630  & 0.04326819 & 10         & 0.1000000  & ⋯          & 10000      & 10         & 0.1000000  & 0.1510542  & 0.03651757 & M          & 18-24      & NA         & NA         & 42        \\\\\n",
       "\t LFM360K.GB & 1          & II-B       & 11621      & 0.812      & NA         & 0.9861884  & 0.48606784 &  1         & 1.0000000  & ⋯          & 10000      &  1         & 1.0000000  & 0.5055259  & 0.25811086 & F          & 18-24      & NA         & NA         & 43        \\\\\n",
       "\t LFM360K.GB & 1          & II-B       & 44698      & 0.726      & NA         & 0.8214894  & 0.13763436 &  7         & 0.1428571  & ⋯          & 10000      &  7         & 0.1428571  & 0.2168469  & 0.05517179 & F          & 25-34      & NA         & NA         & 36        \\\\\n",
       "\\end{tabular}\n"
      ],
      "text/markdown": [
       "\n",
       "DataSet | Partition | Algorithm | user | TestTime | RMSE | Rank.nDCG | L100.nDCG | L100.Rank | L100.RecipRank | ⋯ | L10K.TopN.ActualLength | L10K.Rank | L10K.RecipRank | L10K.nDCG | L10K.AvgPrec | gender | age | occupation | zip | nitems | \n",
       "|---|---|---|---|---|---|---|---|---|---|---|\n",
       "| ML1M.GB    | 5          | UU-E       | 4077       | 2.166      | 0.5989862  | 0.9908541  | 0.06519129 | 41         | 0.02439024 | ⋯          | NA         | NA         | NA         | NA         | NA         | F          | 35-44      | 2          | 22030      | 222        | \n",
       "| ML1M.GB    | 5          | UU-E       | 4103       | 1.950      | 1.2600390  | 0.9702170  | 0.00000000 | NA         | 0.00000000 | ⋯          | NA         | NA         | NA         | NA         | NA         | M          | 18-24      | 16         | 11211      | 141        | \n",
       "| ML1M.GB    | 5          | UU-E       | 4109       | 1.723      | 0.8923990  | 0.9416146  | 0.05619730 | 63         | 0.01587302 | ⋯          | NA         | NA         | NA         | NA         | NA         | M          | 35-44      | 3          | 97202      |  20        | \n",
       "| ML1M.GB    | 5          | UU-E       | 4119       | 1.820      | 1.0580385  | 0.9256552  | 0.00000000 | NA         | 0.00000000 | ⋯          | NA         | NA         | NA         | NA         | NA         | M          | 50-55      | 1          | 39401      |  49        | \n",
       "| ML1M.GB    | 5          | UU-E       | 4134       | 1.950      | 0.8821956  | 0.9497345  | 0.00000000 | NA         | 0.00000000 | ⋯          | NA         | NA         | NA         | NA         | NA         | F          | 45-49      | 12         | 85283      | 113        | \n",
       "| ⋮ | ⋮ | ⋮ | ⋮ | ⋮ | ⋮ | ⋮ | ⋮ | ⋮ | ⋮ | ⋱ | ⋮ | ⋮ | ⋮ | ⋮ | ⋮ | ⋮ | ⋮ | ⋮ | ⋮ | ⋮ | \n",
       "| LFM360K.GB | 1          | II-B       |  2454      | 0.878      | NA         | 0.9786268  | 0.46868978 |  1         | 1.0000000  | ⋯          | 10000      |  1         | 1.0000000  | 0.5184497  | 0.24517077 | M          | 18-24      | NA         | NA         | 54         | \n",
       "| LFM360K.GB | 1          | II-B       | 44667      | 0.833      | NA         | 0.7707650  | 0.23238157 |  3         | 0.3333333  | ⋯          | 10000      |  3         | 0.3333333  | 0.2888432  | 0.16810283 | M          | 18-24      | NA         | NA         | 58         | \n",
       "| LFM360K.GB | 1          | II-B       | 35706      | 0.808      | NA         | 0.6387630  | 0.04326819 | 10         | 0.1000000  | ⋯          | 10000      | 10         | 0.1000000  | 0.1510542  | 0.03651757 | M          | 18-24      | NA         | NA         | 42         | \n",
       "| LFM360K.GB | 1          | II-B       | 11621      | 0.812      | NA         | 0.9861884  | 0.48606784 |  1         | 1.0000000  | ⋯          | 10000      |  1         | 1.0000000  | 0.5055259  | 0.25811086 | F          | 18-24      | NA         | NA         | 43         | \n",
       "| LFM360K.GB | 1          | II-B       | 44698      | 0.726      | NA         | 0.8214894  | 0.13763436 |  7         | 0.1428571  | ⋯          | 10000      |  7         | 0.1428571  | 0.2168469  | 0.05517179 | F          | 25-34      | NA         | NA         | 36         | \n",
       "\n",
       "\n"
      ],
      "text/plain": [
       "       DataSet    Partition Algorithm user  TestTime RMSE      Rank.nDCG\n",
       "1      ML1M.GB    5         UU-E      4077  2.166    0.5989862 0.9908541\n",
       "2      ML1M.GB    5         UU-E      4103  1.950    1.2600390 0.9702170\n",
       "3      ML1M.GB    5         UU-E      4109  1.723    0.8923990 0.9416146\n",
       "4      ML1M.GB    5         UU-E      4119  1.820    1.0580385 0.9256552\n",
       "5      ML1M.GB    5         UU-E      4134  1.950    0.8821956 0.9497345\n",
       "⋮      ⋮          ⋮         ⋮         ⋮     ⋮        ⋮         ⋮        \n",
       "198996 LFM360K.GB 1         II-B       2454 0.878    NA        0.9786268\n",
       "198997 LFM360K.GB 1         II-B      44667 0.833    NA        0.7707650\n",
       "198998 LFM360K.GB 1         II-B      35706 0.808    NA        0.6387630\n",
       "198999 LFM360K.GB 1         II-B      11621 0.812    NA        0.9861884\n",
       "199000 LFM360K.GB 1         II-B      44698 0.726    NA        0.8214894\n",
       "       L100.nDCG  L100.Rank L100.RecipRank ⋯ L10K.TopN.ActualLength L10K.Rank\n",
       "1      0.06519129 41        0.02439024     ⋯ NA                     NA       \n",
       "2      0.00000000 NA        0.00000000     ⋯ NA                     NA       \n",
       "3      0.05619730 63        0.01587302     ⋯ NA                     NA       \n",
       "4      0.00000000 NA        0.00000000     ⋯ NA                     NA       \n",
       "5      0.00000000 NA        0.00000000     ⋯ NA                     NA       \n",
       "⋮      ⋮          ⋮         ⋮              ⋱ ⋮                      ⋮        \n",
       "198996 0.46868978  1        1.0000000      ⋯ 10000                   1       \n",
       "198997 0.23238157  3        0.3333333      ⋯ 10000                   3       \n",
       "198998 0.04326819 10        0.1000000      ⋯ 10000                  10       \n",
       "198999 0.48606784  1        1.0000000      ⋯ 10000                   1       \n",
       "199000 0.13763436  7        0.1428571      ⋯ 10000                   7       \n",
       "       L10K.RecipRank L10K.nDCG L10K.AvgPrec gender age   occupation zip  \n",
       "1      NA             NA        NA           F      35-44 2          22030\n",
       "2      NA             NA        NA           M      18-24 16         11211\n",
       "3      NA             NA        NA           M      35-44 3          97202\n",
       "4      NA             NA        NA           M      50-55 1          39401\n",
       "5      NA             NA        NA           F      45-49 12         85283\n",
       "⋮      ⋮              ⋮         ⋮            ⋮      ⋮     ⋮          ⋮    \n",
       "198996 1.0000000      0.5184497 0.24517077   M      18-24 NA         NA   \n",
       "198997 0.3333333      0.2888432 0.16810283   M      18-24 NA         NA   \n",
       "198998 0.1000000      0.1510542 0.03651757   M      18-24 NA         NA   \n",
       "198999 1.0000000      0.5055259 0.25811086   F      18-24 NA         NA   \n",
       "199000 0.1428571      0.2168469 0.05517179   F      25-34 NA         NA   \n",
       "       nitems\n",
       "1      222   \n",
       "2      141   \n",
       "3       20   \n",
       "4       49   \n",
       "5      113   \n",
       "⋮      ⋮     \n",
       "198996 54    \n",
       "198997 58    \n",
       "198998 42    \n",
       "198999 43    \n",
       "199000 36    "
      ]
     },
     "metadata": {},
     "output_type": "display_data"
    }
   ],
   "source": [
    "user.results = \n",
    "    bind_rows(ml.user.results, lfm360k.user.results) %>%\n",
    "    inner_join(users)\n",
    "user.results"
   ]
  },
  {
   "cell_type": "code",
   "execution_count": 19,
   "metadata": {
    "collapsed": true
   },
   "outputs": [],
   "source": [
    "write_csv(user.results, \"build/integrated-user-results-balanced.csv\")"
   ]
  },
  {
   "cell_type": "code",
   "execution_count": 20,
   "metadata": {
    "collapsed": true
   },
   "outputs": [],
   "source": [
    "overall.results = user.results %>%\n",
    "    select(DataSet, Algorithm, RecipRank, nDCG, Rank.nDCG) %>%\n",
    "    group_by(DataSet, Algorithm) %>%\n",
    "    summarize(nDCG=mean(nDCG), MRR=mean(RecipRank), Rank.nDCG=mean(Rank.nDCG)) %>%\n",
    "    ungroup()"
   ]
  },
  {
   "cell_type": "code",
   "execution_count": 21,
   "metadata": {},
   "outputs": [
    {
     "data": {
      "text/html": [
       "<table>\n",
       "<thead><tr><th scope=col>DataSet</th><th scope=col>BestNDCG</th><th scope=col>BestAlgo</th></tr></thead>\n",
       "<tbody>\n",
       "\t<tr><td>LFM360K.GB</td><td>0.2976651 </td><td>II-CS     </td></tr>\n",
       "\t<tr><td>ML1M.GB   </td><td>0.3389445 </td><td>UU-B      </td></tr>\n",
       "</tbody>\n",
       "</table>\n"
      ],
      "text/latex": [
       "\\begin{tabular}{r|lll}\n",
       " DataSet & BestNDCG & BestAlgo\\\\\n",
       "\\hline\n",
       "\t LFM360K.GB & 0.2976651  & II-CS     \\\\\n",
       "\t ML1M.GB    & 0.3389445  & UU-B      \\\\\n",
       "\\end{tabular}\n"
      ],
      "text/markdown": [
       "\n",
       "DataSet | BestNDCG | BestAlgo | \n",
       "|---|---|\n",
       "| LFM360K.GB | 0.2976651  | II-CS      | \n",
       "| ML1M.GB    | 0.3389445  | UU-B       | \n",
       "\n",
       "\n"
      ],
      "text/plain": [
       "  DataSet    BestNDCG  BestAlgo\n",
       "1 LFM360K.GB 0.2976651 II-CS   \n",
       "2 ML1M.GB    0.3389445 UU-B    "
      ]
     },
     "metadata": {},
     "output_type": "display_data"
    }
   ],
   "source": [
    "best.algos = overall.results %>%\n",
    "    group_by(DataSet) %>%\n",
    "    summarize(BestNDCG=max(nDCG),\n",
    "              BestAlgo=Algorithm[which.max(nDCG)])\n",
    "best.algos"
   ]
  },
  {
   "cell_type": "code",
   "execution_count": 22,
   "metadata": {},
   "outputs": [
    {
     "name": "stderr",
     "output_type": "stream",
     "text": [
      "Joining, by = \"DataSet\"\n"
     ]
    },
    {
     "data": {
      "text/html": [
       "<table>\n",
       "<thead><tr><th scope=col>DataSet</th><th scope=col>Partition</th><th scope=col>Algorithm</th><th scope=col>user</th><th scope=col>TestTime</th><th scope=col>RMSE</th><th scope=col>Rank.nDCG</th><th scope=col>L100.nDCG</th><th scope=col>L100.Rank</th><th scope=col>L100.RecipRank</th><th scope=col>⋯</th><th scope=col>L10K.TopN.ActualLength</th><th scope=col>L10K.Rank</th><th scope=col>L10K.RecipRank</th><th scope=col>L10K.nDCG</th><th scope=col>L10K.AvgPrec</th><th scope=col>gender</th><th scope=col>age</th><th scope=col>occupation</th><th scope=col>zip</th><th scope=col>nitems</th></tr></thead>\n",
       "<tbody>\n",
       "\t<tr><td>LFM360K.GB </td><td>5          </td><td>II-CS      </td><td>241257     </td><td>0.984      </td><td>NA         </td><td>1.0000000  </td><td>0.8843862  </td><td> 1         </td><td>1.00000000 </td><td>⋯          </td><td>10000      </td><td> 1         </td><td>1.00000000 </td><td>0.9042851  </td><td>0.629553508</td><td>F          </td><td>18-24      </td><td>NA         </td><td>NA         </td><td>47         </td></tr>\n",
       "\t<tr><td>LFM360K.GB </td><td>5          </td><td>II-CS      </td><td>241379     </td><td>0.928      </td><td>NA         </td><td>0.9998046  </td><td>0.6155227  </td><td> 2         </td><td>0.50000000 </td><td>⋯          </td><td>10000      </td><td> 2         </td><td>0.50000000 </td><td>0.6284422  </td><td>0.277707892</td><td>M          </td><td>25-34      </td><td>NA         </td><td>NA         </td><td>43         </td></tr>\n",
       "\t<tr><td>LFM360K.GB </td><td>5          </td><td>II-CS      </td><td>241418     </td><td>1.257      </td><td>NA         </td><td>1.0000000  </td><td>0.0732648  </td><td>98         </td><td>0.01020408 </td><td>⋯          </td><td>10000      </td><td>98         </td><td>0.01020408 </td><td>0.1594662  </td><td>0.007873021</td><td>M          </td><td>25-34      </td><td>NA         </td><td>NA         </td><td>49         </td></tr>\n",
       "\t<tr><td>LFM360K.GB </td><td>5          </td><td>II-CS      </td><td>241591     </td><td>0.924      </td><td>NA         </td><td>0.9775495  </td><td>0.4665744  </td><td> 2         </td><td>0.50000000 </td><td>⋯          </td><td>10000      </td><td> 2         </td><td>0.50000000 </td><td>0.4867976  </td><td>0.135500106</td><td>M          </td><td>18-24      </td><td>NA         </td><td>NA         </td><td>46         </td></tr>\n",
       "\t<tr><td>LFM360K.GB </td><td>1          </td><td>II-CS      </td><td>238747     </td><td>0.891      </td><td>NA         </td><td>0.9617225  </td><td>0.1880519  </td><td> 2         </td><td>0.50000000 </td><td>⋯          </td><td>10000      </td><td> 2         </td><td>0.50000000 </td><td>0.2167042  </td><td>0.117434520</td><td>M          </td><td>25-34      </td><td>NA         </td><td>NA         </td><td>35         </td></tr>\n",
       "\t<tr><td>⋮</td><td>⋮</td><td>⋮</td><td>⋮</td><td>⋮</td><td>⋮</td><td>⋮</td><td>⋮</td><td>⋮</td><td>⋮</td><td>⋱</td><td>⋮</td><td>⋮</td><td>⋮</td><td>⋮</td><td>⋮</td><td>⋮</td><td>⋮</td><td>⋮</td><td>⋮</td><td>⋮</td></tr>\n",
       "\t<tr><td>ML1M.GB   </td><td>1         </td><td>UU-B      </td><td>3249      </td><td>1.884     </td><td>NA        </td><td>0.9956168 </td><td>0.16472759</td><td> 7        </td><td>0.14285714</td><td>⋯         </td><td>NA        </td><td>NA        </td><td>NA        </td><td>NA        </td><td>NA        </td><td>F         </td><td>25-34     </td><td>4         </td><td>92648     </td><td> 60       </td></tr>\n",
       "\t<tr><td>ML1M.GB   </td><td>1         </td><td>UU-B      </td><td>3086      </td><td>1.788     </td><td>NA        </td><td>1.0000000 </td><td>0.08470706</td><td>98        </td><td>0.01020408</td><td>⋯         </td><td>NA        </td><td>NA        </td><td>NA        </td><td>NA        </td><td>NA        </td><td>M         </td><td>18-24     </td><td>12        </td><td>98105     </td><td>108       </td></tr>\n",
       "\t<tr><td>ML1M.GB   </td><td>1         </td><td>UU-B      </td><td>3263      </td><td>1.936     </td><td>NA        </td><td>0.9568941 </td><td>0.61389900</td><td> 1        </td><td>1.00000000</td><td>⋯         </td><td>NA        </td><td>NA        </td><td>NA        </td><td>NA        </td><td>NA        </td><td>M         </td><td>50-55     </td><td>11        </td><td>66048     </td><td>108       </td></tr>\n",
       "\t<tr><td>ML1M.GB   </td><td>1         </td><td>UU-B      </td><td>3093      </td><td>1.883     </td><td>NA        </td><td>1.0000000 </td><td>0.16338324</td><td>11        </td><td>0.09090909</td><td>⋯         </td><td>NA        </td><td>NA        </td><td>NA        </td><td>NA        </td><td>NA        </td><td>F         </td><td>45-49     </td><td>20        </td><td>89134     </td><td>174       </td></tr>\n",
       "\t<tr><td>ML1M.GB   </td><td>1         </td><td>UU-B      </td><td>3266      </td><td>1.990     </td><td>NA        </td><td>0.9881348 </td><td>0.05101375</td><td>56        </td><td>0.01785714</td><td>⋯         </td><td>NA        </td><td>NA        </td><td>NA        </td><td>NA        </td><td>NA        </td><td>F         </td><td>25-34     </td><td>4         </td><td>95616     </td><td>146       </td></tr>\n",
       "</tbody>\n",
       "</table>\n"
      ],
      "text/latex": [
       "\\begin{tabular}{r|llllllllllllllllllllllllllllll}\n",
       " DataSet & Partition & Algorithm & user & TestTime & RMSE & Rank.nDCG & L100.nDCG & L100.Rank & L100.RecipRank & ⋯ & L10K.TopN.ActualLength & L10K.Rank & L10K.RecipRank & L10K.nDCG & L10K.AvgPrec & gender & age & occupation & zip & nitems\\\\\n",
       "\\hline\n",
       "\t LFM360K.GB  & 5           & II-CS       & 241257      & 0.984       & NA          & 1.0000000   & 0.8843862   &  1          & 1.00000000  & ⋯           & 10000       &  1          & 1.00000000  & 0.9042851   & 0.629553508 & F           & 18-24       & NA          & NA          & 47         \\\\\n",
       "\t LFM360K.GB  & 5           & II-CS       & 241379      & 0.928       & NA          & 0.9998046   & 0.6155227   &  2          & 0.50000000  & ⋯           & 10000       &  2          & 0.50000000  & 0.6284422   & 0.277707892 & M           & 25-34       & NA          & NA          & 43         \\\\\n",
       "\t LFM360K.GB  & 5           & II-CS       & 241418      & 1.257       & NA          & 1.0000000   & 0.0732648   & 98          & 0.01020408  & ⋯           & 10000       & 98          & 0.01020408  & 0.1594662   & 0.007873021 & M           & 25-34       & NA          & NA          & 49         \\\\\n",
       "\t LFM360K.GB  & 5           & II-CS       & 241591      & 0.924       & NA          & 0.9775495   & 0.4665744   &  2          & 0.50000000  & ⋯           & 10000       &  2          & 0.50000000  & 0.4867976   & 0.135500106 & M           & 18-24       & NA          & NA          & 46         \\\\\n",
       "\t LFM360K.GB  & 1           & II-CS       & 238747      & 0.891       & NA          & 0.9617225   & 0.1880519   &  2          & 0.50000000  & ⋯           & 10000       &  2          & 0.50000000  & 0.2167042   & 0.117434520 & M           & 25-34       & NA          & NA          & 35         \\\\\n",
       "\t ⋮ & ⋮ & ⋮ & ⋮ & ⋮ & ⋮ & ⋮ & ⋮ & ⋮ & ⋮ & ⋱ & ⋮ & ⋮ & ⋮ & ⋮ & ⋮ & ⋮ & ⋮ & ⋮ & ⋮ & ⋮\\\\\n",
       "\t ML1M.GB    & 1          & UU-B       & 3249       & 1.884      & NA         & 0.9956168  & 0.16472759 &  7         & 0.14285714 & ⋯          & NA         & NA         & NA         & NA         & NA         & F          & 25-34      & 4          & 92648      &  60       \\\\\n",
       "\t ML1M.GB    & 1          & UU-B       & 3086       & 1.788      & NA         & 1.0000000  & 0.08470706 & 98         & 0.01020408 & ⋯          & NA         & NA         & NA         & NA         & NA         & M          & 18-24      & 12         & 98105      & 108       \\\\\n",
       "\t ML1M.GB    & 1          & UU-B       & 3263       & 1.936      & NA         & 0.9568941  & 0.61389900 &  1         & 1.00000000 & ⋯          & NA         & NA         & NA         & NA         & NA         & M          & 50-55      & 11         & 66048      & 108       \\\\\n",
       "\t ML1M.GB    & 1          & UU-B       & 3093       & 1.883      & NA         & 1.0000000  & 0.16338324 & 11         & 0.09090909 & ⋯          & NA         & NA         & NA         & NA         & NA         & F          & 45-49      & 20         & 89134      & 174       \\\\\n",
       "\t ML1M.GB    & 1          & UU-B       & 3266       & 1.990      & NA         & 0.9881348  & 0.05101375 & 56         & 0.01785714 & ⋯          & NA         & NA         & NA         & NA         & NA         & F          & 25-34      & 4          & 95616      & 146       \\\\\n",
       "\\end{tabular}\n"
      ],
      "text/markdown": [
       "\n",
       "DataSet | Partition | Algorithm | user | TestTime | RMSE | Rank.nDCG | L100.nDCG | L100.Rank | L100.RecipRank | ⋯ | L10K.TopN.ActualLength | L10K.Rank | L10K.RecipRank | L10K.nDCG | L10K.AvgPrec | gender | age | occupation | zip | nitems | \n",
       "|---|---|---|---|---|---|---|---|---|---|---|\n",
       "| LFM360K.GB  | 5           | II-CS       | 241257      | 0.984       | NA          | 1.0000000   | 0.8843862   |  1          | 1.00000000  | ⋯           | 10000       |  1          | 1.00000000  | 0.9042851   | 0.629553508 | F           | 18-24       | NA          | NA          | 47          | \n",
       "| LFM360K.GB  | 5           | II-CS       | 241379      | 0.928       | NA          | 0.9998046   | 0.6155227   |  2          | 0.50000000  | ⋯           | 10000       |  2          | 0.50000000  | 0.6284422   | 0.277707892 | M           | 25-34       | NA          | NA          | 43          | \n",
       "| LFM360K.GB  | 5           | II-CS       | 241418      | 1.257       | NA          | 1.0000000   | 0.0732648   | 98          | 0.01020408  | ⋯           | 10000       | 98          | 0.01020408  | 0.1594662   | 0.007873021 | M           | 25-34       | NA          | NA          | 49          | \n",
       "| LFM360K.GB  | 5           | II-CS       | 241591      | 0.924       | NA          | 0.9775495   | 0.4665744   |  2          | 0.50000000  | ⋯           | 10000       |  2          | 0.50000000  | 0.4867976   | 0.135500106 | M           | 18-24       | NA          | NA          | 46          | \n",
       "| LFM360K.GB  | 1           | II-CS       | 238747      | 0.891       | NA          | 0.9617225   | 0.1880519   |  2          | 0.50000000  | ⋯           | 10000       |  2          | 0.50000000  | 0.2167042   | 0.117434520 | M           | 25-34       | NA          | NA          | 35          | \n",
       "| ⋮ | ⋮ | ⋮ | ⋮ | ⋮ | ⋮ | ⋮ | ⋮ | ⋮ | ⋮ | ⋱ | ⋮ | ⋮ | ⋮ | ⋮ | ⋮ | ⋮ | ⋮ | ⋮ | ⋮ | ⋮ | \n",
       "| ML1M.GB    | 1          | UU-B       | 3249       | 1.884      | NA         | 0.9956168  | 0.16472759 |  7         | 0.14285714 | ⋯          | NA         | NA         | NA         | NA         | NA         | F          | 25-34      | 4          | 92648      |  60        | \n",
       "| ML1M.GB    | 1          | UU-B       | 3086       | 1.788      | NA         | 1.0000000  | 0.08470706 | 98         | 0.01020408 | ⋯          | NA         | NA         | NA         | NA         | NA         | M          | 18-24      | 12         | 98105      | 108        | \n",
       "| ML1M.GB    | 1          | UU-B       | 3263       | 1.936      | NA         | 0.9568941  | 0.61389900 |  1         | 1.00000000 | ⋯          | NA         | NA         | NA         | NA         | NA         | M          | 50-55      | 11         | 66048      | 108        | \n",
       "| ML1M.GB    | 1          | UU-B       | 3093       | 1.883      | NA         | 1.0000000  | 0.16338324 | 11         | 0.09090909 | ⋯          | NA         | NA         | NA         | NA         | NA         | F          | 45-49      | 20         | 89134      | 174        | \n",
       "| ML1M.GB    | 1          | UU-B       | 3266       | 1.990      | NA         | 0.9881348  | 0.05101375 | 56         | 0.01785714 | ⋯          | NA         | NA         | NA         | NA         | NA         | F          | 25-34      | 4          | 95616      | 146        | \n",
       "\n",
       "\n"
      ],
      "text/plain": [
       "      DataSet    Partition Algorithm user   TestTime RMSE Rank.nDCG L100.nDCG \n",
       "1     LFM360K.GB 5         II-CS     241257 0.984    NA   1.0000000 0.8843862 \n",
       "2     LFM360K.GB 5         II-CS     241379 0.928    NA   0.9998046 0.6155227 \n",
       "3     LFM360K.GB 5         II-CS     241418 1.257    NA   1.0000000 0.0732648 \n",
       "4     LFM360K.GB 5         II-CS     241591 0.924    NA   0.9775495 0.4665744 \n",
       "5     LFM360K.GB 1         II-CS     238747 0.891    NA   0.9617225 0.1880519 \n",
       "⋮     ⋮          ⋮         ⋮         ⋮      ⋮        ⋮    ⋮         ⋮         \n",
       "27996 ML1M.GB    1         UU-B      3249   1.884    NA   0.9956168 0.16472759\n",
       "27997 ML1M.GB    1         UU-B      3086   1.788    NA   1.0000000 0.08470706\n",
       "27998 ML1M.GB    1         UU-B      3263   1.936    NA   0.9568941 0.61389900\n",
       "27999 ML1M.GB    1         UU-B      3093   1.883    NA   1.0000000 0.16338324\n",
       "28000 ML1M.GB    1         UU-B      3266   1.990    NA   0.9881348 0.05101375\n",
       "      L100.Rank L100.RecipRank ⋯ L10K.TopN.ActualLength L10K.Rank\n",
       "1      1        1.00000000     ⋯ 10000                   1       \n",
       "2      2        0.50000000     ⋯ 10000                   2       \n",
       "3     98        0.01020408     ⋯ 10000                  98       \n",
       "4      2        0.50000000     ⋯ 10000                   2       \n",
       "5      2        0.50000000     ⋯ 10000                   2       \n",
       "⋮     ⋮         ⋮              ⋱ ⋮                      ⋮        \n",
       "27996  7        0.14285714     ⋯ NA                     NA       \n",
       "27997 98        0.01020408     ⋯ NA                     NA       \n",
       "27998  1        1.00000000     ⋯ NA                     NA       \n",
       "27999 11        0.09090909     ⋯ NA                     NA       \n",
       "28000 56        0.01785714     ⋯ NA                     NA       \n",
       "      L10K.RecipRank L10K.nDCG L10K.AvgPrec gender age   occupation zip  \n",
       "1     1.00000000     0.9042851 0.629553508  F      18-24 NA         NA   \n",
       "2     0.50000000     0.6284422 0.277707892  M      25-34 NA         NA   \n",
       "3     0.01020408     0.1594662 0.007873021  M      25-34 NA         NA   \n",
       "4     0.50000000     0.4867976 0.135500106  M      18-24 NA         NA   \n",
       "5     0.50000000     0.2167042 0.117434520  M      25-34 NA         NA   \n",
       "⋮     ⋮              ⋮         ⋮            ⋮      ⋮     ⋮          ⋮    \n",
       "27996 NA             NA        NA           F      25-34 4          92648\n",
       "27997 NA             NA        NA           M      18-24 12         98105\n",
       "27998 NA             NA        NA           M      50-55 11         66048\n",
       "27999 NA             NA        NA           F      45-49 20         89134\n",
       "28000 NA             NA        NA           F      25-34 4          95616\n",
       "      nitems\n",
       "1     47    \n",
       "2     43    \n",
       "3     49    \n",
       "4     46    \n",
       "5     35    \n",
       "⋮     ⋮     \n",
       "27996  60   \n",
       "27997 108   \n",
       "27998 108   \n",
       "27999 174   \n",
       "28000 146   "
      ]
     },
     "metadata": {},
     "output_type": "display_data"
    }
   ],
   "source": [
    "best.results = best.algos %>%\n",
    "    select(DataSet, BestAlgo) %>%\n",
    "    inner_join(user.results) %>%\n",
    "    filter(Algorithm == BestAlgo) %>%\n",
    "    select(-BestAlgo)\n",
    "best.results"
   ]
  },
  {
   "cell_type": "markdown",
   "metadata": {},
   "source": [
    "## Gender\n",
    "\n",
    "Let's analyze accuracy by gender."
   ]
  },
  {
   "cell_type": "code",
   "execution_count": 23,
   "metadata": {},
   "outputs": [
    {
     "data": {
      "text/html": [
       "<table>\n",
       "<thead><tr><th scope=col>DataSet</th><th scope=col>Algorithm</th><th scope=col>gender</th><th scope=col>nDCG</th><th scope=col>Rank.nDCG</th><th scope=col>MRR</th></tr></thead>\n",
       "<tbody>\n",
       "\t<tr><td>LFM360K.GB </td><td>II-B       </td><td>F          </td><td>0.29524594 </td><td>0.8908668  </td><td>0.294032645</td></tr>\n",
       "\t<tr><td>LFM360K.GB </td><td>II-B       </td><td>M          </td><td>0.29684951 </td><td>0.8918202  </td><td>0.301677861</td></tr>\n",
       "\t<tr><td>LFM360K.GB </td><td>II-C       </td><td>F          </td><td>0.08977526 </td><td>0.8831727  </td><td>0.001039092</td></tr>\n",
       "\t<tr><td>LFM360K.GB </td><td>II-C       </td><td>M          </td><td>0.09027137 </td><td>0.8849393  </td><td>0.001313784</td></tr>\n",
       "\t<tr><td>LFM360K.GB </td><td>II-CS      </td><td>F          </td><td>0.29668966 </td><td>0.8918097  </td><td>0.294232913</td></tr>\n",
       "\t<tr><td>LFM360K.GB </td><td>II-CS      </td><td>M          </td><td>0.29864882 </td><td>0.8926383  </td><td>0.303016296</td></tr>\n",
       "</tbody>\n",
       "</table>\n"
      ],
      "text/latex": [
       "\\begin{tabular}{r|llllll}\n",
       " DataSet & Algorithm & gender & nDCG & Rank.nDCG & MRR\\\\\n",
       "\\hline\n",
       "\t LFM360K.GB  & II-B        & F           & 0.29524594  & 0.8908668   & 0.294032645\\\\\n",
       "\t LFM360K.GB  & II-B        & M           & 0.29684951  & 0.8918202   & 0.301677861\\\\\n",
       "\t LFM360K.GB  & II-C        & F           & 0.08977526  & 0.8831727   & 0.001039092\\\\\n",
       "\t LFM360K.GB  & II-C        & M           & 0.09027137  & 0.8849393   & 0.001313784\\\\\n",
       "\t LFM360K.GB  & II-CS       & F           & 0.29668966  & 0.8918097   & 0.294232913\\\\\n",
       "\t LFM360K.GB  & II-CS       & M           & 0.29864882  & 0.8926383   & 0.303016296\\\\\n",
       "\\end{tabular}\n"
      ],
      "text/markdown": [
       "\n",
       "DataSet | Algorithm | gender | nDCG | Rank.nDCG | MRR | \n",
       "|---|---|---|---|---|---|\n",
       "| LFM360K.GB  | II-B        | F           | 0.29524594  | 0.8908668   | 0.294032645 | \n",
       "| LFM360K.GB  | II-B        | M           | 0.29684951  | 0.8918202   | 0.301677861 | \n",
       "| LFM360K.GB  | II-C        | F           | 0.08977526  | 0.8831727   | 0.001039092 | \n",
       "| LFM360K.GB  | II-C        | M           | 0.09027137  | 0.8849393   | 0.001313784 | \n",
       "| LFM360K.GB  | II-CS       | F           | 0.29668966  | 0.8918097   | 0.294232913 | \n",
       "| LFM360K.GB  | II-CS       | M           | 0.29864882  | 0.8926383   | 0.303016296 | \n",
       "\n",
       "\n"
      ],
      "text/plain": [
       "  DataSet    Algorithm gender nDCG       Rank.nDCG MRR        \n",
       "1 LFM360K.GB II-B      F      0.29524594 0.8908668 0.294032645\n",
       "2 LFM360K.GB II-B      M      0.29684951 0.8918202 0.301677861\n",
       "3 LFM360K.GB II-C      F      0.08977526 0.8831727 0.001039092\n",
       "4 LFM360K.GB II-C      M      0.09027137 0.8849393 0.001313784\n",
       "5 LFM360K.GB II-CS     F      0.29668966 0.8918097 0.294232913\n",
       "6 LFM360K.GB II-CS     M      0.29864882 0.8926383 0.303016296"
      ]
     },
     "metadata": {},
     "output_type": "display_data"
    }
   ],
   "source": [
    "gender.results = user.results %>%\n",
    "    select(DataSet, Algorithm, gender, RecipRank, nDCG, Rank.nDCG) %>%\n",
    "    group_by(DataSet, Algorithm, gender) %>%\n",
    "    summarize(nDCG=mean(nDCG), Rank.nDCG=mean(Rank.nDCG), MRR=mean(RecipRank)) %>%\n",
    "    ungroup()\n",
    "head(gender.results)"
   ]
  },
  {
   "cell_type": "code",
   "execution_count": 24,
   "metadata": {},
   "outputs": [
    {
     "name": "stderr",
     "output_type": "stream",
     "text": [
      "Warning message in bind_rows_(x, .id):\n",
      "“binding factor and character vector, coercing into character vector”Joining, by = \"DataSet\"\n"
     ]
    },
    {
     "data": {
      "text/html": [
       "<table>\n",
       "<thead><tr><th scope=col>DataSet</th><th scope=col>Algorithm</th><th scope=col>gender</th><th scope=col>nDCG</th><th scope=col>Rank.nDCG</th><th scope=col>MRR</th><th scope=col>BestAlgo</th><th scope=col>IsBest</th></tr></thead>\n",
       "<tbody>\n",
       "\t<tr><td>LFM360K.GB </td><td>II-B       </td><td>F          </td><td>0.29524594 </td><td>0.8908668  </td><td>0.294032645</td><td>II-CS      </td><td>FALSE      </td></tr>\n",
       "\t<tr><td>LFM360K.GB </td><td>II-B       </td><td>M          </td><td>0.29684951 </td><td>0.8918202  </td><td>0.301677861</td><td>II-CS      </td><td>FALSE      </td></tr>\n",
       "\t<tr><td>LFM360K.GB </td><td>II-C       </td><td>F          </td><td>0.08977526 </td><td>0.8831727  </td><td>0.001039092</td><td>II-CS      </td><td>FALSE      </td></tr>\n",
       "\t<tr><td>LFM360K.GB </td><td>II-C       </td><td>M          </td><td>0.09027137 </td><td>0.8849393  </td><td>0.001313784</td><td>II-CS      </td><td>FALSE      </td></tr>\n",
       "\t<tr><td>LFM360K.GB </td><td>II-CS      </td><td>F          </td><td>0.29668966 </td><td>0.8918097  </td><td>0.294232913</td><td>II-CS      </td><td> TRUE      </td></tr>\n",
       "\t<tr><td>LFM360K.GB </td><td>II-CS      </td><td>M          </td><td>0.29864882 </td><td>0.8926383  </td><td>0.303016296</td><td>II-CS      </td><td> TRUE      </td></tr>\n",
       "</tbody>\n",
       "</table>\n"
      ],
      "text/latex": [
       "\\begin{tabular}{r|llllllll}\n",
       " DataSet & Algorithm & gender & nDCG & Rank.nDCG & MRR & BestAlgo & IsBest\\\\\n",
       "\\hline\n",
       "\t LFM360K.GB  & II-B        & F           & 0.29524594  & 0.8908668   & 0.294032645 & II-CS       & FALSE      \\\\\n",
       "\t LFM360K.GB  & II-B        & M           & 0.29684951  & 0.8918202   & 0.301677861 & II-CS       & FALSE      \\\\\n",
       "\t LFM360K.GB  & II-C        & F           & 0.08977526  & 0.8831727   & 0.001039092 & II-CS       & FALSE      \\\\\n",
       "\t LFM360K.GB  & II-C        & M           & 0.09027137  & 0.8849393   & 0.001313784 & II-CS       & FALSE      \\\\\n",
       "\t LFM360K.GB  & II-CS       & F           & 0.29668966  & 0.8918097   & 0.294232913 & II-CS       &  TRUE      \\\\\n",
       "\t LFM360K.GB  & II-CS       & M           & 0.29864882  & 0.8926383   & 0.303016296 & II-CS       &  TRUE      \\\\\n",
       "\\end{tabular}\n"
      ],
      "text/markdown": [
       "\n",
       "DataSet | Algorithm | gender | nDCG | Rank.nDCG | MRR | BestAlgo | IsBest | \n",
       "|---|---|---|---|---|---|\n",
       "| LFM360K.GB  | II-B        | F           | 0.29524594  | 0.8908668   | 0.294032645 | II-CS       | FALSE       | \n",
       "| LFM360K.GB  | II-B        | M           | 0.29684951  | 0.8918202   | 0.301677861 | II-CS       | FALSE       | \n",
       "| LFM360K.GB  | II-C        | F           | 0.08977526  | 0.8831727   | 0.001039092 | II-CS       | FALSE       | \n",
       "| LFM360K.GB  | II-C        | M           | 0.09027137  | 0.8849393   | 0.001313784 | II-CS       | FALSE       | \n",
       "| LFM360K.GB  | II-CS       | F           | 0.29668966  | 0.8918097   | 0.294232913 | II-CS       |  TRUE       | \n",
       "| LFM360K.GB  | II-CS       | M           | 0.29864882  | 0.8926383   | 0.303016296 | II-CS       |  TRUE       | \n",
       "\n",
       "\n"
      ],
      "text/plain": [
       "  DataSet    Algorithm gender nDCG       Rank.nDCG MRR         BestAlgo IsBest\n",
       "1 LFM360K.GB II-B      F      0.29524594 0.8908668 0.294032645 II-CS    FALSE \n",
       "2 LFM360K.GB II-B      M      0.29684951 0.8918202 0.301677861 II-CS    FALSE \n",
       "3 LFM360K.GB II-C      F      0.08977526 0.8831727 0.001039092 II-CS    FALSE \n",
       "4 LFM360K.GB II-C      M      0.09027137 0.8849393 0.001313784 II-CS    FALSE \n",
       "5 LFM360K.GB II-CS     F      0.29668966 0.8918097 0.294232913 II-CS     TRUE \n",
       "6 LFM360K.GB II-CS     M      0.29864882 0.8926383 0.303016296 II-CS     TRUE "
      ]
     },
     "metadata": {},
     "output_type": "display_data"
    }
   ],
   "source": [
    "combined.results = bind_rows(gender.results,\n",
    "                             overall.results %>% mutate(gender = 'Any')) %>%\n",
    "    inner_join(best.algos %>% select(DataSet, BestAlgo)) %>%\n",
    "    mutate(IsBest = Algorithm == BestAlgo)\n",
    "head(combined.results)"
   ]
  },
  {
   "cell_type": "markdown",
   "metadata": {},
   "source": [
    "What does the nDCG look like?"
   ]
  },
  {
   "cell_type": "code",
   "execution_count": 25,
   "metadata": {},
   "outputs": [
    {
     "data": {},
     "metadata": {},
     "output_type": "display_data"
    },
    {
     "data": {
      "image/png": "[encoded data removed]",
      "text/plain": [
       "plot without title"
      ]
     },
     "metadata": {},
     "output_type": "display_data"
    }
   ],
   "source": [
    "ggplot(combined.results) +\n",
    "    aes(x=Algorithm, y=nDCG) +\n",
    "    geom_bar(stat=\"identity\") +\n",
    "    facet_grid(DataSet ~ gender, scales=\"free\") +\n",
    "    theme_paper() +\n",
    "    theme(axis.text.x = element_text(angle = 90, hjust = 1, vjust=0.5))"
   ]
  },
  {
   "cell_type": "code",
   "execution_count": 26,
   "metadata": {},
   "outputs": [
    {
     "data": {},
     "metadata": {},
     "output_type": "display_data"
    },
    {
     "data": {
      "image/png": "[encoded data removed]",
      "text/plain": [
       "plot without title"
      ]
     },
     "metadata": {},
     "output_type": "display_data"
    }
   ],
   "source": [
    "ggplot(combined.results) +\n",
    "    aes(x=Algorithm, y=MRR) +\n",
    "    geom_bar(stat=\"identity\") +\n",
    "    facet_grid(DataSet ~ gender, scales=\"free\") +\n",
    "    theme_paper() +\n",
    "    theme(axis.text.x = element_text(angle = 90, hjust = 1, vjust=0.5))"
   ]
  },
  {
   "cell_type": "markdown",
   "metadata": {},
   "source": [
    "For the paper, we need to split the nDCG plots into separate MovieLens and Last.FM charts."
   ]
  },
  {
   "cell_type": "code",
   "execution_count": 31,
   "metadata": {
    "scrolled": false
   },
   "outputs": [
    {
     "data": {},
     "metadata": {},
     "output_type": "display_data"
    },
    {
     "data": {
      "image/png": "[encoded data removed]",
      "text/plain": [
       "plot without title"
      ]
     },
     "metadata": {},
     "output_type": "display_data"
    }
   ],
   "source": [
    "make.plot(\"balanced-gender-ndcg-lfm\", width=5.5, height=1.9, {\n",
    "    ggplot(combined.results %>% filter(startsWith(DataSet, \"LFM\"))) +\n",
    "        aes(x=gender, y=nDCG, fill=IsBest) +\n",
    "        geom_bar(stat=\"identity\") +\n",
    "        facet_grid(DataSet ~ Algorithm, scales=\"free\") +\n",
    "        scale_fill_manual(values=c(\"grey25\", \"firebrick4\")) +\n",
    "        guides(fill=FALSE) +\n",
    "        theme_paper() +\n",
    "        theme(axis.text.x = element_text(angle = 90, hjust = 1, vjust=0.5))\n",
    "})"
   ]
  },
  {
   "cell_type": "code",
   "execution_count": 28,
   "metadata": {},
   "outputs": [
    {
     "data": {},
     "metadata": {},
     "output_type": "display_data"
    },
    {
     "data": {
      "image/png": "[encoded data removed]",
      "text/plain": [
       "plot without title"
      ]
     },
     "metadata": {},
     "output_type": "display_data"
    }
   ],
   "source": [
    "make.plot(\"balanced-gender-ndcg-ml\", width=5.5, height=1.9, {\n",
    "    ggplot(combined.results %>% filter(startsWith(DataSet, \"ML\"))) +\n",
    "        aes(x=gender, y=nDCG, fill=IsBest) +\n",
    "        geom_bar(stat=\"identity\") +\n",
    "        facet_grid(DataSet ~ Algorithm, scales=\"free\") +\n",
    "        scale_fill_manual(values=c(\"grey25\", \"firebrick4\")) +\n",
    "        guides(fill=FALSE) +\n",
    "        xlab(NULL) +\n",
    "        theme_paper() +\n",
    "        theme(axis.text.x = element_text(angle = 90, hjust = 1, vjust=0.5))\n",
    "})"
   ]
  },
  {
   "cell_type": "markdown",
   "metadata": {},
   "source": [
    "Kruskal-Wallis test"
   ]
  },
  {
   "cell_type": "code",
   "execution_count": 29,
   "metadata": {},
   "outputs": [
    {
     "data": {
      "text/plain": [
       "\n",
       "\tKruskal-Wallis rank sum test\n",
       "\n",
       "data:  nDCG by gender\n",
       "Kruskal-Wallis chi-squared = 3.6614, df = 1, p-value = 0.05569\n"
      ]
     },
     "metadata": {},
     "output_type": "display_data"
    }
   ],
   "source": [
    "kruskal.test(nDCG ~ gender, filter(best.results, DataSet == \"ML1M.GB\"))"
   ]
  },
  {
   "cell_type": "code",
   "execution_count": 30,
   "metadata": {},
   "outputs": [
    {
     "data": {
      "text/plain": [
       "\n",
       "\tKruskal-Wallis rank sum test\n",
       "\n",
       "data:  nDCG by gender\n",
       "Kruskal-Wallis chi-squared = 0.13351, df = 1, p-value = 0.7148\n"
      ]
     },
     "metadata": {},
     "output_type": "display_data"
    }
   ],
   "source": [
    "kruskal.test(nDCG ~ gender, filter(best.results, DataSet == \"LFM360K.GB\"))"
   ]
  },
  {
   "cell_type": "code",
   "execution_count": null,
   "metadata": {
    "collapsed": true
   },
   "outputs": [],
   "source": []
  }
 ],
 "metadata": {
  "kernelspec": {
   "display_name": "R",
   "language": "R",
   "name": "ir"
  },
  "language_info": {
   "codemirror_mode": "r",
   "file_extension": ".r",
   "mimetype": "text/x-r-source",
   "name": "R",
   "pygments_lexer": "r",
   "version": "3.3.2"
  }
 },
 "nbformat": 4,
 "nbformat_minor": 2
}
