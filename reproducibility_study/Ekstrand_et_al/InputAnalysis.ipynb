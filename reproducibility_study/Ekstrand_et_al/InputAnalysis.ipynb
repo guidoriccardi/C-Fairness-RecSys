{
 "cells": [
  {
   "cell_type": "markdown",
   "metadata": {},
   "source": [
    "# Input Analysis\n",
    "\n",
    "This notebook contains our analysis of the input data sets to understand the basic demographic distribution before we run experiments."
   ]
  },
  {
   "cell_type": "markdown",
   "metadata": {},
   "source": [
    "## Setup\n",
    "\n",
    "First, we want to load some libraries."
   ]
  },
  {
   "cell_type": "code",
   "execution_count": 4,
   "metadata": {},
   "outputs": [
    {
     "name": "stderr",
     "output_type": "stream",
     "text": [
      "\n",
      "Attaching package: ‘dplyr’\n",
      "\n",
      "The following objects are masked from ‘package:stats’:\n",
      "\n",
      "    filter, lag\n",
      "\n",
      "The following objects are masked from ‘package:base’:\n",
      "\n",
      "    intersect, setdiff, setequal, union\n",
      "\n"
     ]
    }
   ],
   "source": [
    "library(dplyr)\n",
    "library(readr)\n",
    "library(ggplot2)"
   ]
  },
  {
   "cell_type": "code",
   "execution_count": 5,
   "metadata": {
    "collapsed": true
   },
   "outputs": [],
   "source": [
    "options(repr.plot.height=5)\n",
    "options(repr.matrix.max.rows=10)\n",
    "options(repr.matrix.max.columns=10)"
   ]
  },
  {
   "cell_type": "markdown",
   "metadata": {},
   "source": [
    "We also want need a utility function that will render a plot to files, in addition to rendering it to the notebook."
   ]
  },
  {
   "cell_type": "code",
   "execution_count": 6,
   "metadata": {
    "collapsed": true
   },
   "outputs": [],
   "source": [
    "source(\"plot-tools.R\")"
   ]
  },
  {
   "cell_type": "markdown",
   "metadata": {},
   "source": [
    "We need to be able to normalize ages."
   ]
  },
  {
   "cell_type": "code",
   "execution_count": 20,
   "metadata": {
    "collapsed": true
   },
   "outputs": [],
   "source": [
    "ml_age_bins = c(\"1\"=\"1-17\", \"18\"=\"18-24\", \"25\"=\"25-34\", \"35\"=\"35-44\", \"45\"=\"45-49\", \"50\"=\"50-55\", \"56\"=\"56+\")\n",
    "ml_age_lbs = c(1, 18, 25, 35, 45, 50, 56)"
   ]
  },
  {
   "cell_type": "markdown",
   "metadata": {},
   "source": [
    "Function to bound numeric ages:"
   ]
  },
  {
   "cell_type": "code",
   "execution_count": 21,
   "metadata": {
    "collapsed": true
   },
   "outputs": [],
   "source": [
    "bound_ages = function(ages, bounds=ml_age_lbs) {\n",
    "    ages[ages <= 0] = NA\n",
    "    selectors = rowSums(outer(ages, ml_age_lbs, \">=\"))\n",
    "    factor(ml_age_bins[selectors], levels=ml_age_bins, ordered=TRUE)\n",
    "}"
   ]
  },
  {
   "cell_type": "markdown",
   "metadata": {},
   "source": [
    "Function to rename MovieLens age lower bounds:"
   ]
  },
  {
   "cell_type": "code",
   "execution_count": 3,
   "metadata": {
    "collapsed": true
   },
   "outputs": [],
   "source": [
    "rename_ages = function(ages) {\n",
    "    factor(ml_age_bins[ages], levels=ml_age_bins, ordered=TRUE)\n",
    "}"
   ]
  },
  {
   "cell_type": "markdown",
   "metadata": {},
   "source": [
    "## Load MovieLens data\n",
    "\n",
    "We want to read the ML-1M ratings file:"
   ]
  },
  {
   "cell_type": "code",
   "execution_count": 4,
   "metadata": {},
   "outputs": [
    {
     "data": {
      "text/html": [
       "<table>\n",
       "<thead><tr><th scope=col>user</th><th scope=col>item</th><th scope=col>rating</th><th scope=col>timestamp</th></tr></thead>\n",
       "<tbody>\n",
       "\t<tr><td>1        </td><td>1193     </td><td>5        </td><td>978300760</td></tr>\n",
       "\t<tr><td>1        </td><td> 661     </td><td>3        </td><td>978302109</td></tr>\n",
       "\t<tr><td>1        </td><td> 914     </td><td>3        </td><td>978301968</td></tr>\n",
       "\t<tr><td>1        </td><td>3408     </td><td>4        </td><td>978300275</td></tr>\n",
       "\t<tr><td>1        </td><td>2355     </td><td>5        </td><td>978824291</td></tr>\n",
       "\t<tr><td>⋮</td><td>⋮</td><td>⋮</td><td>⋮</td></tr>\n",
       "\t<tr><td>6040     </td><td>1091     </td><td>1        </td><td>956716541</td></tr>\n",
       "\t<tr><td>6040     </td><td>1094     </td><td>5        </td><td>956704887</td></tr>\n",
       "\t<tr><td>6040     </td><td> 562     </td><td>5        </td><td>956704746</td></tr>\n",
       "\t<tr><td>6040     </td><td>1096     </td><td>4        </td><td>956715648</td></tr>\n",
       "\t<tr><td>6040     </td><td>1097     </td><td>4        </td><td>956715569</td></tr>\n",
       "</tbody>\n",
       "</table>\n"
      ],
      "text/latex": [
       "\\begin{tabular}{r|llll}\n",
       " user & item & rating & timestamp\\\\\n",
       "\\hline\n",
       "\t 1         & 1193      & 5         & 978300760\\\\\n",
       "\t 1         &  661      & 3         & 978302109\\\\\n",
       "\t 1         &  914      & 3         & 978301968\\\\\n",
       "\t 1         & 3408      & 4         & 978300275\\\\\n",
       "\t 1         & 2355      & 5         & 978824291\\\\\n",
       "\t ⋮ & ⋮ & ⋮ & ⋮\\\\\n",
       "\t 6040      & 1091      & 1         & 956716541\\\\\n",
       "\t 6040      & 1094      & 5         & 956704887\\\\\n",
       "\t 6040      &  562      & 5         & 956704746\\\\\n",
       "\t 6040      & 1096      & 4         & 956715648\\\\\n",
       "\t 6040      & 1097      & 4         & 956715569\\\\\n",
       "\\end{tabular}\n"
      ],
      "text/markdown": [
       "\n",
       "user | item | rating | timestamp | \n",
       "|---|---|---|---|---|---|---|---|---|---|---|\n",
       "| 1         | 1193      | 5         | 978300760 | \n",
       "| 1         |  661      | 3         | 978302109 | \n",
       "| 1         |  914      | 3         | 978301968 | \n",
       "| 1         | 3408      | 4         | 978300275 | \n",
       "| 1         | 2355      | 5         | 978824291 | \n",
       "| ⋮ | ⋮ | ⋮ | ⋮ | \n",
       "| 6040      | 1091      | 1         | 956716541 | \n",
       "| 6040      | 1094      | 5         | 956704887 | \n",
       "| 6040      |  562      | 5         | 956704746 | \n",
       "| 6040      | 1096      | 4         | 956715648 | \n",
       "| 6040      | 1097      | 4         | 956715569 | \n",
       "\n",
       "\n"
      ],
      "text/plain": [
       "        user item rating timestamp\n",
       "1       1    1193 5      978300760\n",
       "2       1     661 3      978302109\n",
       "3       1     914 3      978301968\n",
       "4       1    3408 4      978300275\n",
       "5       1    2355 5      978824291\n",
       "⋮       ⋮    ⋮    ⋮      ⋮        \n",
       "1000205 6040 1091 1      956716541\n",
       "1000206 6040 1094 5      956704887\n",
       "1000207 6040  562 5      956704746\n",
       "1000208 6040 1096 4      956715648\n",
       "1000209 6040 1097 4      956715569"
      ]
     },
     "metadata": {},
     "output_type": "display_data"
    }
   ],
   "source": [
    "ml_ratings = read_delim(\"data/ml-1m/ratings.dat\", delim=\":\",\n",
    "                        col_names=c(\"user\", \"item\", \"rating\", \"timestamp\"),\n",
    "                        col_types=\"i_i_i_i\")\n",
    "ml_ratings"
   ]
  },
  {
   "cell_type": "markdown",
   "metadata": {},
   "source": [
    "And load in the per-user data:"
   ]
  },
  {
   "cell_type": "code",
   "execution_count": 7,
   "metadata": {},
   "outputs": [
    {
     "data": {
      "text/html": [
       "<table>\n",
       "<thead><tr><th scope=col>user</th><th scope=col>gender</th><th scope=col>rawAge</th><th scope=col>occupation</th><th scope=col>zip</th><th scope=col>age</th></tr></thead>\n",
       "<tbody>\n",
       "\t<tr><td>1    </td><td>F    </td><td>1    </td><td>10   </td><td>48067</td><td>1-17 </td></tr>\n",
       "\t<tr><td>2    </td><td>M    </td><td>56   </td><td>16   </td><td>70072</td><td>56+  </td></tr>\n",
       "\t<tr><td>3    </td><td>M    </td><td>25   </td><td>15   </td><td>55117</td><td>25-34</td></tr>\n",
       "\t<tr><td>4    </td><td>M    </td><td>45   </td><td>7    </td><td>02460</td><td>45-49</td></tr>\n",
       "\t<tr><td>5    </td><td>M    </td><td>25   </td><td>20   </td><td>55455</td><td>25-34</td></tr>\n",
       "\t<tr><td>⋮</td><td>⋮</td><td>⋮</td><td>⋮</td><td>⋮</td><td>⋮</td></tr>\n",
       "\t<tr><td>6036 </td><td>F    </td><td>25   </td><td>15   </td><td>32603</td><td>25-34</td></tr>\n",
       "\t<tr><td>6037 </td><td>F    </td><td>45   </td><td>1    </td><td>76006</td><td>45-49</td></tr>\n",
       "\t<tr><td>6038 </td><td>F    </td><td>56   </td><td>1    </td><td>14706</td><td>56+  </td></tr>\n",
       "\t<tr><td>6039 </td><td>F    </td><td>45   </td><td>0    </td><td>01060</td><td>45-49</td></tr>\n",
       "\t<tr><td>6040 </td><td>M    </td><td>25   </td><td>6    </td><td>11106</td><td>25-34</td></tr>\n",
       "</tbody>\n",
       "</table>\n"
      ],
      "text/latex": [
       "\\begin{tabular}{r|llllll}\n",
       " user & gender & rawAge & occupation & zip & age\\\\\n",
       "\\hline\n",
       "\t 1     & F     & 1     & 10    & 48067 & 1-17 \\\\\n",
       "\t 2     & M     & 56    & 16    & 70072 & 56+  \\\\\n",
       "\t 3     & M     & 25    & 15    & 55117 & 25-34\\\\\n",
       "\t 4     & M     & 45    & 7     & 02460 & 45-49\\\\\n",
       "\t 5     & M     & 25    & 20    & 55455 & 25-34\\\\\n",
       "\t ⋮ & ⋮ & ⋮ & ⋮ & ⋮ & ⋮\\\\\n",
       "\t 6036  & F     & 25    & 15    & 32603 & 25-34\\\\\n",
       "\t 6037  & F     & 45    & 1     & 76006 & 45-49\\\\\n",
       "\t 6038  & F     & 56    & 1     & 14706 & 56+  \\\\\n",
       "\t 6039  & F     & 45    & 0     & 01060 & 45-49\\\\\n",
       "\t 6040  & M     & 25    & 6     & 11106 & 25-34\\\\\n",
       "\\end{tabular}\n"
      ],
      "text/markdown": [
       "\n",
       "user | gender | rawAge | occupation | zip | age | \n",
       "|---|---|---|---|---|---|---|---|---|---|---|\n",
       "| 1     | F     | 1     | 10    | 48067 | 1-17  | \n",
       "| 2     | M     | 56    | 16    | 70072 | 56+   | \n",
       "| 3     | M     | 25    | 15    | 55117 | 25-34 | \n",
       "| 4     | M     | 45    | 7     | 02460 | 45-49 | \n",
       "| 5     | M     | 25    | 20    | 55455 | 25-34 | \n",
       "| ⋮ | ⋮ | ⋮ | ⋮ | ⋮ | ⋮ | \n",
       "| 6036  | F     | 25    | 15    | 32603 | 25-34 | \n",
       "| 6037  | F     | 45    | 1     | 76006 | 45-49 | \n",
       "| 6038  | F     | 56    | 1     | 14706 | 56+   | \n",
       "| 6039  | F     | 45    | 0     | 01060 | 45-49 | \n",
       "| 6040  | M     | 25    | 6     | 11106 | 25-34 | \n",
       "\n",
       "\n"
      ],
      "text/plain": [
       "     user gender rawAge occupation zip   age  \n",
       "1    1    F      1      10         48067 1-17 \n",
       "2    2    M      56     16         70072 56+  \n",
       "3    3    M      25     15         55117 25-34\n",
       "4    4    M      45     7          02460 45-49\n",
       "5    5    M      25     20         55455 25-34\n",
       "⋮    ⋮    ⋮      ⋮      ⋮          ⋮     ⋮    \n",
       "6036 6036 F      25     15         32603 25-34\n",
       "6037 6037 F      45     1          76006 45-49\n",
       "6038 6038 F      56     1          14706 56+  \n",
       "6039 6039 F      45     0          01060 45-49\n",
       "6040 6040 M      25     6          11106 25-34"
      ]
     },
     "metadata": {},
     "output_type": "display_data"
    }
   ],
   "source": [
    "ml_users = read_delim(\"data/ml-1m/users.dat\", delim=\":\",\n",
    "                      col_names=c(\"user\", \"gender\", \"age\", \"occupation\", \"zip\"),\n",
    "                      col_types=\"i_c_c_c_c\") %>%\n",
    "    rename(rawAge=age) %>%\n",
    "    mutate(gender=as.factor(gender),\n",
    "           age=rename_ages(rawAge),\n",
    "           occupation=as.factor(occupation))\n",
    "ml_users"
   ]
  },
  {
   "cell_type": "code",
   "execution_count": 8,
   "metadata": {},
   "outputs": [
    {
     "ename": "ERROR",
     "evalue": "Error in eval(expr, envir, enclos): object 'ml_ratings' not found\n",
     "output_type": "error",
     "traceback": [
      "Error in eval(expr, envir, enclos): object 'ml_ratings' not found\nTraceback:\n",
      "1. ml_ratings %>% group_by(item) %>% summarize(RatingCount = n(), \n .     MeanRating = mean(rating), MinRating = min(rating), MaxRating = max(rating)) %>% \n .     mutate(PopRank = rank(-RatingCount))",
      "2. eval(lhs, parent, parent)",
      "3. eval(expr, envir, enclos)"
     ]
    }
   ],
   "source": [
    "ml_item_stats = ml_ratings %>%\n",
    "    group_by(item) %>%\n",
    "    summarize(RatingCount=n(),\n",
    "              MeanRating=mean(rating),\n",
    "              MinRating=min(rating),\n",
    "              MaxRating=max(rating)) %>%\n",
    "    mutate(PopRank=rank(-RatingCount))\n",
    "ml_item_stats"
   ]
  },
  {
   "cell_type": "code",
   "execution_count": 19,
   "metadata": {},
   "outputs": [
    {
     "name": "stderr",
     "output_type": "stream",
     "text": [
      "Joining, by = \"item\"\n",
      "Joining, by = \"user\"\n"
     ]
    },
    {
     "data": {
      "text/html": [
       "<table>\n",
       "<thead><tr><th scope=col>user</th><th scope=col>RatingCount</th><th scope=col>MeanRating</th><th scope=col>MinRating</th><th scope=col>MaxRating</th><th scope=col>MeanPopRank</th><th scope=col>MedRatingCount</th><th scope=col>AccountLifetime</th><th scope=col>gender</th><th scope=col>rawAge</th><th scope=col>occupation</th><th scope=col>zip</th><th scope=col>age</th></tr></thead>\n",
       "<tbody>\n",
       "\t<tr><td>1       </td><td> 53     </td><td>4.188679</td><td>3       </td><td>5       </td><td>397.9811</td><td> 53     </td><td>524332  </td><td>F       </td><td>1       </td><td>10      </td><td>48067   </td><td>1-17    </td></tr>\n",
       "\t<tr><td>2       </td><td>129     </td><td>3.713178</td><td>1       </td><td>5       </td><td>454.5698</td><td>129     </td><td>  2050  </td><td>M       </td><td>56      </td><td>16      </td><td>70072   </td><td>56+     </td></tr>\n",
       "\t<tr><td>3       </td><td> 51     </td><td>3.901961</td><td>1       </td><td>5       </td><td>289.4706</td><td> 51     </td><td>  1486  </td><td>M       </td><td>25      </td><td>15      </td><td>55117   </td><td>25-34   </td></tr>\n",
       "\t<tr><td>4       </td><td> 21     </td><td>4.190476</td><td>1       </td><td>5       </td><td>148.5476</td><td> 21     </td><td>   358  </td><td>M       </td><td>45      </td><td>7       </td><td>02460   </td><td>45-49   </td></tr>\n",
       "\t<tr><td>5       </td><td>198     </td><td>3.146465</td><td>1       </td><td>5       </td><td>832.9268</td><td>198     </td><td>  5513  </td><td>M       </td><td>25      </td><td>20      </td><td>55455   </td><td>25-34   </td></tr>\n",
       "\t<tr><td>⋮</td><td>⋮</td><td>⋮</td><td>⋮</td><td>⋮</td><td>⋮</td><td>⋮</td><td>⋮</td><td>⋮</td><td>⋮</td><td>⋮</td><td>⋮</td><td>⋮</td></tr>\n",
       "\t<tr><td>6036    </td><td>888     </td><td>3.302928</td><td>1       </td><td>5       </td><td>954.6430</td><td>888     </td><td>   45847</td><td>F       </td><td>25      </td><td>15      </td><td>32603   </td><td>25-34   </td></tr>\n",
       "\t<tr><td>6037    </td><td>202     </td><td>3.717822</td><td>1       </td><td>5       </td><td>561.6485</td><td>202     </td><td>   92843</td><td>F       </td><td>45      </td><td>1       </td><td>76006   </td><td>45-49   </td></tr>\n",
       "\t<tr><td>6038    </td><td> 20     </td><td>3.800000</td><td>1       </td><td>5       </td><td>482.4250</td><td> 20     </td><td>   10377</td><td>F       </td><td>56      </td><td>1       </td><td>14706   </td><td>56+     </td></tr>\n",
       "\t<tr><td>6039    </td><td>123     </td><td>3.878049</td><td>2       </td><td>5       </td><td>701.7967</td><td>123     </td><td>   52871</td><td>F       </td><td>45      </td><td>0       </td><td>01060   </td><td>45-49   </td></tr>\n",
       "\t<tr><td>6040    </td><td>341     </td><td>3.577713</td><td>1       </td><td>5       </td><td>719.8065</td><td>341     </td><td>41611123</td><td>M       </td><td>25      </td><td>6       </td><td>11106   </td><td>25-34   </td></tr>\n",
       "</tbody>\n",
       "</table>\n"
      ],
      "text/latex": [
       "\\begin{tabular}{r|lllllllllllll}\n",
       " user & RatingCount & MeanRating & MinRating & MaxRating & MeanPopRank & MedRatingCount & AccountLifetime & gender & rawAge & occupation & zip & age\\\\\n",
       "\\hline\n",
       "\t 1        &  53      & 4.188679 & 3        & 5        & 397.9811 &  53      & 524332   & F        & 1        & 10       & 48067    & 1-17    \\\\\n",
       "\t 2        & 129      & 3.713178 & 1        & 5        & 454.5698 & 129      &   2050   & M        & 56       & 16       & 70072    & 56+     \\\\\n",
       "\t 3        &  51      & 3.901961 & 1        & 5        & 289.4706 &  51      &   1486   & M        & 25       & 15       & 55117    & 25-34   \\\\\n",
       "\t 4        &  21      & 4.190476 & 1        & 5        & 148.5476 &  21      &    358   & M        & 45       & 7        & 02460    & 45-49   \\\\\n",
       "\t 5        & 198      & 3.146465 & 1        & 5        & 832.9268 & 198      &   5513   & M        & 25       & 20       & 55455    & 25-34   \\\\\n",
       "\t ⋮ & ⋮ & ⋮ & ⋮ & ⋮ & ⋮ & ⋮ & ⋮ & ⋮ & ⋮ & ⋮ & ⋮ & ⋮\\\\\n",
       "\t 6036     & 888      & 3.302928 & 1        & 5        & 954.6430 & 888      &    45847 & F        & 25       & 15       & 32603    & 25-34   \\\\\n",
       "\t 6037     & 202      & 3.717822 & 1        & 5        & 561.6485 & 202      &    92843 & F        & 45       & 1        & 76006    & 45-49   \\\\\n",
       "\t 6038     &  20      & 3.800000 & 1        & 5        & 482.4250 &  20      &    10377 & F        & 56       & 1        & 14706    & 56+     \\\\\n",
       "\t 6039     & 123      & 3.878049 & 2        & 5        & 701.7967 & 123      &    52871 & F        & 45       & 0        & 01060    & 45-49   \\\\\n",
       "\t 6040     & 341      & 3.577713 & 1        & 5        & 719.8065 & 341      & 41611123 & M        & 25       & 6        & 11106    & 25-34   \\\\\n",
       "\\end{tabular}\n"
      ],
      "text/markdown": [
       "\n",
       "user | RatingCount | MeanRating | MinRating | MaxRating | MeanPopRank | MedRatingCount | AccountLifetime | gender | rawAge | occupation | zip | age | \n",
       "|---|---|---|---|---|---|---|---|---|---|---|\n",
       "| 1        |  53      | 4.188679 | 3        | 5        | 397.9811 |  53      | 524332   | F        | 1        | 10       | 48067    | 1-17     | \n",
       "| 2        | 129      | 3.713178 | 1        | 5        | 454.5698 | 129      |   2050   | M        | 56       | 16       | 70072    | 56+      | \n",
       "| 3        |  51      | 3.901961 | 1        | 5        | 289.4706 |  51      |   1486   | M        | 25       | 15       | 55117    | 25-34    | \n",
       "| 4        |  21      | 4.190476 | 1        | 5        | 148.5476 |  21      |    358   | M        | 45       | 7        | 02460    | 45-49    | \n",
       "| 5        | 198      | 3.146465 | 1        | 5        | 832.9268 | 198      |   5513   | M        | 25       | 20       | 55455    | 25-34    | \n",
       "| ⋮ | ⋮ | ⋮ | ⋮ | ⋮ | ⋮ | ⋮ | ⋮ | ⋮ | ⋮ | ⋮ | ⋮ | ⋮ | \n",
       "| 6036     | 888      | 3.302928 | 1        | 5        | 954.6430 | 888      |    45847 | F        | 25       | 15       | 32603    | 25-34    | \n",
       "| 6037     | 202      | 3.717822 | 1        | 5        | 561.6485 | 202      |    92843 | F        | 45       | 1        | 76006    | 45-49    | \n",
       "| 6038     |  20      | 3.800000 | 1        | 5        | 482.4250 |  20      |    10377 | F        | 56       | 1        | 14706    | 56+      | \n",
       "| 6039     | 123      | 3.878049 | 2        | 5        | 701.7967 | 123      |    52871 | F        | 45       | 0        | 01060    | 45-49    | \n",
       "| 6040     | 341      | 3.577713 | 1        | 5        | 719.8065 | 341      | 41611123 | M        | 25       | 6        | 11106    | 25-34    | \n",
       "\n",
       "\n"
      ],
      "text/plain": [
       "     user RatingCount MeanRating MinRating MaxRating MeanPopRank MedRatingCount\n",
       "1    1     53         4.188679   3         5         397.9811     53           \n",
       "2    2    129         3.713178   1         5         454.5698    129           \n",
       "3    3     51         3.901961   1         5         289.4706     51           \n",
       "4    4     21         4.190476   1         5         148.5476     21           \n",
       "5    5    198         3.146465   1         5         832.9268    198           \n",
       "⋮    ⋮    ⋮           ⋮          ⋮         ⋮         ⋮           ⋮             \n",
       "6036 6036 888         3.302928   1         5         954.6430    888           \n",
       "6037 6037 202         3.717822   1         5         561.6485    202           \n",
       "6038 6038  20         3.800000   1         5         482.4250     20           \n",
       "6039 6039 123         3.878049   2         5         701.7967    123           \n",
       "6040 6040 341         3.577713   1         5         719.8065    341           \n",
       "     AccountLifetime gender rawAge occupation zip   age  \n",
       "1    524332          F      1      10         48067 1-17 \n",
       "2      2050          M      56     16         70072 56+  \n",
       "3      1486          M      25     15         55117 25-34\n",
       "4       358          M      45     7          02460 45-49\n",
       "5      5513          M      25     20         55455 25-34\n",
       "⋮    ⋮               ⋮      ⋮      ⋮          ⋮     ⋮    \n",
       "6036    45847        F      25     15         32603 25-34\n",
       "6037    92843        F      45     1          76006 45-49\n",
       "6038    10377        F      56     1          14706 56+  \n",
       "6039    52871        F      45     0          01060 45-49\n",
       "6040 41611123        M      25     6          11106 25-34"
      ]
     },
     "metadata": {},
     "output_type": "display_data"
    }
   ],
   "source": [
    "ml_user_stats = ml_ratings %>%\n",
    "    inner_join(ml_item_stats %>% select(item, RatingCount, PopRank)) %>%\n",
    "    group_by(user) %>%\n",
    "    summarize(RatingCount=n(),\n",
    "              MeanRating=mean(rating),\n",
    "              MinRating=min(rating),\n",
    "              MaxRating=max(rating),\n",
    "              MeanPopRank=mean(PopRank),\n",
    "              MedRatingCount=median(RatingCount),\n",
    "              AccountLifetime=max(timestamp) - min(timestamp)) %>%\n",
    "    inner_join(ml_users)\n",
    "ml_user_stats"
   ]
  },
  {
   "cell_type": "markdown",
   "metadata": {},
   "source": [
    "## Load Last.FM 360K data"
   ]
  },
  {
   "cell_type": "markdown",
   "metadata": {},
   "source": [
    "Preliminary: we need to normalize Last.FM ages to match MovieLens age brackets.  This is carefully constructed to be vectorized.\n",
    "\n",
    "- The `outer` function builds a matrix whose rows are user ages, columns are ML age bounds, and values are whether the that bound is less than or equal to the age.\n",
    "- If we sum each row, we get the number of lower bounds less than or equal to the age\n",
    "- This is, conveniently, the index into the list of ML age lower bounds of that age's greatest lower bound!"
   ]
  },
  {
   "cell_type": "markdown",
   "metadata": {},
   "source": [
    "Load user-item play count data:"
   ]
  },
  {
   "cell_type": "code",
   "execution_count": 9,
   "metadata": {},
   "outputs": [
    {
     "name": "stderr",
     "output_type": "stream",
     "text": [
      "Parsed with column specification:\n",
      "cols(\n",
      "  user = col_integer(),\n",
      "  item = col_integer(),\n",
      "  count = col_integer()\n",
      ")\n"
     ]
    },
    {
     "data": {
      "text/html": [
       "<table>\n",
       "<thead><tr><th scope=col>user</th><th scope=col>item</th><th scope=col>count</th></tr></thead>\n",
       "<tbody>\n",
       "\t<tr><td>1   </td><td>1   </td><td>2137</td></tr>\n",
       "\t<tr><td>1   </td><td>2   </td><td>1099</td></tr>\n",
       "\t<tr><td>1   </td><td>3   </td><td> 897</td></tr>\n",
       "\t<tr><td>1   </td><td>4   </td><td> 717</td></tr>\n",
       "\t<tr><td>1   </td><td>5   </td><td> 706</td></tr>\n",
       "\t<tr><td>⋮</td><td>⋮</td><td>⋮</td></tr>\n",
       "\t<tr><td>359347</td><td> 195  </td><td>61    </td></tr>\n",
       "\t<tr><td>359347</td><td>9968  </td><td>61    </td></tr>\n",
       "\t<tr><td>359347</td><td>1552  </td><td>59    </td></tr>\n",
       "\t<tr><td>359347</td><td> 808  </td><td>58    </td></tr>\n",
       "\t<tr><td>359347</td><td> 179  </td><td>57    </td></tr>\n",
       "</tbody>\n",
       "</table>\n"
      ],
      "text/latex": [
       "\\begin{tabular}{r|lll}\n",
       " user & item & count\\\\\n",
       "\\hline\n",
       "\t 1    & 1    & 2137\\\\\n",
       "\t 1    & 2    & 1099\\\\\n",
       "\t 1    & 3    &  897\\\\\n",
       "\t 1    & 4    &  717\\\\\n",
       "\t 1    & 5    &  706\\\\\n",
       "\t ⋮ & ⋮ & ⋮\\\\\n",
       "\t 359347 &  195   & 61    \\\\\n",
       "\t 359347 & 9968   & 61    \\\\\n",
       "\t 359347 & 1552   & 59    \\\\\n",
       "\t 359347 &  808   & 58    \\\\\n",
       "\t 359347 &  179   & 57    \\\\\n",
       "\\end{tabular}\n"
      ],
      "text/markdown": [
       "\n",
       "user | item | count | \n",
       "|---|---|---|---|---|---|---|---|---|---|---|\n",
       "| 1    | 1    | 2137 | \n",
       "| 1    | 2    | 1099 | \n",
       "| 1    | 3    |  897 | \n",
       "| 1    | 4    |  717 | \n",
       "| 1    | 5    |  706 | \n",
       "| ⋮ | ⋮ | ⋮ | \n",
       "| 359347 |  195   | 61     | \n",
       "| 359347 | 9968   | 61     | \n",
       "| 359347 | 1552   | 59     | \n",
       "| 359347 |  808   | 58     | \n",
       "| 359347 |  179   | 57     | \n",
       "\n",
       "\n"
      ],
      "text/plain": [
       "         user   item count\n",
       "1        1      1    2137 \n",
       "2        1      2    1099 \n",
       "3        1      3     897 \n",
       "4        1      4     717 \n",
       "5        1      5     706 \n",
       "⋮        ⋮      ⋮    ⋮    \n",
       "17559439 359347  195 61   \n",
       "17559440 359347 9968 61   \n",
       "17559441 359347 1552 59   \n",
       "17559442 359347  808 58   \n",
       "17559443 359347  179 57   "
      ]
     },
     "metadata": {},
     "output_type": "display_data"
    }
   ],
   "source": [
    "lfm_play_counts = read_csv(\"build/lastfm-play-counts.csv\")\n",
    "lfm_play_counts"
   ]
  },
  {
   "cell_type": "code",
   "execution_count": 9,
   "metadata": {},
   "outputs": [
    {
     "name": "stderr",
     "output_type": "stream",
     "text": [
      "Parsed with column specification:\n",
      "cols(\n",
      "  id = col_integer(),\n",
      "  key = col_character(),\n",
      "  gender = col_character(),\n",
      "  age = col_integer()\n",
      ")\n"
     ]
    },
    {
     "data": {
      "text/html": [
       "<table>\n",
       "<thead><tr><th scope=col>id</th><th scope=col>key</th><th scope=col>gender</th><th scope=col>age</th></tr></thead>\n",
       "<tbody>\n",
       "\t<tr><td>1                                       </td><td>00000c289a1829a808ac09c00daf10bc3c4e223b</td><td>f                                       </td><td>22                                      </td></tr>\n",
       "\t<tr><td>2                                       </td><td>00001411dc427966b17297bf4d69e7e193135d89</td><td>f                                       </td><td>NA                                      </td></tr>\n",
       "\t<tr><td>3                                       </td><td>00004d2ac9316e22dc007ab2243d6fcb239e707d</td><td>NA                                      </td><td>NA                                      </td></tr>\n",
       "\t<tr><td>4                                       </td><td>000063d3fe1cf2ba248b9e3c3f0334845a27a6bf</td><td>m                                       </td><td>19                                      </td></tr>\n",
       "\t<tr><td>5                                       </td><td>00007a47085b9aab8af55f52ec8846ac479ac4fe</td><td>m                                       </td><td>28                                      </td></tr>\n",
       "\t<tr><td>6                                       </td><td>0000c176103e538d5c9828e695fed4f7ae42dd01</td><td>m                                       </td><td>20                                      </td></tr>\n",
       "</tbody>\n",
       "</table>\n"
      ],
      "text/latex": [
       "\\begin{tabular}{r|llll}\n",
       " id & key & gender & age\\\\\n",
       "\\hline\n",
       "\t 1                                        & 00000c289a1829a808ac09c00daf10bc3c4e223b & f                                        & 22                                      \\\\\n",
       "\t 2                                        & 00001411dc427966b17297bf4d69e7e193135d89 & f                                        & NA                                      \\\\\n",
       "\t 3                                        & 00004d2ac9316e22dc007ab2243d6fcb239e707d & NA                                       & NA                                      \\\\\n",
       "\t 4                                        & 000063d3fe1cf2ba248b9e3c3f0334845a27a6bf & m                                        & 19                                      \\\\\n",
       "\t 5                                        & 00007a47085b9aab8af55f52ec8846ac479ac4fe & m                                        & 28                                      \\\\\n",
       "\t 6                                        & 0000c176103e538d5c9828e695fed4f7ae42dd01 & m                                        & 20                                      \\\\\n",
       "\\end{tabular}\n"
      ],
      "text/markdown": [
       "\n",
       "id | key | gender | age | \n",
       "|---|---|---|---|---|---|\n",
       "| 1                                        | 00000c289a1829a808ac09c00daf10bc3c4e223b | f                                        | 22                                       | \n",
       "| 2                                        | 00001411dc427966b17297bf4d69e7e193135d89 | f                                        | NA                                       | \n",
       "| 3                                        | 00004d2ac9316e22dc007ab2243d6fcb239e707d | NA                                       | NA                                       | \n",
       "| 4                                        | 000063d3fe1cf2ba248b9e3c3f0334845a27a6bf | m                                        | 19                                       | \n",
       "| 5                                        | 00007a47085b9aab8af55f52ec8846ac479ac4fe | m                                        | 28                                       | \n",
       "| 6                                        | 0000c176103e538d5c9828e695fed4f7ae42dd01 | m                                        | 20                                       | \n",
       "\n",
       "\n"
      ],
      "text/plain": [
       "  id key                                      gender age\n",
       "1 1  00000c289a1829a808ac09c00daf10bc3c4e223b f      22 \n",
       "2 2  00001411dc427966b17297bf4d69e7e193135d89 f      NA \n",
       "3 3  00004d2ac9316e22dc007ab2243d6fcb239e707d NA     NA \n",
       "4 4  000063d3fe1cf2ba248b9e3c3f0334845a27a6bf m      19 \n",
       "5 5  00007a47085b9aab8af55f52ec8846ac479ac4fe m      28 \n",
       "6 6  0000c176103e538d5c9828e695fed4f7ae42dd01 m      20 "
      ]
     },
     "metadata": {},
     "output_type": "display_data"
    }
   ],
   "source": [
    "lfm_users_raw = read_csv(\"build/lastfm-users.csv\")\n",
    "head(lfm_users_raw)"
   ]
  },
  {
   "cell_type": "code",
   "execution_count": 19,
   "metadata": {},
   "outputs": [
    {
     "data": {
      "text/html": [
       "<table>\n",
       "<thead><tr><th scope=col>id</th><th scope=col>gender</th><th scope=col>age</th></tr></thead>\n",
       "<tbody>\n",
       "\t<tr><td>1    </td><td>F    </td><td>18-24</td></tr>\n",
       "\t<tr><td>2    </td><td>F    </td><td>Unk  </td></tr>\n",
       "\t<tr><td>3    </td><td>Un   </td><td>Unk  </td></tr>\n",
       "\t<tr><td>4    </td><td>M    </td><td>18-24</td></tr>\n",
       "\t<tr><td>5    </td><td>M    </td><td>25-34</td></tr>\n",
       "\t<tr><td>⋮</td><td>⋮</td><td>⋮</td></tr>\n",
       "\t<tr><td>359343</td><td>M     </td><td>25-34 </td></tr>\n",
       "\t<tr><td>359344</td><td>M     </td><td>25-34 </td></tr>\n",
       "\t<tr><td>359345</td><td>M     </td><td>18-24 </td></tr>\n",
       "\t<tr><td>359346</td><td>M     </td><td>18-24 </td></tr>\n",
       "\t<tr><td>359347</td><td>M     </td><td>18-24 </td></tr>\n",
       "</tbody>\n",
       "</table>\n"
      ],
      "text/latex": [
       "\\begin{tabular}{r|lll}\n",
       " id & gender & age\\\\\n",
       "\\hline\n",
       "\t 1     & F     & 18-24\\\\\n",
       "\t 2     & F     & Unk  \\\\\n",
       "\t 3     & Un    & Unk  \\\\\n",
       "\t 4     & M     & 18-24\\\\\n",
       "\t 5     & M     & 25-34\\\\\n",
       "\t ⋮ & ⋮ & ⋮\\\\\n",
       "\t 359343 & M      & 25-34 \\\\\n",
       "\t 359344 & M      & 25-34 \\\\\n",
       "\t 359345 & M      & 18-24 \\\\\n",
       "\t 359346 & M      & 18-24 \\\\\n",
       "\t 359347 & M      & 18-24 \\\\\n",
       "\\end{tabular}\n"
      ],
      "text/markdown": [
       "\n",
       "id | gender | age | \n",
       "|---|---|---|---|---|---|---|---|---|---|---|\n",
       "| 1     | F     | 18-24 | \n",
       "| 2     | F     | Unk   | \n",
       "| 3     | Un    | Unk   | \n",
       "| 4     | M     | 18-24 | \n",
       "| 5     | M     | 25-34 | \n",
       "| ⋮ | ⋮ | ⋮ | \n",
       "| 359343 | M      | 25-34  | \n",
       "| 359344 | M      | 25-34  | \n",
       "| 359345 | M      | 18-24  | \n",
       "| 359346 | M      | 18-24  | \n",
       "| 359347 | M      | 18-24  | \n",
       "\n",
       "\n"
      ],
      "text/plain": [
       "       id     gender age  \n",
       "1      1      F      18-24\n",
       "2      2      F      Unk  \n",
       "3      3      Un     Unk  \n",
       "4      4      M      18-24\n",
       "5      5      M      25-34\n",
       "⋮      ⋮      ⋮      ⋮    \n",
       "359343 359343 M      25-34\n",
       "359344 359344 M      25-34\n",
       "359345 359345 M      18-24\n",
       "359346 359346 M      18-24\n",
       "359347 359347 M      18-24"
      ]
     },
     "metadata": {},
     "output_type": "display_data"
    }
   ],
   "source": [
    "lfm_users = lfm_users_raw %>%\n",
    "    select(-key) %>%\n",
    "    mutate(gender = as.factor(toupper(gender)),\n",
    "           age = bound_ages(age))\n",
    "lfm_users"
   ]
  },
  {
   "cell_type": "markdown",
   "metadata": {},
   "source": [
    "Now that we have that, let's compute per-user profile statistics and join them with the ages!"
   ]
  },
  {
   "cell_type": "code",
   "execution_count": 22,
   "metadata": {},
   "outputs": [
    {
     "name": "stderr",
     "output_type": "stream",
     "text": [
      "Joining, by = \"user\"\n"
     ]
    },
    {
     "data": {
      "text/html": [
       "<table>\n",
       "<thead><tr><th scope=col>user</th><th scope=col>gender</th><th scope=col>age</th><th scope=col>ArtistCount</th><th scope=col>TotalPlays</th><th scope=col>MeanPlays</th><th scope=col>MedPlays</th></tr></thead>\n",
       "<tbody>\n",
       "\t<tr><td>1         </td><td>F         </td><td>18-24     </td><td>49        </td><td> 16716    </td><td> 341.14286</td><td> 227.0    </td></tr>\n",
       "\t<tr><td>2         </td><td>F         </td><td>NA        </td><td>51        </td><td>119921    </td><td>2351.39216</td><td>1468.0    </td></tr>\n",
       "\t<tr><td>3         </td><td>NA        </td><td>NA        </td><td>46        </td><td>  5770    </td><td> 125.43478</td><td>  90.0    </td></tr>\n",
       "\t<tr><td>4         </td><td>M         </td><td>18-24     </td><td>49        </td><td>   586    </td><td>  11.95918</td><td>   8.0    </td></tr>\n",
       "\t<tr><td>5         </td><td>M         </td><td>25-34     </td><td>50        </td><td>  6115    </td><td> 122.30000</td><td>  88.5    </td></tr>\n",
       "\t<tr><td>⋮</td><td>⋮</td><td>⋮</td><td>⋮</td><td>⋮</td><td>⋮</td><td>⋮</td></tr>\n",
       "\t<tr><td>359343   </td><td>M        </td><td>25-34    </td><td>45       </td><td> 3224    </td><td> 71.64444</td><td> 58.0    </td></tr>\n",
       "\t<tr><td>359344   </td><td>M        </td><td>25-34    </td><td>48       </td><td>11207    </td><td>233.47917</td><td> 77.5    </td></tr>\n",
       "\t<tr><td>359345   </td><td>M        </td><td>18-24    </td><td>62       </td><td>11434    </td><td>184.41935</td><td>120.5    </td></tr>\n",
       "\t<tr><td>359346   </td><td>M        </td><td>18-24    </td><td>21       </td><td> 5408    </td><td>257.52381</td><td>201.0    </td></tr>\n",
       "\t<tr><td>359347   </td><td>M        </td><td>18-24    </td><td>50       </td><td> 7440    </td><td>148.80000</td><td> 97.5    </td></tr>\n",
       "</tbody>\n",
       "</table>\n"
      ],
      "text/latex": [
       "\\begin{tabular}{r|lllllll}\n",
       " user & gender & age & ArtistCount & TotalPlays & MeanPlays & MedPlays\\\\\n",
       "\\hline\n",
       "\t 1          & F          & 18-24      & 49         &  16716     &  341.14286 &  227.0    \\\\\n",
       "\t 2          & F          & NA         & 51         & 119921     & 2351.39216 & 1468.0    \\\\\n",
       "\t 3          & NA         & NA         & 46         &   5770     &  125.43478 &   90.0    \\\\\n",
       "\t 4          & M          & 18-24      & 49         &    586     &   11.95918 &    8.0    \\\\\n",
       "\t 5          & M          & 25-34      & 50         &   6115     &  122.30000 &   88.5    \\\\\n",
       "\t ⋮ & ⋮ & ⋮ & ⋮ & ⋮ & ⋮ & ⋮\\\\\n",
       "\t 359343    & M         & 25-34     & 45        &  3224     &  71.64444 &  58.0    \\\\\n",
       "\t 359344    & M         & 25-34     & 48        & 11207     & 233.47917 &  77.5    \\\\\n",
       "\t 359345    & M         & 18-24     & 62        & 11434     & 184.41935 & 120.5    \\\\\n",
       "\t 359346    & M         & 18-24     & 21        &  5408     & 257.52381 & 201.0    \\\\\n",
       "\t 359347    & M         & 18-24     & 50        &  7440     & 148.80000 &  97.5    \\\\\n",
       "\\end{tabular}\n"
      ],
      "text/markdown": [
       "\n",
       "user | gender | age | ArtistCount | TotalPlays | MeanPlays | MedPlays | \n",
       "|---|---|---|---|---|---|---|---|---|---|---|\n",
       "| 1          | F          | 18-24      | 49         |  16716     |  341.14286 |  227.0     | \n",
       "| 2          | F          | NA         | 51         | 119921     | 2351.39216 | 1468.0     | \n",
       "| 3          | NA         | NA         | 46         |   5770     |  125.43478 |   90.0     | \n",
       "| 4          | M          | 18-24      | 49         |    586     |   11.95918 |    8.0     | \n",
       "| 5          | M          | 25-34      | 50         |   6115     |  122.30000 |   88.5     | \n",
       "| ⋮ | ⋮ | ⋮ | ⋮ | ⋮ | ⋮ | ⋮ | \n",
       "| 359343    | M         | 25-34     | 45        |  3224     |  71.64444 |  58.0     | \n",
       "| 359344    | M         | 25-34     | 48        | 11207     | 233.47917 |  77.5     | \n",
       "| 359345    | M         | 18-24     | 62        | 11434     | 184.41935 | 120.5     | \n",
       "| 359346    | M         | 18-24     | 21        |  5408     | 257.52381 | 201.0     | \n",
       "| 359347    | M         | 18-24     | 50        |  7440     | 148.80000 |  97.5     | \n",
       "\n",
       "\n"
      ],
      "text/plain": [
       "       user   gender age   ArtistCount TotalPlays MeanPlays  MedPlays\n",
       "1      1      F      18-24 49           16716      341.14286  227.0  \n",
       "2      2      F      NA    51          119921     2351.39216 1468.0  \n",
       "3      3      NA     NA    46            5770      125.43478   90.0  \n",
       "4      4      M      18-24 49             586       11.95918    8.0  \n",
       "5      5      M      25-34 50            6115      122.30000   88.5  \n",
       "⋮      ⋮      ⋮      ⋮     ⋮           ⋮          ⋮          ⋮       \n",
       "359343 359343 M      25-34 45           3224       71.64444   58.0   \n",
       "359344 359344 M      25-34 48          11207      233.47917   77.5   \n",
       "359345 359345 M      18-24 62          11434      184.41935  120.5   \n",
       "359346 359346 M      18-24 21           5408      257.52381  201.0   \n",
       "359347 359347 M      18-24 50           7440      148.80000   97.5   "
      ]
     },
     "metadata": {},
     "output_type": "display_data"
    }
   ],
   "source": [
    "lfm_user_stats = lfm_play_counts %>%\n",
    "    group_by(user) %>%\n",
    "    summarize(ArtistCount=n(), TotalPlays=sum(count), MeanPlays=mean(count), MedPlays=median(count))\n",
    "lfm_user_stats = lfm_users %>%\n",
    "    select(user=id, gender, age) %>%\n",
    "    inner_join(lfm_user_stats)\n",
    "lfm_user_stats"
   ]
  },
  {
   "cell_type": "markdown",
   "metadata": {},
   "source": [
    "And we want item stats."
   ]
  },
  {
   "cell_type": "code",
   "execution_count": 23,
   "metadata": {
    "collapsed": true
   },
   "outputs": [],
   "source": [
    "lfm_item_stats = lfm_play_counts %>%\n",
    "    group_by(item) %>%\n",
    "    summarize(UserCount=n(), MeanPlays=mean(count), MedPlays=median(count))"
   ]
  },
  {
   "cell_type": "markdown",
   "metadata": {},
   "source": [
    "## Load Last.FM 1K data\n",
    "\n",
    "This is like the LFM 360k, but uses the 1K data set."
   ]
  },
  {
   "cell_type": "code",
   "execution_count": 24,
   "metadata": {},
   "outputs": [
    {
     "name": "stderr",
     "output_type": "stream",
     "text": [
      "Parsed with column specification:\n",
      "cols(\n",
      "  user = col_integer(),\n",
      "  artist = col_integer(),\n",
      "  count = col_integer()\n",
      ")\n"
     ]
    },
    {
     "data": {
      "text/html": [
       "<table>\n",
       "<thead><tr><th scope=col>user</th><th scope=col>artist</th><th scope=col>count</th></tr></thead>\n",
       "<tbody>\n",
       "\t<tr><td>1  </td><td>1  </td><td>  1</td></tr>\n",
       "\t<tr><td>1  </td><td>2  </td><td>855</td></tr>\n",
       "\t<tr><td>1  </td><td>3  </td><td>779</td></tr>\n",
       "\t<tr><td>1  </td><td>4  </td><td> 12</td></tr>\n",
       "\t<tr><td>1  </td><td>5  </td><td> 18</td></tr>\n",
       "\t<tr><td>⋮</td><td>⋮</td><td>⋮</td></tr>\n",
       "\t<tr><td>992   </td><td>177019</td><td>1     </td></tr>\n",
       "\t<tr><td>992   </td><td>177020</td><td>1     </td></tr>\n",
       "\t<tr><td>992   </td><td>177021</td><td>7     </td></tr>\n",
       "\t<tr><td>992   </td><td>177022</td><td>1     </td></tr>\n",
       "\t<tr><td>992   </td><td>177023</td><td>1     </td></tr>\n",
       "</tbody>\n",
       "</table>\n"
      ],
      "text/latex": [
       "\\begin{tabular}{r|lll}\n",
       " user & artist & count\\\\\n",
       "\\hline\n",
       "\t 1   & 1   &   1\\\\\n",
       "\t 1   & 2   & 855\\\\\n",
       "\t 1   & 3   & 779\\\\\n",
       "\t 1   & 4   &  12\\\\\n",
       "\t 1   & 5   &  18\\\\\n",
       "\t ⋮ & ⋮ & ⋮\\\\\n",
       "\t 992    & 177019 & 1     \\\\\n",
       "\t 992    & 177020 & 1     \\\\\n",
       "\t 992    & 177021 & 7     \\\\\n",
       "\t 992    & 177022 & 1     \\\\\n",
       "\t 992    & 177023 & 1     \\\\\n",
       "\\end{tabular}\n"
      ],
      "text/markdown": [
       "\n",
       "user | artist | count | \n",
       "|---|---|---|---|---|---|---|---|---|---|---|\n",
       "| 1   | 1   |   1 | \n",
       "| 1   | 2   | 855 | \n",
       "| 1   | 3   | 779 | \n",
       "| 1   | 4   |  12 | \n",
       "| 1   | 5   |  18 | \n",
       "| ⋮ | ⋮ | ⋮ | \n",
       "| 992    | 177019 | 1      | \n",
       "| 992    | 177020 | 1      | \n",
       "| 992    | 177021 | 7      | \n",
       "| 992    | 177022 | 1      | \n",
       "| 992    | 177023 | 1      | \n",
       "\n",
       "\n"
      ],
      "text/plain": [
       "       user artist count\n",
       "1      1    1        1  \n",
       "2      1    2      855  \n",
       "3      1    3      779  \n",
       "4      1    4       12  \n",
       "5      1    5       18  \n",
       "⋮      ⋮    ⋮      ⋮    \n",
       "904621 992  177019 1    \n",
       "904622 992  177020 1    \n",
       "904623 992  177021 7    \n",
       "904624 992  177022 1    \n",
       "904625 992  177023 1    "
      ]
     },
     "metadata": {},
     "output_type": "display_data"
    }
   ],
   "source": [
    "lfm1k_play_counts = read_csv(\"build/lfm1k-play-counts.csv\")\n",
    "lfm1k_play_counts"
   ]
  },
  {
   "cell_type": "code",
   "execution_count": 25,
   "metadata": {},
   "outputs": [
    {
     "name": "stderr",
     "output_type": "stream",
     "text": [
      "Parsed with column specification:\n",
      "cols(\n",
      "  id = col_integer(),\n",
      "  gender = col_character(),\n",
      "  age = col_integer()\n",
      ")\n"
     ]
    },
    {
     "data": {
      "text/html": [
       "<table>\n",
       "<thead><tr><th scope=col>id</th><th scope=col>gender</th><th scope=col>age</th></tr></thead>\n",
       "<tbody>\n",
       "\t<tr><td>1 </td><td>m </td><td>NA</td></tr>\n",
       "\t<tr><td>2 </td><td>f </td><td>NA</td></tr>\n",
       "\t<tr><td>3 </td><td>m </td><td>22</td></tr>\n",
       "\t<tr><td>4 </td><td>f </td><td>NA</td></tr>\n",
       "\t<tr><td>5 </td><td>m </td><td>NA</td></tr>\n",
       "\t<tr><td>⋮</td><td>⋮</td><td>⋮</td></tr>\n",
       "\t<tr><td>988</td><td>f  </td><td>NA </td></tr>\n",
       "\t<tr><td>989</td><td>m  </td><td>NA </td></tr>\n",
       "\t<tr><td>990</td><td>m  </td><td>NA </td></tr>\n",
       "\t<tr><td>991</td><td>f  </td><td>NA </td></tr>\n",
       "\t<tr><td>992</td><td>m  </td><td>NA </td></tr>\n",
       "</tbody>\n",
       "</table>\n"
      ],
      "text/latex": [
       "\\begin{tabular}{r|lll}\n",
       " id & gender & age\\\\\n",
       "\\hline\n",
       "\t 1  & m  & NA\\\\\n",
       "\t 2  & f  & NA\\\\\n",
       "\t 3  & m  & 22\\\\\n",
       "\t 4  & f  & NA\\\\\n",
       "\t 5  & m  & NA\\\\\n",
       "\t ⋮ & ⋮ & ⋮\\\\\n",
       "\t 988 & f   & NA \\\\\n",
       "\t 989 & m   & NA \\\\\n",
       "\t 990 & m   & NA \\\\\n",
       "\t 991 & f   & NA \\\\\n",
       "\t 992 & m   & NA \\\\\n",
       "\\end{tabular}\n"
      ],
      "text/markdown": [
       "\n",
       "id | gender | age | \n",
       "|---|---|---|---|---|---|---|---|---|---|---|\n",
       "| 1  | m  | NA | \n",
       "| 2  | f  | NA | \n",
       "| 3  | m  | 22 | \n",
       "| 4  | f  | NA | \n",
       "| 5  | m  | NA | \n",
       "| ⋮ | ⋮ | ⋮ | \n",
       "| 988 | f   | NA  | \n",
       "| 989 | m   | NA  | \n",
       "| 990 | m   | NA  | \n",
       "| 991 | f   | NA  | \n",
       "| 992 | m   | NA  | \n",
       "\n",
       "\n"
      ],
      "text/plain": [
       "    id  gender age\n",
       "1   1   m      NA \n",
       "2   2   f      NA \n",
       "3   3   m      22 \n",
       "4   4   f      NA \n",
       "5   5   m      NA \n",
       "⋮   ⋮   ⋮      ⋮  \n",
       "988 988 f      NA \n",
       "989 989 m      NA \n",
       "990 990 m      NA \n",
       "991 991 f      NA \n",
       "992 992 m      NA "
      ]
     },
     "metadata": {},
     "output_type": "display_data"
    }
   ],
   "source": [
    "lfm1k_users_raw = read_csv(\"build/lfm1k-users.csv\")\n",
    "lfm1k_users_raw"
   ]
  },
  {
   "cell_type": "code",
   "execution_count": 26,
   "metadata": {},
   "outputs": [
    {
     "data": {
      "text/html": [
       "<table>\n",
       "<thead><tr><th scope=col>id</th><th scope=col>gender</th><th scope=col>age</th></tr></thead>\n",
       "<tbody>\n",
       "\t<tr><td>1    </td><td>M    </td><td>NA   </td></tr>\n",
       "\t<tr><td>2    </td><td>F    </td><td>NA   </td></tr>\n",
       "\t<tr><td>3    </td><td>M    </td><td>18-24</td></tr>\n",
       "\t<tr><td>4    </td><td>F    </td><td>NA   </td></tr>\n",
       "\t<tr><td>5    </td><td>M    </td><td>NA   </td></tr>\n",
       "\t<tr><td>⋮</td><td>⋮</td><td>⋮</td></tr>\n",
       "\t<tr><td>988</td><td>F  </td><td>NA </td></tr>\n",
       "\t<tr><td>989</td><td>M  </td><td>NA </td></tr>\n",
       "\t<tr><td>990</td><td>M  </td><td>NA </td></tr>\n",
       "\t<tr><td>991</td><td>F  </td><td>NA </td></tr>\n",
       "\t<tr><td>992</td><td>M  </td><td>NA </td></tr>\n",
       "</tbody>\n",
       "</table>\n"
      ],
      "text/latex": [
       "\\begin{tabular}{r|lll}\n",
       " id & gender & age\\\\\n",
       "\\hline\n",
       "\t 1     & M     & NA   \\\\\n",
       "\t 2     & F     & NA   \\\\\n",
       "\t 3     & M     & 18-24\\\\\n",
       "\t 4     & F     & NA   \\\\\n",
       "\t 5     & M     & NA   \\\\\n",
       "\t ⋮ & ⋮ & ⋮\\\\\n",
       "\t 988 & F   & NA \\\\\n",
       "\t 989 & M   & NA \\\\\n",
       "\t 990 & M   & NA \\\\\n",
       "\t 991 & F   & NA \\\\\n",
       "\t 992 & M   & NA \\\\\n",
       "\\end{tabular}\n"
      ],
      "text/markdown": [
       "\n",
       "id | gender | age | \n",
       "|---|---|---|---|---|---|---|---|---|---|---|\n",
       "| 1     | M     | NA    | \n",
       "| 2     | F     | NA    | \n",
       "| 3     | M     | 18-24 | \n",
       "| 4     | F     | NA    | \n",
       "| 5     | M     | NA    | \n",
       "| ⋮ | ⋮ | ⋮ | \n",
       "| 988 | F   | NA  | \n",
       "| 989 | M   | NA  | \n",
       "| 990 | M   | NA  | \n",
       "| 991 | F   | NA  | \n",
       "| 992 | M   | NA  | \n",
       "\n",
       "\n"
      ],
      "text/plain": [
       "    id  gender age  \n",
       "1   1   M      NA   \n",
       "2   2   F      NA   \n",
       "3   3   M      18-24\n",
       "4   4   F      NA   \n",
       "5   5   M      NA   \n",
       "⋮   ⋮   ⋮      ⋮    \n",
       "988 988 F      NA   \n",
       "989 989 M      NA   \n",
       "990 990 M      NA   \n",
       "991 991 F      NA   \n",
       "992 992 M      NA   "
      ]
     },
     "metadata": {},
     "output_type": "display_data"
    }
   ],
   "source": [
    "lfm1k_users = lfm1k_users_raw %>%\n",
    "    mutate(gender = as.factor(toupper(gender)),\n",
    "           age = bound_ages(age))\n",
    "lfm1k_users"
   ]
  },
  {
   "cell_type": "code",
   "execution_count": 27,
   "metadata": {},
   "outputs": [
    {
     "data": {
      "text/html": [
       "992"
      ],
      "text/latex": [
       "992"
      ],
      "text/markdown": [
       "992"
      ],
      "text/plain": [
       "[1] 992"
      ]
     },
     "metadata": {},
     "output_type": "display_data"
    }
   ],
   "source": [
    "nrow(lfm1k_users)"
   ]
  },
  {
   "cell_type": "markdown",
   "metadata": {},
   "source": [
    "Now that we have that, let's compute per-user profile statistics and join them with the ages!"
   ]
  },
  {
   "cell_type": "code",
   "execution_count": 28,
   "metadata": {},
   "outputs": [
    {
     "name": "stderr",
     "output_type": "stream",
     "text": [
      "Joining, by = \"user\"\n"
     ]
    },
    {
     "data": {
      "text/html": [
       "<table>\n",
       "<thead><tr><th scope=col>user</th><th scope=col>gender</th><th scope=col>age</th><th scope=col>ArtistCount</th><th scope=col>TotalPlays</th><th scope=col>MeanPlays</th><th scope=col>MedPlays</th></tr></thead>\n",
       "<tbody>\n",
       "\t<tr><td>1       </td><td>M       </td><td>NA      </td><td> 663    </td><td>16685   </td><td>25.16591</td><td>4       </td></tr>\n",
       "\t<tr><td>2       </td><td>F       </td><td>NA      </td><td>1292    </td><td>57438   </td><td>44.45666</td><td>5       </td></tr>\n",
       "\t<tr><td>3       </td><td>M       </td><td>18-24   </td><td> 945    </td><td>19494   </td><td>20.62857</td><td>4       </td></tr>\n",
       "\t<tr><td>4       </td><td>F       </td><td>NA      </td><td>1779    </td><td>18411   </td><td>10.34907</td><td>3       </td></tr>\n",
       "\t<tr><td>5       </td><td>M       </td><td>NA      </td><td>1086    </td><td>20341   </td><td>18.73020</td><td>3       </td></tr>\n",
       "\t<tr><td>⋮</td><td>⋮</td><td>⋮</td><td>⋮</td><td>⋮</td><td>⋮</td><td>⋮</td></tr>\n",
       "\t<tr><td>988     </td><td>F       </td><td>NA      </td><td>150     </td><td> 4940   </td><td>32.93333</td><td>10      </td></tr>\n",
       "\t<tr><td>989     </td><td>M       </td><td>NA      </td><td>129     </td><td> 9506   </td><td>73.68992</td><td> 3      </td></tr>\n",
       "\t<tr><td>990     </td><td>M       </td><td>NA      </td><td>604     </td><td>34149   </td><td>56.53808</td><td> 7      </td></tr>\n",
       "\t<tr><td>991     </td><td>F       </td><td>NA      </td><td>512     </td><td>31415   </td><td>61.35742</td><td> 5      </td></tr>\n",
       "\t<tr><td>992     </td><td>M       </td><td>NA      </td><td>678     </td><td>18373   </td><td>27.09882</td><td> 2      </td></tr>\n",
       "</tbody>\n",
       "</table>\n"
      ],
      "text/latex": [
       "\\begin{tabular}{r|lllllll}\n",
       " user & gender & age & ArtistCount & TotalPlays & MeanPlays & MedPlays\\\\\n",
       "\\hline\n",
       "\t 1        & M        & NA       &  663     & 16685    & 25.16591 & 4       \\\\\n",
       "\t 2        & F        & NA       & 1292     & 57438    & 44.45666 & 5       \\\\\n",
       "\t 3        & M        & 18-24    &  945     & 19494    & 20.62857 & 4       \\\\\n",
       "\t 4        & F        & NA       & 1779     & 18411    & 10.34907 & 3       \\\\\n",
       "\t 5        & M        & NA       & 1086     & 20341    & 18.73020 & 3       \\\\\n",
       "\t ⋮ & ⋮ & ⋮ & ⋮ & ⋮ & ⋮ & ⋮\\\\\n",
       "\t 988      & F        & NA       & 150      &  4940    & 32.93333 & 10      \\\\\n",
       "\t 989      & M        & NA       & 129      &  9506    & 73.68992 &  3      \\\\\n",
       "\t 990      & M        & NA       & 604      & 34149    & 56.53808 &  7      \\\\\n",
       "\t 991      & F        & NA       & 512      & 31415    & 61.35742 &  5      \\\\\n",
       "\t 992      & M        & NA       & 678      & 18373    & 27.09882 &  2      \\\\\n",
       "\\end{tabular}\n"
      ],
      "text/markdown": [
       "\n",
       "user | gender | age | ArtistCount | TotalPlays | MeanPlays | MedPlays | \n",
       "|---|---|---|---|---|---|---|---|---|---|---|\n",
       "| 1        | M        | NA       |  663     | 16685    | 25.16591 | 4        | \n",
       "| 2        | F        | NA       | 1292     | 57438    | 44.45666 | 5        | \n",
       "| 3        | M        | 18-24    |  945     | 19494    | 20.62857 | 4        | \n",
       "| 4        | F        | NA       | 1779     | 18411    | 10.34907 | 3        | \n",
       "| 5        | M        | NA       | 1086     | 20341    | 18.73020 | 3        | \n",
       "| ⋮ | ⋮ | ⋮ | ⋮ | ⋮ | ⋮ | ⋮ | \n",
       "| 988      | F        | NA       | 150      |  4940    | 32.93333 | 10       | \n",
       "| 989      | M        | NA       | 129      |  9506    | 73.68992 |  3       | \n",
       "| 990      | M        | NA       | 604      | 34149    | 56.53808 |  7       | \n",
       "| 991      | F        | NA       | 512      | 31415    | 61.35742 |  5       | \n",
       "| 992      | M        | NA       | 678      | 18373    | 27.09882 |  2       | \n",
       "\n",
       "\n"
      ],
      "text/plain": [
       "    user gender age   ArtistCount TotalPlays MeanPlays MedPlays\n",
       "1   1    M      NA     663        16685      25.16591  4       \n",
       "2   2    F      NA    1292        57438      44.45666  5       \n",
       "3   3    M      18-24  945        19494      20.62857  4       \n",
       "4   4    F      NA    1779        18411      10.34907  3       \n",
       "5   5    M      NA    1086        20341      18.73020  3       \n",
       "⋮   ⋮    ⋮      ⋮     ⋮           ⋮          ⋮         ⋮       \n",
       "988 988  F      NA    150          4940      32.93333  10      \n",
       "989 989  M      NA    129          9506      73.68992   3      \n",
       "990 990  M      NA    604         34149      56.53808   7      \n",
       "991 991  F      NA    512         31415      61.35742   5      \n",
       "992 992  M      NA    678         18373      27.09882   2      "
      ]
     },
     "metadata": {},
     "output_type": "display_data"
    }
   ],
   "source": [
    "lfm1k_user_stats = lfm1k_play_counts %>%\n",
    "    group_by(user) %>%\n",
    "    summarize(ArtistCount=n(), TotalPlays=sum(count), MeanPlays=mean(count), MedPlays=median(count))\n",
    "lfm1k_user_stats = lfm1k_users %>%\n",
    "    select(user=id, gender, age) %>%\n",
    "    inner_join(lfm1k_user_stats)\n",
    "lfm1k_user_stats"
   ]
  },
  {
   "cell_type": "markdown",
   "metadata": {},
   "source": [
    "And we want item stats."
   ]
  },
  {
   "cell_type": "code",
   "execution_count": 29,
   "metadata": {
    "collapsed": true
   },
   "outputs": [],
   "source": [
    "lfm1k_item_stats = lfm1k_play_counts %>%\n",
    "    rename(item=artist) %>%\n",
    "    group_by(item) %>%\n",
    "    summarize(UserCount=n(), MeanPlays=mean(count), MedPlays=median(count))"
   ]
  },
  {
   "cell_type": "markdown",
   "metadata": {},
   "source": [
    "## Bring Data Together"
   ]
  },
  {
   "cell_type": "code",
   "execution_count": 30,
   "metadata": {},
   "outputs": [
    {
     "data": {
      "text/html": [
       "<table>\n",
       "<thead><tr><th scope=col>DataSet</th><th scope=col>item</th><th scope=col>UserCount</th></tr></thead>\n",
       "<tbody>\n",
       "\t<tr><td>ML1M</td><td>1   </td><td>2077</td></tr>\n",
       "\t<tr><td>ML1M</td><td>2   </td><td> 701</td></tr>\n",
       "\t<tr><td>ML1M</td><td>3   </td><td> 478</td></tr>\n",
       "\t<tr><td>ML1M</td><td>4   </td><td> 170</td></tr>\n",
       "\t<tr><td>ML1M</td><td>5   </td><td> 296</td></tr>\n",
       "\t<tr><td>⋮</td><td>⋮</td><td>⋮</td></tr>\n",
       "\t<tr><td>LFM1K </td><td>177019</td><td>1     </td></tr>\n",
       "\t<tr><td>LFM1K </td><td>177020</td><td>1     </td></tr>\n",
       "\t<tr><td>LFM1K </td><td>177021</td><td>1     </td></tr>\n",
       "\t<tr><td>LFM1K </td><td>177022</td><td>1     </td></tr>\n",
       "\t<tr><td>LFM1K </td><td>177023</td><td>1     </td></tr>\n",
       "</tbody>\n",
       "</table>\n"
      ],
      "text/latex": [
       "\\begin{tabular}{r|lll}\n",
       " DataSet & item & UserCount\\\\\n",
       "\\hline\n",
       "\t ML1M & 1    & 2077\\\\\n",
       "\t ML1M & 2    &  701\\\\\n",
       "\t ML1M & 3    &  478\\\\\n",
       "\t ML1M & 4    &  170\\\\\n",
       "\t ML1M & 5    &  296\\\\\n",
       "\t ⋮ & ⋮ & ⋮\\\\\n",
       "\t LFM1K  & 177019 & 1     \\\\\n",
       "\t LFM1K  & 177020 & 1     \\\\\n",
       "\t LFM1K  & 177021 & 1     \\\\\n",
       "\t LFM1K  & 177022 & 1     \\\\\n",
       "\t LFM1K  & 177023 & 1     \\\\\n",
       "\\end{tabular}\n"
      ],
      "text/markdown": [
       "\n",
       "DataSet | item | UserCount | \n",
       "|---|---|---|---|---|---|---|---|---|---|---|\n",
       "| ML1M | 1    | 2077 | \n",
       "| ML1M | 2    |  701 | \n",
       "| ML1M | 3    |  478 | \n",
       "| ML1M | 4    |  170 | \n",
       "| ML1M | 5    |  296 | \n",
       "| ⋮ | ⋮ | ⋮ | \n",
       "| LFM1K  | 177019 | 1      | \n",
       "| LFM1K  | 177020 | 1      | \n",
       "| LFM1K  | 177021 | 1      | \n",
       "| LFM1K  | 177022 | 1      | \n",
       "| LFM1K  | 177023 | 1      | \n",
       "\n",
       "\n"
      ],
      "text/plain": [
       "       DataSet item   UserCount\n",
       "1      ML1M    1      2077     \n",
       "2      ML1M    2       701     \n",
       "3      ML1M    3       478     \n",
       "4      ML1M    4       170     \n",
       "5      ML1M    5       296     \n",
       "⋮      ⋮       ⋮      ⋮        \n",
       "340893 LFM1K   177019 1        \n",
       "340894 LFM1K   177020 1        \n",
       "340895 LFM1K   177021 1        \n",
       "340896 LFM1K   177022 1        \n",
       "340897 LFM1K   177023 1        "
      ]
     },
     "metadata": {},
     "output_type": "display_data"
    }
   ],
   "source": [
    "all_item_stats =\n",
    "    bind_rows(ML1M=ml_item_stats %>% select(item, UserCount=RatingCount),\n",
    "              LFM360K=lfm_item_stats %>% select(item, UserCount),\n",
    "              LFM1K=lfm1k_item_stats %>% select(item, UserCount),\n",
    "              .id=\"DataSet\")\n",
    "all_item_stats"
   ]
  },
  {
   "cell_type": "code",
   "execution_count": 31,
   "metadata": {},
   "outputs": [
    {
     "data": {
      "text/html": [
       "<table>\n",
       "<thead><tr><th scope=col>DataSet</th><th scope=col>user</th><th scope=col>gender</th><th scope=col>age</th><th scope=col>ItemCount</th></tr></thead>\n",
       "<tbody>\n",
       "\t<tr><td>ML1M </td><td>1    </td><td>F    </td><td>1-17 </td><td> 53  </td></tr>\n",
       "\t<tr><td>ML1M </td><td>2    </td><td>M    </td><td>56+  </td><td>129  </td></tr>\n",
       "\t<tr><td>ML1M </td><td>3    </td><td>M    </td><td>25-34</td><td> 51  </td></tr>\n",
       "\t<tr><td>ML1M </td><td>4    </td><td>M    </td><td>45-49</td><td> 21  </td></tr>\n",
       "\t<tr><td>ML1M </td><td>5    </td><td>M    </td><td>25-34</td><td>198  </td></tr>\n",
       "\t<tr><td>⋮</td><td>⋮</td><td>⋮</td><td>⋮</td><td>⋮</td></tr>\n",
       "\t<tr><td>LFM1K</td><td>988  </td><td>F    </td><td>NA   </td><td>150  </td></tr>\n",
       "\t<tr><td>LFM1K</td><td>989  </td><td>M    </td><td>NA   </td><td>129  </td></tr>\n",
       "\t<tr><td>LFM1K</td><td>990  </td><td>M    </td><td>NA   </td><td>604  </td></tr>\n",
       "\t<tr><td>LFM1K</td><td>991  </td><td>F    </td><td>NA   </td><td>512  </td></tr>\n",
       "\t<tr><td>LFM1K</td><td>992  </td><td>M    </td><td>NA   </td><td>678  </td></tr>\n",
       "</tbody>\n",
       "</table>\n"
      ],
      "text/latex": [
       "\\begin{tabular}{r|lllll}\n",
       " DataSet & user & gender & age & ItemCount\\\\\n",
       "\\hline\n",
       "\t ML1M  & 1     & F     & 1-17  &  53  \\\\\n",
       "\t ML1M  & 2     & M     & 56+   & 129  \\\\\n",
       "\t ML1M  & 3     & M     & 25-34 &  51  \\\\\n",
       "\t ML1M  & 4     & M     & 45-49 &  21  \\\\\n",
       "\t ML1M  & 5     & M     & 25-34 & 198  \\\\\n",
       "\t ⋮ & ⋮ & ⋮ & ⋮ & ⋮\\\\\n",
       "\t LFM1K & 988   & F     & NA    & 150  \\\\\n",
       "\t LFM1K & 989   & M     & NA    & 129  \\\\\n",
       "\t LFM1K & 990   & M     & NA    & 604  \\\\\n",
       "\t LFM1K & 991   & F     & NA    & 512  \\\\\n",
       "\t LFM1K & 992   & M     & NA    & 678  \\\\\n",
       "\\end{tabular}\n"
      ],
      "text/markdown": [
       "\n",
       "DataSet | user | gender | age | ItemCount | \n",
       "|---|---|---|---|---|---|---|---|---|---|---|\n",
       "| ML1M  | 1     | F     | 1-17  |  53   | \n",
       "| ML1M  | 2     | M     | 56+   | 129   | \n",
       "| ML1M  | 3     | M     | 25-34 |  51   | \n",
       "| ML1M  | 4     | M     | 45-49 |  21   | \n",
       "| ML1M  | 5     | M     | 25-34 | 198   | \n",
       "| ⋮ | ⋮ | ⋮ | ⋮ | ⋮ | \n",
       "| LFM1K | 988   | F     | NA    | 150   | \n",
       "| LFM1K | 989   | M     | NA    | 129   | \n",
       "| LFM1K | 990   | M     | NA    | 604   | \n",
       "| LFM1K | 991   | F     | NA    | 512   | \n",
       "| LFM1K | 992   | M     | NA    | 678   | \n",
       "\n",
       "\n"
      ],
      "text/plain": [
       "       DataSet user gender age   ItemCount\n",
       "1      ML1M    1    F      1-17   53      \n",
       "2      ML1M    2    M      56+   129      \n",
       "3      ML1M    3    M      25-34  51      \n",
       "4      ML1M    4    M      45-49  21      \n",
       "5      ML1M    5    M      25-34 198      \n",
       "⋮      ⋮       ⋮    ⋮      ⋮     ⋮        \n",
       "366375 LFM1K   988  F      NA    150      \n",
       "366376 LFM1K   989  M      NA    129      \n",
       "366377 LFM1K   990  M      NA    604      \n",
       "366378 LFM1K   991  F      NA    512      \n",
       "366379 LFM1K   992  M      NA    678      "
      ]
     },
     "metadata": {},
     "output_type": "display_data"
    }
   ],
   "source": [
    "all_user_stats =\n",
    "    bind_rows(ML1M=ml_user_stats %>% select(user, gender, age, ItemCount=RatingCount),\n",
    "              LFM360K=lfm_user_stats %>% select(user, gender, age, ItemCount=ArtistCount),\n",
    "              LFM1K=lfm1k_user_stats %>% select(user, gender, age, ItemCount=ArtistCount),\n",
    "              .id=\"DataSet\")\n",
    "all_user_stats"
   ]
  },
  {
   "cell_type": "markdown",
   "metadata": {},
   "source": [
    "## Basic Stats\n",
    "\n",
    "How much data do we have?"
   ]
  },
  {
   "cell_type": "code",
   "execution_count": 32,
   "metadata": {},
   "outputs": [
    {
     "name": "stderr",
     "output_type": "stream",
     "text": [
      "Joining, by = \"DataSet\"\n"
     ]
    },
    {
     "data": {
      "text/html": [
       "<table>\n",
       "<thead><tr><th scope=col>DataSet</th><th scope=col>Users</th><th scope=col>Pairs</th><th scope=col>Items</th><th scope=col>Density</th></tr></thead>\n",
       "<tbody>\n",
       "\t<tr><td>LFM1K       </td><td>   992      </td><td>  904625    </td><td>177023      </td><td>0.0051514231</td></tr>\n",
       "\t<tr><td>LFM360K     </td><td>359347      </td><td>17559443    </td><td>160168      </td><td>0.0003050851</td></tr>\n",
       "\t<tr><td>ML1M        </td><td>  6040      </td><td> 1000209    </td><td>  3706      </td><td>0.0446836256</td></tr>\n",
       "</tbody>\n",
       "</table>\n"
      ],
      "text/latex": [
       "\\begin{tabular}{r|lllll}\n",
       " DataSet & Users & Pairs & Items & Density\\\\\n",
       "\\hline\n",
       "\t LFM1K        &    992       &   904625     & 177023       & 0.0051514231\\\\\n",
       "\t LFM360K      & 359347       & 17559443     & 160168       & 0.0003050851\\\\\n",
       "\t ML1M         &   6040       &  1000209     &   3706       & 0.0446836256\\\\\n",
       "\\end{tabular}\n"
      ],
      "text/markdown": [
       "\n",
       "DataSet | Users | Pairs | Items | Density | \n",
       "|---|---|---|\n",
       "| LFM1K        |    992       |   904625     | 177023       | 0.0051514231 | \n",
       "| LFM360K      | 359347       | 17559443     | 160168       | 0.0003050851 | \n",
       "| ML1M         |   6040       |  1000209     |   3706       | 0.0446836256 | \n",
       "\n",
       "\n"
      ],
      "text/plain": [
       "  DataSet Users  Pairs    Items  Density     \n",
       "1 LFM1K      992   904625 177023 0.0051514231\n",
       "2 LFM360K 359347 17559443 160168 0.0003050851\n",
       "3 ML1M      6040  1000209   3706 0.0446836256"
      ]
     },
     "metadata": {},
     "output_type": "display_data"
    }
   ],
   "source": [
    "all_user_stats %>%\n",
    "    group_by(DataSet) %>%\n",
    "    summarize(Users=n(), Pairs=sum(ItemCount)) %>%\n",
    "    inner_join(all_item_stats %>%\n",
    "                  group_by(DataSet) %>%\n",
    "                  summarize(Items=n())) %>%\n",
    "    mutate(Density=Pairs / (as.numeric(Users) * Items))"
   ]
  },
  {
   "cell_type": "markdown",
   "metadata": {},
   "source": [
    "Start looking at demographic distributions:"
   ]
  },
  {
   "cell_type": "code",
   "execution_count": 39,
   "metadata": {},
   "outputs": [
    {
     "data": {},
     "metadata": {},
     "output_type": "display_data"
    },
    {
     "data": {
      "image/png": "[encoded data removed]",
      "text/plain": [
       "plot without title"
      ]
     },
     "metadata": {},
     "output_type": "display_data"
    }
   ],
   "source": [
    "ggplot(all_user_stats) +\n",
    "    aes(x=gender) +\n",
    "    geom_bar() +\n",
    "    facet_wrap(~ DataSet, scales=\"free\") +\n",
    "    ggtitle(\"Users by gender\") +\n",
    "    theme_minimal()"
   ]
  },
  {
   "cell_type": "code",
   "execution_count": 40,
   "metadata": {},
   "outputs": [
    {
     "data": {},
     "metadata": {},
     "output_type": "display_data"
    },
    {
     "data": {
      "image/png": "[encoded data removed]",
      "text/plain": [
       "plot without title"
      ]
     },
     "metadata": {},
     "output_type": "display_data"
    }
   ],
   "source": [
    "ggplot(all_user_stats) +\n",
    "    aes(x=age) +\n",
    "    geom_bar() +\n",
    "    facet_grid(DataSet ~ ., scales=\"free_y\") +\n",
    "    ggtitle(\"Users by age\")"
   ]
  },
  {
   "cell_type": "markdown",
   "metadata": {},
   "source": [
    "## Per-demographic rating statistics"
   ]
  },
  {
   "cell_type": "markdown",
   "metadata": {},
   "source": [
    "Do different groups consume different numbers of items, on average?"
   ]
  },
  {
   "cell_type": "markdown",
   "metadata": {},
   "source": [
    "### Gender"
   ]
  },
  {
   "cell_type": "code",
   "execution_count": 41,
   "metadata": {},
   "outputs": [
    {
     "data": {
      "text/html": [
       "<table>\n",
       "<thead><tr><th scope=col>DataSet</th><th scope=col>gender</th><th scope=col>NUsers</th><th scope=col>MeanItemCount</th><th scope=col>ICErr</th><th scope=col>MedItemCount</th></tr></thead>\n",
       "<tbody>\n",
       "\t<tr><td>LFM1K       </td><td>F           </td><td>   382      </td><td> 743.49215  </td><td> 35.09773842</td><td>562.5       </td></tr>\n",
       "\t<tr><td>LFM1K       </td><td>M           </td><td>   502      </td><td>1010.90239  </td><td> 47.85992580</td><td>655.5       </td></tr>\n",
       "\t<tr><td>LFM1K       </td><td>NA          </td><td>   108      </td><td>1047.57407  </td><td>104.72926676</td><td>738.5       </td></tr>\n",
       "\t<tr><td>LFM360K     </td><td>F           </td><td> 84930      </td><td>  48.20227  </td><td>  0.02758414</td><td> 48.0       </td></tr>\n",
       "\t<tr><td>LFM360K     </td><td>M           </td><td>241642      </td><td>  49.14493  </td><td>  0.01739652</td><td> 49.0       </td></tr>\n",
       "\t<tr><td>LFM360K     </td><td>NA          </td><td> 32775      </td><td>  48.51698  </td><td>  0.05180196</td><td> 49.0       </td></tr>\n",
       "\t<tr><td>ML1M        </td><td>F           </td><td>  1709      </td><td> 144.20129  </td><td>  4.08830763</td><td> 77.0       </td></tr>\n",
       "\t<tr><td>ML1M        </td><td>M           </td><td>  4331      </td><td> 174.04041  </td><td>  3.05022666</td><td>102.0       </td></tr>\n",
       "</tbody>\n",
       "</table>\n"
      ],
      "text/latex": [
       "\\begin{tabular}{r|llllll}\n",
       " DataSet & gender & NUsers & MeanItemCount & ICErr & MedItemCount\\\\\n",
       "\\hline\n",
       "\t LFM1K        & F            &    382       &  743.49215   &  35.09773842 & 562.5       \\\\\n",
       "\t LFM1K        & M            &    502       & 1010.90239   &  47.85992580 & 655.5       \\\\\n",
       "\t LFM1K        & NA           &    108       & 1047.57407   & 104.72926676 & 738.5       \\\\\n",
       "\t LFM360K      & F            &  84930       &   48.20227   &   0.02758414 &  48.0       \\\\\n",
       "\t LFM360K      & M            & 241642       &   49.14493   &   0.01739652 &  49.0       \\\\\n",
       "\t LFM360K      & NA           &  32775       &   48.51698   &   0.05180196 &  49.0       \\\\\n",
       "\t ML1M         & F            &   1709       &  144.20129   &   4.08830763 &  77.0       \\\\\n",
       "\t ML1M         & M            &   4331       &  174.04041   &   3.05022666 & 102.0       \\\\\n",
       "\\end{tabular}\n"
      ],
      "text/markdown": [
       "\n",
       "DataSet | gender | NUsers | MeanItemCount | ICErr | MedItemCount | \n",
       "|---|---|---|---|---|---|---|---|\n",
       "| LFM1K        | F            |    382       |  743.49215   |  35.09773842 | 562.5        | \n",
       "| LFM1K        | M            |    502       | 1010.90239   |  47.85992580 | 655.5        | \n",
       "| LFM1K        | NA           |    108       | 1047.57407   | 104.72926676 | 738.5        | \n",
       "| LFM360K      | F            |  84930       |   48.20227   |   0.02758414 |  48.0        | \n",
       "| LFM360K      | M            | 241642       |   49.14493   |   0.01739652 |  49.0        | \n",
       "| LFM360K      | NA           |  32775       |   48.51698   |   0.05180196 |  49.0        | \n",
       "| ML1M         | F            |   1709       |  144.20129   |   4.08830763 |  77.0        | \n",
       "| ML1M         | M            |   4331       |  174.04041   |   3.05022666 | 102.0        | \n",
       "\n",
       "\n"
      ],
      "text/plain": [
       "  DataSet gender NUsers MeanItemCount ICErr        MedItemCount\n",
       "1 LFM1K   F         382  743.49215     35.09773842 562.5       \n",
       "2 LFM1K   M         502 1010.90239     47.85992580 655.5       \n",
       "3 LFM1K   NA        108 1047.57407    104.72926676 738.5       \n",
       "4 LFM360K F       84930   48.20227      0.02758414  48.0       \n",
       "5 LFM360K M      241642   49.14493      0.01739652  49.0       \n",
       "6 LFM360K NA      32775   48.51698      0.05180196  49.0       \n",
       "7 ML1M    F        1709  144.20129      4.08830763  77.0       \n",
       "8 ML1M    M        4331  174.04041      3.05022666 102.0       "
      ]
     },
     "metadata": {},
     "output_type": "display_data"
    }
   ],
   "source": [
    "gender.stats = all_user_stats %>%\n",
    "    group_by(DataSet, gender) %>%\n",
    "    summarize(NUsers=n(),\n",
    "              MeanItemCount=mean(ItemCount),\n",
    "              ICErr=sd(ItemCount) / sqrt(n()),\n",
    "              MedItemCount=median(ItemCount))\n",
    "gender.stats"
   ]
  },
  {
   "cell_type": "code",
   "execution_count": 42,
   "metadata": {},
   "outputs": [
    {
     "data": {},
     "metadata": {},
     "output_type": "display_data"
    },
    {
     "data": {
      "image/png": "[encoded data removed]",
      "text/plain": [
       "plot without title"
      ]
     },
     "metadata": {},
     "output_type": "display_data"
    }
   ],
   "source": [
    "ggplot(gender.stats) +\n",
    "    aes(x=gender, y=MeanItemCount,\n",
    "        ymin=MeanItemCount-ICErr,\n",
    "        ymax=MeanItemCount+ICErr) +\n",
    "    geom_bar(stat=\"identity\") + geom_errorbar(width=0.2) +\n",
    "    facet_wrap(~ DataSet, scales=\"free\") +\n",
    "    ggtitle(\"Mean Item Count per User\")"
   ]
  },
  {
   "cell_type": "code",
   "execution_count": 43,
   "metadata": {},
   "outputs": [
    {
     "data": {},
     "metadata": {},
     "output_type": "display_data"
    },
    {
     "data": {
      "image/png": "[encoded data removed]",
      "text/plain": [
       "plot without title"
      ]
     },
     "metadata": {},
     "output_type": "display_data"
    }
   ],
   "source": [
    "ggplot(gender.stats) +\n",
    "    aes(x=gender, y=MedItemCount) +\n",
    "    geom_bar(stat=\"identity\") +\n",
    "    facet_wrap(~ DataSet, scales=\"free\") +\n",
    "    ggtitle(\"Median Item Count per User\")"
   ]
  },
  {
   "cell_type": "markdown",
   "metadata": {},
   "source": [
    "Do different genders use higher or lower ratings?"
   ]
  },
  {
   "cell_type": "code",
   "execution_count": 44,
   "metadata": {},
   "outputs": [
    {
     "data": {},
     "metadata": {},
     "output_type": "display_data"
    },
    {
     "data": {
      "image/png": "[encoded data removed]",
      "text/plain": [
       "plot without title"
      ]
     },
     "metadata": {},
     "output_type": "display_data"
    }
   ],
   "source": [
    "ggplot(ml_user_stats %>% group_by(gender) %>% summarize(MeanAvgRating=mean(MeanRating))) +\n",
    "    aes(x=gender, y=MeanAvgRating) +\n",
    "    geom_bar(stat=\"identity\")"
   ]
  },
  {
   "cell_type": "markdown",
   "metadata": {},
   "source": [
    "Now, let's examine popularity preference."
   ]
  },
  {
   "cell_type": "code",
   "execution_count": 45,
   "metadata": {},
   "outputs": [
    {
     "data": {},
     "metadata": {},
     "output_type": "display_data"
    },
    {
     "data": {
      "image/png": "[encoded data removed]",
      "text/plain": [
       "plot without title"
      ]
     },
     "metadata": {},
     "output_type": "display_data"
    }
   ],
   "source": [
    "ggplot(ml_user_stats %>% group_by(gender) %>% summarize(MeanPop=mean(MeanPopRank))) +\n",
    "    aes(x=gender, y=MeanPop) +\n",
    "    geom_bar(stat=\"identity\") +\n",
    "    ylab(\"Mean Average Popularity (lower is more popular)\") +\n",
    "    ggtitle(\"Popularity Preference by Gender\")"
   ]
  },
  {
   "cell_type": "markdown",
   "metadata": {},
   "source": [
    "Male users - of which there are considerably more - tend to rate more popular movies. This is expected - the dominant group's movies will, by nature, be more popular - but it does document that demographics and popularity will confound."
   ]
  },
  {
   "cell_type": "markdown",
   "metadata": {},
   "source": [
    "### Age"
   ]
  },
  {
   "cell_type": "code",
   "execution_count": 46,
   "metadata": {},
   "outputs": [
    {
     "data": {
      "text/html": [
       "<table>\n",
       "<thead><tr><th scope=col>DataSet</th><th scope=col>age</th><th scope=col>NUsers</th><th scope=col>MeanItemCount</th><th scope=col>ICErr</th><th scope=col>MedItemCount</th></tr></thead>\n",
       "<tbody>\n",
       "\t<tr><td>LFM1K    </td><td>1-17     </td><td>  9      </td><td> 608.4444</td><td>186.80286</td><td> 458.0   </td></tr>\n",
       "\t<tr><td>LFM1K    </td><td>18-24    </td><td>153      </td><td> 691.2614</td><td> 47.49958</td><td> 506.0   </td></tr>\n",
       "\t<tr><td>LFM1K    </td><td>25-34    </td><td>101      </td><td> 972.6931</td><td> 83.63219</td><td> 760.0   </td></tr>\n",
       "\t<tr><td>LFM1K    </td><td>35-44    </td><td> 18      </td><td>1576.0000</td><td>343.47661</td><td>1019.5   </td></tr>\n",
       "\t<tr><td>LFM1K    </td><td>45-49    </td><td>  2      </td><td> 690.0000</td><td>591.00000</td><td> 690.0   </td></tr>\n",
       "\t<tr><td>⋮</td><td>⋮</td><td>⋮</td><td>⋮</td><td>⋮</td><td>⋮</td></tr>\n",
       "\t<tr><td>ML1M    </td><td>25-34   </td><td>2096    </td><td>188.7195</td><td>4.549564</td><td>110     </td></tr>\n",
       "\t<tr><td>ML1M    </td><td>35-44   </td><td>1193    </td><td>166.8089</td><td>5.748490</td><td> 94     </td></tr>\n",
       "\t<tr><td>ML1M    </td><td>45-49   </td><td> 550    </td><td>152.0600</td><td>8.180004</td><td> 81     </td></tr>\n",
       "\t<tr><td>ML1M    </td><td>50-55   </td><td> 496    </td><td>146.1492</td><td>8.069795</td><td> 88     </td></tr>\n",
       "\t<tr><td>ML1M    </td><td>56+     </td><td> 380    </td><td>102.0526</td><td>6.275718</td><td> 64     </td></tr>\n",
       "</tbody>\n",
       "</table>\n"
      ],
      "text/latex": [
       "\\begin{tabular}{r|llllll}\n",
       " DataSet & age & NUsers & MeanItemCount & ICErr & MedItemCount\\\\\n",
       "\\hline\n",
       "\t LFM1K     & 1-17      &   9       &  608.4444 & 186.80286 &  458.0   \\\\\n",
       "\t LFM1K     & 18-24     & 153       &  691.2614 &  47.49958 &  506.0   \\\\\n",
       "\t LFM1K     & 25-34     & 101       &  972.6931 &  83.63219 &  760.0   \\\\\n",
       "\t LFM1K     & 35-44     &  18       & 1576.0000 & 343.47661 & 1019.5   \\\\\n",
       "\t LFM1K     & 45-49     &   2       &  690.0000 & 591.00000 &  690.0   \\\\\n",
       "\t ⋮ & ⋮ & ⋮ & ⋮ & ⋮ & ⋮\\\\\n",
       "\t ML1M     & 25-34    & 2096     & 188.7195 & 4.549564 & 110     \\\\\n",
       "\t ML1M     & 35-44    & 1193     & 166.8089 & 5.748490 &  94     \\\\\n",
       "\t ML1M     & 45-49    &  550     & 152.0600 & 8.180004 &  81     \\\\\n",
       "\t ML1M     & 50-55    &  496     & 146.1492 & 8.069795 &  88     \\\\\n",
       "\t ML1M     & 56+      &  380     & 102.0526 & 6.275718 &  64     \\\\\n",
       "\\end{tabular}\n"
      ],
      "text/markdown": [
       "\n",
       "DataSet | age | NUsers | MeanItemCount | ICErr | MedItemCount | \n",
       "|---|---|---|---|---|---|---|---|---|---|---|\n",
       "| LFM1K     | 1-17      |   9       |  608.4444 | 186.80286 |  458.0    | \n",
       "| LFM1K     | 18-24     | 153       |  691.2614 |  47.49958 |  506.0    | \n",
       "| LFM1K     | 25-34     | 101       |  972.6931 |  83.63219 |  760.0    | \n",
       "| LFM1K     | 35-44     |  18       | 1576.0000 | 343.47661 | 1019.5    | \n",
       "| LFM1K     | 45-49     |   2       |  690.0000 | 591.00000 |  690.0    | \n",
       "| ⋮ | ⋮ | ⋮ | ⋮ | ⋮ | ⋮ | \n",
       "| ML1M     | 25-34    | 2096     | 188.7195 | 4.549564 | 110      | \n",
       "| ML1M     | 35-44    | 1193     | 166.8089 | 5.748490 |  94      | \n",
       "| ML1M     | 45-49    |  550     | 152.0600 | 8.180004 |  81      | \n",
       "| ML1M     | 50-55    |  496     | 146.1492 | 8.069795 |  88      | \n",
       "| ML1M     | 56+      |  380     | 102.0526 | 6.275718 |  64      | \n",
       "\n",
       "\n"
      ],
      "text/plain": [
       "   DataSet age   NUsers MeanItemCount ICErr     MedItemCount\n",
       "1  LFM1K   1-17    9     608.4444     186.80286  458.0      \n",
       "2  LFM1K   18-24 153     691.2614      47.49958  506.0      \n",
       "3  LFM1K   25-34 101     972.6931      83.63219  760.0      \n",
       "4  LFM1K   35-44  18    1576.0000     343.47661 1019.5      \n",
       "5  LFM1K   45-49   2     690.0000     591.00000  690.0      \n",
       "⋮  ⋮       ⋮     ⋮      ⋮             ⋮         ⋮           \n",
       "19 ML1M    25-34 2096   188.7195      4.549564  110         \n",
       "20 ML1M    35-44 1193   166.8089      5.748490   94         \n",
       "21 ML1M    45-49  550   152.0600      8.180004   81         \n",
       "22 ML1M    50-55  496   146.1492      8.069795   88         \n",
       "23 ML1M    56+    380   102.0526      6.275718   64         "
      ]
     },
     "metadata": {},
     "output_type": "display_data"
    }
   ],
   "source": [
    "age.stats = all_user_stats %>%\n",
    "    group_by(DataSet, age) %>%\n",
    "    summarize(NUsers=n(),\n",
    "              MeanItemCount=mean(ItemCount),\n",
    "              ICErr=sd(ItemCount) / sqrt(n()),\n",
    "              MedItemCount=median(ItemCount))\n",
    "age.stats"
   ]
  },
  {
   "cell_type": "code",
   "execution_count": 47,
   "metadata": {},
   "outputs": [
    {
     "name": "stderr",
     "output_type": "stream",
     "text": [
      "Warning message:\n",
      "“Removed 1 rows containing missing values (geom_errorbar).”"
     ]
    },
    {
     "data": {},
     "metadata": {},
     "output_type": "display_data"
    },
    {
     "data": {
      "image/png": "[encoded data removed]",
      "text/plain": [
       "plot without title"
      ]
     },
     "metadata": {},
     "output_type": "display_data"
    }
   ],
   "source": [
    "ggplot(age.stats) +\n",
    "    aes(x=age, y=MeanItemCount, \n",
    "        ymin=MeanItemCount - ICErr,\n",
    "        ymax=MeanItemCount + ICErr) +\n",
    "    geom_bar(stat=\"identity\") + geom_errorbar(width=0.2) +\n",
    "    facet_grid(DataSet ~ ., scales=\"free_y\") +\n",
    "    ggtitle(\"Mean items per user by age\")"
   ]
  },
  {
   "cell_type": "code",
   "execution_count": 48,
   "metadata": {},
   "outputs": [
    {
     "data": {},
     "metadata": {},
     "output_type": "display_data"
    },
    {
     "data": {
      "image/png": "[encoded data removed]",
      "text/plain": [
       "plot without title"
      ]
     },
     "metadata": {},
     "output_type": "display_data"
    }
   ],
   "source": [
    "ggplot(age.stats) +\n",
    "    aes(x=age, y=MedItemCount) +\n",
    "    geom_bar(stat=\"identity\") +\n",
    "    facet_grid(DataSet ~ ., scales=\"free_y\") +\n",
    "    ggtitle(\"Median per-user item count by age\")"
   ]
  },
  {
   "cell_type": "markdown",
   "metadata": {
    "collapsed": true
   },
   "source": [
    "## Integrated Plots\n",
    "\n",
    "Now that we have explored, let's generate some integrated plots for the paper.\n",
    "\n",
    "Start by computing demographics in tables we can stack together appropriately."
   ]
  },
  {
   "cell_type": "code",
   "execution_count": 49,
   "metadata": {},
   "outputs": [
    {
     "name": "stderr",
     "output_type": "stream",
     "text": [
      "Warning message in bind_rows_(x, .id):\n",
      "“Unequal factor levels: coercing to character”"
     ]
    },
    {
     "data": {
      "text/html": [
       "<table>\n",
       "<thead><tr><th scope=col>Demographic</th><th scope=col>DataSet</th><th scope=col>demoV</th><th scope=col>UserCount</th><th scope=col>MedItems</th><th scope=col>UserFrac</th></tr></thead>\n",
       "<tbody>\n",
       "\t<tr><td>Gender   </td><td>LFM1K    </td><td>F        </td><td>   382   </td><td>562.5    </td><td>0.3850806</td></tr>\n",
       "\t<tr><td>Gender   </td><td>LFM1K    </td><td>M        </td><td>   502   </td><td>655.5    </td><td>0.5060484</td></tr>\n",
       "\t<tr><td>Gender   </td><td>LFM1K    </td><td>NA       </td><td>   108   </td><td>738.5    </td><td>0.1088710</td></tr>\n",
       "\t<tr><td>Gender   </td><td>LFM360K  </td><td>F        </td><td> 84930   </td><td> 48.0    </td><td>0.2363454</td></tr>\n",
       "\t<tr><td>Gender   </td><td>LFM360K  </td><td>M        </td><td>241642   </td><td> 49.0    </td><td>0.6724475</td></tr>\n",
       "\t<tr><td>⋮</td><td>⋮</td><td>⋮</td><td>⋮</td><td>⋮</td><td>⋮</td></tr>\n",
       "\t<tr><td>Age       </td><td>ML1M      </td><td>25-34     </td><td>2096      </td><td>110       </td><td>0.34701987</td></tr>\n",
       "\t<tr><td>Age       </td><td>ML1M      </td><td>35-44     </td><td>1193      </td><td> 94       </td><td>0.19751656</td></tr>\n",
       "\t<tr><td>Age       </td><td>ML1M      </td><td>45-49     </td><td> 550      </td><td> 81       </td><td>0.09105960</td></tr>\n",
       "\t<tr><td>Age       </td><td>ML1M      </td><td>50-55     </td><td> 496      </td><td> 88       </td><td>0.08211921</td></tr>\n",
       "\t<tr><td>Age       </td><td>ML1M      </td><td>56+       </td><td> 380      </td><td> 64       </td><td>0.06291391</td></tr>\n",
       "</tbody>\n",
       "</table>\n"
      ],
      "text/latex": [
       "\\begin{tabular}{r|llllll}\n",
       " Demographic & DataSet & demoV & UserCount & MedItems & UserFrac\\\\\n",
       "\\hline\n",
       "\t Gender    & LFM1K     & F         &    382    & 562.5     & 0.3850806\\\\\n",
       "\t Gender    & LFM1K     & M         &    502    & 655.5     & 0.5060484\\\\\n",
       "\t Gender    & LFM1K     & NA        &    108    & 738.5     & 0.1088710\\\\\n",
       "\t Gender    & LFM360K   & F         &  84930    &  48.0     & 0.2363454\\\\\n",
       "\t Gender    & LFM360K   & M         & 241642    &  49.0     & 0.6724475\\\\\n",
       "\t ⋮ & ⋮ & ⋮ & ⋮ & ⋮ & ⋮\\\\\n",
       "\t Age        & ML1M       & 25-34      & 2096       & 110        & 0.34701987\\\\\n",
       "\t Age        & ML1M       & 35-44      & 1193       &  94        & 0.19751656\\\\\n",
       "\t Age        & ML1M       & 45-49      &  550       &  81        & 0.09105960\\\\\n",
       "\t Age        & ML1M       & 50-55      &  496       &  88        & 0.08211921\\\\\n",
       "\t Age        & ML1M       & 56+        &  380       &  64        & 0.06291391\\\\\n",
       "\\end{tabular}\n"
      ],
      "text/markdown": [
       "\n",
       "Demographic | DataSet | demoV | UserCount | MedItems | UserFrac | \n",
       "|---|---|---|---|---|---|---|---|---|---|---|\n",
       "| Gender    | LFM1K     | F         |    382    | 562.5     | 0.3850806 | \n",
       "| Gender    | LFM1K     | M         |    502    | 655.5     | 0.5060484 | \n",
       "| Gender    | LFM1K     | NA        |    108    | 738.5     | 0.1088710 | \n",
       "| Gender    | LFM360K   | F         |  84930    |  48.0     | 0.2363454 | \n",
       "| Gender    | LFM360K   | M         | 241642    |  49.0     | 0.6724475 | \n",
       "| ⋮ | ⋮ | ⋮ | ⋮ | ⋮ | ⋮ | \n",
       "| Age        | ML1M       | 25-34      | 2096       | 110        | 0.34701987 | \n",
       "| Age        | ML1M       | 35-44      | 1193       |  94        | 0.19751656 | \n",
       "| Age        | ML1M       | 45-49      |  550       |  81        | 0.09105960 | \n",
       "| Age        | ML1M       | 50-55      |  496       |  88        | 0.08211921 | \n",
       "| Age        | ML1M       | 56+        |  380       |  64        | 0.06291391 | \n",
       "\n",
       "\n"
      ],
      "text/plain": [
       "   Demographic DataSet demoV UserCount MedItems UserFrac  \n",
       "1  Gender      LFM1K   F        382    562.5    0.3850806 \n",
       "2  Gender      LFM1K   M        502    655.5    0.5060484 \n",
       "3  Gender      LFM1K   NA       108    738.5    0.1088710 \n",
       "4  Gender      LFM360K F      84930     48.0    0.2363454 \n",
       "5  Gender      LFM360K M     241642     49.0    0.6724475 \n",
       "⋮  ⋮           ⋮       ⋮     ⋮         ⋮        ⋮         \n",
       "27 Age         ML1M    25-34 2096      110      0.34701987\n",
       "28 Age         ML1M    35-44 1193       94      0.19751656\n",
       "29 Age         ML1M    45-49  550       81      0.09105960\n",
       "30 Age         ML1M    50-55  496       88      0.08211921\n",
       "31 Age         ML1M    56+    380       64      0.06291391"
      ]
     },
     "metadata": {},
     "output_type": "display_data"
    }
   ],
   "source": [
    "gender_stats = all_user_stats %>%\n",
    "    group_by(DataSet, gender) %>%\n",
    "    summarize(UserCount=n(), MedItems=median(ItemCount)) %>%\n",
    "    rename(demoV=gender)\n",
    "age_stats = all_user_stats %>%\n",
    "    group_by(DataSet, age) %>%\n",
    "    summarize(UserCount=n(), MedItems=median(ItemCount)) %>%\n",
    "    rename(demoV=age)\n",
    "demo_stats =\n",
    "    bind_rows(Gender=gender_stats, Age=age_stats, .id=\"Demographic\") %>%\n",
    "    group_by(Demographic, DataSet) %>%\n",
    "    mutate(UserFrac = UserCount / sum(UserCount))\n",
    "demo_stats"
   ]
  },
  {
   "cell_type": "code",
   "execution_count": 59,
   "metadata": {},
   "outputs": [
    {
     "data": {},
     "metadata": {},
     "output_type": "display_data"
    },
    {
     "data": {
      "image/png": "[encoded data removed]",
      "text/plain": [
       "plot without title"
      ]
     },
     "metadata": {},
     "output_type": "display_data"
    }
   ],
   "source": [
    "make.plot(\"users-by-demographic\", width=5.5, height=3.5, {\n",
    "    ggplot(demo_stats) +\n",
    "        aes(x=demoV, y=UserFrac) +\n",
    "        geom_bar(stat=\"identity\") +\n",
    "        geom_text(mapping=aes(label=UserCount, \n",
    "                              vjust=ifelse(UserFrac > 0.1, 1.25, -0.2),\n",
    "                              color=ifelse(UserFrac > 0.1, \"white\", \"black\")),\n",
    "                  size=2) +\n",
    "        scale_color_identity() +\n",
    "        scale_y_continuous(labels=scales::percent) +\n",
    "        facet_grid(DataSet ~ Demographic, scales=\"free\", space=\"free_x\") +\n",
    "        xlab(\"Demographic\") +\n",
    "        ylab(\"Pct. of Users\") +\n",
    "        theme_paper()\n",
    "})"
   ]
  },
  {
   "cell_type": "code",
   "execution_count": 60,
   "metadata": {},
   "outputs": [
    {
     "data": {},
     "metadata": {},
     "output_type": "display_data"
    },
    {
     "data": {
      "image/png": "[encoded data removed]",
      "text/plain": [
       "plot without title"
      ]
     },
     "metadata": {},
     "output_type": "display_data"
    }
   ],
   "source": [
    "make.plot(\"ratings-by-demographic\", width=5.5, height=2.5, {\n",
    "    ggplot(demo_stats %>% filter(DataSet != \"LFM360K\")) +\n",
    "        aes(x=demoV, y=MedItems) +\n",
    "        geom_bar(stat=\"identity\") +\n",
    "        geom_text(mapping=aes(label=MedItems),\n",
    "                  size=2, color=\"white\", vjust=1.25) +\n",
    "        facet_grid(DataSet ~ Demographic, scales=\"free\", space=\"free_x\") +\n",
    "        xlab(\"Demographic\") +\n",
    "        ylab(\"Median Items Consumed\") +\n",
    "        theme_paper()\n",
    "})"
   ]
  },
  {
   "cell_type": "code",
   "execution_count": null,
   "metadata": {
    "collapsed": true
   },
   "outputs": [],
   "source": []
  }
 ],
 "metadata": {
  "kernelspec": {
   "display_name": "R",
   "language": "R",
   "name": "ir"
  },
  "language_info": {
   "codemirror_mode": "r",
   "file_extension": ".r",
   "mimetype": "text/x-r-source",
   "name": "R",
   "pygments_lexer": "r",
   "version": "3.3.2"
  }
 },
 "nbformat": 4,
 "nbformat_minor": 2
}
