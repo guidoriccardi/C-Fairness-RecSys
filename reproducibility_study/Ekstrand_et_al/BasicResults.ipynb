{
 "cells": [
  {
   "cell_type": "markdown",
   "metadata": {},
   "source": [
    "# Output Analysis\n",
    "\n",
    "This notebook contains the basic result analysis.\n",
    "\n",
    "Before running this notebook, run `preload-train-ratings.R` to prepare intermediate data files."
   ]
  },
  {
   "cell_type": "markdown",
   "metadata": {},
   "source": [
    "## Setup\n",
    "\n",
    "Libraries:"
   ]
  },
  {
   "cell_type": "code",
   "execution_count": 1,
   "metadata": {},
   "outputs": [
    {
     "name": "stderr",
     "output_type": "stream",
     "text": [
      "\n",
      "Attaching package: ‘dplyr’\n",
      "\n",
      "The following object is masked from ‘package:MASS’:\n",
      "\n",
      "    select\n",
      "\n",
      "The following objects are masked from ‘package:stats’:\n",
      "\n",
      "    filter, lag\n",
      "\n",
      "The following objects are masked from ‘package:base’:\n",
      "\n",
      "    intersect, setdiff, setequal, union\n",
      "\n"
     ]
    }
   ],
   "source": [
    "library(MASS)\n",
    "library(dplyr)\n",
    "library(readr)\n",
    "library(ggplot2)\n",
    "library(tidyr)\n",
    "library(modelr)\n",
    "library(tibble)"
   ]
  },
  {
   "cell_type": "markdown",
   "metadata": {},
   "source": [
    "Options:"
   ]
  },
  {
   "cell_type": "code",
   "execution_count": 2,
   "metadata": {
    "collapsed": true
   },
   "outputs": [],
   "source": [
    "options(repr.plot.height=5)\n",
    "options(repr.matrix.max.rows=10)\n",
    "options(repr.matrix.max.columns=10)"
   ]
  },
  {
   "cell_type": "markdown",
   "metadata": {},
   "source": [
    "Utilities:"
   ]
  },
  {
   "cell_type": "code",
   "execution_count": 3,
   "metadata": {
    "collapsed": true
   },
   "outputs": [],
   "source": [
    "source(\"plot-tools.R\")"
   ]
  },
  {
   "cell_type": "markdown",
   "metadata": {},
   "source": [
    "### Demographic Utilities"
   ]
  },
  {
   "cell_type": "markdown",
   "metadata": {},
   "source": [
    "We need to be able to normalize ages."
   ]
  },
  {
   "cell_type": "code",
   "execution_count": 4,
   "metadata": {
    "collapsed": true
   },
   "outputs": [],
   "source": [
    "ml_age_bins = c(\"1\"=\"1-17\", \"18\"=\"18-24\", \"25\"=\"25-34\", \"35\"=\"35-44\", \"45\"=\"45-49\", \"50\"=\"50-55\", \"56\"=\"56+\")\n",
    "ml_age_lbs = c(1, 18, 25, 35, 45, 50, 56)"
   ]
  },
  {
   "cell_type": "markdown",
   "metadata": {},
   "source": [
    "Function to bound numeric ages:"
   ]
  },
  {
   "cell_type": "code",
   "execution_count": 5,
   "metadata": {
    "collapsed": true
   },
   "outputs": [],
   "source": [
    "bound_ages = function(ages, bounds=ml_age_lbs) {\n",
    "    ages[ages <= 0] = NA\n",
    "    selectors = rowSums(outer(ages, ml_age_lbs, \">=\"))\n",
    "    factor(ml_age_bins[selectors], levels=ml_age_bins, ordered=TRUE)\n",
    "}"
   ]
  },
  {
   "cell_type": "markdown",
   "metadata": {},
   "source": [
    "Function to rename MovieLens age lower bounds:"
   ]
  },
  {
   "cell_type": "code",
   "execution_count": 6,
   "metadata": {
    "collapsed": true
   },
   "outputs": [],
   "source": [
    "rename_ages = function(ages) {\n",
    "    stopifnot(is.character(ages))\n",
    "    factor(ml_age_bins[ages], levels=ml_age_bins, ordered=TRUE)\n",
    "}"
   ]
  },
  {
   "cell_type": "markdown",
   "metadata": {},
   "source": [
    "## Read Data"
   ]
  },
  {
   "cell_type": "markdown",
   "metadata": {},
   "source": [
    "### User Data\n",
    "\n",
    "First, we need to read the user data from the underlying MovieLens data:"
   ]
  },
  {
   "cell_type": "code",
   "execution_count": 7,
   "metadata": {},
   "outputs": [
    {
     "data": {
      "text/html": [
       "<table>\n",
       "<thead><tr><th scope=col>user</th><th scope=col>gender</th><th scope=col>age</th><th scope=col>occupation</th><th scope=col>zip</th></tr></thead>\n",
       "<tbody>\n",
       "\t<tr><td>1    </td><td>F    </td><td>1-17 </td><td>10   </td><td>48067</td></tr>\n",
       "\t<tr><td>2    </td><td>M    </td><td>56+  </td><td>16   </td><td>70072</td></tr>\n",
       "\t<tr><td>3    </td><td>M    </td><td>25-34</td><td>15   </td><td>55117</td></tr>\n",
       "\t<tr><td>4    </td><td>M    </td><td>45-49</td><td>7    </td><td>02460</td></tr>\n",
       "\t<tr><td>5    </td><td>M    </td><td>25-34</td><td>20   </td><td>55455</td></tr>\n",
       "\t<tr><td>⋮</td><td>⋮</td><td>⋮</td><td>⋮</td><td>⋮</td></tr>\n",
       "\t<tr><td>6036 </td><td>F    </td><td>25-34</td><td>15   </td><td>32603</td></tr>\n",
       "\t<tr><td>6037 </td><td>F    </td><td>45-49</td><td>1    </td><td>76006</td></tr>\n",
       "\t<tr><td>6038 </td><td>F    </td><td>56+  </td><td>1    </td><td>14706</td></tr>\n",
       "\t<tr><td>6039 </td><td>F    </td><td>45-49</td><td>0    </td><td>01060</td></tr>\n",
       "\t<tr><td>6040 </td><td>M    </td><td>25-34</td><td>6    </td><td>11106</td></tr>\n",
       "</tbody>\n",
       "</table>\n"
      ],
      "text/latex": [
       "\\begin{tabular}{r|lllll}\n",
       " user & gender & age & occupation & zip\\\\\n",
       "\\hline\n",
       "\t 1     & F     & 1-17  & 10    & 48067\\\\\n",
       "\t 2     & M     & 56+   & 16    & 70072\\\\\n",
       "\t 3     & M     & 25-34 & 15    & 55117\\\\\n",
       "\t 4     & M     & 45-49 & 7     & 02460\\\\\n",
       "\t 5     & M     & 25-34 & 20    & 55455\\\\\n",
       "\t ⋮ & ⋮ & ⋮ & ⋮ & ⋮\\\\\n",
       "\t 6036  & F     & 25-34 & 15    & 32603\\\\\n",
       "\t 6037  & F     & 45-49 & 1     & 76006\\\\\n",
       "\t 6038  & F     & 56+   & 1     & 14706\\\\\n",
       "\t 6039  & F     & 45-49 & 0     & 01060\\\\\n",
       "\t 6040  & M     & 25-34 & 6     & 11106\\\\\n",
       "\\end{tabular}\n"
      ],
      "text/markdown": [
       "\n",
       "user | gender | age | occupation | zip | \n",
       "|---|---|---|---|---|---|---|---|---|---|---|\n",
       "| 1     | F     | 1-17  | 10    | 48067 | \n",
       "| 2     | M     | 56+   | 16    | 70072 | \n",
       "| 3     | M     | 25-34 | 15    | 55117 | \n",
       "| 4     | M     | 45-49 | 7     | 02460 | \n",
       "| 5     | M     | 25-34 | 20    | 55455 | \n",
       "| ⋮ | ⋮ | ⋮ | ⋮ | ⋮ | \n",
       "| 6036  | F     | 25-34 | 15    | 32603 | \n",
       "| 6037  | F     | 45-49 | 1     | 76006 | \n",
       "| 6038  | F     | 56+   | 1     | 14706 | \n",
       "| 6039  | F     | 45-49 | 0     | 01060 | \n",
       "| 6040  | M     | 25-34 | 6     | 11106 | \n",
       "\n",
       "\n"
      ],
      "text/plain": [
       "     user gender age   occupation zip  \n",
       "1    1    F      1-17  10         48067\n",
       "2    2    M      56+   16         70072\n",
       "3    3    M      25-34 15         55117\n",
       "4    4    M      45-49 7          02460\n",
       "5    5    M      25-34 20         55455\n",
       "⋮    ⋮    ⋮      ⋮     ⋮          ⋮    \n",
       "6036 6036 F      25-34 15         32603\n",
       "6037 6037 F      45-49 1          76006\n",
       "6038 6038 F      56+   1          14706\n",
       "6039 6039 F      45-49 0          01060\n",
       "6040 6040 M      25-34 6          11106"
      ]
     },
     "metadata": {},
     "output_type": "display_data"
    }
   ],
   "source": [
    "users.meta.ml = read_delim(\"data/ml-1m/users.dat\", delim=\":\",\n",
    "                   col_names=c(\"user\", \"gender\", \"age\", \"occupation\", \"zip\"),\n",
    "                   col_types=\"i_c_c_c_c\") %>%\n",
    "    mutate(gender=as.factor(gender),\n",
    "           age=rename_ages(age),\n",
    "           occupation=as.factor(occupation))\n",
    "users.meta.ml"
   ]
  },
  {
   "cell_type": "markdown",
   "metadata": {},
   "source": [
    "Do the same thing with Last.FM:"
   ]
  },
  {
   "cell_type": "code",
   "execution_count": 8,
   "metadata": {},
   "outputs": [
    {
     "name": "stderr",
     "output_type": "stream",
     "text": [
      "Parsed with column specification:\n",
      "cols(\n",
      "  id = col_integer(),\n",
      "  key = col_character(),\n",
      "  gender = col_character(),\n",
      "  age = col_integer()\n",
      ")\n"
     ]
    },
    {
     "data": {
      "text/html": [
       "<table>\n",
       "<thead><tr><th scope=col>user</th><th scope=col>gender</th><th scope=col>age</th></tr></thead>\n",
       "<tbody>\n",
       "\t<tr><td>1    </td><td>F    </td><td>18-24</td></tr>\n",
       "\t<tr><td>2    </td><td>F    </td><td>NA   </td></tr>\n",
       "\t<tr><td>3    </td><td>NA   </td><td>NA   </td></tr>\n",
       "\t<tr><td>4    </td><td>M    </td><td>18-24</td></tr>\n",
       "\t<tr><td>5    </td><td>M    </td><td>25-34</td></tr>\n",
       "\t<tr><td>⋮</td><td>⋮</td><td>⋮</td></tr>\n",
       "\t<tr><td>359343</td><td>M     </td><td>25-34 </td></tr>\n",
       "\t<tr><td>359344</td><td>M     </td><td>25-34 </td></tr>\n",
       "\t<tr><td>359345</td><td>M     </td><td>18-24 </td></tr>\n",
       "\t<tr><td>359346</td><td>M     </td><td>18-24 </td></tr>\n",
       "\t<tr><td>359347</td><td>M     </td><td>18-24 </td></tr>\n",
       "</tbody>\n",
       "</table>\n"
      ],
      "text/latex": [
       "\\begin{tabular}{r|lll}\n",
       " user & gender & age\\\\\n",
       "\\hline\n",
       "\t 1     & F     & 18-24\\\\\n",
       "\t 2     & F     & NA   \\\\\n",
       "\t 3     & NA    & NA   \\\\\n",
       "\t 4     & M     & 18-24\\\\\n",
       "\t 5     & M     & 25-34\\\\\n",
       "\t ⋮ & ⋮ & ⋮\\\\\n",
       "\t 359343 & M      & 25-34 \\\\\n",
       "\t 359344 & M      & 25-34 \\\\\n",
       "\t 359345 & M      & 18-24 \\\\\n",
       "\t 359346 & M      & 18-24 \\\\\n",
       "\t 359347 & M      & 18-24 \\\\\n",
       "\\end{tabular}\n"
      ],
      "text/markdown": [
       "\n",
       "user | gender | age | \n",
       "|---|---|---|---|---|---|---|---|---|---|---|\n",
       "| 1     | F     | 18-24 | \n",
       "| 2     | F     | NA    | \n",
       "| 3     | NA    | NA    | \n",
       "| 4     | M     | 18-24 | \n",
       "| 5     | M     | 25-34 | \n",
       "| ⋮ | ⋮ | ⋮ | \n",
       "| 359343 | M      | 25-34  | \n",
       "| 359344 | M      | 25-34  | \n",
       "| 359345 | M      | 18-24  | \n",
       "| 359346 | M      | 18-24  | \n",
       "| 359347 | M      | 18-24  | \n",
       "\n",
       "\n"
      ],
      "text/plain": [
       "       user   gender age  \n",
       "1      1      F      18-24\n",
       "2      2      F      NA   \n",
       "3      3      NA     NA   \n",
       "4      4      M      18-24\n",
       "5      5      M      25-34\n",
       "⋮      ⋮      ⋮      ⋮    \n",
       "359343 359343 M      25-34\n",
       "359344 359344 M      25-34\n",
       "359345 359345 M      18-24\n",
       "359346 359346 M      18-24\n",
       "359347 359347 M      18-24"
      ]
     },
     "metadata": {},
     "output_type": "display_data"
    }
   ],
   "source": [
    "users.meta.360k = read_csv(\"build/lastfm-users.csv\") %>%\n",
    "    mutate(gender=as.factor(toupper(gender)),\n",
    "           age=bound_ages(if_else(age > 0, age, as.integer(NA)))) %>%\n",
    "    select(user=id, gender, age)\n",
    "\n",
    "users.meta.360k"
   ]
  },
  {
   "cell_type": "code",
   "execution_count": 9,
   "metadata": {},
   "outputs": [
    {
     "name": "stderr",
     "output_type": "stream",
     "text": [
      "Parsed with column specification:\n",
      "cols(\n",
      "  id = col_integer(),\n",
      "  gender = col_character(),\n",
      "  age = col_integer()\n",
      ")\n"
     ]
    },
    {
     "data": {
      "text/html": [
       "<table>\n",
       "<thead><tr><th scope=col>user</th><th scope=col>gender</th><th scope=col>age</th></tr></thead>\n",
       "<tbody>\n",
       "\t<tr><td>1    </td><td>M    </td><td>NA   </td></tr>\n",
       "\t<tr><td>2    </td><td>F    </td><td>NA   </td></tr>\n",
       "\t<tr><td>3    </td><td>M    </td><td>18-24</td></tr>\n",
       "\t<tr><td>4    </td><td>F    </td><td>NA   </td></tr>\n",
       "\t<tr><td>5    </td><td>M    </td><td>NA   </td></tr>\n",
       "\t<tr><td>⋮</td><td>⋮</td><td>⋮</td></tr>\n",
       "\t<tr><td>988</td><td>F  </td><td>NA </td></tr>\n",
       "\t<tr><td>989</td><td>M  </td><td>NA </td></tr>\n",
       "\t<tr><td>990</td><td>M  </td><td>NA </td></tr>\n",
       "\t<tr><td>991</td><td>F  </td><td>NA </td></tr>\n",
       "\t<tr><td>992</td><td>M  </td><td>NA </td></tr>\n",
       "</tbody>\n",
       "</table>\n"
      ],
      "text/latex": [
       "\\begin{tabular}{r|lll}\n",
       " user & gender & age\\\\\n",
       "\\hline\n",
       "\t 1     & M     & NA   \\\\\n",
       "\t 2     & F     & NA   \\\\\n",
       "\t 3     & M     & 18-24\\\\\n",
       "\t 4     & F     & NA   \\\\\n",
       "\t 5     & M     & NA   \\\\\n",
       "\t ⋮ & ⋮ & ⋮\\\\\n",
       "\t 988 & F   & NA \\\\\n",
       "\t 989 & M   & NA \\\\\n",
       "\t 990 & M   & NA \\\\\n",
       "\t 991 & F   & NA \\\\\n",
       "\t 992 & M   & NA \\\\\n",
       "\\end{tabular}\n"
      ],
      "text/markdown": [
       "\n",
       "user | gender | age | \n",
       "|---|---|---|---|---|---|---|---|---|---|---|\n",
       "| 1     | M     | NA    | \n",
       "| 2     | F     | NA    | \n",
       "| 3     | M     | 18-24 | \n",
       "| 4     | F     | NA    | \n",
       "| 5     | M     | NA    | \n",
       "| ⋮ | ⋮ | ⋮ | \n",
       "| 988 | F   | NA  | \n",
       "| 989 | M   | NA  | \n",
       "| 990 | M   | NA  | \n",
       "| 991 | F   | NA  | \n",
       "| 992 | M   | NA  | \n",
       "\n",
       "\n"
      ],
      "text/plain": [
       "    user gender age  \n",
       "1   1    M      NA   \n",
       "2   2    F      NA   \n",
       "3   3    M      18-24\n",
       "4   4    F      NA   \n",
       "5   5    M      NA   \n",
       "⋮   ⋮    ⋮      ⋮    \n",
       "988 988  F      NA   \n",
       "989 989  M      NA   \n",
       "990 990  M      NA   \n",
       "991 991  F      NA   \n",
       "992 992  M      NA   "
      ]
     },
     "metadata": {},
     "output_type": "display_data"
    }
   ],
   "source": [
    "users.meta.1k = read_csv(\"build/lfm1k-users.csv\") %>%\n",
    "    mutate(gender=as.factor(toupper(gender)),\n",
    "           age=bound_ages(if_else(age > 0, age, as.integer(NA)))) %>%\n",
    "    select(user=id, gender, age)\n",
    "users.meta.1k"
   ]
  },
  {
   "cell_type": "markdown",
   "metadata": {},
   "source": [
    "Merge together the metadata."
   ]
  },
  {
   "cell_type": "code",
   "execution_count": 10,
   "metadata": {},
   "outputs": [
    {
     "data": {
      "text/html": [
       "<table>\n",
       "<thead><tr><th scope=col>DataSet</th><th scope=col>user</th><th scope=col>gender</th><th scope=col>age</th><th scope=col>occupation</th><th scope=col>zip</th></tr></thead>\n",
       "<tbody>\n",
       "\t<tr><td>ML1M </td><td>1    </td><td>F    </td><td>1-17 </td><td>10   </td><td>48067</td></tr>\n",
       "\t<tr><td>ML1M </td><td>2    </td><td>M    </td><td>56+  </td><td>16   </td><td>70072</td></tr>\n",
       "\t<tr><td>ML1M </td><td>3    </td><td>M    </td><td>25-34</td><td>15   </td><td>55117</td></tr>\n",
       "\t<tr><td>ML1M </td><td>4    </td><td>M    </td><td>45-49</td><td>7    </td><td>02460</td></tr>\n",
       "\t<tr><td>ML1M </td><td>5    </td><td>M    </td><td>25-34</td><td>20   </td><td>55455</td></tr>\n",
       "\t<tr><td>⋮</td><td>⋮</td><td>⋮</td><td>⋮</td><td>⋮</td><td>⋮</td></tr>\n",
       "\t<tr><td>LFM1K</td><td>988  </td><td>F    </td><td>NA   </td><td>NA   </td><td>NA   </td></tr>\n",
       "\t<tr><td>LFM1K</td><td>989  </td><td>M    </td><td>NA   </td><td>NA   </td><td>NA   </td></tr>\n",
       "\t<tr><td>LFM1K</td><td>990  </td><td>M    </td><td>NA   </td><td>NA   </td><td>NA   </td></tr>\n",
       "\t<tr><td>LFM1K</td><td>991  </td><td>F    </td><td>NA   </td><td>NA   </td><td>NA   </td></tr>\n",
       "\t<tr><td>LFM1K</td><td>992  </td><td>M    </td><td>NA   </td><td>NA   </td><td>NA   </td></tr>\n",
       "</tbody>\n",
       "</table>\n"
      ],
      "text/latex": [
       "\\begin{tabular}{r|llllll}\n",
       " DataSet & user & gender & age & occupation & zip\\\\\n",
       "\\hline\n",
       "\t ML1M  & 1     & F     & 1-17  & 10    & 48067\\\\\n",
       "\t ML1M  & 2     & M     & 56+   & 16    & 70072\\\\\n",
       "\t ML1M  & 3     & M     & 25-34 & 15    & 55117\\\\\n",
       "\t ML1M  & 4     & M     & 45-49 & 7     & 02460\\\\\n",
       "\t ML1M  & 5     & M     & 25-34 & 20    & 55455\\\\\n",
       "\t ⋮ & ⋮ & ⋮ & ⋮ & ⋮ & ⋮\\\\\n",
       "\t LFM1K & 988   & F     & NA    & NA    & NA   \\\\\n",
       "\t LFM1K & 989   & M     & NA    & NA    & NA   \\\\\n",
       "\t LFM1K & 990   & M     & NA    & NA    & NA   \\\\\n",
       "\t LFM1K & 991   & F     & NA    & NA    & NA   \\\\\n",
       "\t LFM1K & 992   & M     & NA    & NA    & NA   \\\\\n",
       "\\end{tabular}\n"
      ],
      "text/markdown": [
       "\n",
       "DataSet | user | gender | age | occupation | zip | \n",
       "|---|---|---|---|---|---|---|---|---|---|---|\n",
       "| ML1M  | 1     | F     | 1-17  | 10    | 48067 | \n",
       "| ML1M  | 2     | M     | 56+   | 16    | 70072 | \n",
       "| ML1M  | 3     | M     | 25-34 | 15    | 55117 | \n",
       "| ML1M  | 4     | M     | 45-49 | 7     | 02460 | \n",
       "| ML1M  | 5     | M     | 25-34 | 20    | 55455 | \n",
       "| ⋮ | ⋮ | ⋮ | ⋮ | ⋮ | ⋮ | \n",
       "| LFM1K | 988   | F     | NA    | NA    | NA    | \n",
       "| LFM1K | 989   | M     | NA    | NA    | NA    | \n",
       "| LFM1K | 990   | M     | NA    | NA    | NA    | \n",
       "| LFM1K | 991   | F     | NA    | NA    | NA    | \n",
       "| LFM1K | 992   | M     | NA    | NA    | NA    | \n",
       "\n",
       "\n"
      ],
      "text/plain": [
       "       DataSet user gender age   occupation zip  \n",
       "1      ML1M    1    F      1-17  10         48067\n",
       "2      ML1M    2    M      56+   16         70072\n",
       "3      ML1M    3    M      25-34 15         55117\n",
       "4      ML1M    4    M      45-49 7          02460\n",
       "5      ML1M    5    M      25-34 20         55455\n",
       "⋮      ⋮       ⋮    ⋮      ⋮     ⋮          ⋮    \n",
       "366375 LFM1K   988  F      NA    NA         NA   \n",
       "366376 LFM1K   989  M      NA    NA         NA   \n",
       "366377 LFM1K   990  M      NA    NA         NA   \n",
       "366378 LFM1K   991  F      NA    NA         NA   \n",
       "366379 LFM1K   992  M      NA    NA         NA   "
      ]
     },
     "metadata": {},
     "output_type": "display_data"
    }
   ],
   "source": [
    "users.meta = \n",
    "    bind_rows(ML1M=users.meta.ml,\n",
    "              LFM360K=users.meta.360k,\n",
    "              LFM1K=users.meta.1k,\n",
    "              .id=\"DataSet\")\n",
    "users.meta"
   ]
  },
  {
   "cell_type": "markdown",
   "metadata": {},
   "source": [
    "### User Profile Statistics"
   ]
  },
  {
   "cell_type": "markdown",
   "metadata": {},
   "source": [
    "Now, we want to get user profile statistics. In order to do that, we need each user's train profile; we can load that from the training data output by the cross-folding process.  The `preload-train-ratings.R` script pre-processes that data so we don't have to spend as much time doing it here.\n",
    "\n",
    "For each partition, we loaded the _train ratings_ (historical profile) for all the _test users_ in that partition. So we will load the test data (to get the users) and the train data (to get the histories), then merge them."
   ]
  },
  {
   "cell_type": "code",
   "execution_count": 11,
   "metadata": {},
   "outputs": [
    {
     "data": {
      "text/html": [
       "<table>\n",
       "<thead><tr><th scope=col>user</th><th scope=col>part</th><th scope=col>item</th><th scope=col>rating</th><th scope=col>timestamp</th></tr></thead>\n",
       "<tbody>\n",
       "\t<tr><td>1        </td><td>1        </td><td>1193     </td><td>5        </td><td>978300760</td></tr>\n",
       "\t<tr><td>1        </td><td>1        </td><td>2028     </td><td>5        </td><td>978301619</td></tr>\n",
       "\t<tr><td>1        </td><td>1        </td><td>1035     </td><td>5        </td><td>978301753</td></tr>\n",
       "\t<tr><td>1        </td><td>1        </td><td> 919     </td><td>4        </td><td>978301368</td></tr>\n",
       "\t<tr><td>1        </td><td>1        </td><td> 720     </td><td>3        </td><td>978300760</td></tr>\n",
       "\t<tr><td>⋮</td><td>⋮</td><td>⋮</td><td>⋮</td><td>⋮</td></tr>\n",
       "\t<tr><td>6038     </td><td>5        </td><td>1136     </td><td>4        </td><td>956707708</td></tr>\n",
       "\t<tr><td>6038     </td><td>5        </td><td> 356     </td><td>4        </td><td>956707005</td></tr>\n",
       "\t<tr><td>6038     </td><td>5        </td><td>1079     </td><td>5        </td><td>956707547</td></tr>\n",
       "\t<tr><td>6038     </td><td>5        </td><td>3396     </td><td>3        </td><td>956706827</td></tr>\n",
       "\t<tr><td>6038     </td><td>5        </td><td>1296     </td><td>5        </td><td>956714684</td></tr>\n",
       "</tbody>\n",
       "</table>\n"
      ],
      "text/latex": [
       "\\begin{tabular}{r|lllll}\n",
       " user & part & item & rating & timestamp\\\\\n",
       "\\hline\n",
       "\t 1         & 1         & 1193      & 5         & 978300760\\\\\n",
       "\t 1         & 1         & 2028      & 5         & 978301619\\\\\n",
       "\t 1         & 1         & 1035      & 5         & 978301753\\\\\n",
       "\t 1         & 1         &  919      & 4         & 978301368\\\\\n",
       "\t 1         & 1         &  720      & 3         & 978300760\\\\\n",
       "\t ⋮ & ⋮ & ⋮ & ⋮ & ⋮\\\\\n",
       "\t 6038      & 5         & 1136      & 4         & 956707708\\\\\n",
       "\t 6038      & 5         &  356      & 4         & 956707005\\\\\n",
       "\t 6038      & 5         & 1079      & 5         & 956707547\\\\\n",
       "\t 6038      & 5         & 3396      & 3         & 956706827\\\\\n",
       "\t 6038      & 5         & 1296      & 5         & 956714684\\\\\n",
       "\\end{tabular}\n"
      ],
      "text/markdown": [
       "\n",
       "user | part | item | rating | timestamp | \n",
       "|---|---|---|---|---|---|---|---|---|---|---|\n",
       "| 1         | 1         | 1193      | 5         | 978300760 | \n",
       "| 1         | 1         | 2028      | 5         | 978301619 | \n",
       "| 1         | 1         | 1035      | 5         | 978301753 | \n",
       "| 1         | 1         |  919      | 4         | 978301368 | \n",
       "| 1         | 1         |  720      | 3         | 978300760 | \n",
       "| ⋮ | ⋮ | ⋮ | ⋮ | ⋮ | \n",
       "| 6038      | 5         | 1136      | 4         | 956707708 | \n",
       "| 6038      | 5         |  356      | 4         | 956707005 | \n",
       "| 6038      | 5         | 1079      | 5         | 956707547 | \n",
       "| 6038      | 5         | 3396      | 3         | 956706827 | \n",
       "| 6038      | 5         | 1296      | 5         | 956714684 | \n",
       "\n",
       "\n"
      ],
      "text/plain": [
       "       user part item rating timestamp\n",
       "1      1    1    1193 5      978300760\n",
       "2      1    1    2028 5      978301619\n",
       "3      1    1    1035 5      978301753\n",
       "4      1    1     919 4      978301368\n",
       "5      1    1     720 3      978300760\n",
       "⋮      ⋮    ⋮    ⋮    ⋮      ⋮        \n",
       "970005 6038 5    1136 4      956707708\n",
       "970006 6038 5     356 4      956707005\n",
       "970007 6038 5    1079 5      956707547\n",
       "970008 6038 5    3396 3      956706827\n",
       "970009 6038 5    1296 5      956714684"
      ]
     },
     "metadata": {},
     "output_type": "display_data"
    }
   ],
   "source": [
    "load(\"build/ml1m-train.Rdata\")\n",
    "ml1m.train.ratings"
   ]
  },
  {
   "cell_type": "code",
   "execution_count": 12,
   "metadata": {},
   "outputs": [
    {
     "data": {
      "text/html": [
       "<table>\n",
       "<thead><tr><th scope=col>user</th><th scope=col>part</th><th scope=col>item</th><th scope=col>count</th></tr></thead>\n",
       "<tbody>\n",
       "\t<tr><td>51  </td><td>1   </td><td> 417</td><td>1162</td></tr>\n",
       "\t<tr><td>51  </td><td>1   </td><td> 278</td><td> 365</td></tr>\n",
       "\t<tr><td>51  </td><td>1   </td><td> 355</td><td> 320</td></tr>\n",
       "\t<tr><td>51  </td><td>1   </td><td>1753</td><td> 246</td></tr>\n",
       "\t<tr><td>51  </td><td>1   </td><td>1491</td><td> 218</td></tr>\n",
       "\t<tr><td>⋮</td><td>⋮</td><td>⋮</td><td>⋮</td></tr>\n",
       "\t<tr><td>359321</td><td>5     </td><td>10984 </td><td>72    </td></tr>\n",
       "\t<tr><td>359321</td><td>5     </td><td> 5234 </td><td>66    </td></tr>\n",
       "\t<tr><td>359321</td><td>5     </td><td> 2333 </td><td>66    </td></tr>\n",
       "\t<tr><td>359321</td><td>5     </td><td>  175 </td><td>65    </td></tr>\n",
       "\t<tr><td>359321</td><td>5     </td><td> 8467 </td><td>61    </td></tr>\n",
       "</tbody>\n",
       "</table>\n"
      ],
      "text/latex": [
       "\\begin{tabular}{r|llll}\n",
       " user & part & item & count\\\\\n",
       "\\hline\n",
       "\t 51   & 1    &  417 & 1162\\\\\n",
       "\t 51   & 1    &  278 &  365\\\\\n",
       "\t 51   & 1    &  355 &  320\\\\\n",
       "\t 51   & 1    & 1753 &  246\\\\\n",
       "\t 51   & 1    & 1491 &  218\\\\\n",
       "\t ⋮ & ⋮ & ⋮ & ⋮\\\\\n",
       "\t 359321 & 5      & 10984  & 72    \\\\\n",
       "\t 359321 & 5      &  5234  & 66    \\\\\n",
       "\t 359321 & 5      &  2333  & 66    \\\\\n",
       "\t 359321 & 5      &   175  & 65    \\\\\n",
       "\t 359321 & 5      &  8467  & 61    \\\\\n",
       "\\end{tabular}\n"
      ],
      "text/markdown": [
       "\n",
       "user | part | item | count | \n",
       "|---|---|---|---|---|---|---|---|---|---|---|\n",
       "| 51   | 1    |  417 | 1162 | \n",
       "| 51   | 1    |  278 |  365 | \n",
       "| 51   | 1    |  355 |  320 | \n",
       "| 51   | 1    | 1753 |  246 | \n",
       "| 51   | 1    | 1491 |  218 | \n",
       "| ⋮ | ⋮ | ⋮ | ⋮ | \n",
       "| 359321 | 5      | 10984  | 72     | \n",
       "| 359321 | 5      |  5234  | 66     | \n",
       "| 359321 | 5      |  2333  | 66     | \n",
       "| 359321 | 5      |   175  | 65     | \n",
       "| 359321 | 5      |  8467  | 61     | \n",
       "\n",
       "\n"
      ],
      "text/plain": [
       "        user   part item  count\n",
       "1       51     1     417  1162 \n",
       "2       51     1     278   365 \n",
       "3       51     1     355   320 \n",
       "4       51     1    1753   246 \n",
       "5       51     1    1491   218 \n",
       "⋮       ⋮      ⋮    ⋮     ⋮    \n",
       "1097303 359321 5    10984 72   \n",
       "1097304 359321 5     5234 66   \n",
       "1097305 359321 5     2333 66   \n",
       "1097306 359321 5      175 65   \n",
       "1097307 359321 5     8467 61   "
      ]
     },
     "metadata": {},
     "output_type": "display_data"
    }
   ],
   "source": [
    "load(\"build/lfm360k-train.Rdata\")\n",
    "lfm360k.train.counts"
   ]
  },
  {
   "cell_type": "code",
   "execution_count": 13,
   "metadata": {},
   "outputs": [
    {
     "data": {
      "text/html": [
       "<table>\n",
       "<thead><tr><th scope=col>user</th><th scope=col>part</th><th scope=col>item</th><th scope=col>count</th></tr></thead>\n",
       "<tbody>\n",
       "\t<tr><td>3   </td><td>1   </td><td>2174</td><td>8   </td></tr>\n",
       "\t<tr><td>3   </td><td>1   </td><td>2167</td><td>3   </td></tr>\n",
       "\t<tr><td>3   </td><td>1   </td><td>2426</td><td>3   </td></tr>\n",
       "\t<tr><td>3   </td><td>1   </td><td>2143</td><td>7   </td></tr>\n",
       "\t<tr><td>3   </td><td>1   </td><td>2179</td><td>1   </td></tr>\n",
       "\t<tr><td>⋮</td><td>⋮</td><td>⋮</td><td>⋮</td></tr>\n",
       "\t<tr><td>983   </td><td>5     </td><td>176619</td><td>17    </td></tr>\n",
       "\t<tr><td>983   </td><td>5     </td><td>  1311</td><td> 1    </td></tr>\n",
       "\t<tr><td>983   </td><td>5     </td><td> 20175</td><td>28    </td></tr>\n",
       "\t<tr><td>983   </td><td>5     </td><td> 10092</td><td> 4    </td></tr>\n",
       "\t<tr><td>983   </td><td>5     </td><td>176620</td><td> 2    </td></tr>\n",
       "</tbody>\n",
       "</table>\n"
      ],
      "text/latex": [
       "\\begin{tabular}{r|llll}\n",
       " user & part & item & count\\\\\n",
       "\\hline\n",
       "\t 3    & 1    & 2174 & 8   \\\\\n",
       "\t 3    & 1    & 2167 & 3   \\\\\n",
       "\t 3    & 1    & 2426 & 3   \\\\\n",
       "\t 3    & 1    & 2143 & 7   \\\\\n",
       "\t 3    & 1    & 2179 & 1   \\\\\n",
       "\t ⋮ & ⋮ & ⋮ & ⋮\\\\\n",
       "\t 983    & 5      & 176619 & 17    \\\\\n",
       "\t 983    & 5      &   1311 &  1    \\\\\n",
       "\t 983    & 5      &  20175 & 28    \\\\\n",
       "\t 983    & 5      &  10092 &  4    \\\\\n",
       "\t 983    & 5      & 176620 &  2    \\\\\n",
       "\\end{tabular}\n"
      ],
      "text/markdown": [
       "\n",
       "user | part | item | count | \n",
       "|---|---|---|---|---|---|---|---|---|---|---|\n",
       "| 3    | 1    | 2174 | 8    | \n",
       "| 3    | 1    | 2167 | 3    | \n",
       "| 3    | 1    | 2426 | 3    | \n",
       "| 3    | 1    | 2143 | 7    | \n",
       "| 3    | 1    | 2179 | 1    | \n",
       "| ⋮ | ⋮ | ⋮ | ⋮ | \n",
       "| 983    | 5      | 176619 | 17     | \n",
       "| 983    | 5      |   1311 |  1     | \n",
       "| 983    | 5      |  20175 | 28     | \n",
       "| 983    | 5      |  10092 |  4     | \n",
       "| 983    | 5      | 176620 |  2     | \n",
       "\n",
       "\n"
      ],
      "text/plain": [
       "       user part item   count\n",
       "1      3    1    2174   8    \n",
       "2      3    1    2167   3    \n",
       "3      3    1    2426   3    \n",
       "4      3    1    2143   7    \n",
       "5      3    1    2179   1    \n",
       "⋮      ⋮    ⋮    ⋮      ⋮    \n",
       "899658 983  5    176619 17   \n",
       "899659 983  5      1311  1   \n",
       "899660 983  5     20175 28   \n",
       "899661 983  5     10092  4   \n",
       "899662 983  5    176620  2   "
      ]
     },
     "metadata": {},
     "output_type": "display_data"
    }
   ],
   "source": [
    "load(\"build/lfm1k-train.Rdata\")\n",
    "lfm1k.train.counts"
   ]
  },
  {
   "cell_type": "markdown",
   "metadata": {},
   "source": [
    "Now we want to compute per-user profile statistics."
   ]
  },
  {
   "cell_type": "code",
   "execution_count": 14,
   "metadata": {},
   "outputs": [
    {
     "data": {
      "text/html": [
       "<table>\n",
       "<thead><tr><th scope=col>user</th><th scope=col>nitems</th><th scope=col>meanRating</th><th scope=col>ratingVar</th></tr></thead>\n",
       "<tbody>\n",
       "\t<tr><td>1        </td><td> 48      </td><td>4.166667 </td><td>0.4822695</td></tr>\n",
       "\t<tr><td>2        </td><td>124      </td><td>3.717742 </td><td>1.0009835</td></tr>\n",
       "\t<tr><td>3        </td><td> 46      </td><td>3.869565 </td><td>0.9159420</td></tr>\n",
       "\t<tr><td>4        </td><td> 16      </td><td>4.062500 </td><td>1.2625000</td></tr>\n",
       "\t<tr><td>5        </td><td>193      </td><td>3.129534 </td><td>1.2904253</td></tr>\n",
       "\t<tr><td>⋮</td><td>⋮</td><td>⋮</td><td>⋮</td></tr>\n",
       "\t<tr><td>6036     </td><td>883      </td><td>3.305776 </td><td>1.0492523</td></tr>\n",
       "\t<tr><td>6037     </td><td>197      </td><td>3.725888 </td><td>0.7816223</td></tr>\n",
       "\t<tr><td>6038     </td><td> 15      </td><td>4.200000 </td><td>0.6000000</td></tr>\n",
       "\t<tr><td>6039     </td><td>118      </td><td>3.872881 </td><td>0.5221643</td></tr>\n",
       "\t<tr><td>6040     </td><td>336      </td><td>3.589286 </td><td>1.3830490</td></tr>\n",
       "</tbody>\n",
       "</table>\n"
      ],
      "text/latex": [
       "\\begin{tabular}{r|llll}\n",
       " user & nitems & meanRating & ratingVar\\\\\n",
       "\\hline\n",
       "\t 1         &  48       & 4.166667  & 0.4822695\\\\\n",
       "\t 2         & 124       & 3.717742  & 1.0009835\\\\\n",
       "\t 3         &  46       & 3.869565  & 0.9159420\\\\\n",
       "\t 4         &  16       & 4.062500  & 1.2625000\\\\\n",
       "\t 5         & 193       & 3.129534  & 1.2904253\\\\\n",
       "\t ⋮ & ⋮ & ⋮ & ⋮\\\\\n",
       "\t 6036      & 883       & 3.305776  & 1.0492523\\\\\n",
       "\t 6037      & 197       & 3.725888  & 0.7816223\\\\\n",
       "\t 6038      &  15       & 4.200000  & 0.6000000\\\\\n",
       "\t 6039      & 118       & 3.872881  & 0.5221643\\\\\n",
       "\t 6040      & 336       & 3.589286  & 1.3830490\\\\\n",
       "\\end{tabular}\n"
      ],
      "text/markdown": [
       "\n",
       "user | nitems | meanRating | ratingVar | \n",
       "|---|---|---|---|---|---|---|---|---|---|---|\n",
       "| 1         |  48       | 4.166667  | 0.4822695 | \n",
       "| 2         | 124       | 3.717742  | 1.0009835 | \n",
       "| 3         |  46       | 3.869565  | 0.9159420 | \n",
       "| 4         |  16       | 4.062500  | 1.2625000 | \n",
       "| 5         | 193       | 3.129534  | 1.2904253 | \n",
       "| ⋮ | ⋮ | ⋮ | ⋮ | \n",
       "| 6036      | 883       | 3.305776  | 1.0492523 | \n",
       "| 6037      | 197       | 3.725888  | 0.7816223 | \n",
       "| 6038      |  15       | 4.200000  | 0.6000000 | \n",
       "| 6039      | 118       | 3.872881  | 0.5221643 | \n",
       "| 6040      | 336       | 3.589286  | 1.3830490 | \n",
       "\n",
       "\n"
      ],
      "text/plain": [
       "     user nitems meanRating ratingVar\n",
       "1    1     48    4.166667   0.4822695\n",
       "2    2    124    3.717742   1.0009835\n",
       "3    3     46    3.869565   0.9159420\n",
       "4    4     16    4.062500   1.2625000\n",
       "5    5    193    3.129534   1.2904253\n",
       "⋮    ⋮    ⋮      ⋮          ⋮        \n",
       "6036 6036 883    3.305776   1.0492523\n",
       "6037 6037 197    3.725888   0.7816223\n",
       "6038 6038  15    4.200000   0.6000000\n",
       "6039 6039 118    3.872881   0.5221643\n",
       "6040 6040 336    3.589286   1.3830490"
      ]
     },
     "metadata": {},
     "output_type": "display_data"
    }
   ],
   "source": [
    "ml.user.stats = ml1m.train.ratings %>%\n",
    "    group_by(user) %>%\n",
    "    summarize(nitems = n(), meanRating=mean(rating), ratingVar=var(rating))\n",
    "ml.user.stats"
   ]
  },
  {
   "cell_type": "code",
   "execution_count": 15,
   "metadata": {},
   "outputs": [
    {
     "data": {
      "text/html": [
       "<table>\n",
       "<thead><tr><th scope=col>user</th><th scope=col>nitems</th><th scope=col>medCount</th></tr></thead>\n",
       "<tbody>\n",
       "\t<tr><td>39   </td><td>38   </td><td>  1.0</td></tr>\n",
       "\t<tr><td>51   </td><td>69   </td><td> 92.0</td></tr>\n",
       "\t<tr><td>63   </td><td>39   </td><td> 66.0</td></tr>\n",
       "\t<tr><td>77   </td><td>45   </td><td>432.0</td></tr>\n",
       "\t<tr><td>86   </td><td>48   </td><td> 97.5</td></tr>\n",
       "\t<tr><td>⋮</td><td>⋮</td><td>⋮</td></tr>\n",
       "\t<tr><td>359322</td><td>49    </td><td> 61.0 </td></tr>\n",
       "\t<tr><td>359324</td><td>44    </td><td>  5.5 </td></tr>\n",
       "\t<tr><td>359332</td><td>44    </td><td>229.0 </td></tr>\n",
       "\t<tr><td>359344</td><td>43    </td><td> 67.0 </td></tr>\n",
       "\t<tr><td>359347</td><td>45    </td><td> 95.0 </td></tr>\n",
       "</tbody>\n",
       "</table>\n"
      ],
      "text/latex": [
       "\\begin{tabular}{r|lll}\n",
       " user & nitems & medCount\\\\\n",
       "\\hline\n",
       "\t 39    & 38    &   1.0\\\\\n",
       "\t 51    & 69    &  92.0\\\\\n",
       "\t 63    & 39    &  66.0\\\\\n",
       "\t 77    & 45    & 432.0\\\\\n",
       "\t 86    & 48    &  97.5\\\\\n",
       "\t ⋮ & ⋮ & ⋮\\\\\n",
       "\t 359322 & 49     &  61.0 \\\\\n",
       "\t 359324 & 44     &   5.5 \\\\\n",
       "\t 359332 & 44     & 229.0 \\\\\n",
       "\t 359344 & 43     &  67.0 \\\\\n",
       "\t 359347 & 45     &  95.0 \\\\\n",
       "\\end{tabular}\n"
      ],
      "text/markdown": [
       "\n",
       "user | nitems | medCount | \n",
       "|---|---|---|---|---|---|---|---|---|---|---|\n",
       "| 39    | 38    |   1.0 | \n",
       "| 51    | 69    |  92.0 | \n",
       "| 63    | 39    |  66.0 | \n",
       "| 77    | 45    | 432.0 | \n",
       "| 86    | 48    |  97.5 | \n",
       "| ⋮ | ⋮ | ⋮ | \n",
       "| 359322 | 49     |  61.0  | \n",
       "| 359324 | 44     |   5.5  | \n",
       "| 359332 | 44     | 229.0  | \n",
       "| 359344 | 43     |  67.0  | \n",
       "| 359347 | 45     |  95.0  | \n",
       "\n",
       "\n"
      ],
      "text/plain": [
       "      user   nitems medCount\n",
       "1     39     38       1.0   \n",
       "2     51     69      92.0   \n",
       "3     63     39      66.0   \n",
       "4     77     45     432.0   \n",
       "5     86     48      97.5   \n",
       "⋮     ⋮      ⋮      ⋮       \n",
       "24996 359322 49      61.0   \n",
       "24997 359324 44       5.5   \n",
       "24998 359332 44     229.0   \n",
       "24999 359344 43      67.0   \n",
       "25000 359347 45      95.0   "
      ]
     },
     "metadata": {},
     "output_type": "display_data"
    }
   ],
   "source": [
    "lfm360k.user.stats = lfm360k.train.counts %>%\n",
    "    group_by(user) %>%\n",
    "    summarize(nitems=n(), medCount=median(count))\n",
    "lfm360k.user.stats"
   ]
  },
  {
   "cell_type": "code",
   "execution_count": 16,
   "metadata": {},
   "outputs": [
    {
     "data": {
      "text/html": [
       "<table>\n",
       "<thead><tr><th scope=col>user</th><th scope=col>nitems</th><th scope=col>medCount</th></tr></thead>\n",
       "<tbody>\n",
       "\t<tr><td>1   </td><td> 658</td><td>4   </td></tr>\n",
       "\t<tr><td>2   </td><td>1287</td><td>5   </td></tr>\n",
       "\t<tr><td>3   </td><td> 940</td><td>4   </td></tr>\n",
       "\t<tr><td>4   </td><td>1774</td><td>3   </td></tr>\n",
       "\t<tr><td>5   </td><td>1081</td><td>3   </td></tr>\n",
       "\t<tr><td>⋮</td><td>⋮</td><td>⋮</td></tr>\n",
       "\t<tr><td>988</td><td>145</td><td>10 </td></tr>\n",
       "\t<tr><td>989</td><td>124</td><td> 3 </td></tr>\n",
       "\t<tr><td>990</td><td>599</td><td> 7 </td></tr>\n",
       "\t<tr><td>991</td><td>507</td><td> 5 </td></tr>\n",
       "\t<tr><td>992</td><td>673</td><td> 2 </td></tr>\n",
       "</tbody>\n",
       "</table>\n"
      ],
      "text/latex": [
       "\\begin{tabular}{r|lll}\n",
       " user & nitems & medCount\\\\\n",
       "\\hline\n",
       "\t 1    &  658 & 4   \\\\\n",
       "\t 2    & 1287 & 5   \\\\\n",
       "\t 3    &  940 & 4   \\\\\n",
       "\t 4    & 1774 & 3   \\\\\n",
       "\t 5    & 1081 & 3   \\\\\n",
       "\t ⋮ & ⋮ & ⋮\\\\\n",
       "\t 988 & 145 & 10 \\\\\n",
       "\t 989 & 124 &  3 \\\\\n",
       "\t 990 & 599 &  7 \\\\\n",
       "\t 991 & 507 &  5 \\\\\n",
       "\t 992 & 673 &  2 \\\\\n",
       "\\end{tabular}\n"
      ],
      "text/markdown": [
       "\n",
       "user | nitems | medCount | \n",
       "|---|---|---|---|---|---|---|---|---|---|---|\n",
       "| 1    |  658 | 4    | \n",
       "| 2    | 1287 | 5    | \n",
       "| 3    |  940 | 4    | \n",
       "| 4    | 1774 | 3    | \n",
       "| 5    | 1081 | 3    | \n",
       "| ⋮ | ⋮ | ⋮ | \n",
       "| 988 | 145 | 10  | \n",
       "| 989 | 124 |  3  | \n",
       "| 990 | 599 |  7  | \n",
       "| 991 | 507 |  5  | \n",
       "| 992 | 673 |  2  | \n",
       "\n",
       "\n"
      ],
      "text/plain": [
       "    user nitems medCount\n",
       "1   1     658   4       \n",
       "2   2    1287   5       \n",
       "3   3     940   4       \n",
       "4   4    1774   3       \n",
       "5   5    1081   3       \n",
       "⋮   ⋮    ⋮      ⋮       \n",
       "977 988  145    10      \n",
       "978 989  124     3      \n",
       "979 990  599     7      \n",
       "980 991  507     5      \n",
       "981 992  673     2      "
      ]
     },
     "metadata": {},
     "output_type": "display_data"
    }
   ],
   "source": [
    "lfm1k.user.stats = lfm1k.train.counts %>%\n",
    "    group_by(user) %>%\n",
    "    summarize(nitems=n(), medCount=median(count))\n",
    "lfm1k.user.stats"
   ]
  },
  {
   "cell_type": "code",
   "execution_count": 17,
   "metadata": {},
   "outputs": [
    {
     "data": {
      "text/html": [
       "<table>\n",
       "<thead><tr><th scope=col>DataSet</th><th scope=col>user</th><th scope=col>nitems</th></tr></thead>\n",
       "<tbody>\n",
       "\t<tr><td>ML1M</td><td>1   </td><td> 48 </td></tr>\n",
       "\t<tr><td>ML1M</td><td>2   </td><td>124 </td></tr>\n",
       "\t<tr><td>ML1M</td><td>3   </td><td> 46 </td></tr>\n",
       "\t<tr><td>ML1M</td><td>4   </td><td> 16 </td></tr>\n",
       "\t<tr><td>ML1M</td><td>5   </td><td>193 </td></tr>\n",
       "\t<tr><td>⋮</td><td>⋮</td><td>⋮</td></tr>\n",
       "\t<tr><td>LFM1K</td><td>988  </td><td>145  </td></tr>\n",
       "\t<tr><td>LFM1K</td><td>989  </td><td>124  </td></tr>\n",
       "\t<tr><td>LFM1K</td><td>990  </td><td>599  </td></tr>\n",
       "\t<tr><td>LFM1K</td><td>991  </td><td>507  </td></tr>\n",
       "\t<tr><td>LFM1K</td><td>992  </td><td>673  </td></tr>\n",
       "</tbody>\n",
       "</table>\n"
      ],
      "text/latex": [
       "\\begin{tabular}{r|lll}\n",
       " DataSet & user & nitems\\\\\n",
       "\\hline\n",
       "\t ML1M & 1    &  48 \\\\\n",
       "\t ML1M & 2    & 124 \\\\\n",
       "\t ML1M & 3    &  46 \\\\\n",
       "\t ML1M & 4    &  16 \\\\\n",
       "\t ML1M & 5    & 193 \\\\\n",
       "\t ⋮ & ⋮ & ⋮\\\\\n",
       "\t LFM1K & 988   & 145  \\\\\n",
       "\t LFM1K & 989   & 124  \\\\\n",
       "\t LFM1K & 990   & 599  \\\\\n",
       "\t LFM1K & 991   & 507  \\\\\n",
       "\t LFM1K & 992   & 673  \\\\\n",
       "\\end{tabular}\n"
      ],
      "text/markdown": [
       "\n",
       "DataSet | user | nitems | \n",
       "|---|---|---|---|---|---|---|---|---|---|---|\n",
       "| ML1M | 1    |  48  | \n",
       "| ML1M | 2    | 124  | \n",
       "| ML1M | 3    |  46  | \n",
       "| ML1M | 4    |  16  | \n",
       "| ML1M | 5    | 193  | \n",
       "| ⋮ | ⋮ | ⋮ | \n",
       "| LFM1K | 988   | 145   | \n",
       "| LFM1K | 989   | 124   | \n",
       "| LFM1K | 990   | 599   | \n",
       "| LFM1K | 991   | 507   | \n",
       "| LFM1K | 992   | 673   | \n",
       "\n",
       "\n"
      ],
      "text/plain": [
       "      DataSet user nitems\n",
       "1     ML1M    1     48   \n",
       "2     ML1M    2    124   \n",
       "3     ML1M    3     46   \n",
       "4     ML1M    4     16   \n",
       "5     ML1M    5    193   \n",
       "⋮     ⋮       ⋮    ⋮     \n",
       "32017 LFM1K   988  145   \n",
       "32018 LFM1K   989  124   \n",
       "32019 LFM1K   990  599   \n",
       "32020 LFM1K   991  507   \n",
       "32021 LFM1K   992  673   "
      ]
     },
     "metadata": {},
     "output_type": "display_data"
    }
   ],
   "source": [
    "user.stats =\n",
    "    bind_rows(ML1M=ml.user.stats,\n",
    "              LFM360K=lfm360k.user.stats,\n",
    "              LFM1K=lfm1k.user.stats,\n",
    "              .id=\"DataSet\") %>%\n",
    "    select(DataSet, user, nitems)\n",
    "user.stats"
   ]
  },
  {
   "cell_type": "markdown",
   "metadata": {},
   "source": [
    "Join these statistics with our user metadata table, so that we have one table of user information:"
   ]
  },
  {
   "cell_type": "code",
   "execution_count": 18,
   "metadata": {},
   "outputs": [
    {
     "name": "stderr",
     "output_type": "stream",
     "text": [
      "Joining, by = c(\"DataSet\", \"user\")\n"
     ]
    },
    {
     "data": {
      "text/html": [
       "<table>\n",
       "<thead><tr><th scope=col>DataSet</th><th scope=col>user</th><th scope=col>gender</th><th scope=col>age</th><th scope=col>occupation</th><th scope=col>zip</th><th scope=col>nitems</th></tr></thead>\n",
       "<tbody>\n",
       "\t<tr><td>ML1M </td><td>1    </td><td>F    </td><td>1-17 </td><td>10   </td><td>48067</td><td> 48  </td></tr>\n",
       "\t<tr><td>ML1M </td><td>2    </td><td>M    </td><td>56+  </td><td>16   </td><td>70072</td><td>124  </td></tr>\n",
       "\t<tr><td>ML1M </td><td>3    </td><td>M    </td><td>25-34</td><td>15   </td><td>55117</td><td> 46  </td></tr>\n",
       "\t<tr><td>ML1M </td><td>4    </td><td>M    </td><td>45-49</td><td>7    </td><td>02460</td><td> 16  </td></tr>\n",
       "\t<tr><td>ML1M </td><td>5    </td><td>M    </td><td>25-34</td><td>20   </td><td>55455</td><td>193  </td></tr>\n",
       "\t<tr><td>⋮</td><td>⋮</td><td>⋮</td><td>⋮</td><td>⋮</td><td>⋮</td><td>⋮</td></tr>\n",
       "\t<tr><td>LFM1K</td><td>988  </td><td>F    </td><td>NA   </td><td>NA   </td><td>NA   </td><td>145  </td></tr>\n",
       "\t<tr><td>LFM1K</td><td>989  </td><td>M    </td><td>NA   </td><td>NA   </td><td>NA   </td><td>124  </td></tr>\n",
       "\t<tr><td>LFM1K</td><td>990  </td><td>M    </td><td>NA   </td><td>NA   </td><td>NA   </td><td>599  </td></tr>\n",
       "\t<tr><td>LFM1K</td><td>991  </td><td>F    </td><td>NA   </td><td>NA   </td><td>NA   </td><td>507  </td></tr>\n",
       "\t<tr><td>LFM1K</td><td>992  </td><td>M    </td><td>NA   </td><td>NA   </td><td>NA   </td><td>673  </td></tr>\n",
       "</tbody>\n",
       "</table>\n"
      ],
      "text/latex": [
       "\\begin{tabular}{r|lllllll}\n",
       " DataSet & user & gender & age & occupation & zip & nitems\\\\\n",
       "\\hline\n",
       "\t ML1M  & 1     & F     & 1-17  & 10    & 48067 &  48  \\\\\n",
       "\t ML1M  & 2     & M     & 56+   & 16    & 70072 & 124  \\\\\n",
       "\t ML1M  & 3     & M     & 25-34 & 15    & 55117 &  46  \\\\\n",
       "\t ML1M  & 4     & M     & 45-49 & 7     & 02460 &  16  \\\\\n",
       "\t ML1M  & 5     & M     & 25-34 & 20    & 55455 & 193  \\\\\n",
       "\t ⋮ & ⋮ & ⋮ & ⋮ & ⋮ & ⋮ & ⋮\\\\\n",
       "\t LFM1K & 988   & F     & NA    & NA    & NA    & 145  \\\\\n",
       "\t LFM1K & 989   & M     & NA    & NA    & NA    & 124  \\\\\n",
       "\t LFM1K & 990   & M     & NA    & NA    & NA    & 599  \\\\\n",
       "\t LFM1K & 991   & F     & NA    & NA    & NA    & 507  \\\\\n",
       "\t LFM1K & 992   & M     & NA    & NA    & NA    & 673  \\\\\n",
       "\\end{tabular}\n"
      ],
      "text/markdown": [
       "\n",
       "DataSet | user | gender | age | occupation | zip | nitems | \n",
       "|---|---|---|---|---|---|---|---|---|---|---|\n",
       "| ML1M  | 1     | F     | 1-17  | 10    | 48067 |  48   | \n",
       "| ML1M  | 2     | M     | 56+   | 16    | 70072 | 124   | \n",
       "| ML1M  | 3     | M     | 25-34 | 15    | 55117 |  46   | \n",
       "| ML1M  | 4     | M     | 45-49 | 7     | 02460 |  16   | \n",
       "| ML1M  | 5     | M     | 25-34 | 20    | 55455 | 193   | \n",
       "| ⋮ | ⋮ | ⋮ | ⋮ | ⋮ | ⋮ | ⋮ | \n",
       "| LFM1K | 988   | F     | NA    | NA    | NA    | 145   | \n",
       "| LFM1K | 989   | M     | NA    | NA    | NA    | 124   | \n",
       "| LFM1K | 990   | M     | NA    | NA    | NA    | 599   | \n",
       "| LFM1K | 991   | F     | NA    | NA    | NA    | 507   | \n",
       "| LFM1K | 992   | M     | NA    | NA    | NA    | 673   | \n",
       "\n",
       "\n"
      ],
      "text/plain": [
       "      DataSet user gender age   occupation zip   nitems\n",
       "1     ML1M    1    F      1-17  10         48067  48   \n",
       "2     ML1M    2    M      56+   16         70072 124   \n",
       "3     ML1M    3    M      25-34 15         55117  46   \n",
       "4     ML1M    4    M      45-49 7          02460  16   \n",
       "5     ML1M    5    M      25-34 20         55455 193   \n",
       "⋮     ⋮       ⋮    ⋮      ⋮     ⋮          ⋮     ⋮     \n",
       "32017 LFM1K   988  F      NA    NA         NA    145   \n",
       "32018 LFM1K   989  M      NA    NA         NA    124   \n",
       "32019 LFM1K   990  M      NA    NA         NA    599   \n",
       "32020 LFM1K   991  F      NA    NA         NA    507   \n",
       "32021 LFM1K   992  M      NA    NA         NA    673   "
      ]
     },
     "metadata": {},
     "output_type": "display_data"
    }
   ],
   "source": [
    "users = users.meta %>% inner_join(user.stats)\n",
    "users"
   ]
  },
  {
   "cell_type": "markdown",
   "metadata": {},
   "source": [
    "Now that we have user information, we can read the per-user recommender evaluation results."
   ]
  },
  {
   "cell_type": "code",
   "execution_count": 19,
   "metadata": {},
   "outputs": [
    {
     "name": "stderr",
     "output_type": "stream",
     "text": [
      "Parsed with column specification:\n",
      "cols(\n",
      "  .default = col_double(),\n",
      "  DataSet = col_character(),\n",
      "  Partition = col_integer(),\n",
      "  Algorithm = col_character(),\n",
      "  User = col_integer(),\n",
      "  L100.Rank = col_integer(),\n",
      "  Rank = col_integer(),\n",
      "  `1R.nDCG` = col_character(),\n",
      "  `1R.Rank` = col_character(),\n",
      "  `1R.RecipRank` = col_character(),\n",
      "  `1R.AvgPrec` = col_character()\n",
      ")\n",
      "See spec(...) for full column specifications.\n"
     ]
    },
    {
     "data": {
      "text/html": [
       "<table>\n",
       "<thead><tr><th scope=col>DataSet</th><th scope=col>Partition</th><th scope=col>Algorithm</th><th scope=col>user</th><th scope=col>TestTime</th><th scope=col>RMSE</th><th scope=col>Rank.nDCG</th><th scope=col>L100.nDCG</th><th scope=col>L100.Rank</th><th scope=col>L100.RecipRank</th><th scope=col>L100.AvgPrec</th><th scope=col>TopN.ActualLength</th><th scope=col>nDCG</th><th scope=col>Rank</th><th scope=col>RecipRank</th><th scope=col>AvgPrec</th><th scope=col>1R.nDCG</th><th scope=col>1R.Rank</th><th scope=col>1R.RecipRank</th><th scope=col>1R.AvgPrec</th></tr></thead>\n",
       "<tbody>\n",
       "\t<tr><td>ML1M      </td><td>1         </td><td>UU-B      </td><td>4031      </td><td>4.468     </td><td>NA        </td><td>1.0000000 </td><td>0.9514849 </td><td>1         </td><td>1.0000000 </td><td>0.8400000 </td><td>3641      </td><td>0.9514849 </td><td>1         </td><td>1.0000000 </td><td>0.84000000</td><td>NA        </td><td>NA        </td><td>NA        </td><td>NA        </td></tr>\n",
       "\t<tr><td>ML1M      </td><td>1         </td><td>UU-B      </td><td>4032      </td><td>4.369     </td><td>NA        </td><td>1.0000000 </td><td>0.3076758 </td><td>3         </td><td>0.3333333 </td><td>0.1566567 </td><td>3551      </td><td>0.3588925 </td><td>3         </td><td>0.3333333 </td><td>0.09975443</td><td>NA        </td><td>NA        </td><td>NA        </td><td>NA        </td></tr>\n",
       "\t<tr><td>ML1M      </td><td>1         </td><td>UU-B      </td><td>4033      </td><td>5.327     </td><td>NA        </td><td>0.9377782 </td><td>0.1819110 </td><td>5         </td><td>0.2000000 </td><td>0.0835704 </td><td>3047      </td><td>0.2648284 </td><td>5         </td><td>0.2000000 </td><td>0.05979684</td><td>NA        </td><td>NA        </td><td>NA        </td><td>NA        </td></tr>\n",
       "\t<tr><td>ML1M      </td><td>1         </td><td>UU-B      </td><td>4034      </td><td>4.325     </td><td>NA        </td><td>0.9960107 </td><td>0.3159364 </td><td>4         </td><td>0.2500000 </td><td>0.1385401 </td><td>3599      </td><td>0.3562374 </td><td>4         </td><td>0.2500000 </td><td>0.11792425</td><td>NA        </td><td>NA        </td><td>NA        </td><td>NA        </td></tr>\n",
       "\t<tr><td>ML1M      </td><td>1         </td><td>UU-B      </td><td>4039      </td><td>4.227     </td><td>NA        </td><td>0.9622759 </td><td>0.3506601 </td><td>4         </td><td>0.2500000 </td><td>0.1783964 </td><td>3653      </td><td>0.3668631 </td><td>4         </td><td>0.2500000 </td><td>0.14428941</td><td>NA        </td><td>NA        </td><td>NA        </td><td>NA        </td></tr>\n",
       "\t<tr><td>⋮</td><td>⋮</td><td>⋮</td><td>⋮</td><td>⋮</td><td>⋮</td><td>⋮</td><td>⋮</td><td>⋮</td><td>⋮</td><td>⋮</td><td>⋮</td><td>⋮</td><td>⋮</td><td>⋮</td><td>⋮</td><td>⋮</td><td>⋮</td><td>⋮</td><td>⋮</td></tr>\n",
       "\t<tr><td>ML1M      </td><td>2         </td><td>UU-B      </td><td>4718      </td><td>3.661     </td><td>NA        </td><td>0.9587917 </td><td>0.53754510</td><td> 1        </td><td>1.00000000</td><td>0.50923873</td><td>3572      </td><td>0.5737869 </td><td> 1        </td><td>1.00000000</td><td>0.41132799</td><td>NA        </td><td>NA        </td><td>NA        </td><td>NA        </td></tr>\n",
       "\t<tr><td>ML1M      </td><td>2         </td><td>UU-B      </td><td>5785      </td><td>3.673     </td><td>NA        </td><td>0.9750893 </td><td>0.60381706</td><td> 1        </td><td>1.00000000</td><td>0.69230769</td><td>3579      </td><td>0.6621133 </td><td> 1        </td><td>1.00000000</td><td>0.42173079</td><td>NA        </td><td>NA        </td><td>NA        </td><td>NA        </td></tr>\n",
       "\t<tr><td>ML1M      </td><td>2         </td><td>UU-B      </td><td>4724      </td><td>3.199     </td><td>NA        </td><td>0.9596196 </td><td>0.21088044</td><td> 6        </td><td>0.16666667</td><td>0.10123457</td><td>3665      </td><td>0.2829845 </td><td> 6        </td><td>0.16666667</td><td>0.07509063</td><td>NA        </td><td>NA        </td><td>NA        </td><td>NA        </td></tr>\n",
       "\t<tr><td>ML1M      </td><td>2         </td><td>UU-B      </td><td>5875      </td><td>3.642     </td><td>NA        </td><td>0.9480569 </td><td>0.12162662</td><td>17        </td><td>0.05882353</td><td>0.06389452</td><td>3572      </td><td>0.2138171 </td><td>17        </td><td>0.05882353</td><td>0.03195783</td><td>NA        </td><td>NA        </td><td>NA        </td><td>NA        </td></tr>\n",
       "\t<tr><td>ML1M      </td><td>2         </td><td>UU-B      </td><td>5795      </td><td>4.491     </td><td>NA        </td><td>0.8660945 </td><td>0.04836126</td><td>11        </td><td>0.09090909</td><td>0.09090909</td><td>2433      </td><td>0.1638770 </td><td>11        </td><td>0.09090909</td><td>0.02202933</td><td>NA        </td><td>NA        </td><td>NA        </td><td>NA        </td></tr>\n",
       "</tbody>\n",
       "</table>\n"
      ],
      "text/latex": [
       "\\begin{tabular}{r|llllllllllllllllllll}\n",
       " DataSet & Partition & Algorithm & user & TestTime & RMSE & Rank.nDCG & L100.nDCG & L100.Rank & L100.RecipRank & L100.AvgPrec & TopN.ActualLength & nDCG & Rank & RecipRank & AvgPrec & 1R.nDCG & 1R.Rank & 1R.RecipRank & 1R.AvgPrec\\\\\n",
       "\\hline\n",
       "\t ML1M       & 1          & UU-B       & 4031       & 4.468      & NA         & 1.0000000  & 0.9514849  & 1          & 1.0000000  & 0.8400000  & 3641       & 0.9514849  & 1          & 1.0000000  & 0.84000000 & NA         & NA         & NA         & NA        \\\\\n",
       "\t ML1M       & 1          & UU-B       & 4032       & 4.369      & NA         & 1.0000000  & 0.3076758  & 3          & 0.3333333  & 0.1566567  & 3551       & 0.3588925  & 3          & 0.3333333  & 0.09975443 & NA         & NA         & NA         & NA        \\\\\n",
       "\t ML1M       & 1          & UU-B       & 4033       & 5.327      & NA         & 0.9377782  & 0.1819110  & 5          & 0.2000000  & 0.0835704  & 3047       & 0.2648284  & 5          & 0.2000000  & 0.05979684 & NA         & NA         & NA         & NA        \\\\\n",
       "\t ML1M       & 1          & UU-B       & 4034       & 4.325      & NA         & 0.9960107  & 0.3159364  & 4          & 0.2500000  & 0.1385401  & 3599       & 0.3562374  & 4          & 0.2500000  & 0.11792425 & NA         & NA         & NA         & NA        \\\\\n",
       "\t ML1M       & 1          & UU-B       & 4039       & 4.227      & NA         & 0.9622759  & 0.3506601  & 4          & 0.2500000  & 0.1783964  & 3653       & 0.3668631  & 4          & 0.2500000  & 0.14428941 & NA         & NA         & NA         & NA        \\\\\n",
       "\t ⋮ & ⋮ & ⋮ & ⋮ & ⋮ & ⋮ & ⋮ & ⋮ & ⋮ & ⋮ & ⋮ & ⋮ & ⋮ & ⋮ & ⋮ & ⋮ & ⋮ & ⋮ & ⋮ & ⋮\\\\\n",
       "\t ML1M       & 2          & UU-B       & 4718       & 3.661      & NA         & 0.9587917  & 0.53754510 &  1         & 1.00000000 & 0.50923873 & 3572       & 0.5737869  &  1         & 1.00000000 & 0.41132799 & NA         & NA         & NA         & NA        \\\\\n",
       "\t ML1M       & 2          & UU-B       & 5785       & 3.673      & NA         & 0.9750893  & 0.60381706 &  1         & 1.00000000 & 0.69230769 & 3579       & 0.6621133  &  1         & 1.00000000 & 0.42173079 & NA         & NA         & NA         & NA        \\\\\n",
       "\t ML1M       & 2          & UU-B       & 4724       & 3.199      & NA         & 0.9596196  & 0.21088044 &  6         & 0.16666667 & 0.10123457 & 3665       & 0.2829845  &  6         & 0.16666667 & 0.07509063 & NA         & NA         & NA         & NA        \\\\\n",
       "\t ML1M       & 2          & UU-B       & 5875       & 3.642      & NA         & 0.9480569  & 0.12162662 & 17         & 0.05882353 & 0.06389452 & 3572       & 0.2138171  & 17         & 0.05882353 & 0.03195783 & NA         & NA         & NA         & NA        \\\\\n",
       "\t ML1M       & 2          & UU-B       & 5795       & 4.491      & NA         & 0.8660945  & 0.04836126 & 11         & 0.09090909 & 0.09090909 & 2433       & 0.1638770  & 11         & 0.09090909 & 0.02202933 & NA         & NA         & NA         & NA        \\\\\n",
       "\\end{tabular}\n"
      ],
      "text/markdown": [
       "\n",
       "DataSet | Partition | Algorithm | user | TestTime | RMSE | Rank.nDCG | L100.nDCG | L100.Rank | L100.RecipRank | L100.AvgPrec | TopN.ActualLength | nDCG | Rank | RecipRank | AvgPrec | 1R.nDCG | 1R.Rank | 1R.RecipRank | 1R.AvgPrec | \n",
       "|---|---|---|---|---|---|---|---|---|---|---|\n",
       "| ML1M       | 1          | UU-B       | 4031       | 4.468      | NA         | 1.0000000  | 0.9514849  | 1          | 1.0000000  | 0.8400000  | 3641       | 0.9514849  | 1          | 1.0000000  | 0.84000000 | NA         | NA         | NA         | NA         | \n",
       "| ML1M       | 1          | UU-B       | 4032       | 4.369      | NA         | 1.0000000  | 0.3076758  | 3          | 0.3333333  | 0.1566567  | 3551       | 0.3588925  | 3          | 0.3333333  | 0.09975443 | NA         | NA         | NA         | NA         | \n",
       "| ML1M       | 1          | UU-B       | 4033       | 5.327      | NA         | 0.9377782  | 0.1819110  | 5          | 0.2000000  | 0.0835704  | 3047       | 0.2648284  | 5          | 0.2000000  | 0.05979684 | NA         | NA         | NA         | NA         | \n",
       "| ML1M       | 1          | UU-B       | 4034       | 4.325      | NA         | 0.9960107  | 0.3159364  | 4          | 0.2500000  | 0.1385401  | 3599       | 0.3562374  | 4          | 0.2500000  | 0.11792425 | NA         | NA         | NA         | NA         | \n",
       "| ML1M       | 1          | UU-B       | 4039       | 4.227      | NA         | 0.9622759  | 0.3506601  | 4          | 0.2500000  | 0.1783964  | 3653       | 0.3668631  | 4          | 0.2500000  | 0.14428941 | NA         | NA         | NA         | NA         | \n",
       "| ⋮ | ⋮ | ⋮ | ⋮ | ⋮ | ⋮ | ⋮ | ⋮ | ⋮ | ⋮ | ⋮ | ⋮ | ⋮ | ⋮ | ⋮ | ⋮ | ⋮ | ⋮ | ⋮ | ⋮ | \n",
       "| ML1M       | 2          | UU-B       | 4718       | 3.661      | NA         | 0.9587917  | 0.53754510 |  1         | 1.00000000 | 0.50923873 | 3572       | 0.5737869  |  1         | 1.00000000 | 0.41132799 | NA         | NA         | NA         | NA         | \n",
       "| ML1M       | 2          | UU-B       | 5785       | 3.673      | NA         | 0.9750893  | 0.60381706 |  1         | 1.00000000 | 0.69230769 | 3579       | 0.6621133  |  1         | 1.00000000 | 0.42173079 | NA         | NA         | NA         | NA         | \n",
       "| ML1M       | 2          | UU-B       | 4724       | 3.199      | NA         | 0.9596196  | 0.21088044 |  6         | 0.16666667 | 0.10123457 | 3665       | 0.2829845  |  6         | 0.16666667 | 0.07509063 | NA         | NA         | NA         | NA         | \n",
       "| ML1M       | 2          | UU-B       | 5875       | 3.642      | NA         | 0.9480569  | 0.12162662 | 17         | 0.05882353 | 0.06389452 | 3572       | 0.2138171  | 17         | 0.05882353 | 0.03195783 | NA         | NA         | NA         | NA         | \n",
       "| ML1M       | 2          | UU-B       | 5795       | 4.491      | NA         | 0.8660945  | 0.04836126 | 11         | 0.09090909 | 0.09090909 | 2433       | 0.1638770  | 11         | 0.09090909 | 0.02202933 | NA         | NA         | NA         | NA         | \n",
       "\n",
       "\n"
      ],
      "text/plain": [
       "      DataSet Partition Algorithm user TestTime RMSE Rank.nDCG L100.nDCG \n",
       "1     ML1M    1         UU-B      4031 4.468    NA   1.0000000 0.9514849 \n",
       "2     ML1M    1         UU-B      4032 4.369    NA   1.0000000 0.3076758 \n",
       "3     ML1M    1         UU-B      4033 5.327    NA   0.9377782 0.1819110 \n",
       "4     ML1M    1         UU-B      4034 4.325    NA   0.9960107 0.3159364 \n",
       "5     ML1M    1         UU-B      4039 4.227    NA   0.9622759 0.3506601 \n",
       "⋮     ⋮       ⋮         ⋮         ⋮    ⋮        ⋮    ⋮         ⋮         \n",
       "48316 ML1M    2         UU-B      4718 3.661    NA   0.9587917 0.53754510\n",
       "48317 ML1M    2         UU-B      5785 3.673    NA   0.9750893 0.60381706\n",
       "48318 ML1M    2         UU-B      4724 3.199    NA   0.9596196 0.21088044\n",
       "48319 ML1M    2         UU-B      5875 3.642    NA   0.9480569 0.12162662\n",
       "48320 ML1M    2         UU-B      5795 4.491    NA   0.8660945 0.04836126\n",
       "      L100.Rank L100.RecipRank L100.AvgPrec TopN.ActualLength nDCG      Rank\n",
       "1     1         1.0000000      0.8400000    3641              0.9514849 1   \n",
       "2     3         0.3333333      0.1566567    3551              0.3588925 3   \n",
       "3     5         0.2000000      0.0835704    3047              0.2648284 5   \n",
       "4     4         0.2500000      0.1385401    3599              0.3562374 4   \n",
       "5     4         0.2500000      0.1783964    3653              0.3668631 4   \n",
       "⋮     ⋮         ⋮              ⋮            ⋮                 ⋮         ⋮   \n",
       "48316  1        1.00000000     0.50923873   3572              0.5737869  1  \n",
       "48317  1        1.00000000     0.69230769   3579              0.6621133  1  \n",
       "48318  6        0.16666667     0.10123457   3665              0.2829845  6  \n",
       "48319 17        0.05882353     0.06389452   3572              0.2138171 17  \n",
       "48320 11        0.09090909     0.09090909   2433              0.1638770 11  \n",
       "      RecipRank  AvgPrec    1R.nDCG 1R.Rank 1R.RecipRank 1R.AvgPrec\n",
       "1     1.0000000  0.84000000 NA      NA      NA           NA        \n",
       "2     0.3333333  0.09975443 NA      NA      NA           NA        \n",
       "3     0.2000000  0.05979684 NA      NA      NA           NA        \n",
       "4     0.2500000  0.11792425 NA      NA      NA           NA        \n",
       "5     0.2500000  0.14428941 NA      NA      NA           NA        \n",
       "⋮     ⋮          ⋮          ⋮       ⋮       ⋮            ⋮         \n",
       "48316 1.00000000 0.41132799 NA      NA      NA           NA        \n",
       "48317 1.00000000 0.42173079 NA      NA      NA           NA        \n",
       "48318 0.16666667 0.07509063 NA      NA      NA           NA        \n",
       "48319 0.05882353 0.03195783 NA      NA      NA           NA        \n",
       "48320 0.09090909 0.02202933 NA      NA      NA           NA        "
      ]
     },
     "metadata": {},
     "output_type": "display_data"
    }
   ],
   "source": [
    "ml.user.results = read_csv(\"build/movielens-user-results.csv\", guess_max=10000) %>%\n",
    "    rename(user=User) %>%\n",
    "    filter(DataSet == \"ML-1M\") %>%\n",
    "    mutate(DataSet = \"ML1M\")\n",
    "ml.user.results"
   ]
  },
  {
   "cell_type": "code",
   "execution_count": 20,
   "metadata": {},
   "outputs": [
    {
     "name": "stderr",
     "output_type": "stream",
     "text": [
      "Parsed with column specification:\n",
      "cols(\n",
      "  .default = col_double(),\n",
      "  DataSet = col_character(),\n",
      "  Partition = col_integer(),\n",
      "  Algorithm = col_character(),\n",
      "  User = col_integer(),\n",
      "  L100.Rank = col_integer(),\n",
      "  L10K.Rank = col_integer(),\n",
      "  Rank = col_integer()\n",
      ")\n",
      "See spec(...) for full column specifications.\n"
     ]
    },
    {
     "data": {
      "text/html": [
       "<table>\n",
       "<thead><tr><th scope=col>DataSet</th><th scope=col>Partition</th><th scope=col>Algorithm</th><th scope=col>user</th><th scope=col>TestTime</th><th scope=col>Rank.nDCG</th><th scope=col>L100.Rank</th><th scope=col>L100.RecipRank</th><th scope=col>L100.nDCG</th><th scope=col>L100.AvgPrec</th><th scope=col>L10K.TopN.ActualLength</th><th scope=col>L10K.Rank</th><th scope=col>L10K.RecipRank</th><th scope=col>L10K.nDCG</th><th scope=col>L10K.AvgPrec</th><th scope=col>TopN.ActualLength</th><th scope=col>Rank</th><th scope=col>RecipRank</th><th scope=col>nDCG</th><th scope=col>AvgPrec</th></tr></thead>\n",
       "<tbody>\n",
       "\t<tr><td>LFM360K    </td><td>3          </td><td>Pop-B      </td><td>240341     </td><td>0.295      </td><td>0.9465068  </td><td>24         </td><td>0.04166667 </td><td>0.05312397 </td><td>0.04166667 </td><td>10000      </td><td> 24        </td><td>0.041666667</td><td>0.1574600  </td><td>0.011191865</td><td>160072     </td><td> 24        </td><td>0.041666667</td><td>0.1574600  </td><td>0.011191865</td></tr>\n",
       "\t<tr><td>LFM360K    </td><td>5          </td><td>Pop-B      </td><td>236784     </td><td>0.253      </td><td>0.9713948  </td><td> 1         </td><td>1.00000000 </td><td>0.55551107 </td><td>1.00000000 </td><td>10000      </td><td>  1        </td><td>1.000000000</td><td>0.6242532  </td><td>0.203967812</td><td>160064     </td><td>  1        </td><td>1.000000000</td><td>0.6242532  </td><td>0.203967812</td></tr>\n",
       "\t<tr><td>LFM360K    </td><td>3          </td><td>Pop-B      </td><td>240385     </td><td>0.160      </td><td>0.9437744  </td><td>NA         </td><td>0.00000000 </td><td>0.00000000 </td><td>0.00000000 </td><td>10000      </td><td>147        </td><td>0.006802721</td><td>0.1341641  </td><td>0.002588464</td><td>160081     </td><td>147        </td><td>0.006802721</td><td>0.1341641  </td><td>0.002588464</td></tr>\n",
       "\t<tr><td>LFM360K    </td><td>5          </td><td>Pop-B      </td><td>236807     </td><td>0.159      </td><td>0.7971288  </td><td>NA         </td><td>0.00000000 </td><td>0.00000000 </td><td>0.00000000 </td><td>10000      </td><td>250        </td><td>0.004000000</td><td>0.1126438  </td><td>0.003236253</td><td>160067     </td><td>250        </td><td>0.004000000</td><td>0.1168260  </td><td>0.002659754</td></tr>\n",
       "\t<tr><td>LFM360K    </td><td>5          </td><td>Pop-B      </td><td>236832     </td><td>0.362      </td><td>0.9824342  </td><td>NA         </td><td>0.00000000 </td><td>0.00000000 </td><td>0.00000000 </td><td>10000      </td><td>237        </td><td>0.004219409</td><td>0.1135632  </td><td>0.002595432</td><td>160068     </td><td>237        </td><td>0.004219409</td><td>0.1238348  </td><td>0.002150343</td></tr>\n",
       "\t<tr><td>⋮</td><td>⋮</td><td>⋮</td><td>⋮</td><td>⋮</td><td>⋮</td><td>⋮</td><td>⋮</td><td>⋮</td><td>⋮</td><td>⋮</td><td>⋮</td><td>⋮</td><td>⋮</td><td>⋮</td><td>⋮</td><td>⋮</td><td>⋮</td><td>⋮</td><td>⋮</td></tr>\n",
       "\t<tr><td>LFM360K     </td><td>1           </td><td>MF-B        </td><td>339766      </td><td>0.280       </td><td>0.8019852   </td><td>NA          </td><td>0           </td><td>0           </td><td>0           </td><td>10000       </td><td> 731        </td><td>0.0013679891</td><td>0.10262828  </td><td>0.0012494087</td><td>160075      </td><td> 731        </td><td>0.0013679891</td><td>0.10262828  </td><td>0.0012494087</td></tr>\n",
       "\t<tr><td>LFM360K     </td><td>1           </td><td>MF-B        </td><td>348467      </td><td>0.280       </td><td>0.9181683   </td><td>NA          </td><td>0           </td><td>0           </td><td>0           </td><td>10000       </td><td> 631        </td><td>0.0015847861</td><td>0.10745371  </td><td>0.0018584157</td><td>160072      </td><td> 631        </td><td>0.0015847861</td><td>0.10745371  </td><td>0.0018584157</td></tr>\n",
       "\t<tr><td>LFM360K     </td><td>1           </td><td>MF-B        </td><td>339871      </td><td>0.279       </td><td>0.8576777   </td><td>NA          </td><td>0           </td><td>0           </td><td>0           </td><td>10000       </td><td>1467        </td><td>0.0006816633</td><td>0.10510195  </td><td>0.0006760859</td><td>160078      </td><td>1467        </td><td>0.0006816633</td><td>0.10510195  </td><td>0.0006760859</td></tr>\n",
       "\t<tr><td>LFM360K     </td><td>1           </td><td>MF-B        </td><td>348600      </td><td>0.279       </td><td>0.8202323   </td><td>NA          </td><td>0           </td><td>0           </td><td>0           </td><td>10000       </td><td> 736        </td><td>0.0013586957</td><td>0.05545414  </td><td>0.0007958755</td><td>160086      </td><td> 736        </td><td>0.0013586957</td><td>0.08917866  </td><td>0.0005276569</td></tr>\n",
       "\t<tr><td>LFM360K     </td><td>1           </td><td>MF-B        </td><td>339883      </td><td>0.278       </td><td>0.7057160   </td><td>NA          </td><td>0           </td><td>0           </td><td>0           </td><td>10000       </td><td> 262        </td><td>0.0038167939</td><td>0.06540154  </td><td>0.0022810788</td><td>160081      </td><td> 262        </td><td>0.0038167939</td><td>0.10345625  </td><td>0.0019244547</td></tr>\n",
       "</tbody>\n",
       "</table>\n"
      ],
      "text/latex": [
       "\\begin{tabular}{r|llllllllllllllllllll}\n",
       " DataSet & Partition & Algorithm & user & TestTime & Rank.nDCG & L100.Rank & L100.RecipRank & L100.nDCG & L100.AvgPrec & L10K.TopN.ActualLength & L10K.Rank & L10K.RecipRank & L10K.nDCG & L10K.AvgPrec & TopN.ActualLength & Rank & RecipRank & nDCG & AvgPrec\\\\\n",
       "\\hline\n",
       "\t LFM360K     & 3           & Pop-B       & 240341      & 0.295       & 0.9465068   & 24          & 0.04166667  & 0.05312397  & 0.04166667  & 10000       &  24         & 0.041666667 & 0.1574600   & 0.011191865 & 160072      &  24         & 0.041666667 & 0.1574600   & 0.011191865\\\\\n",
       "\t LFM360K     & 5           & Pop-B       & 236784      & 0.253       & 0.9713948   &  1          & 1.00000000  & 0.55551107  & 1.00000000  & 10000       &   1         & 1.000000000 & 0.6242532   & 0.203967812 & 160064      &   1         & 1.000000000 & 0.6242532   & 0.203967812\\\\\n",
       "\t LFM360K     & 3           & Pop-B       & 240385      & 0.160       & 0.9437744   & NA          & 0.00000000  & 0.00000000  & 0.00000000  & 10000       & 147         & 0.006802721 & 0.1341641   & 0.002588464 & 160081      & 147         & 0.006802721 & 0.1341641   & 0.002588464\\\\\n",
       "\t LFM360K     & 5           & Pop-B       & 236807      & 0.159       & 0.7971288   & NA          & 0.00000000  & 0.00000000  & 0.00000000  & 10000       & 250         & 0.004000000 & 0.1126438   & 0.003236253 & 160067      & 250         & 0.004000000 & 0.1168260   & 0.002659754\\\\\n",
       "\t LFM360K     & 5           & Pop-B       & 236832      & 0.362       & 0.9824342   & NA          & 0.00000000  & 0.00000000  & 0.00000000  & 10000       & 237         & 0.004219409 & 0.1135632   & 0.002595432 & 160068      & 237         & 0.004219409 & 0.1238348   & 0.002150343\\\\\n",
       "\t ⋮ & ⋮ & ⋮ & ⋮ & ⋮ & ⋮ & ⋮ & ⋮ & ⋮ & ⋮ & ⋮ & ⋮ & ⋮ & ⋮ & ⋮ & ⋮ & ⋮ & ⋮ & ⋮ & ⋮\\\\\n",
       "\t LFM360K      & 1            & MF-B         & 339766       & 0.280        & 0.8019852    & NA           & 0            & 0            & 0            & 10000        &  731         & 0.0013679891 & 0.10262828   & 0.0012494087 & 160075       &  731         & 0.0013679891 & 0.10262828   & 0.0012494087\\\\\n",
       "\t LFM360K      & 1            & MF-B         & 348467       & 0.280        & 0.9181683    & NA           & 0            & 0            & 0            & 10000        &  631         & 0.0015847861 & 0.10745371   & 0.0018584157 & 160072       &  631         & 0.0015847861 & 0.10745371   & 0.0018584157\\\\\n",
       "\t LFM360K      & 1            & MF-B         & 339871       & 0.279        & 0.8576777    & NA           & 0            & 0            & 0            & 10000        & 1467         & 0.0006816633 & 0.10510195   & 0.0006760859 & 160078       & 1467         & 0.0006816633 & 0.10510195   & 0.0006760859\\\\\n",
       "\t LFM360K      & 1            & MF-B         & 348600       & 0.279        & 0.8202323    & NA           & 0            & 0            & 0            & 10000        &  736         & 0.0013586957 & 0.05545414   & 0.0007958755 & 160086       &  736         & 0.0013586957 & 0.08917866   & 0.0005276569\\\\\n",
       "\t LFM360K      & 1            & MF-B         & 339883       & 0.278        & 0.7057160    & NA           & 0            & 0            & 0            & 10000        &  262         & 0.0038167939 & 0.06540154   & 0.0022810788 & 160081       &  262         & 0.0038167939 & 0.10345625   & 0.0019244547\\\\\n",
       "\\end{tabular}\n"
      ],
      "text/markdown": [
       "\n",
       "DataSet | Partition | Algorithm | user | TestTime | Rank.nDCG | L100.Rank | L100.RecipRank | L100.nDCG | L100.AvgPrec | L10K.TopN.ActualLength | L10K.Rank | L10K.RecipRank | L10K.nDCG | L10K.AvgPrec | TopN.ActualLength | Rank | RecipRank | nDCG | AvgPrec | \n",
       "|---|---|---|---|---|---|---|---|---|---|---|\n",
       "| LFM360K     | 3           | Pop-B       | 240341      | 0.295       | 0.9465068   | 24          | 0.04166667  | 0.05312397  | 0.04166667  | 10000       |  24         | 0.041666667 | 0.1574600   | 0.011191865 | 160072      |  24         | 0.041666667 | 0.1574600   | 0.011191865 | \n",
       "| LFM360K     | 5           | Pop-B       | 236784      | 0.253       | 0.9713948   |  1          | 1.00000000  | 0.55551107  | 1.00000000  | 10000       |   1         | 1.000000000 | 0.6242532   | 0.203967812 | 160064      |   1         | 1.000000000 | 0.6242532   | 0.203967812 | \n",
       "| LFM360K     | 3           | Pop-B       | 240385      | 0.160       | 0.9437744   | NA          | 0.00000000  | 0.00000000  | 0.00000000  | 10000       | 147         | 0.006802721 | 0.1341641   | 0.002588464 | 160081      | 147         | 0.006802721 | 0.1341641   | 0.002588464 | \n",
       "| LFM360K     | 5           | Pop-B       | 236807      | 0.159       | 0.7971288   | NA          | 0.00000000  | 0.00000000  | 0.00000000  | 10000       | 250         | 0.004000000 | 0.1126438   | 0.003236253 | 160067      | 250         | 0.004000000 | 0.1168260   | 0.002659754 | \n",
       "| LFM360K     | 5           | Pop-B       | 236832      | 0.362       | 0.9824342   | NA          | 0.00000000  | 0.00000000  | 0.00000000  | 10000       | 237         | 0.004219409 | 0.1135632   | 0.002595432 | 160068      | 237         | 0.004219409 | 0.1238348   | 0.002150343 | \n",
       "| ⋮ | ⋮ | ⋮ | ⋮ | ⋮ | ⋮ | ⋮ | ⋮ | ⋮ | ⋮ | ⋮ | ⋮ | ⋮ | ⋮ | ⋮ | ⋮ | ⋮ | ⋮ | ⋮ | ⋮ | \n",
       "| LFM360K      | 1            | MF-B         | 339766       | 0.280        | 0.8019852    | NA           | 0            | 0            | 0            | 10000        |  731         | 0.0013679891 | 0.10262828   | 0.0012494087 | 160075       |  731         | 0.0013679891 | 0.10262828   | 0.0012494087 | \n",
       "| LFM360K      | 1            | MF-B         | 348467       | 0.280        | 0.9181683    | NA           | 0            | 0            | 0            | 10000        |  631         | 0.0015847861 | 0.10745371   | 0.0018584157 | 160072       |  631         | 0.0015847861 | 0.10745371   | 0.0018584157 | \n",
       "| LFM360K      | 1            | MF-B         | 339871       | 0.279        | 0.8576777    | NA           | 0            | 0            | 0            | 10000        | 1467         | 0.0006816633 | 0.10510195   | 0.0006760859 | 160078       | 1467         | 0.0006816633 | 0.10510195   | 0.0006760859 | \n",
       "| LFM360K      | 1            | MF-B         | 348600       | 0.279        | 0.8202323    | NA           | 0            | 0            | 0            | 10000        |  736         | 0.0013586957 | 0.05545414   | 0.0007958755 | 160086       |  736         | 0.0013586957 | 0.08917866   | 0.0005276569 | \n",
       "| LFM360K      | 1            | MF-B         | 339883       | 0.278        | 0.7057160    | NA           | 0            | 0            | 0            | 10000        |  262         | 0.0038167939 | 0.06540154   | 0.0022810788 | 160081       |  262         | 0.0038167939 | 0.10345625   | 0.0019244547 | \n",
       "\n",
       "\n"
      ],
      "text/plain": [
       "       DataSet Partition Algorithm user   TestTime Rank.nDCG L100.Rank\n",
       "1      LFM360K 3         Pop-B     240341 0.295    0.9465068 24       \n",
       "2      LFM360K 5         Pop-B     236784 0.253    0.9713948  1       \n",
       "3      LFM360K 3         Pop-B     240385 0.160    0.9437744 NA       \n",
       "4      LFM360K 5         Pop-B     236807 0.159    0.7971288 NA       \n",
       "5      LFM360K 5         Pop-B     236832 0.362    0.9824342 NA       \n",
       "⋮      ⋮       ⋮         ⋮         ⋮      ⋮        ⋮         ⋮        \n",
       "174996 LFM360K 1         MF-B      339766 0.280    0.8019852 NA       \n",
       "174997 LFM360K 1         MF-B      348467 0.280    0.9181683 NA       \n",
       "174998 LFM360K 1         MF-B      339871 0.279    0.8576777 NA       \n",
       "174999 LFM360K 1         MF-B      348600 0.279    0.8202323 NA       \n",
       "175000 LFM360K 1         MF-B      339883 0.278    0.7057160 NA       \n",
       "       L100.RecipRank L100.nDCG  L100.AvgPrec L10K.TopN.ActualLength L10K.Rank\n",
       "1      0.04166667     0.05312397 0.04166667   10000                   24      \n",
       "2      1.00000000     0.55551107 1.00000000   10000                    1      \n",
       "3      0.00000000     0.00000000 0.00000000   10000                  147      \n",
       "4      0.00000000     0.00000000 0.00000000   10000                  250      \n",
       "5      0.00000000     0.00000000 0.00000000   10000                  237      \n",
       "⋮      ⋮              ⋮          ⋮            ⋮                      ⋮        \n",
       "174996 0              0          0            10000                   731     \n",
       "174997 0              0          0            10000                   631     \n",
       "174998 0              0          0            10000                  1467     \n",
       "174999 0              0          0            10000                   736     \n",
       "175000 0              0          0            10000                   262     \n",
       "       L10K.RecipRank L10K.nDCG  L10K.AvgPrec TopN.ActualLength Rank\n",
       "1      0.041666667    0.1574600  0.011191865  160072             24 \n",
       "2      1.000000000    0.6242532  0.203967812  160064              1 \n",
       "3      0.006802721    0.1341641  0.002588464  160081            147 \n",
       "4      0.004000000    0.1126438  0.003236253  160067            250 \n",
       "5      0.004219409    0.1135632  0.002595432  160068            237 \n",
       "⋮      ⋮              ⋮          ⋮            ⋮                 ⋮   \n",
       "174996 0.0013679891   0.10262828 0.0012494087 160075             731\n",
       "174997 0.0015847861   0.10745371 0.0018584157 160072             631\n",
       "174998 0.0006816633   0.10510195 0.0006760859 160078            1467\n",
       "174999 0.0013586957   0.05545414 0.0007958755 160086             736\n",
       "175000 0.0038167939   0.06540154 0.0022810788 160081             262\n",
       "       RecipRank    nDCG       AvgPrec     \n",
       "1      0.041666667  0.1574600  0.011191865 \n",
       "2      1.000000000  0.6242532  0.203967812 \n",
       "3      0.006802721  0.1341641  0.002588464 \n",
       "4      0.004000000  0.1168260  0.002659754 \n",
       "5      0.004219409  0.1238348  0.002150343 \n",
       "⋮      ⋮            ⋮          ⋮           \n",
       "174996 0.0013679891 0.10262828 0.0012494087\n",
       "174997 0.0015847861 0.10745371 0.0018584157\n",
       "174998 0.0006816633 0.10510195 0.0006760859\n",
       "174999 0.0013586957 0.08917866 0.0005276569\n",
       "175000 0.0038167939 0.10345625 0.0019244547"
      ]
     },
     "metadata": {},
     "output_type": "display_data"
    }
   ],
   "source": [
    "lfm360k.user.results = read_csv(\"build/lastfm-user-results.csv\", guess_max=10000) %>%\n",
    "    rename(user=User) %>%\n",
    "    filter(!startsWith(Algorithm, \"UU-\")) %>%\n",
    "    mutate(DataSet = \"LFM360K\")\n",
    "lfm360k.user.results"
   ]
  },
  {
   "cell_type": "code",
   "execution_count": 21,
   "metadata": {},
   "outputs": [
    {
     "name": "stderr",
     "output_type": "stream",
     "text": [
      "Parsed with column specification:\n",
      "cols(\n",
      "  .default = col_double(),\n",
      "  DataSet = col_character(),\n",
      "  Partition = col_integer(),\n",
      "  Algorithm = col_character(),\n",
      "  User = col_integer(),\n",
      "  L100.Rank = col_integer(),\n",
      "  L10K.Rank = col_integer(),\n",
      "  Rank = col_integer()\n",
      ")\n",
      "See spec(...) for full column specifications.\n"
     ]
    },
    {
     "data": {
      "text/html": [
       "<table>\n",
       "<thead><tr><th scope=col>DataSet</th><th scope=col>Partition</th><th scope=col>Algorithm</th><th scope=col>user</th><th scope=col>TestTime</th><th scope=col>Rank.nDCG</th><th scope=col>L100.Rank</th><th scope=col>L100.RecipRank</th><th scope=col>L100.nDCG</th><th scope=col>L100.AvgPrec</th><th scope=col>L10K.TopN.ActualLength</th><th scope=col>L10K.Rank</th><th scope=col>L10K.RecipRank</th><th scope=col>L10K.nDCG</th><th scope=col>L10K.AvgPrec</th><th scope=col>TopN.ActualLength</th><th scope=col>Rank</th><th scope=col>RecipRank</th><th scope=col>nDCG</th><th scope=col>AvgPrec</th></tr></thead>\n",
       "<tbody>\n",
       "\t<tr><td>LFM1K       </td><td>5           </td><td>Pop-B       </td><td>692         </td><td>0.851       </td><td>0.9957313   </td><td> 6          </td><td>0.16666667  </td><td>0.3422255   </td><td>0.16666667  </td><td>10000       </td><td>   6        </td><td>0.166666667 </td><td>0.35419067  </td><td>0.059239026 </td><td>175736      </td><td>   6        </td><td>0.166666667 </td><td>0.35678667  </td><td>0.0355732711</td></tr>\n",
       "\t<tr><td>LFM1K       </td><td>4           </td><td>Pop-C       </td><td>645         </td><td>0.356       </td><td>0.7463263   </td><td>NA          </td><td>0.00000000  </td><td>0.0000000   </td><td>0.00000000  </td><td>10000       </td><td>1996        </td><td>0.000501002 </td><td>0.04479647  </td><td>0.000353846 </td><td>174742      </td><td>1996        </td><td>0.000501002 </td><td>0.07883371  </td><td>0.0003002071</td></tr>\n",
       "\t<tr><td>LFM1K       </td><td>5           </td><td>Pop-C       </td><td>692         </td><td>0.360       </td><td>0.9972090   </td><td>21          </td><td>0.04761905  </td><td>0.2014062   </td><td>0.04761905  </td><td>10000       </td><td>  21        </td><td>0.047619048 </td><td>0.21145835  </td><td>0.017466984 </td><td>175736      </td><td>  21        </td><td>0.047619048 </td><td>0.21408166  </td><td>0.0105031120</td></tr>\n",
       "\t<tr><td>LFM1K       </td><td>3           </td><td>Pop-C       </td><td>585         </td><td>0.385       </td><td>0.9615427   </td><td> 1          </td><td>1.00000000  </td><td>0.1208657   </td><td>1.00000000  </td><td>10000       </td><td>   1        </td><td>1.000000000 </td><td>0.24343652  </td><td>0.204534246 </td><td>176358      </td><td>   1        </td><td>1.000000000 </td><td>0.24343652  </td><td>0.2045342465</td></tr>\n",
       "\t<tr><td>LFM1K       </td><td>4           </td><td>Pop-B       </td><td>645         </td><td>0.910       </td><td>0.7463263   </td><td>NA          </td><td>0.00000000  </td><td>0.0000000   </td><td>0.00000000  </td><td>10000       </td><td> 500        </td><td>0.002000000 </td><td>0.05150987  </td><td>0.001146092 </td><td>174742      </td><td> 500        </td><td>0.002000000 </td><td>0.09006103  </td><td>0.0007068257</td></tr>\n",
       "\t<tr><td>⋮</td><td>⋮</td><td>⋮</td><td>⋮</td><td>⋮</td><td>⋮</td><td>⋮</td><td>⋮</td><td>⋮</td><td>⋮</td><td>⋮</td><td>⋮</td><td>⋮</td><td>⋮</td><td>⋮</td><td>⋮</td><td>⋮</td><td>⋮</td><td>⋮</td><td>⋮</td></tr>\n",
       "\t<tr><td>LFM1K       </td><td>1           </td><td>II-B        </td><td>531         </td><td> 6.733      </td><td>0.8790780   </td><td>NA          </td><td>0.00000000  </td><td>0.0000000   </td><td>0.00000000  </td><td>10000       </td><td> 687        </td><td>0.0014556041</td><td>0.052508436 </td><td>0.0009179884</td><td>64999       </td><td> 687        </td><td>0.0014556041</td><td>0.09036178  </td><td>5.185396e-04</td></tr>\n",
       "\t<tr><td>LFM1K       </td><td>1           </td><td>II-B        </td><td>235         </td><td> 4.315      </td><td>0.8924490   </td><td>55          </td><td>0.01818182  </td><td>0.1061252   </td><td>0.02007992  </td><td>10000       </td><td>  55        </td><td>0.0181818182</td><td>0.150437396 </td><td>0.0117029627</td><td>65573       </td><td>  55        </td><td>0.0181818182</td><td>0.15043740  </td><td>1.170296e-02</td></tr>\n",
       "\t<tr><td>LFM1K       </td><td>1           </td><td>II-B        </td><td>793         </td><td>11.716      </td><td>0.5856374   </td><td>NA          </td><td>0.00000000  </td><td>0.0000000   </td><td>0.00000000  </td><td>10000       </td><td>7973        </td><td>0.0001254233</td><td>0.003569748 </td><td>0.0001254233</td><td>63444       </td><td>7973        </td><td>0.0001254233</td><td>0.04178119  </td><td>9.837568e-05</td></tr>\n",
       "\t<tr><td>LFM1K       </td><td>1           </td><td>II-B        </td><td>162         </td><td> 4.841      </td><td>0.7769084   </td><td>NA          </td><td>0.00000000  </td><td>0.0000000   </td><td>0.00000000  </td><td>10000       </td><td> 389        </td><td>0.0025706941</td><td>0.104954434 </td><td>0.0029494732</td><td>65726       </td><td> 389        </td><td>0.0025706941</td><td>0.10495443  </td><td>2.949473e-03</td></tr>\n",
       "\t<tr><td>LFM1K       </td><td>1           </td><td>II-B        </td><td> 59         </td><td> 6.737      </td><td>0.9969517   </td><td> 1          </td><td>1.00000000  </td><td>0.9285682   </td><td>1.00000000  </td><td>10000       </td><td>   1        </td><td>1.0000000000</td><td>0.935134347 </td><td>0.2506679807</td><td>64702       </td><td>   1        </td><td>1.0000000000</td><td>0.93706138  </td><td>2.005519e-01</td></tr>\n",
       "</tbody>\n",
       "</table>\n"
      ],
      "text/latex": [
       "\\begin{tabular}{r|llllllllllllllllllll}\n",
       " DataSet & Partition & Algorithm & user & TestTime & Rank.nDCG & L100.Rank & L100.RecipRank & L100.nDCG & L100.AvgPrec & L10K.TopN.ActualLength & L10K.Rank & L10K.RecipRank & L10K.nDCG & L10K.AvgPrec & TopN.ActualLength & Rank & RecipRank & nDCG & AvgPrec\\\\\n",
       "\\hline\n",
       "\t LFM1K        & 5            & Pop-B        & 692          & 0.851        & 0.9957313    &  6           & 0.16666667   & 0.3422255    & 0.16666667   & 10000        &    6         & 0.166666667  & 0.35419067   & 0.059239026  & 175736       &    6         & 0.166666667  & 0.35678667   & 0.0355732711\\\\\n",
       "\t LFM1K        & 4            & Pop-C        & 645          & 0.356        & 0.7463263    & NA           & 0.00000000   & 0.0000000    & 0.00000000   & 10000        & 1996         & 0.000501002  & 0.04479647   & 0.000353846  & 174742       & 1996         & 0.000501002  & 0.07883371   & 0.0003002071\\\\\n",
       "\t LFM1K        & 5            & Pop-C        & 692          & 0.360        & 0.9972090    & 21           & 0.04761905   & 0.2014062    & 0.04761905   & 10000        &   21         & 0.047619048  & 0.21145835   & 0.017466984  & 175736       &   21         & 0.047619048  & 0.21408166   & 0.0105031120\\\\\n",
       "\t LFM1K        & 3            & Pop-C        & 585          & 0.385        & 0.9615427    &  1           & 1.00000000   & 0.1208657    & 1.00000000   & 10000        &    1         & 1.000000000  & 0.24343652   & 0.204534246  & 176358       &    1         & 1.000000000  & 0.24343652   & 0.2045342465\\\\\n",
       "\t LFM1K        & 4            & Pop-B        & 645          & 0.910        & 0.7463263    & NA           & 0.00000000   & 0.0000000    & 0.00000000   & 10000        &  500         & 0.002000000  & 0.05150987   & 0.001146092  & 174742       &  500         & 0.002000000  & 0.09006103   & 0.0007068257\\\\\n",
       "\t ⋮ & ⋮ & ⋮ & ⋮ & ⋮ & ⋮ & ⋮ & ⋮ & ⋮ & ⋮ & ⋮ & ⋮ & ⋮ & ⋮ & ⋮ & ⋮ & ⋮ & ⋮ & ⋮ & ⋮\\\\\n",
       "\t LFM1K        & 1            & II-B         & 531          &  6.733       & 0.8790780    & NA           & 0.00000000   & 0.0000000    & 0.00000000   & 10000        &  687         & 0.0014556041 & 0.052508436  & 0.0009179884 & 64999        &  687         & 0.0014556041 & 0.09036178   & 5.185396e-04\\\\\n",
       "\t LFM1K        & 1            & II-B         & 235          &  4.315       & 0.8924490    & 55           & 0.01818182   & 0.1061252    & 0.02007992   & 10000        &   55         & 0.0181818182 & 0.150437396  & 0.0117029627 & 65573        &   55         & 0.0181818182 & 0.15043740   & 1.170296e-02\\\\\n",
       "\t LFM1K        & 1            & II-B         & 793          & 11.716       & 0.5856374    & NA           & 0.00000000   & 0.0000000    & 0.00000000   & 10000        & 7973         & 0.0001254233 & 0.003569748  & 0.0001254233 & 63444        & 7973         & 0.0001254233 & 0.04178119   & 9.837568e-05\\\\\n",
       "\t LFM1K        & 1            & II-B         & 162          &  4.841       & 0.7769084    & NA           & 0.00000000   & 0.0000000    & 0.00000000   & 10000        &  389         & 0.0025706941 & 0.104954434  & 0.0029494732 & 65726        &  389         & 0.0025706941 & 0.10495443   & 2.949473e-03\\\\\n",
       "\t LFM1K        & 1            & II-B         &  59          &  6.737       & 0.9969517    &  1           & 1.00000000   & 0.9285682    & 1.00000000   & 10000        &    1         & 1.0000000000 & 0.935134347  & 0.2506679807 & 64702        &    1         & 1.0000000000 & 0.93706138   & 2.005519e-01\\\\\n",
       "\\end{tabular}\n"
      ],
      "text/markdown": [
       "\n",
       "DataSet | Partition | Algorithm | user | TestTime | Rank.nDCG | L100.Rank | L100.RecipRank | L100.nDCG | L100.AvgPrec | L10K.TopN.ActualLength | L10K.Rank | L10K.RecipRank | L10K.nDCG | L10K.AvgPrec | TopN.ActualLength | Rank | RecipRank | nDCG | AvgPrec | \n",
       "|---|---|---|---|---|---|---|---|---|---|---|\n",
       "| LFM1K        | 5            | Pop-B        | 692          | 0.851        | 0.9957313    |  6           | 0.16666667   | 0.3422255    | 0.16666667   | 10000        |    6         | 0.166666667  | 0.35419067   | 0.059239026  | 175736       |    6         | 0.166666667  | 0.35678667   | 0.0355732711 | \n",
       "| LFM1K        | 4            | Pop-C        | 645          | 0.356        | 0.7463263    | NA           | 0.00000000   | 0.0000000    | 0.00000000   | 10000        | 1996         | 0.000501002  | 0.04479647   | 0.000353846  | 174742       | 1996         | 0.000501002  | 0.07883371   | 0.0003002071 | \n",
       "| LFM1K        | 5            | Pop-C        | 692          | 0.360        | 0.9972090    | 21           | 0.04761905   | 0.2014062    | 0.04761905   | 10000        |   21         | 0.047619048  | 0.21145835   | 0.017466984  | 175736       |   21         | 0.047619048  | 0.21408166   | 0.0105031120 | \n",
       "| LFM1K        | 3            | Pop-C        | 585          | 0.385        | 0.9615427    |  1           | 1.00000000   | 0.1208657    | 1.00000000   | 10000        |    1         | 1.000000000  | 0.24343652   | 0.204534246  | 176358       |    1         | 1.000000000  | 0.24343652   | 0.2045342465 | \n",
       "| LFM1K        | 4            | Pop-B        | 645          | 0.910        | 0.7463263    | NA           | 0.00000000   | 0.0000000    | 0.00000000   | 10000        |  500         | 0.002000000  | 0.05150987   | 0.001146092  | 174742       |  500         | 0.002000000  | 0.09006103   | 0.0007068257 | \n",
       "| ⋮ | ⋮ | ⋮ | ⋮ | ⋮ | ⋮ | ⋮ | ⋮ | ⋮ | ⋮ | ⋮ | ⋮ | ⋮ | ⋮ | ⋮ | ⋮ | ⋮ | ⋮ | ⋮ | ⋮ | \n",
       "| LFM1K        | 1            | II-B         | 531          |  6.733       | 0.8790780    | NA           | 0.00000000   | 0.0000000    | 0.00000000   | 10000        |  687         | 0.0014556041 | 0.052508436  | 0.0009179884 | 64999        |  687         | 0.0014556041 | 0.09036178   | 5.185396e-04 | \n",
       "| LFM1K        | 1            | II-B         | 235          |  4.315       | 0.8924490    | 55           | 0.01818182   | 0.1061252    | 0.02007992   | 10000        |   55         | 0.0181818182 | 0.150437396  | 0.0117029627 | 65573        |   55         | 0.0181818182 | 0.15043740   | 1.170296e-02 | \n",
       "| LFM1K        | 1            | II-B         | 793          | 11.716       | 0.5856374    | NA           | 0.00000000   | 0.0000000    | 0.00000000   | 10000        | 7973         | 0.0001254233 | 0.003569748  | 0.0001254233 | 63444        | 7973         | 0.0001254233 | 0.04178119   | 9.837568e-05 | \n",
       "| LFM1K        | 1            | II-B         | 162          |  4.841       | 0.7769084    | NA           | 0.00000000   | 0.0000000    | 0.00000000   | 10000        |  389         | 0.0025706941 | 0.104954434  | 0.0029494732 | 65726        |  389         | 0.0025706941 | 0.10495443   | 2.949473e-03 | \n",
       "| LFM1K        | 1            | II-B         |  59          |  6.737       | 0.9969517    |  1           | 1.00000000   | 0.9285682    | 1.00000000   | 10000        |    1         | 1.0000000000 | 0.935134347  | 0.2506679807 | 64702        |    1         | 1.0000000000 | 0.93706138   | 2.005519e-01 | \n",
       "\n",
       "\n"
      ],
      "text/plain": [
       "     DataSet Partition Algorithm user TestTime Rank.nDCG L100.Rank\n",
       "1    LFM1K   5         Pop-B     692  0.851    0.9957313  6       \n",
       "2    LFM1K   4         Pop-C     645  0.356    0.7463263 NA       \n",
       "3    LFM1K   5         Pop-C     692  0.360    0.9972090 21       \n",
       "4    LFM1K   3         Pop-C     585  0.385    0.9615427  1       \n",
       "5    LFM1K   4         Pop-B     645  0.910    0.7463263 NA       \n",
       "⋮    ⋮       ⋮         ⋮         ⋮    ⋮        ⋮         ⋮        \n",
       "6863 LFM1K   1         II-B      531   6.733   0.8790780 NA       \n",
       "6864 LFM1K   1         II-B      235   4.315   0.8924490 55       \n",
       "6865 LFM1K   1         II-B      793  11.716   0.5856374 NA       \n",
       "6866 LFM1K   1         II-B      162   4.841   0.7769084 NA       \n",
       "6867 LFM1K   1         II-B       59   6.737   0.9969517  1       \n",
       "     L100.RecipRank L100.nDCG L100.AvgPrec L10K.TopN.ActualLength L10K.Rank\n",
       "1    0.16666667     0.3422255 0.16666667   10000                     6     \n",
       "2    0.00000000     0.0000000 0.00000000   10000                  1996     \n",
       "3    0.04761905     0.2014062 0.04761905   10000                    21     \n",
       "4    1.00000000     0.1208657 1.00000000   10000                     1     \n",
       "5    0.00000000     0.0000000 0.00000000   10000                   500     \n",
       "⋮    ⋮              ⋮         ⋮            ⋮                      ⋮        \n",
       "6863 0.00000000     0.0000000 0.00000000   10000                   687     \n",
       "6864 0.01818182     0.1061252 0.02007992   10000                    55     \n",
       "6865 0.00000000     0.0000000 0.00000000   10000                  7973     \n",
       "6866 0.00000000     0.0000000 0.00000000   10000                   389     \n",
       "6867 1.00000000     0.9285682 1.00000000   10000                     1     \n",
       "     L10K.RecipRank L10K.nDCG   L10K.AvgPrec TopN.ActualLength Rank\n",
       "1    0.166666667    0.35419067  0.059239026  175736               6\n",
       "2    0.000501002    0.04479647  0.000353846  174742            1996\n",
       "3    0.047619048    0.21145835  0.017466984  175736              21\n",
       "4    1.000000000    0.24343652  0.204534246  176358               1\n",
       "5    0.002000000    0.05150987  0.001146092  174742             500\n",
       "⋮    ⋮              ⋮           ⋮            ⋮                 ⋮   \n",
       "6863 0.0014556041   0.052508436 0.0009179884 64999              687\n",
       "6864 0.0181818182   0.150437396 0.0117029627 65573               55\n",
       "6865 0.0001254233   0.003569748 0.0001254233 63444             7973\n",
       "6866 0.0025706941   0.104954434 0.0029494732 65726              389\n",
       "6867 1.0000000000   0.935134347 0.2506679807 64702                1\n",
       "     RecipRank    nDCG       AvgPrec     \n",
       "1    0.166666667  0.35678667 0.0355732711\n",
       "2    0.000501002  0.07883371 0.0003002071\n",
       "3    0.047619048  0.21408166 0.0105031120\n",
       "4    1.000000000  0.24343652 0.2045342465\n",
       "5    0.002000000  0.09006103 0.0007068257\n",
       "⋮    ⋮            ⋮          ⋮           \n",
       "6863 0.0014556041 0.09036178 5.185396e-04\n",
       "6864 0.0181818182 0.15043740 1.170296e-02\n",
       "6865 0.0001254233 0.04178119 9.837568e-05\n",
       "6866 0.0025706941 0.10495443 2.949473e-03\n",
       "6867 1.0000000000 0.93706138 2.005519e-01"
      ]
     },
     "metadata": {},
     "output_type": "display_data"
    }
   ],
   "source": [
    "lfm1k.user.results = read_csv(\"build/lfm1k-user-results.csv\", guess_max=10000) %>%\n",
    "    rename(user=User) %>%\n",
    "    filter(!startsWith(Algorithm, \"UU-\")) %>%\n",
    "    mutate(DataSet = \"LFM1K\")\n",
    "lfm1k.user.results"
   ]
  },
  {
   "cell_type": "code",
   "execution_count": 22,
   "metadata": {},
   "outputs": [
    {
     "name": "stderr",
     "output_type": "stream",
     "text": [
      "Joining, by = c(\"DataSet\", \"user\")\n"
     ]
    },
    {
     "data": {
      "text/html": [
       "<table>\n",
       "<thead><tr><th scope=col>DataSet</th><th scope=col>Partition</th><th scope=col>Algorithm</th><th scope=col>user</th><th scope=col>TestTime</th><th scope=col>RMSE</th><th scope=col>Rank.nDCG</th><th scope=col>L100.nDCG</th><th scope=col>L100.Rank</th><th scope=col>L100.RecipRank</th><th scope=col>⋯</th><th scope=col>L10K.TopN.ActualLength</th><th scope=col>L10K.Rank</th><th scope=col>L10K.RecipRank</th><th scope=col>L10K.nDCG</th><th scope=col>L10K.AvgPrec</th><th scope=col>gender</th><th scope=col>age</th><th scope=col>occupation</th><th scope=col>zip</th><th scope=col>nitems</th></tr></thead>\n",
       "<tbody>\n",
       "\t<tr><td>ML1M     </td><td>1        </td><td>UU-B     </td><td>4031     </td><td>4.468    </td><td>NA       </td><td>1.0000000</td><td>0.9514849</td><td>1        </td><td>1.0000000</td><td>⋯        </td><td>NA       </td><td>NA       </td><td>NA       </td><td>NA       </td><td>NA       </td><td>M        </td><td>25-34    </td><td>0        </td><td>42445    </td><td> 46      </td></tr>\n",
       "\t<tr><td>ML1M     </td><td>1        </td><td>UU-B     </td><td>4032     </td><td>4.369    </td><td>NA       </td><td>1.0000000</td><td>0.3076758</td><td>3        </td><td>0.3333333</td><td>⋯        </td><td>NA       </td><td>NA       </td><td>NA       </td><td>NA       </td><td>NA       </td><td>M        </td><td>25-34    </td><td>12       </td><td>56301    </td><td>148      </td></tr>\n",
       "\t<tr><td>ML1M     </td><td>1        </td><td>UU-B     </td><td>4033     </td><td>5.327    </td><td>NA       </td><td>0.9377782</td><td>0.1819110</td><td>5        </td><td>0.2000000</td><td>⋯        </td><td>NA       </td><td>NA       </td><td>NA       </td><td>NA       </td><td>NA       </td><td>M        </td><td>25-34    </td><td>6        </td><td>43551    </td><td>657      </td></tr>\n",
       "\t<tr><td>ML1M     </td><td>1        </td><td>UU-B     </td><td>4034     </td><td>4.325    </td><td>NA       </td><td>0.9960107</td><td>0.3159364</td><td>4        </td><td>0.2500000</td><td>⋯        </td><td>NA       </td><td>NA       </td><td>NA       </td><td>NA       </td><td>NA       </td><td>M        </td><td>25-34    </td><td>0        </td><td>21113    </td><td>103      </td></tr>\n",
       "\t<tr><td>ML1M     </td><td>1        </td><td>UU-B     </td><td>4039     </td><td>4.227    </td><td>NA       </td><td>0.9622759</td><td>0.3506601</td><td>4        </td><td>0.2500000</td><td>⋯        </td><td>NA       </td><td>NA       </td><td>NA       </td><td>NA       </td><td>NA       </td><td>M        </td><td>25-34    </td><td>16       </td><td>97401    </td><td> 48      </td></tr>\n",
       "\t<tr><td>⋮</td><td>⋮</td><td>⋮</td><td>⋮</td><td>⋮</td><td>⋮</td><td>⋮</td><td>⋮</td><td>⋮</td><td>⋮</td><td>⋱</td><td>⋮</td><td>⋮</td><td>⋮</td><td>⋮</td><td>⋮</td><td>⋮</td><td>⋮</td><td>⋮</td><td>⋮</td><td>⋮</td></tr>\n",
       "\t<tr><td>LFM360K     </td><td>1           </td><td>MF-B        </td><td>339766      </td><td>0.280       </td><td>NA          </td><td>0.8019852   </td><td>0           </td><td>NA          </td><td>0           </td><td>⋯           </td><td>10000       </td><td> 731        </td><td>0.0013679891</td><td>0.10262828  </td><td>0.0012494087</td><td>M           </td><td>18-24       </td><td>NA          </td><td>NA          </td><td>42          </td></tr>\n",
       "\t<tr><td>LFM360K     </td><td>1           </td><td>MF-B        </td><td>348467      </td><td>0.280       </td><td>NA          </td><td>0.9181683   </td><td>0           </td><td>NA          </td><td>0           </td><td>⋯           </td><td>10000       </td><td> 631        </td><td>0.0015847861</td><td>0.10745371  </td><td>0.0018584157</td><td>NA          </td><td>18-24       </td><td>NA          </td><td>NA          </td><td>45          </td></tr>\n",
       "\t<tr><td>LFM360K     </td><td>1           </td><td>MF-B        </td><td>339871      </td><td>0.279       </td><td>NA          </td><td>0.8576777   </td><td>0           </td><td>NA          </td><td>0           </td><td>⋯           </td><td>10000       </td><td>1467        </td><td>0.0006816633</td><td>0.10510195  </td><td>0.0006760859</td><td>F           </td><td>NA          </td><td>NA          </td><td>NA          </td><td>39          </td></tr>\n",
       "\t<tr><td>LFM360K     </td><td>1           </td><td>MF-B        </td><td>348600      </td><td>0.279       </td><td>NA          </td><td>0.8202323   </td><td>0           </td><td>NA          </td><td>0           </td><td>⋯           </td><td>10000       </td><td> 736        </td><td>0.0013586957</td><td>0.05545414  </td><td>0.0007958755</td><td>F           </td><td>18-24       </td><td>NA          </td><td>NA          </td><td>31          </td></tr>\n",
       "\t<tr><td>LFM360K     </td><td>1           </td><td>MF-B        </td><td>339883      </td><td>0.278       </td><td>NA          </td><td>0.7057160   </td><td>0           </td><td>NA          </td><td>0           </td><td>⋯           </td><td>10000       </td><td> 262        </td><td>0.0038167939</td><td>0.06540154  </td><td>0.0022810788</td><td>M           </td><td>18-24       </td><td>NA          </td><td>NA          </td><td>36          </td></tr>\n",
       "</tbody>\n",
       "</table>\n"
      ],
      "text/latex": [
       "\\begin{tabular}{r|llllllllllllllllllllllllllllll}\n",
       " DataSet & Partition & Algorithm & user & TestTime & RMSE & Rank.nDCG & L100.nDCG & L100.Rank & L100.RecipRank & ⋯ & L10K.TopN.ActualLength & L10K.Rank & L10K.RecipRank & L10K.nDCG & L10K.AvgPrec & gender & age & occupation & zip & nitems\\\\\n",
       "\\hline\n",
       "\t ML1M      & 1         & UU-B      & 4031      & 4.468     & NA        & 1.0000000 & 0.9514849 & 1         & 1.0000000 & ⋯         & NA        & NA        & NA        & NA        & NA        & M         & 25-34     & 0         & 42445     &  46      \\\\\n",
       "\t ML1M      & 1         & UU-B      & 4032      & 4.369     & NA        & 1.0000000 & 0.3076758 & 3         & 0.3333333 & ⋯         & NA        & NA        & NA        & NA        & NA        & M         & 25-34     & 12        & 56301     & 148      \\\\\n",
       "\t ML1M      & 1         & UU-B      & 4033      & 5.327     & NA        & 0.9377782 & 0.1819110 & 5         & 0.2000000 & ⋯         & NA        & NA        & NA        & NA        & NA        & M         & 25-34     & 6         & 43551     & 657      \\\\\n",
       "\t ML1M      & 1         & UU-B      & 4034      & 4.325     & NA        & 0.9960107 & 0.3159364 & 4         & 0.2500000 & ⋯         & NA        & NA        & NA        & NA        & NA        & M         & 25-34     & 0         & 21113     & 103      \\\\\n",
       "\t ML1M      & 1         & UU-B      & 4039      & 4.227     & NA        & 0.9622759 & 0.3506601 & 4         & 0.2500000 & ⋯         & NA        & NA        & NA        & NA        & NA        & M         & 25-34     & 16        & 97401     &  48      \\\\\n",
       "\t ⋮ & ⋮ & ⋮ & ⋮ & ⋮ & ⋮ & ⋮ & ⋮ & ⋮ & ⋮ & ⋱ & ⋮ & ⋮ & ⋮ & ⋮ & ⋮ & ⋮ & ⋮ & ⋮ & ⋮ & ⋮\\\\\n",
       "\t LFM360K      & 1            & MF-B         & 339766       & 0.280        & NA           & 0.8019852    & 0            & NA           & 0            & ⋯            & 10000        &  731         & 0.0013679891 & 0.10262828   & 0.0012494087 & M            & 18-24        & NA           & NA           & 42          \\\\\n",
       "\t LFM360K      & 1            & MF-B         & 348467       & 0.280        & NA           & 0.9181683    & 0            & NA           & 0            & ⋯            & 10000        &  631         & 0.0015847861 & 0.10745371   & 0.0018584157 & NA           & 18-24        & NA           & NA           & 45          \\\\\n",
       "\t LFM360K      & 1            & MF-B         & 339871       & 0.279        & NA           & 0.8576777    & 0            & NA           & 0            & ⋯            & 10000        & 1467         & 0.0006816633 & 0.10510195   & 0.0006760859 & F            & NA           & NA           & NA           & 39          \\\\\n",
       "\t LFM360K      & 1            & MF-B         & 348600       & 0.279        & NA           & 0.8202323    & 0            & NA           & 0            & ⋯            & 10000        &  736         & 0.0013586957 & 0.05545414   & 0.0007958755 & F            & 18-24        & NA           & NA           & 31          \\\\\n",
       "\t LFM360K      & 1            & MF-B         & 339883       & 0.278        & NA           & 0.7057160    & 0            & NA           & 0            & ⋯            & 10000        &  262         & 0.0038167939 & 0.06540154   & 0.0022810788 & M            & 18-24        & NA           & NA           & 36          \\\\\n",
       "\\end{tabular}\n"
      ],
      "text/markdown": [
       "\n",
       "DataSet | Partition | Algorithm | user | TestTime | RMSE | Rank.nDCG | L100.nDCG | L100.Rank | L100.RecipRank | ⋯ | L10K.TopN.ActualLength | L10K.Rank | L10K.RecipRank | L10K.nDCG | L10K.AvgPrec | gender | age | occupation | zip | nitems | \n",
       "|---|---|---|---|---|---|---|---|---|---|---|\n",
       "| ML1M      | 1         | UU-B      | 4031      | 4.468     | NA        | 1.0000000 | 0.9514849 | 1         | 1.0000000 | ⋯         | NA        | NA        | NA        | NA        | NA        | M         | 25-34     | 0         | 42445     |  46       | \n",
       "| ML1M      | 1         | UU-B      | 4032      | 4.369     | NA        | 1.0000000 | 0.3076758 | 3         | 0.3333333 | ⋯         | NA        | NA        | NA        | NA        | NA        | M         | 25-34     | 12        | 56301     | 148       | \n",
       "| ML1M      | 1         | UU-B      | 4033      | 5.327     | NA        | 0.9377782 | 0.1819110 | 5         | 0.2000000 | ⋯         | NA        | NA        | NA        | NA        | NA        | M         | 25-34     | 6         | 43551     | 657       | \n",
       "| ML1M      | 1         | UU-B      | 4034      | 4.325     | NA        | 0.9960107 | 0.3159364 | 4         | 0.2500000 | ⋯         | NA        | NA        | NA        | NA        | NA        | M         | 25-34     | 0         | 21113     | 103       | \n",
       "| ML1M      | 1         | UU-B      | 4039      | 4.227     | NA        | 0.9622759 | 0.3506601 | 4         | 0.2500000 | ⋯         | NA        | NA        | NA        | NA        | NA        | M         | 25-34     | 16        | 97401     |  48       | \n",
       "| ⋮ | ⋮ | ⋮ | ⋮ | ⋮ | ⋮ | ⋮ | ⋮ | ⋮ | ⋮ | ⋱ | ⋮ | ⋮ | ⋮ | ⋮ | ⋮ | ⋮ | ⋮ | ⋮ | ⋮ | ⋮ | \n",
       "| LFM360K      | 1            | MF-B         | 339766       | 0.280        | NA           | 0.8019852    | 0            | NA           | 0            | ⋯            | 10000        |  731         | 0.0013679891 | 0.10262828   | 0.0012494087 | M            | 18-24        | NA           | NA           | 42           | \n",
       "| LFM360K      | 1            | MF-B         | 348467       | 0.280        | NA           | 0.9181683    | 0            | NA           | 0            | ⋯            | 10000        |  631         | 0.0015847861 | 0.10745371   | 0.0018584157 | NA           | 18-24        | NA           | NA           | 45           | \n",
       "| LFM360K      | 1            | MF-B         | 339871       | 0.279        | NA           | 0.8576777    | 0            | NA           | 0            | ⋯            | 10000        | 1467         | 0.0006816633 | 0.10510195   | 0.0006760859 | F            | NA           | NA           | NA           | 39           | \n",
       "| LFM360K      | 1            | MF-B         | 348600       | 0.279        | NA           | 0.8202323    | 0            | NA           | 0            | ⋯            | 10000        |  736         | 0.0013586957 | 0.05545414   | 0.0007958755 | F            | 18-24        | NA           | NA           | 31           | \n",
       "| LFM360K      | 1            | MF-B         | 339883       | 0.278        | NA           | 0.7057160    | 0            | NA           | 0            | ⋯            | 10000        |  262         | 0.0038167939 | 0.06540154   | 0.0022810788 | M            | 18-24        | NA           | NA           | 36           | \n",
       "\n",
       "\n"
      ],
      "text/plain": [
       "       DataSet Partition Algorithm user   TestTime RMSE Rank.nDCG L100.nDCG\n",
       "1      ML1M    1         UU-B      4031   4.468    NA   1.0000000 0.9514849\n",
       "2      ML1M    1         UU-B      4032   4.369    NA   1.0000000 0.3076758\n",
       "3      ML1M    1         UU-B      4033   5.327    NA   0.9377782 0.1819110\n",
       "4      ML1M    1         UU-B      4034   4.325    NA   0.9960107 0.3159364\n",
       "5      ML1M    1         UU-B      4039   4.227    NA   0.9622759 0.3506601\n",
       "⋮      ⋮       ⋮         ⋮         ⋮      ⋮        ⋮    ⋮         ⋮        \n",
       "230183 LFM360K 1         MF-B      339766 0.280    NA   0.8019852 0        \n",
       "230184 LFM360K 1         MF-B      348467 0.280    NA   0.9181683 0        \n",
       "230185 LFM360K 1         MF-B      339871 0.279    NA   0.8576777 0        \n",
       "230186 LFM360K 1         MF-B      348600 0.279    NA   0.8202323 0        \n",
       "230187 LFM360K 1         MF-B      339883 0.278    NA   0.7057160 0        \n",
       "       L100.Rank L100.RecipRank ⋯ L10K.TopN.ActualLength L10K.Rank\n",
       "1      1         1.0000000      ⋯ NA                     NA       \n",
       "2      3         0.3333333      ⋯ NA                     NA       \n",
       "3      5         0.2000000      ⋯ NA                     NA       \n",
       "4      4         0.2500000      ⋯ NA                     NA       \n",
       "5      4         0.2500000      ⋯ NA                     NA       \n",
       "⋮      ⋮         ⋮              ⋱ ⋮                      ⋮        \n",
       "230183 NA        0              ⋯ 10000                   731     \n",
       "230184 NA        0              ⋯ 10000                   631     \n",
       "230185 NA        0              ⋯ 10000                  1467     \n",
       "230186 NA        0              ⋯ 10000                   736     \n",
       "230187 NA        0              ⋯ 10000                   262     \n",
       "       L10K.RecipRank L10K.nDCG  L10K.AvgPrec gender age   occupation zip  \n",
       "1      NA             NA         NA           M      25-34 0          42445\n",
       "2      NA             NA         NA           M      25-34 12         56301\n",
       "3      NA             NA         NA           M      25-34 6          43551\n",
       "4      NA             NA         NA           M      25-34 0          21113\n",
       "5      NA             NA         NA           M      25-34 16         97401\n",
       "⋮      ⋮              ⋮          ⋮            ⋮      ⋮     ⋮          ⋮    \n",
       "230183 0.0013679891   0.10262828 0.0012494087 M      18-24 NA         NA   \n",
       "230184 0.0015847861   0.10745371 0.0018584157 NA     18-24 NA         NA   \n",
       "230185 0.0006816633   0.10510195 0.0006760859 F      NA    NA         NA   \n",
       "230186 0.0013586957   0.05545414 0.0007958755 F      18-24 NA         NA   \n",
       "230187 0.0038167939   0.06540154 0.0022810788 M      18-24 NA         NA   \n",
       "       nitems\n",
       "1       46   \n",
       "2      148   \n",
       "3      657   \n",
       "4      103   \n",
       "5       48   \n",
       "⋮      ⋮     \n",
       "230183 42    \n",
       "230184 45    \n",
       "230185 39    \n",
       "230186 31    \n",
       "230187 36    "
      ]
     },
     "metadata": {},
     "output_type": "display_data"
    }
   ],
   "source": [
    "user.results = \n",
    "    bind_rows(ml.user.results, lfm1k.user.results, lfm360k.user.results) %>%\n",
    "    inner_join(users)\n",
    "user.results"
   ]
  },
  {
   "cell_type": "code",
   "execution_count": 23,
   "metadata": {
    "collapsed": true
   },
   "outputs": [],
   "source": [
    "write_csv(user.results, \"build/integrated-user-results.csv\")"
   ]
  },
  {
   "cell_type": "code",
   "execution_count": 24,
   "metadata": {
    "collapsed": true
   },
   "outputs": [],
   "source": [
    "overall.results = user.results %>%\n",
    "    select(DataSet, Algorithm, RecipRank, nDCG, Rank.nDCG) %>%\n",
    "    group_by(DataSet, Algorithm) %>%\n",
    "    summarize(nDCG=mean(nDCG), MRR=mean(RecipRank), Rank.nDCG=mean(Rank.nDCG)) %>%\n",
    "    ungroup()"
   ]
  },
  {
   "cell_type": "code",
   "execution_count": 25,
   "metadata": {},
   "outputs": [
    {
     "data": {
      "text/html": [
       "<table>\n",
       "<thead><tr><th scope=col>DataSet</th><th scope=col>BestNDCG</th><th scope=col>BestAlgo</th></tr></thead>\n",
       "<tbody>\n",
       "\t<tr><td>LFM1K    </td><td>0.1558515</td><td>II-B     </td></tr>\n",
       "\t<tr><td>LFM360K  </td><td>0.3001435</td><td>II-B     </td></tr>\n",
       "\t<tr><td>ML1M     </td><td>0.3478020</td><td>UU-B     </td></tr>\n",
       "</tbody>\n",
       "</table>\n"
      ],
      "text/latex": [
       "\\begin{tabular}{r|lll}\n",
       " DataSet & BestNDCG & BestAlgo\\\\\n",
       "\\hline\n",
       "\t LFM1K     & 0.1558515 & II-B     \\\\\n",
       "\t LFM360K   & 0.3001435 & II-B     \\\\\n",
       "\t ML1M      & 0.3478020 & UU-B     \\\\\n",
       "\\end{tabular}\n"
      ],
      "text/markdown": [
       "\n",
       "DataSet | BestNDCG | BestAlgo | \n",
       "|---|---|---|\n",
       "| LFM1K     | 0.1558515 | II-B      | \n",
       "| LFM360K   | 0.3001435 | II-B      | \n",
       "| ML1M      | 0.3478020 | UU-B      | \n",
       "\n",
       "\n"
      ],
      "text/plain": [
       "  DataSet BestNDCG  BestAlgo\n",
       "1 LFM1K   0.1558515 II-B    \n",
       "2 LFM360K 0.3001435 II-B    \n",
       "3 ML1M    0.3478020 UU-B    "
      ]
     },
     "metadata": {},
     "output_type": "display_data"
    }
   ],
   "source": [
    "best.algos = overall.results %>%\n",
    "    group_by(DataSet) %>%\n",
    "    summarize(BestNDCG=max(nDCG),\n",
    "              BestAlgo=Algorithm[which.max(nDCG)])\n",
    "best.algos"
   ]
  },
  {
   "cell_type": "code",
   "execution_count": 26,
   "metadata": {},
   "outputs": [
    {
     "name": "stderr",
     "output_type": "stream",
     "text": [
      "Joining, by = \"DataSet\"\n"
     ]
    },
    {
     "data": {
      "text/html": [
       "<table>\n",
       "<thead><tr><th scope=col>DataSet</th><th scope=col>Partition</th><th scope=col>Algorithm</th><th scope=col>user</th><th scope=col>TestTime</th><th scope=col>RMSE</th><th scope=col>Rank.nDCG</th><th scope=col>L100.nDCG</th><th scope=col>L100.Rank</th><th scope=col>L100.RecipRank</th><th scope=col>⋯</th><th scope=col>L10K.TopN.ActualLength</th><th scope=col>L10K.Rank</th><th scope=col>L10K.RecipRank</th><th scope=col>L10K.nDCG</th><th scope=col>L10K.AvgPrec</th><th scope=col>gender</th><th scope=col>age</th><th scope=col>occupation</th><th scope=col>zip</th><th scope=col>nitems</th></tr></thead>\n",
       "<tbody>\n",
       "\t<tr><td>LFM1K       </td><td>5           </td><td>II-B        </td><td>692         </td><td>4.749       </td><td>NA          </td><td>0.9819604   </td><td>0.20468645  </td><td>20          </td><td>0.05000000  </td><td>⋯           </td><td>10000       </td><td>  20        </td><td>0.0500000000</td><td>0.21838389  </td><td>0.023626001 </td><td>NA          </td><td>NA          </td><td>NA          </td><td>NA          </td><td>1197        </td></tr>\n",
       "\t<tr><td>LFM1K       </td><td>5           </td><td>II-B        </td><td>694         </td><td>2.861       </td><td>NA          </td><td>0.7451547   </td><td>0.02824604  </td><td>56          </td><td>0.01785714  </td><td>⋯           </td><td>10000       </td><td>  56        </td><td>0.0178571429</td><td>0.10606109  </td><td>0.005517001 </td><td>M           </td><td>NA          </td><td>NA          </td><td>NA          </td><td> 501        </td></tr>\n",
       "\t<tr><td>LFM1K       </td><td>5           </td><td>II-B        </td><td>690         </td><td>3.059       </td><td>NA          </td><td>0.7414247   </td><td>0.00000000  </td><td>NA          </td><td>0.00000000  </td><td>⋯           </td><td>10000       </td><td> 200        </td><td>0.0050000000</td><td>0.10058135  </td><td>0.002946950 </td><td>F           </td><td>NA          </td><td>NA          </td><td>NA          </td><td> 582        </td></tr>\n",
       "\t<tr><td>LFM1K       </td><td>5           </td><td>II-B        </td><td>711         </td><td>6.017       </td><td>NA          </td><td>0.8322899   </td><td>0.00000000  </td><td>NA          </td><td>0.00000000  </td><td>⋯           </td><td>10000       </td><td>1678        </td><td>0.0005959476</td><td>0.07766624  </td><td>0.000745201 </td><td>F           </td><td>NA          </td><td>NA          </td><td>NA          </td><td>1026        </td></tr>\n",
       "\t<tr><td>LFM1K       </td><td>5           </td><td>II-B        </td><td>712         </td><td>1.661       </td><td>NA          </td><td>0.9278452   </td><td>0.00000000  </td><td>NA          </td><td>0.00000000  </td><td>⋯           </td><td>10000       </td><td> 200        </td><td>0.0050000000</td><td>0.12720390  </td><td>0.004638345 </td><td>M           </td><td>NA          </td><td>NA          </td><td>NA          </td><td> 215        </td></tr>\n",
       "\t<tr><td>⋮</td><td>⋮</td><td>⋮</td><td>⋮</td><td>⋮</td><td>⋮</td><td>⋮</td><td>⋮</td><td>⋮</td><td>⋮</td><td>⋱</td><td>⋮</td><td>⋮</td><td>⋮</td><td>⋮</td><td>⋮</td><td>⋮</td><td>⋮</td><td>⋮</td><td>⋮</td><td>⋮</td></tr>\n",
       "\t<tr><td>ML1M      </td><td>2         </td><td>UU-B      </td><td>4718      </td><td>3.661     </td><td>NA        </td><td>0.9587917 </td><td>0.53754510</td><td> 1        </td><td>1.00000000</td><td>⋯         </td><td>NA        </td><td>NA        </td><td>NA        </td><td>NA        </td><td>NA        </td><td>M         </td><td>35-44     </td><td>7         </td><td>03885     </td><td> 133      </td></tr>\n",
       "\t<tr><td>ML1M      </td><td>2         </td><td>UU-B      </td><td>5785      </td><td>3.673     </td><td>NA        </td><td>0.9750893 </td><td>0.60381706</td><td> 1        </td><td>1.00000000</td><td>⋯         </td><td>NA        </td><td>NA        </td><td>NA        </td><td>NA        </td><td>NA        </td><td>F         </td><td>25-34     </td><td>7         </td><td>60607     </td><td> 125      </td></tr>\n",
       "\t<tr><td>ML1M      </td><td>2         </td><td>UU-B      </td><td>4724      </td><td>3.199     </td><td>NA        </td><td>0.9596196 </td><td>0.21088044</td><td> 6        </td><td>0.16666667</td><td>⋯         </td><td>NA        </td><td>NA        </td><td>NA        </td><td>NA        </td><td>NA        </td><td>F         </td><td>56+       </td><td>6         </td><td>01852     </td><td>  28      </td></tr>\n",
       "\t<tr><td>ML1M      </td><td>2         </td><td>UU-B      </td><td>5875      </td><td>3.642     </td><td>NA        </td><td>0.9480569 </td><td>0.12162662</td><td>17        </td><td>0.05882353</td><td>⋯         </td><td>NA        </td><td>NA        </td><td>NA        </td><td>NA        </td><td>NA        </td><td>M         </td><td>25-34     </td><td>4         </td><td>19103     </td><td> 133      </td></tr>\n",
       "\t<tr><td>ML1M      </td><td>2         </td><td>UU-B      </td><td>5795      </td><td>4.491     </td><td>NA        </td><td>0.8660945 </td><td>0.04836126</td><td>11        </td><td>0.09090909</td><td>⋯         </td><td>NA        </td><td>NA        </td><td>NA        </td><td>NA        </td><td>NA        </td><td>M         </td><td>25-34     </td><td>1         </td><td>92688     </td><td>1272      </td></tr>\n",
       "</tbody>\n",
       "</table>\n"
      ],
      "text/latex": [
       "\\begin{tabular}{r|llllllllllllllllllllllllllllll}\n",
       " DataSet & Partition & Algorithm & user & TestTime & RMSE & Rank.nDCG & L100.nDCG & L100.Rank & L100.RecipRank & ⋯ & L10K.TopN.ActualLength & L10K.Rank & L10K.RecipRank & L10K.nDCG & L10K.AvgPrec & gender & age & occupation & zip & nitems\\\\\n",
       "\\hline\n",
       "\t LFM1K        & 5            & II-B         & 692          & 4.749        & NA           & 0.9819604    & 0.20468645   & 20           & 0.05000000   & ⋯            & 10000        &   20         & 0.0500000000 & 0.21838389   & 0.023626001  & NA           & NA           & NA           & NA           & 1197        \\\\\n",
       "\t LFM1K        & 5            & II-B         & 694          & 2.861        & NA           & 0.7451547    & 0.02824604   & 56           & 0.01785714   & ⋯            & 10000        &   56         & 0.0178571429 & 0.10606109   & 0.005517001  & M            & NA           & NA           & NA           &  501        \\\\\n",
       "\t LFM1K        & 5            & II-B         & 690          & 3.059        & NA           & 0.7414247    & 0.00000000   & NA           & 0.00000000   & ⋯            & 10000        &  200         & 0.0050000000 & 0.10058135   & 0.002946950  & F            & NA           & NA           & NA           &  582        \\\\\n",
       "\t LFM1K        & 5            & II-B         & 711          & 6.017        & NA           & 0.8322899    & 0.00000000   & NA           & 0.00000000   & ⋯            & 10000        & 1678         & 0.0005959476 & 0.07766624   & 0.000745201  & F            & NA           & NA           & NA           & 1026        \\\\\n",
       "\t LFM1K        & 5            & II-B         & 712          & 1.661        & NA           & 0.9278452    & 0.00000000   & NA           & 0.00000000   & ⋯            & 10000        &  200         & 0.0050000000 & 0.12720390   & 0.004638345  & M            & NA           & NA           & NA           &  215        \\\\\n",
       "\t ⋮ & ⋮ & ⋮ & ⋮ & ⋮ & ⋮ & ⋮ & ⋮ & ⋮ & ⋮ & ⋱ & ⋮ & ⋮ & ⋮ & ⋮ & ⋮ & ⋮ & ⋮ & ⋮ & ⋮ & ⋮\\\\\n",
       "\t ML1M       & 2          & UU-B       & 4718       & 3.661      & NA         & 0.9587917  & 0.53754510 &  1         & 1.00000000 & ⋯          & NA         & NA         & NA         & NA         & NA         & M          & 35-44      & 7          & 03885      &  133      \\\\\n",
       "\t ML1M       & 2          & UU-B       & 5785       & 3.673      & NA         & 0.9750893  & 0.60381706 &  1         & 1.00000000 & ⋯          & NA         & NA         & NA         & NA         & NA         & F          & 25-34      & 7          & 60607      &  125      \\\\\n",
       "\t ML1M       & 2          & UU-B       & 4724       & 3.199      & NA         & 0.9596196  & 0.21088044 &  6         & 0.16666667 & ⋯          & NA         & NA         & NA         & NA         & NA         & F          & 56+        & 6          & 01852      &   28      \\\\\n",
       "\t ML1M       & 2          & UU-B       & 5875       & 3.642      & NA         & 0.9480569  & 0.12162662 & 17         & 0.05882353 & ⋯          & NA         & NA         & NA         & NA         & NA         & M          & 25-34      & 4          & 19103      &  133      \\\\\n",
       "\t ML1M       & 2          & UU-B       & 5795       & 4.491      & NA         & 0.8660945  & 0.04836126 & 11         & 0.09090909 & ⋯          & NA         & NA         & NA         & NA         & NA         & M          & 25-34      & 1          & 92688      & 1272      \\\\\n",
       "\\end{tabular}\n"
      ],
      "text/markdown": [
       "\n",
       "DataSet | Partition | Algorithm | user | TestTime | RMSE | Rank.nDCG | L100.nDCG | L100.Rank | L100.RecipRank | ⋯ | L10K.TopN.ActualLength | L10K.Rank | L10K.RecipRank | L10K.nDCG | L10K.AvgPrec | gender | age | occupation | zip | nitems | \n",
       "|---|---|---|---|---|---|---|---|---|---|---|\n",
       "| LFM1K        | 5            | II-B         | 692          | 4.749        | NA           | 0.9819604    | 0.20468645   | 20           | 0.05000000   | ⋯            | 10000        |   20         | 0.0500000000 | 0.21838389   | 0.023626001  | NA           | NA           | NA           | NA           | 1197         | \n",
       "| LFM1K        | 5            | II-B         | 694          | 2.861        | NA           | 0.7451547    | 0.02824604   | 56           | 0.01785714   | ⋯            | 10000        |   56         | 0.0178571429 | 0.10606109   | 0.005517001  | M            | NA           | NA           | NA           |  501         | \n",
       "| LFM1K        | 5            | II-B         | 690          | 3.059        | NA           | 0.7414247    | 0.00000000   | NA           | 0.00000000   | ⋯            | 10000        |  200         | 0.0050000000 | 0.10058135   | 0.002946950  | F            | NA           | NA           | NA           |  582         | \n",
       "| LFM1K        | 5            | II-B         | 711          | 6.017        | NA           | 0.8322899    | 0.00000000   | NA           | 0.00000000   | ⋯            | 10000        | 1678         | 0.0005959476 | 0.07766624   | 0.000745201  | F            | NA           | NA           | NA           | 1026         | \n",
       "| LFM1K        | 5            | II-B         | 712          | 1.661        | NA           | 0.9278452    | 0.00000000   | NA           | 0.00000000   | ⋯            | 10000        |  200         | 0.0050000000 | 0.12720390   | 0.004638345  | M            | NA           | NA           | NA           |  215         | \n",
       "| ⋮ | ⋮ | ⋮ | ⋮ | ⋮ | ⋮ | ⋮ | ⋮ | ⋮ | ⋮ | ⋱ | ⋮ | ⋮ | ⋮ | ⋮ | ⋮ | ⋮ | ⋮ | ⋮ | ⋮ | ⋮ | \n",
       "| ML1M       | 2          | UU-B       | 4718       | 3.661      | NA         | 0.9587917  | 0.53754510 |  1         | 1.00000000 | ⋯          | NA         | NA         | NA         | NA         | NA         | M          | 35-44      | 7          | 03885      |  133       | \n",
       "| ML1M       | 2          | UU-B       | 5785       | 3.673      | NA         | 0.9750893  | 0.60381706 |  1         | 1.00000000 | ⋯          | NA         | NA         | NA         | NA         | NA         | F          | 25-34      | 7          | 60607      |  125       | \n",
       "| ML1M       | 2          | UU-B       | 4724       | 3.199      | NA         | 0.9596196  | 0.21088044 |  6         | 0.16666667 | ⋯          | NA         | NA         | NA         | NA         | NA         | F          | 56+        | 6          | 01852      |   28       | \n",
       "| ML1M       | 2          | UU-B       | 5875       | 3.642      | NA         | 0.9480569  | 0.12162662 | 17         | 0.05882353 | ⋯          | NA         | NA         | NA         | NA         | NA         | M          | 25-34      | 4          | 19103      |  133       | \n",
       "| ML1M       | 2          | UU-B       | 5795       | 4.491      | NA         | 0.8660945  | 0.04836126 | 11         | 0.09090909 | ⋯          | NA         | NA         | NA         | NA         | NA         | M          | 25-34      | 1          | 92688      | 1272       | \n",
       "\n",
       "\n"
      ],
      "text/plain": [
       "      DataSet Partition Algorithm user TestTime RMSE Rank.nDCG L100.nDCG \n",
       "1     LFM1K   5         II-B      692  4.749    NA   0.9819604 0.20468645\n",
       "2     LFM1K   5         II-B      694  2.861    NA   0.7451547 0.02824604\n",
       "3     LFM1K   5         II-B      690  3.059    NA   0.7414247 0.00000000\n",
       "4     LFM1K   5         II-B      711  6.017    NA   0.8322899 0.00000000\n",
       "5     LFM1K   5         II-B      712  1.661    NA   0.9278452 0.00000000\n",
       "⋮     ⋮       ⋮         ⋮         ⋮    ⋮        ⋮    ⋮         ⋮         \n",
       "32017 ML1M    2         UU-B      4718 3.661    NA   0.9587917 0.53754510\n",
       "32018 ML1M    2         UU-B      5785 3.673    NA   0.9750893 0.60381706\n",
       "32019 ML1M    2         UU-B      4724 3.199    NA   0.9596196 0.21088044\n",
       "32020 ML1M    2         UU-B      5875 3.642    NA   0.9480569 0.12162662\n",
       "32021 ML1M    2         UU-B      5795 4.491    NA   0.8660945 0.04836126\n",
       "      L100.Rank L100.RecipRank ⋯ L10K.TopN.ActualLength L10K.Rank\n",
       "1     20        0.05000000     ⋯ 10000                    20     \n",
       "2     56        0.01785714     ⋯ 10000                    56     \n",
       "3     NA        0.00000000     ⋯ 10000                   200     \n",
       "4     NA        0.00000000     ⋯ 10000                  1678     \n",
       "5     NA        0.00000000     ⋯ 10000                   200     \n",
       "⋮     ⋮         ⋮              ⋱ ⋮                      ⋮        \n",
       "32017  1        1.00000000     ⋯ NA                     NA       \n",
       "32018  1        1.00000000     ⋯ NA                     NA       \n",
       "32019  6        0.16666667     ⋯ NA                     NA       \n",
       "32020 17        0.05882353     ⋯ NA                     NA       \n",
       "32021 11        0.09090909     ⋯ NA                     NA       \n",
       "      L10K.RecipRank L10K.nDCG  L10K.AvgPrec gender age   occupation zip  \n",
       "1     0.0500000000   0.21838389 0.023626001  NA     NA    NA         NA   \n",
       "2     0.0178571429   0.10606109 0.005517001  M      NA    NA         NA   \n",
       "3     0.0050000000   0.10058135 0.002946950  F      NA    NA         NA   \n",
       "4     0.0005959476   0.07766624 0.000745201  F      NA    NA         NA   \n",
       "5     0.0050000000   0.12720390 0.004638345  M      NA    NA         NA   \n",
       "⋮     ⋮              ⋮          ⋮            ⋮      ⋮     ⋮          ⋮    \n",
       "32017 NA             NA         NA           M      35-44 7          03885\n",
       "32018 NA             NA         NA           F      25-34 7          60607\n",
       "32019 NA             NA         NA           F      56+   6          01852\n",
       "32020 NA             NA         NA           M      25-34 4          19103\n",
       "32021 NA             NA         NA           M      25-34 1          92688\n",
       "      nitems\n",
       "1     1197  \n",
       "2      501  \n",
       "3      582  \n",
       "4     1026  \n",
       "5      215  \n",
       "⋮     ⋮     \n",
       "32017  133  \n",
       "32018  125  \n",
       "32019   28  \n",
       "32020  133  \n",
       "32021 1272  "
      ]
     },
     "metadata": {},
     "output_type": "display_data"
    }
   ],
   "source": [
    "best.results = best.algos %>%\n",
    "    select(DataSet, BestAlgo) %>%\n",
    "    inner_join(user.results) %>%\n",
    "    filter(Algorithm == BestAlgo) %>%\n",
    "    select(-BestAlgo)\n",
    "best.results"
   ]
  },
  {
   "cell_type": "markdown",
   "metadata": {},
   "source": [
    "## Gender\n",
    "\n",
    "Let's analyze accuracy by gender."
   ]
  },
  {
   "cell_type": "code",
   "execution_count": 27,
   "metadata": {},
   "outputs": [
    {
     "data": {
      "text/html": [
       "<table>\n",
       "<thead><tr><th scope=col>DataSet</th><th scope=col>Algorithm</th><th scope=col>gender</th><th scope=col>nDCG</th><th scope=col>Rank.nDCG</th><th scope=col>MRR</th></tr></thead>\n",
       "<tbody>\n",
       "\t<tr><td>LFM1K      </td><td>II-B       </td><td>F          </td><td>0.18379674 </td><td>0.8234126  </td><td>0.124055578</td></tr>\n",
       "\t<tr><td>LFM1K      </td><td>II-B       </td><td>M          </td><td>0.13810004 </td><td>0.7854049  </td><td>0.077049650</td></tr>\n",
       "\t<tr><td>LFM1K      </td><td>II-B       </td><td>NA         </td><td>0.14029112 </td><td>0.7925350  </td><td>0.063715005</td></tr>\n",
       "\t<tr><td>LFM1K      </td><td>II-C       </td><td>F          </td><td>0.08752032 </td><td>0.8395035  </td><td>0.002545079</td></tr>\n",
       "\t<tr><td>LFM1K      </td><td>II-C       </td><td>M          </td><td>0.08121656 </td><td>0.7990015  </td><td>0.002747112</td></tr>\n",
       "\t<tr><td>LFM1K      </td><td>II-C       </td><td>NA         </td><td>0.08723427 </td><td>0.8230358  </td><td>0.004032184</td></tr>\n",
       "</tbody>\n",
       "</table>\n"
      ],
      "text/latex": [
       "\\begin{tabular}{r|llllll}\n",
       " DataSet & Algorithm & gender & nDCG & Rank.nDCG & MRR\\\\\n",
       "\\hline\n",
       "\t LFM1K       & II-B        & F           & 0.18379674  & 0.8234126   & 0.124055578\\\\\n",
       "\t LFM1K       & II-B        & M           & 0.13810004  & 0.7854049   & 0.077049650\\\\\n",
       "\t LFM1K       & II-B        & NA          & 0.14029112  & 0.7925350   & 0.063715005\\\\\n",
       "\t LFM1K       & II-C        & F           & 0.08752032  & 0.8395035   & 0.002545079\\\\\n",
       "\t LFM1K       & II-C        & M           & 0.08121656  & 0.7990015   & 0.002747112\\\\\n",
       "\t LFM1K       & II-C        & NA          & 0.08723427  & 0.8230358   & 0.004032184\\\\\n",
       "\\end{tabular}\n"
      ],
      "text/markdown": [
       "\n",
       "DataSet | Algorithm | gender | nDCG | Rank.nDCG | MRR | \n",
       "|---|---|---|---|---|---|\n",
       "| LFM1K       | II-B        | F           | 0.18379674  | 0.8234126   | 0.124055578 | \n",
       "| LFM1K       | II-B        | M           | 0.13810004  | 0.7854049   | 0.077049650 | \n",
       "| LFM1K       | II-B        | NA          | 0.14029112  | 0.7925350   | 0.063715005 | \n",
       "| LFM1K       | II-C        | F           | 0.08752032  | 0.8395035   | 0.002545079 | \n",
       "| LFM1K       | II-C        | M           | 0.08121656  | 0.7990015   | 0.002747112 | \n",
       "| LFM1K       | II-C        | NA          | 0.08723427  | 0.8230358   | 0.004032184 | \n",
       "\n",
       "\n"
      ],
      "text/plain": [
       "  DataSet Algorithm gender nDCG       Rank.nDCG MRR        \n",
       "1 LFM1K   II-B      F      0.18379674 0.8234126 0.124055578\n",
       "2 LFM1K   II-B      M      0.13810004 0.7854049 0.077049650\n",
       "3 LFM1K   II-B      NA     0.14029112 0.7925350 0.063715005\n",
       "4 LFM1K   II-C      F      0.08752032 0.8395035 0.002545079\n",
       "5 LFM1K   II-C      M      0.08121656 0.7990015 0.002747112\n",
       "6 LFM1K   II-C      NA     0.08723427 0.8230358 0.004032184"
      ]
     },
     "metadata": {},
     "output_type": "display_data"
    }
   ],
   "source": [
    "gender.results = user.results %>%\n",
    "    select(DataSet, Algorithm, gender, RecipRank, nDCG, Rank.nDCG) %>%\n",
    "    group_by(DataSet, Algorithm, gender) %>%\n",
    "    summarize(nDCG=mean(nDCG), Rank.nDCG=mean(Rank.nDCG), MRR=mean(RecipRank)) %>%\n",
    "    ungroup()\n",
    "head(gender.results)"
   ]
  },
  {
   "cell_type": "code",
   "execution_count": 28,
   "metadata": {},
   "outputs": [
    {
     "name": "stderr",
     "output_type": "stream",
     "text": [
      "Warning message in bind_rows_(x, .id):\n",
      "“binding factor and character vector, coercing into character vector”Joining, by = \"DataSet\"\n"
     ]
    },
    {
     "data": {
      "text/html": [
       "<table>\n",
       "<thead><tr><th scope=col>DataSet</th><th scope=col>Algorithm</th><th scope=col>gender</th><th scope=col>nDCG</th><th scope=col>Rank.nDCG</th><th scope=col>MRR</th><th scope=col>BestAlgo</th><th scope=col>IsBest</th></tr></thead>\n",
       "<tbody>\n",
       "\t<tr><td>LFM1K      </td><td>II-B       </td><td>F          </td><td>0.18379674 </td><td>0.8234126  </td><td>0.124055578</td><td>II-B       </td><td> TRUE      </td></tr>\n",
       "\t<tr><td>LFM1K      </td><td>II-B       </td><td>M          </td><td>0.13810004 </td><td>0.7854049  </td><td>0.077049650</td><td>II-B       </td><td> TRUE      </td></tr>\n",
       "\t<tr><td>LFM1K      </td><td>II-B       </td><td>NA         </td><td>0.14029112 </td><td>0.7925350  </td><td>0.063715005</td><td>II-B       </td><td> TRUE      </td></tr>\n",
       "\t<tr><td>LFM1K      </td><td>II-C       </td><td>F          </td><td>0.08752032 </td><td>0.8395035  </td><td>0.002545079</td><td>II-B       </td><td>FALSE      </td></tr>\n",
       "\t<tr><td>LFM1K      </td><td>II-C       </td><td>M          </td><td>0.08121656 </td><td>0.7990015  </td><td>0.002747112</td><td>II-B       </td><td>FALSE      </td></tr>\n",
       "\t<tr><td>LFM1K      </td><td>II-C       </td><td>NA         </td><td>0.08723427 </td><td>0.8230358  </td><td>0.004032184</td><td>II-B       </td><td>FALSE      </td></tr>\n",
       "</tbody>\n",
       "</table>\n"
      ],
      "text/latex": [
       "\\begin{tabular}{r|llllllll}\n",
       " DataSet & Algorithm & gender & nDCG & Rank.nDCG & MRR & BestAlgo & IsBest\\\\\n",
       "\\hline\n",
       "\t LFM1K       & II-B        & F           & 0.18379674  & 0.8234126   & 0.124055578 & II-B        &  TRUE      \\\\\n",
       "\t LFM1K       & II-B        & M           & 0.13810004  & 0.7854049   & 0.077049650 & II-B        &  TRUE      \\\\\n",
       "\t LFM1K       & II-B        & NA          & 0.14029112  & 0.7925350   & 0.063715005 & II-B        &  TRUE      \\\\\n",
       "\t LFM1K       & II-C        & F           & 0.08752032  & 0.8395035   & 0.002545079 & II-B        & FALSE      \\\\\n",
       "\t LFM1K       & II-C        & M           & 0.08121656  & 0.7990015   & 0.002747112 & II-B        & FALSE      \\\\\n",
       "\t LFM1K       & II-C        & NA          & 0.08723427  & 0.8230358   & 0.004032184 & II-B        & FALSE      \\\\\n",
       "\\end{tabular}\n"
      ],
      "text/markdown": [
       "\n",
       "DataSet | Algorithm | gender | nDCG | Rank.nDCG | MRR | BestAlgo | IsBest | \n",
       "|---|---|---|---|---|---|\n",
       "| LFM1K       | II-B        | F           | 0.18379674  | 0.8234126   | 0.124055578 | II-B        |  TRUE       | \n",
       "| LFM1K       | II-B        | M           | 0.13810004  | 0.7854049   | 0.077049650 | II-B        |  TRUE       | \n",
       "| LFM1K       | II-B        | NA          | 0.14029112  | 0.7925350   | 0.063715005 | II-B        |  TRUE       | \n",
       "| LFM1K       | II-C        | F           | 0.08752032  | 0.8395035   | 0.002545079 | II-B        | FALSE       | \n",
       "| LFM1K       | II-C        | M           | 0.08121656  | 0.7990015   | 0.002747112 | II-B        | FALSE       | \n",
       "| LFM1K       | II-C        | NA          | 0.08723427  | 0.8230358   | 0.004032184 | II-B        | FALSE       | \n",
       "\n",
       "\n"
      ],
      "text/plain": [
       "  DataSet Algorithm gender nDCG       Rank.nDCG MRR         BestAlgo IsBest\n",
       "1 LFM1K   II-B      F      0.18379674 0.8234126 0.124055578 II-B      TRUE \n",
       "2 LFM1K   II-B      M      0.13810004 0.7854049 0.077049650 II-B      TRUE \n",
       "3 LFM1K   II-B      NA     0.14029112 0.7925350 0.063715005 II-B      TRUE \n",
       "4 LFM1K   II-C      F      0.08752032 0.8395035 0.002545079 II-B     FALSE \n",
       "5 LFM1K   II-C      M      0.08121656 0.7990015 0.002747112 II-B     FALSE \n",
       "6 LFM1K   II-C      NA     0.08723427 0.8230358 0.004032184 II-B     FALSE "
      ]
     },
     "metadata": {},
     "output_type": "display_data"
    }
   ],
   "source": [
    "combined.results = bind_rows(gender.results,\n",
    "                             overall.results %>% mutate(gender = 'Any')) %>%\n",
    "    inner_join(best.algos %>% select(DataSet, BestAlgo)) %>%\n",
    "    mutate(IsBest = Algorithm == BestAlgo)\n",
    "head(combined.results)"
   ]
  },
  {
   "cell_type": "markdown",
   "metadata": {},
   "source": [
    "What does the nDCG look like?"
   ]
  },
  {
   "cell_type": "code",
   "execution_count": 29,
   "metadata": {},
   "outputs": [
    {
     "data": {},
     "metadata": {},
     "output_type": "display_data"
    },
    {
     "data": {
      "image/png": "[encoded data removed]",
      "text/plain": [
       "plot without title"
      ]
     },
     "metadata": {},
     "output_type": "display_data"
    }
   ],
   "source": [
    "ggplot(combined.results) +\n",
    "    aes(x=Algorithm, y=nDCG) +\n",
    "    geom_bar(stat=\"identity\") +\n",
    "    facet_grid(DataSet ~ gender, scales=\"free\") +\n",
    "    theme_paper() +\n",
    "    theme(axis.text.x = element_text(angle = 90, hjust = 1, vjust=0.5))"
   ]
  },
  {
   "cell_type": "code",
   "execution_count": 30,
   "metadata": {},
   "outputs": [
    {
     "data": {},
     "metadata": {},
     "output_type": "display_data"
    },
    {
     "data": {
      "image/png": "[encoded data removed]",
      "text/plain": [
       "plot without title"
      ]
     },
     "metadata": {},
     "output_type": "display_data"
    }
   ],
   "source": [
    "ggplot(combined.results) +\n",
    "    aes(x=Algorithm, y=MRR) +\n",
    "    geom_bar(stat=\"identity\") +\n",
    "    facet_grid(DataSet ~ gender, scales=\"free\") +\n",
    "    theme_paper() +\n",
    "    theme(axis.text.x = element_text(angle = 90, hjust = 1, vjust=0.5))"
   ]
  },
  {
   "cell_type": "markdown",
   "metadata": {},
   "source": [
    "For the paper, we need to split the nDCG plots into separate MovieLens and Last.FM charts."
   ]
  },
  {
   "cell_type": "code",
   "execution_count": 31,
   "metadata": {
    "scrolled": true
   },
   "outputs": [
    {
     "data": {},
     "metadata": {},
     "output_type": "display_data"
    },
    {
     "data": {
      "image/png": "[encoded data removed]",
      "text/plain": [
       "plot without title"
      ]
     },
     "metadata": {},
     "output_type": "display_data"
    }
   ],
   "source": [
    "make.plot(\"basic-gender-ndcg-lfm\", width=5.5, height=3, {\n",
    "    ggplot(combined.results %>% filter(startsWith(DataSet, \"LFM\"))) +\n",
    "        aes(x=gender, y=nDCG, fill=IsBest) +\n",
    "        geom_bar(stat=\"identity\") +\n",
    "        facet_grid(DataSet ~ Algorithm, scales=\"free\") +\n",
    "        scale_fill_manual(values=c(\"grey25\", \"firebrick4\")) +\n",
    "        guides(fill=FALSE) +\n",
    "        theme_paper() +\n",
    "        theme(axis.text.x = element_text(angle = 90, hjust = 1, vjust=0.5))\n",
    "})"
   ]
  },
  {
   "cell_type": "code",
   "execution_count": 32,
   "metadata": {},
   "outputs": [
    {
     "data": {},
     "metadata": {},
     "output_type": "display_data"
    },
    {
     "data": {
      "image/png": "[encoded data removed]",
      "text/plain": [
       "plot without title"
      ]
     },
     "metadata": {},
     "output_type": "display_data"
    }
   ],
   "source": [
    "make.plot(\"basic-gender-ndcg-ml\", width=5.5, height=1.9, {\n",
    "    ggplot(combined.results %>% filter(startsWith(DataSet, \"ML\"))) +\n",
    "        aes(x=gender, y=nDCG, fill=IsBest) +\n",
    "        geom_bar(stat=\"identity\") +\n",
    "        facet_grid(DataSet ~ Algorithm, scales=\"free\") +\n",
    "        scale_fill_manual(values=c(\"grey25\", \"firebrick4\")) +\n",
    "        guides(fill=FALSE) +\n",
    "        xlab(NULL) +\n",
    "        theme_paper() +\n",
    "        theme(axis.text.x = element_text(angle = 90, hjust = 1, vjust=0.5))\n",
    "})"
   ]
  },
  {
   "cell_type": "code",
   "execution_count": 33,
   "metadata": {},
   "outputs": [
    {
     "data": {},
     "metadata": {},
     "output_type": "display_data"
    },
    {
     "data": {
      "image/png": "[encoded data removed]",
      "text/plain": [
       "plot without title"
      ]
     },
     "metadata": {},
     "output_type": "display_data"
    }
   ],
   "source": [
    "make.plot(\"basic-gender-mrr-lfm\", width=5.5, height=3, {\n",
    "    ggplot(combined.results %>% filter(startsWith(DataSet, \"LFM\"))) +\n",
    "        aes(x=gender, y=MRR, fill=IsBest) +\n",
    "        geom_bar(stat=\"identity\") +\n",
    "        facet_grid(DataSet ~ Algorithm, scales=\"free\") +\n",
    "        scale_fill_manual(values=c(\"grey25\", \"firebrick4\")) +\n",
    "        guides(fill=FALSE) +\n",
    "        theme_paper() +\n",
    "        theme(axis.text.x = element_text(angle = 90, hjust = 1, vjust=0.5))\n",
    "})"
   ]
  },
  {
   "cell_type": "code",
   "execution_count": 34,
   "metadata": {},
   "outputs": [
    {
     "data": {},
     "metadata": {},
     "output_type": "display_data"
    },
    {
     "data": {
      "image/png": "[encoded data removed]",
      "text/plain": [
       "plot without title"
      ]
     },
     "metadata": {},
     "output_type": "display_data"
    }
   ],
   "source": [
    "make.plot(\"basic-gender-mrr-ml\", width=5.5, height=1.9, {\n",
    "    ggplot(combined.results %>% filter(startsWith(DataSet, \"ML\"))) +\n",
    "        aes(x=gender, y=MRR, fill=IsBest) +\n",
    "        geom_bar(stat=\"identity\") +\n",
    "        facet_grid(DataSet ~ Algorithm, scales=\"free\") +\n",
    "        scale_fill_manual(values=c(\"grey25\", \"firebrick4\")) +\n",
    "        guides(fill=FALSE) +\n",
    "        xlab(NULL) +\n",
    "        theme_paper() +\n",
    "        theme(axis.text.x = element_text(angle = 90, hjust = 1, vjust=0.5))\n",
    "})"
   ]
  },
  {
   "cell_type": "markdown",
   "metadata": {},
   "source": [
    "Signifcance testing! We tried ANOVA, and the assumptions were awful. So we will use the Kruskal-Wallis test.\n",
    "\n",
    "We want $p < 0.01$; with 10 comparisons (5 here, and another ~5 in the gender-balanced case) the Bonferonni correction says that we need $p < 0.002$ for individual tests."
   ]
  },
  {
   "cell_type": "code",
   "execution_count": 35,
   "metadata": {},
   "outputs": [
    {
     "data": {
      "text/plain": [
       "\n",
       "\tKruskal-Wallis rank sum test\n",
       "\n",
       "data:  nDCG by gender\n",
       "Kruskal-Wallis chi-squared = 11.589, df = 1, p-value = 0.0006633\n"
      ]
     },
     "metadata": {},
     "output_type": "display_data"
    }
   ],
   "source": [
    "kruskal.test(nDCG ~ gender, filter(best.results, DataSet == \"ML1M\"))"
   ]
  },
  {
   "cell_type": "code",
   "execution_count": 36,
   "metadata": {},
   "outputs": [
    {
     "data": {
      "text/plain": [
       "\n",
       "\tKruskal-Wallis rank sum test\n",
       "\n",
       "data:  nDCG by gender\n",
       "Kruskal-Wallis chi-squared = 30.572, df = 1, p-value = 3.217e-08\n"
      ]
     },
     "metadata": {},
     "output_type": "display_data"
    }
   ],
   "source": [
    "kruskal.test(nDCG ~ gender, filter(best.results, DataSet == \"LFM1K\"))"
   ]
  },
  {
   "cell_type": "code",
   "execution_count": 37,
   "metadata": {},
   "outputs": [
    {
     "data": {
      "text/plain": [
       "\n",
       "\tKruskal-Wallis rank sum test\n",
       "\n",
       "data:  nDCG by gender\n",
       "Kruskal-Wallis chi-squared = 5.5963, df = 1, p-value = 0.018\n"
      ]
     },
     "metadata": {},
     "output_type": "display_data"
    }
   ],
   "source": [
    "kruskal.test(nDCG ~ gender, filter(best.results, DataSet == \"LFM360K\"))"
   ]
  },
  {
   "cell_type": "markdown",
   "metadata": {},
   "source": [
    "## Age"
   ]
  },
  {
   "cell_type": "markdown",
   "metadata": {},
   "source": [
    "We now want to examine accuracy as a function of age. We're basically going to do the same thing we did for gender.\n",
    "\n",
    "Start by aggregating the results:"
   ]
  },
  {
   "cell_type": "code",
   "execution_count": 38,
   "metadata": {},
   "outputs": [
    {
     "data": {
      "text/html": [
       "<table>\n",
       "<thead><tr><th scope=col>DataSet</th><th scope=col>Algorithm</th><th scope=col>age</th><th scope=col>nDCG</th><th scope=col>Rank.nDCG</th><th scope=col>MRR</th></tr></thead>\n",
       "<tbody>\n",
       "\t<tr><td>LFM1K       </td><td>II-B        </td><td>1-17        </td><td>0.17420873  </td><td>0.7694089   </td><td>0.0688874556</td></tr>\n",
       "\t<tr><td>LFM1K       </td><td>II-B        </td><td>18-24       </td><td>0.14878506  </td><td>0.7792607   </td><td>0.0834104181</td></tr>\n",
       "\t<tr><td>LFM1K       </td><td>II-B        </td><td>25-34       </td><td>0.16296110  </td><td>0.8204166   </td><td>0.1085121334</td></tr>\n",
       "\t<tr><td>LFM1K       </td><td>II-B        </td><td>35-44       </td><td>0.11641423  </td><td>0.7537059   </td><td>0.0356717224</td></tr>\n",
       "\t<tr><td>LFM1K       </td><td>II-B        </td><td>45-49       </td><td>0.10672324  </td><td>0.7170978   </td><td>0.0051613160</td></tr>\n",
       "\t<tr><td>LFM1K       </td><td>II-B        </td><td>50-55       </td><td>0.07057164  </td><td>0.7959761   </td><td>0.0002644803</td></tr>\n",
       "</tbody>\n",
       "</table>\n"
      ],
      "text/latex": [
       "\\begin{tabular}{r|llllll}\n",
       " DataSet & Algorithm & age & nDCG & Rank.nDCG & MRR\\\\\n",
       "\\hline\n",
       "\t LFM1K        & II-B         & 1-17         & 0.17420873   & 0.7694089    & 0.0688874556\\\\\n",
       "\t LFM1K        & II-B         & 18-24        & 0.14878506   & 0.7792607    & 0.0834104181\\\\\n",
       "\t LFM1K        & II-B         & 25-34        & 0.16296110   & 0.8204166    & 0.1085121334\\\\\n",
       "\t LFM1K        & II-B         & 35-44        & 0.11641423   & 0.7537059    & 0.0356717224\\\\\n",
       "\t LFM1K        & II-B         & 45-49        & 0.10672324   & 0.7170978    & 0.0051613160\\\\\n",
       "\t LFM1K        & II-B         & 50-55        & 0.07057164   & 0.7959761    & 0.0002644803\\\\\n",
       "\\end{tabular}\n"
      ],
      "text/markdown": [
       "\n",
       "DataSet | Algorithm | age | nDCG | Rank.nDCG | MRR | \n",
       "|---|---|---|---|---|---|\n",
       "| LFM1K        | II-B         | 1-17         | 0.17420873   | 0.7694089    | 0.0688874556 | \n",
       "| LFM1K        | II-B         | 18-24        | 0.14878506   | 0.7792607    | 0.0834104181 | \n",
       "| LFM1K        | II-B         | 25-34        | 0.16296110   | 0.8204166    | 0.1085121334 | \n",
       "| LFM1K        | II-B         | 35-44        | 0.11641423   | 0.7537059    | 0.0356717224 | \n",
       "| LFM1K        | II-B         | 45-49        | 0.10672324   | 0.7170978    | 0.0051613160 | \n",
       "| LFM1K        | II-B         | 50-55        | 0.07057164   | 0.7959761    | 0.0002644803 | \n",
       "\n",
       "\n"
      ],
      "text/plain": [
       "  DataSet Algorithm age   nDCG       Rank.nDCG MRR         \n",
       "1 LFM1K   II-B      1-17  0.17420873 0.7694089 0.0688874556\n",
       "2 LFM1K   II-B      18-24 0.14878506 0.7792607 0.0834104181\n",
       "3 LFM1K   II-B      25-34 0.16296110 0.8204166 0.1085121334\n",
       "4 LFM1K   II-B      35-44 0.11641423 0.7537059 0.0356717224\n",
       "5 LFM1K   II-B      45-49 0.10672324 0.7170978 0.0051613160\n",
       "6 LFM1K   II-B      50-55 0.07057164 0.7959761 0.0002644803"
      ]
     },
     "metadata": {},
     "output_type": "display_data"
    }
   ],
   "source": [
    "age.results = user.results %>%\n",
    "    select(DataSet, Algorithm, age, RecipRank, nDCG, Rank.nDCG) %>%\n",
    "    group_by(DataSet, Algorithm, age) %>%\n",
    "    summarize(nDCG=mean(nDCG), Rank.nDCG=mean(Rank.nDCG), MRR=mean(RecipRank)) %>%\n",
    "    ungroup()\n",
    "head(age.results)"
   ]
  },
  {
   "cell_type": "code",
   "execution_count": 39,
   "metadata": {},
   "outputs": [
    {
     "name": "stderr",
     "output_type": "stream",
     "text": [
      "Warning message in bind_rows_(x, .id):\n",
      "“binding factor and character vector, coercing into character vector”Joining, by = \"DataSet\"\n"
     ]
    },
    {
     "data": {
      "text/html": [
       "<table>\n",
       "<thead><tr><th scope=col>DataSet</th><th scope=col>Algorithm</th><th scope=col>age</th><th scope=col>nDCG</th><th scope=col>Rank.nDCG</th><th scope=col>MRR</th><th scope=col>BestNDCG</th><th scope=col>BestAlgo</th><th scope=col>IsBest</th></tr></thead>\n",
       "<tbody>\n",
       "\t<tr><td>LFM1K       </td><td>II-B        </td><td>1-17        </td><td>0.17420873  </td><td>0.7694089   </td><td>0.0688874556</td><td>0.1558515   </td><td>II-B        </td><td>TRUE        </td></tr>\n",
       "\t<tr><td>LFM1K       </td><td>II-B        </td><td>18-24       </td><td>0.14878506  </td><td>0.7792607   </td><td>0.0834104181</td><td>0.1558515   </td><td>II-B        </td><td>TRUE        </td></tr>\n",
       "\t<tr><td>LFM1K       </td><td>II-B        </td><td>25-34       </td><td>0.16296110  </td><td>0.8204166   </td><td>0.1085121334</td><td>0.1558515   </td><td>II-B        </td><td>TRUE        </td></tr>\n",
       "\t<tr><td>LFM1K       </td><td>II-B        </td><td>35-44       </td><td>0.11641423  </td><td>0.7537059   </td><td>0.0356717224</td><td>0.1558515   </td><td>II-B        </td><td>TRUE        </td></tr>\n",
       "\t<tr><td>LFM1K       </td><td>II-B        </td><td>45-49       </td><td>0.10672324  </td><td>0.7170978   </td><td>0.0051613160</td><td>0.1558515   </td><td>II-B        </td><td>TRUE        </td></tr>\n",
       "\t<tr><td>LFM1K       </td><td>II-B        </td><td>50-55       </td><td>0.07057164  </td><td>0.7959761   </td><td>0.0002644803</td><td>0.1558515   </td><td>II-B        </td><td>TRUE        </td></tr>\n",
       "</tbody>\n",
       "</table>\n"
      ],
      "text/latex": [
       "\\begin{tabular}{r|lllllllll}\n",
       " DataSet & Algorithm & age & nDCG & Rank.nDCG & MRR & BestNDCG & BestAlgo & IsBest\\\\\n",
       "\\hline\n",
       "\t LFM1K        & II-B         & 1-17         & 0.17420873   & 0.7694089    & 0.0688874556 & 0.1558515    & II-B         & TRUE        \\\\\n",
       "\t LFM1K        & II-B         & 18-24        & 0.14878506   & 0.7792607    & 0.0834104181 & 0.1558515    & II-B         & TRUE        \\\\\n",
       "\t LFM1K        & II-B         & 25-34        & 0.16296110   & 0.8204166    & 0.1085121334 & 0.1558515    & II-B         & TRUE        \\\\\n",
       "\t LFM1K        & II-B         & 35-44        & 0.11641423   & 0.7537059    & 0.0356717224 & 0.1558515    & II-B         & TRUE        \\\\\n",
       "\t LFM1K        & II-B         & 45-49        & 0.10672324   & 0.7170978    & 0.0051613160 & 0.1558515    & II-B         & TRUE        \\\\\n",
       "\t LFM1K        & II-B         & 50-55        & 0.07057164   & 0.7959761    & 0.0002644803 & 0.1558515    & II-B         & TRUE        \\\\\n",
       "\\end{tabular}\n"
      ],
      "text/markdown": [
       "\n",
       "DataSet | Algorithm | age | nDCG | Rank.nDCG | MRR | BestNDCG | BestAlgo | IsBest | \n",
       "|---|---|---|---|---|---|\n",
       "| LFM1K        | II-B         | 1-17         | 0.17420873   | 0.7694089    | 0.0688874556 | 0.1558515    | II-B         | TRUE         | \n",
       "| LFM1K        | II-B         | 18-24        | 0.14878506   | 0.7792607    | 0.0834104181 | 0.1558515    | II-B         | TRUE         | \n",
       "| LFM1K        | II-B         | 25-34        | 0.16296110   | 0.8204166    | 0.1085121334 | 0.1558515    | II-B         | TRUE         | \n",
       "| LFM1K        | II-B         | 35-44        | 0.11641423   | 0.7537059    | 0.0356717224 | 0.1558515    | II-B         | TRUE         | \n",
       "| LFM1K        | II-B         | 45-49        | 0.10672324   | 0.7170978    | 0.0051613160 | 0.1558515    | II-B         | TRUE         | \n",
       "| LFM1K        | II-B         | 50-55        | 0.07057164   | 0.7959761    | 0.0002644803 | 0.1558515    | II-B         | TRUE         | \n",
       "\n",
       "\n"
      ],
      "text/plain": [
       "  DataSet Algorithm age   nDCG       Rank.nDCG MRR          BestNDCG  BestAlgo\n",
       "1 LFM1K   II-B      1-17  0.17420873 0.7694089 0.0688874556 0.1558515 II-B    \n",
       "2 LFM1K   II-B      18-24 0.14878506 0.7792607 0.0834104181 0.1558515 II-B    \n",
       "3 LFM1K   II-B      25-34 0.16296110 0.8204166 0.1085121334 0.1558515 II-B    \n",
       "4 LFM1K   II-B      35-44 0.11641423 0.7537059 0.0356717224 0.1558515 II-B    \n",
       "5 LFM1K   II-B      45-49 0.10672324 0.7170978 0.0051613160 0.1558515 II-B    \n",
       "6 LFM1K   II-B      50-55 0.07057164 0.7959761 0.0002644803 0.1558515 II-B    \n",
       "  IsBest\n",
       "1 TRUE  \n",
       "2 TRUE  \n",
       "3 TRUE  \n",
       "4 TRUE  \n",
       "5 TRUE  \n",
       "6 TRUE  "
      ]
     },
     "metadata": {},
     "output_type": "display_data"
    }
   ],
   "source": [
    "age.combined.results = bind_rows(age.results, overall.results %>% mutate(age = 'Any')) %>%\n",
    "    inner_join(best.algos) %>%\n",
    "    mutate(IsBest = Algorithm == BestAlgo)\n",
    "head(age.combined.results)"
   ]
  },
  {
   "cell_type": "markdown",
   "metadata": {},
   "source": [
    "And then we can plot them:"
   ]
  },
  {
   "cell_type": "code",
   "execution_count": 40,
   "metadata": {},
   "outputs": [
    {
     "data": {},
     "metadata": {},
     "output_type": "display_data"
    },
    {
     "data": {
      "image/png": "[encoded data removed]",
      "text/plain": [
       "plot without title"
      ]
     },
     "metadata": {},
     "output_type": "display_data"
    }
   ],
   "source": [
    "ggplot(age.combined.results) +\n",
    "    aes(x=Algorithm, y=nDCG) +\n",
    "    geom_bar(stat=\"identity\") +\n",
    "    facet_grid(DataSet ~ age, scales=\"free\") +\n",
    "    theme_paper() +\n",
    "    theme(axis.text.x = element_text(angle = 90, hjust = 1, vjust=0.5))"
   ]
  },
  {
   "cell_type": "code",
   "execution_count": 41,
   "metadata": {},
   "outputs": [
    {
     "data": {},
     "metadata": {},
     "output_type": "display_data"
    },
    {
     "data": {
      "image/png": "[encoded data removed]",
      "text/plain": [
       "plot without title"
      ]
     },
     "metadata": {},
     "output_type": "display_data"
    }
   ],
   "source": [
    "ggplot(age.combined.results) +\n",
    "    aes(x=Algorithm, y=MRR) +\n",
    "    geom_bar(stat=\"identity\") +\n",
    "    facet_grid(DataSet ~ age, scales=\"free\") +\n",
    "    theme_paper() +\n",
    "    theme(axis.text.x = element_text(angle = 90, hjust = 1, vjust=0.5))"
   ]
  },
  {
   "cell_type": "markdown",
   "metadata": {},
   "source": [
    "Let's split apart for the paper though."
   ]
  },
  {
   "cell_type": "code",
   "execution_count": 42,
   "metadata": {
    "scrolled": false
   },
   "outputs": [
    {
     "data": {},
     "metadata": {},
     "output_type": "display_data"
    },
    {
     "data": {
      "image/png": "[encoded data removed]",
      "text/plain": [
       "plot without title"
      ]
     },
     "metadata": {},
     "output_type": "display_data"
    }
   ],
   "source": [
    "make.plot(\"basic-age-ndcg-lfm\", width=9, height=2.1, {\n",
    "    ggplot(age.combined.results %>% filter(DataSet == \"LFM360K\")) +\n",
    "        aes(x=age, y=nDCG, fill=IsBest) +\n",
    "        geom_bar(stat=\"identity\") +\n",
    "        facet_grid(DataSet ~ Algorithm, scales=\"free\") +\n",
    "        scale_fill_manual(values=c(\"grey25\", \"firebrick4\")) +\n",
    "        guides(fill=FALSE) +\n",
    "        theme_paper() +\n",
    "        theme(axis.text.x = element_text(angle = 90, hjust = 1, vjust=0.5))\n",
    "})"
   ]
  },
  {
   "cell_type": "code",
   "execution_count": 43,
   "metadata": {},
   "outputs": [
    {
     "data": {},
     "metadata": {},
     "output_type": "display_data"
    },
    {
     "data": {
      "image/png": "[encoded data removed]",
      "text/plain": [
       "plot without title"
      ]
     },
     "metadata": {},
     "output_type": "display_data"
    }
   ],
   "source": [
    "make.plot(\"basic-age-ndcg-ml\", width=9, height=1.9, {\n",
    "    ggplot(age.combined.results %>% filter(startsWith(DataSet, \"ML\"))) +\n",
    "        aes(x=age, y=nDCG, fill=IsBest) +\n",
    "        geom_bar(stat=\"identity\") +\n",
    "        facet_grid(DataSet ~ Algorithm, scales=\"free\") +\n",
    "        scale_fill_manual(values=c(\"grey25\", \"firebrick4\")) +\n",
    "        guides(fill=FALSE) +\n",
    "        xlab(NULL) +\n",
    "        theme_paper() +\n",
    "        theme(axis.text.x = element_text(angle = 90, hjust = 1, vjust=0.5))\n",
    "})"
   ]
  },
  {
   "cell_type": "code",
   "execution_count": 44,
   "metadata": {
    "scrolled": false
   },
   "outputs": [
    {
     "data": {},
     "metadata": {},
     "output_type": "display_data"
    },
    {
     "data": {
      "image/png": "[encoded data removed]",
      "text/plain": [
       "plot without title"
      ]
     },
     "metadata": {},
     "output_type": "display_data"
    }
   ],
   "source": [
    "make.plot(\"basic-age-mrr-lfm\", width=9, height=2.1, {\n",
    "    ggplot(age.combined.results %>% filter(DataSet == \"LFM360K\")) +\n",
    "        aes(x=age, y=MRR, fill=IsBest) +\n",
    "        geom_bar(stat=\"identity\") +\n",
    "        facet_grid(DataSet ~ Algorithm, scales=\"free\") +\n",
    "        scale_fill_manual(values=c(\"grey25\", \"firebrick4\")) +\n",
    "        guides(fill=FALSE) +\n",
    "        theme_paper() +\n",
    "        theme(axis.text.x = element_text(angle = 90, hjust = 1, vjust=0.5))\n",
    "})"
   ]
  },
  {
   "cell_type": "code",
   "execution_count": 45,
   "metadata": {},
   "outputs": [
    {
     "data": {},
     "metadata": {},
     "output_type": "display_data"
    },
    {
     "data": {
      "image/png": "[encoded data removed]",
      "text/plain": [
       "plot without title"
      ]
     },
     "metadata": {},
     "output_type": "display_data"
    }
   ],
   "source": [
    "make.plot(\"basic-age-mrr-ml\", width=9, height=1.9, {\n",
    "    ggplot(age.combined.results %>% filter(startsWith(DataSet, \"ML\"))) +\n",
    "        aes(x=age, y=MRR, fill=IsBest) +\n",
    "        geom_bar(stat=\"identity\") +\n",
    "        facet_grid(DataSet ~ Algorithm, scales=\"free\") +\n",
    "        scale_fill_manual(values=c(\"grey25\", \"firebrick4\")) +\n",
    "        guides(fill=FALSE) +\n",
    "        xlab(NULL) +\n",
    "        theme_paper() +\n",
    "        theme(axis.text.x = element_text(angle = 90, hjust = 1, vjust=0.5))\n",
    "})"
   ]
  },
  {
   "cell_type": "markdown",
   "metadata": {},
   "source": [
    "Let's significance-test these results."
   ]
  },
  {
   "cell_type": "code",
   "execution_count": 76,
   "metadata": {},
   "outputs": [
    {
     "data": {
      "text/plain": [
       "\n",
       "\tKruskal-Wallis rank sum test\n",
       "\n",
       "data:  nDCG by age\n",
       "Kruskal-Wallis chi-squared = 4.4828, df = 6, p-value = 0.6116\n"
      ]
     },
     "metadata": {},
     "output_type": "display_data"
    }
   ],
   "source": [
    "kruskal.test(nDCG ~ age, filter(best.results, DataSet == \"ML1M\"))"
   ]
  },
  {
   "cell_type": "code",
   "execution_count": 77,
   "metadata": {},
   "outputs": [
    {
     "data": {
      "text/plain": [
       "\n",
       "\tKruskal-Wallis rank sum test\n",
       "\n",
       "data:  nDCG by age\n",
       "Kruskal-Wallis chi-squared = 95.66, df = 6, p-value < 2.2e-16\n"
      ]
     },
     "metadata": {},
     "output_type": "display_data"
    }
   ],
   "source": [
    "kruskal.test(nDCG ~ age, filter(best.results, DataSet == \"LFM360K\"))"
   ]
  },
  {
   "cell_type": "code",
   "execution_count": null,
   "metadata": {
    "collapsed": true
   },
   "outputs": [],
   "source": []
  }
 ],
 "metadata": {
  "kernelspec": {
   "display_name": "R",
   "language": "R",
   "name": "ir"
  },
  "language_info": {
   "codemirror_mode": "r",
   "file_extension": ".r",
   "mimetype": "text/x-r-source",
   "name": "R",
   "pygments_lexer": "r",
   "version": "3.3.2"
  }
 },
 "nbformat": 4,
 "nbformat_minor": 2
}
