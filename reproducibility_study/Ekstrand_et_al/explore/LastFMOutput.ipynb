{
 "cells": [
  {
   "cell_type": "markdown",
   "metadata": {},
   "source": [
    "# LastFM Output Analysis\n",
    "\n",
    "This notebook contains our analysis of the recommender evaluation results.\n",
    "\n",
    "It proceeds in a few steps:\n",
    "\n",
    "1. [Setup](#Setup), where we do the initial R configuration\n",
    "2. [Read Data](#Read-Data), where we load in the experiment data for analysis\n",
    "3. [Controlling for Profile Size](#Controlling-for-Profile-Size), where we model accuracy as a function of user profile size in order to control for intrinsic profile difficulty\n",
    "4. [Gender](#Gender), where we analyze the results by gender.\n",
    "5. [Age](#Age), where we analyze the results by age."
   ]
  },
  {
   "cell_type": "markdown",
   "metadata": {},
   "source": [
    "## Setup\n",
    "\n",
    "Libraries:"
   ]
  },
  {
   "cell_type": "code",
   "execution_count": 1,
   "metadata": {},
   "outputs": [
    {
     "name": "stderr",
     "output_type": "stream",
     "text": [
      "Loading required package: foreach\n",
      "Loading required package: iterators\n",
      "Loading required package: parallel\n",
      "\n",
      "Attaching package: ‘dplyr’\n",
      "\n",
      "The following objects are masked from ‘package:plyr’:\n",
      "\n",
      "    arrange, count, desc, failwith, id, mutate, rename, summarise,\n",
      "    summarize\n",
      "\n",
      "The following objects are masked from ‘package:stats’:\n",
      "\n",
      "    filter, lag\n",
      "\n",
      "The following objects are masked from ‘package:base’:\n",
      "\n",
      "    intersect, setdiff, setequal, union\n",
      "\n"
     ]
    }
   ],
   "source": [
    "library(plyr)\n",
    "library(dplyr)\n",
    "library(readr)\n",
    "library(ggplot2)\n",
    "library(tidyr)\n",
    "library(modelr)\n",
    "library(tibble)\n",
    "source(\"plot-tools.R\")"
   ]
  },
  {
   "cell_type": "markdown",
   "metadata": {},
   "source": [
    "Options:"
   ]
  },
  {
   "cell_type": "code",
   "execution_count": 3,
   "metadata": {
    "collapsed": true
   },
   "outputs": [],
   "source": [
    "options(repr.plot.height=5)\n",
    "options(repr.matrix.max.rows=10)\n",
    "options(repr.matrix.max.columns=10)"
   ]
  },
  {
   "cell_type": "markdown",
   "metadata": {},
   "source": [
    "Copy in the `bound_ages` function from the input analysis:"
   ]
  },
  {
   "cell_type": "code",
   "execution_count": 4,
   "metadata": {
    "collapsed": true
   },
   "outputs": [],
   "source": [
    "ml_age_lbs = c(1, 18, 25, 35, 45, 50, 56)\n",
    "bound_ages = function(ages, bounds=ml_age_lbs) {\n",
    "    ages[ages <= 0] = NA\n",
    "    selectors = rowSums(outer(ages, ml_age_lbs, \">=\"))\n",
    "    factor(ml_age_lbs[selectors], levels=as.character(bounds))\n",
    "}"
   ]
  },
  {
   "cell_type": "markdown",
   "metadata": {},
   "source": [
    "## Read Data\n",
    "\n",
    "First, we need to read the user data from the underlying Last.FM data:"
   ]
  },
  {
   "cell_type": "code",
   "execution_count": 5,
   "metadata": {},
   "outputs": [
    {
     "name": "stderr",
     "output_type": "stream",
     "text": [
      "Parsed with column specification:\n",
      "cols(\n",
      "  id = col_integer(),\n",
      "  key = col_character(),\n",
      "  gender = col_character(),\n",
      "  age = col_integer()\n",
      ")\n"
     ]
    },
    {
     "data": {
      "text/html": [
       "<table>\n",
       "<thead><tr><th scope=col>user</th><th scope=col>gender</th><th scope=col>age</th></tr></thead>\n",
       "<tbody>\n",
       "\t<tr><td>1 </td><td>F </td><td>18</td></tr>\n",
       "\t<tr><td>2 </td><td>F </td><td>NA</td></tr>\n",
       "\t<tr><td>3 </td><td>NA</td><td>NA</td></tr>\n",
       "\t<tr><td>4 </td><td>M </td><td>18</td></tr>\n",
       "\t<tr><td>5 </td><td>M </td><td>25</td></tr>\n",
       "\t<tr><td>⋮</td><td>⋮</td><td>⋮</td></tr>\n",
       "\t<tr><td>359343</td><td>M     </td><td>25    </td></tr>\n",
       "\t<tr><td>359344</td><td>M     </td><td>25    </td></tr>\n",
       "\t<tr><td>359345</td><td>M     </td><td>18    </td></tr>\n",
       "\t<tr><td>359346</td><td>M     </td><td>18    </td></tr>\n",
       "\t<tr><td>359347</td><td>M     </td><td>18    </td></tr>\n",
       "</tbody>\n",
       "</table>\n"
      ],
      "text/latex": [
       "\\begin{tabular}{r|lll}\n",
       " user & gender & age\\\\\n",
       "\\hline\n",
       "\t 1  & F  & 18\\\\\n",
       "\t 2  & F  & NA\\\\\n",
       "\t 3  & NA & NA\\\\\n",
       "\t 4  & M  & 18\\\\\n",
       "\t 5  & M  & 25\\\\\n",
       "\t ⋮ & ⋮ & ⋮\\\\\n",
       "\t 359343 & M      & 25    \\\\\n",
       "\t 359344 & M      & 25    \\\\\n",
       "\t 359345 & M      & 18    \\\\\n",
       "\t 359346 & M      & 18    \\\\\n",
       "\t 359347 & M      & 18    \\\\\n",
       "\\end{tabular}\n"
      ],
      "text/markdown": [
       "\n",
       "user | gender | age | \n",
       "|---|---|---|---|---|---|---|---|---|---|---|\n",
       "| 1  | F  | 18 | \n",
       "| 2  | F  | NA | \n",
       "| 3  | NA | NA | \n",
       "| 4  | M  | 18 | \n",
       "| 5  | M  | 25 | \n",
       "| ⋮ | ⋮ | ⋮ | \n",
       "| 359343 | M      | 25     | \n",
       "| 359344 | M      | 25     | \n",
       "| 359345 | M      | 18     | \n",
       "| 359346 | M      | 18     | \n",
       "| 359347 | M      | 18     | \n",
       "\n",
       "\n"
      ],
      "text/plain": [
       "       user   gender age\n",
       "1      1      F      18 \n",
       "2      2      F      NA \n",
       "3      3      NA     NA \n",
       "4      4      M      18 \n",
       "5      5      M      25 \n",
       "⋮      ⋮      ⋮      ⋮  \n",
       "359343 359343 M      25 \n",
       "359344 359344 M      25 \n",
       "359345 359345 M      18 \n",
       "359346 359346 M      18 \n",
       "359347 359347 M      18 "
      ]
     },
     "metadata": {},
     "output_type": "display_data"
    }
   ],
   "source": [
    "users.meta.360k = read_csv(\"build/lastfm-users.csv\") %>%\n",
    "    mutate(gender=as.factor(toupper(gender)),\n",
    "           age=bound_ages(if_else(age > 0, age, as.integer(NA)))) %>%\n",
    "    select(user=id, gender, age)\n",
    "users.meta.360k"
   ]
  },
  {
   "cell_type": "code",
   "execution_count": 6,
   "metadata": {},
   "outputs": [
    {
     "name": "stderr",
     "output_type": "stream",
     "text": [
      "Parsed with column specification:\n",
      "cols(\n",
      "  id = col_integer(),\n",
      "  gender = col_character(),\n",
      "  age = col_integer()\n",
      ")\n"
     ]
    },
    {
     "data": {
      "text/html": [
       "<table>\n",
       "<thead><tr><th scope=col>user</th><th scope=col>gender</th><th scope=col>age</th></tr></thead>\n",
       "<tbody>\n",
       "\t<tr><td>1 </td><td>M </td><td>NA</td></tr>\n",
       "\t<tr><td>2 </td><td>F </td><td>NA</td></tr>\n",
       "\t<tr><td>3 </td><td>M </td><td>18</td></tr>\n",
       "\t<tr><td>4 </td><td>F </td><td>NA</td></tr>\n",
       "\t<tr><td>5 </td><td>M </td><td>NA</td></tr>\n",
       "\t<tr><td>⋮</td><td>⋮</td><td>⋮</td></tr>\n",
       "\t<tr><td>988</td><td>F  </td><td>NA </td></tr>\n",
       "\t<tr><td>989</td><td>M  </td><td>NA </td></tr>\n",
       "\t<tr><td>990</td><td>M  </td><td>NA </td></tr>\n",
       "\t<tr><td>991</td><td>F  </td><td>NA </td></tr>\n",
       "\t<tr><td>992</td><td>M  </td><td>NA </td></tr>\n",
       "</tbody>\n",
       "</table>\n"
      ],
      "text/latex": [
       "\\begin{tabular}{r|lll}\n",
       " user & gender & age\\\\\n",
       "\\hline\n",
       "\t 1  & M  & NA\\\\\n",
       "\t 2  & F  & NA\\\\\n",
       "\t 3  & M  & 18\\\\\n",
       "\t 4  & F  & NA\\\\\n",
       "\t 5  & M  & NA\\\\\n",
       "\t ⋮ & ⋮ & ⋮\\\\\n",
       "\t 988 & F   & NA \\\\\n",
       "\t 989 & M   & NA \\\\\n",
       "\t 990 & M   & NA \\\\\n",
       "\t 991 & F   & NA \\\\\n",
       "\t 992 & M   & NA \\\\\n",
       "\\end{tabular}\n"
      ],
      "text/markdown": [
       "\n",
       "user | gender | age | \n",
       "|---|---|---|---|---|---|---|---|---|---|---|\n",
       "| 1  | M  | NA | \n",
       "| 2  | F  | NA | \n",
       "| 3  | M  | 18 | \n",
       "| 4  | F  | NA | \n",
       "| 5  | M  | NA | \n",
       "| ⋮ | ⋮ | ⋮ | \n",
       "| 988 | F   | NA  | \n",
       "| 989 | M   | NA  | \n",
       "| 990 | M   | NA  | \n",
       "| 991 | F   | NA  | \n",
       "| 992 | M   | NA  | \n",
       "\n",
       "\n"
      ],
      "text/plain": [
       "    user gender age\n",
       "1   1    M      NA \n",
       "2   2    F      NA \n",
       "3   3    M      18 \n",
       "4   4    F      NA \n",
       "5   5    M      NA \n",
       "⋮   ⋮    ⋮      ⋮  \n",
       "988 988  F      NA \n",
       "989 989  M      NA \n",
       "990 990  M      NA \n",
       "991 991  F      NA \n",
       "992 992  M      NA "
      ]
     },
     "metadata": {},
     "output_type": "display_data"
    }
   ],
   "source": [
    "users.meta.1k = read_csv(\"build/lfm1k-users.csv\") %>%\n",
    "    mutate(gender=as.factor(toupper(gender)),\n",
    "           age=bound_ages(if_else(age > 0, age, as.integer(NA)))) %>%\n",
    "    select(user=id, gender, age)\n",
    "users.meta.1k"
   ]
  },
  {
   "cell_type": "code",
   "execution_count": 7,
   "metadata": {
    "collapsed": true
   },
   "outputs": [],
   "source": [
    "users.meta = bind_rows(LFM360K=users.meta.360k, LFM1K=users.meta.1k, .id=\"DataSet\")"
   ]
  },
  {
   "cell_type": "markdown",
   "metadata": {},
   "source": [
    "Now, we want to get user profile statistics. In order to do that, we need each user's train profile; we can load that from the training data output by the cross-folding process.\n",
    "\n",
    "For each partition, we need to load the _train ratings_ (historical profile) for all the _test users_ in that partition. So we will load the test data (to get the users) and the train data (to get the histories), then merge them."
   ]
  },
  {
   "cell_type": "code",
   "execution_count": 8,
   "metadata": {},
   "outputs": [
    {
     "name": "stderr",
     "output_type": "stream",
     "text": [
      "reading part 1\n",
      "Joining, by = \"user\"\n",
      "reading part 2\n",
      "Joining, by = \"user\"\n",
      "reading part 3\n",
      "Joining, by = \"user\"\n",
      "reading part 4\n",
      "Joining, by = \"user\"\n",
      "reading part 5\n",
      "Joining, by = \"user\"\n"
     ]
    },
    {
     "data": {
      "text/html": [
       "<table>\n",
       "<thead><tr><th scope=col>user</th><th scope=col>part</th><th scope=col>item</th><th scope=col>count</th></tr></thead>\n",
       "<tbody>\n",
       "\t<tr><td>51  </td><td>1   </td><td> 417</td><td>1162</td></tr>\n",
       "\t<tr><td>51  </td><td>1   </td><td> 278</td><td> 365</td></tr>\n",
       "\t<tr><td>51  </td><td>1   </td><td> 355</td><td> 320</td></tr>\n",
       "\t<tr><td>51  </td><td>1   </td><td>1753</td><td> 246</td></tr>\n",
       "\t<tr><td>51  </td><td>1   </td><td>1491</td><td> 218</td></tr>\n",
       "\t<tr><td>51  </td><td>1   </td><td>1754</td><td> 202</td></tr>\n",
       "</tbody>\n",
       "</table>\n"
      ],
      "text/latex": [
       "\\begin{tabular}{r|llll}\n",
       " user & part & item & count\\\\\n",
       "\\hline\n",
       "\t 51   & 1    &  417 & 1162\\\\\n",
       "\t 51   & 1    &  278 &  365\\\\\n",
       "\t 51   & 1    &  355 &  320\\\\\n",
       "\t 51   & 1    & 1753 &  246\\\\\n",
       "\t 51   & 1    & 1491 &  218\\\\\n",
       "\t 51   & 1    & 1754 &  202\\\\\n",
       "\\end{tabular}\n"
      ],
      "text/markdown": [
       "\n",
       "user | part | item | count | \n",
       "|---|---|---|---|---|---|\n",
       "| 51   | 1    |  417 | 1162 | \n",
       "| 51   | 1    |  278 |  365 | \n",
       "| 51   | 1    |  355 |  320 | \n",
       "| 51   | 1    | 1753 |  246 | \n",
       "| 51   | 1    | 1491 |  218 | \n",
       "| 51   | 1    | 1754 |  202 | \n",
       "\n",
       "\n"
      ],
      "text/plain": [
       "  user part item count\n",
       "1 51   1     417 1162 \n",
       "2 51   1     278  365 \n",
       "3 51   1     355  320 \n",
       "4 51   1    1753  246 \n",
       "5 51   1    1491  218 \n",
       "6 51   1    1754  202 "
      ]
     },
     "metadata": {},
     "output_type": "display_data"
    }
   ],
   "source": [
    "train.ratings.360k = ldply(1:5, function(part) {\n",
    "    message(\"reading part \", part)\n",
    "    test.fn = sprintf(\"build/lastfm-splits/u.part%d.test.csv\", part)\n",
    "    train.fn = sprintf(\"build/lastfm-splits/u.part%d.train.csv\", part)\n",
    "    test = suppressMessages(read_csv(test.fn))\n",
    "    train = suppressMessages(read_csv(train.fn))\n",
    "    test %>%\n",
    "        select(user) %>%\n",
    "        distinct() %>%\n",
    "        mutate(part=as.factor(part)) %>%\n",
    "        inner_join(train)\n",
    "})\n",
    "head(train.ratings.360k)"
   ]
  },
  {
   "cell_type": "code",
   "execution_count": 9,
   "metadata": {},
   "outputs": [
    {
     "name": "stderr",
     "output_type": "stream",
     "text": [
      "reading part 1\n",
      "Joining, by = \"user\"\n",
      "reading part 2\n",
      "Joining, by = \"user\"\n",
      "reading part 3\n",
      "Joining, by = \"user\"\n",
      "reading part 4\n",
      "Joining, by = \"user\"\n",
      "reading part 5\n",
      "Joining, by = \"user\"\n"
     ]
    },
    {
     "data": {
      "text/html": [
       "<table>\n",
       "<thead><tr><th scope=col>user</th><th scope=col>part</th><th scope=col>item</th><th scope=col>count</th></tr></thead>\n",
       "<tbody>\n",
       "\t<tr><td>3   </td><td>1   </td><td>2174</td><td>8   </td></tr>\n",
       "\t<tr><td>3   </td><td>1   </td><td>2167</td><td>3   </td></tr>\n",
       "\t<tr><td>3   </td><td>1   </td><td>2426</td><td>3   </td></tr>\n",
       "\t<tr><td>3   </td><td>1   </td><td>2143</td><td>7   </td></tr>\n",
       "\t<tr><td>3   </td><td>1   </td><td>2179</td><td>1   </td></tr>\n",
       "\t<tr><td>3   </td><td>1   </td><td>2683</td><td>7   </td></tr>\n",
       "</tbody>\n",
       "</table>\n"
      ],
      "text/latex": [
       "\\begin{tabular}{r|llll}\n",
       " user & part & item & count\\\\\n",
       "\\hline\n",
       "\t 3    & 1    & 2174 & 8   \\\\\n",
       "\t 3    & 1    & 2167 & 3   \\\\\n",
       "\t 3    & 1    & 2426 & 3   \\\\\n",
       "\t 3    & 1    & 2143 & 7   \\\\\n",
       "\t 3    & 1    & 2179 & 1   \\\\\n",
       "\t 3    & 1    & 2683 & 7   \\\\\n",
       "\\end{tabular}\n"
      ],
      "text/markdown": [
       "\n",
       "user | part | item | count | \n",
       "|---|---|---|---|---|---|\n",
       "| 3    | 1    | 2174 | 8    | \n",
       "| 3    | 1    | 2167 | 3    | \n",
       "| 3    | 1    | 2426 | 3    | \n",
       "| 3    | 1    | 2143 | 7    | \n",
       "| 3    | 1    | 2179 | 1    | \n",
       "| 3    | 1    | 2683 | 7    | \n",
       "\n",
       "\n"
      ],
      "text/plain": [
       "  user part item count\n",
       "1 3    1    2174 8    \n",
       "2 3    1    2167 3    \n",
       "3 3    1    2426 3    \n",
       "4 3    1    2143 7    \n",
       "5 3    1    2179 1    \n",
       "6 3    1    2683 7    "
      ]
     },
     "metadata": {},
     "output_type": "display_data"
    }
   ],
   "source": [
    "train.ratings.1k = ldply(1:5, function(part) {\n",
    "    message(\"reading part \", part)\n",
    "    test.fn = sprintf(\"build/lfm1k-splits/u.part%d.test.csv\", part)\n",
    "    train.fn = sprintf(\"build/lfm1k-splits/u.part%d.train.csv\", part)\n",
    "    test = suppressMessages(read_csv(test.fn))\n",
    "    train = suppressMessages(read_csv(train.fn))\n",
    "    test %>%\n",
    "        select(user) %>%\n",
    "        distinct() %>%\n",
    "        mutate(part=as.factor(part)) %>%\n",
    "        inner_join(train)\n",
    "})\n",
    "head(train.ratings.1k)"
   ]
  },
  {
   "cell_type": "code",
   "execution_count": 10,
   "metadata": {
    "collapsed": true
   },
   "outputs": [],
   "source": [
    "train.ratings =\n",
    "    bind_rows(LFM360K = train.ratings.360k,\n",
    "              LFM1K = train.ratings.1k,\n",
    "              .id=\"DataSet\") %>%\n",
    "    mutate(DataSet = as.factor(DataSet))"
   ]
  },
  {
   "cell_type": "markdown",
   "metadata": {},
   "source": [
    "Quick summary just to see what this data looks like:"
   ]
  },
  {
   "cell_type": "code",
   "execution_count": 11,
   "metadata": {},
   "outputs": [
    {
     "data": {
      "text/plain": [
       "    DataSet        part           count         \n",
       " LFM1K  : 899662   1:398641   Min.   :     1.0  \n",
       " LFM360K:1097307   2:390195   1st Qu.:     3.0  \n",
       "                   3:407456   Median :    26.0  \n",
       "                   4:397234   Mean   :   128.3  \n",
       "                   5:403443   3rd Qu.:   122.0  \n",
       "                              Max.   :134993.0  "
      ]
     },
     "metadata": {},
     "output_type": "display_data"
    }
   ],
   "source": [
    "train.ratings %>%\n",
    "    select(DataSet, part, count) %>%\n",
    "    summary()"
   ]
  },
  {
   "cell_type": "markdown",
   "metadata": {},
   "source": [
    "Now we want to compute per-user profile statistics:"
   ]
  },
  {
   "cell_type": "code",
   "execution_count": 12,
   "metadata": {},
   "outputs": [
    {
     "data": {
      "text/html": [
       "<table>\n",
       "<thead><tr><th scope=col>DataSet</th><th scope=col>user</th><th scope=col>nartists</th><th scope=col>meanPlays</th><th scope=col>medPlays</th><th scope=col>totalPlays</th></tr></thead>\n",
       "<tbody>\n",
       "\t<tr><td>LFM1K   </td><td>1       </td><td> 658    </td><td>25.16109</td><td>4       </td><td>16556   </td></tr>\n",
       "\t<tr><td>LFM1K   </td><td>2       </td><td>1287    </td><td>44.30148</td><td>5       </td><td>57016   </td></tr>\n",
       "\t<tr><td>LFM1K   </td><td>3       </td><td> 940    </td><td>20.65106</td><td>4       </td><td>19412   </td></tr>\n",
       "\t<tr><td>LFM1K   </td><td>4       </td><td>1774    </td><td>10.34837</td><td>3       </td><td>18358   </td></tr>\n",
       "\t<tr><td>LFM1K   </td><td>5       </td><td>1081    </td><td>18.79556</td><td>3       </td><td>20318   </td></tr>\n",
       "\t<tr><td>⋮</td><td>⋮</td><td>⋮</td><td>⋮</td><td>⋮</td><td>⋮</td></tr>\n",
       "\t<tr><td>LFM360K  </td><td>359322   </td><td>49       </td><td> 71.87755</td><td> 61.0    </td><td> 3522    </td></tr>\n",
       "\t<tr><td>LFM360K  </td><td>359324   </td><td>44       </td><td> 12.79545</td><td>  5.5    </td><td>  563    </td></tr>\n",
       "\t<tr><td>LFM360K  </td><td>359332   </td><td>44       </td><td>307.75000</td><td>229.0    </td><td>13541    </td></tr>\n",
       "\t<tr><td>LFM360K  </td><td>359344   </td><td>43       </td><td>238.06977</td><td> 67.0    </td><td>10237    </td></tr>\n",
       "\t<tr><td>LFM360K  </td><td>359347   </td><td>45       </td><td>148.93333</td><td> 95.0    </td><td> 6702    </td></tr>\n",
       "</tbody>\n",
       "</table>\n"
      ],
      "text/latex": [
       "\\begin{tabular}{r|llllll}\n",
       " DataSet & user & nartists & meanPlays & medPlays & totalPlays\\\\\n",
       "\\hline\n",
       "\t LFM1K    & 1        &  658     & 25.16109 & 4        & 16556   \\\\\n",
       "\t LFM1K    & 2        & 1287     & 44.30148 & 5        & 57016   \\\\\n",
       "\t LFM1K    & 3        &  940     & 20.65106 & 4        & 19412   \\\\\n",
       "\t LFM1K    & 4        & 1774     & 10.34837 & 3        & 18358   \\\\\n",
       "\t LFM1K    & 5        & 1081     & 18.79556 & 3        & 20318   \\\\\n",
       "\t ⋮ & ⋮ & ⋮ & ⋮ & ⋮ & ⋮\\\\\n",
       "\t LFM360K   & 359322    & 49        &  71.87755 &  61.0     &  3522    \\\\\n",
       "\t LFM360K   & 359324    & 44        &  12.79545 &   5.5     &   563    \\\\\n",
       "\t LFM360K   & 359332    & 44        & 307.75000 & 229.0     & 13541    \\\\\n",
       "\t LFM360K   & 359344    & 43        & 238.06977 &  67.0     & 10237    \\\\\n",
       "\t LFM360K   & 359347    & 45        & 148.93333 &  95.0     &  6702    \\\\\n",
       "\\end{tabular}\n"
      ],
      "text/markdown": [
       "\n",
       "DataSet | user | nartists | meanPlays | medPlays | totalPlays | \n",
       "|---|---|---|---|---|---|---|---|---|---|---|\n",
       "| LFM1K    | 1        |  658     | 25.16109 | 4        | 16556    | \n",
       "| LFM1K    | 2        | 1287     | 44.30148 | 5        | 57016    | \n",
       "| LFM1K    | 3        |  940     | 20.65106 | 4        | 19412    | \n",
       "| LFM1K    | 4        | 1774     | 10.34837 | 3        | 18358    | \n",
       "| LFM1K    | 5        | 1081     | 18.79556 | 3        | 20318    | \n",
       "| ⋮ | ⋮ | ⋮ | ⋮ | ⋮ | ⋮ | \n",
       "| LFM360K   | 359322    | 49        |  71.87755 |  61.0     |  3522     | \n",
       "| LFM360K   | 359324    | 44        |  12.79545 |   5.5     |   563     | \n",
       "| LFM360K   | 359332    | 44        | 307.75000 | 229.0     | 13541     | \n",
       "| LFM360K   | 359344    | 43        | 238.06977 |  67.0     | 10237     | \n",
       "| LFM360K   | 359347    | 45        | 148.93333 |  95.0     |  6702     | \n",
       "\n",
       "\n"
      ],
      "text/plain": [
       "      DataSet user   nartists meanPlays medPlays totalPlays\n",
       "1     LFM1K   1       658     25.16109  4        16556     \n",
       "2     LFM1K   2      1287     44.30148  5        57016     \n",
       "3     LFM1K   3       940     20.65106  4        19412     \n",
       "4     LFM1K   4      1774     10.34837  3        18358     \n",
       "5     LFM1K   5      1081     18.79556  3        20318     \n",
       "⋮     ⋮       ⋮      ⋮        ⋮         ⋮        ⋮         \n",
       "25977 LFM360K 359322 49        71.87755  61.0     3522     \n",
       "25978 LFM360K 359324 44        12.79545   5.5      563     \n",
       "25979 LFM360K 359332 44       307.75000 229.0    13541     \n",
       "25980 LFM360K 359344 43       238.06977  67.0    10237     \n",
       "25981 LFM360K 359347 45       148.93333  95.0     6702     "
      ]
     },
     "metadata": {},
     "output_type": "display_data"
    }
   ],
   "source": [
    "user.stats = train.ratings %>%\n",
    "    group_by(DataSet, user) %>%\n",
    "    summarize(nartists = n(), meanPlays=mean(count), medPlays=median(count), totalPlays=sum(count))\n",
    "user.stats"
   ]
  },
  {
   "cell_type": "markdown",
   "metadata": {},
   "source": [
    "Join these statistics with our user metadata table, so that we have one table of user information:"
   ]
  },
  {
   "cell_type": "code",
   "execution_count": 13,
   "metadata": {},
   "outputs": [
    {
     "name": "stderr",
     "output_type": "stream",
     "text": [
      "Joining, by = c(\"DataSet\", \"user\")\n",
      "Warning message in inner_join_impl(x, y, by$x, by$y, suffix$x, suffix$y):\n",
      "“joining character vector and factor, coercing into character vector”"
     ]
    },
    {
     "data": {
      "text/html": [
       "<table>\n",
       "<thead><tr><th scope=col>DataSet</th><th scope=col>user</th><th scope=col>gender</th><th scope=col>age</th><th scope=col>nartists</th><th scope=col>meanPlays</th><th scope=col>medPlays</th><th scope=col>totalPlays</th></tr></thead>\n",
       "<tbody>\n",
       "\t<tr><td>LFM360K   </td><td>39        </td><td>F         </td><td>18        </td><td>38        </td><td>  1.763158</td><td>  1.0     </td><td>   67     </td></tr>\n",
       "\t<tr><td>LFM360K   </td><td>51        </td><td>M         </td><td>25        </td><td>69        </td><td>116.043478</td><td> 92.0     </td><td> 8007     </td></tr>\n",
       "\t<tr><td>LFM360K   </td><td>63        </td><td>M         </td><td>18        </td><td>39        </td><td>259.102564</td><td> 66.0     </td><td>10105     </td></tr>\n",
       "\t<tr><td>LFM360K   </td><td>77        </td><td>M         </td><td>18        </td><td>45        </td><td>589.888889</td><td>432.0     </td><td>26545     </td></tr>\n",
       "\t<tr><td>LFM360K   </td><td>86        </td><td>F         </td><td>25        </td><td>48        </td><td>137.604167</td><td> 97.5     </td><td> 6605     </td></tr>\n",
       "\t<tr><td>⋮</td><td>⋮</td><td>⋮</td><td>⋮</td><td>⋮</td><td>⋮</td><td>⋮</td><td>⋮</td></tr>\n",
       "\t<tr><td>LFM1K   </td><td>988     </td><td>F       </td><td>NA      </td><td>145     </td><td>33.64138</td><td>10      </td><td> 4878   </td></tr>\n",
       "\t<tr><td>LFM1K   </td><td>989     </td><td>M       </td><td>NA      </td><td>124     </td><td>74.78226</td><td> 3      </td><td> 9273   </td></tr>\n",
       "\t<tr><td>LFM1K   </td><td>990     </td><td>M       </td><td>NA      </td><td>599     </td><td>55.97162</td><td> 7      </td><td>33527   </td></tr>\n",
       "\t<tr><td>LFM1K   </td><td>991     </td><td>F       </td><td>NA      </td><td>507     </td><td>61.50493</td><td> 5      </td><td>31183   </td></tr>\n",
       "\t<tr><td>LFM1K   </td><td>992     </td><td>M       </td><td>NA      </td><td>673     </td><td>26.67311</td><td> 2      </td><td>17951   </td></tr>\n",
       "</tbody>\n",
       "</table>\n"
      ],
      "text/latex": [
       "\\begin{tabular}{r|llllllll}\n",
       " DataSet & user & gender & age & nartists & meanPlays & medPlays & totalPlays\\\\\n",
       "\\hline\n",
       "\t LFM360K    & 39         & F          & 18         & 38         &   1.763158 &   1.0      &    67     \\\\\n",
       "\t LFM360K    & 51         & M          & 25         & 69         & 116.043478 &  92.0      &  8007     \\\\\n",
       "\t LFM360K    & 63         & M          & 18         & 39         & 259.102564 &  66.0      & 10105     \\\\\n",
       "\t LFM360K    & 77         & M          & 18         & 45         & 589.888889 & 432.0      & 26545     \\\\\n",
       "\t LFM360K    & 86         & F          & 25         & 48         & 137.604167 &  97.5      &  6605     \\\\\n",
       "\t ⋮ & ⋮ & ⋮ & ⋮ & ⋮ & ⋮ & ⋮ & ⋮\\\\\n",
       "\t LFM1K    & 988      & F        & NA       & 145      & 33.64138 & 10       &  4878   \\\\\n",
       "\t LFM1K    & 989      & M        & NA       & 124      & 74.78226 &  3       &  9273   \\\\\n",
       "\t LFM1K    & 990      & M        & NA       & 599      & 55.97162 &  7       & 33527   \\\\\n",
       "\t LFM1K    & 991      & F        & NA       & 507      & 61.50493 &  5       & 31183   \\\\\n",
       "\t LFM1K    & 992      & M        & NA       & 673      & 26.67311 &  2       & 17951   \\\\\n",
       "\\end{tabular}\n"
      ],
      "text/markdown": [
       "\n",
       "DataSet | user | gender | age | nartists | meanPlays | medPlays | totalPlays | \n",
       "|---|---|---|---|---|---|---|---|---|---|---|\n",
       "| LFM360K    | 39         | F          | 18         | 38         |   1.763158 |   1.0      |    67      | \n",
       "| LFM360K    | 51         | M          | 25         | 69         | 116.043478 |  92.0      |  8007      | \n",
       "| LFM360K    | 63         | M          | 18         | 39         | 259.102564 |  66.0      | 10105      | \n",
       "| LFM360K    | 77         | M          | 18         | 45         | 589.888889 | 432.0      | 26545      | \n",
       "| LFM360K    | 86         | F          | 25         | 48         | 137.604167 |  97.5      |  6605      | \n",
       "| ⋮ | ⋮ | ⋮ | ⋮ | ⋮ | ⋮ | ⋮ | ⋮ | \n",
       "| LFM1K    | 988      | F        | NA       | 145      | 33.64138 | 10       |  4878    | \n",
       "| LFM1K    | 989      | M        | NA       | 124      | 74.78226 |  3       |  9273    | \n",
       "| LFM1K    | 990      | M        | NA       | 599      | 55.97162 |  7       | 33527    | \n",
       "| LFM1K    | 991      | F        | NA       | 507      | 61.50493 |  5       | 31183    | \n",
       "| LFM1K    | 992      | M        | NA       | 673      | 26.67311 |  2       | 17951    | \n",
       "\n",
       "\n"
      ],
      "text/plain": [
       "      DataSet user gender age nartists meanPlays  medPlays totalPlays\n",
       "1     LFM360K 39   F      18  38         1.763158   1.0       67     \n",
       "2     LFM360K 51   M      25  69       116.043478  92.0     8007     \n",
       "3     LFM360K 63   M      18  39       259.102564  66.0    10105     \n",
       "4     LFM360K 77   M      18  45       589.888889 432.0    26545     \n",
       "5     LFM360K 86   F      25  48       137.604167  97.5     6605     \n",
       "⋮     ⋮       ⋮    ⋮      ⋮   ⋮        ⋮          ⋮        ⋮         \n",
       "25977 LFM1K   988  F      NA  145      33.64138   10        4878     \n",
       "25978 LFM1K   989  M      NA  124      74.78226    3        9273     \n",
       "25979 LFM1K   990  M      NA  599      55.97162    7       33527     \n",
       "25980 LFM1K   991  F      NA  507      61.50493    5       31183     \n",
       "25981 LFM1K   992  M      NA  673      26.67311    2       17951     "
      ]
     },
     "metadata": {},
     "output_type": "display_data"
    }
   ],
   "source": [
    "users = users.meta %>% inner_join(user.stats)\n",
    "users"
   ]
  },
  {
   "cell_type": "markdown",
   "metadata": {},
   "source": [
    "Now that we have user information, we can read the per-user recommender evaluation results."
   ]
  },
  {
   "cell_type": "code",
   "execution_count": 14,
   "metadata": {},
   "outputs": [
    {
     "name": "stderr",
     "output_type": "stream",
     "text": [
      "Parsed with column specification:\n",
      "cols(\n",
      "  .default = col_double(),\n",
      "  DataSet = col_character(),\n",
      "  Partition = col_integer(),\n",
      "  Algorithm = col_character(),\n",
      "  User = col_integer(),\n",
      "  L100.Rank = col_integer(),\n",
      "  L10K.Rank = col_integer(),\n",
      "  Rank = col_integer()\n",
      ")\n",
      "See spec(...) for full column specifications.\n"
     ]
    },
    {
     "data": {
      "text/plain": [
       "      nDCG           RecipRank            AvgPrec     \n",
       " Min.   :0.00000   Min.   :0.0000000   Min.   :0.00   \n",
       " 1st Qu.:0.07097   1st Qu.:0.0000242   1st Qu.:0.00   \n",
       " Median :0.09640   Median :0.0004854   Median :0.00   \n",
       " Mean   :0.13339   Mean   :0.0963869   Mean   :0.04   \n",
       " 3rd Qu.:0.16267   3rd Qu.:0.0312500   3rd Qu.:0.03   \n",
       " Max.   :0.99924   Max.   :1.0000000   Max.   :1.00   \n",
       "                                       NA's   :50000  "
      ]
     },
     "metadata": {},
     "output_type": "display_data"
    }
   ],
   "source": [
    "user.results.360k = read_csv(\"build/lastfm-user-results.csv\", guess_max=10000) %>%\n",
    "    rename(user=User) %>%\n",
    "    mutate(DataSet = \"LFM360K\")\n",
    "user.results.360k %>% select(nDCG, RecipRank, AvgPrec) %>% summary()"
   ]
  },
  {
   "cell_type": "code",
   "execution_count": 15,
   "metadata": {},
   "outputs": [
    {
     "name": "stderr",
     "output_type": "stream",
     "text": [
      "Parsed with column specification:\n",
      "cols(\n",
      "  .default = col_double(),\n",
      "  DataSet = col_character(),\n",
      "  Partition = col_integer(),\n",
      "  Algorithm = col_character(),\n",
      "  User = col_integer(),\n",
      "  L100.Rank = col_integer(),\n",
      "  L10K.Rank = col_integer(),\n",
      "  Rank = col_integer()\n",
      ")\n",
      "See spec(...) for full column specifications.\n"
     ]
    },
    {
     "data": {
      "text/plain": [
       "      nDCG           RecipRank            AvgPrec      \n",
       " Min.   :0.00000   Min.   :0.0000000   Min.   :0.0000  \n",
       " 1st Qu.:0.03528   1st Qu.:0.0000363   1st Qu.:0.0002  \n",
       " Median :0.08315   Median :0.0008787   Median :0.0014  \n",
       " Mean   :0.09686   Mean   :0.0419966   Mean   :0.0155  \n",
       " 3rd Qu.:0.11749   3rd Qu.:0.0098039   3rd Qu.:0.0076  \n",
       " Max.   :0.98424   Max.   :1.0000000   Max.   :0.9167  \n",
       "                                       NA's   :1962    "
      ]
     },
     "metadata": {},
     "output_type": "display_data"
    }
   ],
   "source": [
    "user.results.1k = read_csv(\"build/lfm1k-user-results.csv\") %>%\n",
    "    rename(user=User)\n",
    "user.results.1k %>% select(nDCG, RecipRank, AvgPrec) %>% summary()"
   ]
  },
  {
   "cell_type": "code",
   "execution_count": 37,
   "metadata": {},
   "outputs": [
    {
     "name": "stderr",
     "output_type": "stream",
     "text": [
      "Joining, by = c(\"DataSet\", \"user\")\n",
      "Warning message in inner_join_impl(x, y, by$x, by$y, suffix$x, suffix$y):\n",
      "“joining factor and character vector, coercing into character vector”"
     ]
    },
    {
     "data": {
      "text/html": [
       "<table>\n",
       "<thead><tr><th scope=col>DataSet</th><th scope=col>Partition</th><th scope=col>Algorithm</th><th scope=col>user</th><th scope=col>TestTime</th><th scope=col>Rank.nDCG</th><th scope=col>L100.Rank</th><th scope=col>L100.RecipRank</th><th scope=col>L100.nDCG</th><th scope=col>L100.AvgPrec</th><th scope=col>⋯</th><th scope=col>Rank</th><th scope=col>RecipRank</th><th scope=col>nDCG</th><th scope=col>AvgPrec</th><th scope=col>gender</th><th scope=col>age</th><th scope=col>nartists</th><th scope=col>meanPlays</th><th scope=col>medPlays</th><th scope=col>totalPlays</th></tr></thead>\n",
       "<tbody>\n",
       "\t<tr><td>LFM360K  </td><td>3        </td><td>UU-B     </td><td>240341   </td><td>1.024    </td><td>0        </td><td>NA       </td><td>0        </td><td>0        </td><td>NA       </td><td>⋯        </td><td>NA       </td><td>0        </td><td>0        </td><td>NA       </td><td>M        </td><td>25       </td><td>43       </td><td>176.44186</td><td>142      </td><td> 7587    </td></tr>\n",
       "\t<tr><td>LFM360K  </td><td>3        </td><td>UU-C     </td><td>240341   </td><td>1.161    </td><td>0        </td><td>NA       </td><td>0        </td><td>0        </td><td>NA       </td><td>⋯        </td><td>NA       </td><td>0        </td><td>0        </td><td>NA       </td><td>M        </td><td>25       </td><td>43       </td><td>176.44186</td><td>142      </td><td> 7587    </td></tr>\n",
       "\t<tr><td>LFM360K  </td><td>4        </td><td>UU-C     </td><td>242717   </td><td>0.724    </td><td>0        </td><td>NA       </td><td>0        </td><td>0        </td><td>NA       </td><td>⋯        </td><td>NA       </td><td>0        </td><td>0        </td><td>NA       </td><td>M        </td><td>25       </td><td>43       </td><td>306.53488</td><td>192      </td><td>13181    </td></tr>\n",
       "\t<tr><td>LFM360K  </td><td>4        </td><td>UU-C     </td><td>242766   </td><td>0.732    </td><td>0        </td><td>NA       </td><td>0        </td><td>0        </td><td>NA       </td><td>⋯        </td><td>NA       </td><td>0        </td><td>0        </td><td>NA       </td><td>M        </td><td>25       </td><td>45       </td><td> 66.82222</td><td> 54      </td><td> 3007    </td></tr>\n",
       "\t<tr><td>LFM360K  </td><td>5        </td><td>UU-B     </td><td>236784   </td><td>0.792    </td><td>0        </td><td>NA       </td><td>0        </td><td>0        </td><td>NA       </td><td>⋯        </td><td>NA       </td><td>0        </td><td>0        </td><td>NA       </td><td>M        </td><td>18       </td><td>47       </td><td>334.40426</td><td>224      </td><td>15717    </td></tr>\n",
       "\t<tr><td>⋮</td><td>⋮</td><td>⋮</td><td>⋮</td><td>⋮</td><td>⋮</td><td>⋮</td><td>⋮</td><td>⋮</td><td>⋮</td><td>⋱</td><td>⋮</td><td>⋮</td><td>⋮</td><td>⋮</td><td>⋮</td><td>⋮</td><td>⋮</td><td>⋮</td><td>⋮</td><td>⋮</td></tr>\n",
       "\t<tr><td>LFM1K       </td><td>1           </td><td>II-B        </td><td>531         </td><td> 6.733      </td><td>0.8790780   </td><td>NA          </td><td>0.00000000  </td><td>0.0000000   </td><td>0.00000000  </td><td>⋯           </td><td> 687        </td><td>0.0014556041</td><td>0.09036178  </td><td>5.185396e-04</td><td>NA          </td><td>NA          </td><td>2025        </td><td> 1.821728   </td><td> 1          </td><td>  3689      </td></tr>\n",
       "\t<tr><td>LFM1K       </td><td>1           </td><td>II-B        </td><td>235         </td><td> 4.315      </td><td>0.8924490   </td><td>55          </td><td>0.01818182  </td><td>0.1061252   </td><td>0.02007992  </td><td>⋯           </td><td>  55        </td><td>0.0181818182</td><td>0.15043740  </td><td>1.170296e-02</td><td>NA          </td><td>25          </td><td>1073        </td><td>35.768872   </td><td> 4          </td><td> 38380      </td></tr>\n",
       "\t<tr><td>LFM1K       </td><td>1           </td><td>II-B        </td><td>793         </td><td>11.716      </td><td>0.5856374   </td><td>NA          </td><td>0.00000000  </td><td>0.0000000   </td><td>0.00000000  </td><td>⋯           </td><td>7973        </td><td>0.0001254233</td><td>0.04178119  </td><td>9.837568e-05</td><td>NA          </td><td>NA          </td><td>4365        </td><td>32.501031   </td><td> 4          </td><td>141867      </td></tr>\n",
       "\t<tr><td>LFM1K       </td><td>1           </td><td>II-B        </td><td>162         </td><td> 4.841      </td><td>0.7769084   </td><td>NA          </td><td>0.00000000  </td><td>0.0000000   </td><td>0.00000000  </td><td>⋯           </td><td> 389        </td><td>0.0025706941</td><td>0.10495443  </td><td>2.949473e-03</td><td>F           </td><td>45          </td><td>1276        </td><td>23.085423   </td><td>16          </td><td> 29457      </td></tr>\n",
       "\t<tr><td>LFM1K       </td><td>1           </td><td>II-B        </td><td> 59         </td><td> 6.737      </td><td>0.9969517   </td><td> 1          </td><td>1.00000000  </td><td>0.9285682   </td><td>1.00000000  </td><td>⋯           </td><td>   1        </td><td>1.0000000000</td><td>0.93706138  </td><td>2.005519e-01</td><td>F           </td><td>18          </td><td>2194        </td><td> 4.064722   </td><td> 1          </td><td>  8918      </td></tr>\n",
       "</tbody>\n",
       "</table>\n"
      ],
      "text/latex": [
       "\\begin{tabular}{r|llllllllllllllllllllllllll}\n",
       " DataSet & Partition & Algorithm & user & TestTime & Rank.nDCG & L100.Rank & L100.RecipRank & L100.nDCG & L100.AvgPrec & ⋯ & Rank & RecipRank & nDCG & AvgPrec & gender & age & nartists & meanPlays & medPlays & totalPlays\\\\\n",
       "\\hline\n",
       "\t LFM360K   & 3         & UU-B      & 240341    & 1.024     & 0         & NA        & 0         & 0         & NA        & ⋯         & NA        & 0         & 0         & NA        & M         & 25        & 43        & 176.44186 & 142       &  7587    \\\\\n",
       "\t LFM360K   & 3         & UU-C      & 240341    & 1.161     & 0         & NA        & 0         & 0         & NA        & ⋯         & NA        & 0         & 0         & NA        & M         & 25        & 43        & 176.44186 & 142       &  7587    \\\\\n",
       "\t LFM360K   & 4         & UU-C      & 242717    & 0.724     & 0         & NA        & 0         & 0         & NA        & ⋯         & NA        & 0         & 0         & NA        & M         & 25        & 43        & 306.53488 & 192       & 13181    \\\\\n",
       "\t LFM360K   & 4         & UU-C      & 242766    & 0.732     & 0         & NA        & 0         & 0         & NA        & ⋯         & NA        & 0         & 0         & NA        & M         & 25        & 45        &  66.82222 &  54       &  3007    \\\\\n",
       "\t LFM360K   & 5         & UU-B      & 236784    & 0.792     & 0         & NA        & 0         & 0         & NA        & ⋯         & NA        & 0         & 0         & NA        & M         & 18        & 47        & 334.40426 & 224       & 15717    \\\\\n",
       "\t ⋮ & ⋮ & ⋮ & ⋮ & ⋮ & ⋮ & ⋮ & ⋮ & ⋮ & ⋮ & ⋱ & ⋮ & ⋮ & ⋮ & ⋮ & ⋮ & ⋮ & ⋮ & ⋮ & ⋮ & ⋮\\\\\n",
       "\t LFM1K        & 1            & II-B         & 531          &  6.733       & 0.8790780    & NA           & 0.00000000   & 0.0000000    & 0.00000000   & ⋯            &  687         & 0.0014556041 & 0.09036178   & 5.185396e-04 & NA           & NA           & 2025         &  1.821728    &  1           &   3689      \\\\\n",
       "\t LFM1K        & 1            & II-B         & 235          &  4.315       & 0.8924490    & 55           & 0.01818182   & 0.1061252    & 0.02007992   & ⋯            &   55         & 0.0181818182 & 0.15043740   & 1.170296e-02 & NA           & 25           & 1073         & 35.768872    &  4           &  38380      \\\\\n",
       "\t LFM1K        & 1            & II-B         & 793          & 11.716       & 0.5856374    & NA           & 0.00000000   & 0.0000000    & 0.00000000   & ⋯            & 7973         & 0.0001254233 & 0.04178119   & 9.837568e-05 & NA           & NA           & 4365         & 32.501031    &  4           & 141867      \\\\\n",
       "\t LFM1K        & 1            & II-B         & 162          &  4.841       & 0.7769084    & NA           & 0.00000000   & 0.0000000    & 0.00000000   & ⋯            &  389         & 0.0025706941 & 0.10495443   & 2.949473e-03 & F            & 45           & 1276         & 23.085423    & 16           &  29457      \\\\\n",
       "\t LFM1K        & 1            & II-B         &  59          &  6.737       & 0.9969517    &  1           & 1.00000000   & 0.9285682    & 1.00000000   & ⋯            &    1         & 1.0000000000 & 0.93706138   & 2.005519e-01 & F            & 18           & 2194         &  4.064722    &  1           &   8918      \\\\\n",
       "\\end{tabular}\n"
      ],
      "text/markdown": [
       "\n",
       "DataSet | Partition | Algorithm | user | TestTime | Rank.nDCG | L100.Rank | L100.RecipRank | L100.nDCG | L100.AvgPrec | ⋯ | Rank | RecipRank | nDCG | AvgPrec | gender | age | nartists | meanPlays | medPlays | totalPlays | \n",
       "|---|---|---|---|---|---|---|---|---|---|---|\n",
       "| LFM360K   | 3         | UU-B      | 240341    | 1.024     | 0         | NA        | 0         | 0         | NA        | ⋯         | NA        | 0         | 0         | NA        | M         | 25        | 43        | 176.44186 | 142       |  7587     | \n",
       "| LFM360K   | 3         | UU-C      | 240341    | 1.161     | 0         | NA        | 0         | 0         | NA        | ⋯         | NA        | 0         | 0         | NA        | M         | 25        | 43        | 176.44186 | 142       |  7587     | \n",
       "| LFM360K   | 4         | UU-C      | 242717    | 0.724     | 0         | NA        | 0         | 0         | NA        | ⋯         | NA        | 0         | 0         | NA        | M         | 25        | 43        | 306.53488 | 192       | 13181     | \n",
       "| LFM360K   | 4         | UU-C      | 242766    | 0.732     | 0         | NA        | 0         | 0         | NA        | ⋯         | NA        | 0         | 0         | NA        | M         | 25        | 45        |  66.82222 |  54       |  3007     | \n",
       "| LFM360K   | 5         | UU-B      | 236784    | 0.792     | 0         | NA        | 0         | 0         | NA        | ⋯         | NA        | 0         | 0         | NA        | M         | 18        | 47        | 334.40426 | 224       | 15717     | \n",
       "| ⋮ | ⋮ | ⋮ | ⋮ | ⋮ | ⋮ | ⋮ | ⋮ | ⋮ | ⋮ | ⋱ | ⋮ | ⋮ | ⋮ | ⋮ | ⋮ | ⋮ | ⋮ | ⋮ | ⋮ | ⋮ | \n",
       "| LFM1K        | 1            | II-B         | 531          |  6.733       | 0.8790780    | NA           | 0.00000000   | 0.0000000    | 0.00000000   | ⋯            |  687         | 0.0014556041 | 0.09036178   | 5.185396e-04 | NA           | NA           | 2025         |  1.821728    |  1           |   3689       | \n",
       "| LFM1K        | 1            | II-B         | 235          |  4.315       | 0.8924490    | 55           | 0.01818182   | 0.1061252    | 0.02007992   | ⋯            |   55         | 0.0181818182 | 0.15043740   | 1.170296e-02 | NA           | 25           | 1073         | 35.768872    |  4           |  38380       | \n",
       "| LFM1K        | 1            | II-B         | 793          | 11.716       | 0.5856374    | NA           | 0.00000000   | 0.0000000    | 0.00000000   | ⋯            | 7973         | 0.0001254233 | 0.04178119   | 9.837568e-05 | NA           | NA           | 4365         | 32.501031    |  4           | 141867       | \n",
       "| LFM1K        | 1            | II-B         | 162          |  4.841       | 0.7769084    | NA           | 0.00000000   | 0.0000000    | 0.00000000   | ⋯            |  389         | 0.0025706941 | 0.10495443   | 2.949473e-03 | F            | 45           | 1276         | 23.085423    | 16           |  29457       | \n",
       "| LFM1K        | 1            | II-B         |  59          |  6.737       | 0.9969517    |  1           | 1.00000000   | 0.9285682    | 1.00000000   | ⋯            |    1         | 1.0000000000 | 0.93706138   | 2.005519e-01 | F            | 18           | 2194         |  4.064722    |  1           |   8918       | \n",
       "\n",
       "\n"
      ],
      "text/plain": [
       "       DataSet Partition Algorithm user   TestTime Rank.nDCG L100.Rank\n",
       "1      LFM360K 3         UU-B      240341 1.024    0         NA       \n",
       "2      LFM360K 3         UU-C      240341 1.161    0         NA       \n",
       "3      LFM360K 4         UU-C      242717 0.724    0         NA       \n",
       "4      LFM360K 4         UU-C      242766 0.732    0         NA       \n",
       "5      LFM360K 5         UU-B      236784 0.792    0         NA       \n",
       "⋮      ⋮       ⋮         ⋮         ⋮      ⋮        ⋮         ⋮        \n",
       "233825 LFM1K   1         II-B      531     6.733   0.8790780 NA       \n",
       "233826 LFM1K   1         II-B      235     4.315   0.8924490 55       \n",
       "233827 LFM1K   1         II-B      793    11.716   0.5856374 NA       \n",
       "233828 LFM1K   1         II-B      162     4.841   0.7769084 NA       \n",
       "233829 LFM1K   1         II-B       59     6.737   0.9969517  1       \n",
       "       L100.RecipRank L100.nDCG L100.AvgPrec ⋯ Rank RecipRank    nDCG      \n",
       "1      0              0         NA           ⋯ NA   0            0         \n",
       "2      0              0         NA           ⋯ NA   0            0         \n",
       "3      0              0         NA           ⋯ NA   0            0         \n",
       "4      0              0         NA           ⋯ NA   0            0         \n",
       "5      0              0         NA           ⋯ NA   0            0         \n",
       "⋮      ⋮              ⋮         ⋮            ⋱ ⋮    ⋮            ⋮         \n",
       "233825 0.00000000     0.0000000 0.00000000   ⋯  687 0.0014556041 0.09036178\n",
       "233826 0.01818182     0.1061252 0.02007992   ⋯   55 0.0181818182 0.15043740\n",
       "233827 0.00000000     0.0000000 0.00000000   ⋯ 7973 0.0001254233 0.04178119\n",
       "233828 0.00000000     0.0000000 0.00000000   ⋯  389 0.0025706941 0.10495443\n",
       "233829 1.00000000     0.9285682 1.00000000   ⋯    1 1.0000000000 0.93706138\n",
       "       AvgPrec      gender age nartists meanPlays medPlays totalPlays\n",
       "1      NA           M      25  43       176.44186 142       7587     \n",
       "2      NA           M      25  43       176.44186 142       7587     \n",
       "3      NA           M      25  43       306.53488 192      13181     \n",
       "4      NA           M      25  45        66.82222  54       3007     \n",
       "5      NA           M      18  47       334.40426 224      15717     \n",
       "⋮      ⋮            ⋮      ⋮   ⋮        ⋮         ⋮        ⋮         \n",
       "233825 5.185396e-04 NA     NA  2025      1.821728  1         3689    \n",
       "233826 1.170296e-02 NA     25  1073     35.768872  4        38380    \n",
       "233827 9.837568e-05 NA     NA  4365     32.501031  4       141867    \n",
       "233828 2.949473e-03 F      45  1276     23.085423 16        29457    \n",
       "233829 2.005519e-01 F      18  2194      4.064722  1         8918    "
      ]
     },
     "metadata": {},
     "output_type": "display_data"
    }
   ],
   "source": [
    "user.results = bind_rows(user.results.360k, user.results.1k) %>%\n",
    "    mutate(DataSet=as.factor(DataSet),\n",
    "           Algorithm=as.factor(Algorithm)) %>%\n",
    "    inner_join(users)\n",
    "user.results"
   ]
  },
  {
   "cell_type": "code",
   "execution_count": 38,
   "metadata": {
    "collapsed": true
   },
   "outputs": [],
   "source": [
    "write_csv(user.results, \"build/lfm-integrated-user-results.csv\")"
   ]
  },
  {
   "cell_type": "markdown",
   "metadata": {},
   "source": [
    "## Gender"
   ]
  },
  {
   "cell_type": "markdown",
   "metadata": {},
   "source": [
    "Let's analyze accuracy by gender."
   ]
  },
  {
   "cell_type": "code",
   "execution_count": 26,
   "metadata": {},
   "outputs": [
    {
     "data": {
      "text/html": [
       "<table>\n",
       "<thead><tr><th scope=col>DataSet</th><th scope=col>Algorithm</th><th scope=col>gender</th><th scope=col>Metric</th><th scope=col>value</th></tr></thead>\n",
       "<tbody>\n",
       "\t<tr><td>LFM1K     </td><td>II-B      </td><td>F         </td><td>MAP       </td><td>0.03713482</td></tr>\n",
       "\t<tr><td>LFM1K     </td><td>II-B      </td><td>F         </td><td>MRR       </td><td>0.12405558</td></tr>\n",
       "\t<tr><td>LFM1K     </td><td>II-B      </td><td>F         </td><td>nDCG      </td><td>0.18379674</td></tr>\n",
       "\t<tr><td>LFM1K     </td><td>II-B      </td><td>F         </td><td>Rank.nDCG </td><td>0.82341261</td></tr>\n",
       "\t<tr><td>LFM1K     </td><td>II-B      </td><td>M         </td><td>MAP       </td><td>0.02250874</td></tr>\n",
       "\t<tr><td>⋮</td><td>⋮</td><td>⋮</td><td>⋮</td><td>⋮</td></tr>\n",
       "\t<tr><td>LFM360K  </td><td>UU-C     </td><td>M        </td><td>Rank.nDCG</td><td> 0       </td></tr>\n",
       "\t<tr><td>LFM360K  </td><td>UU-C     </td><td>?        </td><td>MAP      </td><td>NA       </td></tr>\n",
       "\t<tr><td>LFM360K  </td><td>UU-C     </td><td>?        </td><td>MRR      </td><td> 0       </td></tr>\n",
       "\t<tr><td>LFM360K  </td><td>UU-C     </td><td>?        </td><td>nDCG     </td><td> 0       </td></tr>\n",
       "\t<tr><td>LFM360K  </td><td>UU-C     </td><td>?        </td><td>Rank.nDCG</td><td> 0       </td></tr>\n",
       "</tbody>\n",
       "</table>\n"
      ],
      "text/latex": [
       "\\begin{tabular}{r|lllll}\n",
       " DataSet & Algorithm & gender & Metric & value\\\\\n",
       "\\hline\n",
       "\t LFM1K      & II-B       & F          & MAP        & 0.03713482\\\\\n",
       "\t LFM1K      & II-B       & F          & MRR        & 0.12405558\\\\\n",
       "\t LFM1K      & II-B       & F          & nDCG       & 0.18379674\\\\\n",
       "\t LFM1K      & II-B       & F          & Rank.nDCG  & 0.82341261\\\\\n",
       "\t LFM1K      & II-B       & M          & MAP        & 0.02250874\\\\\n",
       "\t ⋮ & ⋮ & ⋮ & ⋮ & ⋮\\\\\n",
       "\t LFM360K   & UU-C      & M         & Rank.nDCG &  0       \\\\\n",
       "\t LFM360K   & UU-C      & ?         & MAP       & NA       \\\\\n",
       "\t LFM360K   & UU-C      & ?         & MRR       &  0       \\\\\n",
       "\t LFM360K   & UU-C      & ?         & nDCG      &  0       \\\\\n",
       "\t LFM360K   & UU-C      & ?         & Rank.nDCG &  0       \\\\\n",
       "\\end{tabular}\n"
      ],
      "text/markdown": [
       "\n",
       "DataSet | Algorithm | gender | Metric | value | \n",
       "|---|---|---|---|---|---|---|---|---|---|---|\n",
       "| LFM1K      | II-B       | F          | MAP        | 0.03713482 | \n",
       "| LFM1K      | II-B       | F          | MRR        | 0.12405558 | \n",
       "| LFM1K      | II-B       | F          | nDCG       | 0.18379674 | \n",
       "| LFM1K      | II-B       | F          | Rank.nDCG  | 0.82341261 | \n",
       "| LFM1K      | II-B       | M          | MAP        | 0.02250874 | \n",
       "| ⋮ | ⋮ | ⋮ | ⋮ | ⋮ | \n",
       "| LFM360K   | UU-C      | M         | Rank.nDCG |  0        | \n",
       "| LFM360K   | UU-C      | ?         | MAP       | NA        | \n",
       "| LFM360K   | UU-C      | ?         | MRR       |  0        | \n",
       "| LFM360K   | UU-C      | ?         | nDCG      |  0        | \n",
       "| LFM360K   | UU-C      | ?         | Rank.nDCG |  0        | \n",
       "\n",
       "\n"
      ],
      "text/plain": [
       "    DataSet Algorithm gender Metric    value     \n",
       "1   LFM1K   II-B      F      MAP       0.03713482\n",
       "2   LFM1K   II-B      F      MRR       0.12405558\n",
       "3   LFM1K   II-B      F      nDCG      0.18379674\n",
       "4   LFM1K   II-B      F      Rank.nDCG 0.82341261\n",
       "5   LFM1K   II-B      M      MAP       0.02250874\n",
       "⋮   ⋮       ⋮         ⋮      ⋮         ⋮         \n",
       "212 LFM360K UU-C      M      Rank.nDCG  0        \n",
       "213 LFM360K UU-C      ?      MAP       NA        \n",
       "214 LFM360K UU-C      ?      MRR        0        \n",
       "215 LFM360K UU-C      ?      nDCG       0        \n",
       "216 LFM360K UU-C      ?      Rank.nDCG  0        "
      ]
     },
     "metadata": {},
     "output_type": "display_data"
    }
   ],
   "source": [
    "gender.results = user.results %>%\n",
    "    select(DataSet, Algorithm, gender, MAP=AvgPrec, MRR=RecipRank, nDCG, Rank.nDCG) %>%\n",
    "    gather(\"Metric\", \"value\", -DataSet, -Algorithm, -gender) %>%\n",
    "    group_by(DataSet, Algorithm, gender, Metric) %>%\n",
    "    summarize(value=mean(value)) %>%\n",
    "    ungroup() %>%\n",
    "    mutate(gender=ifelse(is.na(gender), \"?\", as.character(gender)))\n",
    "gender.results"
   ]
  },
  {
   "cell_type": "code",
   "execution_count": 27,
   "metadata": {},
   "outputs": [
    {
     "data": {
      "text/html": [
       "<table>\n",
       "<thead><tr><th scope=col>DataSet</th><th scope=col>Algorithm</th><th scope=col>gender</th><th scope=col>Metric</th><th scope=col>value</th></tr></thead>\n",
       "<tbody>\n",
       "\t<tr><td>LFM1K     </td><td>II-B      </td><td>F         </td><td>MAP       </td><td>0.03713482</td></tr>\n",
       "\t<tr><td>LFM1K     </td><td>II-B      </td><td>F         </td><td>MRR       </td><td>0.12405558</td></tr>\n",
       "\t<tr><td>LFM1K     </td><td>II-B      </td><td>F         </td><td>nDCG      </td><td>0.18379674</td></tr>\n",
       "\t<tr><td>LFM1K     </td><td>II-B      </td><td>F         </td><td>Rank.nDCG </td><td>0.82341261</td></tr>\n",
       "\t<tr><td>LFM1K     </td><td>II-B      </td><td>M         </td><td>MAP       </td><td>0.02250874</td></tr>\n",
       "\t<tr><td>LFM1K     </td><td>II-B      </td><td>M         </td><td>MRR       </td><td>0.07704965</td></tr>\n",
       "</tbody>\n",
       "</table>\n"
      ],
      "text/latex": [
       "\\begin{tabular}{r|lllll}\n",
       " DataSet & Algorithm & gender & Metric & value\\\\\n",
       "\\hline\n",
       "\t LFM1K      & II-B       & F          & MAP        & 0.03713482\\\\\n",
       "\t LFM1K      & II-B       & F          & MRR        & 0.12405558\\\\\n",
       "\t LFM1K      & II-B       & F          & nDCG       & 0.18379674\\\\\n",
       "\t LFM1K      & II-B       & F          & Rank.nDCG  & 0.82341261\\\\\n",
       "\t LFM1K      & II-B       & M          & MAP        & 0.02250874\\\\\n",
       "\t LFM1K      & II-B       & M          & MRR        & 0.07704965\\\\\n",
       "\\end{tabular}\n"
      ],
      "text/markdown": [
       "\n",
       "DataSet | Algorithm | gender | Metric | value | \n",
       "|---|---|---|---|---|---|\n",
       "| LFM1K      | II-B       | F          | MAP        | 0.03713482 | \n",
       "| LFM1K      | II-B       | F          | MRR        | 0.12405558 | \n",
       "| LFM1K      | II-B       | F          | nDCG       | 0.18379674 | \n",
       "| LFM1K      | II-B       | F          | Rank.nDCG  | 0.82341261 | \n",
       "| LFM1K      | II-B       | M          | MAP        | 0.02250874 | \n",
       "| LFM1K      | II-B       | M          | MRR        | 0.07704965 | \n",
       "\n",
       "\n"
      ],
      "text/plain": [
       "  DataSet Algorithm gender Metric    value     \n",
       "1 LFM1K   II-B      F      MAP       0.03713482\n",
       "2 LFM1K   II-B      F      MRR       0.12405558\n",
       "3 LFM1K   II-B      F      nDCG      0.18379674\n",
       "4 LFM1K   II-B      F      Rank.nDCG 0.82341261\n",
       "5 LFM1K   II-B      M      MAP       0.02250874\n",
       "6 LFM1K   II-B      M      MRR       0.07704965"
      ]
     },
     "metadata": {},
     "output_type": "display_data"
    }
   ],
   "source": [
    "overall.results = user.results %>%\n",
    "    select(DataSet, Algorithm, MAP=AvgPrec, MRR=RecipRank, nDCG, Rank.nDCG) %>%\n",
    "    gather(\"Metric\", \"value\", -DataSet, -Algorithm) %>%\n",
    "    group_by(DataSet, Algorithm, Metric) %>%\n",
    "    summarize(value=mean(value)) %>%\n",
    "    ungroup() %>%\n",
    "    mutate(gender = 'Any')\n",
    "combined.results = rbind(gender.results, overall.results) %>%\n",
    "    mutate(gender=factor(gender, levels=c(\"F\", \"M\", \"?\", \"Any\"), ordered=TRUE))\n",
    "head(combined.results)"
   ]
  },
  {
   "cell_type": "code",
   "execution_count": 28,
   "metadata": {},
   "outputs": [
    {
     "name": "stderr",
     "output_type": "stream",
     "text": [
      "Warning message:\n",
      "“Removed 16 rows containing missing values (geom_bar).”"
     ]
    },
    {
     "data": {},
     "metadata": {},
     "output_type": "display_data"
    },
    {
     "data": {
      "image/png": "[encoded data removed]",
      "text/plain": [
       "plot without title"
      ]
     },
     "metadata": {},
     "output_type": "display_data"
    }
   ],
   "source": [
    "ggplot(combined.results) +\n",
    "    aes(x=gender, y=value, fill=Algorithm) +\n",
    "    geom_bar(stat=\"identity\", position=\"dodge\") +\n",
    "    facet_grid(Metric ~ DataSet, scales=\"free\")"
   ]
  },
  {
   "cell_type": "code",
   "execution_count": 29,
   "metadata": {},
   "outputs": [
    {
     "data": {},
     "metadata": {},
     "output_type": "display_data"
    },
    {
     "data": {
      "image/png": "[encoded data removed]",
      "text/plain": [
       "plot without title"
      ]
     },
     "metadata": {},
     "output_type": "display_data"
    }
   ],
   "source": [
    "make.plot(\"lastfm-gender-ndcg\", width=5, height=3, {\n",
    "    ggplot(combined.results %>% filter(Metric == \"nDCG\")) +\n",
    "        aes(x=Algorithm, y=value) +\n",
    "        geom_bar(stat=\"identity\") +\n",
    "        geom_text(mapping=aes(label=sprintf(\"%.03f\", value),\n",
    "                              hjust=ifelse(value > 0.025, 1.1, -0.05),\n",
    "                              color=ifelse(value > 0.025, \"white\", \"black\")),\n",
    "                  size=2, vjust=0.5, angle=90) +\n",
    "        scale_color_identity() +\n",
    "        facet_grid(DataSet ~ gender, scales=\"free_y\") +\n",
    "        theme_bw() +\n",
    "        theme(axis.text.x = element_text(angle = 90, hjust = 1, vjust=0.5)) +\n",
    "        ylab(\"nDCG\")\n",
    "})"
   ]
  },
  {
   "cell_type": "code",
   "execution_count": 30,
   "metadata": {},
   "outputs": [
    {
     "data": {},
     "metadata": {},
     "output_type": "display_data"
    },
    {
     "data": {
      "image/png": "[encoded data removed]",
      "text/plain": [
       "plot without title"
      ]
     },
     "metadata": {},
     "output_type": "display_data"
    }
   ],
   "source": [
    "make.plot(\"lastfm-gender-mrr\", width=5, height=3, {\n",
    "    ggplot(combined.results %>% filter(Metric == \"MRR\")) +\n",
    "        aes(x=Algorithm, y=value) +\n",
    "        geom_bar(stat=\"identity\") +\n",
    "        geom_text(mapping=aes(label=sprintf(\"%.03f\", value),\n",
    "                              hjust=ifelse(value > 0.025, 1.1, -0.05),\n",
    "                              color=ifelse(value > 0.025, \"white\", \"black\")),\n",
    "                  size=2, vjust=0.5, angle=90) +\n",
    "        scale_color_identity() +\n",
    "        facet_grid(DataSet ~ gender, scales=\"free_y\") +\n",
    "        theme_bw() +\n",
    "        theme(axis.text.x = element_text(angle = 90, hjust = 1, vjust=0.5)) +\n",
    "        ylab(\"MRR\")\n",
    "})"
   ]
  },
  {
   "cell_type": "markdown",
   "metadata": {
    "collapsed": true
   },
   "source": [
    "## Age\n",
    "\n",
    "Now we wish to do the same thing by age."
   ]
  },
  {
   "cell_type": "code",
   "execution_count": 33,
   "metadata": {},
   "outputs": [
    {
     "data": {
      "text/html": [
       "<table>\n",
       "<thead><tr><th scope=col>DataSet</th><th scope=col>Algorithm</th><th scope=col>age</th><th scope=col>Metric</th><th scope=col>value</th></tr></thead>\n",
       "<tbody>\n",
       "\t<tr><td>LFM1K     </td><td>II-B      </td><td>1         </td><td>MAP       </td><td>0.01901359</td></tr>\n",
       "\t<tr><td>LFM1K     </td><td>II-B      </td><td>1         </td><td>MRR       </td><td>0.06888746</td></tr>\n",
       "\t<tr><td>LFM1K     </td><td>II-B      </td><td>1         </td><td>nDCG      </td><td>0.17420873</td></tr>\n",
       "\t<tr><td>LFM1K     </td><td>II-B      </td><td>1         </td><td>Rank.nDCG </td><td>0.76940890</td></tr>\n",
       "\t<tr><td>LFM1K     </td><td>II-B      </td><td>18        </td><td>MAP       </td><td>0.02395457</td></tr>\n",
       "\t<tr><td>⋮</td><td>⋮</td><td>⋮</td><td>⋮</td><td>⋮</td></tr>\n",
       "\t<tr><td>LFM360K  </td><td>UU-C     </td><td>56       </td><td>Rank.nDCG</td><td> 0       </td></tr>\n",
       "\t<tr><td>LFM360K  </td><td>UU-C     </td><td>NA       </td><td>MAP      </td><td>NA       </td></tr>\n",
       "\t<tr><td>LFM360K  </td><td>UU-C     </td><td>NA       </td><td>MRR      </td><td> 0       </td></tr>\n",
       "\t<tr><td>LFM360K  </td><td>UU-C     </td><td>NA       </td><td>nDCG     </td><td> 0       </td></tr>\n",
       "\t<tr><td>LFM360K  </td><td>UU-C     </td><td>NA       </td><td>Rank.nDCG</td><td> 0       </td></tr>\n",
       "</tbody>\n",
       "</table>\n"
      ],
      "text/latex": [
       "\\begin{tabular}{r|lllll}\n",
       " DataSet & Algorithm & age & Metric & value\\\\\n",
       "\\hline\n",
       "\t LFM1K      & II-B       & 1          & MAP        & 0.01901359\\\\\n",
       "\t LFM1K      & II-B       & 1          & MRR        & 0.06888746\\\\\n",
       "\t LFM1K      & II-B       & 1          & nDCG       & 0.17420873\\\\\n",
       "\t LFM1K      & II-B       & 1          & Rank.nDCG  & 0.76940890\\\\\n",
       "\t LFM1K      & II-B       & 18         & MAP        & 0.02395457\\\\\n",
       "\t ⋮ & ⋮ & ⋮ & ⋮ & ⋮\\\\\n",
       "\t LFM360K   & UU-C      & 56        & Rank.nDCG &  0       \\\\\n",
       "\t LFM360K   & UU-C      & NA        & MAP       & NA       \\\\\n",
       "\t LFM360K   & UU-C      & NA        & MRR       &  0       \\\\\n",
       "\t LFM360K   & UU-C      & NA        & nDCG      &  0       \\\\\n",
       "\t LFM360K   & UU-C      & NA        & Rank.nDCG &  0       \\\\\n",
       "\\end{tabular}\n"
      ],
      "text/markdown": [
       "\n",
       "DataSet | Algorithm | age | Metric | value | \n",
       "|---|---|---|---|---|---|---|---|---|---|---|\n",
       "| LFM1K      | II-B       | 1          | MAP        | 0.01901359 | \n",
       "| LFM1K      | II-B       | 1          | MRR        | 0.06888746 | \n",
       "| LFM1K      | II-B       | 1          | nDCG       | 0.17420873 | \n",
       "| LFM1K      | II-B       | 1          | Rank.nDCG  | 0.76940890 | \n",
       "| LFM1K      | II-B       | 18         | MAP        | 0.02395457 | \n",
       "| ⋮ | ⋮ | ⋮ | ⋮ | ⋮ | \n",
       "| LFM360K   | UU-C      | 56        | Rank.nDCG |  0        | \n",
       "| LFM360K   | UU-C      | NA        | MAP       | NA        | \n",
       "| LFM360K   | UU-C      | NA        | MRR       |  0        | \n",
       "| LFM360K   | UU-C      | NA        | nDCG      |  0        | \n",
       "| LFM360K   | UU-C      | NA        | Rank.nDCG |  0        | \n",
       "\n",
       "\n"
      ],
      "text/plain": [
       "    DataSet Algorithm age Metric    value     \n",
       "1   LFM1K   II-B      1   MAP       0.01901359\n",
       "2   LFM1K   II-B      1   MRR       0.06888746\n",
       "3   LFM1K   II-B      1   nDCG      0.17420873\n",
       "4   LFM1K   II-B      1   Rank.nDCG 0.76940890\n",
       "5   LFM1K   II-B      18  MAP       0.02395457\n",
       "⋮   ⋮       ⋮         ⋮   ⋮         ⋮         \n",
       "572 LFM360K UU-C      56  Rank.nDCG  0        \n",
       "573 LFM360K UU-C      NA  MAP       NA        \n",
       "574 LFM360K UU-C      NA  MRR        0        \n",
       "575 LFM360K UU-C      NA  nDCG       0        \n",
       "576 LFM360K UU-C      NA  Rank.nDCG  0        "
      ]
     },
     "metadata": {},
     "output_type": "display_data"
    }
   ],
   "source": [
    "age.results = user.results %>%\n",
    "    select(DataSet, Algorithm, age, MAP=AvgPrec, MRR=RecipRank, nDCG, Rank.nDCG) %>%\n",
    "    gather(\"Metric\", \"value\", MAP, MRR, nDCG, Rank.nDCG) %>%\n",
    "    group_by(DataSet, Algorithm, age, Metric) %>%\n",
    "    summarize(value=mean(value)) %>%\n",
    "    ungroup()\n",
    "age.results"
   ]
  },
  {
   "cell_type": "code",
   "execution_count": 34,
   "metadata": {},
   "outputs": [
    {
     "data": {
      "text/html": [
       "<table>\n",
       "<thead><tr><th scope=col>DataSet</th><th scope=col>Algorithm</th><th scope=col>age</th><th scope=col>Metric</th><th scope=col>value</th></tr></thead>\n",
       "<tbody>\n",
       "\t<tr><td>LFM360K  </td><td>II-B     </td><td>1        </td><td>MAP      </td><td>0.1319897</td></tr>\n",
       "\t<tr><td>LFM360K  </td><td>II-B     </td><td>1        </td><td>MRR      </td><td>0.3489934</td></tr>\n",
       "\t<tr><td>LFM360K  </td><td>II-B     </td><td>1        </td><td>nDCG     </td><td>0.3274948</td></tr>\n",
       "\t<tr><td>LFM360K  </td><td>II-B     </td><td>1        </td><td>Rank.nDCG</td><td>0.8846720</td></tr>\n",
       "\t<tr><td>LFM360K  </td><td>II-B     </td><td>18       </td><td>MAP      </td><td>0.1136501</td></tr>\n",
       "\t<tr><td>LFM360K  </td><td>II-B     </td><td>18       </td><td>MRR      </td><td>0.3154928</td></tr>\n",
       "</tbody>\n",
       "</table>\n"
      ],
      "text/latex": [
       "\\begin{tabular}{r|lllll}\n",
       " DataSet & Algorithm & age & Metric & value\\\\\n",
       "\\hline\n",
       "\t LFM360K   & II-B      & 1         & MAP       & 0.1319897\\\\\n",
       "\t LFM360K   & II-B      & 1         & MRR       & 0.3489934\\\\\n",
       "\t LFM360K   & II-B      & 1         & nDCG      & 0.3274948\\\\\n",
       "\t LFM360K   & II-B      & 1         & Rank.nDCG & 0.8846720\\\\\n",
       "\t LFM360K   & II-B      & 18        & MAP       & 0.1136501\\\\\n",
       "\t LFM360K   & II-B      & 18        & MRR       & 0.3154928\\\\\n",
       "\\end{tabular}\n"
      ],
      "text/markdown": [
       "\n",
       "DataSet | Algorithm | age | Metric | value | \n",
       "|---|---|---|---|---|---|\n",
       "| LFM360K   | II-B      | 1         | MAP       | 0.1319897 | \n",
       "| LFM360K   | II-B      | 1         | MRR       | 0.3489934 | \n",
       "| LFM360K   | II-B      | 1         | nDCG      | 0.3274948 | \n",
       "| LFM360K   | II-B      | 1         | Rank.nDCG | 0.8846720 | \n",
       "| LFM360K   | II-B      | 18        | MAP       | 0.1136501 | \n",
       "| LFM360K   | II-B      | 18        | MRR       | 0.3154928 | \n",
       "\n",
       "\n"
      ],
      "text/plain": [
       "  DataSet Algorithm age Metric    value    \n",
       "1 LFM360K II-B      1   MAP       0.1319897\n",
       "2 LFM360K II-B      1   MRR       0.3489934\n",
       "3 LFM360K II-B      1   nDCG      0.3274948\n",
       "4 LFM360K II-B      1   Rank.nDCG 0.8846720\n",
       "5 LFM360K II-B      18  MAP       0.1136501\n",
       "6 LFM360K II-B      18  MRR       0.3154928"
      ]
     },
     "metadata": {},
     "output_type": "display_data"
    }
   ],
   "source": [
    "overall.results = user.results %>%\n",
    "    select(DataSet, Algorithm, MAP=AvgPrec, MRR=RecipRank, nDCG, Rank.nDCG) %>%\n",
    "    gather(\"Metric\", \"value\", MAP, MRR, nDCG, Rank.nDCG) %>%\n",
    "    group_by(DataSet, Algorithm, Metric) %>%\n",
    "    summarize(value=mean(value)) %>%\n",
    "    ungroup() %>%\n",
    "    mutate(age = 'Any')\n",
    "age.combined.results = rbind(age.results, overall.results) %>%\n",
    "    filter(DataSet == \"LFM360K\")\n",
    "head(age.combined.results)"
   ]
  },
  {
   "cell_type": "code",
   "execution_count": 35,
   "metadata": {},
   "outputs": [
    {
     "name": "stderr",
     "output_type": "stream",
     "text": [
      "Warning message:\n",
      "“Removed 18 rows containing missing values (geom_bar).”"
     ]
    },
    {
     "data": {},
     "metadata": {},
     "output_type": "display_data"
    },
    {
     "data": {
      "image/png": "[encoded data removed]",
      "text/plain": [
       "plot without title"
      ]
     },
     "metadata": {},
     "output_type": "display_data"
    }
   ],
   "source": [
    "ggplot(age.combined.results) +\n",
    "    aes(x=age, y=value, fill=Algorithm) +\n",
    "    geom_bar(stat=\"identity\", position=\"dodge\") +\n",
    "    facet_wrap(~ Metric, scales=\"free\")"
   ]
  },
  {
   "cell_type": "code",
   "execution_count": null,
   "metadata": {
    "collapsed": true
   },
   "outputs": [],
   "source": []
  }
 ],
 "metadata": {
  "kernelspec": {
   "display_name": "R",
   "language": "R",
   "name": "ir"
  },
  "language_info": {
   "codemirror_mode": "r",
   "file_extension": ".r",
   "mimetype": "text/x-r-source",
   "name": "R",
   "pygments_lexer": "r",
   "version": "3.3.2"
  }
 },
 "nbformat": 4,
 "nbformat_minor": 2
}
