{
 "cells": [
  {
   "cell_type": "markdown",
   "metadata": {},
   "source": [
    "# Output Analysis\n",
    "\n",
    "This notebook contains our analysis of the recommender evaluation results.\n",
    "\n",
    "It proceeds in a few steps:\n",
    "\n",
    "1. [Setup](#Setup), where we do the initial R configuration\n",
    "2. [Read Data](#Read-Data), where we load in the experiment data for analysis\n",
    "3. [Controlling for Profile Size](#Controlling-for-Profile-Size), where we model accuracy as a function of user profile size in order to control for intrinsic profile difficulty\n",
    "4. [Gender](#Gender), where we analyze the results by gender.\n",
    "5. [Age](#Age), where we analyze the results by age."
   ]
  },
  {
   "cell_type": "markdown",
   "metadata": {},
   "source": [
    "## Setup\n",
    "\n",
    "Libraries:"
   ]
  },
  {
   "cell_type": "code",
   "execution_count": 2,
   "metadata": {},
   "outputs": [
    {
     "name": "stderr",
     "output_type": "stream",
     "text": [
      "\n",
      "Attaching package: ‘dplyr’\n",
      "\n",
      "The following objects are masked from ‘package:plyr’:\n",
      "\n",
      "    arrange, count, desc, failwith, id, mutate, rename, summarise,\n",
      "    summarize\n",
      "\n",
      "The following object is masked from ‘package:MASS’:\n",
      "\n",
      "    select\n",
      "\n",
      "The following objects are masked from ‘package:stats’:\n",
      "\n",
      "    filter, lag\n",
      "\n",
      "The following objects are masked from ‘package:base’:\n",
      "\n",
      "    intersect, setdiff, setequal, union\n",
      "\n"
     ]
    }
   ],
   "source": [
    "library(MASS)\n",
    "library(plyr)\n",
    "library(dplyr)\n",
    "library(readr)\n",
    "library(ggplot2)\n",
    "library(tidyr)\n",
    "library(modelr)\n",
    "library(tibble)"
   ]
  },
  {
   "cell_type": "markdown",
   "metadata": {},
   "source": [
    "Options:"
   ]
  },
  {
   "cell_type": "code",
   "execution_count": 3,
   "metadata": {
    "collapsed": true
   },
   "outputs": [],
   "source": [
    "options(repr.plot.height=5)\n",
    "options(repr.matrix.max.rows=10)\n",
    "options(repr.matrix.max.columns=10)"
   ]
  },
  {
   "cell_type": "markdown",
   "metadata": {},
   "source": [
    "## Read Data"
   ]
  },
  {
   "cell_type": "markdown",
   "metadata": {},
   "source": [
    "First, we need to read the user data from the underlying MovieLens data:"
   ]
  },
  {
   "cell_type": "code",
   "execution_count": 4,
   "metadata": {},
   "outputs": [
    {
     "data": {
      "text/html": [
       "<table>\n",
       "<thead><tr><th scope=col>user</th><th scope=col>gender</th><th scope=col>age</th><th scope=col>occupation</th><th scope=col>zip</th></tr></thead>\n",
       "<tbody>\n",
       "\t<tr><td>1    </td><td>F    </td><td>1    </td><td>10   </td><td>48067</td></tr>\n",
       "\t<tr><td>2    </td><td>M    </td><td>56   </td><td>16   </td><td>70072</td></tr>\n",
       "\t<tr><td>3    </td><td>M    </td><td>25   </td><td>15   </td><td>55117</td></tr>\n",
       "\t<tr><td>4    </td><td>M    </td><td>45   </td><td>7    </td><td>02460</td></tr>\n",
       "\t<tr><td>5    </td><td>M    </td><td>25   </td><td>20   </td><td>55455</td></tr>\n",
       "\t<tr><td>⋮</td><td>⋮</td><td>⋮</td><td>⋮</td><td>⋮</td></tr>\n",
       "\t<tr><td>6036 </td><td>F    </td><td>25   </td><td>15   </td><td>32603</td></tr>\n",
       "\t<tr><td>6037 </td><td>F    </td><td>45   </td><td>1    </td><td>76006</td></tr>\n",
       "\t<tr><td>6038 </td><td>F    </td><td>56   </td><td>1    </td><td>14706</td></tr>\n",
       "\t<tr><td>6039 </td><td>F    </td><td>45   </td><td>0    </td><td>01060</td></tr>\n",
       "\t<tr><td>6040 </td><td>M    </td><td>25   </td><td>6    </td><td>11106</td></tr>\n",
       "</tbody>\n",
       "</table>\n"
      ],
      "text/latex": [
       "\\begin{tabular}{r|lllll}\n",
       " user & gender & age & occupation & zip\\\\\n",
       "\\hline\n",
       "\t 1     & F     & 1     & 10    & 48067\\\\\n",
       "\t 2     & M     & 56    & 16    & 70072\\\\\n",
       "\t 3     & M     & 25    & 15    & 55117\\\\\n",
       "\t 4     & M     & 45    & 7     & 02460\\\\\n",
       "\t 5     & M     & 25    & 20    & 55455\\\\\n",
       "\t ⋮ & ⋮ & ⋮ & ⋮ & ⋮\\\\\n",
       "\t 6036  & F     & 25    & 15    & 32603\\\\\n",
       "\t 6037  & F     & 45    & 1     & 76006\\\\\n",
       "\t 6038  & F     & 56    & 1     & 14706\\\\\n",
       "\t 6039  & F     & 45    & 0     & 01060\\\\\n",
       "\t 6040  & M     & 25    & 6     & 11106\\\\\n",
       "\\end{tabular}\n"
      ],
      "text/markdown": [
       "\n",
       "user | gender | age | occupation | zip | \n",
       "|---|---|---|---|---|---|---|---|---|---|---|\n",
       "| 1     | F     | 1     | 10    | 48067 | \n",
       "| 2     | M     | 56    | 16    | 70072 | \n",
       "| 3     | M     | 25    | 15    | 55117 | \n",
       "| 4     | M     | 45    | 7     | 02460 | \n",
       "| 5     | M     | 25    | 20    | 55455 | \n",
       "| ⋮ | ⋮ | ⋮ | ⋮ | ⋮ | \n",
       "| 6036  | F     | 25    | 15    | 32603 | \n",
       "| 6037  | F     | 45    | 1     | 76006 | \n",
       "| 6038  | F     | 56    | 1     | 14706 | \n",
       "| 6039  | F     | 45    | 0     | 01060 | \n",
       "| 6040  | M     | 25    | 6     | 11106 | \n",
       "\n",
       "\n"
      ],
      "text/plain": [
       "     user gender age occupation zip  \n",
       "1    1    F      1   10         48067\n",
       "2    2    M      56  16         70072\n",
       "3    3    M      25  15         55117\n",
       "4    4    M      45  7          02460\n",
       "5    5    M      25  20         55455\n",
       "⋮    ⋮    ⋮      ⋮   ⋮          ⋮    \n",
       "6036 6036 F      25  15         32603\n",
       "6037 6037 F      45  1          76006\n",
       "6038 6038 F      56  1          14706\n",
       "6039 6039 F      45  0          01060\n",
       "6040 6040 M      25  6          11106"
      ]
     },
     "metadata": {},
     "output_type": "display_data"
    }
   ],
   "source": [
    "users.meta = read_delim(\"data/ml-1m/users.dat\", delim=\":\",\n",
    "                   col_names=c(\"user\", \"gender\", \"age\", \"occupation\", \"zip\"),\n",
    "                   col_types=\"i_c_c_c_c\") %>%\n",
    "    mutate(gender=as.factor(gender),\n",
    "           age=as.factor(age),\n",
    "           occupation=as.factor(occupation))\n",
    "users.meta"
   ]
  },
  {
   "cell_type": "markdown",
   "metadata": {},
   "source": [
    "Now, we want to get user profile statistics. In order to do that, we need each user's train profile; we can load that from the training data output by the cross-folding process.\n",
    "\n",
    "For each partition, we need to load the _train ratings_ (historical profile) for all the _test users_ in that partition. So we will load the test data (to get the users) and the train data (to get the histories), then merge them."
   ]
  },
  {
   "cell_type": "code",
   "execution_count": 5,
   "metadata": {},
   "outputs": [
    {
     "name": "stderr",
     "output_type": "stream",
     "text": [
      "reading part 1\n",
      "Joining, by = \"user\"\n",
      "reading part 2\n",
      "Joining, by = \"user\"\n",
      "reading part 3\n",
      "Joining, by = \"user\"\n",
      "reading part 4\n",
      "Joining, by = \"user\"\n",
      "reading part 5\n",
      "Joining, by = \"user\"\n"
     ]
    }
   ],
   "source": [
    "train.ratings = ldply(1:5, function(part) {\n",
    "    message(\"reading part \", part)\n",
    "    test.fn = sprintf(\"build/ML-1M.out/part0%d.test.csv\", part)\n",
    "    train.fn = sprintf(\"build/ML-1M.out/part0%d.train.csv\", part)\n",
    "    test = suppressMessages(read_csv(test.fn, col_names=c(\"user\", \"item\", \"rating\", \"timestamp\")))\n",
    "    train = suppressMessages(read_csv(train.fn, col_names=c(\"user\", \"item\", \"rating\", \"timestamp\")))\n",
    "    test %>%\n",
    "        select(user) %>%\n",
    "        distinct() %>%\n",
    "        mutate(part=as.factor(part), proto=as.factor('UserPct')) %>%\n",
    "        inner_join(train)\n",
    "})"
   ]
  },
  {
   "cell_type": "markdown",
   "metadata": {},
   "source": [
    "Quick summary just to see what this data looks like:"
   ]
  },
  {
   "cell_type": "code",
   "execution_count": 6,
   "metadata": {},
   "outputs": [
    {
     "data": {
      "text/plain": [
       " part           proto            rating     \n",
       " 1:200413   UserPct:970009   Min.   :1.000  \n",
       " 2:204820                    1st Qu.:3.000  \n",
       " 3:185240                    Median :4.000  \n",
       " 4:191357                    Mean   :3.578  \n",
       " 5:188179                    3rd Qu.:4.000  \n",
       "                             Max.   :5.000  "
      ]
     },
     "metadata": {},
     "output_type": "display_data"
    }
   ],
   "source": [
    "train.ratings %>%\n",
    "    select(part, proto, rating) %>%\n",
    "    summary()"
   ]
  },
  {
   "cell_type": "markdown",
   "metadata": {},
   "source": [
    "Now we want to compute per-user profile statistics:"
   ]
  },
  {
   "cell_type": "code",
   "execution_count": 7,
   "metadata": {},
   "outputs": [
    {
     "data": {
      "text/html": [
       "<table>\n",
       "<thead><tr><th scope=col>user</th><th scope=col>nratings</th><th scope=col>meanRating</th><th scope=col>ratingVar</th></tr></thead>\n",
       "<tbody>\n",
       "\t<tr><td>1        </td><td> 48      </td><td>4.166667 </td><td>0.4822695</td></tr>\n",
       "\t<tr><td>2        </td><td>124      </td><td>3.717742 </td><td>1.0009835</td></tr>\n",
       "\t<tr><td>3        </td><td> 46      </td><td>3.869565 </td><td>0.9159420</td></tr>\n",
       "\t<tr><td>4        </td><td> 16      </td><td>4.062500 </td><td>1.2625000</td></tr>\n",
       "\t<tr><td>5        </td><td>193      </td><td>3.129534 </td><td>1.2904253</td></tr>\n",
       "\t<tr><td>⋮</td><td>⋮</td><td>⋮</td><td>⋮</td></tr>\n",
       "\t<tr><td>6036     </td><td>883      </td><td>3.305776 </td><td>1.0492523</td></tr>\n",
       "\t<tr><td>6037     </td><td>197      </td><td>3.725888 </td><td>0.7816223</td></tr>\n",
       "\t<tr><td>6038     </td><td> 15      </td><td>4.200000 </td><td>0.6000000</td></tr>\n",
       "\t<tr><td>6039     </td><td>118      </td><td>3.872881 </td><td>0.5221643</td></tr>\n",
       "\t<tr><td>6040     </td><td>336      </td><td>3.589286 </td><td>1.3830490</td></tr>\n",
       "</tbody>\n",
       "</table>\n"
      ],
      "text/latex": [
       "\\begin{tabular}{r|llll}\n",
       " user & nratings & meanRating & ratingVar\\\\\n",
       "\\hline\n",
       "\t 1         &  48       & 4.166667  & 0.4822695\\\\\n",
       "\t 2         & 124       & 3.717742  & 1.0009835\\\\\n",
       "\t 3         &  46       & 3.869565  & 0.9159420\\\\\n",
       "\t 4         &  16       & 4.062500  & 1.2625000\\\\\n",
       "\t 5         & 193       & 3.129534  & 1.2904253\\\\\n",
       "\t ⋮ & ⋮ & ⋮ & ⋮\\\\\n",
       "\t 6036      & 883       & 3.305776  & 1.0492523\\\\\n",
       "\t 6037      & 197       & 3.725888  & 0.7816223\\\\\n",
       "\t 6038      &  15       & 4.200000  & 0.6000000\\\\\n",
       "\t 6039      & 118       & 3.872881  & 0.5221643\\\\\n",
       "\t 6040      & 336       & 3.589286  & 1.3830490\\\\\n",
       "\\end{tabular}\n"
      ],
      "text/markdown": [
       "\n",
       "user | nratings | meanRating | ratingVar | \n",
       "|---|---|---|---|---|---|---|---|---|---|---|\n",
       "| 1         |  48       | 4.166667  | 0.4822695 | \n",
       "| 2         | 124       | 3.717742  | 1.0009835 | \n",
       "| 3         |  46       | 3.869565  | 0.9159420 | \n",
       "| 4         |  16       | 4.062500  | 1.2625000 | \n",
       "| 5         | 193       | 3.129534  | 1.2904253 | \n",
       "| ⋮ | ⋮ | ⋮ | ⋮ | \n",
       "| 6036      | 883       | 3.305776  | 1.0492523 | \n",
       "| 6037      | 197       | 3.725888  | 0.7816223 | \n",
       "| 6038      |  15       | 4.200000  | 0.6000000 | \n",
       "| 6039      | 118       | 3.872881  | 0.5221643 | \n",
       "| 6040      | 336       | 3.589286  | 1.3830490 | \n",
       "\n",
       "\n"
      ],
      "text/plain": [
       "     user nratings meanRating ratingVar\n",
       "1    1     48      4.166667   0.4822695\n",
       "2    2    124      3.717742   1.0009835\n",
       "3    3     46      3.869565   0.9159420\n",
       "4    4     16      4.062500   1.2625000\n",
       "5    5    193      3.129534   1.2904253\n",
       "⋮    ⋮    ⋮        ⋮          ⋮        \n",
       "6036 6036 883      3.305776   1.0492523\n",
       "6037 6037 197      3.725888   0.7816223\n",
       "6038 6038  15      4.200000   0.6000000\n",
       "6039 6039 118      3.872881   0.5221643\n",
       "6040 6040 336      3.589286   1.3830490"
      ]
     },
     "metadata": {},
     "output_type": "display_data"
    }
   ],
   "source": [
    "user.stats = train.ratings %>%\n",
    "    group_by(user) %>%\n",
    "    summarize(nratings = n(), meanRating=mean(rating), ratingVar=var(rating))\n",
    "user.stats"
   ]
  },
  {
   "cell_type": "markdown",
   "metadata": {},
   "source": [
    "Join these statistics with our user metadata table, so that we have one table of user information:"
   ]
  },
  {
   "cell_type": "code",
   "execution_count": 8,
   "metadata": {},
   "outputs": [
    {
     "name": "stderr",
     "output_type": "stream",
     "text": [
      "Joining, by = \"user\"\n"
     ]
    },
    {
     "data": {
      "text/html": [
       "<table>\n",
       "<thead><tr><th scope=col>user</th><th scope=col>gender</th><th scope=col>age</th><th scope=col>occupation</th><th scope=col>zip</th><th scope=col>nratings</th><th scope=col>meanRating</th><th scope=col>ratingVar</th></tr></thead>\n",
       "<tbody>\n",
       "\t<tr><td>1        </td><td>F        </td><td>1        </td><td>10       </td><td>48067    </td><td> 48      </td><td>4.166667 </td><td>0.4822695</td></tr>\n",
       "\t<tr><td>2        </td><td>M        </td><td>56       </td><td>16       </td><td>70072    </td><td>124      </td><td>3.717742 </td><td>1.0009835</td></tr>\n",
       "\t<tr><td>3        </td><td>M        </td><td>25       </td><td>15       </td><td>55117    </td><td> 46      </td><td>3.869565 </td><td>0.9159420</td></tr>\n",
       "\t<tr><td>4        </td><td>M        </td><td>45       </td><td>7        </td><td>02460    </td><td> 16      </td><td>4.062500 </td><td>1.2625000</td></tr>\n",
       "\t<tr><td>5        </td><td>M        </td><td>25       </td><td>20       </td><td>55455    </td><td>193      </td><td>3.129534 </td><td>1.2904253</td></tr>\n",
       "\t<tr><td>⋮</td><td>⋮</td><td>⋮</td><td>⋮</td><td>⋮</td><td>⋮</td><td>⋮</td><td>⋮</td></tr>\n",
       "\t<tr><td>6036     </td><td>F        </td><td>25       </td><td>15       </td><td>32603    </td><td>883      </td><td>3.305776 </td><td>1.0492523</td></tr>\n",
       "\t<tr><td>6037     </td><td>F        </td><td>45       </td><td>1        </td><td>76006    </td><td>197      </td><td>3.725888 </td><td>0.7816223</td></tr>\n",
       "\t<tr><td>6038     </td><td>F        </td><td>56       </td><td>1        </td><td>14706    </td><td> 15      </td><td>4.200000 </td><td>0.6000000</td></tr>\n",
       "\t<tr><td>6039     </td><td>F        </td><td>45       </td><td>0        </td><td>01060    </td><td>118      </td><td>3.872881 </td><td>0.5221643</td></tr>\n",
       "\t<tr><td>6040     </td><td>M        </td><td>25       </td><td>6        </td><td>11106    </td><td>336      </td><td>3.589286 </td><td>1.3830490</td></tr>\n",
       "</tbody>\n",
       "</table>\n"
      ],
      "text/latex": [
       "\\begin{tabular}{r|llllllll}\n",
       " user & gender & age & occupation & zip & nratings & meanRating & ratingVar\\\\\n",
       "\\hline\n",
       "\t 1         & F         & 1         & 10        & 48067     &  48       & 4.166667  & 0.4822695\\\\\n",
       "\t 2         & M         & 56        & 16        & 70072     & 124       & 3.717742  & 1.0009835\\\\\n",
       "\t 3         & M         & 25        & 15        & 55117     &  46       & 3.869565  & 0.9159420\\\\\n",
       "\t 4         & M         & 45        & 7         & 02460     &  16       & 4.062500  & 1.2625000\\\\\n",
       "\t 5         & M         & 25        & 20        & 55455     & 193       & 3.129534  & 1.2904253\\\\\n",
       "\t ⋮ & ⋮ & ⋮ & ⋮ & ⋮ & ⋮ & ⋮ & ⋮\\\\\n",
       "\t 6036      & F         & 25        & 15        & 32603     & 883       & 3.305776  & 1.0492523\\\\\n",
       "\t 6037      & F         & 45        & 1         & 76006     & 197       & 3.725888  & 0.7816223\\\\\n",
       "\t 6038      & F         & 56        & 1         & 14706     &  15       & 4.200000  & 0.6000000\\\\\n",
       "\t 6039      & F         & 45        & 0         & 01060     & 118       & 3.872881  & 0.5221643\\\\\n",
       "\t 6040      & M         & 25        & 6         & 11106     & 336       & 3.589286  & 1.3830490\\\\\n",
       "\\end{tabular}\n"
      ],
      "text/markdown": [
       "\n",
       "user | gender | age | occupation | zip | nratings | meanRating | ratingVar | \n",
       "|---|---|---|---|---|---|---|---|---|---|---|\n",
       "| 1         | F         | 1         | 10        | 48067     |  48       | 4.166667  | 0.4822695 | \n",
       "| 2         | M         | 56        | 16        | 70072     | 124       | 3.717742  | 1.0009835 | \n",
       "| 3         | M         | 25        | 15        | 55117     |  46       | 3.869565  | 0.9159420 | \n",
       "| 4         | M         | 45        | 7         | 02460     |  16       | 4.062500  | 1.2625000 | \n",
       "| 5         | M         | 25        | 20        | 55455     | 193       | 3.129534  | 1.2904253 | \n",
       "| ⋮ | ⋮ | ⋮ | ⋮ | ⋮ | ⋮ | ⋮ | ⋮ | \n",
       "| 6036      | F         | 25        | 15        | 32603     | 883       | 3.305776  | 1.0492523 | \n",
       "| 6037      | F         | 45        | 1         | 76006     | 197       | 3.725888  | 0.7816223 | \n",
       "| 6038      | F         | 56        | 1         | 14706     |  15       | 4.200000  | 0.6000000 | \n",
       "| 6039      | F         | 45        | 0         | 01060     | 118       | 3.872881  | 0.5221643 | \n",
       "| 6040      | M         | 25        | 6         | 11106     | 336       | 3.589286  | 1.3830490 | \n",
       "\n",
       "\n"
      ],
      "text/plain": [
       "     user gender age occupation zip   nratings meanRating ratingVar\n",
       "1    1    F      1   10         48067  48      4.166667   0.4822695\n",
       "2    2    M      56  16         70072 124      3.717742   1.0009835\n",
       "3    3    M      25  15         55117  46      3.869565   0.9159420\n",
       "4    4    M      45  7          02460  16      4.062500   1.2625000\n",
       "5    5    M      25  20         55455 193      3.129534   1.2904253\n",
       "⋮    ⋮    ⋮      ⋮   ⋮          ⋮     ⋮        ⋮          ⋮        \n",
       "6036 6036 F      25  15         32603 883      3.305776   1.0492523\n",
       "6037 6037 F      45  1          76006 197      3.725888   0.7816223\n",
       "6038 6038 F      56  1          14706  15      4.200000   0.6000000\n",
       "6039 6039 F      45  0          01060 118      3.872881   0.5221643\n",
       "6040 6040 M      25  6          11106 336      3.589286   1.3830490"
      ]
     },
     "metadata": {},
     "output_type": "display_data"
    }
   ],
   "source": [
    "users = users.meta %>% inner_join(user.stats)\n",
    "users"
   ]
  },
  {
   "cell_type": "markdown",
   "metadata": {},
   "source": [
    "Now that we have user information, we can read the per-user recommender evaluation results."
   ]
  },
  {
   "cell_type": "code",
   "execution_count": 9,
   "metadata": {},
   "outputs": [
    {
     "name": "stderr",
     "output_type": "stream",
     "text": [
      "Parsed with column specification:\n",
      "cols(\n",
      "  DataSet = col_character(),\n",
      "  Partition = col_integer(),\n",
      "  Algorithm = col_character(),\n",
      "  User = col_integer(),\n",
      "  TestTime = col_double(),\n",
      "  RMSE = col_double(),\n",
      "  Rank.nDCG = col_double(),\n",
      "  nDCG = col_double(),\n",
      "  Rank = col_integer(),\n",
      "  RecipRank = col_double(),\n",
      "  AvgPrec = col_double(),\n",
      "  `1R.nDCG` = col_character(),\n",
      "  `1R.Rank` = col_character(),\n",
      "  `1R.RecipRank` = col_character(),\n",
      "  `1R.AvgPrec` = col_character()\n",
      ")\n",
      "Joining, by = \"user\"\n"
     ]
    },
    {
     "data": {
      "text/html": [
       "<table>\n",
       "<thead><tr><th scope=col>DataSet</th><th scope=col>Partition</th><th scope=col>Algorithm</th><th scope=col>user</th><th scope=col>TestTime</th><th scope=col>RMSE</th><th scope=col>Rank.nDCG</th><th scope=col>nDCG</th><th scope=col>Rank</th><th scope=col>RecipRank</th><th scope=col>⋯</th><th scope=col>1R.Rank</th><th scope=col>1R.RecipRank</th><th scope=col>1R.AvgPrec</th><th scope=col>gender</th><th scope=col>age</th><th scope=col>occupation</th><th scope=col>zip</th><th scope=col>nratings</th><th scope=col>meanRating</th><th scope=col>ratingVar</th></tr></thead>\n",
       "<tbody>\n",
       "\t<tr><td>ML-1M.UI </td><td>4        </td><td>Pop-B    </td><td>4040     </td><td>0.014    </td><td>NA       </td><td>1        </td><td>0        </td><td>NA       </td><td>0        </td><td>⋯        </td><td>NA       </td><td>NA       </td><td>NA       </td><td>M        </td><td>25       </td><td>20       </td><td>75006    </td><td>181      </td><td>2.972376 </td><td>1.4492327</td></tr>\n",
       "\t<tr><td>ML-1M.UI </td><td>4        </td><td>Pop-B    </td><td>4041     </td><td>0.007    </td><td>NA       </td><td>1        </td><td>0        </td><td>NA       </td><td>0        </td><td>⋯        </td><td>NA       </td><td>NA       </td><td>NA       </td><td>M        </td><td>18       </td><td>3        </td><td>48005    </td><td>839      </td><td>3.313468 </td><td>1.0340785</td></tr>\n",
       "\t<tr><td>ML-1M.UI </td><td>3        </td><td>Pop-B    </td><td>4084     </td><td>0.004    </td><td>NA       </td><td>1        </td><td>0        </td><td>NA       </td><td>0        </td><td>⋯        </td><td>NA       </td><td>NA       </td><td>NA       </td><td>M        </td><td>56       </td><td>13       </td><td>14215    </td><td>163      </td><td>4.343558 </td><td>0.5725971</td></tr>\n",
       "\t<tr><td>ML-1M.UI </td><td>4        </td><td>Pop-B    </td><td>4042     </td><td>0.005    </td><td>NA       </td><td>1        </td><td>0        </td><td>NA       </td><td>0        </td><td>⋯        </td><td>NA       </td><td>NA       </td><td>NA       </td><td>M        </td><td>35       </td><td>15       </td><td>94002    </td><td>441      </td><td>3.349206 </td><td>0.8868687</td></tr>\n",
       "\t<tr><td>ML-1M.UI </td><td>3        </td><td>Pop-B    </td><td>4085     </td><td>0.004    </td><td>NA       </td><td>1        </td><td>0        </td><td>NA       </td><td>0        </td><td>⋯        </td><td>NA       </td><td>NA       </td><td>NA       </td><td>F        </td><td>25       </td><td>6        </td><td>79416    </td><td>824      </td><td>3.610437 </td><td>0.7216892</td></tr>\n",
       "\t<tr><td>ML-1M.UI </td><td>4        </td><td>Pop-B    </td><td>4045     </td><td>0.003    </td><td>NA       </td><td>1        </td><td>0        </td><td>NA       </td><td>0        </td><td>⋯        </td><td>NA       </td><td>NA       </td><td>NA       </td><td>M        </td><td>56       </td><td>13       </td><td>40511    </td><td> 39      </td><td>3.538462 </td><td>1.3603239</td></tr>\n",
       "</tbody>\n",
       "</table>\n"
      ],
      "text/latex": [
       "\\begin{tabular}{r|llllllllllllllllllllll}\n",
       " DataSet & Partition & Algorithm & user & TestTime & RMSE & Rank.nDCG & nDCG & Rank & RecipRank & ⋯ & 1R.Rank & 1R.RecipRank & 1R.AvgPrec & gender & age & occupation & zip & nratings & meanRating & ratingVar\\\\\n",
       "\\hline\n",
       "\t ML-1M.UI  & 4         & Pop-B     & 4040      & 0.014     & NA        & 1         & 0         & NA        & 0         & ⋯         & NA        & NA        & NA        & M         & 25        & 20        & 75006     & 181       & 2.972376  & 1.4492327\\\\\n",
       "\t ML-1M.UI  & 4         & Pop-B     & 4041      & 0.007     & NA        & 1         & 0         & NA        & 0         & ⋯         & NA        & NA        & NA        & M         & 18        & 3         & 48005     & 839       & 3.313468  & 1.0340785\\\\\n",
       "\t ML-1M.UI  & 3         & Pop-B     & 4084      & 0.004     & NA        & 1         & 0         & NA        & 0         & ⋯         & NA        & NA        & NA        & M         & 56        & 13        & 14215     & 163       & 4.343558  & 0.5725971\\\\\n",
       "\t ML-1M.UI  & 4         & Pop-B     & 4042      & 0.005     & NA        & 1         & 0         & NA        & 0         & ⋯         & NA        & NA        & NA        & M         & 35        & 15        & 94002     & 441       & 3.349206  & 0.8868687\\\\\n",
       "\t ML-1M.UI  & 3         & Pop-B     & 4085      & 0.004     & NA        & 1         & 0         & NA        & 0         & ⋯         & NA        & NA        & NA        & F         & 25        & 6         & 79416     & 824       & 3.610437  & 0.7216892\\\\\n",
       "\t ML-1M.UI  & 4         & Pop-B     & 4045      & 0.003     & NA        & 1         & 0         & NA        & 0         & ⋯         & NA        & NA        & NA        & M         & 56        & 13        & 40511     &  39       & 3.538462  & 1.3603239\\\\\n",
       "\\end{tabular}\n"
      ],
      "text/markdown": [
       "\n",
       "DataSet | Partition | Algorithm | user | TestTime | RMSE | Rank.nDCG | nDCG | Rank | RecipRank | ⋯ | 1R.Rank | 1R.RecipRank | 1R.AvgPrec | gender | age | occupation | zip | nratings | meanRating | ratingVar | \n",
       "|---|---|---|---|---|---|\n",
       "| ML-1M.UI  | 4         | Pop-B     | 4040      | 0.014     | NA        | 1         | 0         | NA        | 0         | ⋯         | NA        | NA        | NA        | M         | 25        | 20        | 75006     | 181       | 2.972376  | 1.4492327 | \n",
       "| ML-1M.UI  | 4         | Pop-B     | 4041      | 0.007     | NA        | 1         | 0         | NA        | 0         | ⋯         | NA        | NA        | NA        | M         | 18        | 3         | 48005     | 839       | 3.313468  | 1.0340785 | \n",
       "| ML-1M.UI  | 3         | Pop-B     | 4084      | 0.004     | NA        | 1         | 0         | NA        | 0         | ⋯         | NA        | NA        | NA        | M         | 56        | 13        | 14215     | 163       | 4.343558  | 0.5725971 | \n",
       "| ML-1M.UI  | 4         | Pop-B     | 4042      | 0.005     | NA        | 1         | 0         | NA        | 0         | ⋯         | NA        | NA        | NA        | M         | 35        | 15        | 94002     | 441       | 3.349206  | 0.8868687 | \n",
       "| ML-1M.UI  | 3         | Pop-B     | 4085      | 0.004     | NA        | 1         | 0         | NA        | 0         | ⋯         | NA        | NA        | NA        | F         | 25        | 6         | 79416     | 824       | 3.610437  | 0.7216892 | \n",
       "| ML-1M.UI  | 4         | Pop-B     | 4045      | 0.003     | NA        | 1         | 0         | NA        | 0         | ⋯         | NA        | NA        | NA        | M         | 56        | 13        | 40511     |  39       | 3.538462  | 1.3603239 | \n",
       "\n",
       "\n"
      ],
      "text/plain": [
       "  DataSet  Partition Algorithm user TestTime RMSE Rank.nDCG nDCG Rank RecipRank\n",
       "1 ML-1M.UI 4         Pop-B     4040 0.014    NA   1         0    NA   0        \n",
       "2 ML-1M.UI 4         Pop-B     4041 0.007    NA   1         0    NA   0        \n",
       "3 ML-1M.UI 3         Pop-B     4084 0.004    NA   1         0    NA   0        \n",
       "4 ML-1M.UI 4         Pop-B     4042 0.005    NA   1         0    NA   0        \n",
       "5 ML-1M.UI 3         Pop-B     4085 0.004    NA   1         0    NA   0        \n",
       "6 ML-1M.UI 4         Pop-B     4045 0.003    NA   1         0    NA   0        \n",
       "  ⋯ 1R.Rank 1R.RecipRank 1R.AvgPrec gender age occupation zip   nratings\n",
       "1 ⋯ NA      NA           NA         M      25  20         75006 181     \n",
       "2 ⋯ NA      NA           NA         M      18  3          48005 839     \n",
       "3 ⋯ NA      NA           NA         M      56  13         14215 163     \n",
       "4 ⋯ NA      NA           NA         M      35  15         94002 441     \n",
       "5 ⋯ NA      NA           NA         F      25  6          79416 824     \n",
       "6 ⋯ NA      NA           NA         M      56  13         40511  39     \n",
       "  meanRating ratingVar\n",
       "1 2.972376   1.4492327\n",
       "2 3.313468   1.0340785\n",
       "3 4.343558   0.5725971\n",
       "4 3.349206   0.8868687\n",
       "5 3.610437   0.7216892\n",
       "6 3.538462   1.3603239"
      ]
     },
     "metadata": {},
     "output_type": "display_data"
    }
   ],
   "source": [
    "user.results.all = read_csv(\"build/movielens-user-results.csv\", guess_max=10000) %>%\n",
    "    rename(user=User) %>%\n",
    "    mutate(DataSet=as.factor(DataSet), \n",
    "           Partition=as.factor(Partition),\n",
    "           Algorithm=as.factor(Algorithm)) %>%\n",
    "    inner_join(users)\n",
    "head(user.results.all)"
   ]
  },
  {
   "cell_type": "markdown",
   "metadata": {},
   "source": [
    "We will often want to use the standard-crossfold user results, so filter those down into a table:"
   ]
  },
  {
   "cell_type": "code",
   "execution_count": 10,
   "metadata": {
    "collapsed": true
   },
   "outputs": [],
   "source": [
    "user.results = user.results.all %>%\n",
    "    filter(DataSet == 'ML-1M')"
   ]
  },
  {
   "cell_type": "code",
   "execution_count": 11,
   "metadata": {},
   "outputs": [],
   "source": [
    "write_csv(user.results, \"build/movielens-integrated-user-results.csv\")"
   ]
  },
  {
   "cell_type": "markdown",
   "metadata": {},
   "source": [
    "## Gender\n",
    "\n",
    "Let's analyze accuracy by gender."
   ]
  },
  {
   "cell_type": "code",
   "execution_count": 22,
   "metadata": {},
   "outputs": [
    {
     "data": {
      "text/html": [
       "<table>\n",
       "<thead><tr><th scope=col>Algorithm</th><th scope=col>gender</th><th scope=col>Metric</th><th scope=col>value</th></tr></thead>\n",
       "<tbody>\n",
       "\t<tr><td>II-B     </td><td>F        </td><td>MAP      </td><td>0.1419284</td></tr>\n",
       "\t<tr><td>II-B     </td><td>F        </td><td>MRR      </td><td>0.2145984</td></tr>\n",
       "\t<tr><td>II-B     </td><td>F        </td><td>nDCG     </td><td>0.1643127</td></tr>\n",
       "\t<tr><td>II-B     </td><td>F        </td><td>RMSE     </td><td>       NA</td></tr>\n",
       "\t<tr><td>II-B     </td><td>M        </td><td>MAP      </td><td>0.1679569</td></tr>\n",
       "\t<tr><td>II-B     </td><td>M        </td><td>MRR      </td><td>0.2622334</td></tr>\n",
       "</tbody>\n",
       "</table>\n"
      ],
      "text/latex": [
       "\\begin{tabular}{r|llll}\n",
       " Algorithm & gender & Metric & value\\\\\n",
       "\\hline\n",
       "\t II-B      & F         & MAP       & 0.1419284\\\\\n",
       "\t II-B      & F         & MRR       & 0.2145984\\\\\n",
       "\t II-B      & F         & nDCG      & 0.1643127\\\\\n",
       "\t II-B      & F         & RMSE      &        NA\\\\\n",
       "\t II-B      & M         & MAP       & 0.1679569\\\\\n",
       "\t II-B      & M         & MRR       & 0.2622334\\\\\n",
       "\\end{tabular}\n"
      ],
      "text/markdown": [
       "\n",
       "Algorithm | gender | Metric | value | \n",
       "|---|---|---|---|---|---|\n",
       "| II-B      | F         | MAP       | 0.1419284 | \n",
       "| II-B      | F         | MRR       | 0.2145984 | \n",
       "| II-B      | F         | nDCG      | 0.1643127 | \n",
       "| II-B      | F         | RMSE      |        NA | \n",
       "| II-B      | M         | MAP       | 0.1679569 | \n",
       "| II-B      | M         | MRR       | 0.2622334 | \n",
       "\n",
       "\n"
      ],
      "text/plain": [
       "  Algorithm gender Metric value    \n",
       "1 II-B      F      MAP    0.1419284\n",
       "2 II-B      F      MRR    0.2145984\n",
       "3 II-B      F      nDCG   0.1643127\n",
       "4 II-B      F      RMSE          NA\n",
       "5 II-B      M      MAP    0.1679569\n",
       "6 II-B      M      MRR    0.2622334"
      ]
     },
     "metadata": {},
     "output_type": "display_data"
    }
   ],
   "source": [
    "# FIXME re-add rank.ndcg\n",
    "gender.results = user.results %>%\n",
    "    select(Algorithm, gender, MAP=AvgPrec, MRR=RecipRank, RMSE, nDCG) %>%\n",
    "    gather(\"Metric\", \"value\", -Algorithm, -gender) %>%\n",
    "    group_by(Algorithm, gender, Metric) %>%\n",
    "    summarize(value=mean(value)) %>%\n",
    "    ungroup()\n",
    "head(gender.results)"
   ]
  },
  {
   "cell_type": "code",
   "execution_count": 23,
   "metadata": {},
   "outputs": [
    {
     "data": {
      "text/html": [
       "<table>\n",
       "<thead><tr><th scope=col>Algorithm</th><th scope=col>gender</th><th scope=col>Metric</th><th scope=col>value</th></tr></thead>\n",
       "<tbody>\n",
       "\t<tr><td>II-B     </td><td>F        </td><td>MAP      </td><td>0.1419284</td></tr>\n",
       "\t<tr><td>II-B     </td><td>F        </td><td>MRR      </td><td>0.2145984</td></tr>\n",
       "\t<tr><td>II-B     </td><td>F        </td><td>nDCG     </td><td>0.1643127</td></tr>\n",
       "\t<tr><td>II-B     </td><td>F        </td><td>RMSE     </td><td>       NA</td></tr>\n",
       "\t<tr><td>II-B     </td><td>M        </td><td>MAP      </td><td>0.1679569</td></tr>\n",
       "\t<tr><td>II-B     </td><td>M        </td><td>MRR      </td><td>0.2622334</td></tr>\n",
       "</tbody>\n",
       "</table>\n"
      ],
      "text/latex": [
       "\\begin{tabular}{r|llll}\n",
       " Algorithm & gender & Metric & value\\\\\n",
       "\\hline\n",
       "\t II-B      & F         & MAP       & 0.1419284\\\\\n",
       "\t II-B      & F         & MRR       & 0.2145984\\\\\n",
       "\t II-B      & F         & nDCG      & 0.1643127\\\\\n",
       "\t II-B      & F         & RMSE      &        NA\\\\\n",
       "\t II-B      & M         & MAP       & 0.1679569\\\\\n",
       "\t II-B      & M         & MRR       & 0.2622334\\\\\n",
       "\\end{tabular}\n"
      ],
      "text/markdown": [
       "\n",
       "Algorithm | gender | Metric | value | \n",
       "|---|---|---|---|---|---|\n",
       "| II-B      | F         | MAP       | 0.1419284 | \n",
       "| II-B      | F         | MRR       | 0.2145984 | \n",
       "| II-B      | F         | nDCG      | 0.1643127 | \n",
       "| II-B      | F         | RMSE      |        NA | \n",
       "| II-B      | M         | MAP       | 0.1679569 | \n",
       "| II-B      | M         | MRR       | 0.2622334 | \n",
       "\n",
       "\n"
      ],
      "text/plain": [
       "  Algorithm gender Metric value    \n",
       "1 II-B      F      MAP    0.1419284\n",
       "2 II-B      F      MRR    0.2145984\n",
       "3 II-B      F      nDCG   0.1643127\n",
       "4 II-B      F      RMSE          NA\n",
       "5 II-B      M      MAP    0.1679569\n",
       "6 II-B      M      MRR    0.2622334"
      ]
     },
     "metadata": {},
     "output_type": "display_data"
    }
   ],
   "source": [
    "overall.results = user.results %>%\n",
    "    select(Algorithm, MAP=AvgPrec, MRR=RecipRank, RMSE, nDCG) %>%\n",
    "    gather(\"Metric\", \"value\", -Algorithm) %>%\n",
    "    group_by(Algorithm, Metric) %>%\n",
    "    summarize(value=mean(value)) %>%\n",
    "    ungroup() %>%\n",
    "    mutate(gender = 'Any')\n",
    "combined.results = rbind(gender.results, overall.results)\n",
    "head(combined.results)"
   ]
  },
  {
   "cell_type": "code",
   "execution_count": 24,
   "metadata": {},
   "outputs": [
    {
     "name": "stderr",
     "output_type": "stream",
     "text": [
      "Warning message:\n",
      "“Removed 12 rows containing missing values (geom_bar).”"
     ]
    },
    {
     "data": {},
     "metadata": {},
     "output_type": "display_data"
    },
    {
     "data": {
      "image/png": "[encoded data removed]",
      "text/plain": [
       "plot without title"
      ]
     },
     "metadata": {},
     "output_type": "display_data"
    }
   ],
   "source": [
    "ggplot(combined.results) +\n",
    "    aes(x=gender, y=value, fill=Algorithm) +\n",
    "    geom_bar(stat=\"identity\", position=\"dodge\") +\n",
    "    facet_wrap(~ Metric, scales=\"free\")"
   ]
  },
  {
   "cell_type": "markdown",
   "metadata": {},
   "source": [
    "## Age"
   ]
  },
  {
   "cell_type": "markdown",
   "metadata": {},
   "source": [
    "We now want to examine accuracy as a function of age. We're basically going to do the same thing we did for gender.\n",
    "\n",
    "Start by aggregating the results:"
   ]
  },
  {
   "cell_type": "code",
   "execution_count": 30,
   "metadata": {},
   "outputs": [
    {
     "data": {
      "text/html": [
       "<table>\n",
       "<thead><tr><th scope=col>Algorithm</th><th scope=col>age</th><th scope=col>Metric</th><th scope=col>value</th></tr></thead>\n",
       "<tbody>\n",
       "\t<tr><td>II-B     </td><td>1        </td><td>MAP      </td><td>0.1448092</td></tr>\n",
       "\t<tr><td>II-B     </td><td>1        </td><td>MRR      </td><td>0.2267504</td></tr>\n",
       "\t<tr><td>II-B     </td><td>1        </td><td>nDCG     </td><td>0.1804995</td></tr>\n",
       "\t<tr><td>II-B     </td><td>18       </td><td>MAP      </td><td>0.1654056</td></tr>\n",
       "\t<tr><td>II-B     </td><td>18       </td><td>MRR      </td><td>0.2635039</td></tr>\n",
       "\t<tr><td>⋮</td><td>⋮</td><td>⋮</td><td>⋮</td></tr>\n",
       "\t<tr><td>UU-E       </td><td>50         </td><td>MRR        </td><td>0.007145532</td></tr>\n",
       "\t<tr><td>UU-E       </td><td>50         </td><td>nDCG       </td><td>0.022216754</td></tr>\n",
       "\t<tr><td>UU-E       </td><td>56         </td><td>MAP        </td><td>0.006705764</td></tr>\n",
       "\t<tr><td>UU-E       </td><td>56         </td><td>MRR        </td><td>0.006429232</td></tr>\n",
       "\t<tr><td>UU-E       </td><td>56         </td><td>nDCG       </td><td>0.021696886</td></tr>\n",
       "</tbody>\n",
       "</table>\n"
      ],
      "text/latex": [
       "\\begin{tabular}{r|llll}\n",
       " Algorithm & age & Metric & value\\\\\n",
       "\\hline\n",
       "\t II-B      & 1         & MAP       & 0.1448092\\\\\n",
       "\t II-B      & 1         & MRR       & 0.2267504\\\\\n",
       "\t II-B      & 1         & nDCG      & 0.1804995\\\\\n",
       "\t II-B      & 18        & MAP       & 0.1654056\\\\\n",
       "\t II-B      & 18        & MRR       & 0.2635039\\\\\n",
       "\t ⋮ & ⋮ & ⋮ & ⋮\\\\\n",
       "\t UU-E        & 50          & MRR         & 0.007145532\\\\\n",
       "\t UU-E        & 50          & nDCG        & 0.022216754\\\\\n",
       "\t UU-E        & 56          & MAP         & 0.006705764\\\\\n",
       "\t UU-E        & 56          & MRR         & 0.006429232\\\\\n",
       "\t UU-E        & 56          & nDCG        & 0.021696886\\\\\n",
       "\\end{tabular}\n"
      ],
      "text/markdown": [
       "\n",
       "Algorithm | age | Metric | value | \n",
       "|---|---|---|---|---|---|---|---|---|---|---|\n",
       "| II-B      | 1         | MAP       | 0.1448092 | \n",
       "| II-B      | 1         | MRR       | 0.2267504 | \n",
       "| II-B      | 1         | nDCG      | 0.1804995 | \n",
       "| II-B      | 18        | MAP       | 0.1654056 | \n",
       "| II-B      | 18        | MRR       | 0.2635039 | \n",
       "| ⋮ | ⋮ | ⋮ | ⋮ | \n",
       "| UU-E        | 50          | MRR         | 0.007145532 | \n",
       "| UU-E        | 50          | nDCG        | 0.022216754 | \n",
       "| UU-E        | 56          | MAP         | 0.006705764 | \n",
       "| UU-E        | 56          | MRR         | 0.006429232 | \n",
       "| UU-E        | 56          | nDCG        | 0.021696886 | \n",
       "\n",
       "\n"
      ],
      "text/plain": [
       "    Algorithm age Metric value      \n",
       "1   II-B      1   MAP    0.1448092  \n",
       "2   II-B      1   MRR    0.2267504  \n",
       "3   II-B      1   nDCG   0.1804995  \n",
       "4   II-B      18  MAP    0.1654056  \n",
       "5   II-B      18  MRR    0.2635039  \n",
       "⋮   ⋮         ⋮   ⋮      ⋮          \n",
       "164 UU-E      50  MRR    0.007145532\n",
       "165 UU-E      50  nDCG   0.022216754\n",
       "166 UU-E      56  MAP    0.006705764\n",
       "167 UU-E      56  MRR    0.006429232\n",
       "168 UU-E      56  nDCG   0.021696886"
      ]
     },
     "metadata": {},
     "output_type": "display_data"
    }
   ],
   "source": [
    "# FIXME Re-add rank nDCG\n",
    "age.results = user.results %>%\n",
    "    select(Algorithm, age, MAP=AvgPrec, MRR=RecipRank, nDCG) %>%\n",
    "    gather(\"Metric\", \"value\", -Algorithm, -age) %>%\n",
    "    group_by(Algorithm, age, Metric) %>%\n",
    "    summarize(value=mean(value))\n",
    "age.results"
   ]
  },
  {
   "cell_type": "markdown",
   "metadata": {},
   "source": [
    "And then we can plot them:"
   ]
  },
  {
   "cell_type": "code",
   "execution_count": 31,
   "metadata": {},
   "outputs": [
    {
     "data": {},
     "metadata": {},
     "output_type": "display_data"
    },
    {
     "data": {
      "image/png": "[encoded data removed]",
      "text/plain": [
       "plot without title"
      ]
     },
     "metadata": {},
     "output_type": "display_data"
    }
   ],
   "source": [
    "ggplot(age.results) +\n",
    "    aes(x=age, y=value, fill=Algorithm) +\n",
    "    geom_bar(stat=\"identity\", position=\"dodge\") +\n",
    "    facet_grid(Metric ~ ., scales=\"free_y\")"
   ]
  },
  {
   "cell_type": "markdown",
   "metadata": {},
   "source": [
    "### Controlling for Profile Size\n",
    "\n",
    "Let's control for profile size again."
   ]
  },
  {
   "cell_type": "code",
   "execution_count": 32,
   "metadata": {},
   "outputs": [
    {
     "name": "stderr",
     "output_type": "stream",
     "text": [
      "Joining, by = \"user\"\n"
     ]
    },
    {
     "data": {
      "text/html": [
       "<table>\n",
       "<thead><tr><th scope=col>age</th><th scope=col>Algorithm</th><th scope=col>nDCG</th><th scope=col>Corr.nDCG</th></tr></thead>\n",
       "<tbody>\n",
       "\t<tr><td>1          </td><td>II-B       </td><td>0.18049953 </td><td> 0.09327252</td></tr>\n",
       "\t<tr><td>1          </td><td>II-E       </td><td>0.02916638 </td><td>-0.05806063</td></tr>\n",
       "\t<tr><td>1          </td><td>Mean-E     </td><td>0.02325226 </td><td>-0.06397475</td></tr>\n",
       "\t<tr><td>1          </td><td>MF-B       </td><td>0.04930430 </td><td>-0.03792271</td></tr>\n",
       "\t<tr><td>1          </td><td>MF-E       </td><td>0.02870881 </td><td>-0.05851821</td></tr>\n",
       "\t<tr><td>1          </td><td>Pop-B      </td><td>0.11716021 </td><td> 0.02993319</td></tr>\n",
       "</tbody>\n",
       "</table>\n"
      ],
      "text/latex": [
       "\\begin{tabular}{r|llll}\n",
       " age & Algorithm & nDCG & Corr.nDCG\\\\\n",
       "\\hline\n",
       "\t 1           & II-B        & 0.18049953  &  0.09327252\\\\\n",
       "\t 1           & II-E        & 0.02916638  & -0.05806063\\\\\n",
       "\t 1           & Mean-E      & 0.02325226  & -0.06397475\\\\\n",
       "\t 1           & MF-B        & 0.04930430  & -0.03792271\\\\\n",
       "\t 1           & MF-E        & 0.02870881  & -0.05851821\\\\\n",
       "\t 1           & Pop-B       & 0.11716021  &  0.02993319\\\\\n",
       "\\end{tabular}\n"
      ],
      "text/markdown": [
       "\n",
       "age | Algorithm | nDCG | Corr.nDCG | \n",
       "|---|---|---|---|---|---|\n",
       "| 1           | II-B        | 0.18049953  |  0.09327252 | \n",
       "| 1           | II-E        | 0.02916638  | -0.05806063 | \n",
       "| 1           | Mean-E      | 0.02325226  | -0.06397475 | \n",
       "| 1           | MF-B        | 0.04930430  | -0.03792271 | \n",
       "| 1           | MF-E        | 0.02870881  | -0.05851821 | \n",
       "| 1           | Pop-B       | 0.11716021  |  0.02993319 | \n",
       "\n",
       "\n"
      ],
      "text/plain": [
       "  age Algorithm nDCG       Corr.nDCG  \n",
       "1 1   II-B      0.18049953  0.09327252\n",
       "2 1   II-E      0.02916638 -0.05806063\n",
       "3 1   Mean-E    0.02325226 -0.06397475\n",
       "4 1   MF-B      0.04930430 -0.03792271\n",
       "5 1   MF-E      0.02870881 -0.05851821\n",
       "6 1   Pop-B     0.11716021  0.02993319"
      ]
     },
     "metadata": {},
     "output_type": "display_data"
    }
   ],
   "source": [
    "age.corr.ndcg = user.results %>%\n",
    "    select(user, Algorithm, age, nDCG) %>%\n",
    "    inner_join(select(user.ndcg.preds, user, Pred.nDCG=pred)) %>%\n",
    "    mutate(Corr.nDCG = nDCG - Pred.nDCG) %>%\n",
    "    group_by(age, Algorithm) %>%\n",
    "    summarize(nDCG=mean(nDCG), Corr.nDCG=mean(Corr.nDCG))\n",
    "head(age.corr.ndcg)"
   ]
  },
  {
   "cell_type": "code",
   "execution_count": 33,
   "metadata": {},
   "outputs": [
    {
     "data": {},
     "metadata": {},
     "output_type": "display_data"
    },
    {
     "data": {
      "image/png": "[encoded data removed]",
      "text/plain": [
       "plot without title"
      ]
     },
     "metadata": {},
     "output_type": "display_data"
    }
   ],
   "source": [
    "ggplot(age.corr.ndcg) +\n",
    "    aes(x=age, y=Corr.nDCG, fill=Algorithm) +\n",
    "    geom_bar(stat=\"identity\", position=\"dodge\")"
   ]
  },
  {
   "cell_type": "markdown",
   "metadata": {
    "collapsed": true
   },
   "source": [
    "Discrepancy in performance is robust to controls for size."
   ]
  }
 ],
 "metadata": {
  "kernelspec": {
   "display_name": "R",
   "language": "R",
   "name": "ir"
  },
  "language_info": {
   "codemirror_mode": "r",
   "file_extension": ".r",
   "mimetype": "text/x-r-source",
   "name": "R",
   "pygments_lexer": "r",
   "version": "3.3.2"
  }
 },
 "nbformat": 4,
 "nbformat_minor": 2
}
