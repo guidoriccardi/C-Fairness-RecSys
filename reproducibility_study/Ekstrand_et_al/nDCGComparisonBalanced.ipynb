{
 "cells": [
  {
   "cell_type": "markdown",
   "metadata": {},
   "source": [
    "# nDCG Comparison Between Balanced and unBalanced dataset\n",
    "\n",
    "Before running this notebook, run BasicResults.ipynb and BasicResults-balanced.ipynb to prepare integrated data files"
   ]
  },
  {
   "cell_type": "markdown",
   "metadata": {},
   "source": [
    "## Setup\n",
    "\n",
    "Libraries:"
   ]
  },
  {
   "cell_type": "code",
   "execution_count": 30,
   "metadata": {
    "collapsed": true
   },
   "outputs": [],
   "source": [
    "library(dplyr)\n",
    "library(readr)\n",
    "library(tidyr)"
   ]
  },
  {
   "cell_type": "markdown",
   "metadata": {},
   "source": [
    "Options:"
   ]
  },
  {
   "cell_type": "code",
   "execution_count": 2,
   "metadata": {
    "collapsed": true
   },
   "outputs": [],
   "source": [
    "options(repr.plot.height=5)\n",
    "options(repr.matrix.max.rows=10)\n",
    "options(repr.matrix.max.columns=10)"
   ]
  },
  {
   "cell_type": "markdown",
   "metadata": {},
   "source": [
    "## Read Data"
   ]
  },
  {
   "cell_type": "code",
   "execution_count": 15,
   "metadata": {},
   "outputs": [
    {
     "name": "stderr",
     "output_type": "stream",
     "text": [
      "Parsed with column specification:\n",
      "cols(\n",
      "  .default = col_character(),\n",
      "  Partition = col_integer(),\n",
      "  user = col_integer(),\n",
      "  TestTime = col_double(),\n",
      "  RMSE = col_double(),\n",
      "  Rank.nDCG = col_double(),\n",
      "  L100.nDCG = col_double(),\n",
      "  L100.Rank = col_integer(),\n",
      "  L100.RecipRank = col_double(),\n",
      "  L100.AvgPrec = col_double(),\n",
      "  TopN.ActualLength = col_double(),\n",
      "  nDCG = col_double(),\n",
      "  Rank = col_integer(),\n",
      "  RecipRank = col_double(),\n",
      "  AvgPrec = col_double(),\n",
      "  occupation = col_integer(),\n",
      "  nitems = col_integer()\n",
      ")\n",
      "See spec(...) for full column specifications.\n"
     ]
    },
    {
     "data": {
      "text/html": [
       "<table>\n",
       "<thead><tr><th scope=col>DataSet</th><th scope=col>Partition</th><th scope=col>Algorithm</th><th scope=col>user</th><th scope=col>TestTime</th><th scope=col>RMSE</th><th scope=col>Rank.nDCG</th><th scope=col>L100.nDCG</th><th scope=col>L100.Rank</th><th scope=col>L100.RecipRank</th><th scope=col>⋯</th><th scope=col>L10K.TopN.ActualLength</th><th scope=col>L10K.Rank</th><th scope=col>L10K.RecipRank</th><th scope=col>L10K.nDCG</th><th scope=col>L10K.AvgPrec</th><th scope=col>gender</th><th scope=col>age</th><th scope=col>occupation</th><th scope=col>zip</th><th scope=col>nitems</th></tr></thead>\n",
       "<tbody>\n",
       "\t<tr><td>ML1M     </td><td>1        </td><td>UU-B     </td><td>4031     </td><td>4.468    </td><td>NA       </td><td>1.0000000</td><td>0.9514849</td><td>1        </td><td>1.0000000</td><td>⋯        </td><td>NA       </td><td>NA       </td><td>NA       </td><td>NA       </td><td>NA       </td><td>M        </td><td>25-34    </td><td> 0       </td><td>42445    </td><td> 46      </td></tr>\n",
       "\t<tr><td>ML1M     </td><td>1        </td><td>UU-B     </td><td>4032     </td><td>4.369    </td><td>NA       </td><td>1.0000000</td><td>0.3076758</td><td>3        </td><td>0.3333333</td><td>⋯        </td><td>NA       </td><td>NA       </td><td>NA       </td><td>NA       </td><td>NA       </td><td>M        </td><td>25-34    </td><td>12       </td><td>56301    </td><td>148      </td></tr>\n",
       "\t<tr><td>ML1M     </td><td>1        </td><td>UU-B     </td><td>4033     </td><td>5.327    </td><td>NA       </td><td>0.9377782</td><td>0.1819110</td><td>5        </td><td>0.2000000</td><td>⋯        </td><td>NA       </td><td>NA       </td><td>NA       </td><td>NA       </td><td>NA       </td><td>M        </td><td>25-34    </td><td> 6       </td><td>43551    </td><td>657      </td></tr>\n",
       "\t<tr><td>ML1M     </td><td>1        </td><td>UU-B     </td><td>4034     </td><td>4.325    </td><td>NA       </td><td>0.9960107</td><td>0.3159364</td><td>4        </td><td>0.2500000</td><td>⋯        </td><td>NA       </td><td>NA       </td><td>NA       </td><td>NA       </td><td>NA       </td><td>M        </td><td>25-34    </td><td> 0       </td><td>21113    </td><td>103      </td></tr>\n",
       "\t<tr><td>ML1M     </td><td>1        </td><td>UU-B     </td><td>4039     </td><td>4.227    </td><td>NA       </td><td>0.9622759</td><td>0.3506601</td><td>4        </td><td>0.2500000</td><td>⋯        </td><td>NA       </td><td>NA       </td><td>NA       </td><td>NA       </td><td>NA       </td><td>M        </td><td>25-34    </td><td>16       </td><td>97401    </td><td> 48      </td></tr>\n",
       "\t<tr><td>⋮</td><td>⋮</td><td>⋮</td><td>⋮</td><td>⋮</td><td>⋮</td><td>⋮</td><td>⋮</td><td>⋮</td><td>⋮</td><td>⋱</td><td>⋮</td><td>⋮</td><td>⋮</td><td>⋮</td><td>⋮</td><td>⋮</td><td>⋮</td><td>⋮</td><td>⋮</td><td>⋮</td></tr>\n",
       "\t<tr><td>LFM360K              </td><td>1                    </td><td>MF-B                 </td><td>339766               </td><td>0.280                </td><td>NA                   </td><td>0.8019852            </td><td>0                    </td><td>NA                   </td><td>0                    </td><td>⋯                    </td><td>1e4                  </td><td>731                  </td><td>0.0013679890560875513</td><td>0.10262827956728822  </td><td>0.001249408714844079 </td><td>M                    </td><td>18-24                </td><td>NA                   </td><td>NA                   </td><td>42                   </td></tr>\n",
       "\t<tr><td>LFM360K              </td><td>1                    </td><td>MF-B                 </td><td>348467               </td><td>0.280                </td><td>NA                   </td><td>0.9181683            </td><td>0                    </td><td>NA                   </td><td>0                    </td><td>⋯                    </td><td>1e4                  </td><td>631                  </td><td>0.001584786053882726 </td><td>0.10745370618676357  </td><td>0.0018584157203903888</td><td>NA                   </td><td>18-24                </td><td>NA                   </td><td>NA                   </td><td>45                   </td></tr>\n",
       "\t<tr><td>LFM360K              </td><td>1                    </td><td>MF-B                 </td><td>339871               </td><td>0.279                </td><td>NA                   </td><td>0.8576777            </td><td>0                    </td><td>NA                   </td><td>0                    </td><td>⋯                    </td><td>1e4                  </td><td>1467                 </td><td>6.816632583503749e-4 </td><td>0.10510194711503389  </td><td>6.760858845029945e-4 </td><td>F                    </td><td>NA                   </td><td>NA                   </td><td>NA                   </td><td>39                   </td></tr>\n",
       "\t<tr><td>LFM360K              </td><td>1                    </td><td>MF-B                 </td><td>348600               </td><td>0.279                </td><td>NA                   </td><td>0.8202323            </td><td>0                    </td><td>NA                   </td><td>0                    </td><td>⋯                    </td><td>1e4                  </td><td>736                  </td><td>0.001358695652173913 </td><td>0.055454140412580205 </td><td>7.958754591662196e-4 </td><td>F                    </td><td>18-24                </td><td>NA                   </td><td>NA                   </td><td>31                   </td></tr>\n",
       "\t<tr><td>LFM360K              </td><td>1                    </td><td>MF-B                 </td><td>339883               </td><td>0.278                </td><td>NA                   </td><td>0.7057160            </td><td>0                    </td><td>NA                   </td><td>0                    </td><td>⋯                    </td><td>1e4                  </td><td>262                  </td><td>0.003816793893129771 </td><td>0.06540154040734399  </td><td>0.0022810787809089544</td><td>M                    </td><td>18-24                </td><td>NA                   </td><td>NA                   </td><td>36                   </td></tr>\n",
       "</tbody>\n",
       "</table>\n"
      ],
      "text/latex": [
       "\\begin{tabular}{r|llllllllllllllllllllllllllllll}\n",
       " DataSet & Partition & Algorithm & user & TestTime & RMSE & Rank.nDCG & L100.nDCG & L100.Rank & L100.RecipRank & ⋯ & L10K.TopN.ActualLength & L10K.Rank & L10K.RecipRank & L10K.nDCG & L10K.AvgPrec & gender & age & occupation & zip & nitems\\\\\n",
       "\\hline\n",
       "\t ML1M      & 1         & UU-B      & 4031      & 4.468     & NA        & 1.0000000 & 0.9514849 & 1         & 1.0000000 & ⋯         & NA        & NA        & NA        & NA        & NA        & M         & 25-34     &  0        & 42445     &  46      \\\\\n",
       "\t ML1M      & 1         & UU-B      & 4032      & 4.369     & NA        & 1.0000000 & 0.3076758 & 3         & 0.3333333 & ⋯         & NA        & NA        & NA        & NA        & NA        & M         & 25-34     & 12        & 56301     & 148      \\\\\n",
       "\t ML1M      & 1         & UU-B      & 4033      & 5.327     & NA        & 0.9377782 & 0.1819110 & 5         & 0.2000000 & ⋯         & NA        & NA        & NA        & NA        & NA        & M         & 25-34     &  6        & 43551     & 657      \\\\\n",
       "\t ML1M      & 1         & UU-B      & 4034      & 4.325     & NA        & 0.9960107 & 0.3159364 & 4         & 0.2500000 & ⋯         & NA        & NA        & NA        & NA        & NA        & M         & 25-34     &  0        & 21113     & 103      \\\\\n",
       "\t ML1M      & 1         & UU-B      & 4039      & 4.227     & NA        & 0.9622759 & 0.3506601 & 4         & 0.2500000 & ⋯         & NA        & NA        & NA        & NA        & NA        & M         & 25-34     & 16        & 97401     &  48      \\\\\n",
       "\t ⋮ & ⋮ & ⋮ & ⋮ & ⋮ & ⋮ & ⋮ & ⋮ & ⋮ & ⋮ & ⋱ & ⋮ & ⋮ & ⋮ & ⋮ & ⋮ & ⋮ & ⋮ & ⋮ & ⋮ & ⋮\\\\\n",
       "\t LFM360K               & 1                     & MF-B                  & 339766                & 0.280                 & NA                    & 0.8019852             & 0                     & NA                    & 0                     & ⋯                     & 1e4                   & 731                   & 0.0013679890560875513 & 0.10262827956728822   & 0.001249408714844079  & M                     & 18-24                 & NA                    & NA                    & 42                   \\\\\n",
       "\t LFM360K               & 1                     & MF-B                  & 348467                & 0.280                 & NA                    & 0.9181683             & 0                     & NA                    & 0                     & ⋯                     & 1e4                   & 631                   & 0.001584786053882726  & 0.10745370618676357   & 0.0018584157203903888 & NA                    & 18-24                 & NA                    & NA                    & 45                   \\\\\n",
       "\t LFM360K               & 1                     & MF-B                  & 339871                & 0.279                 & NA                    & 0.8576777             & 0                     & NA                    & 0                     & ⋯                     & 1e4                   & 1467                  & 6.816632583503749e-4  & 0.10510194711503389   & 6.760858845029945e-4  & F                     & NA                    & NA                    & NA                    & 39                   \\\\\n",
       "\t LFM360K               & 1                     & MF-B                  & 348600                & 0.279                 & NA                    & 0.8202323             & 0                     & NA                    & 0                     & ⋯                     & 1e4                   & 736                   & 0.001358695652173913  & 0.055454140412580205  & 7.958754591662196e-4  & F                     & 18-24                 & NA                    & NA                    & 31                   \\\\\n",
       "\t LFM360K               & 1                     & MF-B                  & 339883                & 0.278                 & NA                    & 0.7057160             & 0                     & NA                    & 0                     & ⋯                     & 1e4                   & 262                   & 0.003816793893129771  & 0.06540154040734399   & 0.0022810787809089544 & M                     & 18-24                 & NA                    & NA                    & 36                   \\\\\n",
       "\\end{tabular}\n"
      ],
      "text/markdown": [
       "\n",
       "DataSet | Partition | Algorithm | user | TestTime | RMSE | Rank.nDCG | L100.nDCG | L100.Rank | L100.RecipRank | ⋯ | L10K.TopN.ActualLength | L10K.Rank | L10K.RecipRank | L10K.nDCG | L10K.AvgPrec | gender | age | occupation | zip | nitems | \n",
       "|---|---|---|---|---|---|---|---|---|---|---|\n",
       "| ML1M      | 1         | UU-B      | 4031      | 4.468     | NA        | 1.0000000 | 0.9514849 | 1         | 1.0000000 | ⋯         | NA        | NA        | NA        | NA        | NA        | M         | 25-34     |  0        | 42445     |  46       | \n",
       "| ML1M      | 1         | UU-B      | 4032      | 4.369     | NA        | 1.0000000 | 0.3076758 | 3         | 0.3333333 | ⋯         | NA        | NA        | NA        | NA        | NA        | M         | 25-34     | 12        | 56301     | 148       | \n",
       "| ML1M      | 1         | UU-B      | 4033      | 5.327     | NA        | 0.9377782 | 0.1819110 | 5         | 0.2000000 | ⋯         | NA        | NA        | NA        | NA        | NA        | M         | 25-34     |  6        | 43551     | 657       | \n",
       "| ML1M      | 1         | UU-B      | 4034      | 4.325     | NA        | 0.9960107 | 0.3159364 | 4         | 0.2500000 | ⋯         | NA        | NA        | NA        | NA        | NA        | M         | 25-34     |  0        | 21113     | 103       | \n",
       "| ML1M      | 1         | UU-B      | 4039      | 4.227     | NA        | 0.9622759 | 0.3506601 | 4         | 0.2500000 | ⋯         | NA        | NA        | NA        | NA        | NA        | M         | 25-34     | 16        | 97401     |  48       | \n",
       "| ⋮ | ⋮ | ⋮ | ⋮ | ⋮ | ⋮ | ⋮ | ⋮ | ⋮ | ⋮ | ⋱ | ⋮ | ⋮ | ⋮ | ⋮ | ⋮ | ⋮ | ⋮ | ⋮ | ⋮ | ⋮ | \n",
       "| LFM360K               | 1                     | MF-B                  | 339766                | 0.280                 | NA                    | 0.8019852             | 0                     | NA                    | 0                     | ⋯                     | 1e4                   | 731                   | 0.0013679890560875513 | 0.10262827956728822   | 0.001249408714844079  | M                     | 18-24                 | NA                    | NA                    | 42                    | \n",
       "| LFM360K               | 1                     | MF-B                  | 348467                | 0.280                 | NA                    | 0.9181683             | 0                     | NA                    | 0                     | ⋯                     | 1e4                   | 631                   | 0.001584786053882726  | 0.10745370618676357   | 0.0018584157203903888 | NA                    | 18-24                 | NA                    | NA                    | 45                    | \n",
       "| LFM360K               | 1                     | MF-B                  | 339871                | 0.279                 | NA                    | 0.8576777             | 0                     | NA                    | 0                     | ⋯                     | 1e4                   | 1467                  | 6.816632583503749e-4  | 0.10510194711503389   | 6.760858845029945e-4  | F                     | NA                    | NA                    | NA                    | 39                    | \n",
       "| LFM360K               | 1                     | MF-B                  | 348600                | 0.279                 | NA                    | 0.8202323             | 0                     | NA                    | 0                     | ⋯                     | 1e4                   | 736                   | 0.001358695652173913  | 0.055454140412580205  | 7.958754591662196e-4  | F                     | 18-24                 | NA                    | NA                    | 31                    | \n",
       "| LFM360K               | 1                     | MF-B                  | 339883                | 0.278                 | NA                    | 0.7057160             | 0                     | NA                    | 0                     | ⋯                     | 1e4                   | 262                   | 0.003816793893129771  | 0.06540154040734399   | 0.0022810787809089544 | M                     | 18-24                 | NA                    | NA                    | 36                    | \n",
       "\n",
       "\n"
      ],
      "text/plain": [
       "       DataSet Partition Algorithm user   TestTime RMSE Rank.nDCG L100.nDCG\n",
       "1      ML1M    1         UU-B      4031   4.468    NA   1.0000000 0.9514849\n",
       "2      ML1M    1         UU-B      4032   4.369    NA   1.0000000 0.3076758\n",
       "3      ML1M    1         UU-B      4033   5.327    NA   0.9377782 0.1819110\n",
       "4      ML1M    1         UU-B      4034   4.325    NA   0.9960107 0.3159364\n",
       "5      ML1M    1         UU-B      4039   4.227    NA   0.9622759 0.3506601\n",
       "⋮      ⋮       ⋮         ⋮         ⋮      ⋮        ⋮    ⋮         ⋮        \n",
       "230183 LFM360K 1         MF-B      339766 0.280    NA   0.8019852 0        \n",
       "230184 LFM360K 1         MF-B      348467 0.280    NA   0.9181683 0        \n",
       "230185 LFM360K 1         MF-B      339871 0.279    NA   0.8576777 0        \n",
       "230186 LFM360K 1         MF-B      348600 0.279    NA   0.8202323 0        \n",
       "230187 LFM360K 1         MF-B      339883 0.278    NA   0.7057160 0        \n",
       "       L100.Rank L100.RecipRank ⋯ L10K.TopN.ActualLength L10K.Rank\n",
       "1      1         1.0000000      ⋯ NA                     NA       \n",
       "2      3         0.3333333      ⋯ NA                     NA       \n",
       "3      5         0.2000000      ⋯ NA                     NA       \n",
       "4      4         0.2500000      ⋯ NA                     NA       \n",
       "5      4         0.2500000      ⋯ NA                     NA       \n",
       "⋮      ⋮         ⋮              ⋱ ⋮                      ⋮        \n",
       "230183 NA        0              ⋯ 1e4                    731      \n",
       "230184 NA        0              ⋯ 1e4                    631      \n",
       "230185 NA        0              ⋯ 1e4                    1467     \n",
       "230186 NA        0              ⋯ 1e4                    736      \n",
       "230187 NA        0              ⋯ 1e4                    262      \n",
       "       L10K.RecipRank        L10K.nDCG            L10K.AvgPrec          gender\n",
       "1      NA                    NA                   NA                    M     \n",
       "2      NA                    NA                   NA                    M     \n",
       "3      NA                    NA                   NA                    M     \n",
       "4      NA                    NA                   NA                    M     \n",
       "5      NA                    NA                   NA                    M     \n",
       "⋮      ⋮                     ⋮                    ⋮                     ⋮     \n",
       "230183 0.0013679890560875513 0.10262827956728822  0.001249408714844079  M     \n",
       "230184 0.001584786053882726  0.10745370618676357  0.0018584157203903888 NA    \n",
       "230185 6.816632583503749e-4  0.10510194711503389  6.760858845029945e-4  F     \n",
       "230186 0.001358695652173913  0.055454140412580205 7.958754591662196e-4  F     \n",
       "230187 0.003816793893129771  0.06540154040734399  0.0022810787809089544 M     \n",
       "       age   occupation zip   nitems\n",
       "1      25-34  0         42445  46   \n",
       "2      25-34 12         56301 148   \n",
       "3      25-34  6         43551 657   \n",
       "4      25-34  0         21113 103   \n",
       "5      25-34 16         97401  48   \n",
       "⋮      ⋮     ⋮          ⋮     ⋮     \n",
       "230183 18-24 NA         NA    42    \n",
       "230184 18-24 NA         NA    45    \n",
       "230185 NA    NA         NA    39    \n",
       "230186 18-24 NA         NA    31    \n",
       "230187 18-24 NA         NA    36    "
      ]
     },
     "metadata": {},
     "output_type": "display_data"
    }
   ],
   "source": [
    "user.results = read_csv(\"build/integrated-user-results.csv\")\n",
    "user.results"
   ]
  },
  {
   "cell_type": "code",
   "execution_count": 16,
   "metadata": {},
   "outputs": [
    {
     "name": "stderr",
     "output_type": "stream",
     "text": [
      "Parsed with column specification:\n",
      "cols(\n",
      "  .default = col_character(),\n",
      "  Partition = col_integer(),\n",
      "  user = col_integer(),\n",
      "  TestTime = col_double(),\n",
      "  RMSE = col_double(),\n",
      "  Rank.nDCG = col_double(),\n",
      "  L100.nDCG = col_double(),\n",
      "  L100.Rank = col_integer(),\n",
      "  L100.RecipRank = col_double(),\n",
      "  L100.AvgPrec = col_double(),\n",
      "  TopN.ActualLength = col_double(),\n",
      "  nDCG = col_double(),\n",
      "  Rank = col_integer(),\n",
      "  RecipRank = col_double(),\n",
      "  AvgPrec = col_double(),\n",
      "  occupation = col_integer(),\n",
      "  nitems = col_integer()\n",
      ")\n",
      "See spec(...) for full column specifications.\n"
     ]
    },
    {
     "data": {
      "text/html": [
       "<table>\n",
       "<thead><tr><th scope=col>DataSet</th><th scope=col>Partition</th><th scope=col>Algorithm</th><th scope=col>user</th><th scope=col>TestTime</th><th scope=col>RMSE</th><th scope=col>Rank.nDCG</th><th scope=col>L100.nDCG</th><th scope=col>L100.Rank</th><th scope=col>L100.RecipRank</th><th scope=col>⋯</th><th scope=col>L10K.TopN.ActualLength</th><th scope=col>L10K.Rank</th><th scope=col>L10K.RecipRank</th><th scope=col>L10K.nDCG</th><th scope=col>L10K.AvgPrec</th><th scope=col>gender</th><th scope=col>age</th><th scope=col>occupation</th><th scope=col>zip</th><th scope=col>nitems</th></tr></thead>\n",
       "<tbody>\n",
       "\t<tr><td>ML1M.GB   </td><td>5         </td><td>UU-E      </td><td>4077      </td><td>2.166     </td><td>0.5989862 </td><td>0.9908541 </td><td>0.06519129</td><td>41        </td><td>0.02439024</td><td>⋯         </td><td>NA        </td><td>NA        </td><td>NA        </td><td>NA        </td><td>NA        </td><td>F         </td><td>35-44     </td><td> 2        </td><td>22030     </td><td>222       </td></tr>\n",
       "\t<tr><td>ML1M.GB   </td><td>5         </td><td>UU-E      </td><td>4103      </td><td>1.950     </td><td>1.2600390 </td><td>0.9702170 </td><td>0.00000000</td><td>NA        </td><td>0.00000000</td><td>⋯         </td><td>NA        </td><td>NA        </td><td>NA        </td><td>NA        </td><td>NA        </td><td>M         </td><td>18-24     </td><td>16        </td><td>11211     </td><td>141       </td></tr>\n",
       "\t<tr><td>ML1M.GB   </td><td>5         </td><td>UU-E      </td><td>4109      </td><td>1.723     </td><td>0.8923990 </td><td>0.9416146 </td><td>0.05619730</td><td>63        </td><td>0.01587302</td><td>⋯         </td><td>NA        </td><td>NA        </td><td>NA        </td><td>NA        </td><td>NA        </td><td>M         </td><td>35-44     </td><td> 3        </td><td>97202     </td><td> 20       </td></tr>\n",
       "\t<tr><td>ML1M.GB   </td><td>5         </td><td>UU-E      </td><td>4119      </td><td>1.820     </td><td>1.0580385 </td><td>0.9256552 </td><td>0.00000000</td><td>NA        </td><td>0.00000000</td><td>⋯         </td><td>NA        </td><td>NA        </td><td>NA        </td><td>NA        </td><td>NA        </td><td>M         </td><td>50-55     </td><td> 1        </td><td>39401     </td><td> 49       </td></tr>\n",
       "\t<tr><td>ML1M.GB   </td><td>5         </td><td>UU-E      </td><td>4134      </td><td>1.950     </td><td>0.8821956 </td><td>0.9497345 </td><td>0.00000000</td><td>NA        </td><td>0.00000000</td><td>⋯         </td><td>NA        </td><td>NA        </td><td>NA        </td><td>NA        </td><td>NA        </td><td>F         </td><td>45-49     </td><td>12        </td><td>85283     </td><td>113       </td></tr>\n",
       "\t<tr><td>⋮</td><td>⋮</td><td>⋮</td><td>⋮</td><td>⋮</td><td>⋮</td><td>⋮</td><td>⋮</td><td>⋮</td><td>⋮</td><td>⋱</td><td>⋮</td><td>⋮</td><td>⋮</td><td>⋮</td><td>⋮</td><td>⋮</td><td>⋮</td><td>⋮</td><td>⋮</td><td>⋮</td></tr>\n",
       "\t<tr><td>LFM360K.GB         </td><td>1                  </td><td>II-B               </td><td> 2454              </td><td>0.878              </td><td>NA                 </td><td>0.9786268          </td><td>0.46868978         </td><td> 1                 </td><td>1.0000000          </td><td>⋯                  </td><td>1e4                </td><td>1                  </td><td>1.0                </td><td>0.5184497371894617 </td><td>0.24517077241091578</td><td>M                  </td><td>18-24              </td><td>NA                 </td><td>NA                 </td><td>54                 </td></tr>\n",
       "\t<tr><td>LFM360K.GB         </td><td>1                  </td><td>II-B               </td><td>44667              </td><td>0.833              </td><td>NA                 </td><td>0.7707650          </td><td>0.23238157         </td><td> 3                 </td><td>0.3333333          </td><td>⋯                  </td><td>1e4                </td><td>3                  </td><td>0.3333333333333333 </td><td>0.2888431939610259 </td><td>0.16810283096904824</td><td>M                  </td><td>18-24              </td><td>NA                 </td><td>NA                 </td><td>58                 </td></tr>\n",
       "\t<tr><td>LFM360K.GB         </td><td>1                  </td><td>II-B               </td><td>35706              </td><td>0.808              </td><td>NA                 </td><td>0.6387630          </td><td>0.04326819         </td><td>10                 </td><td>0.1000000          </td><td>⋯                  </td><td>1e4                </td><td>10                 </td><td>0.1                </td><td>0.15105418949873792</td><td>0.03651757406042187</td><td>M                  </td><td>18-24              </td><td>NA                 </td><td>NA                 </td><td>42                 </td></tr>\n",
       "\t<tr><td>LFM360K.GB         </td><td>1                  </td><td>II-B               </td><td>11621              </td><td>0.812              </td><td>NA                 </td><td>0.9861884          </td><td>0.48606784         </td><td> 1                 </td><td>1.0000000          </td><td>⋯                  </td><td>1e4                </td><td>1                  </td><td>1.0                </td><td>0.5055258557033414 </td><td>0.2581108620096556 </td><td>F                  </td><td>18-24              </td><td>NA                 </td><td>NA                 </td><td>43                 </td></tr>\n",
       "\t<tr><td>LFM360K.GB         </td><td>1                  </td><td>II-B               </td><td>44698              </td><td>0.726              </td><td>NA                 </td><td>0.8214894          </td><td>0.13763436         </td><td> 7                 </td><td>0.1428571          </td><td>⋯                  </td><td>1e4                </td><td>7                  </td><td>0.14285714285714285</td><td>0.21684693327880442</td><td>0.05517179357343292</td><td>F                  </td><td>25-34              </td><td>NA                 </td><td>NA                 </td><td>36                 </td></tr>\n",
       "</tbody>\n",
       "</table>\n"
      ],
      "text/latex": [
       "\\begin{tabular}{r|llllllllllllllllllllllllllllll}\n",
       " DataSet & Partition & Algorithm & user & TestTime & RMSE & Rank.nDCG & L100.nDCG & L100.Rank & L100.RecipRank & ⋯ & L10K.TopN.ActualLength & L10K.Rank & L10K.RecipRank & L10K.nDCG & L10K.AvgPrec & gender & age & occupation & zip & nitems\\\\\n",
       "\\hline\n",
       "\t ML1M.GB    & 5          & UU-E       & 4077       & 2.166      & 0.5989862  & 0.9908541  & 0.06519129 & 41         & 0.02439024 & ⋯          & NA         & NA         & NA         & NA         & NA         & F          & 35-44      &  2         & 22030      & 222       \\\\\n",
       "\t ML1M.GB    & 5          & UU-E       & 4103       & 1.950      & 1.2600390  & 0.9702170  & 0.00000000 & NA         & 0.00000000 & ⋯          & NA         & NA         & NA         & NA         & NA         & M          & 18-24      & 16         & 11211      & 141       \\\\\n",
       "\t ML1M.GB    & 5          & UU-E       & 4109       & 1.723      & 0.8923990  & 0.9416146  & 0.05619730 & 63         & 0.01587302 & ⋯          & NA         & NA         & NA         & NA         & NA         & M          & 35-44      &  3         & 97202      &  20       \\\\\n",
       "\t ML1M.GB    & 5          & UU-E       & 4119       & 1.820      & 1.0580385  & 0.9256552  & 0.00000000 & NA         & 0.00000000 & ⋯          & NA         & NA         & NA         & NA         & NA         & M          & 50-55      &  1         & 39401      &  49       \\\\\n",
       "\t ML1M.GB    & 5          & UU-E       & 4134       & 1.950      & 0.8821956  & 0.9497345  & 0.00000000 & NA         & 0.00000000 & ⋯          & NA         & NA         & NA         & NA         & NA         & F          & 45-49      & 12         & 85283      & 113       \\\\\n",
       "\t ⋮ & ⋮ & ⋮ & ⋮ & ⋮ & ⋮ & ⋮ & ⋮ & ⋮ & ⋮ & ⋱ & ⋮ & ⋮ & ⋮ & ⋮ & ⋮ & ⋮ & ⋮ & ⋮ & ⋮ & ⋮\\\\\n",
       "\t LFM360K.GB          & 1                   & II-B                &  2454               & 0.878               & NA                  & 0.9786268           & 0.46868978          &  1                  & 1.0000000           & ⋯                   & 1e4                 & 1                   & 1.0                 & 0.5184497371894617  & 0.24517077241091578 & M                   & 18-24               & NA                  & NA                  & 54                 \\\\\n",
       "\t LFM360K.GB          & 1                   & II-B                & 44667               & 0.833               & NA                  & 0.7707650           & 0.23238157          &  3                  & 0.3333333           & ⋯                   & 1e4                 & 3                   & 0.3333333333333333  & 0.2888431939610259  & 0.16810283096904824 & M                   & 18-24               & NA                  & NA                  & 58                 \\\\\n",
       "\t LFM360K.GB          & 1                   & II-B                & 35706               & 0.808               & NA                  & 0.6387630           & 0.04326819          & 10                  & 0.1000000           & ⋯                   & 1e4                 & 10                  & 0.1                 & 0.15105418949873792 & 0.03651757406042187 & M                   & 18-24               & NA                  & NA                  & 42                 \\\\\n",
       "\t LFM360K.GB          & 1                   & II-B                & 11621               & 0.812               & NA                  & 0.9861884           & 0.48606784          &  1                  & 1.0000000           & ⋯                   & 1e4                 & 1                   & 1.0                 & 0.5055258557033414  & 0.2581108620096556  & F                   & 18-24               & NA                  & NA                  & 43                 \\\\\n",
       "\t LFM360K.GB          & 1                   & II-B                & 44698               & 0.726               & NA                  & 0.8214894           & 0.13763436          &  7                  & 0.1428571           & ⋯                   & 1e4                 & 7                   & 0.14285714285714285 & 0.21684693327880442 & 0.05517179357343292 & F                   & 25-34               & NA                  & NA                  & 36                 \\\\\n",
       "\\end{tabular}\n"
      ],
      "text/markdown": [
       "\n",
       "DataSet | Partition | Algorithm | user | TestTime | RMSE | Rank.nDCG | L100.nDCG | L100.Rank | L100.RecipRank | ⋯ | L10K.TopN.ActualLength | L10K.Rank | L10K.RecipRank | L10K.nDCG | L10K.AvgPrec | gender | age | occupation | zip | nitems | \n",
       "|---|---|---|---|---|---|---|---|---|---|---|\n",
       "| ML1M.GB    | 5          | UU-E       | 4077       | 2.166      | 0.5989862  | 0.9908541  | 0.06519129 | 41         | 0.02439024 | ⋯          | NA         | NA         | NA         | NA         | NA         | F          | 35-44      |  2         | 22030      | 222        | \n",
       "| ML1M.GB    | 5          | UU-E       | 4103       | 1.950      | 1.2600390  | 0.9702170  | 0.00000000 | NA         | 0.00000000 | ⋯          | NA         | NA         | NA         | NA         | NA         | M          | 18-24      | 16         | 11211      | 141        | \n",
       "| ML1M.GB    | 5          | UU-E       | 4109       | 1.723      | 0.8923990  | 0.9416146  | 0.05619730 | 63         | 0.01587302 | ⋯          | NA         | NA         | NA         | NA         | NA         | M          | 35-44      |  3         | 97202      |  20        | \n",
       "| ML1M.GB    | 5          | UU-E       | 4119       | 1.820      | 1.0580385  | 0.9256552  | 0.00000000 | NA         | 0.00000000 | ⋯          | NA         | NA         | NA         | NA         | NA         | M          | 50-55      |  1         | 39401      |  49        | \n",
       "| ML1M.GB    | 5          | UU-E       | 4134       | 1.950      | 0.8821956  | 0.9497345  | 0.00000000 | NA         | 0.00000000 | ⋯          | NA         | NA         | NA         | NA         | NA         | F          | 45-49      | 12         | 85283      | 113        | \n",
       "| ⋮ | ⋮ | ⋮ | ⋮ | ⋮ | ⋮ | ⋮ | ⋮ | ⋮ | ⋮ | ⋱ | ⋮ | ⋮ | ⋮ | ⋮ | ⋮ | ⋮ | ⋮ | ⋮ | ⋮ | ⋮ | \n",
       "| LFM360K.GB          | 1                   | II-B                |  2454               | 0.878               | NA                  | 0.9786268           | 0.46868978          |  1                  | 1.0000000           | ⋯                   | 1e4                 | 1                   | 1.0                 | 0.5184497371894617  | 0.24517077241091578 | M                   | 18-24               | NA                  | NA                  | 54                  | \n",
       "| LFM360K.GB          | 1                   | II-B                | 44667               | 0.833               | NA                  | 0.7707650           | 0.23238157          |  3                  | 0.3333333           | ⋯                   | 1e4                 | 3                   | 0.3333333333333333  | 0.2888431939610259  | 0.16810283096904824 | M                   | 18-24               | NA                  | NA                  | 58                  | \n",
       "| LFM360K.GB          | 1                   | II-B                | 35706               | 0.808               | NA                  | 0.6387630           | 0.04326819          | 10                  | 0.1000000           | ⋯                   | 1e4                 | 10                  | 0.1                 | 0.15105418949873792 | 0.03651757406042187 | M                   | 18-24               | NA                  | NA                  | 42                  | \n",
       "| LFM360K.GB          | 1                   | II-B                | 11621               | 0.812               | NA                  | 0.9861884           | 0.48606784          |  1                  | 1.0000000           | ⋯                   | 1e4                 | 1                   | 1.0                 | 0.5055258557033414  | 0.2581108620096556  | F                   | 18-24               | NA                  | NA                  | 43                  | \n",
       "| LFM360K.GB          | 1                   | II-B                | 44698               | 0.726               | NA                  | 0.8214894           | 0.13763436          |  7                  | 0.1428571           | ⋯                   | 1e4                 | 7                   | 0.14285714285714285 | 0.21684693327880442 | 0.05517179357343292 | F                   | 25-34               | NA                  | NA                  | 36                  | \n",
       "\n",
       "\n"
      ],
      "text/plain": [
       "       DataSet    Partition Algorithm user  TestTime RMSE      Rank.nDCG\n",
       "1      ML1M.GB    5         UU-E      4077  2.166    0.5989862 0.9908541\n",
       "2      ML1M.GB    5         UU-E      4103  1.950    1.2600390 0.9702170\n",
       "3      ML1M.GB    5         UU-E      4109  1.723    0.8923990 0.9416146\n",
       "4      ML1M.GB    5         UU-E      4119  1.820    1.0580385 0.9256552\n",
       "5      ML1M.GB    5         UU-E      4134  1.950    0.8821956 0.9497345\n",
       "⋮      ⋮          ⋮         ⋮         ⋮     ⋮        ⋮         ⋮        \n",
       "198996 LFM360K.GB 1         II-B       2454 0.878    NA        0.9786268\n",
       "198997 LFM360K.GB 1         II-B      44667 0.833    NA        0.7707650\n",
       "198998 LFM360K.GB 1         II-B      35706 0.808    NA        0.6387630\n",
       "198999 LFM360K.GB 1         II-B      11621 0.812    NA        0.9861884\n",
       "199000 LFM360K.GB 1         II-B      44698 0.726    NA        0.8214894\n",
       "       L100.nDCG  L100.Rank L100.RecipRank ⋯ L10K.TopN.ActualLength L10K.Rank\n",
       "1      0.06519129 41        0.02439024     ⋯ NA                     NA       \n",
       "2      0.00000000 NA        0.00000000     ⋯ NA                     NA       \n",
       "3      0.05619730 63        0.01587302     ⋯ NA                     NA       \n",
       "4      0.00000000 NA        0.00000000     ⋯ NA                     NA       \n",
       "5      0.00000000 NA        0.00000000     ⋯ NA                     NA       \n",
       "⋮      ⋮          ⋮         ⋮              ⋱ ⋮                      ⋮        \n",
       "198996 0.46868978  1        1.0000000      ⋯ 1e4                    1        \n",
       "198997 0.23238157  3        0.3333333      ⋯ 1e4                    3        \n",
       "198998 0.04326819 10        0.1000000      ⋯ 1e4                    10       \n",
       "198999 0.48606784  1        1.0000000      ⋯ 1e4                    1        \n",
       "199000 0.13763436  7        0.1428571      ⋯ 1e4                    7        \n",
       "       L10K.RecipRank      L10K.nDCG           L10K.AvgPrec        gender age  \n",
       "1      NA                  NA                  NA                  F      35-44\n",
       "2      NA                  NA                  NA                  M      18-24\n",
       "3      NA                  NA                  NA                  M      35-44\n",
       "4      NA                  NA                  NA                  M      50-55\n",
       "5      NA                  NA                  NA                  F      45-49\n",
       "⋮      ⋮                   ⋮                   ⋮                   ⋮      ⋮    \n",
       "198996 1.0                 0.5184497371894617  0.24517077241091578 M      18-24\n",
       "198997 0.3333333333333333  0.2888431939610259  0.16810283096904824 M      18-24\n",
       "198998 0.1                 0.15105418949873792 0.03651757406042187 M      18-24\n",
       "198999 1.0                 0.5055258557033414  0.2581108620096556  F      18-24\n",
       "199000 0.14285714285714285 0.21684693327880442 0.05517179357343292 F      25-34\n",
       "       occupation zip   nitems\n",
       "1       2         22030 222   \n",
       "2      16         11211 141   \n",
       "3       3         97202  20   \n",
       "4       1         39401  49   \n",
       "5      12         85283 113   \n",
       "⋮      ⋮          ⋮     ⋮     \n",
       "198996 NA         NA    54    \n",
       "198997 NA         NA    58    \n",
       "198998 NA         NA    42    \n",
       "198999 NA         NA    43    \n",
       "199000 NA         NA    36    "
      ]
     },
     "metadata": {},
     "output_type": "display_data"
    }
   ],
   "source": [
    "user.results.balanced = read_csv(\"build/integrated-user-results-balanced.csv\")\n",
    "user.results.balanced"
   ]
  },
  {
   "cell_type": "markdown",
   "metadata": {},
   "source": [
    "## Overall\n",
    "\n",
    "Compute overall mean of nDCG, MRR, and Rank.nDCG"
   ]
  },
  {
   "cell_type": "code",
   "execution_count": 17,
   "metadata": {},
   "outputs": [
    {
     "data": {
      "text/html": [
       "<table>\n",
       "<thead><tr><th scope=col>DataSet</th><th scope=col>Algorithm</th><th scope=col>nDCG</th><th scope=col>MRR</th><th scope=col>Rank.nDCG</th></tr></thead>\n",
       "<tbody>\n",
       "\t<tr><td>LFM1K       </td><td>II-B        </td><td>0.15585153  </td><td>0.0936253444</td><td>0.8007430   </td></tr>\n",
       "\t<tr><td>LFM1K       </td><td>II-C        </td><td>0.08428291  </td><td>0.0028085318</td><td>0.8171221   </td></tr>\n",
       "\t<tr><td>LFM1K       </td><td>II-CS       </td><td>0.15070305  </td><td>0.0888963184</td><td>0.7980863   </td></tr>\n",
       "\t<tr><td>LFM1K       </td><td>MF-B        </td><td>0.07136662  </td><td>0.0002637867</td><td>0.7629329   </td></tr>\n",
       "\t<tr><td>LFM1K       </td><td>MF-C        </td><td>0.13803425  </td><td>0.0687253898</td><td>0.8316041   </td></tr>\n",
       "\t<tr><td>⋮</td><td>⋮</td><td>⋮</td><td>⋮</td><td>⋮</td></tr>\n",
       "\t<tr><td>ML1M      </td><td>MF-B      </td><td>0.1698617 </td><td>0.03928235</td><td>0.9467986 </td></tr>\n",
       "\t<tr><td>ML1M      </td><td>MF-E      </td><td>0.1518220 </td><td>0.01563320</td><td>0.9711224 </td></tr>\n",
       "\t<tr><td>ML1M      </td><td>Pop-B     </td><td>0.2311689 </td><td>0.15181438</td><td>0.9520535 </td></tr>\n",
       "\t<tr><td>ML1M      </td><td>UU-B      </td><td>0.3478020 </td><td>0.35048690</td><td>0.9515544 </td></tr>\n",
       "\t<tr><td>ML1M      </td><td>UU-E      </td><td>0.1516631 </td><td>0.01465488</td><td>0.9686151 </td></tr>\n",
       "</tbody>\n",
       "</table>\n"
      ],
      "text/latex": [
       "\\begin{tabular}{r|lllll}\n",
       " DataSet & Algorithm & nDCG & MRR & Rank.nDCG\\\\\n",
       "\\hline\n",
       "\t LFM1K        & II-B         & 0.15585153   & 0.0936253444 & 0.8007430   \\\\\n",
       "\t LFM1K        & II-C         & 0.08428291   & 0.0028085318 & 0.8171221   \\\\\n",
       "\t LFM1K        & II-CS        & 0.15070305   & 0.0888963184 & 0.7980863   \\\\\n",
       "\t LFM1K        & MF-B         & 0.07136662   & 0.0002637867 & 0.7629329   \\\\\n",
       "\t LFM1K        & MF-C         & 0.13803425   & 0.0687253898 & 0.8316041   \\\\\n",
       "\t ⋮ & ⋮ & ⋮ & ⋮ & ⋮\\\\\n",
       "\t ML1M       & MF-B       & 0.1698617  & 0.03928235 & 0.9467986 \\\\\n",
       "\t ML1M       & MF-E       & 0.1518220  & 0.01563320 & 0.9711224 \\\\\n",
       "\t ML1M       & Pop-B      & 0.2311689  & 0.15181438 & 0.9520535 \\\\\n",
       "\t ML1M       & UU-B       & 0.3478020  & 0.35048690 & 0.9515544 \\\\\n",
       "\t ML1M       & UU-E       & 0.1516631  & 0.01465488 & 0.9686151 \\\\\n",
       "\\end{tabular}\n"
      ],
      "text/markdown": [
       "\n",
       "DataSet | Algorithm | nDCG | MRR | Rank.nDCG | \n",
       "|---|---|---|---|---|---|---|---|---|---|---|\n",
       "| LFM1K        | II-B         | 0.15585153   | 0.0936253444 | 0.8007430    | \n",
       "| LFM1K        | II-C         | 0.08428291   | 0.0028085318 | 0.8171221    | \n",
       "| LFM1K        | II-CS        | 0.15070305   | 0.0888963184 | 0.7980863    | \n",
       "| LFM1K        | MF-B         | 0.07136662   | 0.0002637867 | 0.7629329    | \n",
       "| LFM1K        | MF-C         | 0.13803425   | 0.0687253898 | 0.8316041    | \n",
       "| ⋮ | ⋮ | ⋮ | ⋮ | ⋮ | \n",
       "| ML1M       | MF-B       | 0.1698617  | 0.03928235 | 0.9467986  | \n",
       "| ML1M       | MF-E       | 0.1518220  | 0.01563320 | 0.9711224  | \n",
       "| ML1M       | Pop-B      | 0.2311689  | 0.15181438 | 0.9520535  | \n",
       "| ML1M       | UU-B       | 0.3478020  | 0.35048690 | 0.9515544  | \n",
       "| ML1M       | UU-E       | 0.1516631  | 0.01465488 | 0.9686151  | \n",
       "\n",
       "\n"
      ],
      "text/plain": [
       "   DataSet Algorithm nDCG       MRR          Rank.nDCG\n",
       "1  LFM1K   II-B      0.15585153 0.0936253444 0.8007430\n",
       "2  LFM1K   II-C      0.08428291 0.0028085318 0.8171221\n",
       "3  LFM1K   II-CS     0.15070305 0.0888963184 0.7980863\n",
       "4  LFM1K   MF-B      0.07136662 0.0002637867 0.7629329\n",
       "5  LFM1K   MF-C      0.13803425 0.0687253898 0.8316041\n",
       "⋮  ⋮       ⋮         ⋮          ⋮            ⋮        \n",
       "18 ML1M    MF-B      0.1698617  0.03928235   0.9467986\n",
       "19 ML1M    MF-E      0.1518220  0.01563320   0.9711224\n",
       "20 ML1M    Pop-B     0.2311689  0.15181438   0.9520535\n",
       "21 ML1M    UU-B      0.3478020  0.35048690   0.9515544\n",
       "22 ML1M    UU-E      0.1516631  0.01465488   0.9686151"
      ]
     },
     "metadata": {},
     "output_type": "display_data"
    }
   ],
   "source": [
    "overall.results = user.results %>%\n",
    "    select(DataSet, Algorithm, RecipRank, nDCG, Rank.nDCG) %>%\n",
    "    group_by(DataSet, Algorithm) %>%\n",
    "    summarize(nDCG=mean(nDCG), MRR=mean(RecipRank), Rank.nDCG=mean(Rank.nDCG)) %>%\n",
    "    ungroup()\n",
    "overall.results"
   ]
  },
  {
   "cell_type": "code",
   "execution_count": 18,
   "metadata": {},
   "outputs": [
    {
     "data": {
      "text/html": [
       "<table>\n",
       "<thead><tr><th scope=col>DataSet</th><th scope=col>Algorithm</th><th scope=col>nDCG</th><th scope=col>MRR</th><th scope=col>Rank.nDCG</th></tr></thead>\n",
       "<tbody>\n",
       "\t<tr><td>LFM360K.GB </td><td>II-B       </td><td>0.29604433 </td><td>0.297839045</td><td>0.8913415  </td></tr>\n",
       "\t<tr><td>LFM360K.GB </td><td>II-C       </td><td>0.09002226 </td><td>0.001175856</td><td>0.8840523  </td></tr>\n",
       "\t<tr><td>LFM360K.GB </td><td>II-CS      </td><td>0.29766509 </td><td>0.298605984</td><td>0.8922222  </td></tr>\n",
       "\t<tr><td>LFM360K.GB </td><td>MF-B       </td><td>0.10113616 </td><td>0.001273317</td><td>0.8767219  </td></tr>\n",
       "\t<tr><td>LFM360K.GB </td><td>MF-C       </td><td>0.09689433 </td><td>0.001382131</td><td>0.8973044  </td></tr>\n",
       "\t<tr><td>⋮</td><td>⋮</td><td>⋮</td><td>⋮</td><td>⋮</td></tr>\n",
       "\t<tr><td>ML1M.GB    </td><td>MF-B       </td><td>0.1502040  </td><td>0.012390776</td><td>0.9437741  </td></tr>\n",
       "\t<tr><td>ML1M.GB    </td><td>MF-E       </td><td>0.1453011  </td><td>0.011676710</td><td>0.9696619  </td></tr>\n",
       "\t<tr><td>ML1M.GB    </td><td>Pop-B      </td><td>0.2262266  </td><td>0.144563296</td><td>0.9531851  </td></tr>\n",
       "\t<tr><td>ML1M.GB    </td><td>UU-B       </td><td>0.3389445  </td><td>0.333831947</td><td>0.9522461  </td></tr>\n",
       "\t<tr><td>ML1M.GB    </td><td>UU-E       </td><td>0.1459282  </td><td>0.008854881</td><td>0.9677955  </td></tr>\n",
       "</tbody>\n",
       "</table>\n"
      ],
      "text/latex": [
       "\\begin{tabular}{r|lllll}\n",
       " DataSet & Algorithm & nDCG & MRR & Rank.nDCG\\\\\n",
       "\\hline\n",
       "\t LFM360K.GB  & II-B        & 0.29604433  & 0.297839045 & 0.8913415  \\\\\n",
       "\t LFM360K.GB  & II-C        & 0.09002226  & 0.001175856 & 0.8840523  \\\\\n",
       "\t LFM360K.GB  & II-CS       & 0.29766509  & 0.298605984 & 0.8922222  \\\\\n",
       "\t LFM360K.GB  & MF-B        & 0.10113616  & 0.001273317 & 0.8767219  \\\\\n",
       "\t LFM360K.GB  & MF-C        & 0.09689433  & 0.001382131 & 0.8973044  \\\\\n",
       "\t ⋮ & ⋮ & ⋮ & ⋮ & ⋮\\\\\n",
       "\t ML1M.GB     & MF-B        & 0.1502040   & 0.012390776 & 0.9437741  \\\\\n",
       "\t ML1M.GB     & MF-E        & 0.1453011   & 0.011676710 & 0.9696619  \\\\\n",
       "\t ML1M.GB     & Pop-B       & 0.2262266   & 0.144563296 & 0.9531851  \\\\\n",
       "\t ML1M.GB     & UU-B        & 0.3389445   & 0.333831947 & 0.9522461  \\\\\n",
       "\t ML1M.GB     & UU-E        & 0.1459282   & 0.008854881 & 0.9677955  \\\\\n",
       "\\end{tabular}\n"
      ],
      "text/markdown": [
       "\n",
       "DataSet | Algorithm | nDCG | MRR | Rank.nDCG | \n",
       "|---|---|---|---|---|---|---|---|---|---|---|\n",
       "| LFM360K.GB  | II-B        | 0.29604433  | 0.297839045 | 0.8913415   | \n",
       "| LFM360K.GB  | II-C        | 0.09002226  | 0.001175856 | 0.8840523   | \n",
       "| LFM360K.GB  | II-CS       | 0.29766509  | 0.298605984 | 0.8922222   | \n",
       "| LFM360K.GB  | MF-B        | 0.10113616  | 0.001273317 | 0.8767219   | \n",
       "| LFM360K.GB  | MF-C        | 0.09689433  | 0.001382131 | 0.8973044   | \n",
       "| ⋮ | ⋮ | ⋮ | ⋮ | ⋮ | \n",
       "| ML1M.GB     | MF-B        | 0.1502040   | 0.012390776 | 0.9437741   | \n",
       "| ML1M.GB     | MF-E        | 0.1453011   | 0.011676710 | 0.9696619   | \n",
       "| ML1M.GB     | Pop-B       | 0.2262266   | 0.144563296 | 0.9531851   | \n",
       "| ML1M.GB     | UU-B        | 0.3389445   | 0.333831947 | 0.9522461   | \n",
       "| ML1M.GB     | UU-E        | 0.1459282   | 0.008854881 | 0.9677955   | \n",
       "\n",
       "\n"
      ],
      "text/plain": [
       "   DataSet    Algorithm nDCG       MRR         Rank.nDCG\n",
       "1  LFM360K.GB II-B      0.29604433 0.297839045 0.8913415\n",
       "2  LFM360K.GB II-C      0.09002226 0.001175856 0.8840523\n",
       "3  LFM360K.GB II-CS     0.29766509 0.298605984 0.8922222\n",
       "4  LFM360K.GB MF-B      0.10113616 0.001273317 0.8767219\n",
       "5  LFM360K.GB MF-C      0.09689433 0.001382131 0.8973044\n",
       "⋮  ⋮          ⋮         ⋮          ⋮           ⋮        \n",
       "11 ML1M.GB    MF-B      0.1502040  0.012390776 0.9437741\n",
       "12 ML1M.GB    MF-E      0.1453011  0.011676710 0.9696619\n",
       "13 ML1M.GB    Pop-B     0.2262266  0.144563296 0.9531851\n",
       "14 ML1M.GB    UU-B      0.3389445  0.333831947 0.9522461\n",
       "15 ML1M.GB    UU-E      0.1459282  0.008854881 0.9677955"
      ]
     },
     "metadata": {},
     "output_type": "display_data"
    }
   ],
   "source": [
    "overall.results.balanced = user.results.balanced %>%\n",
    "    select(DataSet, Algorithm, RecipRank, nDCG, Rank.nDCG) %>%\n",
    "    group_by(DataSet, Algorithm) %>%\n",
    "    summarize(nDCG=mean(nDCG), MRR=mean(RecipRank), Rank.nDCG=mean(Rank.nDCG)) %>%\n",
    "    ungroup()\n",
    "overall.results.balanced"
   ]
  },
  {
   "cell_type": "markdown",
   "metadata": {},
   "source": [
    "## Gender\n",
    "\n",
    "Compute gender mean of nDCG, MRR, and Rank.nDCG"
   ]
  },
  {
   "cell_type": "code",
   "execution_count": 19,
   "metadata": {},
   "outputs": [
    {
     "data": {
      "text/html": [
       "<table>\n",
       "<thead><tr><th scope=col>DataSet</th><th scope=col>Algorithm</th><th scope=col>gender</th><th scope=col>nDCG</th><th scope=col>Rank.nDCG</th><th scope=col>MRR</th></tr></thead>\n",
       "<tbody>\n",
       "\t<tr><td>LFM1K      </td><td>II-B       </td><td>F          </td><td>0.18379674 </td><td>0.8234126  </td><td>0.124055578</td></tr>\n",
       "\t<tr><td>LFM1K      </td><td>II-B       </td><td>M          </td><td>0.13810004 </td><td>0.7854049  </td><td>0.077049650</td></tr>\n",
       "\t<tr><td>LFM1K      </td><td>II-B       </td><td>NA         </td><td>0.14029112 </td><td>0.7925350  </td><td>0.063715005</td></tr>\n",
       "\t<tr><td>LFM1K      </td><td>II-C       </td><td>F          </td><td>0.08752032 </td><td>0.8395035  </td><td>0.002545079</td></tr>\n",
       "\t<tr><td>LFM1K      </td><td>II-C       </td><td>M          </td><td>0.08121656 </td><td>0.7990015  </td><td>0.002747112</td></tr>\n",
       "\t<tr><td>LFM1K      </td><td>II-C       </td><td>NA         </td><td>0.08723427 </td><td>0.8230358  </td><td>0.004032184</td></tr>\n",
       "</tbody>\n",
       "</table>\n"
      ],
      "text/latex": [
       "\\begin{tabular}{r|llllll}\n",
       " DataSet & Algorithm & gender & nDCG & Rank.nDCG & MRR\\\\\n",
       "\\hline\n",
       "\t LFM1K       & II-B        & F           & 0.18379674  & 0.8234126   & 0.124055578\\\\\n",
       "\t LFM1K       & II-B        & M           & 0.13810004  & 0.7854049   & 0.077049650\\\\\n",
       "\t LFM1K       & II-B        & NA          & 0.14029112  & 0.7925350   & 0.063715005\\\\\n",
       "\t LFM1K       & II-C        & F           & 0.08752032  & 0.8395035   & 0.002545079\\\\\n",
       "\t LFM1K       & II-C        & M           & 0.08121656  & 0.7990015   & 0.002747112\\\\\n",
       "\t LFM1K       & II-C        & NA          & 0.08723427  & 0.8230358   & 0.004032184\\\\\n",
       "\\end{tabular}\n"
      ],
      "text/markdown": [
       "\n",
       "DataSet | Algorithm | gender | nDCG | Rank.nDCG | MRR | \n",
       "|---|---|---|---|---|---|\n",
       "| LFM1K       | II-B        | F           | 0.18379674  | 0.8234126   | 0.124055578 | \n",
       "| LFM1K       | II-B        | M           | 0.13810004  | 0.7854049   | 0.077049650 | \n",
       "| LFM1K       | II-B        | NA          | 0.14029112  | 0.7925350   | 0.063715005 | \n",
       "| LFM1K       | II-C        | F           | 0.08752032  | 0.8395035   | 0.002545079 | \n",
       "| LFM1K       | II-C        | M           | 0.08121656  | 0.7990015   | 0.002747112 | \n",
       "| LFM1K       | II-C        | NA          | 0.08723427  | 0.8230358   | 0.004032184 | \n",
       "\n",
       "\n"
      ],
      "text/plain": [
       "  DataSet Algorithm gender nDCG       Rank.nDCG MRR        \n",
       "1 LFM1K   II-B      F      0.18379674 0.8234126 0.124055578\n",
       "2 LFM1K   II-B      M      0.13810004 0.7854049 0.077049650\n",
       "3 LFM1K   II-B      NA     0.14029112 0.7925350 0.063715005\n",
       "4 LFM1K   II-C      F      0.08752032 0.8395035 0.002545079\n",
       "5 LFM1K   II-C      M      0.08121656 0.7990015 0.002747112\n",
       "6 LFM1K   II-C      NA     0.08723427 0.8230358 0.004032184"
      ]
     },
     "metadata": {},
     "output_type": "display_data"
    }
   ],
   "source": [
    "gender.results = user.results %>%\n",
    "    select(DataSet, Algorithm, gender, RecipRank, nDCG, Rank.nDCG) %>%\n",
    "    group_by(DataSet, Algorithm, gender) %>%\n",
    "    summarize(nDCG=mean(nDCG), Rank.nDCG=mean(Rank.nDCG), MRR=mean(RecipRank)) %>%\n",
    "    ungroup()\n",
    "head(gender.results)"
   ]
  },
  {
   "cell_type": "code",
   "execution_count": 20,
   "metadata": {},
   "outputs": [
    {
     "data": {
      "text/html": [
       "<table>\n",
       "<thead><tr><th scope=col>DataSet</th><th scope=col>Algorithm</th><th scope=col>gender</th><th scope=col>nDCG</th><th scope=col>Rank.nDCG</th><th scope=col>MRR</th></tr></thead>\n",
       "<tbody>\n",
       "\t<tr><td>LFM360K.GB </td><td>II-B       </td><td>F          </td><td>0.29524594 </td><td>0.8908668  </td><td>0.294032645</td></tr>\n",
       "\t<tr><td>LFM360K.GB </td><td>II-B       </td><td>M          </td><td>0.29684951 </td><td>0.8918202  </td><td>0.301677861</td></tr>\n",
       "\t<tr><td>LFM360K.GB </td><td>II-C       </td><td>F          </td><td>0.08977526 </td><td>0.8831727  </td><td>0.001039092</td></tr>\n",
       "\t<tr><td>LFM360K.GB </td><td>II-C       </td><td>M          </td><td>0.09027137 </td><td>0.8849393  </td><td>0.001313784</td></tr>\n",
       "\t<tr><td>LFM360K.GB </td><td>II-CS      </td><td>F          </td><td>0.29668966 </td><td>0.8918097  </td><td>0.294232913</td></tr>\n",
       "\t<tr><td>LFM360K.GB </td><td>II-CS      </td><td>M          </td><td>0.29864882 </td><td>0.8926383  </td><td>0.303016296</td></tr>\n",
       "</tbody>\n",
       "</table>\n"
      ],
      "text/latex": [
       "\\begin{tabular}{r|llllll}\n",
       " DataSet & Algorithm & gender & nDCG & Rank.nDCG & MRR\\\\\n",
       "\\hline\n",
       "\t LFM360K.GB  & II-B        & F           & 0.29524594  & 0.8908668   & 0.294032645\\\\\n",
       "\t LFM360K.GB  & II-B        & M           & 0.29684951  & 0.8918202   & 0.301677861\\\\\n",
       "\t LFM360K.GB  & II-C        & F           & 0.08977526  & 0.8831727   & 0.001039092\\\\\n",
       "\t LFM360K.GB  & II-C        & M           & 0.09027137  & 0.8849393   & 0.001313784\\\\\n",
       "\t LFM360K.GB  & II-CS       & F           & 0.29668966  & 0.8918097   & 0.294232913\\\\\n",
       "\t LFM360K.GB  & II-CS       & M           & 0.29864882  & 0.8926383   & 0.303016296\\\\\n",
       "\\end{tabular}\n"
      ],
      "text/markdown": [
       "\n",
       "DataSet | Algorithm | gender | nDCG | Rank.nDCG | MRR | \n",
       "|---|---|---|---|---|---|\n",
       "| LFM360K.GB  | II-B        | F           | 0.29524594  | 0.8908668   | 0.294032645 | \n",
       "| LFM360K.GB  | II-B        | M           | 0.29684951  | 0.8918202   | 0.301677861 | \n",
       "| LFM360K.GB  | II-C        | F           | 0.08977526  | 0.8831727   | 0.001039092 | \n",
       "| LFM360K.GB  | II-C        | M           | 0.09027137  | 0.8849393   | 0.001313784 | \n",
       "| LFM360K.GB  | II-CS       | F           | 0.29668966  | 0.8918097   | 0.294232913 | \n",
       "| LFM360K.GB  | II-CS       | M           | 0.29864882  | 0.8926383   | 0.303016296 | \n",
       "\n",
       "\n"
      ],
      "text/plain": [
       "  DataSet    Algorithm gender nDCG       Rank.nDCG MRR        \n",
       "1 LFM360K.GB II-B      F      0.29524594 0.8908668 0.294032645\n",
       "2 LFM360K.GB II-B      M      0.29684951 0.8918202 0.301677861\n",
       "3 LFM360K.GB II-C      F      0.08977526 0.8831727 0.001039092\n",
       "4 LFM360K.GB II-C      M      0.09027137 0.8849393 0.001313784\n",
       "5 LFM360K.GB II-CS     F      0.29668966 0.8918097 0.294232913\n",
       "6 LFM360K.GB II-CS     M      0.29864882 0.8926383 0.303016296"
      ]
     },
     "metadata": {},
     "output_type": "display_data"
    }
   ],
   "source": [
    "gender.results.balanced = user.results.balanced %>%\n",
    "    select(DataSet, Algorithm, gender, RecipRank, nDCG, Rank.nDCG) %>%\n",
    "    group_by(DataSet, Algorithm, gender) %>%\n",
    "    summarize(nDCG=mean(nDCG), Rank.nDCG=mean(Rank.nDCG), MRR=mean(RecipRank)) %>%\n",
    "    ungroup()\n",
    "head(gender.results.balanced)"
   ]
  },
  {
   "cell_type": "markdown",
   "metadata": {},
   "source": [
    "## Combined\n",
    "\n",
    "Combined gender and overall results for both datasets"
   ]
  },
  {
   "cell_type": "code",
   "execution_count": 24,
   "metadata": {},
   "outputs": [
    {
     "data": {
      "text/html": [
       "<table>\n",
       "<thead><tr><th scope=col>DataSet</th><th scope=col>Algorithm</th><th scope=col>gender</th><th scope=col>nDCG</th><th scope=col>Rank.nDCG</th><th scope=col>MRR</th></tr></thead>\n",
       "<tbody>\n",
       "\t<tr><td>LFM1K      </td><td>II-B       </td><td>F          </td><td>0.18379674 </td><td>0.8234126  </td><td>0.124055578</td></tr>\n",
       "\t<tr><td>LFM1K      </td><td>II-B       </td><td>M          </td><td>0.13810004 </td><td>0.7854049  </td><td>0.077049650</td></tr>\n",
       "\t<tr><td>LFM1K      </td><td>II-B       </td><td>NA         </td><td>0.14029112 </td><td>0.7925350  </td><td>0.063715005</td></tr>\n",
       "\t<tr><td>LFM1K      </td><td>II-C       </td><td>F          </td><td>0.08752032 </td><td>0.8395035  </td><td>0.002545079</td></tr>\n",
       "\t<tr><td>LFM1K      </td><td>II-C       </td><td>M          </td><td>0.08121656 </td><td>0.7990015  </td><td>0.002747112</td></tr>\n",
       "\t<tr><td>⋮</td><td>⋮</td><td>⋮</td><td>⋮</td><td>⋮</td><td>⋮</td></tr>\n",
       "\t<tr><td>ML1M      </td><td>MF-B      </td><td>Any       </td><td>0.1698617 </td><td>0.9467986 </td><td>0.03928235</td></tr>\n",
       "\t<tr><td>ML1M      </td><td>MF-E      </td><td>Any       </td><td>0.1518220 </td><td>0.9711224 </td><td>0.01563320</td></tr>\n",
       "\t<tr><td>ML1M      </td><td>Pop-B     </td><td>Any       </td><td>0.2311689 </td><td>0.9520535 </td><td>0.15181438</td></tr>\n",
       "\t<tr><td>ML1M      </td><td>UU-B      </td><td>Any       </td><td>0.3478020 </td><td>0.9515544 </td><td>0.35048690</td></tr>\n",
       "\t<tr><td>ML1M      </td><td>UU-E      </td><td>Any       </td><td>0.1516631 </td><td>0.9686151 </td><td>0.01465488</td></tr>\n",
       "</tbody>\n",
       "</table>\n"
      ],
      "text/latex": [
       "\\begin{tabular}{r|llllll}\n",
       " DataSet & Algorithm & gender & nDCG & Rank.nDCG & MRR\\\\\n",
       "\\hline\n",
       "\t LFM1K       & II-B        & F           & 0.18379674  & 0.8234126   & 0.124055578\\\\\n",
       "\t LFM1K       & II-B        & M           & 0.13810004  & 0.7854049   & 0.077049650\\\\\n",
       "\t LFM1K       & II-B        & NA          & 0.14029112  & 0.7925350   & 0.063715005\\\\\n",
       "\t LFM1K       & II-C        & F           & 0.08752032  & 0.8395035   & 0.002545079\\\\\n",
       "\t LFM1K       & II-C        & M           & 0.08121656  & 0.7990015   & 0.002747112\\\\\n",
       "\t ⋮ & ⋮ & ⋮ & ⋮ & ⋮ & ⋮\\\\\n",
       "\t ML1M       & MF-B       & Any        & 0.1698617  & 0.9467986  & 0.03928235\\\\\n",
       "\t ML1M       & MF-E       & Any        & 0.1518220  & 0.9711224  & 0.01563320\\\\\n",
       "\t ML1M       & Pop-B      & Any        & 0.2311689  & 0.9520535  & 0.15181438\\\\\n",
       "\t ML1M       & UU-B       & Any        & 0.3478020  & 0.9515544  & 0.35048690\\\\\n",
       "\t ML1M       & UU-E       & Any        & 0.1516631  & 0.9686151  & 0.01465488\\\\\n",
       "\\end{tabular}\n"
      ],
      "text/markdown": [
       "\n",
       "DataSet | Algorithm | gender | nDCG | Rank.nDCG | MRR | \n",
       "|---|---|---|---|---|---|---|---|---|---|---|\n",
       "| LFM1K       | II-B        | F           | 0.18379674  | 0.8234126   | 0.124055578 | \n",
       "| LFM1K       | II-B        | M           | 0.13810004  | 0.7854049   | 0.077049650 | \n",
       "| LFM1K       | II-B        | NA          | 0.14029112  | 0.7925350   | 0.063715005 | \n",
       "| LFM1K       | II-C        | F           | 0.08752032  | 0.8395035   | 0.002545079 | \n",
       "| LFM1K       | II-C        | M           | 0.08121656  | 0.7990015   | 0.002747112 | \n",
       "| ⋮ | ⋮ | ⋮ | ⋮ | ⋮ | ⋮ | \n",
       "| ML1M       | MF-B       | Any        | 0.1698617  | 0.9467986  | 0.03928235 | \n",
       "| ML1M       | MF-E       | Any        | 0.1518220  | 0.9711224  | 0.01563320 | \n",
       "| ML1M       | Pop-B      | Any        | 0.2311689  | 0.9520535  | 0.15181438 | \n",
       "| ML1M       | UU-B       | Any        | 0.3478020  | 0.9515544  | 0.35048690 | \n",
       "| ML1M       | UU-E       | Any        | 0.1516631  | 0.9686151  | 0.01465488 | \n",
       "\n",
       "\n"
      ],
      "text/plain": [
       "   DataSet Algorithm gender nDCG       Rank.nDCG MRR        \n",
       "1  LFM1K   II-B      F      0.18379674 0.8234126 0.124055578\n",
       "2  LFM1K   II-B      M      0.13810004 0.7854049 0.077049650\n",
       "3  LFM1K   II-B      NA     0.14029112 0.7925350 0.063715005\n",
       "4  LFM1K   II-C      F      0.08752032 0.8395035 0.002545079\n",
       "5  LFM1K   II-C      M      0.08121656 0.7990015 0.002747112\n",
       "⋮  ⋮       ⋮         ⋮      ⋮          ⋮         ⋮          \n",
       "76 ML1M    MF-B      Any    0.1698617  0.9467986 0.03928235 \n",
       "77 ML1M    MF-E      Any    0.1518220  0.9711224 0.01563320 \n",
       "78 ML1M    Pop-B     Any    0.2311689  0.9520535 0.15181438 \n",
       "79 ML1M    UU-B      Any    0.3478020  0.9515544 0.35048690 \n",
       "80 ML1M    UU-E      Any    0.1516631  0.9686151 0.01465488 "
      ]
     },
     "metadata": {},
     "output_type": "display_data"
    }
   ],
   "source": [
    "combined.results = bind_rows(gender.results,\n",
    "                             overall.results %>% mutate(gender = 'Any'))\n",
    "combined.results"
   ]
  },
  {
   "cell_type": "code",
   "execution_count": 26,
   "metadata": {},
   "outputs": [
    {
     "data": {
      "text/html": [
       "<table>\n",
       "<thead><tr><th scope=col>DataSet</th><th scope=col>Algorithm</th><th scope=col>gender</th><th scope=col>nDCG.B</th><th scope=col>Rank.nDCG.B</th><th scope=col>MRR.B</th></tr></thead>\n",
       "<tbody>\n",
       "\t<tr><td>LFM360K.GB </td><td>II-B       </td><td>F          </td><td>0.29524594 </td><td>0.8908668  </td><td>0.294032645</td></tr>\n",
       "\t<tr><td>LFM360K.GB </td><td>II-B       </td><td>M          </td><td>0.29684951 </td><td>0.8918202  </td><td>0.301677861</td></tr>\n",
       "\t<tr><td>LFM360K.GB </td><td>II-C       </td><td>F          </td><td>0.08977526 </td><td>0.8831727  </td><td>0.001039092</td></tr>\n",
       "\t<tr><td>LFM360K.GB </td><td>II-C       </td><td>M          </td><td>0.09027137 </td><td>0.8849393  </td><td>0.001313784</td></tr>\n",
       "\t<tr><td>LFM360K.GB </td><td>II-CS      </td><td>F          </td><td>0.29668966 </td><td>0.8918097  </td><td>0.294232913</td></tr>\n",
       "\t<tr><td>⋮</td><td>⋮</td><td>⋮</td><td>⋮</td><td>⋮</td><td>⋮</td></tr>\n",
       "\t<tr><td>ML1M.GB    </td><td>MF-B       </td><td>Any        </td><td>0.1502040  </td><td>0.9437741  </td><td>0.012390776</td></tr>\n",
       "\t<tr><td>ML1M.GB    </td><td>MF-E       </td><td>Any        </td><td>0.1453011  </td><td>0.9696619  </td><td>0.011676710</td></tr>\n",
       "\t<tr><td>ML1M.GB    </td><td>Pop-B      </td><td>Any        </td><td>0.2262266  </td><td>0.9531851  </td><td>0.144563296</td></tr>\n",
       "\t<tr><td>ML1M.GB    </td><td>UU-B       </td><td>Any        </td><td>0.3389445  </td><td>0.9522461  </td><td>0.333831947</td></tr>\n",
       "\t<tr><td>ML1M.GB    </td><td>UU-E       </td><td>Any        </td><td>0.1459282  </td><td>0.9677955  </td><td>0.008854881</td></tr>\n",
       "</tbody>\n",
       "</table>\n"
      ],
      "text/latex": [
       "\\begin{tabular}{r|llllll}\n",
       " DataSet & Algorithm & gender & nDCG.B & Rank.nDCG.B & MRR.B\\\\\n",
       "\\hline\n",
       "\t LFM360K.GB  & II-B        & F           & 0.29524594  & 0.8908668   & 0.294032645\\\\\n",
       "\t LFM360K.GB  & II-B        & M           & 0.29684951  & 0.8918202   & 0.301677861\\\\\n",
       "\t LFM360K.GB  & II-C        & F           & 0.08977526  & 0.8831727   & 0.001039092\\\\\n",
       "\t LFM360K.GB  & II-C        & M           & 0.09027137  & 0.8849393   & 0.001313784\\\\\n",
       "\t LFM360K.GB  & II-CS       & F           & 0.29668966  & 0.8918097   & 0.294232913\\\\\n",
       "\t ⋮ & ⋮ & ⋮ & ⋮ & ⋮ & ⋮\\\\\n",
       "\t ML1M.GB     & MF-B        & Any         & 0.1502040   & 0.9437741   & 0.012390776\\\\\n",
       "\t ML1M.GB     & MF-E        & Any         & 0.1453011   & 0.9696619   & 0.011676710\\\\\n",
       "\t ML1M.GB     & Pop-B       & Any         & 0.2262266   & 0.9531851   & 0.144563296\\\\\n",
       "\t ML1M.GB     & UU-B        & Any         & 0.3389445   & 0.9522461   & 0.333831947\\\\\n",
       "\t ML1M.GB     & UU-E        & Any         & 0.1459282   & 0.9677955   & 0.008854881\\\\\n",
       "\\end{tabular}\n"
      ],
      "text/markdown": [
       "\n",
       "DataSet | Algorithm | gender | nDCG.B | Rank.nDCG.B | MRR.B | \n",
       "|---|---|---|---|---|---|---|---|---|---|---|\n",
       "| LFM360K.GB  | II-B        | F           | 0.29524594  | 0.8908668   | 0.294032645 | \n",
       "| LFM360K.GB  | II-B        | M           | 0.29684951  | 0.8918202   | 0.301677861 | \n",
       "| LFM360K.GB  | II-C        | F           | 0.08977526  | 0.8831727   | 0.001039092 | \n",
       "| LFM360K.GB  | II-C        | M           | 0.09027137  | 0.8849393   | 0.001313784 | \n",
       "| LFM360K.GB  | II-CS       | F           | 0.29668966  | 0.8918097   | 0.294232913 | \n",
       "| ⋮ | ⋮ | ⋮ | ⋮ | ⋮ | ⋮ | \n",
       "| ML1M.GB     | MF-B        | Any         | 0.1502040   | 0.9437741   | 0.012390776 | \n",
       "| ML1M.GB     | MF-E        | Any         | 0.1453011   | 0.9696619   | 0.011676710 | \n",
       "| ML1M.GB     | Pop-B       | Any         | 0.2262266   | 0.9531851   | 0.144563296 | \n",
       "| ML1M.GB     | UU-B        | Any         | 0.3389445   | 0.9522461   | 0.333831947 | \n",
       "| ML1M.GB     | UU-E        | Any         | 0.1459282   | 0.9677955   | 0.008854881 | \n",
       "\n",
       "\n"
      ],
      "text/plain": [
       "   DataSet    Algorithm gender nDCG.B     Rank.nDCG.B MRR.B      \n",
       "1  LFM360K.GB II-B      F      0.29524594 0.8908668   0.294032645\n",
       "2  LFM360K.GB II-B      M      0.29684951 0.8918202   0.301677861\n",
       "3  LFM360K.GB II-C      F      0.08977526 0.8831727   0.001039092\n",
       "4  LFM360K.GB II-C      M      0.09027137 0.8849393   0.001313784\n",
       "5  LFM360K.GB II-CS     F      0.29668966 0.8918097   0.294232913\n",
       "⋮  ⋮          ⋮         ⋮      ⋮          ⋮           ⋮          \n",
       "41 ML1M.GB    MF-B      Any    0.1502040  0.9437741   0.012390776\n",
       "42 ML1M.GB    MF-E      Any    0.1453011  0.9696619   0.011676710\n",
       "43 ML1M.GB    Pop-B     Any    0.2262266  0.9531851   0.144563296\n",
       "44 ML1M.GB    UU-B      Any    0.3389445  0.9522461   0.333831947\n",
       "45 ML1M.GB    UU-E      Any    0.1459282  0.9677955   0.008854881"
      ]
     },
     "metadata": {},
     "output_type": "display_data"
    }
   ],
   "source": [
    "combined.results.balanced = bind_rows(gender.results.balanced,\n",
    "                             overall.results.balanced %>% mutate(gender = 'Any')) %>%\n",
    "    rename(nDCG.B=nDCG, Rank.nDCG.B=Rank.nDCG,MRR.B=MRR)\n",
    "combined.results.balanced"
   ]
  },
  {
   "cell_type": "markdown",
   "metadata": {},
   "source": [
    "## Dataset level comparison\n",
    "\n",
    "Rename DataSet of combined.results.balanced in order to join two results"
   ]
  },
  {
   "cell_type": "code",
   "execution_count": 23,
   "metadata": {},
   "outputs": [
    {
     "data": {
      "text/html": [
       "<table>\n",
       "<thead><tr><th scope=col>DataSet</th><th scope=col>Algorithm</th><th scope=col>gender</th><th scope=col>nDCG.B</th><th scope=col>Rank.nDCG.B</th><th scope=col>MRR.B</th></tr></thead>\n",
       "<tbody>\n",
       "\t<tr><td>LFM360K    </td><td>II-B       </td><td>F          </td><td>0.29524594 </td><td>0.8908668  </td><td>0.294032645</td></tr>\n",
       "\t<tr><td>LFM360K    </td><td>II-B       </td><td>M          </td><td>0.29684951 </td><td>0.8918202  </td><td>0.301677861</td></tr>\n",
       "\t<tr><td>LFM360K    </td><td>II-C       </td><td>F          </td><td>0.08977526 </td><td>0.8831727  </td><td>0.001039092</td></tr>\n",
       "\t<tr><td>LFM360K    </td><td>II-C       </td><td>M          </td><td>0.09027137 </td><td>0.8849393  </td><td>0.001313784</td></tr>\n",
       "\t<tr><td>LFM360K    </td><td>II-CS      </td><td>F          </td><td>0.29668966 </td><td>0.8918097  </td><td>0.294232913</td></tr>\n",
       "\t<tr><td>⋮</td><td>⋮</td><td>⋮</td><td>⋮</td><td>⋮</td><td>⋮</td></tr>\n",
       "\t<tr><td>ML1M       </td><td>MF-B       </td><td>Any        </td><td>0.1502040  </td><td>0.9437741  </td><td>0.012390776</td></tr>\n",
       "\t<tr><td>ML1M       </td><td>MF-E       </td><td>Any        </td><td>0.1453011  </td><td>0.9696619  </td><td>0.011676710</td></tr>\n",
       "\t<tr><td>ML1M       </td><td>Pop-B      </td><td>Any        </td><td>0.2262266  </td><td>0.9531851  </td><td>0.144563296</td></tr>\n",
       "\t<tr><td>ML1M       </td><td>UU-B       </td><td>Any        </td><td>0.3389445  </td><td>0.9522461  </td><td>0.333831947</td></tr>\n",
       "\t<tr><td>ML1M       </td><td>UU-E       </td><td>Any        </td><td>0.1459282  </td><td>0.9677955  </td><td>0.008854881</td></tr>\n",
       "</tbody>\n",
       "</table>\n"
      ],
      "text/latex": [
       "\\begin{tabular}{r|llllll}\n",
       " DataSet & Algorithm & gender & nDCG.B & Rank.nDCG.B & MRR.B\\\\\n",
       "\\hline\n",
       "\t LFM360K     & II-B        & F           & 0.29524594  & 0.8908668   & 0.294032645\\\\\n",
       "\t LFM360K     & II-B        & M           & 0.29684951  & 0.8918202   & 0.301677861\\\\\n",
       "\t LFM360K     & II-C        & F           & 0.08977526  & 0.8831727   & 0.001039092\\\\\n",
       "\t LFM360K     & II-C        & M           & 0.09027137  & 0.8849393   & 0.001313784\\\\\n",
       "\t LFM360K     & II-CS       & F           & 0.29668966  & 0.8918097   & 0.294232913\\\\\n",
       "\t ⋮ & ⋮ & ⋮ & ⋮ & ⋮ & ⋮\\\\\n",
       "\t ML1M        & MF-B        & Any         & 0.1502040   & 0.9437741   & 0.012390776\\\\\n",
       "\t ML1M        & MF-E        & Any         & 0.1453011   & 0.9696619   & 0.011676710\\\\\n",
       "\t ML1M        & Pop-B       & Any         & 0.2262266   & 0.9531851   & 0.144563296\\\\\n",
       "\t ML1M        & UU-B        & Any         & 0.3389445   & 0.9522461   & 0.333831947\\\\\n",
       "\t ML1M        & UU-E        & Any         & 0.1459282   & 0.9677955   & 0.008854881\\\\\n",
       "\\end{tabular}\n"
      ],
      "text/markdown": [
       "\n",
       "DataSet | Algorithm | gender | nDCG.B | Rank.nDCG.B | MRR.B | \n",
       "|---|---|---|---|---|---|---|---|---|---|---|\n",
       "| LFM360K     | II-B        | F           | 0.29524594  | 0.8908668   | 0.294032645 | \n",
       "| LFM360K     | II-B        | M           | 0.29684951  | 0.8918202   | 0.301677861 | \n",
       "| LFM360K     | II-C        | F           | 0.08977526  | 0.8831727   | 0.001039092 | \n",
       "| LFM360K     | II-C        | M           | 0.09027137  | 0.8849393   | 0.001313784 | \n",
       "| LFM360K     | II-CS       | F           | 0.29668966  | 0.8918097   | 0.294232913 | \n",
       "| ⋮ | ⋮ | ⋮ | ⋮ | ⋮ | ⋮ | \n",
       "| ML1M        | MF-B        | Any         | 0.1502040   | 0.9437741   | 0.012390776 | \n",
       "| ML1M        | MF-E        | Any         | 0.1453011   | 0.9696619   | 0.011676710 | \n",
       "| ML1M        | Pop-B       | Any         | 0.2262266   | 0.9531851   | 0.144563296 | \n",
       "| ML1M        | UU-B        | Any         | 0.3389445   | 0.9522461   | 0.333831947 | \n",
       "| ML1M        | UU-E        | Any         | 0.1459282   | 0.9677955   | 0.008854881 | \n",
       "\n",
       "\n"
      ],
      "text/plain": [
       "   DataSet Algorithm gender nDCG.B     Rank.nDCG.B MRR.B      \n",
       "1  LFM360K II-B      F      0.29524594 0.8908668   0.294032645\n",
       "2  LFM360K II-B      M      0.29684951 0.8918202   0.301677861\n",
       "3  LFM360K II-C      F      0.08977526 0.8831727   0.001039092\n",
       "4  LFM360K II-C      M      0.09027137 0.8849393   0.001313784\n",
       "5  LFM360K II-CS     F      0.29668966 0.8918097   0.294232913\n",
       "⋮  ⋮       ⋮         ⋮      ⋮          ⋮           ⋮          \n",
       "41 ML1M    MF-B      Any    0.1502040  0.9437741   0.012390776\n",
       "42 ML1M    MF-E      Any    0.1453011  0.9696619   0.011676710\n",
       "43 ML1M    Pop-B     Any    0.2262266  0.9531851   0.144563296\n",
       "44 ML1M    UU-B      Any    0.3389445  0.9522461   0.333831947\n",
       "45 ML1M    UU-E      Any    0.1459282  0.9677955   0.008854881"
      ]
     },
     "metadata": {},
     "output_type": "display_data"
    }
   ],
   "source": [
    "LFM.GB.Renamed = combined.results.balanced %>%\n",
    "    filter(startsWith(DataSet, 'LFM360K')) %>%\n",
    "    mutate(DataSet='LFM360K')\n",
    "ML.GB.Renamed = combined.results.balanced %>%\n",
    "    filter(startsWith(DataSet, 'ML1M')) %>%\n",
    "    mutate(DataSet='ML1M')\n",
    "combined.results.balanced = bind_rows(LFM.GB.Renamed, ML.GB.Renamed)\n",
    "combined.results.balanced"
   ]
  },
  {
   "cell_type": "code",
   "execution_count": 24,
   "metadata": {},
   "outputs": [
    {
     "name": "stderr",
     "output_type": "stream",
     "text": [
      "Joining, by = c(\"DataSet\", \"Algorithm\", \"gender\")\n"
     ]
    },
    {
     "data": {
      "text/html": [
       "<table>\n",
       "<thead><tr><th scope=col>DataSet</th><th scope=col>Algorithm</th><th scope=col>gender</th><th scope=col>nDCG</th><th scope=col>Rank.nDCG</th><th scope=col>MRR</th><th scope=col>nDCG.B</th><th scope=col>Rank.nDCG.B</th><th scope=col>MRR.B</th></tr></thead>\n",
       "<tbody>\n",
       "\t<tr><td>LFM360K     </td><td>II-B        </td><td>F           </td><td>0.29668315  </td><td>0.8933260   </td><td>0.2990175889</td><td>0.29524594  </td><td>0.8908668   </td><td>0.294032645 </td></tr>\n",
       "\t<tr><td>LFM360K     </td><td>II-B        </td><td>M           </td><td>0.30273247  </td><td>0.8959104   </td><td>0.3073820761</td><td>0.29684951  </td><td>0.8918202   </td><td>0.301677861 </td></tr>\n",
       "\t<tr><td>LFM360K     </td><td>II-C        </td><td>F           </td><td>0.08428539  </td><td>0.8777900   </td><td>0.0002674931</td><td>0.08977526  </td><td>0.8831727   </td><td>0.001039092 </td></tr>\n",
       "\t<tr><td>LFM360K     </td><td>II-C        </td><td>M           </td><td>0.08452048  </td><td>0.8800401   </td><td>0.0004428900</td><td>0.09027137  </td><td>0.8849393   </td><td>0.001313784 </td></tr>\n",
       "\t<tr><td>LFM360K     </td><td>II-CS       </td><td>F           </td><td>0.29342851  </td><td>0.8864077   </td><td>0.2874313646</td><td>0.29668966  </td><td>0.8918097   </td><td>0.294232913 </td></tr>\n",
       "\t<tr><td>⋮</td><td>⋮</td><td>⋮</td><td>⋮</td><td>⋮</td><td>⋮</td><td>⋮</td><td>⋮</td><td>⋮</td></tr>\n",
       "\t<tr><td>ML1M       </td><td>MF-B       </td><td>Any        </td><td>0.1698617  </td><td>0.9467986  </td><td>0.03928235 </td><td>0.1502040  </td><td>0.9437741  </td><td>0.012390776</td></tr>\n",
       "\t<tr><td>ML1M       </td><td>MF-E       </td><td>Any        </td><td>0.1518220  </td><td>0.9711224  </td><td>0.01563320 </td><td>0.1453011  </td><td>0.9696619  </td><td>0.011676710</td></tr>\n",
       "\t<tr><td>ML1M       </td><td>Pop-B      </td><td>Any        </td><td>0.2311689  </td><td>0.9520535  </td><td>0.15181438 </td><td>0.2262266  </td><td>0.9531851  </td><td>0.144563296</td></tr>\n",
       "\t<tr><td>ML1M       </td><td>UU-B       </td><td>Any        </td><td>0.3478020  </td><td>0.9515544  </td><td>0.35048690 </td><td>0.3389445  </td><td>0.9522461  </td><td>0.333831947</td></tr>\n",
       "\t<tr><td>ML1M       </td><td>UU-E       </td><td>Any        </td><td>0.1516631  </td><td>0.9686151  </td><td>0.01465488 </td><td>0.1459282  </td><td>0.9677955  </td><td>0.008854881</td></tr>\n",
       "</tbody>\n",
       "</table>\n"
      ],
      "text/latex": [
       "\\begin{tabular}{r|lllllllll}\n",
       " DataSet & Algorithm & gender & nDCG & Rank.nDCG & MRR & nDCG.B & Rank.nDCG.B & MRR.B\\\\\n",
       "\\hline\n",
       "\t LFM360K      & II-B         & F            & 0.29668315   & 0.8933260    & 0.2990175889 & 0.29524594   & 0.8908668    & 0.294032645 \\\\\n",
       "\t LFM360K      & II-B         & M            & 0.30273247   & 0.8959104    & 0.3073820761 & 0.29684951   & 0.8918202    & 0.301677861 \\\\\n",
       "\t LFM360K      & II-C         & F            & 0.08428539   & 0.8777900    & 0.0002674931 & 0.08977526   & 0.8831727    & 0.001039092 \\\\\n",
       "\t LFM360K      & II-C         & M            & 0.08452048   & 0.8800401    & 0.0004428900 & 0.09027137   & 0.8849393    & 0.001313784 \\\\\n",
       "\t LFM360K      & II-CS        & F            & 0.29342851   & 0.8864077    & 0.2874313646 & 0.29668966   & 0.8918097    & 0.294232913 \\\\\n",
       "\t ⋮ & ⋮ & ⋮ & ⋮ & ⋮ & ⋮ & ⋮ & ⋮ & ⋮\\\\\n",
       "\t ML1M        & MF-B        & Any         & 0.1698617   & 0.9467986   & 0.03928235  & 0.1502040   & 0.9437741   & 0.012390776\\\\\n",
       "\t ML1M        & MF-E        & Any         & 0.1518220   & 0.9711224   & 0.01563320  & 0.1453011   & 0.9696619   & 0.011676710\\\\\n",
       "\t ML1M        & Pop-B       & Any         & 0.2311689   & 0.9520535   & 0.15181438  & 0.2262266   & 0.9531851   & 0.144563296\\\\\n",
       "\t ML1M        & UU-B        & Any         & 0.3478020   & 0.9515544   & 0.35048690  & 0.3389445   & 0.9522461   & 0.333831947\\\\\n",
       "\t ML1M        & UU-E        & Any         & 0.1516631   & 0.9686151   & 0.01465488  & 0.1459282   & 0.9677955   & 0.008854881\\\\\n",
       "\\end{tabular}\n"
      ],
      "text/markdown": [
       "\n",
       "DataSet | Algorithm | gender | nDCG | Rank.nDCG | MRR | nDCG.B | Rank.nDCG.B | MRR.B | \n",
       "|---|---|---|---|---|---|---|---|---|---|---|\n",
       "| LFM360K      | II-B         | F            | 0.29668315   | 0.8933260    | 0.2990175889 | 0.29524594   | 0.8908668    | 0.294032645  | \n",
       "| LFM360K      | II-B         | M            | 0.30273247   | 0.8959104    | 0.3073820761 | 0.29684951   | 0.8918202    | 0.301677861  | \n",
       "| LFM360K      | II-C         | F            | 0.08428539   | 0.8777900    | 0.0002674931 | 0.08977526   | 0.8831727    | 0.001039092  | \n",
       "| LFM360K      | II-C         | M            | 0.08452048   | 0.8800401    | 0.0004428900 | 0.09027137   | 0.8849393    | 0.001313784  | \n",
       "| LFM360K      | II-CS        | F            | 0.29342851   | 0.8864077    | 0.2874313646 | 0.29668966   | 0.8918097    | 0.294232913  | \n",
       "| ⋮ | ⋮ | ⋮ | ⋮ | ⋮ | ⋮ | ⋮ | ⋮ | ⋮ | \n",
       "| ML1M        | MF-B        | Any         | 0.1698617   | 0.9467986   | 0.03928235  | 0.1502040   | 0.9437741   | 0.012390776 | \n",
       "| ML1M        | MF-E        | Any         | 0.1518220   | 0.9711224   | 0.01563320  | 0.1453011   | 0.9696619   | 0.011676710 | \n",
       "| ML1M        | Pop-B       | Any         | 0.2311689   | 0.9520535   | 0.15181438  | 0.2262266   | 0.9531851   | 0.144563296 | \n",
       "| ML1M        | UU-B        | Any         | 0.3478020   | 0.9515544   | 0.35048690  | 0.3389445   | 0.9522461   | 0.333831947 | \n",
       "| ML1M        | UU-E        | Any         | 0.1516631   | 0.9686151   | 0.01465488  | 0.1459282   | 0.9677955   | 0.008854881 | \n",
       "\n",
       "\n"
      ],
      "text/plain": [
       "   DataSet Algorithm gender nDCG       Rank.nDCG MRR          nDCG.B    \n",
       "1  LFM360K II-B      F      0.29668315 0.8933260 0.2990175889 0.29524594\n",
       "2  LFM360K II-B      M      0.30273247 0.8959104 0.3073820761 0.29684951\n",
       "3  LFM360K II-C      F      0.08428539 0.8777900 0.0002674931 0.08977526\n",
       "4  LFM360K II-C      M      0.08452048 0.8800401 0.0004428900 0.09027137\n",
       "5  LFM360K II-CS     F      0.29342851 0.8864077 0.2874313646 0.29668966\n",
       "⋮  ⋮       ⋮         ⋮      ⋮          ⋮         ⋮            ⋮         \n",
       "41 ML1M    MF-B      Any    0.1698617  0.9467986 0.03928235   0.1502040 \n",
       "42 ML1M    MF-E      Any    0.1518220  0.9711224 0.01563320   0.1453011 \n",
       "43 ML1M    Pop-B     Any    0.2311689  0.9520535 0.15181438   0.2262266 \n",
       "44 ML1M    UU-B      Any    0.3478020  0.9515544 0.35048690   0.3389445 \n",
       "45 ML1M    UU-E      Any    0.1516631  0.9686151 0.01465488   0.1459282 \n",
       "   Rank.nDCG.B MRR.B      \n",
       "1  0.8908668   0.294032645\n",
       "2  0.8918202   0.301677861\n",
       "3  0.8831727   0.001039092\n",
       "4  0.8849393   0.001313784\n",
       "5  0.8918097   0.294232913\n",
       "⋮  ⋮           ⋮          \n",
       "41 0.9437741   0.012390776\n",
       "42 0.9696619   0.011676710\n",
       "43 0.9531851   0.144563296\n",
       "44 0.9522461   0.333831947\n",
       "45 0.9677955   0.008854881"
      ]
     },
     "metadata": {},
     "output_type": "display_data"
    }
   ],
   "source": [
    "colunmwise.combined.results = combined.results %>%\n",
    "    inner_join(combined.results.balanced)\n",
    "colunmwise.combined.results"
   ]
  },
  {
   "cell_type": "code",
   "execution_count": 27,
   "metadata": {
    "collapsed": true
   },
   "outputs": [],
   "source": [
    "abs.change.results = colunmwise.combined.results %>%\n",
    "    mutate(abs.change.nDCG=abs(nDCG-nDCG.B),\n",
    "           abs.change.Rank.nDCG=abs(Rank.nDCG-Rank.nDCG.B), \n",
    "           abs.change.MRR=abs(MRR-MRR.B))\n",
    "abs.change.results"
   ]
  },
  {
   "cell_type": "code",
   "execution_count": 29,
   "metadata": {
    "collapsed": true
   },
   "outputs": [],
   "source": [
    "final.results = abs.change.results %>%\n",
    "    mutate(abs.relative.nDCG=abs.change.nDCG/nDCG,\n",
    "           abs.relative.Rank.nDCG=abs.change.Rank.nDCG/Rank.nDCG,\n",
    "           abs.relative.MRR=abs.change.MRR/MRR)"
   ]
  },
  {
   "cell_type": "markdown",
   "metadata": {},
   "source": [
    "filter nDCG results "
   ]
  },
  {
   "cell_type": "code",
   "execution_count": 36,
   "metadata": {},
   "outputs": [
    {
     "data": {
      "text/html": [
       "<table>\n",
       "<thead><tr><th scope=col>DataSet</th><th scope=col>Algorithm</th><th scope=col>gender</th><th scope=col>nDCG</th><th scope=col>nDCG.B</th><th scope=col>abs.change.nDCG</th><th scope=col>abs.relative.nDCG</th></tr></thead>\n",
       "<tbody>\n",
       "\t<tr><td>LFM360K    </td><td>II-B       </td><td>F          </td><td>0.29668315 </td><td>0.29524594 </td><td>0.001437207</td><td>0.00484425 </td></tr>\n",
       "\t<tr><td>LFM360K    </td><td>II-B       </td><td>M          </td><td>0.30273247 </td><td>0.29684951 </td><td>0.005882959</td><td>0.01943286 </td></tr>\n",
       "\t<tr><td>LFM360K    </td><td>II-C       </td><td>F          </td><td>0.08428539 </td><td>0.08977526 </td><td>0.005489870</td><td>0.06513430 </td></tr>\n",
       "\t<tr><td>LFM360K    </td><td>II-C       </td><td>M          </td><td>0.08452048 </td><td>0.09027137 </td><td>0.005750889</td><td>0.06804137 </td></tr>\n",
       "\t<tr><td>LFM360K    </td><td>II-CS      </td><td>F          </td><td>0.29342851 </td><td>0.29668966 </td><td>0.003261155</td><td>0.01111397 </td></tr>\n",
       "\t<tr><td>⋮</td><td>⋮</td><td>⋮</td><td>⋮</td><td>⋮</td><td>⋮</td><td>⋮</td></tr>\n",
       "\t<tr><td>ML1M       </td><td>MF-B       </td><td>Any        </td><td>0.1698617  </td><td>0.1502040  </td><td>0.019657685</td><td>0.11572762 </td></tr>\n",
       "\t<tr><td>ML1M       </td><td>MF-E       </td><td>Any        </td><td>0.1518220  </td><td>0.1453011  </td><td>0.006520923</td><td>0.04295110 </td></tr>\n",
       "\t<tr><td>ML1M       </td><td>Pop-B      </td><td>Any        </td><td>0.2311689  </td><td>0.2262266  </td><td>0.004942329</td><td>0.02137973 </td></tr>\n",
       "\t<tr><td>ML1M       </td><td>UU-B       </td><td>Any        </td><td>0.3478020  </td><td>0.3389445  </td><td>0.008857508</td><td>0.02546710 </td></tr>\n",
       "\t<tr><td>ML1M       </td><td>UU-E       </td><td>Any        </td><td>0.1516631  </td><td>0.1459282  </td><td>0.005734952</td><td>0.03781375 </td></tr>\n",
       "</tbody>\n",
       "</table>\n"
      ],
      "text/latex": [
       "\\begin{tabular}{r|lllllll}\n",
       " DataSet & Algorithm & gender & nDCG & nDCG.B & abs.change.nDCG & abs.relative.nDCG\\\\\n",
       "\\hline\n",
       "\t LFM360K     & II-B        & F           & 0.29668315  & 0.29524594  & 0.001437207 & 0.00484425 \\\\\n",
       "\t LFM360K     & II-B        & M           & 0.30273247  & 0.29684951  & 0.005882959 & 0.01943286 \\\\\n",
       "\t LFM360K     & II-C        & F           & 0.08428539  & 0.08977526  & 0.005489870 & 0.06513430 \\\\\n",
       "\t LFM360K     & II-C        & M           & 0.08452048  & 0.09027137  & 0.005750889 & 0.06804137 \\\\\n",
       "\t LFM360K     & II-CS       & F           & 0.29342851  & 0.29668966  & 0.003261155 & 0.01111397 \\\\\n",
       "\t ⋮ & ⋮ & ⋮ & ⋮ & ⋮ & ⋮ & ⋮\\\\\n",
       "\t ML1M        & MF-B        & Any         & 0.1698617   & 0.1502040   & 0.019657685 & 0.11572762 \\\\\n",
       "\t ML1M        & MF-E        & Any         & 0.1518220   & 0.1453011   & 0.006520923 & 0.04295110 \\\\\n",
       "\t ML1M        & Pop-B       & Any         & 0.2311689   & 0.2262266   & 0.004942329 & 0.02137973 \\\\\n",
       "\t ML1M        & UU-B        & Any         & 0.3478020   & 0.3389445   & 0.008857508 & 0.02546710 \\\\\n",
       "\t ML1M        & UU-E        & Any         & 0.1516631   & 0.1459282   & 0.005734952 & 0.03781375 \\\\\n",
       "\\end{tabular}\n"
      ],
      "text/markdown": [
       "\n",
       "DataSet | Algorithm | gender | nDCG | nDCG.B | abs.change.nDCG | abs.relative.nDCG | \n",
       "|---|---|---|---|---|---|---|---|---|---|---|\n",
       "| LFM360K     | II-B        | F           | 0.29668315  | 0.29524594  | 0.001437207 | 0.00484425  | \n",
       "| LFM360K     | II-B        | M           | 0.30273247  | 0.29684951  | 0.005882959 | 0.01943286  | \n",
       "| LFM360K     | II-C        | F           | 0.08428539  | 0.08977526  | 0.005489870 | 0.06513430  | \n",
       "| LFM360K     | II-C        | M           | 0.08452048  | 0.09027137  | 0.005750889 | 0.06804137  | \n",
       "| LFM360K     | II-CS       | F           | 0.29342851  | 0.29668966  | 0.003261155 | 0.01111397  | \n",
       "| ⋮ | ⋮ | ⋮ | ⋮ | ⋮ | ⋮ | ⋮ | \n",
       "| ML1M        | MF-B        | Any         | 0.1698617   | 0.1502040   | 0.019657685 | 0.11572762  | \n",
       "| ML1M        | MF-E        | Any         | 0.1518220   | 0.1453011   | 0.006520923 | 0.04295110  | \n",
       "| ML1M        | Pop-B       | Any         | 0.2311689   | 0.2262266   | 0.004942329 | 0.02137973  | \n",
       "| ML1M        | UU-B        | Any         | 0.3478020   | 0.3389445   | 0.008857508 | 0.02546710  | \n",
       "| ML1M        | UU-E        | Any         | 0.1516631   | 0.1459282   | 0.005734952 | 0.03781375  | \n",
       "\n",
       "\n"
      ],
      "text/plain": [
       "   DataSet Algorithm gender nDCG       nDCG.B     abs.change.nDCG\n",
       "1  LFM360K II-B      F      0.29668315 0.29524594 0.001437207    \n",
       "2  LFM360K II-B      M      0.30273247 0.29684951 0.005882959    \n",
       "3  LFM360K II-C      F      0.08428539 0.08977526 0.005489870    \n",
       "4  LFM360K II-C      M      0.08452048 0.09027137 0.005750889    \n",
       "5  LFM360K II-CS     F      0.29342851 0.29668966 0.003261155    \n",
       "⋮  ⋮       ⋮         ⋮      ⋮          ⋮          ⋮              \n",
       "41 ML1M    MF-B      Any    0.1698617  0.1502040  0.019657685    \n",
       "42 ML1M    MF-E      Any    0.1518220  0.1453011  0.006520923    \n",
       "43 ML1M    Pop-B     Any    0.2311689  0.2262266  0.004942329    \n",
       "44 ML1M    UU-B      Any    0.3478020  0.3389445  0.008857508    \n",
       "45 ML1M    UU-E      Any    0.1516631  0.1459282  0.005734952    \n",
       "   abs.relative.nDCG\n",
       "1  0.00484425       \n",
       "2  0.01943286       \n",
       "3  0.06513430       \n",
       "4  0.06804137       \n",
       "5  0.01111397       \n",
       "⋮  ⋮                \n",
       "41 0.11572762       \n",
       "42 0.04295110       \n",
       "43 0.02137973       \n",
       "44 0.02546710       \n",
       "45 0.03781375       "
      ]
     },
     "metadata": {},
     "output_type": "display_data"
    }
   ],
   "source": [
    "nDCG.results = final.results %>%\n",
    "    select(DataSet, Algorithm, gender, nDCG, nDCG.B, abs.change.nDCG, abs.relative.nDCG)\n",
    "nDCG.results"
   ]
  },
  {
   "cell_type": "markdown",
   "metadata": {},
   "source": [
    "Change of UU-B for ML1M"
   ]
  },
  {
   "cell_type": "code",
   "execution_count": 37,
   "metadata": {},
   "outputs": [
    {
     "data": {
      "text/html": [
       "<table>\n",
       "<thead><tr><th scope=col>DataSet</th><th scope=col>Algorithm</th><th scope=col>gender</th><th scope=col>nDCG</th><th scope=col>nDCG.B</th><th scope=col>abs.change.nDCG</th><th scope=col>abs.relative.nDCG</th></tr></thead>\n",
       "<tbody>\n",
       "\t<tr><td>ML1M       </td><td>UU-B       </td><td>F          </td><td>0.3372249  </td><td>0.3337440  </td><td>0.003480902</td><td>0.01032220 </td></tr>\n",
       "\t<tr><td>ML1M       </td><td>UU-B       </td><td>M          </td><td>0.3519757  </td><td>0.3441450  </td><td>0.007830718</td><td>0.02224789 </td></tr>\n",
       "\t<tr><td>ML1M       </td><td>UU-B       </td><td>Any        </td><td>0.3478020  </td><td>0.3389445  </td><td>0.008857508</td><td>0.02546710 </td></tr>\n",
       "</tbody>\n",
       "</table>\n"
      ],
      "text/latex": [
       "\\begin{tabular}{r|lllllll}\n",
       " DataSet & Algorithm & gender & nDCG & nDCG.B & abs.change.nDCG & abs.relative.nDCG\\\\\n",
       "\\hline\n",
       "\t ML1M        & UU-B        & F           & 0.3372249   & 0.3337440   & 0.003480902 & 0.01032220 \\\\\n",
       "\t ML1M        & UU-B        & M           & 0.3519757   & 0.3441450   & 0.007830718 & 0.02224789 \\\\\n",
       "\t ML1M        & UU-B        & Any         & 0.3478020   & 0.3389445   & 0.008857508 & 0.02546710 \\\\\n",
       "\\end{tabular}\n"
      ],
      "text/markdown": [
       "\n",
       "DataSet | Algorithm | gender | nDCG | nDCG.B | abs.change.nDCG | abs.relative.nDCG | \n",
       "|---|---|---|\n",
       "| ML1M        | UU-B        | F           | 0.3372249   | 0.3337440   | 0.003480902 | 0.01032220  | \n",
       "| ML1M        | UU-B        | M           | 0.3519757   | 0.3441450   | 0.007830718 | 0.02224789  | \n",
       "| ML1M        | UU-B        | Any         | 0.3478020   | 0.3389445   | 0.008857508 | 0.02546710  | \n",
       "\n",
       "\n"
      ],
      "text/plain": [
       "  DataSet Algorithm gender nDCG      nDCG.B    abs.change.nDCG\n",
       "1 ML1M    UU-B      F      0.3372249 0.3337440 0.003480902    \n",
       "2 ML1M    UU-B      M      0.3519757 0.3441450 0.007830718    \n",
       "3 ML1M    UU-B      Any    0.3478020 0.3389445 0.008857508    \n",
       "  abs.relative.nDCG\n",
       "1 0.01032220       \n",
       "2 0.02224789       \n",
       "3 0.02546710       "
      ]
     },
     "metadata": {},
     "output_type": "display_data"
    }
   ],
   "source": [
    "uu_b.ML1M = nDCG.results %>%\n",
    "    filter(DataSet=='ML1M') %>%\n",
    "    filter(Algorithm=='UU-B')\n",
    "uu_b.ML1M"
   ]
  },
  {
   "cell_type": "markdown",
   "metadata": {},
   "source": [
    "Change of II-B for LFM360K"
   ]
  },
  {
   "cell_type": "code",
   "execution_count": 38,
   "metadata": {},
   "outputs": [
    {
     "data": {
      "text/html": [
       "<table>\n",
       "<thead><tr><th scope=col>DataSet</th><th scope=col>Algorithm</th><th scope=col>gender</th><th scope=col>nDCG</th><th scope=col>nDCG.B</th><th scope=col>abs.change.nDCG</th><th scope=col>abs.relative.nDCG</th></tr></thead>\n",
       "<tbody>\n",
       "\t<tr><td>LFM360K    </td><td>II-B       </td><td>F          </td><td>0.2966831  </td><td>0.2952459  </td><td>0.001437207</td><td>0.00484425 </td></tr>\n",
       "\t<tr><td>LFM360K    </td><td>II-B       </td><td>M          </td><td>0.3027325  </td><td>0.2968495  </td><td>0.005882959</td><td>0.01943286 </td></tr>\n",
       "\t<tr><td>LFM360K    </td><td>II-B       </td><td>Any        </td><td>0.3001435  </td><td>0.2960443  </td><td>0.004099219</td><td>0.01365753 </td></tr>\n",
       "</tbody>\n",
       "</table>\n"
      ],
      "text/latex": [
       "\\begin{tabular}{r|lllllll}\n",
       " DataSet & Algorithm & gender & nDCG & nDCG.B & abs.change.nDCG & abs.relative.nDCG\\\\\n",
       "\\hline\n",
       "\t LFM360K     & II-B        & F           & 0.2966831   & 0.2952459   & 0.001437207 & 0.00484425 \\\\\n",
       "\t LFM360K     & II-B        & M           & 0.3027325   & 0.2968495   & 0.005882959 & 0.01943286 \\\\\n",
       "\t LFM360K     & II-B        & Any         & 0.3001435   & 0.2960443   & 0.004099219 & 0.01365753 \\\\\n",
       "\\end{tabular}\n"
      ],
      "text/markdown": [
       "\n",
       "DataSet | Algorithm | gender | nDCG | nDCG.B | abs.change.nDCG | abs.relative.nDCG | \n",
       "|---|---|---|\n",
       "| LFM360K     | II-B        | F           | 0.2966831   | 0.2952459   | 0.001437207 | 0.00484425  | \n",
       "| LFM360K     | II-B        | M           | 0.3027325   | 0.2968495   | 0.005882959 | 0.01943286  | \n",
       "| LFM360K     | II-B        | Any         | 0.3001435   | 0.2960443   | 0.004099219 | 0.01365753  | \n",
       "\n",
       "\n"
      ],
      "text/plain": [
       "  DataSet Algorithm gender nDCG      nDCG.B    abs.change.nDCG\n",
       "1 LFM360K II-B      F      0.2966831 0.2952459 0.001437207    \n",
       "2 LFM360K II-B      M      0.3027325 0.2968495 0.005882959    \n",
       "3 LFM360K II-B      Any    0.3001435 0.2960443 0.004099219    \n",
       "  abs.relative.nDCG\n",
       "1 0.00484425       \n",
       "2 0.01943286       \n",
       "3 0.01365753       "
      ]
     },
     "metadata": {},
     "output_type": "display_data"
    }
   ],
   "source": [
    "ii_b.LFM360K = nDCG.results %>%\n",
    "    filter(DataSet=='LFM360K') %>%\n",
    "    filter(Algorithm=='II-B')\n",
    "ii_b.LFM360K"
   ]
  },
  {
   "cell_type": "markdown",
   "metadata": {},
   "source": [
    "Change of II-CS for LFM360K"
   ]
  },
  {
   "cell_type": "code",
   "execution_count": 39,
   "metadata": {},
   "outputs": [
    {
     "data": {
      "text/html": [
       "<table>\n",
       "<thead><tr><th scope=col>DataSet</th><th scope=col>Algorithm</th><th scope=col>gender</th><th scope=col>nDCG</th><th scope=col>nDCG.B</th><th scope=col>abs.change.nDCG</th><th scope=col>abs.relative.nDCG</th></tr></thead>\n",
       "<tbody>\n",
       "\t<tr><td>LFM360K     </td><td>II-CS       </td><td>F           </td><td>0.2934285   </td><td>0.2966897   </td><td>0.0032611552</td><td>0.0111139683</td></tr>\n",
       "\t<tr><td>LFM360K     </td><td>II-CS       </td><td>M           </td><td>0.3009397   </td><td>0.2986488   </td><td>0.0022908789</td><td>0.0076124184</td></tr>\n",
       "\t<tr><td>LFM360K     </td><td>II-CS       </td><td>Any         </td><td>0.2978523   </td><td>0.2976651   </td><td>0.0001871792</td><td>0.0006284297</td></tr>\n",
       "</tbody>\n",
       "</table>\n"
      ],
      "text/latex": [
       "\\begin{tabular}{r|lllllll}\n",
       " DataSet & Algorithm & gender & nDCG & nDCG.B & abs.change.nDCG & abs.relative.nDCG\\\\\n",
       "\\hline\n",
       "\t LFM360K      & II-CS        & F            & 0.2934285    & 0.2966897    & 0.0032611552 & 0.0111139683\\\\\n",
       "\t LFM360K      & II-CS        & M            & 0.3009397    & 0.2986488    & 0.0022908789 & 0.0076124184\\\\\n",
       "\t LFM360K      & II-CS        & Any          & 0.2978523    & 0.2976651    & 0.0001871792 & 0.0006284297\\\\\n",
       "\\end{tabular}\n"
      ],
      "text/markdown": [
       "\n",
       "DataSet | Algorithm | gender | nDCG | nDCG.B | abs.change.nDCG | abs.relative.nDCG | \n",
       "|---|---|---|\n",
       "| LFM360K      | II-CS        | F            | 0.2934285    | 0.2966897    | 0.0032611552 | 0.0111139683 | \n",
       "| LFM360K      | II-CS        | M            | 0.3009397    | 0.2986488    | 0.0022908789 | 0.0076124184 | \n",
       "| LFM360K      | II-CS        | Any          | 0.2978523    | 0.2976651    | 0.0001871792 | 0.0006284297 | \n",
       "\n",
       "\n"
      ],
      "text/plain": [
       "  DataSet Algorithm gender nDCG      nDCG.B    abs.change.nDCG\n",
       "1 LFM360K II-CS     F      0.2934285 0.2966897 0.0032611552   \n",
       "2 LFM360K II-CS     M      0.3009397 0.2986488 0.0022908789   \n",
       "3 LFM360K II-CS     Any    0.2978523 0.2976651 0.0001871792   \n",
       "  abs.relative.nDCG\n",
       "1 0.0111139683     \n",
       "2 0.0076124184     \n",
       "3 0.0006284297     "
      ]
     },
     "metadata": {},
     "output_type": "display_data"
    }
   ],
   "source": [
    "ii_cs.LFM360K = nDCG.results %>%\n",
    "    filter(DataSet=='LFM360K') %>%\n",
    "    filter(Algorithm=='II-CS')\n",
    "ii_cs.LFM360K"
   ]
  },
  {
   "cell_type": "markdown",
   "metadata": {},
   "source": [
    "## Gender Level Comparison\n",
    "\n",
    "### Absolute Relative Loss w.r.t nDCG between Gender Groups\n",
    "\n",
    "spread by gender in order to compute"
   ]
  },
  {
   "cell_type": "code",
   "execution_count": 41,
   "metadata": {},
   "outputs": [
    {
     "data": {
      "text/html": [
       "<table>\n",
       "<thead><tr><th scope=col>DataSet</th><th scope=col>Algorithm</th><th scope=col>F</th><th scope=col>M</th><th scope=col>Any</th></tr></thead>\n",
       "<tbody>\n",
       "\t<tr><td>LFM1K     </td><td>II-B      </td><td>0.18379674</td><td>0.13810004</td><td>0.15585153</td></tr>\n",
       "\t<tr><td>LFM1K     </td><td>II-C      </td><td>0.08752032</td><td>0.08121656</td><td>0.08428291</td></tr>\n",
       "\t<tr><td>LFM1K     </td><td>II-CS     </td><td>0.17642666</td><td>0.13441877</td><td>0.15070305</td></tr>\n",
       "\t<tr><td>LFM1K     </td><td>MF-B      </td><td>0.07203324</td><td>0.07080069</td><td>0.07136662</td></tr>\n",
       "\t<tr><td>LFM1K     </td><td>MF-C      </td><td>0.16429308</td><td>0.11872506</td><td>0.13803425</td></tr>\n",
       "\t<tr><td>⋮</td><td>⋮</td><td>⋮</td><td>⋮</td><td>⋮</td></tr>\n",
       "\t<tr><td>ML1M     </td><td>MF-B     </td><td>0.1678896</td><td>0.1706398</td><td>0.1698617</td></tr>\n",
       "\t<tr><td>ML1M     </td><td>MF-E     </td><td>0.1497594</td><td>0.1526360</td><td>0.1518220</td></tr>\n",
       "\t<tr><td>ML1M     </td><td>Pop-B    </td><td>0.2178989</td><td>0.2364052</td><td>0.2311689</td></tr>\n",
       "\t<tr><td>ML1M     </td><td>UU-B     </td><td>0.3372249</td><td>0.3519757</td><td>0.3478020</td></tr>\n",
       "\t<tr><td>ML1M     </td><td>UU-E     </td><td>0.1480377</td><td>0.1530937</td><td>0.1516631</td></tr>\n",
       "</tbody>\n",
       "</table>\n"
      ],
      "text/latex": [
       "\\begin{tabular}{r|lllll}\n",
       " DataSet & Algorithm & F & M & Any\\\\\n",
       "\\hline\n",
       "\t LFM1K      & II-B       & 0.18379674 & 0.13810004 & 0.15585153\\\\\n",
       "\t LFM1K      & II-C       & 0.08752032 & 0.08121656 & 0.08428291\\\\\n",
       "\t LFM1K      & II-CS      & 0.17642666 & 0.13441877 & 0.15070305\\\\\n",
       "\t LFM1K      & MF-B       & 0.07203324 & 0.07080069 & 0.07136662\\\\\n",
       "\t LFM1K      & MF-C       & 0.16429308 & 0.11872506 & 0.13803425\\\\\n",
       "\t ⋮ & ⋮ & ⋮ & ⋮ & ⋮\\\\\n",
       "\t ML1M      & MF-B      & 0.1678896 & 0.1706398 & 0.1698617\\\\\n",
       "\t ML1M      & MF-E      & 0.1497594 & 0.1526360 & 0.1518220\\\\\n",
       "\t ML1M      & Pop-B     & 0.2178989 & 0.2364052 & 0.2311689\\\\\n",
       "\t ML1M      & UU-B      & 0.3372249 & 0.3519757 & 0.3478020\\\\\n",
       "\t ML1M      & UU-E      & 0.1480377 & 0.1530937 & 0.1516631\\\\\n",
       "\\end{tabular}\n"
      ],
      "text/markdown": [
       "\n",
       "DataSet | Algorithm | F | M | Any | \n",
       "|---|---|---|---|---|---|---|---|---|---|---|\n",
       "| LFM1K      | II-B       | 0.18379674 | 0.13810004 | 0.15585153 | \n",
       "| LFM1K      | II-C       | 0.08752032 | 0.08121656 | 0.08428291 | \n",
       "| LFM1K      | II-CS      | 0.17642666 | 0.13441877 | 0.15070305 | \n",
       "| LFM1K      | MF-B       | 0.07203324 | 0.07080069 | 0.07136662 | \n",
       "| LFM1K      | MF-C       | 0.16429308 | 0.11872506 | 0.13803425 | \n",
       "| ⋮ | ⋮ | ⋮ | ⋮ | ⋮ | \n",
       "| ML1M      | MF-B      | 0.1678896 | 0.1706398 | 0.1698617 | \n",
       "| ML1M      | MF-E      | 0.1497594 | 0.1526360 | 0.1518220 | \n",
       "| ML1M      | Pop-B     | 0.2178989 | 0.2364052 | 0.2311689 | \n",
       "| ML1M      | UU-B      | 0.3372249 | 0.3519757 | 0.3478020 | \n",
       "| ML1M      | UU-E      | 0.1480377 | 0.1530937 | 0.1516631 | \n",
       "\n",
       "\n"
      ],
      "text/plain": [
       "   DataSet Algorithm F          M          Any       \n",
       "1  LFM1K   II-B      0.18379674 0.13810004 0.15585153\n",
       "2  LFM1K   II-C      0.08752032 0.08121656 0.08428291\n",
       "3  LFM1K   II-CS     0.17642666 0.13441877 0.15070305\n",
       "4  LFM1K   MF-B      0.07203324 0.07080069 0.07136662\n",
       "5  LFM1K   MF-C      0.16429308 0.11872506 0.13803425\n",
       "⋮  ⋮       ⋮         ⋮          ⋮          ⋮         \n",
       "18 ML1M    MF-B      0.1678896  0.1706398  0.1698617 \n",
       "19 ML1M    MF-E      0.1497594  0.1526360  0.1518220 \n",
       "20 ML1M    Pop-B     0.2178989  0.2364052  0.2311689 \n",
       "21 ML1M    UU-B      0.3372249  0.3519757  0.3478020 \n",
       "22 ML1M    UU-E      0.1480377  0.1530937  0.1516631 "
      ]
     },
     "metadata": {},
     "output_type": "display_data"
    }
   ],
   "source": [
    "combined.results.spread.gender = combined.results %>% \n",
    "    select(DataSet, Algorithm, nDCG, gender) %>%\n",
    "    spread(gender, nDCG) %>%\n",
    "    select(DataSet, Algorithm, F, M, Any)\n",
    "combined.results.spread.gender"
   ]
  },
  {
   "cell_type": "code",
   "execution_count": 43,
   "metadata": {},
   "outputs": [
    {
     "data": {
      "text/html": [
       "<table>\n",
       "<thead><tr><th scope=col>DataSet</th><th scope=col>Algorithm</th><th scope=col>F</th><th scope=col>M</th><th scope=col>Any</th></tr></thead>\n",
       "<tbody>\n",
       "\t<tr><td>LFM360K.GB</td><td>II-B      </td><td>0.29524594</td><td>0.29684951</td><td>0.29604433</td></tr>\n",
       "\t<tr><td>LFM360K.GB</td><td>II-C      </td><td>0.08977526</td><td>0.09027137</td><td>0.09002226</td></tr>\n",
       "\t<tr><td>LFM360K.GB</td><td>II-CS     </td><td>0.29668966</td><td>0.29864882</td><td>0.29766509</td></tr>\n",
       "\t<tr><td>LFM360K.GB</td><td>MF-B      </td><td>0.10322866</td><td>0.09902583</td><td>0.10113616</td></tr>\n",
       "\t<tr><td>LFM360K.GB</td><td>MF-C      </td><td>0.09768407</td><td>0.09609787</td><td>0.09689433</td></tr>\n",
       "\t<tr><td>⋮</td><td>⋮</td><td>⋮</td><td>⋮</td><td>⋮</td></tr>\n",
       "\t<tr><td>ML1M.GB  </td><td>MF-B     </td><td>0.1486048</td><td>0.1518031</td><td>0.1502040</td></tr>\n",
       "\t<tr><td>ML1M.GB  </td><td>MF-E     </td><td>0.1432665</td><td>0.1473357</td><td>0.1453011</td></tr>\n",
       "\t<tr><td>ML1M.GB  </td><td>Pop-B    </td><td>0.2201372</td><td>0.2323159</td><td>0.2262266</td></tr>\n",
       "\t<tr><td>ML1M.GB  </td><td>UU-B     </td><td>0.3337440</td><td>0.3441450</td><td>0.3389445</td></tr>\n",
       "\t<tr><td>ML1M.GB  </td><td>UU-E     </td><td>0.1440946</td><td>0.1477617</td><td>0.1459282</td></tr>\n",
       "</tbody>\n",
       "</table>\n"
      ],
      "text/latex": [
       "\\begin{tabular}{r|lllll}\n",
       " DataSet & Algorithm & F & M & Any\\\\\n",
       "\\hline\n",
       "\t LFM360K.GB & II-B       & 0.29524594 & 0.29684951 & 0.29604433\\\\\n",
       "\t LFM360K.GB & II-C       & 0.08977526 & 0.09027137 & 0.09002226\\\\\n",
       "\t LFM360K.GB & II-CS      & 0.29668966 & 0.29864882 & 0.29766509\\\\\n",
       "\t LFM360K.GB & MF-B       & 0.10322866 & 0.09902583 & 0.10113616\\\\\n",
       "\t LFM360K.GB & MF-C       & 0.09768407 & 0.09609787 & 0.09689433\\\\\n",
       "\t ⋮ & ⋮ & ⋮ & ⋮ & ⋮\\\\\n",
       "\t ML1M.GB   & MF-B      & 0.1486048 & 0.1518031 & 0.1502040\\\\\n",
       "\t ML1M.GB   & MF-E      & 0.1432665 & 0.1473357 & 0.1453011\\\\\n",
       "\t ML1M.GB   & Pop-B     & 0.2201372 & 0.2323159 & 0.2262266\\\\\n",
       "\t ML1M.GB   & UU-B      & 0.3337440 & 0.3441450 & 0.3389445\\\\\n",
       "\t ML1M.GB   & UU-E      & 0.1440946 & 0.1477617 & 0.1459282\\\\\n",
       "\\end{tabular}\n"
      ],
      "text/markdown": [
       "\n",
       "DataSet | Algorithm | F | M | Any | \n",
       "|---|---|---|---|---|---|---|---|---|---|---|\n",
       "| LFM360K.GB | II-B       | 0.29524594 | 0.29684951 | 0.29604433 | \n",
       "| LFM360K.GB | II-C       | 0.08977526 | 0.09027137 | 0.09002226 | \n",
       "| LFM360K.GB | II-CS      | 0.29668966 | 0.29864882 | 0.29766509 | \n",
       "| LFM360K.GB | MF-B       | 0.10322866 | 0.09902583 | 0.10113616 | \n",
       "| LFM360K.GB | MF-C       | 0.09768407 | 0.09609787 | 0.09689433 | \n",
       "| ⋮ | ⋮ | ⋮ | ⋮ | ⋮ | \n",
       "| ML1M.GB   | MF-B      | 0.1486048 | 0.1518031 | 0.1502040 | \n",
       "| ML1M.GB   | MF-E      | 0.1432665 | 0.1473357 | 0.1453011 | \n",
       "| ML1M.GB   | Pop-B     | 0.2201372 | 0.2323159 | 0.2262266 | \n",
       "| ML1M.GB   | UU-B      | 0.3337440 | 0.3441450 | 0.3389445 | \n",
       "| ML1M.GB   | UU-E      | 0.1440946 | 0.1477617 | 0.1459282 | \n",
       "\n",
       "\n"
      ],
      "text/plain": [
       "   DataSet    Algorithm F          M          Any       \n",
       "1  LFM360K.GB II-B      0.29524594 0.29684951 0.29604433\n",
       "2  LFM360K.GB II-C      0.08977526 0.09027137 0.09002226\n",
       "3  LFM360K.GB II-CS     0.29668966 0.29864882 0.29766509\n",
       "4  LFM360K.GB MF-B      0.10322866 0.09902583 0.10113616\n",
       "5  LFM360K.GB MF-C      0.09768407 0.09609787 0.09689433\n",
       "⋮  ⋮          ⋮         ⋮          ⋮          ⋮         \n",
       "11 ML1M.GB    MF-B      0.1486048  0.1518031  0.1502040 \n",
       "12 ML1M.GB    MF-E      0.1432665  0.1473357  0.1453011 \n",
       "13 ML1M.GB    Pop-B     0.2201372  0.2323159  0.2262266 \n",
       "14 ML1M.GB    UU-B      0.3337440  0.3441450  0.3389445 \n",
       "15 ML1M.GB    UU-E      0.1440946  0.1477617  0.1459282 "
      ]
     },
     "metadata": {},
     "output_type": "display_data"
    }
   ],
   "source": [
    "combined.results.balanced.spread.gender = bind_rows(gender.results.balanced,\n",
    "                             overall.results.balanced %>% mutate(gender = 'Any')) %>% \n",
    "    select(DataSet, Algorithm, nDCG, gender) %>%\n",
    "    spread(gender, nDCG) %>%\n",
    "    select(DataSet, Algorithm, F, M, Any)\n",
    "combined.results.balanced.spread.gender"
   ]
  },
  {
   "cell_type": "markdown",
   "metadata": {},
   "source": [
    "Combined two datasets"
   ]
  },
  {
   "cell_type": "code",
   "execution_count": 44,
   "metadata": {},
   "outputs": [
    {
     "data": {
      "text/html": [
       "<table>\n",
       "<thead><tr><th scope=col>DataSet</th><th scope=col>Algorithm</th><th scope=col>F</th><th scope=col>M</th><th scope=col>Any</th></tr></thead>\n",
       "<tbody>\n",
       "\t<tr><td>LFM1K     </td><td>II-B      </td><td>0.18379674</td><td>0.13810004</td><td>0.15585153</td></tr>\n",
       "\t<tr><td>LFM1K     </td><td>II-C      </td><td>0.08752032</td><td>0.08121656</td><td>0.08428291</td></tr>\n",
       "\t<tr><td>LFM1K     </td><td>II-CS     </td><td>0.17642666</td><td>0.13441877</td><td>0.15070305</td></tr>\n",
       "\t<tr><td>LFM1K     </td><td>MF-B      </td><td>0.07203324</td><td>0.07080069</td><td>0.07136662</td></tr>\n",
       "\t<tr><td>LFM1K     </td><td>MF-C      </td><td>0.16429308</td><td>0.11872506</td><td>0.13803425</td></tr>\n",
       "\t<tr><td>⋮</td><td>⋮</td><td>⋮</td><td>⋮</td><td>⋮</td></tr>\n",
       "\t<tr><td>ML1M.GB  </td><td>MF-B     </td><td>0.1486048</td><td>0.1518031</td><td>0.1502040</td></tr>\n",
       "\t<tr><td>ML1M.GB  </td><td>MF-E     </td><td>0.1432665</td><td>0.1473357</td><td>0.1453011</td></tr>\n",
       "\t<tr><td>ML1M.GB  </td><td>Pop-B    </td><td>0.2201372</td><td>0.2323159</td><td>0.2262266</td></tr>\n",
       "\t<tr><td>ML1M.GB  </td><td>UU-B     </td><td>0.3337440</td><td>0.3441450</td><td>0.3389445</td></tr>\n",
       "\t<tr><td>ML1M.GB  </td><td>UU-E     </td><td>0.1440946</td><td>0.1477617</td><td>0.1459282</td></tr>\n",
       "</tbody>\n",
       "</table>\n"
      ],
      "text/latex": [
       "\\begin{tabular}{r|lllll}\n",
       " DataSet & Algorithm & F & M & Any\\\\\n",
       "\\hline\n",
       "\t LFM1K      & II-B       & 0.18379674 & 0.13810004 & 0.15585153\\\\\n",
       "\t LFM1K      & II-C       & 0.08752032 & 0.08121656 & 0.08428291\\\\\n",
       "\t LFM1K      & II-CS      & 0.17642666 & 0.13441877 & 0.15070305\\\\\n",
       "\t LFM1K      & MF-B       & 0.07203324 & 0.07080069 & 0.07136662\\\\\n",
       "\t LFM1K      & MF-C       & 0.16429308 & 0.11872506 & 0.13803425\\\\\n",
       "\t ⋮ & ⋮ & ⋮ & ⋮ & ⋮\\\\\n",
       "\t ML1M.GB   & MF-B      & 0.1486048 & 0.1518031 & 0.1502040\\\\\n",
       "\t ML1M.GB   & MF-E      & 0.1432665 & 0.1473357 & 0.1453011\\\\\n",
       "\t ML1M.GB   & Pop-B     & 0.2201372 & 0.2323159 & 0.2262266\\\\\n",
       "\t ML1M.GB   & UU-B      & 0.3337440 & 0.3441450 & 0.3389445\\\\\n",
       "\t ML1M.GB   & UU-E      & 0.1440946 & 0.1477617 & 0.1459282\\\\\n",
       "\\end{tabular}\n"
      ],
      "text/markdown": [
       "\n",
       "DataSet | Algorithm | F | M | Any | \n",
       "|---|---|---|---|---|---|---|---|---|---|---|\n",
       "| LFM1K      | II-B       | 0.18379674 | 0.13810004 | 0.15585153 | \n",
       "| LFM1K      | II-C       | 0.08752032 | 0.08121656 | 0.08428291 | \n",
       "| LFM1K      | II-CS      | 0.17642666 | 0.13441877 | 0.15070305 | \n",
       "| LFM1K      | MF-B       | 0.07203324 | 0.07080069 | 0.07136662 | \n",
       "| LFM1K      | MF-C       | 0.16429308 | 0.11872506 | 0.13803425 | \n",
       "| ⋮ | ⋮ | ⋮ | ⋮ | ⋮ | \n",
       "| ML1M.GB   | MF-B      | 0.1486048 | 0.1518031 | 0.1502040 | \n",
       "| ML1M.GB   | MF-E      | 0.1432665 | 0.1473357 | 0.1453011 | \n",
       "| ML1M.GB   | Pop-B     | 0.2201372 | 0.2323159 | 0.2262266 | \n",
       "| ML1M.GB   | UU-B      | 0.3337440 | 0.3441450 | 0.3389445 | \n",
       "| ML1M.GB   | UU-E      | 0.1440946 | 0.1477617 | 0.1459282 | \n",
       "\n",
       "\n"
      ],
      "text/plain": [
       "   DataSet Algorithm F          M          Any       \n",
       "1  LFM1K   II-B      0.18379674 0.13810004 0.15585153\n",
       "2  LFM1K   II-C      0.08752032 0.08121656 0.08428291\n",
       "3  LFM1K   II-CS     0.17642666 0.13441877 0.15070305\n",
       "4  LFM1K   MF-B      0.07203324 0.07080069 0.07136662\n",
       "5  LFM1K   MF-C      0.16429308 0.11872506 0.13803425\n",
       "⋮  ⋮       ⋮         ⋮          ⋮          ⋮         \n",
       "33 ML1M.GB MF-B      0.1486048  0.1518031  0.1502040 \n",
       "34 ML1M.GB MF-E      0.1432665  0.1473357  0.1453011 \n",
       "35 ML1M.GB Pop-B     0.2201372  0.2323159  0.2262266 \n",
       "36 ML1M.GB UU-B      0.3337440  0.3441450  0.3389445 \n",
       "37 ML1M.GB UU-E      0.1440946  0.1477617  0.1459282 "
      ]
     },
     "metadata": {},
     "output_type": "display_data"
    }
   ],
   "source": [
    "results.spreadByGender = bind_rows(combined.results.spread.gender, combined.results.balanced.spread.gender)\n",
    "results.spreadByGender"
   ]
  },
  {
   "cell_type": "markdown",
   "metadata": {},
   "source": [
    "### Compute Absolute Relative Loss w.r.t nDCG between Gender Groups\n",
    "\n",
    "ARLM2F means Absolute Relative Loss Male to Female, etc.."
   ]
  },
  {
   "cell_type": "code",
   "execution_count": 46,
   "metadata": {},
   "outputs": [
    {
     "data": {
      "text/html": [
       "<table>\n",
       "<thead><tr><th scope=col>DataSet</th><th scope=col>Algorithm</th><th scope=col>F</th><th scope=col>M</th><th scope=col>Any</th><th scope=col>ARLM2F</th><th scope=col>ARLM2Any</th><th scope=col>ARLF2Any</th></tr></thead>\n",
       "<tbody>\n",
       "\t<tr><td>LFM1K      </td><td>II-B       </td><td>0.18379674 </td><td>0.13810004 </td><td>0.15585153 </td><td>0.33089566 </td><td>0.113900028</td><td>0.179306609</td></tr>\n",
       "\t<tr><td>LFM1K      </td><td>II-C       </td><td>0.08752032 </td><td>0.08121656 </td><td>0.08428291 </td><td>0.07761665 </td><td>0.036381630</td><td>0.038411195</td></tr>\n",
       "\t<tr><td>LFM1K      </td><td>II-CS      </td><td>0.17642666 </td><td>0.13441877 </td><td>0.15070305 </td><td>0.31251510 </td><td>0.108055453</td><td>0.170690687</td></tr>\n",
       "\t<tr><td>LFM1K      </td><td>MF-B       </td><td>0.07203324 </td><td>0.07080069 </td><td>0.07136662 </td><td>0.01740870 </td><td>0.007929904</td><td>0.009340747</td></tr>\n",
       "\t<tr><td>LFM1K      </td><td>MF-C       </td><td>0.16429308 </td><td>0.11872506 </td><td>0.13803425 </td><td>0.38381124 </td><td>0.139886902</td><td>0.190234177</td></tr>\n",
       "\t<tr><td>⋮</td><td>⋮</td><td>⋮</td><td>⋮</td><td>⋮</td><td>⋮</td><td>⋮</td><td>⋮</td></tr>\n",
       "\t<tr><td>ML1M.GB   </td><td>MF-B      </td><td>0.1486048 </td><td>0.1518031 </td><td>0.1502040 </td><td>0.02106906</td><td>0.01064669</td><td>0.01064669</td></tr>\n",
       "\t<tr><td>ML1M.GB   </td><td>MF-E      </td><td>0.1432665 </td><td>0.1473357 </td><td>0.1453011 </td><td>0.02761853</td><td>0.01400263</td><td>0.01400263</td></tr>\n",
       "\t<tr><td>ML1M.GB   </td><td>Pop-B     </td><td>0.2201372 </td><td>0.2323159 </td><td>0.2262266 </td><td>0.05242293</td><td>0.02691700</td><td>0.02691700</td></tr>\n",
       "\t<tr><td>ML1M.GB   </td><td>UU-B      </td><td>0.3337440 </td><td>0.3441450 </td><td>0.3389445 </td><td>0.03022259</td><td>0.01534315</td><td>0.01534315</td></tr>\n",
       "\t<tr><td>ML1M.GB   </td><td>UU-E      </td><td>0.1440946 </td><td>0.1477617 </td><td>0.1459282 </td><td>0.02481755</td><td>0.01256469</td><td>0.01256469</td></tr>\n",
       "</tbody>\n",
       "</table>\n"
      ],
      "text/latex": [
       "\\begin{tabular}{r|llllllll}\n",
       " DataSet & Algorithm & F & M & Any & ARLM2F & ARLM2Any & ARLF2Any\\\\\n",
       "\\hline\n",
       "\t LFM1K       & II-B        & 0.18379674  & 0.13810004  & 0.15585153  & 0.33089566  & 0.113900028 & 0.179306609\\\\\n",
       "\t LFM1K       & II-C        & 0.08752032  & 0.08121656  & 0.08428291  & 0.07761665  & 0.036381630 & 0.038411195\\\\\n",
       "\t LFM1K       & II-CS       & 0.17642666  & 0.13441877  & 0.15070305  & 0.31251510  & 0.108055453 & 0.170690687\\\\\n",
       "\t LFM1K       & MF-B        & 0.07203324  & 0.07080069  & 0.07136662  & 0.01740870  & 0.007929904 & 0.009340747\\\\\n",
       "\t LFM1K       & MF-C        & 0.16429308  & 0.11872506  & 0.13803425  & 0.38381124  & 0.139886902 & 0.190234177\\\\\n",
       "\t ⋮ & ⋮ & ⋮ & ⋮ & ⋮ & ⋮ & ⋮ & ⋮\\\\\n",
       "\t ML1M.GB    & MF-B       & 0.1486048  & 0.1518031  & 0.1502040  & 0.02106906 & 0.01064669 & 0.01064669\\\\\n",
       "\t ML1M.GB    & MF-E       & 0.1432665  & 0.1473357  & 0.1453011  & 0.02761853 & 0.01400263 & 0.01400263\\\\\n",
       "\t ML1M.GB    & Pop-B      & 0.2201372  & 0.2323159  & 0.2262266  & 0.05242293 & 0.02691700 & 0.02691700\\\\\n",
       "\t ML1M.GB    & UU-B       & 0.3337440  & 0.3441450  & 0.3389445  & 0.03022259 & 0.01534315 & 0.01534315\\\\\n",
       "\t ML1M.GB    & UU-E       & 0.1440946  & 0.1477617  & 0.1459282  & 0.02481755 & 0.01256469 & 0.01256469\\\\\n",
       "\\end{tabular}\n"
      ],
      "text/markdown": [
       "\n",
       "DataSet | Algorithm | F | M | Any | ARLM2F | ARLM2Any | ARLF2Any | \n",
       "|---|---|---|---|---|---|---|---|---|---|---|\n",
       "| LFM1K       | II-B        | 0.18379674  | 0.13810004  | 0.15585153  | 0.33089566  | 0.113900028 | 0.179306609 | \n",
       "| LFM1K       | II-C        | 0.08752032  | 0.08121656  | 0.08428291  | 0.07761665  | 0.036381630 | 0.038411195 | \n",
       "| LFM1K       | II-CS       | 0.17642666  | 0.13441877  | 0.15070305  | 0.31251510  | 0.108055453 | 0.170690687 | \n",
       "| LFM1K       | MF-B        | 0.07203324  | 0.07080069  | 0.07136662  | 0.01740870  | 0.007929904 | 0.009340747 | \n",
       "| LFM1K       | MF-C        | 0.16429308  | 0.11872506  | 0.13803425  | 0.38381124  | 0.139886902 | 0.190234177 | \n",
       "| ⋮ | ⋮ | ⋮ | ⋮ | ⋮ | ⋮ | ⋮ | ⋮ | \n",
       "| ML1M.GB    | MF-B       | 0.1486048  | 0.1518031  | 0.1502040  | 0.02106906 | 0.01064669 | 0.01064669 | \n",
       "| ML1M.GB    | MF-E       | 0.1432665  | 0.1473357  | 0.1453011  | 0.02761853 | 0.01400263 | 0.01400263 | \n",
       "| ML1M.GB    | Pop-B      | 0.2201372  | 0.2323159  | 0.2262266  | 0.05242293 | 0.02691700 | 0.02691700 | \n",
       "| ML1M.GB    | UU-B       | 0.3337440  | 0.3441450  | 0.3389445  | 0.03022259 | 0.01534315 | 0.01534315 | \n",
       "| ML1M.GB    | UU-E       | 0.1440946  | 0.1477617  | 0.1459282  | 0.02481755 | 0.01256469 | 0.01256469 | \n",
       "\n",
       "\n"
      ],
      "text/plain": [
       "   DataSet Algorithm F          M          Any        ARLM2F     ARLM2Any   \n",
       "1  LFM1K   II-B      0.18379674 0.13810004 0.15585153 0.33089566 0.113900028\n",
       "2  LFM1K   II-C      0.08752032 0.08121656 0.08428291 0.07761665 0.036381630\n",
       "3  LFM1K   II-CS     0.17642666 0.13441877 0.15070305 0.31251510 0.108055453\n",
       "4  LFM1K   MF-B      0.07203324 0.07080069 0.07136662 0.01740870 0.007929904\n",
       "5  LFM1K   MF-C      0.16429308 0.11872506 0.13803425 0.38381124 0.139886902\n",
       "⋮  ⋮       ⋮         ⋮          ⋮          ⋮          ⋮          ⋮          \n",
       "33 ML1M.GB MF-B      0.1486048  0.1518031  0.1502040  0.02106906 0.01064669 \n",
       "34 ML1M.GB MF-E      0.1432665  0.1473357  0.1453011  0.02761853 0.01400263 \n",
       "35 ML1M.GB Pop-B     0.2201372  0.2323159  0.2262266  0.05242293 0.02691700 \n",
       "36 ML1M.GB UU-B      0.3337440  0.3441450  0.3389445  0.03022259 0.01534315 \n",
       "37 ML1M.GB UU-E      0.1440946  0.1477617  0.1459282  0.02481755 0.01256469 \n",
       "   ARLF2Any   \n",
       "1  0.179306609\n",
       "2  0.038411195\n",
       "3  0.170690687\n",
       "4  0.009340747\n",
       "5  0.190234177\n",
       "⋮  ⋮          \n",
       "33 0.01064669 \n",
       "34 0.01400263 \n",
       "35 0.02691700 \n",
       "36 0.01534315 \n",
       "37 0.01256469 "
      ]
     },
     "metadata": {},
     "output_type": "display_data"
    }
   ],
   "source": [
    "results.relative.loss = results.spreadByGender %>%\n",
    "    mutate(ARLM2F = abs(M - F)/M, ARLM2Any = abs(M - Any)/Any, ARLF2Any = abs(F - Any)/Any)\n",
    "results.relative.loss"
   ]
  },
  {
   "cell_type": "markdown",
   "metadata": {},
   "source": [
    "filter the records we want"
   ]
  },
  {
   "cell_type": "code",
   "execution_count": 48,
   "metadata": {},
   "outputs": [
    {
     "data": {
      "text/html": [
       "<table>\n",
       "<thead><tr><th scope=col>DataSet</th><th scope=col>Algorithm</th><th scope=col>F</th><th scope=col>M</th><th scope=col>Any</th><th scope=col>ARLM2F</th><th scope=col>ARLM2Any</th><th scope=col>ARLF2Any</th></tr></thead>\n",
       "<tbody>\n",
       "\t<tr><td>ML1M      </td><td>UU-B      </td><td>0.3372249 </td><td>0.3519757 </td><td>0.3478020 </td><td>0.04190848</td><td>0.01200018</td><td>0.03041122</td></tr>\n",
       "\t<tr><td>ML1M.GB   </td><td>UU-B      </td><td>0.3337440 </td><td>0.3441450 </td><td>0.3389445 </td><td>0.03022259</td><td>0.01534315</td><td>0.01534315</td></tr>\n",
       "</tbody>\n",
       "</table>\n"
      ],
      "text/latex": [
       "\\begin{tabular}{r|llllllll}\n",
       " DataSet & Algorithm & F & M & Any & ARLM2F & ARLM2Any & ARLF2Any\\\\\n",
       "\\hline\n",
       "\t ML1M       & UU-B       & 0.3372249  & 0.3519757  & 0.3478020  & 0.04190848 & 0.01200018 & 0.03041122\\\\\n",
       "\t ML1M.GB    & UU-B       & 0.3337440  & 0.3441450  & 0.3389445  & 0.03022259 & 0.01534315 & 0.01534315\\\\\n",
       "\\end{tabular}\n"
      ],
      "text/markdown": [
       "\n",
       "DataSet | Algorithm | F | M | Any | ARLM2F | ARLM2Any | ARLF2Any | \n",
       "|---|---|\n",
       "| ML1M       | UU-B       | 0.3372249  | 0.3519757  | 0.3478020  | 0.04190848 | 0.01200018 | 0.03041122 | \n",
       "| ML1M.GB    | UU-B       | 0.3337440  | 0.3441450  | 0.3389445  | 0.03022259 | 0.01534315 | 0.01534315 | \n",
       "\n",
       "\n"
      ],
      "text/plain": [
       "  DataSet Algorithm F         M         Any       ARLM2F     ARLM2Any  \n",
       "1 ML1M    UU-B      0.3372249 0.3519757 0.3478020 0.04190848 0.01200018\n",
       "2 ML1M.GB UU-B      0.3337440 0.3441450 0.3389445 0.03022259 0.01534315\n",
       "  ARLF2Any  \n",
       "1 0.03041122\n",
       "2 0.01534315"
      ]
     },
     "metadata": {},
     "output_type": "display_data"
    }
   ],
   "source": [
    "results.relative.loss %>%\n",
    "    filter(startsWith(DataSet, 'ML1M')) %>%\n",
    "    filter(Algorithm=='UU-B')"
   ]
  },
  {
   "cell_type": "code",
   "execution_count": 47,
   "metadata": {},
   "outputs": [
    {
     "data": {
      "text/html": [
       "<table>\n",
       "<thead><tr><th scope=col>DataSet</th><th scope=col>Algorithm</th><th scope=col>F</th><th scope=col>M</th><th scope=col>Any</th><th scope=col>ARLM2F</th><th scope=col>ARLM2Any</th><th scope=col>ARLF2Any</th></tr></thead>\n",
       "<tbody>\n",
       "\t<tr><td>LFM360K    </td><td>II-CS      </td><td>0.2934285  </td><td>0.3009397  </td><td>0.2978523  </td><td>0.024959105</td><td>0.010365638</td><td>0.014852184</td></tr>\n",
       "\t<tr><td>LFM360K.GB </td><td>II-CS      </td><td>0.2966897  </td><td>0.2986488  </td><td>0.2976651  </td><td>0.006560051</td><td>0.003304819</td><td>0.003276912</td></tr>\n",
       "</tbody>\n",
       "</table>\n"
      ],
      "text/latex": [
       "\\begin{tabular}{r|llllllll}\n",
       " DataSet & Algorithm & F & M & Any & ARLM2F & ARLM2Any & ARLF2Any\\\\\n",
       "\\hline\n",
       "\t LFM360K     & II-CS       & 0.2934285   & 0.3009397   & 0.2978523   & 0.024959105 & 0.010365638 & 0.014852184\\\\\n",
       "\t LFM360K.GB  & II-CS       & 0.2966897   & 0.2986488   & 0.2976651   & 0.006560051 & 0.003304819 & 0.003276912\\\\\n",
       "\\end{tabular}\n"
      ],
      "text/markdown": [
       "\n",
       "DataSet | Algorithm | F | M | Any | ARLM2F | ARLM2Any | ARLF2Any | \n",
       "|---|---|\n",
       "| LFM360K     | II-CS       | 0.2934285   | 0.3009397   | 0.2978523   | 0.024959105 | 0.010365638 | 0.014852184 | \n",
       "| LFM360K.GB  | II-CS       | 0.2966897   | 0.2986488   | 0.2976651   | 0.006560051 | 0.003304819 | 0.003276912 | \n",
       "\n",
       "\n"
      ],
      "text/plain": [
       "  DataSet    Algorithm F         M         Any       ARLM2F      ARLM2Any   \n",
       "1 LFM360K    II-CS     0.2934285 0.3009397 0.2978523 0.024959105 0.010365638\n",
       "2 LFM360K.GB II-CS     0.2966897 0.2986488 0.2976651 0.006560051 0.003304819\n",
       "  ARLF2Any   \n",
       "1 0.014852184\n",
       "2 0.003276912"
      ]
     },
     "metadata": {},
     "output_type": "display_data"
    }
   ],
   "source": [
    "results.relative.loss %>%\n",
    "    filter(startsWith(DataSet, 'LFM360K')) %>%\n",
    "    filter(Algorithm=='II-CS')"
   ]
  },
  {
   "cell_type": "code",
   "execution_count": 49,
   "metadata": {},
   "outputs": [
    {
     "data": {
      "text/html": [
       "<table>\n",
       "<thead><tr><th scope=col>DataSet</th><th scope=col>Algorithm</th><th scope=col>F</th><th scope=col>M</th><th scope=col>Any</th><th scope=col>ARLM2F</th><th scope=col>ARLM2Any</th><th scope=col>ARLF2Any</th></tr></thead>\n",
       "<tbody>\n",
       "\t<tr><td>LFM360K    </td><td>II-B       </td><td>0.2966831  </td><td>0.3027325  </td><td>0.3001435  </td><td>0.019982409</td><td>0.008625626</td><td>0.011529143</td></tr>\n",
       "\t<tr><td>LFM360K.GB </td><td>II-B       </td><td>0.2952459  </td><td>0.2968495  </td><td>0.2960443  </td><td>0.005401971</td><td>0.002719815</td><td>0.002696848</td></tr>\n",
       "</tbody>\n",
       "</table>\n"
      ],
      "text/latex": [
       "\\begin{tabular}{r|llllllll}\n",
       " DataSet & Algorithm & F & M & Any & ARLM2F & ARLM2Any & ARLF2Any\\\\\n",
       "\\hline\n",
       "\t LFM360K     & II-B        & 0.2966831   & 0.3027325   & 0.3001435   & 0.019982409 & 0.008625626 & 0.011529143\\\\\n",
       "\t LFM360K.GB  & II-B        & 0.2952459   & 0.2968495   & 0.2960443   & 0.005401971 & 0.002719815 & 0.002696848\\\\\n",
       "\\end{tabular}\n"
      ],
      "text/markdown": [
       "\n",
       "DataSet | Algorithm | F | M | Any | ARLM2F | ARLM2Any | ARLF2Any | \n",
       "|---|---|\n",
       "| LFM360K     | II-B        | 0.2966831   | 0.3027325   | 0.3001435   | 0.019982409 | 0.008625626 | 0.011529143 | \n",
       "| LFM360K.GB  | II-B        | 0.2952459   | 0.2968495   | 0.2960443   | 0.005401971 | 0.002719815 | 0.002696848 | \n",
       "\n",
       "\n"
      ],
      "text/plain": [
       "  DataSet    Algorithm F         M         Any       ARLM2F      ARLM2Any   \n",
       "1 LFM360K    II-B      0.2966831 0.3027325 0.3001435 0.019982409 0.008625626\n",
       "2 LFM360K.GB II-B      0.2952459 0.2968495 0.2960443 0.005401971 0.002719815\n",
       "  ARLF2Any   \n",
       "1 0.011529143\n",
       "2 0.002696848"
      ]
     },
     "metadata": {},
     "output_type": "display_data"
    }
   ],
   "source": [
    "results.relative.loss %>%\n",
    "    filter(startsWith(DataSet, 'LFM360K')) %>%\n",
    "    filter(Algorithm=='II-B')"
   ]
  },
  {
   "cell_type": "code",
   "execution_count": null,
   "metadata": {
    "collapsed": true
   },
   "outputs": [],
   "source": []
  }
 ],
 "metadata": {
  "kernelspec": {
   "display_name": "R",
   "language": "R",
   "name": "ir"
  },
  "language_info": {
   "codemirror_mode": "r",
   "file_extension": ".r",
   "mimetype": "text/x-r-source",
   "name": "R",
   "pygments_lexer": "r",
   "version": "3.3.2"
  }
 },
 "nbformat": 4,
 "nbformat_minor": 2
}
