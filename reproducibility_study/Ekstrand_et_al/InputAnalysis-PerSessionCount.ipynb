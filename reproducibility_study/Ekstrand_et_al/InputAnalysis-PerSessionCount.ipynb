{
 "cells": [
  {
   "cell_type": "markdown",
   "metadata": {},
   "source": [
    "# Input Analysis\n",
    "\n",
    "This notebook contains our analysis of the input data sets to understand the basic demographic distribution before we run experiments."
   ]
  },
  {
   "cell_type": "markdown",
   "metadata": {},
   "source": [
    "## Setup\n",
    "\n",
    "First, we want to load some libraries."
   ]
  },
  {
   "cell_type": "code",
   "execution_count": 1,
   "metadata": {},
   "outputs": [
    {
     "name": "stderr",
     "output_type": "stream",
     "text": [
      "\n",
      "Attaching package: ‘dplyr’\n",
      "\n",
      "The following objects are masked from ‘package:stats’:\n",
      "\n",
      "    filter, lag\n",
      "\n",
      "The following objects are masked from ‘package:base’:\n",
      "\n",
      "    intersect, setdiff, setequal, union\n",
      "\n"
     ]
    }
   ],
   "source": [
    "library(dplyr)\n",
    "library(readr)\n",
    "library(ggplot2)"
   ]
  },
  {
   "cell_type": "code",
   "execution_count": 2,
   "metadata": {
    "collapsed": true
   },
   "outputs": [],
   "source": [
    "options(repr.plot.height=5)\n",
    "options(repr.matrix.max.rows=10)\n",
    "options(repr.matrix.max.columns=10)"
   ]
  },
  {
   "cell_type": "code",
   "execution_count": 3,
   "metadata": {
    "collapsed": true
   },
   "outputs": [],
   "source": [
    "source(\"plot-tools.R\")"
   ]
  },
  {
   "cell_type": "code",
   "execution_count": 4,
   "metadata": {
    "collapsed": true
   },
   "outputs": [],
   "source": [
    "ml_age_bins = c(\"1\"=\"1-17\", \"18\"=\"18-24\", \"25\"=\"25-34\", \"35\"=\"35-44\", \"45\"=\"45-49\", \"50\"=\"50-55\", \"56\"=\"56+\")\n",
    "ml_age_lbs = c(1, 18, 25, 35, 45, 50, 56)\n",
    "\n",
    "bound_ages = function(ages, bounds=ml_age_lbs) {\n",
    "    ages[ages <= 0] = NA\n",
    "    selectors = rowSums(outer(ages, ml_age_lbs, \">=\"))\n",
    "    factor(ml_age_bins[selectors], levels=ml_age_bins, ordered=TRUE)\n",
    "}\n",
    "\n",
    "rename_ages = function(ages) {\n",
    "    factor(ml_age_bins[ages], levels=ml_age_bins, ordered=TRUE)\n",
    "}"
   ]
  },
  {
   "cell_type": "markdown",
   "metadata": {},
   "source": [
    "## Load MovieLens data\n",
    "\n",
    "We want to read the ML-1M ratings file:"
   ]
  },
  {
   "cell_type": "code",
   "execution_count": 5,
   "metadata": {},
   "outputs": [
    {
     "data": {
      "text/html": [
       "<table>\n",
       "<thead><tr><th scope=col>user</th><th scope=col>item</th><th scope=col>rating</th><th scope=col>timestamp</th></tr></thead>\n",
       "<tbody>\n",
       "\t<tr><td>1        </td><td>1193     </td><td>5        </td><td>978300760</td></tr>\n",
       "\t<tr><td>1        </td><td> 661     </td><td>3        </td><td>978302109</td></tr>\n",
       "\t<tr><td>1        </td><td> 914     </td><td>3        </td><td>978301968</td></tr>\n",
       "\t<tr><td>1        </td><td>3408     </td><td>4        </td><td>978300275</td></tr>\n",
       "\t<tr><td>1        </td><td>2355     </td><td>5        </td><td>978824291</td></tr>\n",
       "\t<tr><td>⋮</td><td>⋮</td><td>⋮</td><td>⋮</td></tr>\n",
       "\t<tr><td>6040     </td><td>1091     </td><td>1        </td><td>956716541</td></tr>\n",
       "\t<tr><td>6040     </td><td>1094     </td><td>5        </td><td>956704887</td></tr>\n",
       "\t<tr><td>6040     </td><td> 562     </td><td>5        </td><td>956704746</td></tr>\n",
       "\t<tr><td>6040     </td><td>1096     </td><td>4        </td><td>956715648</td></tr>\n",
       "\t<tr><td>6040     </td><td>1097     </td><td>4        </td><td>956715569</td></tr>\n",
       "</tbody>\n",
       "</table>\n"
      ],
      "text/latex": [
       "\\begin{tabular}{r|llll}\n",
       " user & item & rating & timestamp\\\\\n",
       "\\hline\n",
       "\t 1         & 1193      & 5         & 978300760\\\\\n",
       "\t 1         &  661      & 3         & 978302109\\\\\n",
       "\t 1         &  914      & 3         & 978301968\\\\\n",
       "\t 1         & 3408      & 4         & 978300275\\\\\n",
       "\t 1         & 2355      & 5         & 978824291\\\\\n",
       "\t ⋮ & ⋮ & ⋮ & ⋮\\\\\n",
       "\t 6040      & 1091      & 1         & 956716541\\\\\n",
       "\t 6040      & 1094      & 5         & 956704887\\\\\n",
       "\t 6040      &  562      & 5         & 956704746\\\\\n",
       "\t 6040      & 1096      & 4         & 956715648\\\\\n",
       "\t 6040      & 1097      & 4         & 956715569\\\\\n",
       "\\end{tabular}\n"
      ],
      "text/markdown": [
       "\n",
       "user | item | rating | timestamp | \n",
       "|---|---|---|---|---|---|---|---|---|---|---|\n",
       "| 1         | 1193      | 5         | 978300760 | \n",
       "| 1         |  661      | 3         | 978302109 | \n",
       "| 1         |  914      | 3         | 978301968 | \n",
       "| 1         | 3408      | 4         | 978300275 | \n",
       "| 1         | 2355      | 5         | 978824291 | \n",
       "| ⋮ | ⋮ | ⋮ | ⋮ | \n",
       "| 6040      | 1091      | 1         | 956716541 | \n",
       "| 6040      | 1094      | 5         | 956704887 | \n",
       "| 6040      |  562      | 5         | 956704746 | \n",
       "| 6040      | 1096      | 4         | 956715648 | \n",
       "| 6040      | 1097      | 4         | 956715569 | \n",
       "\n",
       "\n"
      ],
      "text/plain": [
       "        user item rating timestamp\n",
       "1       1    1193 5      978300760\n",
       "2       1     661 3      978302109\n",
       "3       1     914 3      978301968\n",
       "4       1    3408 4      978300275\n",
       "5       1    2355 5      978824291\n",
       "⋮       ⋮    ⋮    ⋮      ⋮        \n",
       "1000205 6040 1091 1      956716541\n",
       "1000206 6040 1094 5      956704887\n",
       "1000207 6040  562 5      956704746\n",
       "1000208 6040 1096 4      956715648\n",
       "1000209 6040 1097 4      956715569"
      ]
     },
     "metadata": {},
     "output_type": "display_data"
    }
   ],
   "source": [
    "ml_ratings = read_delim(\"data/ml-1m/ratings.dat\", delim=\":\",\n",
    "                        col_names=c(\"user\", \"item\", \"rating\", \"timestamp\"),\n",
    "                        col_types=\"i_i_i_i\")\n",
    "ml_ratings"
   ]
  },
  {
   "cell_type": "markdown",
   "metadata": {},
   "source": [
    "# Create Session ids"
   ]
  },
  {
   "cell_type": "code",
   "execution_count": 6,
   "metadata": {
    "collapsed": true
   },
   "outputs": [],
   "source": [
    "sessionize = function(ts) {\n",
    "    delta.t = diff(ts)\n",
    "    is.new = c(TRUE, delta.t >= 3600)\n",
    "    cumsum(is.new)\n",
    "}\n",
    "sessions = ml_ratings %>%\n",
    "    group_by(user) %>%\n",
    "    arrange(timestamp) %>%\n",
    "    mutate(sessionId = sessionize(timestamp))\n",
    "\n",
    "ml_ratings =sessions"
   ]
  },
  {
   "cell_type": "markdown",
   "metadata": {},
   "source": [
    "And load in the per-user data:"
   ]
  },
  {
   "cell_type": "code",
   "execution_count": 7,
   "metadata": {},
   "outputs": [
    {
     "data": {
      "text/html": [
       "<table>\n",
       "<thead><tr><th scope=col>user</th><th scope=col>gender</th><th scope=col>rawAge</th><th scope=col>occupation</th><th scope=col>zip</th><th scope=col>age</th></tr></thead>\n",
       "<tbody>\n",
       "\t<tr><td>1    </td><td>F    </td><td>1    </td><td>10   </td><td>48067</td><td>1-17 </td></tr>\n",
       "\t<tr><td>2    </td><td>M    </td><td>56   </td><td>16   </td><td>70072</td><td>56+  </td></tr>\n",
       "\t<tr><td>3    </td><td>M    </td><td>25   </td><td>15   </td><td>55117</td><td>25-34</td></tr>\n",
       "\t<tr><td>4    </td><td>M    </td><td>45   </td><td>7    </td><td>02460</td><td>45-49</td></tr>\n",
       "\t<tr><td>5    </td><td>M    </td><td>25   </td><td>20   </td><td>55455</td><td>25-34</td></tr>\n",
       "\t<tr><td>⋮</td><td>⋮</td><td>⋮</td><td>⋮</td><td>⋮</td><td>⋮</td></tr>\n",
       "\t<tr><td>6036 </td><td>F    </td><td>25   </td><td>15   </td><td>32603</td><td>25-34</td></tr>\n",
       "\t<tr><td>6037 </td><td>F    </td><td>45   </td><td>1    </td><td>76006</td><td>45-49</td></tr>\n",
       "\t<tr><td>6038 </td><td>F    </td><td>56   </td><td>1    </td><td>14706</td><td>56+  </td></tr>\n",
       "\t<tr><td>6039 </td><td>F    </td><td>45   </td><td>0    </td><td>01060</td><td>45-49</td></tr>\n",
       "\t<tr><td>6040 </td><td>M    </td><td>25   </td><td>6    </td><td>11106</td><td>25-34</td></tr>\n",
       "</tbody>\n",
       "</table>\n"
      ],
      "text/latex": [
       "\\begin{tabular}{r|llllll}\n",
       " user & gender & rawAge & occupation & zip & age\\\\\n",
       "\\hline\n",
       "\t 1     & F     & 1     & 10    & 48067 & 1-17 \\\\\n",
       "\t 2     & M     & 56    & 16    & 70072 & 56+  \\\\\n",
       "\t 3     & M     & 25    & 15    & 55117 & 25-34\\\\\n",
       "\t 4     & M     & 45    & 7     & 02460 & 45-49\\\\\n",
       "\t 5     & M     & 25    & 20    & 55455 & 25-34\\\\\n",
       "\t ⋮ & ⋮ & ⋮ & ⋮ & ⋮ & ⋮\\\\\n",
       "\t 6036  & F     & 25    & 15    & 32603 & 25-34\\\\\n",
       "\t 6037  & F     & 45    & 1     & 76006 & 45-49\\\\\n",
       "\t 6038  & F     & 56    & 1     & 14706 & 56+  \\\\\n",
       "\t 6039  & F     & 45    & 0     & 01060 & 45-49\\\\\n",
       "\t 6040  & M     & 25    & 6     & 11106 & 25-34\\\\\n",
       "\\end{tabular}\n"
      ],
      "text/markdown": [
       "\n",
       "user | gender | rawAge | occupation | zip | age | \n",
       "|---|---|---|---|---|---|---|---|---|---|---|\n",
       "| 1     | F     | 1     | 10    | 48067 | 1-17  | \n",
       "| 2     | M     | 56    | 16    | 70072 | 56+   | \n",
       "| 3     | M     | 25    | 15    | 55117 | 25-34 | \n",
       "| 4     | M     | 45    | 7     | 02460 | 45-49 | \n",
       "| 5     | M     | 25    | 20    | 55455 | 25-34 | \n",
       "| ⋮ | ⋮ | ⋮ | ⋮ | ⋮ | ⋮ | \n",
       "| 6036  | F     | 25    | 15    | 32603 | 25-34 | \n",
       "| 6037  | F     | 45    | 1     | 76006 | 45-49 | \n",
       "| 6038  | F     | 56    | 1     | 14706 | 56+   | \n",
       "| 6039  | F     | 45    | 0     | 01060 | 45-49 | \n",
       "| 6040  | M     | 25    | 6     | 11106 | 25-34 | \n",
       "\n",
       "\n"
      ],
      "text/plain": [
       "     user gender rawAge occupation zip   age  \n",
       "1    1    F      1      10         48067 1-17 \n",
       "2    2    M      56     16         70072 56+  \n",
       "3    3    M      25     15         55117 25-34\n",
       "4    4    M      45     7          02460 45-49\n",
       "5    5    M      25     20         55455 25-34\n",
       "⋮    ⋮    ⋮      ⋮      ⋮          ⋮     ⋮    \n",
       "6036 6036 F      25     15         32603 25-34\n",
       "6037 6037 F      45     1          76006 45-49\n",
       "6038 6038 F      56     1          14706 56+  \n",
       "6039 6039 F      45     0          01060 45-49\n",
       "6040 6040 M      25     6          11106 25-34"
      ]
     },
     "metadata": {},
     "output_type": "display_data"
    }
   ],
   "source": [
    "ml_users = read_delim(\"data/ml-1m/users.dat\", delim=\":\",\n",
    "                      col_names=c(\"user\", \"gender\", \"age\", \"occupation\", \"zip\"),\n",
    "                      col_types=\"i_c_c_c_c\") %>%\n",
    "    rename(rawAge=age) %>%\n",
    "    mutate(gender=as.factor(gender),\n",
    "           age=rename_ages(rawAge),\n",
    "           occupation=as.factor(occupation))\n",
    "ml_users"
   ]
  },
  {
   "cell_type": "code",
   "execution_count": 8,
   "metadata": {},
   "outputs": [
    {
     "data": {
      "text/html": [
       "<table>\n",
       "<thead><tr><th scope=col>item</th><th scope=col>RatingCount</th><th scope=col>MeanRating</th><th scope=col>MinRating</th><th scope=col>MaxRating</th><th scope=col>PopRank</th></tr></thead>\n",
       "<tbody>\n",
       "\t<tr><td>1       </td><td>2077    </td><td>4.146846</td><td>1       </td><td>5       </td><td>  30.0  </td></tr>\n",
       "\t<tr><td>2       </td><td> 701    </td><td>3.201141</td><td>1       </td><td>5       </td><td> 394.5  </td></tr>\n",
       "\t<tr><td>3       </td><td> 478    </td><td>3.016736</td><td>1       </td><td>5       </td><td> 650.0  </td></tr>\n",
       "\t<tr><td>4       </td><td> 170    </td><td>2.729412</td><td>1       </td><td>5       </td><td>1574.0  </td></tr>\n",
       "\t<tr><td>5       </td><td> 296    </td><td>3.006757</td><td>1       </td><td>5       </td><td>1067.0  </td></tr>\n",
       "\t<tr><td>⋮</td><td>⋮</td><td>⋮</td><td>⋮</td><td>⋮</td><td>⋮</td></tr>\n",
       "\t<tr><td>3948    </td><td>862     </td><td>3.635731</td><td>1       </td><td>5       </td><td> 278.0  </td></tr>\n",
       "\t<tr><td>3949    </td><td>304     </td><td>4.115132</td><td>1       </td><td>5       </td><td>1037.5  </td></tr>\n",
       "\t<tr><td>3950    </td><td> 54     </td><td>3.666667</td><td>1       </td><td>5       </td><td>2449.5  </td></tr>\n",
       "\t<tr><td>3951    </td><td> 40     </td><td>3.900000</td><td>1       </td><td>5       </td><td>2663.5  </td></tr>\n",
       "\t<tr><td>3952    </td><td>388     </td><td>3.780928</td><td>1       </td><td>5       </td><td> 820.0  </td></tr>\n",
       "</tbody>\n",
       "</table>\n"
      ],
      "text/latex": [
       "\\begin{tabular}{r|llllll}\n",
       " item & RatingCount & MeanRating & MinRating & MaxRating & PopRank\\\\\n",
       "\\hline\n",
       "\t 1        & 2077     & 4.146846 & 1        & 5        &   30.0  \\\\\n",
       "\t 2        &  701     & 3.201141 & 1        & 5        &  394.5  \\\\\n",
       "\t 3        &  478     & 3.016736 & 1        & 5        &  650.0  \\\\\n",
       "\t 4        &  170     & 2.729412 & 1        & 5        & 1574.0  \\\\\n",
       "\t 5        &  296     & 3.006757 & 1        & 5        & 1067.0  \\\\\n",
       "\t ⋮ & ⋮ & ⋮ & ⋮ & ⋮ & ⋮\\\\\n",
       "\t 3948     & 862      & 3.635731 & 1        & 5        &  278.0  \\\\\n",
       "\t 3949     & 304      & 4.115132 & 1        & 5        & 1037.5  \\\\\n",
       "\t 3950     &  54      & 3.666667 & 1        & 5        & 2449.5  \\\\\n",
       "\t 3951     &  40      & 3.900000 & 1        & 5        & 2663.5  \\\\\n",
       "\t 3952     & 388      & 3.780928 & 1        & 5        &  820.0  \\\\\n",
       "\\end{tabular}\n"
      ],
      "text/markdown": [
       "\n",
       "item | RatingCount | MeanRating | MinRating | MaxRating | PopRank | \n",
       "|---|---|---|---|---|---|---|---|---|---|---|\n",
       "| 1        | 2077     | 4.146846 | 1        | 5        |   30.0   | \n",
       "| 2        |  701     | 3.201141 | 1        | 5        |  394.5   | \n",
       "| 3        |  478     | 3.016736 | 1        | 5        |  650.0   | \n",
       "| 4        |  170     | 2.729412 | 1        | 5        | 1574.0   | \n",
       "| 5        |  296     | 3.006757 | 1        | 5        | 1067.0   | \n",
       "| ⋮ | ⋮ | ⋮ | ⋮ | ⋮ | ⋮ | \n",
       "| 3948     | 862      | 3.635731 | 1        | 5        |  278.0   | \n",
       "| 3949     | 304      | 4.115132 | 1        | 5        | 1037.5   | \n",
       "| 3950     |  54      | 3.666667 | 1        | 5        | 2449.5   | \n",
       "| 3951     |  40      | 3.900000 | 1        | 5        | 2663.5   | \n",
       "| 3952     | 388      | 3.780928 | 1        | 5        |  820.0   | \n",
       "\n",
       "\n"
      ],
      "text/plain": [
       "     item RatingCount MeanRating MinRating MaxRating PopRank\n",
       "1    1    2077        4.146846   1         5           30.0 \n",
       "2    2     701        3.201141   1         5          394.5 \n",
       "3    3     478        3.016736   1         5          650.0 \n",
       "4    4     170        2.729412   1         5         1574.0 \n",
       "5    5     296        3.006757   1         5         1067.0 \n",
       "⋮    ⋮    ⋮           ⋮          ⋮         ⋮         ⋮      \n",
       "3702 3948 862         3.635731   1         5          278.0 \n",
       "3703 3949 304         4.115132   1         5         1037.5 \n",
       "3704 3950  54         3.666667   1         5         2449.5 \n",
       "3705 3951  40         3.900000   1         5         2663.5 \n",
       "3706 3952 388         3.780928   1         5          820.0 "
      ]
     },
     "metadata": {},
     "output_type": "display_data"
    }
   ],
   "source": [
    "ml_item_stats = ml_ratings %>%\n",
    "    group_by(item) %>%\n",
    "    summarize(RatingCount=n(),\n",
    "              MeanRating=mean(rating),\n",
    "              MinRating=min(rating),\n",
    "              MaxRating=max(rating)             \n",
    "             ) %>%\n",
    "    mutate(PopRank=rank(-RatingCount))\n",
    "ml_item_stats"
   ]
  },
  {
   "cell_type": "code",
   "execution_count": 9,
   "metadata": {},
   "outputs": [
    {
     "name": "stderr",
     "output_type": "stream",
     "text": [
      "Joining, by = \"item\"\n",
      "Joining, by = \"user\"\n"
     ]
    },
    {
     "data": {
      "text/html": [
       "<table>\n",
       "<thead><tr><th scope=col>user</th><th scope=col>RatingCount</th><th scope=col>MeanRating</th><th scope=col>MinRating</th><th scope=col>MaxRating</th><th scope=col>MeanPopRank</th><th scope=col>MedRatingCount</th><th scope=col>SessionCount</th><th scope=col>AccountLifetime</th><th scope=col>gender</th><th scope=col>rawAge</th><th scope=col>occupation</th><th scope=col>zip</th><th scope=col>age</th></tr></thead>\n",
       "<tbody>\n",
       "\t<tr><td>1       </td><td> 53     </td><td>4.188679</td><td>3       </td><td>5       </td><td>397.9811</td><td> 53     </td><td>2       </td><td>524332  </td><td>F       </td><td>1       </td><td>10      </td><td>48067   </td><td>1-17    </td></tr>\n",
       "\t<tr><td>2       </td><td>129     </td><td>3.713178</td><td>1       </td><td>5       </td><td>454.5698</td><td>129     </td><td>1       </td><td>  2050  </td><td>M       </td><td>56      </td><td>16      </td><td>70072   </td><td>56+     </td></tr>\n",
       "\t<tr><td>3       </td><td> 51     </td><td>3.901961</td><td>1       </td><td>5       </td><td>289.4706</td><td> 51     </td><td>1       </td><td>  1486  </td><td>M       </td><td>25      </td><td>15      </td><td>55117   </td><td>25-34   </td></tr>\n",
       "\t<tr><td>4       </td><td> 21     </td><td>4.190476</td><td>1       </td><td>5       </td><td>148.5476</td><td> 21     </td><td>1       </td><td>   358  </td><td>M       </td><td>45      </td><td>7       </td><td>02460   </td><td>45-49   </td></tr>\n",
       "\t<tr><td>5       </td><td>198     </td><td>3.146465</td><td>1       </td><td>5       </td><td>832.9268</td><td>198     </td><td>1       </td><td>  5513  </td><td>M       </td><td>25      </td><td>20      </td><td>55455   </td><td>25-34   </td></tr>\n",
       "\t<tr><td>⋮</td><td>⋮</td><td>⋮</td><td>⋮</td><td>⋮</td><td>⋮</td><td>⋮</td><td>⋮</td><td>⋮</td><td>⋮</td><td>⋮</td><td>⋮</td><td>⋮</td><td>⋮</td></tr>\n",
       "\t<tr><td>6036    </td><td>888     </td><td>3.302928</td><td>1       </td><td>5       </td><td>954.6430</td><td>888     </td><td>2       </td><td>   45847</td><td>F       </td><td>25      </td><td>15      </td><td>32603   </td><td>25-34   </td></tr>\n",
       "\t<tr><td>6037    </td><td>202     </td><td>3.717822</td><td>1       </td><td>5       </td><td>561.6485</td><td>202     </td><td>3       </td><td>   92843</td><td>F       </td><td>45      </td><td>1       </td><td>76006   </td><td>45-49   </td></tr>\n",
       "\t<tr><td>6038    </td><td> 20     </td><td>3.800000</td><td>1       </td><td>5       </td><td>482.4250</td><td> 20     </td><td>2       </td><td>   10377</td><td>F       </td><td>56      </td><td>1       </td><td>14706   </td><td>56+     </td></tr>\n",
       "\t<tr><td>6039    </td><td>123     </td><td>3.878049</td><td>2       </td><td>5       </td><td>701.7967</td><td>123     </td><td>2       </td><td>   52871</td><td>F       </td><td>45      </td><td>0       </td><td>01060   </td><td>45-49   </td></tr>\n",
       "\t<tr><td>6040    </td><td>341     </td><td>3.577713</td><td>1       </td><td>5       </td><td>719.8065</td><td>341     </td><td>9       </td><td>41611123</td><td>M       </td><td>25      </td><td>6       </td><td>11106   </td><td>25-34   </td></tr>\n",
       "</tbody>\n",
       "</table>\n"
      ],
      "text/latex": [
       "\\begin{tabular}{r|llllllllllllll}\n",
       " user & RatingCount & MeanRating & MinRating & MaxRating & MeanPopRank & MedRatingCount & SessionCount & AccountLifetime & gender & rawAge & occupation & zip & age\\\\\n",
       "\\hline\n",
       "\t 1        &  53      & 4.188679 & 3        & 5        & 397.9811 &  53      & 2        & 524332   & F        & 1        & 10       & 48067    & 1-17    \\\\\n",
       "\t 2        & 129      & 3.713178 & 1        & 5        & 454.5698 & 129      & 1        &   2050   & M        & 56       & 16       & 70072    & 56+     \\\\\n",
       "\t 3        &  51      & 3.901961 & 1        & 5        & 289.4706 &  51      & 1        &   1486   & M        & 25       & 15       & 55117    & 25-34   \\\\\n",
       "\t 4        &  21      & 4.190476 & 1        & 5        & 148.5476 &  21      & 1        &    358   & M        & 45       & 7        & 02460    & 45-49   \\\\\n",
       "\t 5        & 198      & 3.146465 & 1        & 5        & 832.9268 & 198      & 1        &   5513   & M        & 25       & 20       & 55455    & 25-34   \\\\\n",
       "\t ⋮ & ⋮ & ⋮ & ⋮ & ⋮ & ⋮ & ⋮ & ⋮ & ⋮ & ⋮ & ⋮ & ⋮ & ⋮ & ⋮\\\\\n",
       "\t 6036     & 888      & 3.302928 & 1        & 5        & 954.6430 & 888      & 2        &    45847 & F        & 25       & 15       & 32603    & 25-34   \\\\\n",
       "\t 6037     & 202      & 3.717822 & 1        & 5        & 561.6485 & 202      & 3        &    92843 & F        & 45       & 1        & 76006    & 45-49   \\\\\n",
       "\t 6038     &  20      & 3.800000 & 1        & 5        & 482.4250 &  20      & 2        &    10377 & F        & 56       & 1        & 14706    & 56+     \\\\\n",
       "\t 6039     & 123      & 3.878049 & 2        & 5        & 701.7967 & 123      & 2        &    52871 & F        & 45       & 0        & 01060    & 45-49   \\\\\n",
       "\t 6040     & 341      & 3.577713 & 1        & 5        & 719.8065 & 341      & 9        & 41611123 & M        & 25       & 6        & 11106    & 25-34   \\\\\n",
       "\\end{tabular}\n"
      ],
      "text/markdown": [
       "\n",
       "user | RatingCount | MeanRating | MinRating | MaxRating | MeanPopRank | MedRatingCount | SessionCount | AccountLifetime | gender | rawAge | occupation | zip | age | \n",
       "|---|---|---|---|---|---|---|---|---|---|---|\n",
       "| 1        |  53      | 4.188679 | 3        | 5        | 397.9811 |  53      | 2        | 524332   | F        | 1        | 10       | 48067    | 1-17     | \n",
       "| 2        | 129      | 3.713178 | 1        | 5        | 454.5698 | 129      | 1        |   2050   | M        | 56       | 16       | 70072    | 56+      | \n",
       "| 3        |  51      | 3.901961 | 1        | 5        | 289.4706 |  51      | 1        |   1486   | M        | 25       | 15       | 55117    | 25-34    | \n",
       "| 4        |  21      | 4.190476 | 1        | 5        | 148.5476 |  21      | 1        |    358   | M        | 45       | 7        | 02460    | 45-49    | \n",
       "| 5        | 198      | 3.146465 | 1        | 5        | 832.9268 | 198      | 1        |   5513   | M        | 25       | 20       | 55455    | 25-34    | \n",
       "| ⋮ | ⋮ | ⋮ | ⋮ | ⋮ | ⋮ | ⋮ | ⋮ | ⋮ | ⋮ | ⋮ | ⋮ | ⋮ | ⋮ | \n",
       "| 6036     | 888      | 3.302928 | 1        | 5        | 954.6430 | 888      | 2        |    45847 | F        | 25       | 15       | 32603    | 25-34    | \n",
       "| 6037     | 202      | 3.717822 | 1        | 5        | 561.6485 | 202      | 3        |    92843 | F        | 45       | 1        | 76006    | 45-49    | \n",
       "| 6038     |  20      | 3.800000 | 1        | 5        | 482.4250 |  20      | 2        |    10377 | F        | 56       | 1        | 14706    | 56+      | \n",
       "| 6039     | 123      | 3.878049 | 2        | 5        | 701.7967 | 123      | 2        |    52871 | F        | 45       | 0        | 01060    | 45-49    | \n",
       "| 6040     | 341      | 3.577713 | 1        | 5        | 719.8065 | 341      | 9        | 41611123 | M        | 25       | 6        | 11106    | 25-34    | \n",
       "\n",
       "\n"
      ],
      "text/plain": [
       "     user RatingCount MeanRating MinRating MaxRating MeanPopRank MedRatingCount\n",
       "1    1     53         4.188679   3         5         397.9811     53           \n",
       "2    2    129         3.713178   1         5         454.5698    129           \n",
       "3    3     51         3.901961   1         5         289.4706     51           \n",
       "4    4     21         4.190476   1         5         148.5476     21           \n",
       "5    5    198         3.146465   1         5         832.9268    198           \n",
       "⋮    ⋮    ⋮           ⋮          ⋮         ⋮         ⋮           ⋮             \n",
       "6036 6036 888         3.302928   1         5         954.6430    888           \n",
       "6037 6037 202         3.717822   1         5         561.6485    202           \n",
       "6038 6038  20         3.800000   1         5         482.4250     20           \n",
       "6039 6039 123         3.878049   2         5         701.7967    123           \n",
       "6040 6040 341         3.577713   1         5         719.8065    341           \n",
       "     SessionCount AccountLifetime gender rawAge occupation zip   age  \n",
       "1    2            524332          F      1      10         48067 1-17 \n",
       "2    1              2050          M      56     16         70072 56+  \n",
       "3    1              1486          M      25     15         55117 25-34\n",
       "4    1               358          M      45     7          02460 45-49\n",
       "5    1              5513          M      25     20         55455 25-34\n",
       "⋮    ⋮            ⋮               ⋮      ⋮      ⋮          ⋮     ⋮    \n",
       "6036 2               45847        F      25     15         32603 25-34\n",
       "6037 3               92843        F      45     1          76006 45-49\n",
       "6038 2               10377        F      56     1          14706 56+  \n",
       "6039 2               52871        F      45     0          01060 45-49\n",
       "6040 9            41611123        M      25     6          11106 25-34"
      ]
     },
     "metadata": {},
     "output_type": "display_data"
    }
   ],
   "source": [
    "ml_user_stats = ml_ratings %>%\n",
    "    inner_join(ml_item_stats %>% select(item, RatingCount, PopRank)) %>%\n",
    "    group_by(user) %>%\n",
    "    summarize(RatingCount=n(),\n",
    "              MeanRating=mean(rating),\n",
    "              MinRating=min(rating),\n",
    "              MaxRating=max(rating),\n",
    "              MeanPopRank=mean(PopRank),\n",
    "              MedRatingCount=median(RatingCount),\n",
    "              SessionCount=max(sessionId),\n",
    "              AccountLifetime=max(timestamp) - min(timestamp)) %>%\n",
    "    inner_join(ml_users)\n",
    "ml_user_stats"
   ]
  },
  {
   "cell_type": "markdown",
   "metadata": {},
   "source": [
    "## Bring Data Together"
   ]
  },
  {
   "cell_type": "code",
   "execution_count": 10,
   "metadata": {},
   "outputs": [
    {
     "data": {
      "text/html": [
       "<table>\n",
       "<thead><tr><th scope=col>DataSet</th><th scope=col>item</th><th scope=col>UserCount</th></tr></thead>\n",
       "<tbody>\n",
       "\t<tr><td>ML  </td><td>1   </td><td>2077</td></tr>\n",
       "\t<tr><td>ML  </td><td>2   </td><td> 701</td></tr>\n",
       "\t<tr><td>ML  </td><td>3   </td><td> 478</td></tr>\n",
       "\t<tr><td>ML  </td><td>4   </td><td> 170</td></tr>\n",
       "\t<tr><td>ML  </td><td>5   </td><td> 296</td></tr>\n",
       "\t<tr><td>⋮</td><td>⋮</td><td>⋮</td></tr>\n",
       "\t<tr><td>ML  </td><td>3948</td><td>862 </td></tr>\n",
       "\t<tr><td>ML  </td><td>3949</td><td>304 </td></tr>\n",
       "\t<tr><td>ML  </td><td>3950</td><td> 54 </td></tr>\n",
       "\t<tr><td>ML  </td><td>3951</td><td> 40 </td></tr>\n",
       "\t<tr><td>ML  </td><td>3952</td><td>388 </td></tr>\n",
       "</tbody>\n",
       "</table>\n"
      ],
      "text/latex": [
       "\\begin{tabular}{r|lll}\n",
       " DataSet & item & UserCount\\\\\n",
       "\\hline\n",
       "\t ML   & 1    & 2077\\\\\n",
       "\t ML   & 2    &  701\\\\\n",
       "\t ML   & 3    &  478\\\\\n",
       "\t ML   & 4    &  170\\\\\n",
       "\t ML   & 5    &  296\\\\\n",
       "\t ⋮ & ⋮ & ⋮\\\\\n",
       "\t ML   & 3948 & 862 \\\\\n",
       "\t ML   & 3949 & 304 \\\\\n",
       "\t ML   & 3950 &  54 \\\\\n",
       "\t ML   & 3951 &  40 \\\\\n",
       "\t ML   & 3952 & 388 \\\\\n",
       "\\end{tabular}\n"
      ],
      "text/markdown": [
       "\n",
       "DataSet | item | UserCount | \n",
       "|---|---|---|---|---|---|---|---|---|---|---|\n",
       "| ML   | 1    | 2077 | \n",
       "| ML   | 2    |  701 | \n",
       "| ML   | 3    |  478 | \n",
       "| ML   | 4    |  170 | \n",
       "| ML   | 5    |  296 | \n",
       "| ⋮ | ⋮ | ⋮ | \n",
       "| ML   | 3948 | 862  | \n",
       "| ML   | 3949 | 304  | \n",
       "| ML   | 3950 |  54  | \n",
       "| ML   | 3951 |  40  | \n",
       "| ML   | 3952 | 388  | \n",
       "\n",
       "\n"
      ],
      "text/plain": [
       "     DataSet item UserCount\n",
       "1    ML      1    2077     \n",
       "2    ML      2     701     \n",
       "3    ML      3     478     \n",
       "4    ML      4     170     \n",
       "5    ML      5     296     \n",
       "⋮    ⋮       ⋮    ⋮        \n",
       "3702 ML      3948 862      \n",
       "3703 ML      3949 304      \n",
       "3704 ML      3950  54      \n",
       "3705 ML      3951  40      \n",
       "3706 ML      3952 388      "
      ]
     },
     "metadata": {},
     "output_type": "display_data"
    }
   ],
   "source": [
    "all_item_stats =\n",
    "    bind_rows(ML=ml_item_stats %>% select(item, UserCount=RatingCount),\n",
    "              \n",
    "              .id=\"DataSet\")\n",
    "all_item_stats"
   ]
  },
  {
   "cell_type": "code",
   "execution_count": 11,
   "metadata": {},
   "outputs": [
    {
     "data": {
      "text/html": [
       "<table>\n",
       "<thead><tr><th scope=col>DataSet</th><th scope=col>user</th><th scope=col>gender</th><th scope=col>age</th><th scope=col>ItemCount</th><th scope=col>SessionCount</th><th scope=col>Retention</th></tr></thead>\n",
       "<tbody>\n",
       "\t<tr><td>ML   </td><td>1    </td><td>F    </td><td>1-17 </td><td> 53  </td><td>2    </td><td>1    </td></tr>\n",
       "\t<tr><td>ML   </td><td>2    </td><td>M    </td><td>56+  </td><td>129  </td><td>1    </td><td>0    </td></tr>\n",
       "\t<tr><td>ML   </td><td>3    </td><td>M    </td><td>25-34</td><td> 51  </td><td>1    </td><td>0    </td></tr>\n",
       "\t<tr><td>ML   </td><td>4    </td><td>M    </td><td>45-49</td><td> 21  </td><td>1    </td><td>0    </td></tr>\n",
       "\t<tr><td>ML   </td><td>5    </td><td>M    </td><td>25-34</td><td>198  </td><td>1    </td><td>0    </td></tr>\n",
       "\t<tr><td>⋮</td><td>⋮</td><td>⋮</td><td>⋮</td><td>⋮</td><td>⋮</td><td>⋮</td></tr>\n",
       "\t<tr><td>ML   </td><td>6036 </td><td>F    </td><td>25-34</td><td>888  </td><td>2    </td><td>1    </td></tr>\n",
       "\t<tr><td>ML   </td><td>6037 </td><td>F    </td><td>45-49</td><td>202  </td><td>3    </td><td>1    </td></tr>\n",
       "\t<tr><td>ML   </td><td>6038 </td><td>F    </td><td>56+  </td><td> 20  </td><td>2    </td><td>1    </td></tr>\n",
       "\t<tr><td>ML   </td><td>6039 </td><td>F    </td><td>45-49</td><td>123  </td><td>2    </td><td>1    </td></tr>\n",
       "\t<tr><td>ML   </td><td>6040 </td><td>M    </td><td>25-34</td><td>341  </td><td>9    </td><td>1    </td></tr>\n",
       "</tbody>\n",
       "</table>\n"
      ],
      "text/latex": [
       "\\begin{tabular}{r|lllllll}\n",
       " DataSet & user & gender & age & ItemCount & SessionCount & Retention\\\\\n",
       "\\hline\n",
       "\t ML    & 1     & F     & 1-17  &  53   & 2     & 1    \\\\\n",
       "\t ML    & 2     & M     & 56+   & 129   & 1     & 0    \\\\\n",
       "\t ML    & 3     & M     & 25-34 &  51   & 1     & 0    \\\\\n",
       "\t ML    & 4     & M     & 45-49 &  21   & 1     & 0    \\\\\n",
       "\t ML    & 5     & M     & 25-34 & 198   & 1     & 0    \\\\\n",
       "\t ⋮ & ⋮ & ⋮ & ⋮ & ⋮ & ⋮ & ⋮\\\\\n",
       "\t ML    & 6036  & F     & 25-34 & 888   & 2     & 1    \\\\\n",
       "\t ML    & 6037  & F     & 45-49 & 202   & 3     & 1    \\\\\n",
       "\t ML    & 6038  & F     & 56+   &  20   & 2     & 1    \\\\\n",
       "\t ML    & 6039  & F     & 45-49 & 123   & 2     & 1    \\\\\n",
       "\t ML    & 6040  & M     & 25-34 & 341   & 9     & 1    \\\\\n",
       "\\end{tabular}\n"
      ],
      "text/markdown": [
       "\n",
       "DataSet | user | gender | age | ItemCount | SessionCount | Retention | \n",
       "|---|---|---|---|---|---|---|---|---|---|---|\n",
       "| ML    | 1     | F     | 1-17  |  53   | 2     | 1     | \n",
       "| ML    | 2     | M     | 56+   | 129   | 1     | 0     | \n",
       "| ML    | 3     | M     | 25-34 |  51   | 1     | 0     | \n",
       "| ML    | 4     | M     | 45-49 |  21   | 1     | 0     | \n",
       "| ML    | 5     | M     | 25-34 | 198   | 1     | 0     | \n",
       "| ⋮ | ⋮ | ⋮ | ⋮ | ⋮ | ⋮ | ⋮ | \n",
       "| ML    | 6036  | F     | 25-34 | 888   | 2     | 1     | \n",
       "| ML    | 6037  | F     | 45-49 | 202   | 3     | 1     | \n",
       "| ML    | 6038  | F     | 56+   |  20   | 2     | 1     | \n",
       "| ML    | 6039  | F     | 45-49 | 123   | 2     | 1     | \n",
       "| ML    | 6040  | M     | 25-34 | 341   | 9     | 1     | \n",
       "\n",
       "\n"
      ],
      "text/plain": [
       "     DataSet user gender age   ItemCount SessionCount Retention\n",
       "1    ML      1    F      1-17   53       2            1        \n",
       "2    ML      2    M      56+   129       1            0        \n",
       "3    ML      3    M      25-34  51       1            0        \n",
       "4    ML      4    M      45-49  21       1            0        \n",
       "5    ML      5    M      25-34 198       1            0        \n",
       "⋮    ⋮       ⋮    ⋮      ⋮     ⋮         ⋮            ⋮        \n",
       "6036 ML      6036 F      25-34 888       2            1        \n",
       "6037 ML      6037 F      45-49 202       3            1        \n",
       "6038 ML      6038 F      56+    20       2            1        \n",
       "6039 ML      6039 F      45-49 123       2            1        \n",
       "6040 ML      6040 M      25-34 341       9            1        "
      ]
     },
     "metadata": {},
     "output_type": "display_data"
    }
   ],
   "source": [
    "all_user_stats =\n",
    "    bind_rows(ML=ml_user_stats %>% select(user, gender, age, ItemCount=RatingCount,SessionCount),\n",
    "              \n",
    "              .id=\"DataSet\") %>%\n",
    "    mutate(Retention = ifelse(SessionCount>1, 1, 0))\n",
    "all_user_stats"
   ]
  },
  {
   "cell_type": "markdown",
   "metadata": {},
   "source": [
    "## Basic Stats\n",
    "\n",
    "How much data do we have?"
   ]
  },
  {
   "cell_type": "code",
   "execution_count": 12,
   "metadata": {},
   "outputs": [
    {
     "name": "stderr",
     "output_type": "stream",
     "text": [
      "Joining, by = \"DataSet\"\n"
     ]
    },
    {
     "data": {
      "text/html": [
       "<table>\n",
       "<thead><tr><th scope=col>DataSet</th><th scope=col>Users</th><th scope=col>Pairs</th><th scope=col>Items</th><th scope=col>Density</th></tr></thead>\n",
       "<tbody>\n",
       "\t<tr><td>ML        </td><td>6040      </td><td>1000209   </td><td>3706      </td><td>0.04468363</td></tr>\n",
       "</tbody>\n",
       "</table>\n"
      ],
      "text/latex": [
       "\\begin{tabular}{r|lllll}\n",
       " DataSet & Users & Pairs & Items & Density\\\\\n",
       "\\hline\n",
       "\t ML         & 6040       & 1000209    & 3706       & 0.04468363\\\\\n",
       "\\end{tabular}\n"
      ],
      "text/markdown": [
       "\n",
       "DataSet | Users | Pairs | Items | Density | \n",
       "|---|\n",
       "| ML         | 6040       | 1000209    | 3706       | 0.04468363 | \n",
       "\n",
       "\n"
      ],
      "text/plain": [
       "  DataSet Users Pairs   Items Density   \n",
       "1 ML      6040  1000209 3706  0.04468363"
      ]
     },
     "metadata": {},
     "output_type": "display_data"
    }
   ],
   "source": [
    "all_user_stats %>%\n",
    "    group_by(DataSet) %>%\n",
    "    summarize(Users=n(), Pairs=sum(ItemCount)) %>%\n",
    "    inner_join(all_item_stats %>%\n",
    "                  group_by(DataSet) %>%\n",
    "                  summarize(Items=n())) %>%\n",
    "    mutate(Density=Pairs / (as.numeric(Users) * Items))\n",
    "   "
   ]
  },
  {
   "cell_type": "markdown",
   "metadata": {},
   "source": [
    "Start looking at demographic distributions:"
   ]
  },
  {
   "cell_type": "code",
   "execution_count": 13,
   "metadata": {},
   "outputs": [
    {
     "name": "stderr",
     "output_type": "stream",
     "text": [
      "Warning message:\n",
      "“Removed 460 rows containing non-finite values (stat_count).”"
     ]
    },
    {
     "data": {},
     "metadata": {},
     "output_type": "display_data"
    },
    {
     "data": {
      "image/png": "[encoded data removed]",
      "text/plain": [
       "plot without title"
      ]
     },
     "metadata": {},
     "output_type": "display_data"
    }
   ],
   "source": [
    "ggplot(all_user_stats) +\n",
    "    aes(x=SessionCount) +\n",
    "    geom_bar() +\n",
    "    facet_wrap(~ gender, scales=\"free\") +\n",
    "    scale_x_continuous(limits = c(0, 10))"
   ]
  },
  {
   "cell_type": "code",
   "execution_count": 15,
   "metadata": {
    "collapsed": true
   },
   "outputs": [],
   "source": [
    "propint = function(successes, count, side=\"low\") {\n",
    "    prop.test(successes, count)$conf.int[switch(side, low=1, high=2)]\n",
    "}"
   ]
  },
  {
   "cell_type": "code",
   "execution_count": 17,
   "metadata": {},
   "outputs": [
    {
     "data": {
      "text/html": [
       "<table>\n",
       "<thead><tr><th scope=col>gender</th><th scope=col>nusers</th><th scope=col>freq</th><th scope=col>ci.low</th><th scope=col>ci.high</th></tr></thead>\n",
       "<tbody>\n",
       "\t<tr><td>F        </td><td>1709     </td><td>0.4002341</td><td>0.3769650</td><td>0.4239562</td></tr>\n",
       "\t<tr><td>M        </td><td>4331     </td><td>0.4447010</td><td>0.4298419</td><td>0.4596589</td></tr>\n",
       "</tbody>\n",
       "</table>\n"
      ],
      "text/latex": [
       "\\begin{tabular}{r|lllll}\n",
       " gender & nusers & freq & ci.low & ci.high\\\\\n",
       "\\hline\n",
       "\t F         & 1709      & 0.4002341 & 0.3769650 & 0.4239562\\\\\n",
       "\t M         & 4331      & 0.4447010 & 0.4298419 & 0.4596589\\\\\n",
       "\\end{tabular}\n"
      ],
      "text/markdown": [
       "\n",
       "gender | nusers | freq | ci.low | ci.high | \n",
       "|---|---|\n",
       "| F         | 1709      | 0.4002341 | 0.3769650 | 0.4239562 | \n",
       "| M         | 4331      | 0.4447010 | 0.4298419 | 0.4596589 | \n",
       "\n",
       "\n"
      ],
      "text/plain": [
       "  gender nusers freq      ci.low    ci.high  \n",
       "1 F      1709   0.4002341 0.3769650 0.4239562\n",
       "2 M      4331   0.4447010 0.4298419 0.4596589"
      ]
     },
     "metadata": {},
     "output_type": "display_data"
    }
   ],
   "source": [
    "retentionSummarizedGender <- all_user_stats %>%\n",
    "    group_by(gender) %>%\n",
    "    summarize(nusers=n(),\n",
    "              freq=mean(Retention),\n",
    "           #  error=sd(Retention) / sqrt(n()))\n",
    "              ci.low=propint(sum(Retention),n(), side=\"low\"),\n",
    "              ci.high=propint(sum(Retention),n(), side=\"high\"))\n",
    "retentionSummarizedGender\n"
   ]
  },
  {
   "cell_type": "code",
   "execution_count": 18,
   "metadata": {},
   "outputs": [
    {
     "data": {},
     "metadata": {},
     "output_type": "display_data"
    },
    {
     "data": {
      "image/png": "[encoded data removed]",
      "text/plain": [
       "plot without title"
      ]
     },
     "metadata": {},
     "output_type": "display_data"
    }
   ],
   "source": [
    "ggplot(retentionSummarizedGender) +\n",
    "    aes(x=gender, y =freq,ymin=ci.low,ymax=ci.high)  +\n",
    "    geom_bar(stat=\"identity\") + \n",
    "    geom_errorbar(width=0.2)\n",
    "    #facet_wrap(~ age, scales=\"free\") \n",
    "   # scale_x_continuous(limits = c(0, 10))"
   ]
  },
  {
   "cell_type": "markdown",
   "metadata": {},
   "source": [
    "Proportion test:"
   ]
  },
  {
   "cell_type": "code",
   "execution_count": 31,
   "metadata": {},
   "outputs": [
    {
     "data": {
      "text/plain": [
       "\n",
       "\t2-sample test for equality of proportions with continuity correction\n",
       "\n",
       "data:  nusers * freq out of nusers\n",
       "X-squared = 9.6939, df = 1, p-value = 0.001849\n",
       "alternative hypothesis: two.sided\n",
       "95 percent confidence interval:\n",
       " -0.07241769 -0.01651618\n",
       "sample estimates:\n",
       "   prop 1    prop 2 \n",
       "0.4002341 0.4447010 \n"
      ]
     },
     "metadata": {},
     "output_type": "display_data"
    }
   ],
   "source": [
    "with(retentionSummarizedGender, {\n",
    "    prop.test(nusers * freq, nusers)\n",
    "})"
   ]
  },
  {
   "cell_type": "code",
   "execution_count": 19,
   "metadata": {},
   "outputs": [
    {
     "data": {
      "text/html": [
       "<table>\n",
       "<thead><tr><th scope=col>age</th><th scope=col>nusers</th><th scope=col>freq</th><th scope=col>ci.low</th><th scope=col>ci.high</th></tr></thead>\n",
       "<tbody>\n",
       "\t<tr><td>1-17     </td><td> 222     </td><td>0.5180180</td><td>0.4503192</td><td>0.5850831</td></tr>\n",
       "\t<tr><td>18-24    </td><td>1103     </td><td>0.4605621</td><td>0.4308847</td><td>0.4905175</td></tr>\n",
       "\t<tr><td>25-34    </td><td>2096     </td><td>0.4742366</td><td>0.4526888</td><td>0.4958798</td></tr>\n",
       "\t<tr><td>35-44    </td><td>1193     </td><td>0.4073764</td><td>0.3794221</td><td>0.4359341</td></tr>\n",
       "\t<tr><td>45-49    </td><td> 550     </td><td>0.3800000</td><td>0.3395153</td><td>0.4221865</td></tr>\n",
       "\t<tr><td>50-55    </td><td> 496     </td><td>0.3588710</td><td>0.3169164</td><td>0.4030463</td></tr>\n",
       "\t<tr><td>56+      </td><td> 380     </td><td>0.3157895</td><td>0.2698443</td><td>0.3655250</td></tr>\n",
       "</tbody>\n",
       "</table>\n"
      ],
      "text/latex": [
       "\\begin{tabular}{r|lllll}\n",
       " age & nusers & freq & ci.low & ci.high\\\\\n",
       "\\hline\n",
       "\t 1-17      &  222      & 0.5180180 & 0.4503192 & 0.5850831\\\\\n",
       "\t 18-24     & 1103      & 0.4605621 & 0.4308847 & 0.4905175\\\\\n",
       "\t 25-34     & 2096      & 0.4742366 & 0.4526888 & 0.4958798\\\\\n",
       "\t 35-44     & 1193      & 0.4073764 & 0.3794221 & 0.4359341\\\\\n",
       "\t 45-49     &  550      & 0.3800000 & 0.3395153 & 0.4221865\\\\\n",
       "\t 50-55     &  496      & 0.3588710 & 0.3169164 & 0.4030463\\\\\n",
       "\t 56+       &  380      & 0.3157895 & 0.2698443 & 0.3655250\\\\\n",
       "\\end{tabular}\n"
      ],
      "text/markdown": [
       "\n",
       "age | nusers | freq | ci.low | ci.high | \n",
       "|---|---|---|---|---|---|---|\n",
       "| 1-17      |  222      | 0.5180180 | 0.4503192 | 0.5850831 | \n",
       "| 18-24     | 1103      | 0.4605621 | 0.4308847 | 0.4905175 | \n",
       "| 25-34     | 2096      | 0.4742366 | 0.4526888 | 0.4958798 | \n",
       "| 35-44     | 1193      | 0.4073764 | 0.3794221 | 0.4359341 | \n",
       "| 45-49     |  550      | 0.3800000 | 0.3395153 | 0.4221865 | \n",
       "| 50-55     |  496      | 0.3588710 | 0.3169164 | 0.4030463 | \n",
       "| 56+       |  380      | 0.3157895 | 0.2698443 | 0.3655250 | \n",
       "\n",
       "\n"
      ],
      "text/plain": [
       "  age   nusers freq      ci.low    ci.high  \n",
       "1 1-17   222   0.5180180 0.4503192 0.5850831\n",
       "2 18-24 1103   0.4605621 0.4308847 0.4905175\n",
       "3 25-34 2096   0.4742366 0.4526888 0.4958798\n",
       "4 35-44 1193   0.4073764 0.3794221 0.4359341\n",
       "5 45-49  550   0.3800000 0.3395153 0.4221865\n",
       "6 50-55  496   0.3588710 0.3169164 0.4030463\n",
       "7 56+    380   0.3157895 0.2698443 0.3655250"
      ]
     },
     "metadata": {},
     "output_type": "display_data"
    }
   ],
   "source": [
    "retentionSummarizedAge <- all_user_stats %>%\n",
    "    group_by(age) %>%\n",
    "    summarize(nusers=n(),\n",
    "              freq=mean(Retention),\n",
    "              ci.low=propint(sum(Retention),n(), side=\"low\"),\n",
    "              ci.high=propint(sum(Retention),n(), side=\"high\"))\n",
    "\n",
    "retentionSummarizedAge"
   ]
  },
  {
   "cell_type": "code",
   "execution_count": 20,
   "metadata": {},
   "outputs": [
    {
     "data": {},
     "metadata": {},
     "output_type": "display_data"
    },
    {
     "data": {
      "image/png": "[encoded data removed]",
      "text/plain": [
       "plot without title"
      ]
     },
     "metadata": {},
     "output_type": "display_data"
    }
   ],
   "source": [
    "ggplot(retentionSummarizedAge) +\n",
    "    aes(x=age, y =freq,ymin=ci.low, ymax=ci.high)  +\n",
    "    geom_bar(stat=\"identity\") + \n",
    "    geom_errorbar(width=0.2)"
   ]
  },
  {
   "cell_type": "code",
   "execution_count": 21,
   "metadata": {},
   "outputs": [
    {
     "name": "stderr",
     "output_type": "stream",
     "text": [
      "Warning message in bind_rows_(x, .id):\n",
      "“Unequal factor levels: coercing to character”"
     ]
    },
    {
     "data": {
      "text/html": [
       "<table>\n",
       "<thead><tr><th scope=col>Demographic</th><th scope=col>demoV</th><th scope=col>nusers</th><th scope=col>freq</th><th scope=col>ci.low</th><th scope=col>ci.high</th></tr></thead>\n",
       "<tbody>\n",
       "\t<tr><td>Gender   </td><td>F        </td><td>1709     </td><td>0.4002341</td><td>0.3769650</td><td>0.4239562</td></tr>\n",
       "\t<tr><td>Gender   </td><td>M        </td><td>4331     </td><td>0.4447010</td><td>0.4298419</td><td>0.4596589</td></tr>\n",
       "\t<tr><td>Age      </td><td>1-17     </td><td> 222     </td><td>0.5180180</td><td>0.4503192</td><td>0.5850831</td></tr>\n",
       "\t<tr><td>Age      </td><td>18-24    </td><td>1103     </td><td>0.4605621</td><td>0.4308847</td><td>0.4905175</td></tr>\n",
       "\t<tr><td>Age      </td><td>25-34    </td><td>2096     </td><td>0.4742366</td><td>0.4526888</td><td>0.4958798</td></tr>\n",
       "\t<tr><td>Age      </td><td>35-44    </td><td>1193     </td><td>0.4073764</td><td>0.3794221</td><td>0.4359341</td></tr>\n",
       "\t<tr><td>Age      </td><td>45-49    </td><td> 550     </td><td>0.3800000</td><td>0.3395153</td><td>0.4221865</td></tr>\n",
       "\t<tr><td>Age      </td><td>50-55    </td><td> 496     </td><td>0.3588710</td><td>0.3169164</td><td>0.4030463</td></tr>\n",
       "\t<tr><td>Age      </td><td>56+      </td><td> 380     </td><td>0.3157895</td><td>0.2698443</td><td>0.3655250</td></tr>\n",
       "</tbody>\n",
       "</table>\n"
      ],
      "text/latex": [
       "\\begin{tabular}{r|llllll}\n",
       " Demographic & demoV & nusers & freq & ci.low & ci.high\\\\\n",
       "\\hline\n",
       "\t Gender    & F         & 1709      & 0.4002341 & 0.3769650 & 0.4239562\\\\\n",
       "\t Gender    & M         & 4331      & 0.4447010 & 0.4298419 & 0.4596589\\\\\n",
       "\t Age       & 1-17      &  222      & 0.5180180 & 0.4503192 & 0.5850831\\\\\n",
       "\t Age       & 18-24     & 1103      & 0.4605621 & 0.4308847 & 0.4905175\\\\\n",
       "\t Age       & 25-34     & 2096      & 0.4742366 & 0.4526888 & 0.4958798\\\\\n",
       "\t Age       & 35-44     & 1193      & 0.4073764 & 0.3794221 & 0.4359341\\\\\n",
       "\t Age       & 45-49     &  550      & 0.3800000 & 0.3395153 & 0.4221865\\\\\n",
       "\t Age       & 50-55     &  496      & 0.3588710 & 0.3169164 & 0.4030463\\\\\n",
       "\t Age       & 56+       &  380      & 0.3157895 & 0.2698443 & 0.3655250\\\\\n",
       "\\end{tabular}\n"
      ],
      "text/markdown": [
       "\n",
       "Demographic | demoV | nusers | freq | ci.low | ci.high | \n",
       "|---|---|---|---|---|---|---|---|---|\n",
       "| Gender    | F         | 1709      | 0.4002341 | 0.3769650 | 0.4239562 | \n",
       "| Gender    | M         | 4331      | 0.4447010 | 0.4298419 | 0.4596589 | \n",
       "| Age       | 1-17      |  222      | 0.5180180 | 0.4503192 | 0.5850831 | \n",
       "| Age       | 18-24     | 1103      | 0.4605621 | 0.4308847 | 0.4905175 | \n",
       "| Age       | 25-34     | 2096      | 0.4742366 | 0.4526888 | 0.4958798 | \n",
       "| Age       | 35-44     | 1193      | 0.4073764 | 0.3794221 | 0.4359341 | \n",
       "| Age       | 45-49     |  550      | 0.3800000 | 0.3395153 | 0.4221865 | \n",
       "| Age       | 50-55     |  496      | 0.3588710 | 0.3169164 | 0.4030463 | \n",
       "| Age       | 56+       |  380      | 0.3157895 | 0.2698443 | 0.3655250 | \n",
       "\n",
       "\n"
      ],
      "text/plain": [
       "  Demographic demoV nusers freq      ci.low    ci.high  \n",
       "1 Gender      F     1709   0.4002341 0.3769650 0.4239562\n",
       "2 Gender      M     4331   0.4447010 0.4298419 0.4596589\n",
       "3 Age         1-17   222   0.5180180 0.4503192 0.5850831\n",
       "4 Age         18-24 1103   0.4605621 0.4308847 0.4905175\n",
       "5 Age         25-34 2096   0.4742366 0.4526888 0.4958798\n",
       "6 Age         35-44 1193   0.4073764 0.3794221 0.4359341\n",
       "7 Age         45-49  550   0.3800000 0.3395153 0.4221865\n",
       "8 Age         50-55  496   0.3588710 0.3169164 0.4030463\n",
       "9 Age         56+    380   0.3157895 0.2698443 0.3655250"
      ]
     },
     "metadata": {},
     "output_type": "display_data"
    }
   ],
   "source": [
    "integratedDemo= bind_rows(Gender=retentionSummarizedGender  %>% rename(demoV=gender),\n",
    "          Age=retentionSummarizedAge %>% rename(demoV=age),\n",
    "          .id=\"Demographic\")\n",
    "integratedDemo"
   ]
  },
  {
   "cell_type": "code",
   "execution_count": 30,
   "metadata": {},
   "outputs": [
    {
     "data": {},
     "metadata": {},
     "output_type": "display_data"
    },
    {
     "data": {
      "image/png": "[encoded data removed]",
      "text/plain": [
       "plot without title"
      ]
     },
     "metadata": {},
     "output_type": "display_data"
    }
   ],
   "source": [
    "make.plot(\"ratio-of-retention\", width=5, height=2.5, {\n",
    "ggplot(integratedDemo) +\n",
    "    aes(x=demoV, y =freq,ymin=ci.low, ymax=ci.high)  +\n",
    "    geom_bar(stat=\"identity\", fill=\"midnightblue\") + \n",
    "    geom_errorbar(width=0.2, color=\"darkorange2\")+\n",
    "    scale_y_continuous(labels=scales::percent) +\n",
    "    facet_grid(~ Demographic, scales=\"free\", space=\"free_x\") + xlab(\"\") +ylab(\"Retention Rate\")+\n",
    "    theme_paper()\n",
    "    })"
   ]
  },
  {
   "cell_type": "code",
   "execution_count": 50,
   "metadata": {},
   "outputs": [
    {
     "name": "stderr",
     "output_type": "stream",
     "text": [
      "Warning message:\n",
      "“Removed 460 rows containing non-finite values (stat_count).”"
     ]
    },
    {
     "data": {},
     "metadata": {},
     "output_type": "display_data"
    },
    {
     "data": {
      "image/png": "[encoded data removed]",
      "text/plain": [
       "plot without title"
      ]
     },
     "metadata": {},
     "output_type": "display_data"
    }
   ],
   "source": [
    "ggplot(all_user_stats) +\n",
    "    aes(x=SessionCount) +\n",
    "    geom_bar() +\n",
    "    facet_wrap(~ age, scales=\"free\") +\n",
    "    scale_x_continuous(limits = c(0, 10))"
   ]
  },
  {
   "cell_type": "code",
   "execution_count": 51,
   "metadata": {},
   "outputs": [
    {
     "name": "stderr",
     "output_type": "stream",
     "text": [
      "Warning message:\n",
      "“Removed 817 rows containing non-finite values (stat_boxplot).”"
     ]
    },
    {
     "data": {},
     "metadata": {},
     "output_type": "display_data"
    },
    {
     "data": {
      "image/png": "[encoded data removed]",
      "text/plain": [
       "plot without title"
      ]
     },
     "metadata": {},
     "output_type": "display_data"
    }
   ],
   "source": [
    "ggplot(all_user_stats, aes(x = gender, y = SessionCount)) +\n",
    "        geom_boxplot() + scale_y_continuous(limits = c(0, 5))\n"
   ]
  },
  {
   "cell_type": "code",
   "execution_count": 52,
   "metadata": {},
   "outputs": [
    {
     "name": "stderr",
     "output_type": "stream",
     "text": [
      "Warning message:\n",
      "“Removed 817 rows containing non-finite values (stat_boxplot).”"
     ]
    },
    {
     "data": {},
     "metadata": {},
     "output_type": "display_data"
    },
    {
     "data": {
      "image/png": "[encoded data removed]",
      "text/plain": [
       "plot without title"
      ]
     },
     "metadata": {},
     "output_type": "display_data"
    }
   ],
   "source": [
    "ggplot(all_user_stats, aes(x = age, y = SessionCount)) +\n",
    "        geom_boxplot() + scale_y_continuous(limits = c(0, 5))"
   ]
  },
  {
   "cell_type": "markdown",
   "metadata": {},
   "source": [
    " It doesnt look there is any significant difference."
   ]
  },
  {
   "cell_type": "markdown",
   "metadata": {},
   "source": [
    "## Per-Session Count statistics"
   ]
  },
  {
   "cell_type": "markdown",
   "metadata": {},
   "source": [
    "Do different groups consume different numbers of items, on average?"
   ]
  },
  {
   "cell_type": "code",
   "execution_count": 53,
   "metadata": {},
   "outputs": [
    {
     "data": {
      "text/html": [
       "<table>\n",
       "<thead><tr><th scope=col>DataSet</th><th scope=col>SessionCount</th><th scope=col>NUsers</th><th scope=col>MeanItemCount</th><th scope=col>ICErr</th><th scope=col>MedItemCount</th></tr></thead>\n",
       "<tbody>\n",
       "\t<tr><td>ML       </td><td>1        </td><td>3430     </td><td> 99.8723 </td><td> 1.876451</td><td> 61      </td></tr>\n",
       "\t<tr><td>ML       </td><td>2        </td><td> 952     </td><td>149.5767 </td><td> 4.718528</td><td>103      </td></tr>\n",
       "\t<tr><td>ML       </td><td>3        </td><td> 438     </td><td>215.8950 </td><td> 9.547863</td><td>155      </td></tr>\n",
       "\t<tr><td>ML       </td><td>4        </td><td> 238     </td><td>263.9076 </td><td>16.111747</td><td>183      </td></tr>\n",
       "\t<tr><td>ML       </td><td>5        </td><td> 165     </td><td>240.4364 </td><td>13.722526</td><td>204      </td></tr>\n",
       "\t<tr><td>⋮</td><td>⋮</td><td>⋮</td><td>⋮</td><td>⋮</td><td>⋮</td></tr>\n",
       "\t<tr><td>ML  </td><td>171 </td><td>1   </td><td> 839</td><td>NA  </td><td> 839</td></tr>\n",
       "\t<tr><td>ML  </td><td>194 </td><td>1   </td><td> 947</td><td>NA  </td><td> 947</td></tr>\n",
       "\t<tr><td>ML  </td><td>227 </td><td>1   </td><td> 839</td><td>NA  </td><td> 839</td></tr>\n",
       "\t<tr><td>ML  </td><td>235 </td><td>1   </td><td>1176</td><td>NA  </td><td>1176</td></tr>\n",
       "\t<tr><td>ML  </td><td>320 </td><td>1   </td><td> 822</td><td>NA  </td><td> 822</td></tr>\n",
       "</tbody>\n",
       "</table>\n"
      ],
      "text/latex": [
       "\\begin{tabular}{r|llllll}\n",
       " DataSet & SessionCount & NUsers & MeanItemCount & ICErr & MedItemCount\\\\\n",
       "\\hline\n",
       "\t ML        & 1         & 3430      &  99.8723  &  1.876451 &  61      \\\\\n",
       "\t ML        & 2         &  952      & 149.5767  &  4.718528 & 103      \\\\\n",
       "\t ML        & 3         &  438      & 215.8950  &  9.547863 & 155      \\\\\n",
       "\t ML        & 4         &  238      & 263.9076  & 16.111747 & 183      \\\\\n",
       "\t ML        & 5         &  165      & 240.4364  & 13.722526 & 204      \\\\\n",
       "\t ⋮ & ⋮ & ⋮ & ⋮ & ⋮ & ⋮\\\\\n",
       "\t ML   & 171  & 1    &  839 & NA   &  839\\\\\n",
       "\t ML   & 194  & 1    &  947 & NA   &  947\\\\\n",
       "\t ML   & 227  & 1    &  839 & NA   &  839\\\\\n",
       "\t ML   & 235  & 1    & 1176 & NA   & 1176\\\\\n",
       "\t ML   & 320  & 1    &  822 & NA   &  822\\\\\n",
       "\\end{tabular}\n"
      ],
      "text/markdown": [
       "\n",
       "DataSet | SessionCount | NUsers | MeanItemCount | ICErr | MedItemCount | \n",
       "|---|---|---|---|---|---|---|---|---|---|---|\n",
       "| ML        | 1         | 3430      |  99.8723  |  1.876451 |  61       | \n",
       "| ML        | 2         |  952      | 149.5767  |  4.718528 | 103       | \n",
       "| ML        | 3         |  438      | 215.8950  |  9.547863 | 155       | \n",
       "| ML        | 4         |  238      | 263.9076  | 16.111747 | 183       | \n",
       "| ML        | 5         |  165      | 240.4364  | 13.722526 | 204       | \n",
       "| ⋮ | ⋮ | ⋮ | ⋮ | ⋮ | ⋮ | \n",
       "| ML   | 171  | 1    |  839 | NA   |  839 | \n",
       "| ML   | 194  | 1    |  947 | NA   |  947 | \n",
       "| ML   | 227  | 1    |  839 | NA   |  839 | \n",
       "| ML   | 235  | 1    | 1176 | NA   | 1176 | \n",
       "| ML   | 320  | 1    |  822 | NA   |  822 | \n",
       "\n",
       "\n"
      ],
      "text/plain": [
       "   DataSet SessionCount NUsers MeanItemCount ICErr     MedItemCount\n",
       "1  ML      1            3430    99.8723       1.876451  61         \n",
       "2  ML      2             952   149.5767       4.718528 103         \n",
       "3  ML      3             438   215.8950       9.547863 155         \n",
       "4  ML      4             238   263.9076      16.111747 183         \n",
       "5  ML      5             165   240.4364      13.722526 204         \n",
       "⋮  ⋮       ⋮            ⋮      ⋮             ⋮         ⋮           \n",
       "79 ML      171          1       839          NA         839        \n",
       "80 ML      194          1       947          NA         947        \n",
       "81 ML      227          1       839          NA         839        \n",
       "82 ML      235          1      1176          NA        1176        \n",
       "83 ML      320          1       822          NA         822        "
      ]
     },
     "metadata": {},
     "output_type": "display_data"
    }
   ],
   "source": [
    "gender.stats = all_user_stats %>%\n",
    "    group_by(DataSet, SessionCount) %>%\n",
    "    summarize(NUsers=n(),\n",
    "              MeanItemCount=mean(ItemCount),\n",
    "              ICErr=sd(ItemCount) / sqrt(n()),\n",
    "              MedItemCount=median(ItemCount))\n",
    "gender.stats"
   ]
  },
  {
   "cell_type": "code",
   "execution_count": 54,
   "metadata": {},
   "outputs": [
    {
     "name": "stderr",
     "output_type": "stream",
     "text": [
      "Warning message:\n",
      "“Removed 10 rows containing missing values (position_stack).”Warning message:\n",
      "“Removed 25 rows containing missing values (geom_errorbar).”"
     ]
    },
    {
     "data": {},
     "metadata": {},
     "output_type": "display_data"
    },
    {
     "data": {
      "image/png": "[encoded data removed]",
      "text/plain": [
       "plot without title"
      ]
     },
     "metadata": {},
     "output_type": "display_data"
    }
   ],
   "source": [
    "ggplot(gender.stats) +\n",
    "    aes(x=SessionCount, y=MeanItemCount,\n",
    "        ymin=MeanItemCount-ICErr,\n",
    "        ymax=MeanItemCount+ICErr) +\n",
    "    geom_bar(stat=\"identity\") + geom_errorbar(width=0.2) +\n",
    "    facet_wrap(~ DataSet) +\n",
    "    ggtitle(\"Mean Item Count per User\") + scale_x_continuous(limits = c(0, 100))"
   ]
  },
  {
   "cell_type": "code",
   "execution_count": 55,
   "metadata": {},
   "outputs": [
    {
     "name": "stderr",
     "output_type": "stream",
     "text": [
      "Warning message:\n",
      "“Removed 43 rows containing non-finite values (stat_smooth).”Warning message:\n",
      "“Removed 43 rows containing missing values (position_stack).”Warning message:\n",
      "“Removed 43 rows containing non-finite values (stat_smooth).”Warning message:\n",
      "“Removed 43 rows containing missing values (position_stack).”"
     ]
    },
    {
     "data": {},
     "metadata": {},
     "output_type": "display_data"
    },
    {
     "data": {
      "image/png": "[encoded data removed]",
      "text/plain": [
       "plot without title"
      ]
     },
     "metadata": {},
     "output_type": "display_data"
    }
   ],
   "source": [
    "#\"lm\", \"glm\", \"gam\", \"loess\", \"rlm\"\n",
    "make.plot(\"medianItemCount-by-sessionCount\", width=5, height=2.5, {\n",
    "ggplot(gender.stats) +\n",
    "    aes(x=SessionCount, y=MedItemCount) +\n",
    "    geom_bar(stat=\"identity\") +\n",
    "    #facet_wrap(~ DataSet) +\n",
    "    ylab(\"Median Item Count\") +\n",
    "    xlab(\"Session Count\")+\n",
    "   # ggtitle(\"Median Item Count per User\") +\n",
    "    scale_x_continuous(limits = c(0, 40)) +\n",
    "    geom_smooth(method = \"lm\")+\n",
    "    theme_bw()\n",
    "})"
   ]
  },
  {
   "cell_type": "markdown",
   "metadata": {},
   "source": [
    "The more sessions the more items users rate. Expected."
   ]
  },
  {
   "cell_type": "markdown",
   "metadata": {},
   "source": [
    "Do different SessionCounts use higher or lower ratings?"
   ]
  },
  {
   "cell_type": "code",
   "execution_count": null,
   "metadata": {},
   "outputs": [],
   "source": [
    "make.plot(\"averageRating-by-sessionCount\", width=5, height=2.5, {\n",
    "ggplot(ml_user_stats %>% group_by(SessionCount) %>% summarize(MeanAvgRating=mean(MeanRating))) +\n",
    "    aes(x=SessionCount, y=MeanAvgRating) +\n",
    "    geom_bar(stat=\"identity\")+\n",
    "    scale_x_continuous(limits = c(0,45))+ \n",
    "    ylab(\"Mean Average Rating\") +\n",
    "    xlab(\"Session Count\")+\n",
    "    coord_cartesian(ylim = c(3, 4)) +\n",
    "    geom_smooth(method = \"lm\")+\n",
    "    theme_bw()\n",
    "})"
   ]
  },
  {
   "cell_type": "markdown",
   "metadata": {},
   "source": [
    "Now, let's examine popularity preference."
   ]
  },
  {
   "cell_type": "code",
   "execution_count": null,
   "metadata": {},
   "outputs": [],
   "source": [
    "make.plot(\"itemPopularity-by-sessionCount\", width=5, height=2.5, {\n",
    "ggplot(ml_user_stats %>% group_by(SessionCount) %>% summarize(MeanPop=mean(MeanPopRank))) +\n",
    "    aes(x=SessionCount, y=MeanPop) +\n",
    "    geom_bar(stat=\"identity\") +\n",
    "    ylab(\"Mean Average Popularity\") +\n",
    "    xlab(\"Session Count\")+\n",
    "#    ggtitle(\"Popularity Preference by Session Count\") + \n",
    "    \n",
    "    scale_x_continuous(limits = c(0, 45))  +\n",
    "    geom_smooth(method = \"lm\")+\n",
    "    theme_bw()\n",
    "    })"
   ]
  },
  {
   "cell_type": "markdown",
   "metadata": {},
   "source": [
    "Users with more sessions tend to rate more popular items."
   ]
  },
  {
   "cell_type": "code",
   "execution_count": null,
   "metadata": {
    "collapsed": true
   },
   "outputs": [],
   "source": []
  },
  {
   "cell_type": "code",
   "execution_count": null,
   "metadata": {
    "collapsed": true
   },
   "outputs": [],
   "source": []
  },
  {
   "cell_type": "code",
   "execution_count": null,
   "metadata": {
    "collapsed": true
   },
   "outputs": [],
   "source": []
  },
  {
   "cell_type": "code",
   "execution_count": null,
   "metadata": {
    "collapsed": true
   },
   "outputs": [],
   "source": []
  }
 ],
 "metadata": {
  "anaconda-cloud": {},
  "kernelspec": {
   "display_name": "R",
   "language": "R",
   "name": "ir"
  },
  "language_info": {
   "codemirror_mode": "r",
   "file_extension": ".r",
   "mimetype": "text/x-r-source",
   "name": "R",
   "pygments_lexer": "r",
   "version": "3.3.2"
  }
 },
 "nbformat": 4,
 "nbformat_minor": 2
}
