{
 "cells": [
  {
   "cell_type": "markdown",
   "metadata": {},
   "source": [
    "### User Gender Balance for ml-1m and last.FM datasets"
   ]
  },
  {
   "cell_type": "code",
   "execution_count": 13,
   "metadata": {
    "collapsed": true
   },
   "outputs": [],
   "source": [
    "library(dplyr)\n",
    "library(readr)"
   ]
  },
  {
   "cell_type": "code",
   "execution_count": 14,
   "metadata": {
    "collapsed": true
   },
   "outputs": [],
   "source": [
    "options(repr.plot.height=5)\n",
    "options(repr.matrix.max.rows=10)\n",
    "options(repr.matrix.max.columns=10)"
   ]
  },
  {
   "cell_type": "markdown",
   "metadata": {},
   "source": [
    "### Load MoveLens Data"
   ]
  },
  {
   "cell_type": "code",
   "execution_count": 15,
   "metadata": {},
   "outputs": [
    {
     "data": {
      "text/html": [
       "<table>\n",
       "<thead><tr><th scope=col>user</th><th scope=col>item</th><th scope=col>rating</th><th scope=col>timestamp</th></tr></thead>\n",
       "<tbody>\n",
       "\t<tr><td>1        </td><td>1193     </td><td>5        </td><td>978300760</td></tr>\n",
       "\t<tr><td>1        </td><td> 661     </td><td>3        </td><td>978302109</td></tr>\n",
       "\t<tr><td>1        </td><td> 914     </td><td>3        </td><td>978301968</td></tr>\n",
       "\t<tr><td>1        </td><td>3408     </td><td>4        </td><td>978300275</td></tr>\n",
       "\t<tr><td>1        </td><td>2355     </td><td>5        </td><td>978824291</td></tr>\n",
       "\t<tr><td>⋮</td><td>⋮</td><td>⋮</td><td>⋮</td></tr>\n",
       "\t<tr><td>6040     </td><td>1091     </td><td>1        </td><td>956716541</td></tr>\n",
       "\t<tr><td>6040     </td><td>1094     </td><td>5        </td><td>956704887</td></tr>\n",
       "\t<tr><td>6040     </td><td> 562     </td><td>5        </td><td>956704746</td></tr>\n",
       "\t<tr><td>6040     </td><td>1096     </td><td>4        </td><td>956715648</td></tr>\n",
       "\t<tr><td>6040     </td><td>1097     </td><td>4        </td><td>956715569</td></tr>\n",
       "</tbody>\n",
       "</table>\n"
      ],
      "text/latex": [
       "\\begin{tabular}{r|llll}\n",
       " user & item & rating & timestamp\\\\\n",
       "\\hline\n",
       "\t 1         & 1193      & 5         & 978300760\\\\\n",
       "\t 1         &  661      & 3         & 978302109\\\\\n",
       "\t 1         &  914      & 3         & 978301968\\\\\n",
       "\t 1         & 3408      & 4         & 978300275\\\\\n",
       "\t 1         & 2355      & 5         & 978824291\\\\\n",
       "\t ⋮ & ⋮ & ⋮ & ⋮\\\\\n",
       "\t 6040      & 1091      & 1         & 956716541\\\\\n",
       "\t 6040      & 1094      & 5         & 956704887\\\\\n",
       "\t 6040      &  562      & 5         & 956704746\\\\\n",
       "\t 6040      & 1096      & 4         & 956715648\\\\\n",
       "\t 6040      & 1097      & 4         & 956715569\\\\\n",
       "\\end{tabular}\n"
      ],
      "text/markdown": [
       "\n",
       "user | item | rating | timestamp | \n",
       "|---|---|---|---|---|---|---|---|---|---|---|\n",
       "| 1         | 1193      | 5         | 978300760 | \n",
       "| 1         |  661      | 3         | 978302109 | \n",
       "| 1         |  914      | 3         | 978301968 | \n",
       "| 1         | 3408      | 4         | 978300275 | \n",
       "| 1         | 2355      | 5         | 978824291 | \n",
       "| ⋮ | ⋮ | ⋮ | ⋮ | \n",
       "| 6040      | 1091      | 1         | 956716541 | \n",
       "| 6040      | 1094      | 5         | 956704887 | \n",
       "| 6040      |  562      | 5         | 956704746 | \n",
       "| 6040      | 1096      | 4         | 956715648 | \n",
       "| 6040      | 1097      | 4         | 956715569 | \n",
       "\n",
       "\n"
      ],
      "text/plain": [
       "        user item rating timestamp\n",
       "1       1    1193 5      978300760\n",
       "2       1     661 3      978302109\n",
       "3       1     914 3      978301968\n",
       "4       1    3408 4      978300275\n",
       "5       1    2355 5      978824291\n",
       "⋮       ⋮    ⋮    ⋮      ⋮        \n",
       "1000205 6040 1091 1      956716541\n",
       "1000206 6040 1094 5      956704887\n",
       "1000207 6040  562 5      956704746\n",
       "1000208 6040 1096 4      956715648\n",
       "1000209 6040 1097 4      956715569"
      ]
     },
     "metadata": {},
     "output_type": "display_data"
    }
   ],
   "source": [
    "ml_ratings = read_delim(\"data/ml-1m/ratings.dat\", delim=\":\",\n",
    "                        col_names=c(\"user\", \"item\", \"rating\", \"timestamp\"),\n",
    "                        col_types=\"i_i_i_i\")\n",
    "ml_ratings"
   ]
  },
  {
   "cell_type": "markdown",
   "metadata": {},
   "source": [
    "Load user info"
   ]
  },
  {
   "cell_type": "code",
   "execution_count": 16,
   "metadata": {},
   "outputs": [
    {
     "data": {
      "text/html": [
       "<table>\n",
       "<thead><tr><th scope=col>user</th><th scope=col>gender</th><th scope=col>age</th><th scope=col>occupation</th><th scope=col>zip</th></tr></thead>\n",
       "<tbody>\n",
       "\t<tr><td>1    </td><td>F    </td><td>1    </td><td>10   </td><td>48067</td></tr>\n",
       "\t<tr><td>2    </td><td>M    </td><td>56   </td><td>16   </td><td>70072</td></tr>\n",
       "\t<tr><td>3    </td><td>M    </td><td>25   </td><td>15   </td><td>55117</td></tr>\n",
       "\t<tr><td>4    </td><td>M    </td><td>45   </td><td>7    </td><td>02460</td></tr>\n",
       "\t<tr><td>5    </td><td>M    </td><td>25   </td><td>20   </td><td>55455</td></tr>\n",
       "\t<tr><td>⋮</td><td>⋮</td><td>⋮</td><td>⋮</td><td>⋮</td></tr>\n",
       "\t<tr><td>6036 </td><td>F    </td><td>25   </td><td>15   </td><td>32603</td></tr>\n",
       "\t<tr><td>6037 </td><td>F    </td><td>45   </td><td>1    </td><td>76006</td></tr>\n",
       "\t<tr><td>6038 </td><td>F    </td><td>56   </td><td>1    </td><td>14706</td></tr>\n",
       "\t<tr><td>6039 </td><td>F    </td><td>45   </td><td>0    </td><td>01060</td></tr>\n",
       "\t<tr><td>6040 </td><td>M    </td><td>25   </td><td>6    </td><td>11106</td></tr>\n",
       "</tbody>\n",
       "</table>\n"
      ],
      "text/latex": [
       "\\begin{tabular}{r|lllll}\n",
       " user & gender & age & occupation & zip\\\\\n",
       "\\hline\n",
       "\t 1     & F     & 1     & 10    & 48067\\\\\n",
       "\t 2     & M     & 56    & 16    & 70072\\\\\n",
       "\t 3     & M     & 25    & 15    & 55117\\\\\n",
       "\t 4     & M     & 45    & 7     & 02460\\\\\n",
       "\t 5     & M     & 25    & 20    & 55455\\\\\n",
       "\t ⋮ & ⋮ & ⋮ & ⋮ & ⋮\\\\\n",
       "\t 6036  & F     & 25    & 15    & 32603\\\\\n",
       "\t 6037  & F     & 45    & 1     & 76006\\\\\n",
       "\t 6038  & F     & 56    & 1     & 14706\\\\\n",
       "\t 6039  & F     & 45    & 0     & 01060\\\\\n",
       "\t 6040  & M     & 25    & 6     & 11106\\\\\n",
       "\\end{tabular}\n"
      ],
      "text/markdown": [
       "\n",
       "user | gender | age | occupation | zip | \n",
       "|---|---|---|---|---|---|---|---|---|---|---|\n",
       "| 1     | F     | 1     | 10    | 48067 | \n",
       "| 2     | M     | 56    | 16    | 70072 | \n",
       "| 3     | M     | 25    | 15    | 55117 | \n",
       "| 4     | M     | 45    | 7     | 02460 | \n",
       "| 5     | M     | 25    | 20    | 55455 | \n",
       "| ⋮ | ⋮ | ⋮ | ⋮ | ⋮ | \n",
       "| 6036  | F     | 25    | 15    | 32603 | \n",
       "| 6037  | F     | 45    | 1     | 76006 | \n",
       "| 6038  | F     | 56    | 1     | 14706 | \n",
       "| 6039  | F     | 45    | 0     | 01060 | \n",
       "| 6040  | M     | 25    | 6     | 11106 | \n",
       "\n",
       "\n"
      ],
      "text/plain": [
       "     user gender age occupation zip  \n",
       "1    1    F      1   10         48067\n",
       "2    2    M      56  16         70072\n",
       "3    3    M      25  15         55117\n",
       "4    4    M      45  7          02460\n",
       "5    5    M      25  20         55455\n",
       "⋮    ⋮    ⋮      ⋮   ⋮          ⋮    \n",
       "6036 6036 F      25  15         32603\n",
       "6037 6037 F      45  1          76006\n",
       "6038 6038 F      56  1          14706\n",
       "6039 6039 F      45  0          01060\n",
       "6040 6040 M      25  6          11106"
      ]
     },
     "metadata": {},
     "output_type": "display_data"
    }
   ],
   "source": [
    "ml_users = read_delim(\"data/ml-1m/users.dat\", delim=\":\",\n",
    "                      col_names=c(\"user\", \"gender\", \"age\", \"occupation\", \"zip\"),\n",
    "                      col_types=\"i_c_c_c_c\") %>%\n",
    "    mutate(gender=as.factor(gender),\n",
    "           age=as.factor(age),\n",
    "           occupation=as.factor(occupation))\n",
    "ml_users"
   ]
  },
  {
   "cell_type": "markdown",
   "metadata": {},
   "source": [
    "Join gender info with user ratings"
   ]
  },
  {
   "cell_type": "code",
   "execution_count": 17,
   "metadata": {},
   "outputs": [
    {
     "name": "stderr",
     "output_type": "stream",
     "text": [
      "Joining, by = \"user\"\n"
     ]
    },
    {
     "data": {
      "text/html": [
       "<table>\n",
       "<thead><tr><th scope=col>user</th><th scope=col>item</th><th scope=col>rating</th><th scope=col>timestamp</th><th scope=col>gender</th></tr></thead>\n",
       "<tbody>\n",
       "\t<tr><td>1        </td><td>1193     </td><td>5        </td><td>978300760</td><td>F        </td></tr>\n",
       "\t<tr><td>1        </td><td> 661     </td><td>3        </td><td>978302109</td><td>F        </td></tr>\n",
       "\t<tr><td>1        </td><td> 914     </td><td>3        </td><td>978301968</td><td>F        </td></tr>\n",
       "\t<tr><td>1        </td><td>3408     </td><td>4        </td><td>978300275</td><td>F        </td></tr>\n",
       "\t<tr><td>1        </td><td>2355     </td><td>5        </td><td>978824291</td><td>F        </td></tr>\n",
       "\t<tr><td>⋮</td><td>⋮</td><td>⋮</td><td>⋮</td><td>⋮</td></tr>\n",
       "\t<tr><td>6040     </td><td>1091     </td><td>1        </td><td>956716541</td><td>M        </td></tr>\n",
       "\t<tr><td>6040     </td><td>1094     </td><td>5        </td><td>956704887</td><td>M        </td></tr>\n",
       "\t<tr><td>6040     </td><td> 562     </td><td>5        </td><td>956704746</td><td>M        </td></tr>\n",
       "\t<tr><td>6040     </td><td>1096     </td><td>4        </td><td>956715648</td><td>M        </td></tr>\n",
       "\t<tr><td>6040     </td><td>1097     </td><td>4        </td><td>956715569</td><td>M        </td></tr>\n",
       "</tbody>\n",
       "</table>\n"
      ],
      "text/latex": [
       "\\begin{tabular}{r|lllll}\n",
       " user & item & rating & timestamp & gender\\\\\n",
       "\\hline\n",
       "\t 1         & 1193      & 5         & 978300760 & F        \\\\\n",
       "\t 1         &  661      & 3         & 978302109 & F        \\\\\n",
       "\t 1         &  914      & 3         & 978301968 & F        \\\\\n",
       "\t 1         & 3408      & 4         & 978300275 & F        \\\\\n",
       "\t 1         & 2355      & 5         & 978824291 & F        \\\\\n",
       "\t ⋮ & ⋮ & ⋮ & ⋮ & ⋮\\\\\n",
       "\t 6040      & 1091      & 1         & 956716541 & M        \\\\\n",
       "\t 6040      & 1094      & 5         & 956704887 & M        \\\\\n",
       "\t 6040      &  562      & 5         & 956704746 & M        \\\\\n",
       "\t 6040      & 1096      & 4         & 956715648 & M        \\\\\n",
       "\t 6040      & 1097      & 4         & 956715569 & M        \\\\\n",
       "\\end{tabular}\n"
      ],
      "text/markdown": [
       "\n",
       "user | item | rating | timestamp | gender | \n",
       "|---|---|---|---|---|---|---|---|---|---|---|\n",
       "| 1         | 1193      | 5         | 978300760 | F         | \n",
       "| 1         |  661      | 3         | 978302109 | F         | \n",
       "| 1         |  914      | 3         | 978301968 | F         | \n",
       "| 1         | 3408      | 4         | 978300275 | F         | \n",
       "| 1         | 2355      | 5         | 978824291 | F         | \n",
       "| ⋮ | ⋮ | ⋮ | ⋮ | ⋮ | \n",
       "| 6040      | 1091      | 1         | 956716541 | M         | \n",
       "| 6040      | 1094      | 5         | 956704887 | M         | \n",
       "| 6040      |  562      | 5         | 956704746 | M         | \n",
       "| 6040      | 1096      | 4         | 956715648 | M         | \n",
       "| 6040      | 1097      | 4         | 956715569 | M         | \n",
       "\n",
       "\n"
      ],
      "text/plain": [
       "        user item rating timestamp gender\n",
       "1       1    1193 5      978300760 F     \n",
       "2       1     661 3      978302109 F     \n",
       "3       1     914 3      978301968 F     \n",
       "4       1    3408 4      978300275 F     \n",
       "5       1    2355 5      978824291 F     \n",
       "⋮       ⋮    ⋮    ⋮      ⋮         ⋮     \n",
       "1000205 6040 1091 1      956716541 M     \n",
       "1000206 6040 1094 5      956704887 M     \n",
       "1000207 6040  562 5      956704746 M     \n",
       "1000208 6040 1096 4      956715648 M     \n",
       "1000209 6040 1097 4      956715569 M     "
      ]
     },
     "metadata": {},
     "output_type": "display_data"
    }
   ],
   "source": [
    "ml_ratings_gender = ml_ratings %>%\n",
    "    inner_join(ml_users %>% select(user, gender))\n",
    "ml_ratings_gender"
   ]
  },
  {
   "cell_type": "markdown",
   "metadata": {},
   "source": [
    "Filter Male and Female ratings in order to sample "
   ]
  },
  {
   "cell_type": "code",
   "execution_count": 18,
   "metadata": {},
   "outputs": [
    {
     "data": {
      "text/html": [
       "<table>\n",
       "<thead><tr><th scope=col>user</th><th scope=col>item</th><th scope=col>rating</th><th scope=col>timestamp</th><th scope=col>gender</th></tr></thead>\n",
       "<tbody>\n",
       "\t<tr><td>2        </td><td>1357     </td><td>5        </td><td>978298709</td><td>M        </td></tr>\n",
       "\t<tr><td>2        </td><td>3068     </td><td>4        </td><td>978299000</td><td>M        </td></tr>\n",
       "\t<tr><td>2        </td><td>1537     </td><td>4        </td><td>978299620</td><td>M        </td></tr>\n",
       "\t<tr><td>2        </td><td> 647     </td><td>3        </td><td>978299351</td><td>M        </td></tr>\n",
       "\t<tr><td>2        </td><td>2194     </td><td>4        </td><td>978299297</td><td>M        </td></tr>\n",
       "\t<tr><td>⋮</td><td>⋮</td><td>⋮</td><td>⋮</td><td>⋮</td></tr>\n",
       "\t<tr><td>6040     </td><td>1091     </td><td>1        </td><td>956716541</td><td>M        </td></tr>\n",
       "\t<tr><td>6040     </td><td>1094     </td><td>5        </td><td>956704887</td><td>M        </td></tr>\n",
       "\t<tr><td>6040     </td><td> 562     </td><td>5        </td><td>956704746</td><td>M        </td></tr>\n",
       "\t<tr><td>6040     </td><td>1096     </td><td>4        </td><td>956715648</td><td>M        </td></tr>\n",
       "\t<tr><td>6040     </td><td>1097     </td><td>4        </td><td>956715569</td><td>M        </td></tr>\n",
       "</tbody>\n",
       "</table>\n"
      ],
      "text/latex": [
       "\\begin{tabular}{r|lllll}\n",
       " user & item & rating & timestamp & gender\\\\\n",
       "\\hline\n",
       "\t 2         & 1357      & 5         & 978298709 & M        \\\\\n",
       "\t 2         & 3068      & 4         & 978299000 & M        \\\\\n",
       "\t 2         & 1537      & 4         & 978299620 & M        \\\\\n",
       "\t 2         &  647      & 3         & 978299351 & M        \\\\\n",
       "\t 2         & 2194      & 4         & 978299297 & M        \\\\\n",
       "\t ⋮ & ⋮ & ⋮ & ⋮ & ⋮\\\\\n",
       "\t 6040      & 1091      & 1         & 956716541 & M        \\\\\n",
       "\t 6040      & 1094      & 5         & 956704887 & M        \\\\\n",
       "\t 6040      &  562      & 5         & 956704746 & M        \\\\\n",
       "\t 6040      & 1096      & 4         & 956715648 & M        \\\\\n",
       "\t 6040      & 1097      & 4         & 956715569 & M        \\\\\n",
       "\\end{tabular}\n"
      ],
      "text/markdown": [
       "\n",
       "user | item | rating | timestamp | gender | \n",
       "|---|---|---|---|---|---|---|---|---|---|---|\n",
       "| 2         | 1357      | 5         | 978298709 | M         | \n",
       "| 2         | 3068      | 4         | 978299000 | M         | \n",
       "| 2         | 1537      | 4         | 978299620 | M         | \n",
       "| 2         |  647      | 3         | 978299351 | M         | \n",
       "| 2         | 2194      | 4         | 978299297 | M         | \n",
       "| ⋮ | ⋮ | ⋮ | ⋮ | ⋮ | \n",
       "| 6040      | 1091      | 1         | 956716541 | M         | \n",
       "| 6040      | 1094      | 5         | 956704887 | M         | \n",
       "| 6040      |  562      | 5         | 956704746 | M         | \n",
       "| 6040      | 1096      | 4         | 956715648 | M         | \n",
       "| 6040      | 1097      | 4         | 956715569 | M         | \n",
       "\n",
       "\n"
      ],
      "text/plain": [
       "       user item rating timestamp gender\n",
       "1      2    1357 5      978298709 M     \n",
       "2      2    3068 4      978299000 M     \n",
       "3      2    1537 4      978299620 M     \n",
       "4      2     647 3      978299351 M     \n",
       "5      2    2194 4      978299297 M     \n",
       "⋮      ⋮    ⋮    ⋮      ⋮         ⋮     \n",
       "753765 6040 1091 1      956716541 M     \n",
       "753766 6040 1094 5      956704887 M     \n",
       "753767 6040  562 5      956704746 M     \n",
       "753768 6040 1096 4      956715648 M     \n",
       "753769 6040 1097 4      956715569 M     "
      ]
     },
     "metadata": {},
     "output_type": "display_data"
    },
    {
     "data": {
      "text/html": [
       "<table>\n",
       "<thead><tr><th scope=col>user</th><th scope=col>item</th><th scope=col>rating</th><th scope=col>timestamp</th><th scope=col>gender</th></tr></thead>\n",
       "<tbody>\n",
       "\t<tr><td>1        </td><td>1193     </td><td>5        </td><td>978300760</td><td>F        </td></tr>\n",
       "\t<tr><td>1        </td><td> 661     </td><td>3        </td><td>978302109</td><td>F        </td></tr>\n",
       "\t<tr><td>1        </td><td> 914     </td><td>3        </td><td>978301968</td><td>F        </td></tr>\n",
       "\t<tr><td>1        </td><td>3408     </td><td>4        </td><td>978300275</td><td>F        </td></tr>\n",
       "\t<tr><td>1        </td><td>2355     </td><td>5        </td><td>978824291</td><td>F        </td></tr>\n",
       "\t<tr><td>⋮</td><td>⋮</td><td>⋮</td><td>⋮</td><td>⋮</td></tr>\n",
       "\t<tr><td>6039     </td><td>1081     </td><td>4        </td><td>956705989</td><td>F        </td></tr>\n",
       "\t<tr><td>6039     </td><td>1083     </td><td>3        </td><td>956706051</td><td>F        </td></tr>\n",
       "\t<tr><td>6039     </td><td>1086     </td><td>4        </td><td>956706182</td><td>F        </td></tr>\n",
       "\t<tr><td>6039     </td><td>1088     </td><td>4        </td><td>956706019</td><td>F        </td></tr>\n",
       "\t<tr><td>6039     </td><td>1097     </td><td>4        </td><td>956705811</td><td>F        </td></tr>\n",
       "</tbody>\n",
       "</table>\n"
      ],
      "text/latex": [
       "\\begin{tabular}{r|lllll}\n",
       " user & item & rating & timestamp & gender\\\\\n",
       "\\hline\n",
       "\t 1         & 1193      & 5         & 978300760 & F        \\\\\n",
       "\t 1         &  661      & 3         & 978302109 & F        \\\\\n",
       "\t 1         &  914      & 3         & 978301968 & F        \\\\\n",
       "\t 1         & 3408      & 4         & 978300275 & F        \\\\\n",
       "\t 1         & 2355      & 5         & 978824291 & F        \\\\\n",
       "\t ⋮ & ⋮ & ⋮ & ⋮ & ⋮\\\\\n",
       "\t 6039      & 1081      & 4         & 956705989 & F        \\\\\n",
       "\t 6039      & 1083      & 3         & 956706051 & F        \\\\\n",
       "\t 6039      & 1086      & 4         & 956706182 & F        \\\\\n",
       "\t 6039      & 1088      & 4         & 956706019 & F        \\\\\n",
       "\t 6039      & 1097      & 4         & 956705811 & F        \\\\\n",
       "\\end{tabular}\n"
      ],
      "text/markdown": [
       "\n",
       "user | item | rating | timestamp | gender | \n",
       "|---|---|---|---|---|---|---|---|---|---|---|\n",
       "| 1         | 1193      | 5         | 978300760 | F         | \n",
       "| 1         |  661      | 3         | 978302109 | F         | \n",
       "| 1         |  914      | 3         | 978301968 | F         | \n",
       "| 1         | 3408      | 4         | 978300275 | F         | \n",
       "| 1         | 2355      | 5         | 978824291 | F         | \n",
       "| ⋮ | ⋮ | ⋮ | ⋮ | ⋮ | \n",
       "| 6039      | 1081      | 4         | 956705989 | F         | \n",
       "| 6039      | 1083      | 3         | 956706051 | F         | \n",
       "| 6039      | 1086      | 4         | 956706182 | F         | \n",
       "| 6039      | 1088      | 4         | 956706019 | F         | \n",
       "| 6039      | 1097      | 4         | 956705811 | F         | \n",
       "\n",
       "\n"
      ],
      "text/plain": [
       "       user item rating timestamp gender\n",
       "1      1    1193 5      978300760 F     \n",
       "2      1     661 3      978302109 F     \n",
       "3      1     914 3      978301968 F     \n",
       "4      1    3408 4      978300275 F     \n",
       "5      1    2355 5      978824291 F     \n",
       "⋮      ⋮    ⋮    ⋮      ⋮         ⋮     \n",
       "246436 6039 1081 4      956705989 F     \n",
       "246437 6039 1083 3      956706051 F     \n",
       "246438 6039 1086 4      956706182 F     \n",
       "246439 6039 1088 4      956706019 F     \n",
       "246440 6039 1097 4      956705811 F     "
      ]
     },
     "metadata": {},
     "output_type": "display_data"
    }
   ],
   "source": [
    "ml_ratings_M = ml_ratings_gender %>%\n",
    "    filter(gender=='M')\n",
    "ml_ratings_M\n",
    "ml_ratings_F = ml_ratings_gender %>%\n",
    "    filter(gender=='F')\n",
    "ml_ratings_F"
   ]
  },
  {
   "cell_type": "markdown",
   "metadata": {},
   "source": [
    "Filter distinct female and male users"
   ]
  },
  {
   "cell_type": "code",
   "execution_count": 19,
   "metadata": {},
   "outputs": [
    {
     "data": {
      "text/html": [
       "1709"
      ],
      "text/latex": [
       "1709"
      ],
      "text/markdown": [
       "1709"
      ],
      "text/plain": [
       "[1] 1709"
      ]
     },
     "metadata": {},
     "output_type": "display_data"
    }
   ],
   "source": [
    "ml_distinct_F = ml_ratings_F %>%\n",
    "    select(user) %>%\n",
    "    distinct()\n",
    "ml_distinct_F %>% \n",
    "    nrow()"
   ]
  },
  {
   "cell_type": "code",
   "execution_count": 20,
   "metadata": {},
   "outputs": [
    {
     "data": {
      "text/html": [
       "4331"
      ],
      "text/latex": [
       "4331"
      ],
      "text/markdown": [
       "4331"
      ],
      "text/plain": [
       "[1] 4331"
      ]
     },
     "metadata": {},
     "output_type": "display_data"
    }
   ],
   "source": [
    "ml_distinct_M = ml_ratings_M %>%\n",
    "    select(user) %>%\n",
    "    distinct()\n",
    "ml_distinct_M %>%\n",
    "    nrow()"
   ]
  },
  {
   "cell_type": "markdown",
   "metadata": {},
   "source": [
    "Sample same size user in two group\n",
    "Sample size is equal to totoal female size"
   ]
  },
  {
   "cell_type": "code",
   "execution_count": 21,
   "metadata": {
    "collapsed": true
   },
   "outputs": [],
   "source": [
    "size = 1500\n",
    "ml_sample_M = ml_distinct_M %>%\n",
    "    sample_n(size=size,replace=FALSE)\n",
    "ml_sample_F = ml_distinct_F %>%\n",
    "    sample_n(size=size,replace=FALSE)"
   ]
  },
  {
   "cell_type": "code",
   "execution_count": 22,
   "metadata": {},
   "outputs": [
    {
     "data": {
      "text/html": [
       "1500"
      ],
      "text/latex": [
       "1500"
      ],
      "text/markdown": [
       "1500"
      ],
      "text/plain": [
       "[1] 1500"
      ]
     },
     "metadata": {},
     "output_type": "display_data"
    },
    {
     "data": {
      "text/html": [
       "1500"
      ],
      "text/latex": [
       "1500"
      ],
      "text/markdown": [
       "1500"
      ],
      "text/plain": [
       "[1] 1500"
      ]
     },
     "metadata": {},
     "output_type": "display_data"
    }
   ],
   "source": [
    "ml_sample_M %>%\n",
    "    nrow()\n",
    "ml_sample_F %>%\n",
    "    nrow()"
   ]
  },
  {
   "cell_type": "markdown",
   "metadata": {},
   "source": [
    "Combine sample users with rating data"
   ]
  },
  {
   "cell_type": "code",
   "execution_count": 23,
   "metadata": {},
   "outputs": [
    {
     "name": "stderr",
     "output_type": "stream",
     "text": [
      "Joining, by = \"user\"\n",
      "Joining, by = \"user\"\n"
     ]
    }
   ],
   "source": [
    "ml_ratings_sample_M = ml_ratings_M %>%\n",
    "    inner_join(ml_sample_M)\n",
    "ml_ratings_sample_F = ml_ratings_F %>%\n",
    "    inner_join(ml_sample_F)"
   ]
  },
  {
   "cell_type": "code",
   "execution_count": 24,
   "metadata": {},
   "outputs": [
    {
     "data": {
      "text/html": [
       "<table>\n",
       "<thead><tr><th scope=col>user</th><th scope=col>item</th><th scope=col>rating</th><th scope=col>timestamp</th><th scope=col>gender</th></tr></thead>\n",
       "<tbody>\n",
       "\t<tr><td>7        </td><td> 648     </td><td>4        </td><td>978234737</td><td>M        </td></tr>\n",
       "\t<tr><td>7        </td><td> 861     </td><td>4        </td><td>978234874</td><td>M        </td></tr>\n",
       "\t<tr><td>7        </td><td>2916     </td><td>5        </td><td>978234842</td><td>M        </td></tr>\n",
       "\t<tr><td>7        </td><td>3578     </td><td>3        </td><td>978234737</td><td>M        </td></tr>\n",
       "\t<tr><td>7        </td><td>3793     </td><td>3        </td><td>978234737</td><td>M        </td></tr>\n",
       "\t<tr><td>⋮</td><td>⋮</td><td>⋮</td><td>⋮</td><td>⋮</td></tr>\n",
       "\t<tr><td>6034     </td><td>1345     </td><td>4        </td><td>956711771</td><td>M        </td></tr>\n",
       "\t<tr><td>6034     </td><td>3334     </td><td>3        </td><td>956712333</td><td>M        </td></tr>\n",
       "\t<tr><td>6034     </td><td>2726     </td><td>5        </td><td>956712258</td><td>M        </td></tr>\n",
       "\t<tr><td>6034     </td><td> 527     </td><td>4        </td><td>956711771</td><td>M        </td></tr>\n",
       "\t<tr><td>6034     </td><td> 541     </td><td>5        </td><td>956712258</td><td>M        </td></tr>\n",
       "</tbody>\n",
       "</table>\n"
      ],
      "text/latex": [
       "\\begin{tabular}{r|lllll}\n",
       " user & item & rating & timestamp & gender\\\\\n",
       "\\hline\n",
       "\t 7         &  648      & 4         & 978234737 & M        \\\\\n",
       "\t 7         &  861      & 4         & 978234874 & M        \\\\\n",
       "\t 7         & 2916      & 5         & 978234842 & M        \\\\\n",
       "\t 7         & 3578      & 3         & 978234737 & M        \\\\\n",
       "\t 7         & 3793      & 3         & 978234737 & M        \\\\\n",
       "\t ⋮ & ⋮ & ⋮ & ⋮ & ⋮\\\\\n",
       "\t 6034      & 1345      & 4         & 956711771 & M        \\\\\n",
       "\t 6034      & 3334      & 3         & 956712333 & M        \\\\\n",
       "\t 6034      & 2726      & 5         & 956712258 & M        \\\\\n",
       "\t 6034      &  527      & 4         & 956711771 & M        \\\\\n",
       "\t 6034      &  541      & 5         & 956712258 & M        \\\\\n",
       "\\end{tabular}\n"
      ],
      "text/markdown": [
       "\n",
       "user | item | rating | timestamp | gender | \n",
       "|---|---|---|---|---|---|---|---|---|---|---|\n",
       "| 7         |  648      | 4         | 978234737 | M         | \n",
       "| 7         |  861      | 4         | 978234874 | M         | \n",
       "| 7         | 2916      | 5         | 978234842 | M         | \n",
       "| 7         | 3578      | 3         | 978234737 | M         | \n",
       "| 7         | 3793      | 3         | 978234737 | M         | \n",
       "| ⋮ | ⋮ | ⋮ | ⋮ | ⋮ | \n",
       "| 6034      | 1345      | 4         | 956711771 | M         | \n",
       "| 6034      | 3334      | 3         | 956712333 | M         | \n",
       "| 6034      | 2726      | 5         | 956712258 | M         | \n",
       "| 6034      |  527      | 4         | 956711771 | M         | \n",
       "| 6034      |  541      | 5         | 956712258 | M         | \n",
       "\n",
       "\n"
      ],
      "text/plain": [
       "       user item rating timestamp gender\n",
       "1      7     648 4      978234737 M     \n",
       "2      7     861 4      978234874 M     \n",
       "3      7    2916 5      978234842 M     \n",
       "4      7    3578 3      978234737 M     \n",
       "5      7    3793 3      978234737 M     \n",
       "⋮      ⋮    ⋮    ⋮      ⋮         ⋮     \n",
       "270165 6034 1345 4      956711771 M     \n",
       "270166 6034 3334 3      956712333 M     \n",
       "270167 6034 2726 5      956712258 M     \n",
       "270168 6034  527 4      956711771 M     \n",
       "270169 6034  541 5      956712258 M     "
      ]
     },
     "metadata": {},
     "output_type": "display_data"
    },
    {
     "data": {
      "text/html": [
       "<table>\n",
       "<thead><tr><th scope=col>user</th><th scope=col>item</th><th scope=col>rating</th><th scope=col>timestamp</th><th scope=col>gender</th></tr></thead>\n",
       "<tbody>\n",
       "\t<tr><td>1        </td><td>1193     </td><td>5        </td><td>978300760</td><td>F        </td></tr>\n",
       "\t<tr><td>1        </td><td> 661     </td><td>3        </td><td>978302109</td><td>F        </td></tr>\n",
       "\t<tr><td>1        </td><td> 914     </td><td>3        </td><td>978301968</td><td>F        </td></tr>\n",
       "\t<tr><td>1        </td><td>3408     </td><td>4        </td><td>978300275</td><td>F        </td></tr>\n",
       "\t<tr><td>1        </td><td>2355     </td><td>5        </td><td>978824291</td><td>F        </td></tr>\n",
       "\t<tr><td>⋮</td><td>⋮</td><td>⋮</td><td>⋮</td><td>⋮</td></tr>\n",
       "\t<tr><td>6039     </td><td>1081     </td><td>4        </td><td>956705989</td><td>F        </td></tr>\n",
       "\t<tr><td>6039     </td><td>1083     </td><td>3        </td><td>956706051</td><td>F        </td></tr>\n",
       "\t<tr><td>6039     </td><td>1086     </td><td>4        </td><td>956706182</td><td>F        </td></tr>\n",
       "\t<tr><td>6039     </td><td>1088     </td><td>4        </td><td>956706019</td><td>F        </td></tr>\n",
       "\t<tr><td>6039     </td><td>1097     </td><td>4        </td><td>956705811</td><td>F        </td></tr>\n",
       "</tbody>\n",
       "</table>\n"
      ],
      "text/latex": [
       "\\begin{tabular}{r|lllll}\n",
       " user & item & rating & timestamp & gender\\\\\n",
       "\\hline\n",
       "\t 1         & 1193      & 5         & 978300760 & F        \\\\\n",
       "\t 1         &  661      & 3         & 978302109 & F        \\\\\n",
       "\t 1         &  914      & 3         & 978301968 & F        \\\\\n",
       "\t 1         & 3408      & 4         & 978300275 & F        \\\\\n",
       "\t 1         & 2355      & 5         & 978824291 & F        \\\\\n",
       "\t ⋮ & ⋮ & ⋮ & ⋮ & ⋮\\\\\n",
       "\t 6039      & 1081      & 4         & 956705989 & F        \\\\\n",
       "\t 6039      & 1083      & 3         & 956706051 & F        \\\\\n",
       "\t 6039      & 1086      & 4         & 956706182 & F        \\\\\n",
       "\t 6039      & 1088      & 4         & 956706019 & F        \\\\\n",
       "\t 6039      & 1097      & 4         & 956705811 & F        \\\\\n",
       "\\end{tabular}\n"
      ],
      "text/markdown": [
       "\n",
       "user | item | rating | timestamp | gender | \n",
       "|---|---|---|---|---|---|---|---|---|---|---|\n",
       "| 1         | 1193      | 5         | 978300760 | F         | \n",
       "| 1         |  661      | 3         | 978302109 | F         | \n",
       "| 1         |  914      | 3         | 978301968 | F         | \n",
       "| 1         | 3408      | 4         | 978300275 | F         | \n",
       "| 1         | 2355      | 5         | 978824291 | F         | \n",
       "| ⋮ | ⋮ | ⋮ | ⋮ | ⋮ | \n",
       "| 6039      | 1081      | 4         | 956705989 | F         | \n",
       "| 6039      | 1083      | 3         | 956706051 | F         | \n",
       "| 6039      | 1086      | 4         | 956706182 | F         | \n",
       "| 6039      | 1088      | 4         | 956706019 | F         | \n",
       "| 6039      | 1097      | 4         | 956705811 | F         | \n",
       "\n",
       "\n"
      ],
      "text/plain": [
       "       user item rating timestamp gender\n",
       "1      1    1193 5      978300760 F     \n",
       "2      1     661 3      978302109 F     \n",
       "3      1     914 3      978301968 F     \n",
       "4      1    3408 4      978300275 F     \n",
       "5      1    2355 5      978824291 F     \n",
       "⋮      ⋮    ⋮    ⋮      ⋮         ⋮     \n",
       "214467 6039 1081 4      956705989 F     \n",
       "214468 6039 1083 3      956706051 F     \n",
       "214469 6039 1086 4      956706182 F     \n",
       "214470 6039 1088 4      956706019 F     \n",
       "214471 6039 1097 4      956705811 F     "
      ]
     },
     "metadata": {},
     "output_type": "display_data"
    }
   ],
   "source": [
    "ml_ratings_sample_M\n",
    "ml_ratings_sample_F"
   ]
  },
  {
   "cell_type": "markdown",
   "metadata": {},
   "source": [
    "bind two dataframes"
   ]
  },
  {
   "cell_type": "code",
   "execution_count": 25,
   "metadata": {},
   "outputs": [
    {
     "data": {
      "text/html": [
       "<table>\n",
       "<thead><tr><th scope=col>user</th><th scope=col>item</th><th scope=col>rating</th><th scope=col>timestamp</th></tr></thead>\n",
       "<tbody>\n",
       "\t<tr><td>1        </td><td>1193     </td><td>5        </td><td>978300760</td></tr>\n",
       "\t<tr><td>1        </td><td> 661     </td><td>3        </td><td>978302109</td></tr>\n",
       "\t<tr><td>1        </td><td> 914     </td><td>3        </td><td>978301968</td></tr>\n",
       "\t<tr><td>1        </td><td>3408     </td><td>4        </td><td>978300275</td></tr>\n",
       "\t<tr><td>1        </td><td>2355     </td><td>5        </td><td>978824291</td></tr>\n",
       "\t<tr><td>⋮</td><td>⋮</td><td>⋮</td><td>⋮</td></tr>\n",
       "\t<tr><td>6034     </td><td>1345     </td><td>4        </td><td>956711771</td></tr>\n",
       "\t<tr><td>6034     </td><td>3334     </td><td>3        </td><td>956712333</td></tr>\n",
       "\t<tr><td>6034     </td><td>2726     </td><td>5        </td><td>956712258</td></tr>\n",
       "\t<tr><td>6034     </td><td> 527     </td><td>4        </td><td>956711771</td></tr>\n",
       "\t<tr><td>6034     </td><td> 541     </td><td>5        </td><td>956712258</td></tr>\n",
       "</tbody>\n",
       "</table>\n"
      ],
      "text/latex": [
       "\\begin{tabular}{r|llll}\n",
       " user & item & rating & timestamp\\\\\n",
       "\\hline\n",
       "\t 1         & 1193      & 5         & 978300760\\\\\n",
       "\t 1         &  661      & 3         & 978302109\\\\\n",
       "\t 1         &  914      & 3         & 978301968\\\\\n",
       "\t 1         & 3408      & 4         & 978300275\\\\\n",
       "\t 1         & 2355      & 5         & 978824291\\\\\n",
       "\t ⋮ & ⋮ & ⋮ & ⋮\\\\\n",
       "\t 6034      & 1345      & 4         & 956711771\\\\\n",
       "\t 6034      & 3334      & 3         & 956712333\\\\\n",
       "\t 6034      & 2726      & 5         & 956712258\\\\\n",
       "\t 6034      &  527      & 4         & 956711771\\\\\n",
       "\t 6034      &  541      & 5         & 956712258\\\\\n",
       "\\end{tabular}\n"
      ],
      "text/markdown": [
       "\n",
       "user | item | rating | timestamp | \n",
       "|---|---|---|---|---|---|---|---|---|---|---|\n",
       "| 1         | 1193      | 5         | 978300760 | \n",
       "| 1         |  661      | 3         | 978302109 | \n",
       "| 1         |  914      | 3         | 978301968 | \n",
       "| 1         | 3408      | 4         | 978300275 | \n",
       "| 1         | 2355      | 5         | 978824291 | \n",
       "| ⋮ | ⋮ | ⋮ | ⋮ | \n",
       "| 6034      | 1345      | 4         | 956711771 | \n",
       "| 6034      | 3334      | 3         | 956712333 | \n",
       "| 6034      | 2726      | 5         | 956712258 | \n",
       "| 6034      |  527      | 4         | 956711771 | \n",
       "| 6034      |  541      | 5         | 956712258 | \n",
       "\n",
       "\n"
      ],
      "text/plain": [
       "       user item rating timestamp\n",
       "1      1    1193 5      978300760\n",
       "2      1     661 3      978302109\n",
       "3      1     914 3      978301968\n",
       "4      1    3408 4      978300275\n",
       "5      1    2355 5      978824291\n",
       "⋮      ⋮    ⋮    ⋮      ⋮        \n",
       "484636 6034 1345 4      956711771\n",
       "484637 6034 3334 3      956712333\n",
       "484638 6034 2726 5      956712258\n",
       "484639 6034  527 4      956711771\n",
       "484640 6034  541 5      956712258"
      ]
     },
     "metadata": {},
     "output_type": "display_data"
    }
   ],
   "source": [
    "ml_ratings_sample = bind_rows(ml_ratings_sample_F %>% select(user, item, rating, timestamp),\n",
    "                             ml_ratings_sample_M %>% select(user, item, rating, timestamp))\n",
    "ml_ratings_sample"
   ]
  },
  {
   "cell_type": "markdown",
   "metadata": {},
   "source": [
    "Save ml ratings to dat file"
   ]
  },
  {
   "cell_type": "code",
   "execution_count": 26,
   "metadata": {
    "collapsed": true
   },
   "outputs": [],
   "source": [
    "ml_ratings_sample %>%\n",
    "    write_csv(\"data/ml-1m/ml-ratings-sample.csv\", na=\"\")"
   ]
  },
  {
   "cell_type": "markdown",
   "metadata": {},
   "source": [
    "## Load Last.FM data\n",
    "See python notebook"
   ]
  },
  {
   "cell_type": "code",
   "execution_count": 27,
   "metadata": {},
   "outputs": [
    {
     "name": "stderr",
     "output_type": "stream",
     "text": [
      "Parsed with column specification:\n",
      "cols(\n",
      "  user = col_integer(),\n",
      "  item = col_integer(),\n",
      "  count = col_integer()\n",
      ")\n"
     ]
    },
    {
     "data": {
      "text/html": [
       "<table>\n",
       "<thead><tr><th scope=col>user</th><th scope=col>item</th><th scope=col>count</th></tr></thead>\n",
       "<tbody>\n",
       "\t<tr><td>1   </td><td>1   </td><td>2137</td></tr>\n",
       "\t<tr><td>1   </td><td>2   </td><td>1099</td></tr>\n",
       "\t<tr><td>1   </td><td>3   </td><td> 897</td></tr>\n",
       "\t<tr><td>1   </td><td>4   </td><td> 717</td></tr>\n",
       "\t<tr><td>1   </td><td>5   </td><td> 706</td></tr>\n",
       "\t<tr><td>⋮</td><td>⋮</td><td>⋮</td></tr>\n",
       "\t<tr><td>358717</td><td> 800  </td><td>1517  </td></tr>\n",
       "\t<tr><td>358717</td><td> 862  </td><td>1494  </td></tr>\n",
       "\t<tr><td>358717</td><td>1516  </td><td>1128  </td></tr>\n",
       "\t<tr><td>358717</td><td>5547  </td><td>1126  </td></tr>\n",
       "\t<tr><td>358717</td><td> 768  </td><td>1094  </td></tr>\n",
       "</tbody>\n",
       "</table>\n"
      ],
      "text/latex": [
       "\\begin{tabular}{r|lll}\n",
       " user & item & count\\\\\n",
       "\\hline\n",
       "\t 1    & 1    & 2137\\\\\n",
       "\t 1    & 2    & 1099\\\\\n",
       "\t 1    & 3    &  897\\\\\n",
       "\t 1    & 4    &  717\\\\\n",
       "\t 1    & 5    &  706\\\\\n",
       "\t ⋮ & ⋮ & ⋮\\\\\n",
       "\t 358717 &  800   & 1517  \\\\\n",
       "\t 358717 &  862   & 1494  \\\\\n",
       "\t 358717 & 1516   & 1128  \\\\\n",
       "\t 358717 & 5547   & 1126  \\\\\n",
       "\t 358717 &  768   & 1094  \\\\\n",
       "\\end{tabular}\n"
      ],
      "text/markdown": [
       "\n",
       "user | item | count | \n",
       "|---|---|---|---|---|---|---|---|---|---|---|\n",
       "| 1    | 1    | 2137 | \n",
       "| 1    | 2    | 1099 | \n",
       "| 1    | 3    |  897 | \n",
       "| 1    | 4    |  717 | \n",
       "| 1    | 5    |  706 | \n",
       "| ⋮ | ⋮ | ⋮ | \n",
       "| 358717 |  800   | 1517   | \n",
       "| 358717 |  862   | 1494   | \n",
       "| 358717 | 1516   | 1128   | \n",
       "| 358717 | 5547   | 1126   | \n",
       "| 358717 |  768   | 1094   | \n",
       "\n",
       "\n"
      ],
      "text/plain": [
       "        user   item count\n",
       "1       1      1    2137 \n",
       "2       1      2    1099 \n",
       "3       1      3     897 \n",
       "4       1      4     717 \n",
       "5       1      5     706 \n",
       "⋮       ⋮      ⋮    ⋮    \n",
       "6683558 358717  800 1517 \n",
       "6683559 358717  862 1494 \n",
       "6683560 358717 1516 1128 \n",
       "6683561 358717 5547 1126 \n",
       "6683562 358717  768 1094 "
      ]
     },
     "metadata": {},
     "output_type": "display_data"
    }
   ],
   "source": [
    "lfm_play_counts = read_csv(\"build/lastfm-play-counts.csv\")\n",
    "lfm_play_counts"
   ]
  },
  {
   "cell_type": "code",
   "execution_count": 28,
   "metadata": {},
   "outputs": [
    {
     "name": "stderr",
     "output_type": "stream",
     "text": [
      "Parsed with column specification:\n",
      "cols(\n",
      "  id = col_integer(),\n",
      "  key = col_character(),\n",
      "  gender = col_character(),\n",
      "  age = col_integer()\n",
      ")\n"
     ]
    },
    {
     "data": {
      "text/html": [
       "<table>\n",
       "<thead><tr><th scope=col>id</th><th scope=col>key</th><th scope=col>gender</th><th scope=col>age</th></tr></thead>\n",
       "<tbody>\n",
       "\t<tr><td>1                                       </td><td>00000c289a1829a808ac09c00daf10bc3c4e223b</td><td>f                                       </td><td>22                                      </td></tr>\n",
       "\t<tr><td>2                                       </td><td>00001411dc427966b17297bf4d69e7e193135d89</td><td>f                                       </td><td>NA                                      </td></tr>\n",
       "\t<tr><td>3                                       </td><td>00004d2ac9316e22dc007ab2243d6fcb239e707d</td><td>NA                                      </td><td>NA                                      </td></tr>\n",
       "\t<tr><td>4                                       </td><td>000063d3fe1cf2ba248b9e3c3f0334845a27a6bf</td><td>m                                       </td><td>19                                      </td></tr>\n",
       "\t<tr><td>5                                       </td><td>00007a47085b9aab8af55f52ec8846ac479ac4fe</td><td>m                                       </td><td>28                                      </td></tr>\n",
       "\t<tr><td>6                                       </td><td>0000c176103e538d5c9828e695fed4f7ae42dd01</td><td>m                                       </td><td>20                                      </td></tr>\n",
       "</tbody>\n",
       "</table>\n"
      ],
      "text/latex": [
       "\\begin{tabular}{r|llll}\n",
       " id & key & gender & age\\\\\n",
       "\\hline\n",
       "\t 1                                        & 00000c289a1829a808ac09c00daf10bc3c4e223b & f                                        & 22                                      \\\\\n",
       "\t 2                                        & 00001411dc427966b17297bf4d69e7e193135d89 & f                                        & NA                                      \\\\\n",
       "\t 3                                        & 00004d2ac9316e22dc007ab2243d6fcb239e707d & NA                                       & NA                                      \\\\\n",
       "\t 4                                        & 000063d3fe1cf2ba248b9e3c3f0334845a27a6bf & m                                        & 19                                      \\\\\n",
       "\t 5                                        & 00007a47085b9aab8af55f52ec8846ac479ac4fe & m                                        & 28                                      \\\\\n",
       "\t 6                                        & 0000c176103e538d5c9828e695fed4f7ae42dd01 & m                                        & 20                                      \\\\\n",
       "\\end{tabular}\n"
      ],
      "text/markdown": [
       "\n",
       "id | key | gender | age | \n",
       "|---|---|---|---|---|---|\n",
       "| 1                                        | 00000c289a1829a808ac09c00daf10bc3c4e223b | f                                        | 22                                       | \n",
       "| 2                                        | 00001411dc427966b17297bf4d69e7e193135d89 | f                                        | NA                                       | \n",
       "| 3                                        | 00004d2ac9316e22dc007ab2243d6fcb239e707d | NA                                       | NA                                       | \n",
       "| 4                                        | 000063d3fe1cf2ba248b9e3c3f0334845a27a6bf | m                                        | 19                                       | \n",
       "| 5                                        | 00007a47085b9aab8af55f52ec8846ac479ac4fe | m                                        | 28                                       | \n",
       "| 6                                        | 0000c176103e538d5c9828e695fed4f7ae42dd01 | m                                        | 20                                       | \n",
       "\n",
       "\n"
      ],
      "text/plain": [
       "  id key                                      gender age\n",
       "1 1  00000c289a1829a808ac09c00daf10bc3c4e223b f      22 \n",
       "2 2  00001411dc427966b17297bf4d69e7e193135d89 f      NA \n",
       "3 3  00004d2ac9316e22dc007ab2243d6fcb239e707d NA     NA \n",
       "4 4  000063d3fe1cf2ba248b9e3c3f0334845a27a6bf m      19 \n",
       "5 5  00007a47085b9aab8af55f52ec8846ac479ac4fe m      28 \n",
       "6 6  0000c176103e538d5c9828e695fed4f7ae42dd01 m      20 "
      ]
     },
     "metadata": {},
     "output_type": "display_data"
    }
   ],
   "source": [
    "lfm_users_raw = read_csv(\"build/lastfm-users.csv\")\n",
    "head(lfm_users_raw)"
   ]
  },
  {
   "cell_type": "code",
   "execution_count": 29,
   "metadata": {},
   "outputs": [
    {
     "data": {
      "text/html": [
       "<table>\n",
       "<thead><tr><th scope=col>user</th><th scope=col>gender</th></tr></thead>\n",
       "<tbody>\n",
       "\t<tr><td>1 </td><td>F </td></tr>\n",
       "\t<tr><td>2 </td><td>F </td></tr>\n",
       "\t<tr><td>3 </td><td>NA</td></tr>\n",
       "\t<tr><td>4 </td><td>M </td></tr>\n",
       "\t<tr><td>5 </td><td>M </td></tr>\n",
       "\t<tr><td>⋮</td><td>⋮</td></tr>\n",
       "\t<tr><td>359343</td><td>M     </td></tr>\n",
       "\t<tr><td>359344</td><td>M     </td></tr>\n",
       "\t<tr><td>359345</td><td>M     </td></tr>\n",
       "\t<tr><td>359346</td><td>M     </td></tr>\n",
       "\t<tr><td>359347</td><td>M     </td></tr>\n",
       "</tbody>\n",
       "</table>\n"
      ],
      "text/latex": [
       "\\begin{tabular}{r|ll}\n",
       " user & gender\\\\\n",
       "\\hline\n",
       "\t 1  & F \\\\\n",
       "\t 2  & F \\\\\n",
       "\t 3  & NA\\\\\n",
       "\t 4  & M \\\\\n",
       "\t 5  & M \\\\\n",
       "\t ⋮ & ⋮\\\\\n",
       "\t 359343 & M     \\\\\n",
       "\t 359344 & M     \\\\\n",
       "\t 359345 & M     \\\\\n",
       "\t 359346 & M     \\\\\n",
       "\t 359347 & M     \\\\\n",
       "\\end{tabular}\n"
      ],
      "text/markdown": [
       "\n",
       "user | gender | \n",
       "|---|---|---|---|---|---|---|---|---|---|---|\n",
       "| 1  | F  | \n",
       "| 2  | F  | \n",
       "| 3  | NA | \n",
       "| 4  | M  | \n",
       "| 5  | M  | \n",
       "| ⋮ | ⋮ | \n",
       "| 359343 | M      | \n",
       "| 359344 | M      | \n",
       "| 359345 | M      | \n",
       "| 359346 | M      | \n",
       "| 359347 | M      | \n",
       "\n",
       "\n"
      ],
      "text/plain": [
       "       user   gender\n",
       "1      1      F     \n",
       "2      2      F     \n",
       "3      3      NA    \n",
       "4      4      M     \n",
       "5      5      M     \n",
       "⋮      ⋮      ⋮     \n",
       "359343 359343 M     \n",
       "359344 359344 M     \n",
       "359345 359345 M     \n",
       "359346 359346 M     \n",
       "359347 359347 M     "
      ]
     },
     "metadata": {},
     "output_type": "display_data"
    }
   ],
   "source": [
    "lfm_users = lfm_users_raw %>%\n",
    "    select(user=id,gender) %>%\n",
    "    mutate(gender = as.factor(toupper(gender)))\n",
    "lfm_users"
   ]
  },
  {
   "cell_type": "markdown",
   "metadata": {},
   "source": [
    "Join user info with ratings"
   ]
  },
  {
   "cell_type": "code",
   "execution_count": 30,
   "metadata": {},
   "outputs": [
    {
     "name": "stderr",
     "output_type": "stream",
     "text": [
      "Joining, by = \"user\"\n"
     ]
    },
    {
     "data": {
      "text/html": [
       "<table>\n",
       "<thead><tr><th scope=col>user</th><th scope=col>item</th><th scope=col>count</th><th scope=col>gender</th></tr></thead>\n",
       "<tbody>\n",
       "\t<tr><td>1   </td><td>1   </td><td>2137</td><td>F   </td></tr>\n",
       "\t<tr><td>1   </td><td>2   </td><td>1099</td><td>F   </td></tr>\n",
       "\t<tr><td>1   </td><td>3   </td><td> 897</td><td>F   </td></tr>\n",
       "\t<tr><td>1   </td><td>4   </td><td> 717</td><td>F   </td></tr>\n",
       "\t<tr><td>1   </td><td>5   </td><td> 706</td><td>F   </td></tr>\n",
       "\t<tr><td>⋮</td><td>⋮</td><td>⋮</td><td>⋮</td></tr>\n",
       "\t<tr><td>358717</td><td> 800  </td><td>1517  </td><td>M     </td></tr>\n",
       "\t<tr><td>358717</td><td> 862  </td><td>1494  </td><td>M     </td></tr>\n",
       "\t<tr><td>358717</td><td>1516  </td><td>1128  </td><td>M     </td></tr>\n",
       "\t<tr><td>358717</td><td>5547  </td><td>1126  </td><td>M     </td></tr>\n",
       "\t<tr><td>358717</td><td> 768  </td><td>1094  </td><td>M     </td></tr>\n",
       "</tbody>\n",
       "</table>\n"
      ],
      "text/latex": [
       "\\begin{tabular}{r|llll}\n",
       " user & item & count & gender\\\\\n",
       "\\hline\n",
       "\t 1    & 1    & 2137 & F   \\\\\n",
       "\t 1    & 2    & 1099 & F   \\\\\n",
       "\t 1    & 3    &  897 & F   \\\\\n",
       "\t 1    & 4    &  717 & F   \\\\\n",
       "\t 1    & 5    &  706 & F   \\\\\n",
       "\t ⋮ & ⋮ & ⋮ & ⋮\\\\\n",
       "\t 358717 &  800   & 1517   & M     \\\\\n",
       "\t 358717 &  862   & 1494   & M     \\\\\n",
       "\t 358717 & 1516   & 1128   & M     \\\\\n",
       "\t 358717 & 5547   & 1126   & M     \\\\\n",
       "\t 358717 &  768   & 1094   & M     \\\\\n",
       "\\end{tabular}\n"
      ],
      "text/markdown": [
       "\n",
       "user | item | count | gender | \n",
       "|---|---|---|---|---|---|---|---|---|---|---|\n",
       "| 1    | 1    | 2137 | F    | \n",
       "| 1    | 2    | 1099 | F    | \n",
       "| 1    | 3    |  897 | F    | \n",
       "| 1    | 4    |  717 | F    | \n",
       "| 1    | 5    |  706 | F    | \n",
       "| ⋮ | ⋮ | ⋮ | ⋮ | \n",
       "| 358717 |  800   | 1517   | M      | \n",
       "| 358717 |  862   | 1494   | M      | \n",
       "| 358717 | 1516   | 1128   | M      | \n",
       "| 358717 | 5547   | 1126   | M      | \n",
       "| 358717 |  768   | 1094   | M      | \n",
       "\n",
       "\n"
      ],
      "text/plain": [
       "        user   item count gender\n",
       "1       1      1    2137  F     \n",
       "2       1      2    1099  F     \n",
       "3       1      3     897  F     \n",
       "4       1      4     717  F     \n",
       "5       1      5     706  F     \n",
       "⋮       ⋮      ⋮    ⋮     ⋮     \n",
       "6683558 358717  800 1517  M     \n",
       "6683559 358717  862 1494  M     \n",
       "6683560 358717 1516 1128  M     \n",
       "6683561 358717 5547 1126  M     \n",
       "6683562 358717  768 1094  M     "
      ]
     },
     "metadata": {},
     "output_type": "display_data"
    }
   ],
   "source": [
    "lfm_ratings_gender = lfm_play_counts %>%\n",
    "    inner_join(lfm_users)\n",
    "lfm_ratings_gender"
   ]
  },
  {
   "cell_type": "markdown",
   "metadata": {},
   "source": [
    "Split data into two group based on gender"
   ]
  },
  {
   "cell_type": "code",
   "execution_count": 31,
   "metadata": {},
   "outputs": [
    {
     "data": {
      "text/html": [
       "<table>\n",
       "<thead><tr><th scope=col>user</th><th scope=col>item</th><th scope=col>count</th><th scope=col>gender</th></tr></thead>\n",
       "<tbody>\n",
       "\t<tr><td>4  </td><td>147</td><td>106</td><td>M  </td></tr>\n",
       "\t<tr><td>4  </td><td>148</td><td> 48</td><td>M  </td></tr>\n",
       "\t<tr><td>4  </td><td>149</td><td> 31</td><td>M  </td></tr>\n",
       "\t<tr><td>4  </td><td>150</td><td> 29</td><td>M  </td></tr>\n",
       "\t<tr><td>4  </td><td>151</td><td> 26</td><td>M  </td></tr>\n",
       "\t<tr><td>⋮</td><td>⋮</td><td>⋮</td><td>⋮</td></tr>\n",
       "\t<tr><td>358717</td><td> 800  </td><td>1517  </td><td>M     </td></tr>\n",
       "\t<tr><td>358717</td><td> 862  </td><td>1494  </td><td>M     </td></tr>\n",
       "\t<tr><td>358717</td><td>1516  </td><td>1128  </td><td>M     </td></tr>\n",
       "\t<tr><td>358717</td><td>5547  </td><td>1126  </td><td>M     </td></tr>\n",
       "\t<tr><td>358717</td><td> 768  </td><td>1094  </td><td>M     </td></tr>\n",
       "</tbody>\n",
       "</table>\n"
      ],
      "text/latex": [
       "\\begin{tabular}{r|llll}\n",
       " user & item & count & gender\\\\\n",
       "\\hline\n",
       "\t 4   & 147 & 106 & M  \\\\\n",
       "\t 4   & 148 &  48 & M  \\\\\n",
       "\t 4   & 149 &  31 & M  \\\\\n",
       "\t 4   & 150 &  29 & M  \\\\\n",
       "\t 4   & 151 &  26 & M  \\\\\n",
       "\t ⋮ & ⋮ & ⋮ & ⋮\\\\\n",
       "\t 358717 &  800   & 1517   & M     \\\\\n",
       "\t 358717 &  862   & 1494   & M     \\\\\n",
       "\t 358717 & 1516   & 1128   & M     \\\\\n",
       "\t 358717 & 5547   & 1126   & M     \\\\\n",
       "\t 358717 &  768   & 1094   & M     \\\\\n",
       "\\end{tabular}\n"
      ],
      "text/markdown": [
       "\n",
       "user | item | count | gender | \n",
       "|---|---|---|---|---|---|---|---|---|---|---|\n",
       "| 4   | 147 | 106 | M   | \n",
       "| 4   | 148 |  48 | M   | \n",
       "| 4   | 149 |  31 | M   | \n",
       "| 4   | 150 |  29 | M   | \n",
       "| 4   | 151 |  26 | M   | \n",
       "| ⋮ | ⋮ | ⋮ | ⋮ | \n",
       "| 358717 |  800   | 1517   | M      | \n",
       "| 358717 |  862   | 1494   | M      | \n",
       "| 358717 | 1516   | 1128   | M      | \n",
       "| 358717 | 5547   | 1126   | M      | \n",
       "| 358717 |  768   | 1094   | M      | \n",
       "\n",
       "\n"
      ],
      "text/plain": [
       "        user   item count gender\n",
       "1       4      147  106   M     \n",
       "2       4      148   48   M     \n",
       "3       4      149   31   M     \n",
       "4       4      150   29   M     \n",
       "5       4      151   26   M     \n",
       "⋮       ⋮      ⋮    ⋮     ⋮     \n",
       "4506293 358717  800 1517  M     \n",
       "4506294 358717  862 1494  M     \n",
       "4506295 358717 1516 1128  M     \n",
       "4506296 358717 5547 1126  M     \n",
       "4506297 358717  768 1094  M     "
      ]
     },
     "metadata": {},
     "output_type": "display_data"
    },
    {
     "data": {
      "text/html": [
       "<table>\n",
       "<thead><tr><th scope=col>user</th><th scope=col>item</th><th scope=col>count</th><th scope=col>gender</th></tr></thead>\n",
       "<tbody>\n",
       "\t<tr><td>1   </td><td>1   </td><td>2137</td><td>F   </td></tr>\n",
       "\t<tr><td>1   </td><td>2   </td><td>1099</td><td>F   </td></tr>\n",
       "\t<tr><td>1   </td><td>3   </td><td> 897</td><td>F   </td></tr>\n",
       "\t<tr><td>1   </td><td>4   </td><td> 717</td><td>F   </td></tr>\n",
       "\t<tr><td>1   </td><td>5   </td><td> 706</td><td>F   </td></tr>\n",
       "\t<tr><td>⋮</td><td>⋮</td><td>⋮</td><td>⋮</td></tr>\n",
       "\t<tr><td>358713</td><td>2188  </td><td>36    </td><td>F     </td></tr>\n",
       "\t<tr><td>358713</td><td> 827  </td><td>35    </td><td>F     </td></tr>\n",
       "\t<tr><td>358713</td><td>4074  </td><td>34    </td><td>F     </td></tr>\n",
       "\t<tr><td>358713</td><td> 266  </td><td>34    </td><td>F     </td></tr>\n",
       "\t<tr><td>358713</td><td>1835  </td><td>33    </td><td>F     </td></tr>\n",
       "</tbody>\n",
       "</table>\n"
      ],
      "text/latex": [
       "\\begin{tabular}{r|llll}\n",
       " user & item & count & gender\\\\\n",
       "\\hline\n",
       "\t 1    & 1    & 2137 & F   \\\\\n",
       "\t 1    & 2    & 1099 & F   \\\\\n",
       "\t 1    & 3    &  897 & F   \\\\\n",
       "\t 1    & 4    &  717 & F   \\\\\n",
       "\t 1    & 5    &  706 & F   \\\\\n",
       "\t ⋮ & ⋮ & ⋮ & ⋮\\\\\n",
       "\t 358713 & 2188   & 36     & F     \\\\\n",
       "\t 358713 &  827   & 35     & F     \\\\\n",
       "\t 358713 & 4074   & 34     & F     \\\\\n",
       "\t 358713 &  266   & 34     & F     \\\\\n",
       "\t 358713 & 1835   & 33     & F     \\\\\n",
       "\\end{tabular}\n"
      ],
      "text/markdown": [
       "\n",
       "user | item | count | gender | \n",
       "|---|---|---|---|---|---|---|---|---|---|---|\n",
       "| 1    | 1    | 2137 | F    | \n",
       "| 1    | 2    | 1099 | F    | \n",
       "| 1    | 3    |  897 | F    | \n",
       "| 1    | 4    |  717 | F    | \n",
       "| 1    | 5    |  706 | F    | \n",
       "| ⋮ | ⋮ | ⋮ | ⋮ | \n",
       "| 358713 | 2188   | 36     | F      | \n",
       "| 358713 |  827   | 35     | F      | \n",
       "| 358713 | 4074   | 34     | F      | \n",
       "| 358713 |  266   | 34     | F      | \n",
       "| 358713 | 1835   | 33     | F      | \n",
       "\n",
       "\n"
      ],
      "text/plain": [
       "        user   item count gender\n",
       "1       1      1    2137  F     \n",
       "2       1      2    1099  F     \n",
       "3       1      3     897  F     \n",
       "4       1      4     717  F     \n",
       "5       1      5     706  F     \n",
       "⋮       ⋮      ⋮    ⋮     ⋮     \n",
       "1568169 358713 2188 36    F     \n",
       "1568170 358713  827 35    F     \n",
       "1568171 358713 4074 34    F     \n",
       "1568172 358713  266 34    F     \n",
       "1568173 358713 1835 33    F     "
      ]
     },
     "metadata": {},
     "output_type": "display_data"
    }
   ],
   "source": [
    "lfm_ratings_M = lfm_ratings_gender %>%\n",
    "    filter(gender=='M')\n",
    "lfm_ratings_M\n",
    "lfm_ratings_F = lfm_ratings_gender %>%\n",
    "    filter(gender=='F')\n",
    "lfm_ratings_F"
   ]
  },
  {
   "cell_type": "markdown",
   "metadata": {},
   "source": [
    "Check rows in order to sample"
   ]
  },
  {
   "cell_type": "code",
   "execution_count": 32,
   "metadata": {},
   "outputs": [
    {
     "data": {
      "text/html": [
       "93554"
      ],
      "text/latex": [
       "93554"
      ],
      "text/markdown": [
       "93554"
      ],
      "text/plain": [
       "[1] 93554"
      ]
     },
     "metadata": {},
     "output_type": "display_data"
    }
   ],
   "source": [
    "lfm_distinct_M = lfm_ratings_M %>%\n",
    "    select(user) %>%\n",
    "    distinct()\n",
    "lfm_distinct_M %>% \n",
    "    nrow()"
   ]
  },
  {
   "cell_type": "code",
   "execution_count": 33,
   "metadata": {},
   "outputs": [
    {
     "data": {
      "text/html": [
       "33069"
      ],
      "text/latex": [
       "33069"
      ],
      "text/markdown": [
       "33069"
      ],
      "text/plain": [
       "[1] 33069"
      ]
     },
     "metadata": {},
     "output_type": "display_data"
    }
   ],
   "source": [
    "lfm_distinct_F = lfm_ratings_F %>%\n",
    "    select(user) %>%\n",
    "    distinct()\n",
    "lfm_distinct_F %>% \n",
    "    nrow()"
   ]
  },
  {
   "cell_type": "markdown",
   "metadata": {},
   "source": [
    "sample data"
   ]
  },
  {
   "cell_type": "code",
   "execution_count": 34,
   "metadata": {
    "collapsed": true
   },
   "outputs": [],
   "source": [
    "size = 33000\n",
    "lfm_sample_M = lfm_distinct_M %>%\n",
    "    sample_n(size=size,replace=FALSE)\n",
    "lfm_sample_F = lfm_distinct_F %>%\n",
    "    sample_n(size=size,replace=FALSE)"
   ]
  },
  {
   "cell_type": "code",
   "execution_count": 35,
   "metadata": {},
   "outputs": [
    {
     "data": {
      "text/html": [
       "33000"
      ],
      "text/latex": [
       "33000"
      ],
      "text/markdown": [
       "33000"
      ],
      "text/plain": [
       "[1] 33000"
      ]
     },
     "metadata": {},
     "output_type": "display_data"
    },
    {
     "data": {
      "text/html": [
       "33000"
      ],
      "text/latex": [
       "33000"
      ],
      "text/markdown": [
       "33000"
      ],
      "text/plain": [
       "[1] 33000"
      ]
     },
     "metadata": {},
     "output_type": "display_data"
    }
   ],
   "source": [
    "lfm_sample_M %>%\n",
    "    nrow()\n",
    "lfm_sample_F %>%\n",
    "    nrow()"
   ]
  },
  {
   "cell_type": "markdown",
   "metadata": {},
   "source": [
    "join sampled id with ratings"
   ]
  },
  {
   "cell_type": "code",
   "execution_count": 40,
   "metadata": {},
   "outputs": [
    {
     "name": "stderr",
     "output_type": "stream",
     "text": [
      "Joining, by = \"user\"\n",
      "Joining, by = \"user\"\n"
     ]
    }
   ],
   "source": [
    "lfm_ratings_sample_M = lfm_ratings_M %>%\n",
    "    inner_join(lfm_sample_M)\n",
    "lfm_ratings_sample_F = lfm_ratings_F %>%\n",
    "    inner_join(lfm_sample_F)"
   ]
  },
  {
   "cell_type": "code",
   "execution_count": 41,
   "metadata": {},
   "outputs": [
    {
     "data": {
      "text/html": [
       "<table>\n",
       "<thead><tr><th scope=col>user</th><th scope=col>item</th><th scope=col>count</th><th scope=col>gender</th></tr></thead>\n",
       "<tbody>\n",
       "\t<tr><td>4  </td><td>147</td><td>106</td><td>M  </td></tr>\n",
       "\t<tr><td>4  </td><td>148</td><td> 48</td><td>M  </td></tr>\n",
       "\t<tr><td>4  </td><td>149</td><td> 31</td><td>M  </td></tr>\n",
       "\t<tr><td>4  </td><td>150</td><td> 29</td><td>M  </td></tr>\n",
       "\t<tr><td>4  </td><td>151</td><td> 26</td><td>M  </td></tr>\n",
       "\t<tr><td>⋮</td><td>⋮</td><td>⋮</td><td>⋮</td></tr>\n",
       "\t<tr><td>358717</td><td> 800  </td><td>1517  </td><td>M     </td></tr>\n",
       "\t<tr><td>358717</td><td> 862  </td><td>1494  </td><td>M     </td></tr>\n",
       "\t<tr><td>358717</td><td>1516  </td><td>1128  </td><td>M     </td></tr>\n",
       "\t<tr><td>358717</td><td>5547  </td><td>1126  </td><td>M     </td></tr>\n",
       "\t<tr><td>358717</td><td> 768  </td><td>1094  </td><td>M     </td></tr>\n",
       "</tbody>\n",
       "</table>\n"
      ],
      "text/latex": [
       "\\begin{tabular}{r|llll}\n",
       " user & item & count & gender\\\\\n",
       "\\hline\n",
       "\t 4   & 147 & 106 & M  \\\\\n",
       "\t 4   & 148 &  48 & M  \\\\\n",
       "\t 4   & 149 &  31 & M  \\\\\n",
       "\t 4   & 150 &  29 & M  \\\\\n",
       "\t 4   & 151 &  26 & M  \\\\\n",
       "\t ⋮ & ⋮ & ⋮ & ⋮\\\\\n",
       "\t 358717 &  800   & 1517   & M     \\\\\n",
       "\t 358717 &  862   & 1494   & M     \\\\\n",
       "\t 358717 & 1516   & 1128   & M     \\\\\n",
       "\t 358717 & 5547   & 1126   & M     \\\\\n",
       "\t 358717 &  768   & 1094   & M     \\\\\n",
       "\\end{tabular}\n"
      ],
      "text/markdown": [
       "\n",
       "user | item | count | gender | \n",
       "|---|---|---|---|---|---|---|---|---|---|---|\n",
       "| 4   | 147 | 106 | M   | \n",
       "| 4   | 148 |  48 | M   | \n",
       "| 4   | 149 |  31 | M   | \n",
       "| 4   | 150 |  29 | M   | \n",
       "| 4   | 151 |  26 | M   | \n",
       "| ⋮ | ⋮ | ⋮ | ⋮ | \n",
       "| 358717 |  800   | 1517   | M      | \n",
       "| 358717 |  862   | 1494   | M      | \n",
       "| 358717 | 1516   | 1128   | M      | \n",
       "| 358717 | 5547   | 1126   | M      | \n",
       "| 358717 |  768   | 1094   | M      | \n",
       "\n",
       "\n"
      ],
      "text/plain": [
       "        user   item count gender\n",
       "1       4      147  106   M     \n",
       "2       4      148   48   M     \n",
       "3       4      149   31   M     \n",
       "4       4      150   29   M     \n",
       "5       4      151   26   M     \n",
       "⋮       ⋮      ⋮    ⋮     ⋮     \n",
       "1590005 358717  800 1517  M     \n",
       "1590006 358717  862 1494  M     \n",
       "1590007 358717 1516 1128  M     \n",
       "1590008 358717 5547 1126  M     \n",
       "1590009 358717  768 1094  M     "
      ]
     },
     "metadata": {},
     "output_type": "display_data"
    },
    {
     "data": {
      "text/html": [
       "<table>\n",
       "<thead><tr><th scope=col>user</th><th scope=col>item</th><th scope=col>count</th><th scope=col>gender</th></tr></thead>\n",
       "<tbody>\n",
       "\t<tr><td>1   </td><td>1   </td><td>2137</td><td>F   </td></tr>\n",
       "\t<tr><td>1   </td><td>2   </td><td>1099</td><td>F   </td></tr>\n",
       "\t<tr><td>1   </td><td>3   </td><td> 897</td><td>F   </td></tr>\n",
       "\t<tr><td>1   </td><td>4   </td><td> 717</td><td>F   </td></tr>\n",
       "\t<tr><td>1   </td><td>5   </td><td> 706</td><td>F   </td></tr>\n",
       "\t<tr><td>⋮</td><td>⋮</td><td>⋮</td><td>⋮</td></tr>\n",
       "\t<tr><td>358713</td><td>2188  </td><td>36    </td><td>F     </td></tr>\n",
       "\t<tr><td>358713</td><td> 827  </td><td>35    </td><td>F     </td></tr>\n",
       "\t<tr><td>358713</td><td>4074  </td><td>34    </td><td>F     </td></tr>\n",
       "\t<tr><td>358713</td><td> 266  </td><td>34    </td><td>F     </td></tr>\n",
       "\t<tr><td>358713</td><td>1835  </td><td>33    </td><td>F     </td></tr>\n",
       "</tbody>\n",
       "</table>\n"
      ],
      "text/latex": [
       "\\begin{tabular}{r|llll}\n",
       " user & item & count & gender\\\\\n",
       "\\hline\n",
       "\t 1    & 1    & 2137 & F   \\\\\n",
       "\t 1    & 2    & 1099 & F   \\\\\n",
       "\t 1    & 3    &  897 & F   \\\\\n",
       "\t 1    & 4    &  717 & F   \\\\\n",
       "\t 1    & 5    &  706 & F   \\\\\n",
       "\t ⋮ & ⋮ & ⋮ & ⋮\\\\\n",
       "\t 358713 & 2188   & 36     & F     \\\\\n",
       "\t 358713 &  827   & 35     & F     \\\\\n",
       "\t 358713 & 4074   & 34     & F     \\\\\n",
       "\t 358713 &  266   & 34     & F     \\\\\n",
       "\t 358713 & 1835   & 33     & F     \\\\\n",
       "\\end{tabular}\n"
      ],
      "text/markdown": [
       "\n",
       "user | item | count | gender | \n",
       "|---|---|---|---|---|---|---|---|---|---|---|\n",
       "| 1    | 1    | 2137 | F    | \n",
       "| 1    | 2    | 1099 | F    | \n",
       "| 1    | 3    |  897 | F    | \n",
       "| 1    | 4    |  717 | F    | \n",
       "| 1    | 5    |  706 | F    | \n",
       "| ⋮ | ⋮ | ⋮ | ⋮ | \n",
       "| 358713 | 2188   | 36     | F      | \n",
       "| 358713 |  827   | 35     | F      | \n",
       "| 358713 | 4074   | 34     | F      | \n",
       "| 358713 |  266   | 34     | F      | \n",
       "| 358713 | 1835   | 33     | F      | \n",
       "\n",
       "\n"
      ],
      "text/plain": [
       "        user   item count gender\n",
       "1       1      1    2137  F     \n",
       "2       1      2    1099  F     \n",
       "3       1      3     897  F     \n",
       "4       1      4     717  F     \n",
       "5       1      5     706  F     \n",
       "⋮       ⋮      ⋮    ⋮     ⋮     \n",
       "1564984 358713 2188 36    F     \n",
       "1564985 358713  827 35    F     \n",
       "1564986 358713 4074 34    F     \n",
       "1564987 358713  266 34    F     \n",
       "1564988 358713 1835 33    F     "
      ]
     },
     "metadata": {},
     "output_type": "display_data"
    }
   ],
   "source": [
    "lfm_ratings_sample_M\n",
    "lfm_ratings_sample_F"
   ]
  },
  {
   "cell_type": "code",
   "execution_count": 43,
   "metadata": {},
   "outputs": [
    {
     "data": {
      "text/html": [
       "<table>\n",
       "<thead><tr><th scope=col>user</th><th scope=col>item</th><th scope=col>count</th></tr></thead>\n",
       "<tbody>\n",
       "\t<tr><td>4  </td><td>147</td><td>106</td></tr>\n",
       "\t<tr><td>4  </td><td>148</td><td> 48</td></tr>\n",
       "\t<tr><td>4  </td><td>149</td><td> 31</td></tr>\n",
       "\t<tr><td>4  </td><td>150</td><td> 29</td></tr>\n",
       "\t<tr><td>4  </td><td>151</td><td> 26</td></tr>\n",
       "\t<tr><td>⋮</td><td>⋮</td><td>⋮</td></tr>\n",
       "\t<tr><td>358713</td><td>2188  </td><td>36    </td></tr>\n",
       "\t<tr><td>358713</td><td> 827  </td><td>35    </td></tr>\n",
       "\t<tr><td>358713</td><td>4074  </td><td>34    </td></tr>\n",
       "\t<tr><td>358713</td><td> 266  </td><td>34    </td></tr>\n",
       "\t<tr><td>358713</td><td>1835  </td><td>33    </td></tr>\n",
       "</tbody>\n",
       "</table>\n"
      ],
      "text/latex": [
       "\\begin{tabular}{r|lll}\n",
       " user & item & count\\\\\n",
       "\\hline\n",
       "\t 4   & 147 & 106\\\\\n",
       "\t 4   & 148 &  48\\\\\n",
       "\t 4   & 149 &  31\\\\\n",
       "\t 4   & 150 &  29\\\\\n",
       "\t 4   & 151 &  26\\\\\n",
       "\t ⋮ & ⋮ & ⋮\\\\\n",
       "\t 358713 & 2188   & 36    \\\\\n",
       "\t 358713 &  827   & 35    \\\\\n",
       "\t 358713 & 4074   & 34    \\\\\n",
       "\t 358713 &  266   & 34    \\\\\n",
       "\t 358713 & 1835   & 33    \\\\\n",
       "\\end{tabular}\n"
      ],
      "text/markdown": [
       "\n",
       "user | item | count | \n",
       "|---|---|---|---|---|---|---|---|---|---|---|\n",
       "| 4   | 147 | 106 | \n",
       "| 4   | 148 |  48 | \n",
       "| 4   | 149 |  31 | \n",
       "| 4   | 150 |  29 | \n",
       "| 4   | 151 |  26 | \n",
       "| ⋮ | ⋮ | ⋮ | \n",
       "| 358713 | 2188   | 36     | \n",
       "| 358713 |  827   | 35     | \n",
       "| 358713 | 4074   | 34     | \n",
       "| 358713 |  266   | 34     | \n",
       "| 358713 | 1835   | 33     | \n",
       "\n",
       "\n"
      ],
      "text/plain": [
       "        user   item count\n",
       "1       4      147  106  \n",
       "2       4      148   48  \n",
       "3       4      149   31  \n",
       "4       4      150   29  \n",
       "5       4      151   26  \n",
       "⋮       ⋮      ⋮    ⋮    \n",
       "3154993 358713 2188 36   \n",
       "3154994 358713  827 35   \n",
       "3154995 358713 4074 34   \n",
       "3154996 358713  266 34   \n",
       "3154997 358713 1835 33   "
      ]
     },
     "metadata": {},
     "output_type": "display_data"
    }
   ],
   "source": [
    "lfm_ratings_sample = bind_rows(lfm_ratings_sample_M %>% select(user, item, count),\n",
    "                             lfm_ratings_sample_F %>% select(user, item, count))\n",
    "lfm_ratings_sample"
   ]
  },
  {
   "cell_type": "code",
   "execution_count": 44,
   "metadata": {
    "collapsed": true
   },
   "outputs": [],
   "source": [
    "lfm_ratings_sample %>%\n",
    "    write_csv(\"data/lastfm-dataset-360K/lfm-ratings-sample.csv\", na=\"\")"
   ]
  },
  {
   "cell_type": "code",
   "execution_count": null,
   "metadata": {
    "collapsed": true
   },
   "outputs": [],
   "source": []
  }
 ],
 "metadata": {
  "kernelspec": {
   "display_name": "R",
   "language": "R",
   "name": "ir"
  },
  "language_info": {
   "codemirror_mode": "r",
   "file_extension": ".r",
   "mimetype": "text/x-r-source",
   "name": "R",
   "pygments_lexer": "r",
   "version": "3.3.2"
  }
 },
 "nbformat": 4,
 "nbformat_minor": 2
}
