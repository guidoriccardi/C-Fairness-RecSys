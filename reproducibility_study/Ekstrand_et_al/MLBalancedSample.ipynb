{
 "cells": [
  {
   "cell_type": "markdown",
   "metadata": {},
   "source": [
    "### User Gender Balance for ml-1m and last.FM datasets"
   ]
  },
  {
   "cell_type": "code",
   "execution_count": null,
   "metadata": {
    "collapsed": true
   },
   "outputs": [],
   "source": [
    "library(dplyr)\n",
    "library(readr)\n",
    "library(ggplot2)"
   ]
  },
  {
   "cell_type": "code",
   "execution_count": null,
   "metadata": {
    "collapsed": true
   },
   "outputs": [],
   "source": [
    "options(repr.plot.height=5)\n",
    "options(repr.matrix.max.rows=10)\n",
    "options(repr.matrix.max.columns=10)"
   ]
  },
  {
   "cell_type": "markdown",
   "metadata": {},
   "source": [
    "### Load MoveLens Data"
   ]
  },
  {
   "cell_type": "code",
   "execution_count": null,
   "metadata": {
    "collapsed": true
   },
   "outputs": [],
   "source": [
    "ml_ratings = read_delim(\"data/ml-1m/ratings.dat\", delim=\":\",\n",
    "                        col_names=c(\"user\", \"item\", \"rating\", \"timestamp\"),\n",
    "                        col_types=\"i_i_i_i\")\n",
    "ml_ratings"
   ]
  },
  {
   "cell_type": "markdown",
   "metadata": {},
   "source": [
    "Load user info"
   ]
  },
  {
   "cell_type": "code",
   "execution_count": null,
   "metadata": {
    "collapsed": true
   },
   "outputs": [],
   "source": [
    "ml_users = read_delim(\"data/ml-1m/users.dat\", delim=\":\",\n",
    "                      col_names=c(\"user\", \"gender\", \"age\", \"occupation\", \"zip\"),\n",
    "                      col_types=\"i_c_c_c_c\") %>%\n",
    "    mutate(gender=as.factor(gender),\n",
    "           age=as.factor(age),\n",
    "           occupation=as.factor(occupation))\n",
    "ml_users"
   ]
  },
  {
   "cell_type": "markdown",
   "metadata": {},
   "source": [
    "Join gender info with user ratings"
   ]
  },
  {
   "cell_type": "code",
   "execution_count": null,
   "metadata": {
    "collapsed": true
   },
   "outputs": [],
   "source": [
    "ml_ratings_gender = ml_ratings %>%\n",
    "    inner_join(ml_users %>% select(user, gender))\n",
    "ml_ratings_gender"
   ]
  },
  {
   "cell_type": "markdown",
   "metadata": {},
   "source": [
    "Filter Male and Female ratings in order to sample "
   ]
  },
  {
   "cell_type": "code",
   "execution_count": null,
   "metadata": {
    "collapsed": true
   },
   "outputs": [],
   "source": [
    "ml_ratings_M = ml_ratings_gender %>%\n",
    "    filter(gender=='M')\n",
    "ml_ratings_M\n",
    "ml_ratings_F = ml_ratings_gender %>%\n",
    "    filter(gender=='F')\n",
    "ml_ratings_F"
   ]
  },
  {
   "cell_type": "markdown",
   "metadata": {},
   "source": [
    "Filter distinct female and male users"
   ]
  },
  {
   "cell_type": "code",
   "execution_count": null,
   "metadata": {
    "collapsed": true
   },
   "outputs": [],
   "source": [
    "ml_distinct_F = ml_ratings_F %>%\n",
    "    select(user) %>%\n",
    "    distinct()\n",
    "ml_distinct_F %>% \n",
    "    nrow()"
   ]
  },
  {
   "cell_type": "code",
   "execution_count": null,
   "metadata": {
    "collapsed": true
   },
   "outputs": [],
   "source": [
    "ml_distinct_M = ml_ratings_M %>%\n",
    "    select(user) %>%\n",
    "    distinct()\n",
    "ml_distinct_M %>%\n",
    "    nrow()"
   ]
  },
  {
   "cell_type": "markdown",
   "metadata": {},
   "source": [
    "Sample same size user in two group\n",
    "Sample size is equal to totoal female size"
   ]
  },
  {
   "cell_type": "code",
   "execution_count": null,
   "metadata": {
    "collapsed": true
   },
   "outputs": [],
   "source": [
    "size = 1500\n",
    "ml_sample_M = ml_distinct_M %>%\n",
    "    sample_n(size=size,replace=FALSE)\n",
    "ml_sample_F = ml_distinct_F %>%\n",
    "    sample_n(size=size,replace=FALSE)"
   ]
  },
  {
   "cell_type": "code",
   "execution_count": null,
   "metadata": {
    "collapsed": true
   },
   "outputs": [],
   "source": [
    "ml_sample_M %>%\n",
    "    nrow()\n",
    "ml_sample_F %>%\n",
    "    nrow()"
   ]
  },
  {
   "cell_type": "markdown",
   "metadata": {},
   "source": [
    "Combine sample users with rating data"
   ]
  },
  {
   "cell_type": "code",
   "execution_count": null,
   "metadata": {
    "collapsed": true
   },
   "outputs": [],
   "source": [
    "ml_ratings_sample_M = ml_ratings_M %>%\n",
    "    inner_join(ml_sample_M)\n",
    "ml_ratings_sample_F = ml_ratings_F %>%\n",
    "    inner_join(ml_sample_F)"
   ]
  },
  {
   "cell_type": "code",
   "execution_count": null,
   "metadata": {
    "collapsed": true
   },
   "outputs": [],
   "source": [
    "ml_ratings_sample_M\n",
    "ml_ratings_sample_F"
   ]
  },
  {
   "cell_type": "markdown",
   "metadata": {},
   "source": [
    "bind two dataframes"
   ]
  },
  {
   "cell_type": "code",
   "execution_count": null,
   "metadata": {
    "collapsed": true
   },
   "outputs": [],
   "source": [
    "ml_ratings_sample = bind_rows(ml_ratings_sample_F %>% select(user, item, rating, timestamp),\n",
    "                             ml_ratings_sample_M %>% select(user, item, rating, timestamp))\n",
    "ml_ratings_sample"
   ]
  },
  {
   "cell_type": "markdown",
   "metadata": {},
   "source": [
    "Save ml ratings to dat file"
   ]
  },
  {
   "cell_type": "code",
   "execution_count": null,
   "metadata": {
    "collapsed": true
   },
   "outputs": [],
   "source": [
    "ml_ratings_sample %>%\n",
    "    write_csv(\"build/ml-ratings-sample-genderbalanced.csv\")"
   ]
  },
  {
   "cell_type": "markdown",
   "metadata": {},
   "source": [
    "## Load Last.FM data\n",
    "See python notebook"
   ]
  },
  {
   "cell_type": "code",
   "execution_count": null,
   "metadata": {
    "collapsed": true
   },
   "outputs": [],
   "source": []
  }
 ],
 "metadata": {
  "kernelspec": {
   "display_name": "R",
   "language": "R",
   "name": "ir"
  },
  "language_info": {
   "codemirror_mode": "r",
   "file_extension": ".r",
   "mimetype": "text/x-r-source",
   "name": "R",
   "pygments_lexer": "r",
   "version": "3.3.2"
  }
 },
 "nbformat": 4,
 "nbformat_minor": 2
}
