{
 "cells": [
  {
   "cell_type": "markdown",
   "metadata": {},
   "source": [
    "# Prepare Last.FM 1K Data Set\n",
    "\n",
    "This script will prepare the Last.FM 1K data set for the experiment.\n",
    "\n",
    "This data set contains individual play records, but our experiment is set up for artist play counts. So we will proceed in 2 steps:\n",
    "\n",
    "1. Aggregate by artist to produce play counts.\n",
    "2. Crossfold for recommender evaluation."
   ]
  },
  {
   "cell_type": "markdown",
   "metadata": {},
   "source": [
    "## Setup"
   ]
  },
  {
   "cell_type": "code",
   "execution_count": 1,
   "metadata": {},
   "outputs": [
    {
     "name": "stderr",
     "output_type": "stream",
     "text": [
      "\n",
      "Caricamento pacchetto: 'dplyr'\n",
      "\n",
      "\n",
      "I seguenti oggetti sono mascherati da 'package:stats':\n",
      "\n",
      "    filter, lag\n",
      "\n",
      "\n",
      "I seguenti oggetti sono mascherati da 'package:base':\n",
      "\n",
      "    intersect, setdiff, setequal, union\n",
      "\n",
      "\n"
     ]
    }
   ],
   "source": [
    "library(readr)\n",
    "library(dplyr)"
   ]
  },
  {
   "cell_type": "code",
   "execution_count": 2,
   "metadata": {},
   "outputs": [],
   "source": [
    "options(repr.matrix.max.rows=10)"
   ]
  },
  {
   "cell_type": "markdown",
   "metadata": {},
   "source": [
    "# Read Data"
   ]
  },
  {
   "cell_type": "code",
   "execution_count": 4,
   "metadata": {},
   "outputs": [
    {
     "name": "stderr",
     "output_type": "stream",
     "text": [
      "reading users\n",
      "\n",
      "\u001b[1m\u001b[1mRows: \u001b[1m\u001b[22m\u001b[34m\u001b[34m992\u001b[34m\u001b[39m \u001b[1m\u001b[1mColumns: \u001b[1m\u001b[22m\u001b[34m\u001b[34m5\u001b[34m\u001b[39m\n",
      "\n",
      "\u001b[36m--\u001b[39m \u001b[1m\u001b[1mColumn specification\u001b[1m\u001b[22m \u001b[36m------------------------------------------------------------------------------------------------\u001b[39m\n",
      "\u001b[1mDelimiter:\u001b[22m \"\\t\"\n",
      "\u001b[31mchr\u001b[39m (4): #id, gender, country, registered\n",
      "\u001b[32mdbl\u001b[39m (1): age\n",
      "\n",
      "\n",
      "\u001b[36mi\u001b[39m Use \u001b[30m\u001b[47m\u001b[30m\u001b[47m`spec()`\u001b[47m\u001b[30m\u001b[49m\u001b[39m to retrieve the full column specification for this data.\n",
      "\u001b[36mi\u001b[39m Specify the column types or set \u001b[30m\u001b[47m\u001b[30m\u001b[47m`show_col_types = FALSE`\u001b[47m\u001b[30m\u001b[49m\u001b[39m to quiet this message.\n",
      "\n"
     ]
    },
    {
     "data": {
      "text/html": [
       "<table class=\"dataframe\">\n",
       "<caption>A spec_tbl_df: 992 × 6</caption>\n",
       "<thead>\n",
       "\t<tr><th scope=col>key</th><th scope=col>gender</th><th scope=col>age</th><th scope=col>country</th><th scope=col>registered</th><th scope=col>id</th></tr>\n",
       "\t<tr><th scope=col>&lt;chr&gt;</th><th scope=col>&lt;chr&gt;</th><th scope=col>&lt;dbl&gt;</th><th scope=col>&lt;chr&gt;</th><th scope=col>&lt;chr&gt;</th><th scope=col>&lt;int&gt;</th></tr>\n",
       "</thead>\n",
       "<tbody>\n",
       "\t<tr><td>user_000001</td><td>m</td><td>NA</td><td>Japan        </td><td>Aug 13, 2006</td><td>1</td></tr>\n",
       "\t<tr><td>user_000002</td><td>f</td><td>NA</td><td>Peru         </td><td>Feb 24, 2006</td><td>2</td></tr>\n",
       "\t<tr><td>user_000003</td><td>m</td><td>22</td><td>United States</td><td>Oct 30, 2005</td><td>3</td></tr>\n",
       "\t<tr><td>user_000004</td><td>f</td><td>NA</td><td>NA           </td><td>Apr 26, 2006</td><td>4</td></tr>\n",
       "\t<tr><td>user_000005</td><td>m</td><td>NA</td><td>Bulgaria     </td><td>Jun 29, 2006</td><td>5</td></tr>\n",
       "\t<tr><td>...</td><td>...</td><td>...</td><td>...</td><td>...</td><td>...</td></tr>\n",
       "\t<tr><td>user_000996</td><td>f</td><td>NA</td><td>United States </td><td>Jul 17, 2006</td><td>988</td></tr>\n",
       "\t<tr><td>user_000997</td><td>m</td><td>NA</td><td>United States </td><td>Jan 5, 2007 </td><td>989</td></tr>\n",
       "\t<tr><td>user_000998</td><td>m</td><td>NA</td><td>United Kingdom</td><td>Sep 28, 2005</td><td>990</td></tr>\n",
       "\t<tr><td>user_000999</td><td>f</td><td>NA</td><td>Poland        </td><td>Jul 24, 2007</td><td>991</td></tr>\n",
       "\t<tr><td>user_001000</td><td>m</td><td>NA</td><td>United States </td><td>Mar 24, 2007</td><td>992</td></tr>\n",
       "</tbody>\n",
       "</table>\n"
      ],
      "text/latex": [
       "A spec\\_tbl\\_df: 992 × 6\n",
       "\\begin{tabular}{llllll}\n",
       " key & gender & age & country & registered & id\\\\\n",
       " <chr> & <chr> & <dbl> & <chr> & <chr> & <int>\\\\\n",
       "\\hline\n",
       "\t user\\_000001 & m & NA & Japan         & Aug 13, 2006 & 1\\\\\n",
       "\t user\\_000002 & f & NA & Peru          & Feb 24, 2006 & 2\\\\\n",
       "\t user\\_000003 & m & 22 & United States & Oct 30, 2005 & 3\\\\\n",
       "\t user\\_000004 & f & NA & NA            & Apr 26, 2006 & 4\\\\\n",
       "\t user\\_000005 & m & NA & Bulgaria      & Jun 29, 2006 & 5\\\\\n",
       "\t ... & ... & ... & ... & ... & ...\\\\\n",
       "\t user\\_000996 & f & NA & United States  & Jul 17, 2006 & 988\\\\\n",
       "\t user\\_000997 & m & NA & United States  & Jan 5, 2007  & 989\\\\\n",
       "\t user\\_000998 & m & NA & United Kingdom & Sep 28, 2005 & 990\\\\\n",
       "\t user\\_000999 & f & NA & Poland         & Jul 24, 2007 & 991\\\\\n",
       "\t user\\_001000 & m & NA & United States  & Mar 24, 2007 & 992\\\\\n",
       "\\end{tabular}\n"
      ],
      "text/markdown": [
       "\n",
       "A spec_tbl_df: 992 × 6\n",
       "\n",
       "| key &lt;chr&gt; | gender &lt;chr&gt; | age &lt;dbl&gt; | country &lt;chr&gt; | registered &lt;chr&gt; | id &lt;int&gt; |\n",
       "|---|---|---|---|---|---|\n",
       "| user_000001 | m | NA | Japan         | Aug 13, 2006 | 1 |\n",
       "| user_000002 | f | NA | Peru          | Feb 24, 2006 | 2 |\n",
       "| user_000003 | m | 22 | United States | Oct 30, 2005 | 3 |\n",
       "| user_000004 | f | NA | NA            | Apr 26, 2006 | 4 |\n",
       "| user_000005 | m | NA | Bulgaria      | Jun 29, 2006 | 5 |\n",
       "| ... | ... | ... | ... | ... | ... |\n",
       "| user_000996 | f | NA | United States  | Jul 17, 2006 | 988 |\n",
       "| user_000997 | m | NA | United States  | Jan 5, 2007  | 989 |\n",
       "| user_000998 | m | NA | United Kingdom | Sep 28, 2005 | 990 |\n",
       "| user_000999 | f | NA | Poland         | Jul 24, 2007 | 991 |\n",
       "| user_001000 | m | NA | United States  | Mar 24, 2007 | 992 |\n",
       "\n"
      ],
      "text/plain": [
       "    key         gender age country        registered   id \n",
       "1   user_000001 m      NA  Japan          Aug 13, 2006 1  \n",
       "2   user_000002 f      NA  Peru           Feb 24, 2006 2  \n",
       "3   user_000003 m      22  United States  Oct 30, 2005 3  \n",
       "4   user_000004 f      NA  NA             Apr 26, 2006 4  \n",
       "5   user_000005 m      NA  Bulgaria       Jun 29, 2006 5  \n",
       "... ...         ...    ... ...            ...          ...\n",
       "988 user_000996 f      NA  United States  Jul 17, 2006 988\n",
       "989 user_000997 m      NA  United States  Jan 5, 2007  989\n",
       "990 user_000998 m      NA  United Kingdom Sep 28, 2005 990\n",
       "991 user_000999 f      NA  Poland         Jul 24, 2007 991\n",
       "992 user_001000 m      NA  United States  Mar 24, 2007 992"
      ]
     },
     "metadata": {},
     "output_type": "display_data"
    }
   ],
   "source": [
    "message(\"reading users\")\n",
    "users = read_tsv(\"data/lastfm-dataset-1K/userid-profile.tsv\") %>%\n",
    "    rename(key=`#id`) %>%\n",
    "    mutate(id=1:n())\n",
    "users"
   ]
  },
  {
   "cell_type": "code",
   "execution_count": 5,
   "metadata": {},
   "outputs": [
    {
     "name": "stderr",
     "output_type": "stream",
     "text": [
      "reading plays\n",
      "\n",
      "\u001b[1m\u001b[1mRows: \u001b[1m\u001b[22m\u001b[34m\u001b[34m19150868\u001b[34m\u001b[39m \u001b[1m\u001b[1mColumns: \u001b[1m\u001b[22m\u001b[34m\u001b[34m6\u001b[34m\u001b[39m\n",
      "\n",
      "\u001b[36m--\u001b[39m \u001b[1m\u001b[1mColumn specification\u001b[1m\u001b[22m \u001b[36m------------------------------------------------------------------------------------------------\u001b[39m\n",
      "\u001b[1mDelimiter:\u001b[22m \"\\t\"\n",
      "\u001b[31mchr\u001b[39m  (5): user, artistId, artist, trackId, track\n",
      "\u001b[34mdttm\u001b[39m (1): time\n",
      "\n",
      "\n",
      "\u001b[36mi\u001b[39m Use \u001b[30m\u001b[47m\u001b[30m\u001b[47m`spec()`\u001b[47m\u001b[30m\u001b[49m\u001b[39m to retrieve the full column specification for this data.\n",
      "\u001b[36mi\u001b[39m Specify the column types or set \u001b[30m\u001b[47m\u001b[30m\u001b[47m`show_col_types = FALSE`\u001b[47m\u001b[30m\u001b[49m\u001b[39m to quiet this message.\n",
      "\n"
     ]
    },
    {
     "data": {
      "text/html": [
       "<table class=\"dataframe\">\n",
       "<caption>A tibble: 6 × 6</caption>\n",
       "<thead>\n",
       "\t<tr><th scope=col>user</th><th scope=col>time</th><th scope=col>artistId</th><th scope=col>artist</th><th scope=col>trackId</th><th scope=col>track</th></tr>\n",
       "\t<tr><th scope=col>&lt;chr&gt;</th><th scope=col>&lt;dttm&gt;</th><th scope=col>&lt;chr&gt;</th><th scope=col>&lt;chr&gt;</th><th scope=col>&lt;chr&gt;</th><th scope=col>&lt;chr&gt;</th></tr>\n",
       "</thead>\n",
       "<tbody>\n",
       "\t<tr><td>user_000001</td><td>2009-05-04 23:08:57</td><td>f1b1cf71-bd35-4e99-8624-24a6e15f133a</td><td>Deep Dish                       </td><td>NA</td><td>Fuck Me Im Famous (Pacha Ibiza)-09-28-2007</td></tr>\n",
       "\t<tr><td>user_000001</td><td>2009-05-04 13:54:10</td><td>a7f7df4a-77d8-4f12-8acd-5c60c93f4de8</td><td>&lt;U+5742&gt;&lt;U+672C&gt;&lt;U+9F8D&gt;&lt;U+4E00&gt;</td><td>NA</td><td><span style=white-space:pre-wrap>Composition 0919 (Live_2009_4_15)         </span></td></tr>\n",
       "\t<tr><td>user_000001</td><td>2009-05-04 13:52:04</td><td>a7f7df4a-77d8-4f12-8acd-5c60c93f4de8</td><td>&lt;U+5742&gt;&lt;U+672C&gt;&lt;U+9F8D&gt;&lt;U+4E00&gt;</td><td>NA</td><td><span style=white-space:pre-wrap>Mc2 (Live_2009_4_15)                      </span></td></tr>\n",
       "\t<tr><td>user_000001</td><td>2009-05-04 13:42:52</td><td>a7f7df4a-77d8-4f12-8acd-5c60c93f4de8</td><td>&lt;U+5742&gt;&lt;U+672C&gt;&lt;U+9F8D&gt;&lt;U+4E00&gt;</td><td>NA</td><td><span style=white-space:pre-wrap>Hibari (Live_2009_4_15)                   </span></td></tr>\n",
       "\t<tr><td>user_000001</td><td>2009-05-04 13:42:11</td><td>a7f7df4a-77d8-4f12-8acd-5c60c93f4de8</td><td>&lt;U+5742&gt;&lt;U+672C&gt;&lt;U+9F8D&gt;&lt;U+4E00&gt;</td><td>NA</td><td><span style=white-space:pre-wrap>Mc1 (Live_2009_4_15)                      </span></td></tr>\n",
       "\t<tr><td>user_000001</td><td>2009-05-04 13:38:31</td><td>a7f7df4a-77d8-4f12-8acd-5c60c93f4de8</td><td>&lt;U+5742&gt;&lt;U+672C&gt;&lt;U+9F8D&gt;&lt;U+4E00&gt;</td><td>NA</td><td><span style=white-space:pre-wrap>To Stanford (Live_2009_4_15)              </span></td></tr>\n",
       "</tbody>\n",
       "</table>\n"
      ],
      "text/latex": [
       "A tibble: 6 × 6\n",
       "\\begin{tabular}{llllll}\n",
       " user & time & artistId & artist & trackId & track\\\\\n",
       " <chr> & <dttm> & <chr> & <chr> & <chr> & <chr>\\\\\n",
       "\\hline\n",
       "\t user\\_000001 & 2009-05-04 23:08:57 & f1b1cf71-bd35-4e99-8624-24a6e15f133a & Deep Dish                        & NA & Fuck Me Im Famous (Pacha Ibiza)-09-28-2007\\\\\n",
       "\t user\\_000001 & 2009-05-04 13:54:10 & a7f7df4a-77d8-4f12-8acd-5c60c93f4de8 & <U+5742><U+672C><U+9F8D><U+4E00> & NA & Composition 0919 (Live\\_2009\\_4\\_15)         \\\\\n",
       "\t user\\_000001 & 2009-05-04 13:52:04 & a7f7df4a-77d8-4f12-8acd-5c60c93f4de8 & <U+5742><U+672C><U+9F8D><U+4E00> & NA & Mc2 (Live\\_2009\\_4\\_15)                      \\\\\n",
       "\t user\\_000001 & 2009-05-04 13:42:52 & a7f7df4a-77d8-4f12-8acd-5c60c93f4de8 & <U+5742><U+672C><U+9F8D><U+4E00> & NA & Hibari (Live\\_2009\\_4\\_15)                   \\\\\n",
       "\t user\\_000001 & 2009-05-04 13:42:11 & a7f7df4a-77d8-4f12-8acd-5c60c93f4de8 & <U+5742><U+672C><U+9F8D><U+4E00> & NA & Mc1 (Live\\_2009\\_4\\_15)                      \\\\\n",
       "\t user\\_000001 & 2009-05-04 13:38:31 & a7f7df4a-77d8-4f12-8acd-5c60c93f4de8 & <U+5742><U+672C><U+9F8D><U+4E00> & NA & To Stanford (Live\\_2009\\_4\\_15)              \\\\\n",
       "\\end{tabular}\n"
      ],
      "text/markdown": [
       "\n",
       "A tibble: 6 × 6\n",
       "\n",
       "| user &lt;chr&gt; | time &lt;dttm&gt; | artistId &lt;chr&gt; | artist &lt;chr&gt; | trackId &lt;chr&gt; | track &lt;chr&gt; |\n",
       "|---|---|---|---|---|---|\n",
       "| user_000001 | 2009-05-04 23:08:57 | f1b1cf71-bd35-4e99-8624-24a6e15f133a | Deep Dish                        | NA | Fuck Me Im Famous (Pacha Ibiza)-09-28-2007 |\n",
       "| user_000001 | 2009-05-04 13:54:10 | a7f7df4a-77d8-4f12-8acd-5c60c93f4de8 | &lt;U+5742&gt;&lt;U+672C&gt;&lt;U+9F8D&gt;&lt;U+4E00&gt; | NA | Composition 0919 (Live_2009_4_15)          |\n",
       "| user_000001 | 2009-05-04 13:52:04 | a7f7df4a-77d8-4f12-8acd-5c60c93f4de8 | &lt;U+5742&gt;&lt;U+672C&gt;&lt;U+9F8D&gt;&lt;U+4E00&gt; | NA | Mc2 (Live_2009_4_15)                       |\n",
       "| user_000001 | 2009-05-04 13:42:52 | a7f7df4a-77d8-4f12-8acd-5c60c93f4de8 | &lt;U+5742&gt;&lt;U+672C&gt;&lt;U+9F8D&gt;&lt;U+4E00&gt; | NA | Hibari (Live_2009_4_15)                    |\n",
       "| user_000001 | 2009-05-04 13:42:11 | a7f7df4a-77d8-4f12-8acd-5c60c93f4de8 | &lt;U+5742&gt;&lt;U+672C&gt;&lt;U+9F8D&gt;&lt;U+4E00&gt; | NA | Mc1 (Live_2009_4_15)                       |\n",
       "| user_000001 | 2009-05-04 13:38:31 | a7f7df4a-77d8-4f12-8acd-5c60c93f4de8 | &lt;U+5742&gt;&lt;U+672C&gt;&lt;U+9F8D&gt;&lt;U+4E00&gt; | NA | To Stanford (Live_2009_4_15)               |\n",
       "\n"
      ],
      "text/plain": [
       "  user        time                artistId                            \n",
       "1 user_000001 2009-05-04 23:08:57 f1b1cf71-bd35-4e99-8624-24a6e15f133a\n",
       "2 user_000001 2009-05-04 13:54:10 a7f7df4a-77d8-4f12-8acd-5c60c93f4de8\n",
       "3 user_000001 2009-05-04 13:52:04 a7f7df4a-77d8-4f12-8acd-5c60c93f4de8\n",
       "4 user_000001 2009-05-04 13:42:52 a7f7df4a-77d8-4f12-8acd-5c60c93f4de8\n",
       "5 user_000001 2009-05-04 13:42:11 a7f7df4a-77d8-4f12-8acd-5c60c93f4de8\n",
       "6 user_000001 2009-05-04 13:38:31 a7f7df4a-77d8-4f12-8acd-5c60c93f4de8\n",
       "  artist                           trackId\n",
       "1 Deep Dish                        NA     \n",
       "2 <U+5742><U+672C><U+9F8D><U+4E00> NA     \n",
       "3 <U+5742><U+672C><U+9F8D><U+4E00> NA     \n",
       "4 <U+5742><U+672C><U+9F8D><U+4E00> NA     \n",
       "5 <U+5742><U+672C><U+9F8D><U+4E00> NA     \n",
       "6 <U+5742><U+672C><U+9F8D><U+4E00> NA     \n",
       "  track                                     \n",
       "1 Fuck Me Im Famous (Pacha Ibiza)-09-28-2007\n",
       "2 Composition 0919 (Live_2009_4_15)         \n",
       "3 Mc2 (Live_2009_4_15)                      \n",
       "4 Hibari (Live_2009_4_15)                   \n",
       "5 Mc1 (Live_2009_4_15)                      \n",
       "6 To Stanford (Live_2009_4_15)              "
      ]
     },
     "metadata": {},
     "output_type": "display_data"
    }
   ],
   "source": [
    "message(\"reading plays\")\n",
    "plays = read_delim(\"data/lastfm-dataset-1K/userid-timestamp-artid-artname-traid-traname.tsv\",\n",
    "                   col_names=c(\"user\", \"time\", \"artistId\", \"artist\", \"trackId\", \"track\"),\n",
    "                   delim=\"\\t\", quote=\"\")\n",
    "head(plays)"
   ]
  },
  {
   "cell_type": "code",
   "execution_count": 6,
   "metadata": {},
   "outputs": [
    {
     "data": {
      "text/html": [
       "<table class=\"dataframe\">\n",
       "<caption>A tibble: 6 × 6</caption>\n",
       "<thead>\n",
       "\t<tr><th scope=col>user</th><th scope=col>time</th><th scope=col>artistId</th><th scope=col>artist</th><th scope=col>trackId</th><th scope=col>track</th></tr>\n",
       "\t<tr><th scope=col>&lt;chr&gt;</th><th scope=col>&lt;dttm&gt;</th><th scope=col>&lt;chr&gt;</th><th scope=col>&lt;chr&gt;</th><th scope=col>&lt;chr&gt;</th><th scope=col>&lt;chr&gt;</th></tr>\n",
       "</thead>\n",
       "<tbody>\n",
       "\t<tr><td>user_000001</td><td>2009-05-02 14:30:56</td><td>NA</td><td>Rocket Empire</td><td>NA</td><td>Simmer Down Jammie  </td></tr>\n",
       "\t<tr><td>user_000001</td><td>2009-05-01 11:58:15</td><td>NA</td><td>Rocket Empire</td><td>NA</td><td>Simmer Down Jammie  </td></tr>\n",
       "\t<tr><td>user_000001</td><td>2009-05-01 09:36:10</td><td>NA</td><td>Rocket Empire</td><td>NA</td><td>Simmer Down Jammie  </td></tr>\n",
       "\t<tr><td>user_000001</td><td>2009-05-01 09:12:21</td><td>NA</td><td>Nicken       </td><td>NA</td><td>Lifeb               </td></tr>\n",
       "\t<tr><td>user_000001</td><td>2009-05-01 08:58:19</td><td>NA</td><td>Ivan Enot    </td><td>NA</td><td>Grooves Of The Heart</td></tr>\n",
       "\t<tr><td>user_000001</td><td>2009-05-01 08:18:35</td><td>NA</td><td>Rocket Empire</td><td>NA</td><td>Simmer Down Jammie  </td></tr>\n",
       "</tbody>\n",
       "</table>\n"
      ],
      "text/latex": [
       "A tibble: 6 × 6\n",
       "\\begin{tabular}{llllll}\n",
       " user & time & artistId & artist & trackId & track\\\\\n",
       " <chr> & <dttm> & <chr> & <chr> & <chr> & <chr>\\\\\n",
       "\\hline\n",
       "\t user\\_000001 & 2009-05-02 14:30:56 & NA & Rocket Empire & NA & Simmer Down Jammie  \\\\\n",
       "\t user\\_000001 & 2009-05-01 11:58:15 & NA & Rocket Empire & NA & Simmer Down Jammie  \\\\\n",
       "\t user\\_000001 & 2009-05-01 09:36:10 & NA & Rocket Empire & NA & Simmer Down Jammie  \\\\\n",
       "\t user\\_000001 & 2009-05-01 09:12:21 & NA & Nicken        & NA & Lifeb               \\\\\n",
       "\t user\\_000001 & 2009-05-01 08:58:19 & NA & Ivan Enot     & NA & Grooves Of The Heart\\\\\n",
       "\t user\\_000001 & 2009-05-01 08:18:35 & NA & Rocket Empire & NA & Simmer Down Jammie  \\\\\n",
       "\\end{tabular}\n"
      ],
      "text/markdown": [
       "\n",
       "A tibble: 6 × 6\n",
       "\n",
       "| user &lt;chr&gt; | time &lt;dttm&gt; | artistId &lt;chr&gt; | artist &lt;chr&gt; | trackId &lt;chr&gt; | track &lt;chr&gt; |\n",
       "|---|---|---|---|---|---|\n",
       "| user_000001 | 2009-05-02 14:30:56 | NA | Rocket Empire | NA | Simmer Down Jammie   |\n",
       "| user_000001 | 2009-05-01 11:58:15 | NA | Rocket Empire | NA | Simmer Down Jammie   |\n",
       "| user_000001 | 2009-05-01 09:36:10 | NA | Rocket Empire | NA | Simmer Down Jammie   |\n",
       "| user_000001 | 2009-05-01 09:12:21 | NA | Nicken        | NA | Lifeb                |\n",
       "| user_000001 | 2009-05-01 08:58:19 | NA | Ivan Enot     | NA | Grooves Of The Heart |\n",
       "| user_000001 | 2009-05-01 08:18:35 | NA | Rocket Empire | NA | Simmer Down Jammie   |\n",
       "\n"
      ],
      "text/plain": [
       "  user        time                artistId artist        trackId\n",
       "1 user_000001 2009-05-02 14:30:56 NA       Rocket Empire NA     \n",
       "2 user_000001 2009-05-01 11:58:15 NA       Rocket Empire NA     \n",
       "3 user_000001 2009-05-01 09:36:10 NA       Rocket Empire NA     \n",
       "4 user_000001 2009-05-01 09:12:21 NA       Nicken        NA     \n",
       "5 user_000001 2009-05-01 08:58:19 NA       Ivan Enot     NA     \n",
       "6 user_000001 2009-05-01 08:18:35 NA       Rocket Empire NA     \n",
       "  track               \n",
       "1 Simmer Down Jammie  \n",
       "2 Simmer Down Jammie  \n",
       "3 Simmer Down Jammie  \n",
       "4 Lifeb               \n",
       "5 Grooves Of The Heart\n",
       "6 Simmer Down Jammie  "
      ]
     },
     "metadata": {},
     "output_type": "display_data"
    }
   ],
   "source": [
    "plays %>%\n",
    "    filter(is.na(artistId)) %>%\n",
    "    head()"
   ]
  },
  {
   "cell_type": "markdown",
   "metadata": {},
   "source": [
    "OK, we have some NAs. Grab the artists!"
   ]
  },
  {
   "cell_type": "code",
   "execution_count": 7,
   "metadata": {},
   "outputs": [
    {
     "data": {
      "text/html": [
       "<table class=\"dataframe\">\n",
       "<caption>A tibble: 6 × 3</caption>\n",
       "<thead>\n",
       "\t<tr><th scope=col>artistId</th><th scope=col>artist</th><th scope=col>id</th></tr>\n",
       "\t<tr><th scope=col>&lt;chr&gt;</th><th scope=col>&lt;chr&gt;</th><th scope=col>&lt;int&gt;</th></tr>\n",
       "</thead>\n",
       "<tbody>\n",
       "\t<tr><td>f1b1cf71-bd35-4e99-8624-24a6e15f133a</td><td>Deep Dish                       </td><td>1</td></tr>\n",
       "\t<tr><td>a7f7df4a-77d8-4f12-8acd-5c60c93f4de8</td><td>&lt;U+5742&gt;&lt;U+672C&gt;&lt;U+9F8D&gt;&lt;U+4E00&gt;</td><td>2</td></tr>\n",
       "\t<tr><td>ba2f4f3b-0293-4bc8-bb94-2f73b5207343</td><td>Underworld                      </td><td>3</td></tr>\n",
       "\t<tr><td>a16e47f5-aa54-47fe-87e4-bb8af91a9fdd</td><td>Ennio Morricone                 </td><td>4</td></tr>\n",
       "\t<tr><td>463a94f1-2713-40b1-9c88-dcc9c0170cae</td><td>Minus 8                         </td><td>5</td></tr>\n",
       "\t<tr><td>ad0811ea-e213-451d-b22f-fa1a7f9e0226</td><td>Beanfield                       </td><td>6</td></tr>\n",
       "</tbody>\n",
       "</table>\n"
      ],
      "text/latex": [
       "A tibble: 6 × 3\n",
       "\\begin{tabular}{lll}\n",
       " artistId & artist & id\\\\\n",
       " <chr> & <chr> & <int>\\\\\n",
       "\\hline\n",
       "\t f1b1cf71-bd35-4e99-8624-24a6e15f133a & Deep Dish                        & 1\\\\\n",
       "\t a7f7df4a-77d8-4f12-8acd-5c60c93f4de8 & <U+5742><U+672C><U+9F8D><U+4E00> & 2\\\\\n",
       "\t ba2f4f3b-0293-4bc8-bb94-2f73b5207343 & Underworld                       & 3\\\\\n",
       "\t a16e47f5-aa54-47fe-87e4-bb8af91a9fdd & Ennio Morricone                  & 4\\\\\n",
       "\t 463a94f1-2713-40b1-9c88-dcc9c0170cae & Minus 8                          & 5\\\\\n",
       "\t ad0811ea-e213-451d-b22f-fa1a7f9e0226 & Beanfield                        & 6\\\\\n",
       "\\end{tabular}\n"
      ],
      "text/markdown": [
       "\n",
       "A tibble: 6 × 3\n",
       "\n",
       "| artistId &lt;chr&gt; | artist &lt;chr&gt; | id &lt;int&gt; |\n",
       "|---|---|---|\n",
       "| f1b1cf71-bd35-4e99-8624-24a6e15f133a | Deep Dish                        | 1 |\n",
       "| a7f7df4a-77d8-4f12-8acd-5c60c93f4de8 | &lt;U+5742&gt;&lt;U+672C&gt;&lt;U+9F8D&gt;&lt;U+4E00&gt; | 2 |\n",
       "| ba2f4f3b-0293-4bc8-bb94-2f73b5207343 | Underworld                       | 3 |\n",
       "| a16e47f5-aa54-47fe-87e4-bb8af91a9fdd | Ennio Morricone                  | 4 |\n",
       "| 463a94f1-2713-40b1-9c88-dcc9c0170cae | Minus 8                          | 5 |\n",
       "| ad0811ea-e213-451d-b22f-fa1a7f9e0226 | Beanfield                        | 6 |\n",
       "\n"
      ],
      "text/plain": [
       "  artistId                             artist                           id\n",
       "1 f1b1cf71-bd35-4e99-8624-24a6e15f133a Deep Dish                        1 \n",
       "2 a7f7df4a-77d8-4f12-8acd-5c60c93f4de8 <U+5742><U+672C><U+9F8D><U+4E00> 2 \n",
       "3 ba2f4f3b-0293-4bc8-bb94-2f73b5207343 Underworld                       3 \n",
       "4 a16e47f5-aa54-47fe-87e4-bb8af91a9fdd Ennio Morricone                  4 \n",
       "5 463a94f1-2713-40b1-9c88-dcc9c0170cae Minus 8                          5 \n",
       "6 ad0811ea-e213-451d-b22f-fa1a7f9e0226 Beanfield                        6 "
      ]
     },
     "metadata": {},
     "output_type": "display_data"
    }
   ],
   "source": [
    "artists = plays %>%\n",
    "    select(artistId, artist) %>%\n",
    "    distinct() %>%\n",
    "    mutate(id=1:n())\n",
    "head(artists)"
   ]
  },
  {
   "cell_type": "markdown",
   "metadata": {},
   "source": [
    "Now we will group into artist play counts."
   ]
  },
  {
   "cell_type": "code",
   "execution_count": 8,
   "metadata": {},
   "outputs": [
    {
     "name": "stderr",
     "output_type": "stream",
     "text": [
      "Joining, by = c(\"artistId\", \"artist\")\n",
      "\n",
      "Joining, by = \"key\"\n",
      "\n",
      "`summarise()` has grouped output by 'user'. You can override using the `.groups` argument.\n",
      "\n"
     ]
    },
    {
     "data": {
      "text/html": [
       "<table class=\"dataframe\">\n",
       "<caption>A grouped_df: 6 × 3</caption>\n",
       "<thead>\n",
       "\t<tr><th scope=col>user</th><th scope=col>artist</th><th scope=col>count</th></tr>\n",
       "\t<tr><th scope=col>&lt;int&gt;</th><th scope=col>&lt;int&gt;</th><th scope=col>&lt;int&gt;</th></tr>\n",
       "</thead>\n",
       "<tbody>\n",
       "\t<tr><td>1</td><td>1</td><td>  1</td></tr>\n",
       "\t<tr><td>1</td><td>2</td><td>855</td></tr>\n",
       "\t<tr><td>1</td><td>3</td><td>779</td></tr>\n",
       "\t<tr><td>1</td><td>4</td><td> 12</td></tr>\n",
       "\t<tr><td>1</td><td>5</td><td> 18</td></tr>\n",
       "\t<tr><td>1</td><td>6</td><td>  8</td></tr>\n",
       "</tbody>\n",
       "</table>\n"
      ],
      "text/latex": [
       "A grouped\\_df: 6 × 3\n",
       "\\begin{tabular}{lll}\n",
       " user & artist & count\\\\\n",
       " <int> & <int> & <int>\\\\\n",
       "\\hline\n",
       "\t 1 & 1 &   1\\\\\n",
       "\t 1 & 2 & 855\\\\\n",
       "\t 1 & 3 & 779\\\\\n",
       "\t 1 & 4 &  12\\\\\n",
       "\t 1 & 5 &  18\\\\\n",
       "\t 1 & 6 &   8\\\\\n",
       "\\end{tabular}\n"
      ],
      "text/markdown": [
       "\n",
       "A grouped_df: 6 × 3\n",
       "\n",
       "| user &lt;int&gt; | artist &lt;int&gt; | count &lt;int&gt; |\n",
       "|---|---|---|\n",
       "| 1 | 1 |   1 |\n",
       "| 1 | 2 | 855 |\n",
       "| 1 | 3 | 779 |\n",
       "| 1 | 4 |  12 |\n",
       "| 1 | 5 |  18 |\n",
       "| 1 | 6 |   8 |\n",
       "\n"
      ],
      "text/plain": [
       "  user artist count\n",
       "1 1    1        1  \n",
       "2 1    2      855  \n",
       "3 1    3      779  \n",
       "4 1    4       12  \n",
       "5 1    5       18  \n",
       "6 1    6        8  "
      ]
     },
     "metadata": {},
     "output_type": "display_data"
    }
   ],
   "source": [
    "artist_play_counts = plays %>%\n",
    "    inner_join(artists) %>%\n",
    "    select(key=user, artist=id) %>%\n",
    "    inner_join(users) %>%\n",
    "    select(user=id, artist) %>%\n",
    "    group_by(user, artist) %>%\n",
    "    summarize(count=n())\n",
    "head(artist_play_counts)"
   ]
  },
  {
   "cell_type": "code",
   "execution_count": 9,
   "metadata": {},
   "outputs": [
    {
     "data": {
      "text/plain": [
       "    nartists         medPlays     \n",
       " Min.   :   2.0   Min.   : 1.000  \n",
       " 1st Qu.: 311.8   1st Qu.: 2.000  \n",
       " Median : 604.5   Median : 3.000  \n",
       " Mean   : 911.9   Mean   : 4.387  \n",
       " 3rd Qu.:1184.8   3rd Qu.: 5.000  \n",
       " Max.   :8453.0   Max.   :46.000  "
      ]
     },
     "metadata": {},
     "output_type": "display_data"
    }
   ],
   "source": [
    "user_stats = artist_play_counts %>%\n",
    "    group_by(user) %>%\n",
    "    summarize(nartists=n(), medPlays=median(count))\n",
    "user_stats %>% \n",
    "    select(-user) %>%\n",
    "    summary()"
   ]
  },
  {
   "cell_type": "code",
   "execution_count": 10,
   "metadata": {},
   "outputs": [
    {
     "data": {
      "text/html": [
       "981"
      ],
      "text/latex": [
       "981"
      ],
      "text/markdown": [
       "981"
      ],
      "text/plain": [
       "[1] 981"
      ]
     },
     "metadata": {},
     "output_type": "display_data"
    }
   ],
   "source": [
    "nrow(user_stats %>% filter(nartists >= 10))"
   ]
  },
  {
   "cell_type": "markdown",
   "metadata": {},
   "source": [
    "## Write Data\n",
    "\n",
    "Now we want to write data!"
   ]
  },
  {
   "cell_type": "code",
   "execution_count": 11,
   "metadata": {},
   "outputs": [],
   "source": [
    "write_csv(users %>% select(id, gender, age),\n",
    "          \"build/lfm1k-users.csv\", na=\"\")"
   ]
  },
  {
   "cell_type": "code",
   "execution_count": 12,
   "metadata": {},
   "outputs": [],
   "source": [
    "write_csv(artist_play_counts, \"build/lfm1k-play-counts.csv\", na=\"\")"
   ]
  },
  {
   "cell_type": "code",
   "execution_count": 13,
   "metadata": {},
   "outputs": [
    {
     "data": {
      "text/html": [
       "<table class=\"dataframe\">\n",
       "<caption>A tibble: 6 × 2</caption>\n",
       "<thead>\n",
       "\t<tr><th scope=col>user</th><th scope=col>partition</th></tr>\n",
       "\t<tr><th scope=col>&lt;int&gt;</th><th scope=col>&lt;int&gt;</th></tr>\n",
       "</thead>\n",
       "<tbody>\n",
       "\t<tr><td>1</td><td>3</td></tr>\n",
       "\t<tr><td>2</td><td>4</td></tr>\n",
       "\t<tr><td>3</td><td>5</td></tr>\n",
       "\t<tr><td>4</td><td>4</td></tr>\n",
       "\t<tr><td>5</td><td>4</td></tr>\n",
       "\t<tr><td>6</td><td>1</td></tr>\n",
       "</tbody>\n",
       "</table>\n"
      ],
      "text/latex": [
       "A tibble: 6 × 2\n",
       "\\begin{tabular}{ll}\n",
       " user & partition\\\\\n",
       " <int> & <int>\\\\\n",
       "\\hline\n",
       "\t 1 & 3\\\\\n",
       "\t 2 & 4\\\\\n",
       "\t 3 & 5\\\\\n",
       "\t 4 & 4\\\\\n",
       "\t 5 & 4\\\\\n",
       "\t 6 & 1\\\\\n",
       "\\end{tabular}\n"
      ],
      "text/markdown": [
       "\n",
       "A tibble: 6 × 2\n",
       "\n",
       "| user &lt;int&gt; | partition &lt;int&gt; |\n",
       "|---|---|\n",
       "| 1 | 3 |\n",
       "| 2 | 4 |\n",
       "| 3 | 5 |\n",
       "| 4 | 4 |\n",
       "| 5 | 4 |\n",
       "| 6 | 1 |\n",
       "\n"
      ],
      "text/plain": [
       "  user partition\n",
       "1 1    3        \n",
       "2 2    4        \n",
       "3 3    5        \n",
       "4 4    4        \n",
       "5 5    4        \n",
       "6 6    1        "
      ]
     },
     "metadata": {},
     "output_type": "display_data"
    }
   ],
   "source": [
    "user_parts = user_stats %>%\n",
    "    filter(nartists >= 10) %>%\n",
    "    mutate(partition=sample(rep(1:5, ceiling(n() / 5))[1:n()])) %>%\n",
    "    select(user, partition)\n",
    "head(user_parts)"
   ]
  },
  {
   "cell_type": "markdown",
   "metadata": {},
   "source": [
    "Let's quick check partition distributions"
   ]
  },
  {
   "cell_type": "code",
   "execution_count": null,
   "metadata": {},
   "outputs": [],
   "source": [
    "user_parts %>% group_by(partition) %>% summarize(nusers=n())"
   ]
  },
  {
   "cell_type": "code",
   "execution_count": null,
   "metadata": {},
   "outputs": [],
   "source": [
    "dir.create(\"build/lfm1k-splits\")\n",
    "for (i in 1:5) {\n",
    "    message(sprintf(\"writing partition %d\", i))\n",
    "    test_ratings = user_parts %>%\n",
    "        filter(partition == i) %>%\n",
    "        inner_join(artist_play_counts) %>%\n",
    "        group_by(user) %>%\n",
    "        mutate(pos=sample(1:n())) %>%\n",
    "        filter(pos <= 5) %>%\n",
    "        select(user, item=artist, count)\n",
    "    train_ratings = artist_play_counts %>%\n",
    "        rename(item=artist) %>%\n",
    "        anti_join(test_ratings)\n",
    "    write_csv(test_ratings, sprintf(\"build/lfm1k-splits/u.part%d.test.csv\", i), na=\"\")\n",
    "    write_csv(train_ratings, sprintf(\"build/lfm1k-splits/u.part%d.train.csv\", i), na=\"\")\n",
    "}"
   ]
  },
  {
   "cell_type": "code",
   "execution_count": null,
   "metadata": {
    "collapsed": true
   },
   "outputs": [],
   "source": []
  }
 ],
 "metadata": {
  "kernelspec": {
   "display_name": "R",
   "language": "R",
   "name": "ir"
  },
  "language_info": {
   "codemirror_mode": "r",
   "file_extension": ".r",
   "mimetype": "text/x-r-source",
   "name": "R",
   "pygments_lexer": "r",
   "version": "4.1.1"
  }
 },
 "nbformat": 4,
 "nbformat_minor": 2
}
