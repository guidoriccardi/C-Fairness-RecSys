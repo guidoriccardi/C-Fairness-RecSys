{
 "cells": [
  {
   "cell_type": "markdown",
   "metadata": {},
   "source": [
    "# U1R analysis\n",
    "\n",
    "This analyzes the results of running experiments with Bellogin's U1R method."
   ]
  },
  {
   "cell_type": "markdown",
   "metadata": {},
   "source": [
    "## Setup"
   ]
  },
  {
   "cell_type": "code",
   "execution_count": 27,
   "metadata": {},
   "outputs": [],
   "source": [
    "library(readr)\n",
    "library(purrr)\n",
    "library(dplyr)\n",
    "library(ggplot2)\n",
    "library(tidyr)"
   ]
  },
  {
   "cell_type": "code",
   "execution_count": 2,
   "metadata": {
    "collapsed": true
   },
   "outputs": [],
   "source": [
    "options(repr.plot.height=4.5,\n",
    "        repr.matrix.max.rows=10,\n",
    "        repr.matrix.max.cols=10)"
   ]
  },
  {
   "cell_type": "code",
   "execution_count": 3,
   "metadata": {
    "collapsed": true
   },
   "outputs": [],
   "source": [
    "### User Data\n",
    "\n",
    "First, we need to read the user data from the underlying MovieLens data:\n",
    "\n",
    "users.meta.ml = read_delim(\"data/ml-1m/users.dat\", delim=\":\",\n",
    "                   col_names=c(\"user\", \"gender\", \"age\", \"occupation\", \"zip\"),\n",
    "                   col_types=\"i_c_c_c_c\") %>%\n",
    "    mutate(gender=as.factor(gender),\n",
    "           age=rename_ages(age),\n",
    "           occupation=as.factor(occupation))\n",
    "users.meta.ml\n",
    "\n",
    "Do the same thing with Last.FM:\n",
    "\n",
    "users.meta.360k = read_csv(\"build/lastfm-users.csv\") %>%\n",
    "    mutate(gender=as.factor(toupper(gender)),\n",
    "           age=bound_ages(if_else(age > 0, age, as.integer(NA)))) %>%\n",
    "    select(user=id, gender, age)\n",
    "\n",
    "users.meta.360ksource(\"plot-tools.R\")"
   ]
  },
  {
   "cell_type": "markdown",
   "metadata": {},
   "source": [
    "### Demographic Utilities"
   ]
  },
  {
   "cell_type": "markdown",
   "metadata": {},
   "source": [
    "We need to be able to normalize ages."
   ]
  },
  {
   "cell_type": "code",
   "execution_count": 4,
   "metadata": {
    "collapsed": true
   },
   "outputs": [],
   "source": [
    "ml_age_bins = c(\"1\"=\"1-17\", \"18\"=\"18-24\", \"25\"=\"25-34\", \"35\"=\"35-44\", \"45\"=\"45-49\", \"50\"=\"50-55\", \"56\"=\"56+\")\n",
    "ml_age_lbs = c(1, 18, 25, 35, 45, 50, 56)"
   ]
  },
  {
   "cell_type": "markdown",
   "metadata": {},
   "source": [
    "Function to bound numeric ages:"
   ]
  },
  {
   "cell_type": "code",
   "execution_count": 5,
   "metadata": {
    "collapsed": true
   },
   "outputs": [],
   "source": [
    "bound_ages = function(ages, bounds=ml_age_lbs) {\n",
    "    ages[ages <= 0] = NA\n",
    "    selectors = rowSums(outer(ages, ml_age_lbs, \">=\"))\n",
    "    factor(ml_age_bins[selectors], levels=ml_age_bins, ordered=TRUE)\n",
    "}"
   ]
  },
  {
   "cell_type": "markdown",
   "metadata": {},
   "source": [
    "Function to rename MovieLens age lower bounds:"
   ]
  },
  {
   "cell_type": "code",
   "execution_count": 6,
   "metadata": {
    "collapsed": true
   },
   "outputs": [],
   "source": [
    "rename_ages = function(ages) {\n",
    "    stopifnot(is.character(ages))\n",
    "    factor(ml_age_bins[ages], levels=ml_age_bins, ordered=TRUE)\n",
    "}"
   ]
  },
  {
   "cell_type": "markdown",
   "metadata": {},
   "source": [
    "## Read Data"
   ]
  },
  {
   "cell_type": "markdown",
   "metadata": {},
   "source": [
    "### User Data\n",
    "\n",
    "First, we need to read the user data from the underlying MovieLens data:"
   ]
  },
  {
   "cell_type": "code",
   "execution_count": 7,
   "metadata": {},
   "outputs": [
    {
     "data": {
      "text/html": [
       "<table>\n",
       "<thead><tr><th scope=col>user</th><th scope=col>gender</th><th scope=col>age</th><th scope=col>occupation</th><th scope=col>zip</th></tr></thead>\n",
       "<tbody>\n",
       "\t<tr><td>1    </td><td>F    </td><td>1-17 </td><td>10   </td><td>48067</td></tr>\n",
       "\t<tr><td>2    </td><td>M    </td><td>56+  </td><td>16   </td><td>70072</td></tr>\n",
       "\t<tr><td>3    </td><td>M    </td><td>25-34</td><td>15   </td><td>55117</td></tr>\n",
       "\t<tr><td>4    </td><td>M    </td><td>45-49</td><td>7    </td><td>02460</td></tr>\n",
       "\t<tr><td>5    </td><td>M    </td><td>25-34</td><td>20   </td><td>55455</td></tr>\n",
       "\t<tr><td>⋮</td><td>⋮</td><td>⋮</td><td>⋮</td><td>⋮</td></tr>\n",
       "\t<tr><td>6036 </td><td>F    </td><td>25-34</td><td>15   </td><td>32603</td></tr>\n",
       "\t<tr><td>6037 </td><td>F    </td><td>45-49</td><td>1    </td><td>76006</td></tr>\n",
       "\t<tr><td>6038 </td><td>F    </td><td>56+  </td><td>1    </td><td>14706</td></tr>\n",
       "\t<tr><td>6039 </td><td>F    </td><td>45-49</td><td>0    </td><td>01060</td></tr>\n",
       "\t<tr><td>6040 </td><td>M    </td><td>25-34</td><td>6    </td><td>11106</td></tr>\n",
       "</tbody>\n",
       "</table>\n"
      ],
      "text/latex": [
       "\\begin{tabular}{r|lllll}\n",
       " user & gender & age & occupation & zip\\\\\n",
       "\\hline\n",
       "\t 1     & F     & 1-17  & 10    & 48067\\\\\n",
       "\t 2     & M     & 56+   & 16    & 70072\\\\\n",
       "\t 3     & M     & 25-34 & 15    & 55117\\\\\n",
       "\t 4     & M     & 45-49 & 7     & 02460\\\\\n",
       "\t 5     & M     & 25-34 & 20    & 55455\\\\\n",
       "\t ⋮ & ⋮ & ⋮ & ⋮ & ⋮\\\\\n",
       "\t 6036  & F     & 25-34 & 15    & 32603\\\\\n",
       "\t 6037  & F     & 45-49 & 1     & 76006\\\\\n",
       "\t 6038  & F     & 56+   & 1     & 14706\\\\\n",
       "\t 6039  & F     & 45-49 & 0     & 01060\\\\\n",
       "\t 6040  & M     & 25-34 & 6     & 11106\\\\\n",
       "\\end{tabular}\n"
      ],
      "text/markdown": [
       "\n",
       "user | gender | age | occupation | zip | \n",
       "|---|---|---|---|---|---|---|---|---|---|---|\n",
       "| 1     | F     | 1-17  | 10    | 48067 | \n",
       "| 2     | M     | 56+   | 16    | 70072 | \n",
       "| 3     | M     | 25-34 | 15    | 55117 | \n",
       "| 4     | M     | 45-49 | 7     | 02460 | \n",
       "| 5     | M     | 25-34 | 20    | 55455 | \n",
       "| ⋮ | ⋮ | ⋮ | ⋮ | ⋮ | \n",
       "| 6036  | F     | 25-34 | 15    | 32603 | \n",
       "| 6037  | F     | 45-49 | 1     | 76006 | \n",
       "| 6038  | F     | 56+   | 1     | 14706 | \n",
       "| 6039  | F     | 45-49 | 0     | 01060 | \n",
       "| 6040  | M     | 25-34 | 6     | 11106 | \n",
       "\n",
       "\n"
      ],
      "text/plain": [
       "     user gender age   occupation zip  \n",
       "1    1    F      1-17  10         48067\n",
       "2    2    M      56+   16         70072\n",
       "3    3    M      25-34 15         55117\n",
       "4    4    M      45-49 7          02460\n",
       "5    5    M      25-34 20         55455\n",
       "⋮    ⋮    ⋮      ⋮     ⋮          ⋮    \n",
       "6036 6036 F      25-34 15         32603\n",
       "6037 6037 F      45-49 1          76006\n",
       "6038 6038 F      56+   1          14706\n",
       "6039 6039 F      45-49 0          01060\n",
       "6040 6040 M      25-34 6          11106"
      ]
     },
     "metadata": {},
     "output_type": "display_data"
    }
   ],
   "source": [
    "users.meta.ml = read_delim(\"data/ml-1m/users.dat\", delim=\":\",\n",
    "                   col_names=c(\"user\", \"gender\", \"age\", \"occupation\", \"zip\"),\n",
    "                   col_types=\"i_c_c_c_c\") %>%\n",
    "    mutate(gender=as.factor(gender),\n",
    "           age=rename_ages(age),\n",
    "           occupation=as.factor(occupation))\n",
    "users.meta.ml"
   ]
  },
  {
   "cell_type": "markdown",
   "metadata": {},
   "source": [
    "Do the same thing with Last.FM:"
   ]
  },
  {
   "cell_type": "code",
   "execution_count": 8,
   "metadata": {},
   "outputs": [
    {
     "name": "stderr",
     "output_type": "stream",
     "text": [
      "Parsed with column specification:\n",
      "cols(\n",
      "  id = col_integer(),\n",
      "  key = col_character(),\n",
      "  gender = col_character(),\n",
      "  age = col_integer()\n",
      ")\n"
     ]
    },
    {
     "data": {
      "text/html": [
       "<table>\n",
       "<thead><tr><th scope=col>user</th><th scope=col>gender</th><th scope=col>age</th></tr></thead>\n",
       "<tbody>\n",
       "\t<tr><td>1    </td><td>F    </td><td>18-24</td></tr>\n",
       "\t<tr><td>2    </td><td>F    </td><td>NA   </td></tr>\n",
       "\t<tr><td>3    </td><td>NA   </td><td>NA   </td></tr>\n",
       "\t<tr><td>4    </td><td>M    </td><td>18-24</td></tr>\n",
       "\t<tr><td>5    </td><td>M    </td><td>25-34</td></tr>\n",
       "\t<tr><td>⋮</td><td>⋮</td><td>⋮</td></tr>\n",
       "\t<tr><td>359343</td><td>M     </td><td>25-34 </td></tr>\n",
       "\t<tr><td>359344</td><td>M     </td><td>25-34 </td></tr>\n",
       "\t<tr><td>359345</td><td>M     </td><td>18-24 </td></tr>\n",
       "\t<tr><td>359346</td><td>M     </td><td>18-24 </td></tr>\n",
       "\t<tr><td>359347</td><td>M     </td><td>18-24 </td></tr>\n",
       "</tbody>\n",
       "</table>\n"
      ],
      "text/latex": [
       "\\begin{tabular}{r|lll}\n",
       " user & gender & age\\\\\n",
       "\\hline\n",
       "\t 1     & F     & 18-24\\\\\n",
       "\t 2     & F     & NA   \\\\\n",
       "\t 3     & NA    & NA   \\\\\n",
       "\t 4     & M     & 18-24\\\\\n",
       "\t 5     & M     & 25-34\\\\\n",
       "\t ⋮ & ⋮ & ⋮\\\\\n",
       "\t 359343 & M      & 25-34 \\\\\n",
       "\t 359344 & M      & 25-34 \\\\\n",
       "\t 359345 & M      & 18-24 \\\\\n",
       "\t 359346 & M      & 18-24 \\\\\n",
       "\t 359347 & M      & 18-24 \\\\\n",
       "\\end{tabular}\n"
      ],
      "text/markdown": [
       "\n",
       "user | gender | age | \n",
       "|---|---|---|---|---|---|---|---|---|---|---|\n",
       "| 1     | F     | 18-24 | \n",
       "| 2     | F     | NA    | \n",
       "| 3     | NA    | NA    | \n",
       "| 4     | M     | 18-24 | \n",
       "| 5     | M     | 25-34 | \n",
       "| ⋮ | ⋮ | ⋮ | \n",
       "| 359343 | M      | 25-34  | \n",
       "| 359344 | M      | 25-34  | \n",
       "| 359345 | M      | 18-24  | \n",
       "| 359346 | M      | 18-24  | \n",
       "| 359347 | M      | 18-24  | \n",
       "\n",
       "\n"
      ],
      "text/plain": [
       "       user   gender age  \n",
       "1      1      F      18-24\n",
       "2      2      F      NA   \n",
       "3      3      NA     NA   \n",
       "4      4      M      18-24\n",
       "5      5      M      25-34\n",
       "⋮      ⋮      ⋮      ⋮    \n",
       "359343 359343 M      25-34\n",
       "359344 359344 M      25-34\n",
       "359345 359345 M      18-24\n",
       "359346 359346 M      18-24\n",
       "359347 359347 M      18-24"
      ]
     },
     "metadata": {},
     "output_type": "display_data"
    }
   ],
   "source": [
    "users.meta.360k = read_csv(\"build/lastfm-users.csv\") %>%\n",
    "    mutate(gender=as.factor(toupper(gender)),\n",
    "           age=bound_ages(if_else(age > 0, age, as.integer(NA)))) %>%\n",
    "    select(user=id, gender, age)\n",
    "\n",
    "users.meta.360k"
   ]
  },
  {
   "cell_type": "code",
   "execution_count": 9,
   "metadata": {},
   "outputs": [
    {
     "data": {
      "text/html": [
       "<table>\n",
       "<thead><tr><th scope=col>DataSet</th><th scope=col>user</th><th scope=col>gender</th><th scope=col>age</th><th scope=col>occupation</th><th scope=col>zip</th></tr></thead>\n",
       "<tbody>\n",
       "\t<tr><td>ML1M </td><td>1    </td><td>F    </td><td>1-17 </td><td>10   </td><td>48067</td></tr>\n",
       "\t<tr><td>ML1M </td><td>2    </td><td>M    </td><td>56+  </td><td>16   </td><td>70072</td></tr>\n",
       "\t<tr><td>ML1M </td><td>3    </td><td>M    </td><td>25-34</td><td>15   </td><td>55117</td></tr>\n",
       "\t<tr><td>ML1M </td><td>4    </td><td>M    </td><td>45-49</td><td>7    </td><td>02460</td></tr>\n",
       "\t<tr><td>ML1M </td><td>5    </td><td>M    </td><td>25-34</td><td>20   </td><td>55455</td></tr>\n",
       "\t<tr><td>⋮</td><td>⋮</td><td>⋮</td><td>⋮</td><td>⋮</td><td>⋮</td></tr>\n",
       "\t<tr><td>LFM360K</td><td>359343 </td><td>M      </td><td>25-34  </td><td>NA     </td><td>NA     </td></tr>\n",
       "\t<tr><td>LFM360K</td><td>359344 </td><td>M      </td><td>25-34  </td><td>NA     </td><td>NA     </td></tr>\n",
       "\t<tr><td>LFM360K</td><td>359345 </td><td>M      </td><td>18-24  </td><td>NA     </td><td>NA     </td></tr>\n",
       "\t<tr><td>LFM360K</td><td>359346 </td><td>M      </td><td>18-24  </td><td>NA     </td><td>NA     </td></tr>\n",
       "\t<tr><td>LFM360K</td><td>359347 </td><td>M      </td><td>18-24  </td><td>NA     </td><td>NA     </td></tr>\n",
       "</tbody>\n",
       "</table>\n"
      ],
      "text/latex": [
       "\\begin{tabular}{r|llllll}\n",
       " DataSet & user & gender & age & occupation & zip\\\\\n",
       "\\hline\n",
       "\t ML1M  & 1     & F     & 1-17  & 10    & 48067\\\\\n",
       "\t ML1M  & 2     & M     & 56+   & 16    & 70072\\\\\n",
       "\t ML1M  & 3     & M     & 25-34 & 15    & 55117\\\\\n",
       "\t ML1M  & 4     & M     & 45-49 & 7     & 02460\\\\\n",
       "\t ML1M  & 5     & M     & 25-34 & 20    & 55455\\\\\n",
       "\t ⋮ & ⋮ & ⋮ & ⋮ & ⋮ & ⋮\\\\\n",
       "\t LFM360K & 359343  & M       & 25-34   & NA      & NA     \\\\\n",
       "\t LFM360K & 359344  & M       & 25-34   & NA      & NA     \\\\\n",
       "\t LFM360K & 359345  & M       & 18-24   & NA      & NA     \\\\\n",
       "\t LFM360K & 359346  & M       & 18-24   & NA      & NA     \\\\\n",
       "\t LFM360K & 359347  & M       & 18-24   & NA      & NA     \\\\\n",
       "\\end{tabular}\n"
      ],
      "text/markdown": [
       "\n",
       "DataSet | user | gender | age | occupation | zip | \n",
       "|---|---|---|---|---|---|---|---|---|---|---|\n",
       "| ML1M  | 1     | F     | 1-17  | 10    | 48067 | \n",
       "| ML1M  | 2     | M     | 56+   | 16    | 70072 | \n",
       "| ML1M  | 3     | M     | 25-34 | 15    | 55117 | \n",
       "| ML1M  | 4     | M     | 45-49 | 7     | 02460 | \n",
       "| ML1M  | 5     | M     | 25-34 | 20    | 55455 | \n",
       "| ⋮ | ⋮ | ⋮ | ⋮ | ⋮ | ⋮ | \n",
       "| LFM360K | 359343  | M       | 25-34   | NA      | NA      | \n",
       "| LFM360K | 359344  | M       | 25-34   | NA      | NA      | \n",
       "| LFM360K | 359345  | M       | 18-24   | NA      | NA      | \n",
       "| LFM360K | 359346  | M       | 18-24   | NA      | NA      | \n",
       "| LFM360K | 359347  | M       | 18-24   | NA      | NA      | \n",
       "\n",
       "\n"
      ],
      "text/plain": [
       "       DataSet user   gender age   occupation zip  \n",
       "1      ML1M    1      F      1-17  10         48067\n",
       "2      ML1M    2      M      56+   16         70072\n",
       "3      ML1M    3      M      25-34 15         55117\n",
       "4      ML1M    4      M      45-49 7          02460\n",
       "5      ML1M    5      M      25-34 20         55455\n",
       "⋮      ⋮       ⋮      ⋮      ⋮     ⋮          ⋮    \n",
       "365383 LFM360K 359343 M      25-34 NA         NA   \n",
       "365384 LFM360K 359344 M      25-34 NA         NA   \n",
       "365385 LFM360K 359345 M      18-24 NA         NA   \n",
       "365386 LFM360K 359346 M      18-24 NA         NA   \n",
       "365387 LFM360K 359347 M      18-24 NA         NA   "
      ]
     },
     "metadata": {},
     "output_type": "display_data"
    }
   ],
   "source": [
    "users.meta = bind_rows(ML1M=users.meta.ml,\n",
    "                       LFM360K=users.meta.360k,\n",
    "                       .id=\"DataSet\")\n",
    "users.meta"
   ]
  },
  {
   "cell_type": "markdown",
   "metadata": {},
   "source": [
    "## Read Results\n",
    "\n",
    "Now we must read the recommender results. Since this is the U1R protocol, we need the underlying item files."
   ]
  },
  {
   "cell_type": "code",
   "execution_count": 13,
   "metadata": {},
   "outputs": [
    {
     "name": "stderr",
     "output_type": "stream",
     "text": [
      "Parsed with column specification:\n",
      "cols(\n",
      "  DataSet = col_character(),\n",
      "  Partition = col_integer(),\n",
      "  Algorithm = col_character(),\n",
      "  User = col_integer(),\n",
      "  TargetItem = col_integer(),\n",
      "  nDCG = col_double(),\n",
      "  Rank = col_integer(),\n",
      "  RecipRank = col_double(),\n",
      "  AvgPrec = col_double()\n",
      ")\n"
     ]
    },
    {
     "data": {
      "text/html": [
       "<table>\n",
       "<thead><tr><th scope=col>DataSet</th><th scope=col>Partition</th><th scope=col>Algorithm</th><th scope=col>user</th><th scope=col>TargetItem</th><th scope=col>nDCG</th><th scope=col>Rank</th><th scope=col>RecipRank</th><th scope=col>AvgPrec</th></tr></thead>\n",
       "<tbody>\n",
       "\t<tr><td>ML1M        </td><td>4           </td><td>Pop-B       </td><td>4021        </td><td>1438        </td><td>0.11043278  </td><td> 532        </td><td>0.0018796992</td><td>0.0018796992</td></tr>\n",
       "\t<tr><td>ML1M        </td><td>5           </td><td>Pop-B       </td><td>4049        </td><td> 748        </td><td>0.10920193  </td><td> 571        </td><td>0.0017513135</td><td>0.0017513135</td></tr>\n",
       "\t<tr><td>ML1M        </td><td>3           </td><td>Pop-B       </td><td>4026        </td><td>2046        </td><td>0.11721431  </td><td> 370        </td><td>0.0027027027</td><td>0.0027027027</td></tr>\n",
       "\t<tr><td>ML1M        </td><td>4           </td><td>Pop-B       </td><td>4021        </td><td>3406        </td><td>0.09648659  </td><td>1318        </td><td>0.0007587253</td><td>0.0007587253</td></tr>\n",
       "\t<tr><td>ML1M        </td><td>5           </td><td>Pop-B       </td><td>4049        </td><td>1275        </td><td>0.12715874  </td><td> 233        </td><td>0.0042918455</td><td>0.0042918455</td></tr>\n",
       "\t<tr><td>⋮</td><td>⋮</td><td>⋮</td><td>⋮</td><td>⋮</td><td>⋮</td><td>⋮</td><td>⋮</td><td>⋮</td></tr>\n",
       "\t<tr><td>ML1M        </td><td>1           </td><td>UU-B        </td><td> 678        </td><td>2761        </td><td>0.13197089  </td><td> 191        </td><td>0.0052356021</td><td>0.0052356021</td></tr>\n",
       "\t<tr><td>ML1M        </td><td>2           </td><td>UU-B        </td><td>4198        </td><td>2163        </td><td>0.14529302  </td><td> 118        </td><td>0.0084745763</td><td>0.0084745763</td></tr>\n",
       "\t<tr><td>ML1M        </td><td>1           </td><td>UU-B        </td><td> 678        </td><td>2837        </td><td>0.09035518  </td><td>2146        </td><td>0.0004659832</td><td>0.0004659832</td></tr>\n",
       "\t<tr><td>ML1M        </td><td>2           </td><td>UU-B        </td><td>4198        </td><td>3181        </td><td>0.09172313  </td><td>1914        </td><td>0.0005224660</td><td>0.0005224660</td></tr>\n",
       "\t<tr><td>ML1M        </td><td>1           </td><td>UU-B        </td><td> 679        </td><td>2430        </td><td>0.09713811  </td><td>1256        </td><td>0.0007961783</td><td>0.0007961783</td></tr>\n",
       "</tbody>\n",
       "</table>\n"
      ],
      "text/latex": [
       "\\begin{tabular}{r|lllllllll}\n",
       " DataSet & Partition & Algorithm & user & TargetItem & nDCG & Rank & RecipRank & AvgPrec\\\\\n",
       "\\hline\n",
       "\t ML1M         & 4            & Pop-B        & 4021         & 1438         & 0.11043278   &  532         & 0.0018796992 & 0.0018796992\\\\\n",
       "\t ML1M         & 5            & Pop-B        & 4049         &  748         & 0.10920193   &  571         & 0.0017513135 & 0.0017513135\\\\\n",
       "\t ML1M         & 3            & Pop-B        & 4026         & 2046         & 0.11721431   &  370         & 0.0027027027 & 0.0027027027\\\\\n",
       "\t ML1M         & 4            & Pop-B        & 4021         & 3406         & 0.09648659   & 1318         & 0.0007587253 & 0.0007587253\\\\\n",
       "\t ML1M         & 5            & Pop-B        & 4049         & 1275         & 0.12715874   &  233         & 0.0042918455 & 0.0042918455\\\\\n",
       "\t ⋮ & ⋮ & ⋮ & ⋮ & ⋮ & ⋮ & ⋮ & ⋮ & ⋮\\\\\n",
       "\t ML1M         & 1            & UU-B         &  678         & 2761         & 0.13197089   &  191         & 0.0052356021 & 0.0052356021\\\\\n",
       "\t ML1M         & 2            & UU-B         & 4198         & 2163         & 0.14529302   &  118         & 0.0084745763 & 0.0084745763\\\\\n",
       "\t ML1M         & 1            & UU-B         &  678         & 2837         & 0.09035518   & 2146         & 0.0004659832 & 0.0004659832\\\\\n",
       "\t ML1M         & 2            & UU-B         & 4198         & 3181         & 0.09172313   & 1914         & 0.0005224660 & 0.0005224660\\\\\n",
       "\t ML1M         & 1            & UU-B         &  679         & 2430         & 0.09713811   & 1256         & 0.0007961783 & 0.0007961783\\\\\n",
       "\\end{tabular}\n"
      ],
      "text/markdown": [
       "\n",
       "DataSet | Partition | Algorithm | user | TargetItem | nDCG | Rank | RecipRank | AvgPrec | \n",
       "|---|---|---|---|---|---|---|---|---|---|---|\n",
       "| ML1M         | 4            | Pop-B        | 4021         | 1438         | 0.11043278   |  532         | 0.0018796992 | 0.0018796992 | \n",
       "| ML1M         | 5            | Pop-B        | 4049         |  748         | 0.10920193   |  571         | 0.0017513135 | 0.0017513135 | \n",
       "| ML1M         | 3            | Pop-B        | 4026         | 2046         | 0.11721431   |  370         | 0.0027027027 | 0.0027027027 | \n",
       "| ML1M         | 4            | Pop-B        | 4021         | 3406         | 0.09648659   | 1318         | 0.0007587253 | 0.0007587253 | \n",
       "| ML1M         | 5            | Pop-B        | 4049         | 1275         | 0.12715874   |  233         | 0.0042918455 | 0.0042918455 | \n",
       "| ⋮ | ⋮ | ⋮ | ⋮ | ⋮ | ⋮ | ⋮ | ⋮ | ⋮ | \n",
       "| ML1M         | 1            | UU-B         |  678         | 2761         | 0.13197089   |  191         | 0.0052356021 | 0.0052356021 | \n",
       "| ML1M         | 2            | UU-B         | 4198         | 2163         | 0.14529302   |  118         | 0.0084745763 | 0.0084745763 | \n",
       "| ML1M         | 1            | UU-B         |  678         | 2837         | 0.09035518   | 2146         | 0.0004659832 | 0.0004659832 | \n",
       "| ML1M         | 2            | UU-B         | 4198         | 3181         | 0.09172313   | 1914         | 0.0005224660 | 0.0005224660 | \n",
       "| ML1M         | 1            | UU-B         |  679         | 2430         | 0.09713811   | 1256         | 0.0007961783 | 0.0007961783 | \n",
       "\n",
       "\n"
      ],
      "text/plain": [
       "       DataSet Partition Algorithm user TargetItem nDCG       Rank RecipRank   \n",
       "1      ML1M    4         Pop-B     4021 1438       0.11043278  532 0.0018796992\n",
       "2      ML1M    5         Pop-B     4049  748       0.10920193  571 0.0017513135\n",
       "3      ML1M    3         Pop-B     4026 2046       0.11721431  370 0.0027027027\n",
       "4      ML1M    4         Pop-B     4021 3406       0.09648659 1318 0.0007587253\n",
       "5      ML1M    5         Pop-B     4049 1275       0.12715874  233 0.0042918455\n",
       "⋮      ⋮       ⋮         ⋮         ⋮    ⋮          ⋮          ⋮    ⋮           \n",
       "141420 ML1M    1         UU-B       678 2761       0.13197089  191 0.0052356021\n",
       "141421 ML1M    2         UU-B      4198 2163       0.14529302  118 0.0084745763\n",
       "141422 ML1M    1         UU-B       678 2837       0.09035518 2146 0.0004659832\n",
       "141423 ML1M    2         UU-B      4198 3181       0.09172313 1914 0.0005224660\n",
       "141424 ML1M    1         UU-B       679 2430       0.09713811 1256 0.0007961783\n",
       "       AvgPrec     \n",
       "1      0.0018796992\n",
       "2      0.0017513135\n",
       "3      0.0027027027\n",
       "4      0.0007587253\n",
       "5      0.0042918455\n",
       "⋮      ⋮           \n",
       "141420 0.0052356021\n",
       "141421 0.0084745763\n",
       "141422 0.0004659832\n",
       "141423 0.0005224660\n",
       "141424 0.0007961783"
      ]
     },
     "metadata": {},
     "output_type": "display_data"
    }
   ],
   "source": [
    "item.results.ml = read_csv(\"build/movielens-1R-items.csv\") %>%\n",
    "    rename(user=User) %>%\n",
    "    mutate(DataSet=\"ML1M\")\n",
    "item.results.ml"
   ]
  },
  {
   "cell_type": "code",
   "execution_count": 62,
   "metadata": {},
   "outputs": [
    {
     "name": "stderr",
     "output_type": "stream",
     "text": [
      "Parsed with column specification:\n",
      "cols(\n",
      "  DataSet = col_character(),\n",
      "  Partition = col_integer(),\n",
      "  Algorithm = col_character(),\n",
      "  User = col_integer(),\n",
      "  TargetItem = col_integer(),\n",
      "  Rank = col_integer(),\n",
      "  RecipRank = col_double(),\n",
      "  nDCG = col_double(),\n",
      "  AvgPrec = col_double()\n",
      ")\n"
     ]
    },
    {
     "data": {
      "text/html": [
       "<table>\n",
       "<thead><tr><th scope=col>DataSet</th><th scope=col>Partition</th><th scope=col>Algorithm</th><th scope=col>user</th><th scope=col>TargetItem</th><th scope=col>Rank</th><th scope=col>RecipRank</th><th scope=col>nDCG</th><th scope=col>AvgPrec</th></tr></thead>\n",
       "<tbody>\n",
       "\t<tr><td>LFM360K</td><td>3      </td><td>UU-C   </td><td>242356 </td><td>24464  </td><td>NA     </td><td>0      </td><td>0      </td><td>NA     </td></tr>\n",
       "\t<tr><td>LFM360K</td><td>3      </td><td>UU-B   </td><td>242356 </td><td>24464  </td><td>NA     </td><td>0      </td><td>0      </td><td>NA     </td></tr>\n",
       "\t<tr><td>LFM360K</td><td>3      </td><td>UU-B   </td><td>242356 </td><td>25251  </td><td>NA     </td><td>0      </td><td>0      </td><td>NA     </td></tr>\n",
       "\t<tr><td>LFM360K</td><td>3      </td><td>UU-C   </td><td>242356 </td><td>25251  </td><td>NA     </td><td>0      </td><td>0      </td><td>NA     </td></tr>\n",
       "\t<tr><td>LFM360K</td><td>5      </td><td>UU-B   </td><td>237592 </td><td>14895  </td><td>NA     </td><td>0      </td><td>0      </td><td>NA     </td></tr>\n",
       "\t<tr><td>⋮</td><td>⋮</td><td>⋮</td><td>⋮</td><td>⋮</td><td>⋮</td><td>⋮</td><td>⋮</td><td>⋮</td></tr>\n",
       "\t<tr><td>LFM360K     </td><td>1           </td><td>MF-B        </td><td>94964       </td><td>110980      </td><td>97663       </td><td>1.023929e-05</td><td>0.06032992  </td><td>1.023929e-05</td></tr>\n",
       "\t<tr><td>LFM360K     </td><td>1           </td><td>MF-B        </td><td>94964       </td><td> 53104      </td><td>26733       </td><td>3.740695e-05</td><td>0.06799791  </td><td>3.740695e-05</td></tr>\n",
       "\t<tr><td>LFM360K     </td><td>1           </td><td>MF-B        </td><td>94964       </td><td> 61576      </td><td>29964       </td><td>3.337338e-05</td><td>0.06724523  </td><td>3.337338e-05</td></tr>\n",
       "\t<tr><td>LFM360K     </td><td>1           </td><td>MF-B        </td><td>94964       </td><td> 27426      </td><td>21482       </td><td>4.655060e-05</td><td>0.06948864  </td><td>4.655060e-05</td></tr>\n",
       "\t<tr><td>LFM360K     </td><td>1           </td><td>MF-B        </td><td>94964       </td><td> 56802      </td><td>25174       </td><td>3.972352e-05</td><td>0.06840111  </td><td>3.972352e-05</td></tr>\n",
       "</tbody>\n",
       "</table>\n"
      ],
      "text/latex": [
       "\\begin{tabular}{r|lllllllll}\n",
       " DataSet & Partition & Algorithm & user & TargetItem & Rank & RecipRank & nDCG & AvgPrec\\\\\n",
       "\\hline\n",
       "\t LFM360K & 3       & UU-C    & 242356  & 24464   & NA      & 0       & 0       & NA     \\\\\n",
       "\t LFM360K & 3       & UU-B    & 242356  & 24464   & NA      & 0       & 0       & NA     \\\\\n",
       "\t LFM360K & 3       & UU-B    & 242356  & 25251   & NA      & 0       & 0       & NA     \\\\\n",
       "\t LFM360K & 3       & UU-C    & 242356  & 25251   & NA      & 0       & 0       & NA     \\\\\n",
       "\t LFM360K & 5       & UU-B    & 237592  & 14895   & NA      & 0       & 0       & NA     \\\\\n",
       "\t ⋮ & ⋮ & ⋮ & ⋮ & ⋮ & ⋮ & ⋮ & ⋮ & ⋮\\\\\n",
       "\t LFM360K      & 1            & MF-B         & 94964        & 110980       & 97663        & 1.023929e-05 & 0.06032992   & 1.023929e-05\\\\\n",
       "\t LFM360K      & 1            & MF-B         & 94964        &  53104       & 26733        & 3.740695e-05 & 0.06799791   & 3.740695e-05\\\\\n",
       "\t LFM360K      & 1            & MF-B         & 94964        &  61576       & 29964        & 3.337338e-05 & 0.06724523   & 3.337338e-05\\\\\n",
       "\t LFM360K      & 1            & MF-B         & 94964        &  27426       & 21482        & 4.655060e-05 & 0.06948864   & 4.655060e-05\\\\\n",
       "\t LFM360K      & 1            & MF-B         & 94964        &  56802       & 25174        & 3.972352e-05 & 0.06840111   & 3.972352e-05\\\\\n",
       "\\end{tabular}\n"
      ],
      "text/markdown": [
       "\n",
       "DataSet | Partition | Algorithm | user | TargetItem | Rank | RecipRank | nDCG | AvgPrec | \n",
       "|---|---|---|---|---|---|---|---|---|---|---|\n",
       "| LFM360K | 3       | UU-C    | 242356  | 24464   | NA      | 0       | 0       | NA      | \n",
       "| LFM360K | 3       | UU-B    | 242356  | 24464   | NA      | 0       | 0       | NA      | \n",
       "| LFM360K | 3       | UU-B    | 242356  | 25251   | NA      | 0       | 0       | NA      | \n",
       "| LFM360K | 3       | UU-C    | 242356  | 25251   | NA      | 0       | 0       | NA      | \n",
       "| LFM360K | 5       | UU-B    | 237592  | 14895   | NA      | 0       | 0       | NA      | \n",
       "| ⋮ | ⋮ | ⋮ | ⋮ | ⋮ | ⋮ | ⋮ | ⋮ | ⋮ | \n",
       "| LFM360K      | 1            | MF-B         | 94964        | 110980       | 97663        | 1.023929e-05 | 0.06032992   | 1.023929e-05 | \n",
       "| LFM360K      | 1            | MF-B         | 94964        |  53104       | 26733        | 3.740695e-05 | 0.06799791   | 3.740695e-05 | \n",
       "| LFM360K      | 1            | MF-B         | 94964        |  61576       | 29964        | 3.337338e-05 | 0.06724523   | 3.337338e-05 | \n",
       "| LFM360K      | 1            | MF-B         | 94964        |  27426       | 21482        | 4.655060e-05 | 0.06948864   | 4.655060e-05 | \n",
       "| LFM360K      | 1            | MF-B         | 94964        |  56802       | 25174        | 3.972352e-05 | 0.06840111   | 3.972352e-05 | \n",
       "\n",
       "\n"
      ],
      "text/plain": [
       "        DataSet Partition Algorithm user   TargetItem Rank  RecipRank   \n",
       "1       LFM360K 3         UU-C      242356 24464      NA    0           \n",
       "2       LFM360K 3         UU-B      242356 24464      NA    0           \n",
       "3       LFM360K 3         UU-B      242356 25251      NA    0           \n",
       "4       LFM360K 3         UU-C      242356 25251      NA    0           \n",
       "5       LFM360K 5         UU-B      237592 14895      NA    0           \n",
       "⋮       ⋮       ⋮         ⋮         ⋮      ⋮          ⋮     ⋮           \n",
       "1785155 LFM360K 1         MF-B      94964  110980     97663 1.023929e-05\n",
       "1785156 LFM360K 1         MF-B      94964   53104     26733 3.740695e-05\n",
       "1785157 LFM360K 1         MF-B      94964   61576     29964 3.337338e-05\n",
       "1785158 LFM360K 1         MF-B      94964   27426     21482 4.655060e-05\n",
       "1785159 LFM360K 1         MF-B      94964   56802     25174 3.972352e-05\n",
       "        nDCG       AvgPrec     \n",
       "1       0          NA          \n",
       "2       0          NA          \n",
       "3       0          NA          \n",
       "4       0          NA          \n",
       "5       0          NA          \n",
       "⋮       ⋮          ⋮           \n",
       "1785155 0.06032992 1.023929e-05\n",
       "1785156 0.06799791 3.740695e-05\n",
       "1785157 0.06724523 3.337338e-05\n",
       "1785158 0.06948864 4.655060e-05\n",
       "1785159 0.06840111 3.972352e-05"
      ]
     },
     "metadata": {},
     "output_type": "display_data"
    }
   ],
   "source": [
    "item.results.lfm360k = read_csv(\"build/lastfm-item-1R-item-results.csv\") %>%\n",
    "    rename(user=User) %>%\n",
    "    mutate(DataSet=\"LFM360K\")\n",
    "item.results.lfm360k"
   ]
  },
  {
   "cell_type": "code",
   "execution_count": 63,
   "metadata": {
    "collapsed": true
   },
   "outputs": [],
   "source": [
    "item.results = bind_rows(item.results.ml, item.results.lfm360k)"
   ]
  },
  {
   "cell_type": "code",
   "execution_count": 64,
   "metadata": {},
   "outputs": [
    {
     "data": {
      "text/html": [
       "<table>\n",
       "<thead><tr><th scope=col>DataSet</th><th scope=col>Algorithm</th><th scope=col>nDCG</th><th scope=col>MRR</th></tr></thead>\n",
       "<tbody>\n",
       "\t<tr><td>LFM360K     </td><td>II-B        </td><td>0.11521055  </td><td>1.457182e-02</td></tr>\n",
       "\t<tr><td>LFM360K     </td><td>II-C        </td><td>0.06933316  </td><td>4.356273e-04</td></tr>\n",
       "\t<tr><td>LFM360K     </td><td>II-CS       </td><td>0.11512288  </td><td>1.498513e-02</td></tr>\n",
       "\t<tr><td>LFM360K     </td><td>MF-B        </td><td>0.07099392  </td><td>2.400604e-04</td></tr>\n",
       "\t<tr><td>LFM360K     </td><td>MF-C        </td><td>0.06302425  </td><td>6.661219e-05</td></tr>\n",
       "\t<tr><td>⋮</td><td>⋮</td><td>⋮</td><td>⋮</td></tr>\n",
       "\t<tr><td>ML1M       </td><td>MF-B       </td><td>0.1005116  </td><td>0.003013896</td></tr>\n",
       "\t<tr><td>ML1M       </td><td>MF-E       </td><td>0.1000357  </td><td>0.003083938</td></tr>\n",
       "\t<tr><td>ML1M       </td><td>Pop-B      </td><td>0.1051980  </td><td>0.006273357</td></tr>\n",
       "\t<tr><td>ML1M       </td><td>UU-B       </td><td>0.1309468  </td><td>0.019808926</td></tr>\n",
       "\t<tr><td>ML1M       </td><td>UU-E       </td><td>0.1031338  </td><td>0.002663259</td></tr>\n",
       "</tbody>\n",
       "</table>\n"
      ],
      "text/latex": [
       "\\begin{tabular}{r|llll}\n",
       " DataSet & Algorithm & nDCG & MRR\\\\\n",
       "\\hline\n",
       "\t LFM360K      & II-B         & 0.11521055   & 1.457182e-02\\\\\n",
       "\t LFM360K      & II-C         & 0.06933316   & 4.356273e-04\\\\\n",
       "\t LFM360K      & II-CS        & 0.11512288   & 1.498513e-02\\\\\n",
       "\t LFM360K      & MF-B         & 0.07099392   & 2.400604e-04\\\\\n",
       "\t LFM360K      & MF-C         & 0.06302425   & 6.661219e-05\\\\\n",
       "\t ⋮ & ⋮ & ⋮ & ⋮\\\\\n",
       "\t ML1M        & MF-B        & 0.1005116   & 0.003013896\\\\\n",
       "\t ML1M        & MF-E        & 0.1000357   & 0.003083938\\\\\n",
       "\t ML1M        & Pop-B       & 0.1051980   & 0.006273357\\\\\n",
       "\t ML1M        & UU-B        & 0.1309468   & 0.019808926\\\\\n",
       "\t ML1M        & UU-E        & 0.1031338   & 0.002663259\\\\\n",
       "\\end{tabular}\n"
      ],
      "text/markdown": [
       "\n",
       "DataSet | Algorithm | nDCG | MRR | \n",
       "|---|---|---|---|---|---|---|---|---|---|---|\n",
       "| LFM360K      | II-B         | 0.11521055   | 1.457182e-02 | \n",
       "| LFM360K      | II-C         | 0.06933316   | 4.356273e-04 | \n",
       "| LFM360K      | II-CS        | 0.11512288   | 1.498513e-02 | \n",
       "| LFM360K      | MF-B         | 0.07099392   | 2.400604e-04 | \n",
       "| LFM360K      | MF-C         | 0.06302425   | 6.661219e-05 | \n",
       "| ⋮ | ⋮ | ⋮ | ⋮ | \n",
       "| ML1M        | MF-B        | 0.1005116   | 0.003013896 | \n",
       "| ML1M        | MF-E        | 0.1000357   | 0.003083938 | \n",
       "| ML1M        | Pop-B       | 0.1051980   | 0.006273357 | \n",
       "| ML1M        | UU-B        | 0.1309468   | 0.019808926 | \n",
       "| ML1M        | UU-E        | 0.1031338   | 0.002663259 | \n",
       "\n",
       "\n"
      ],
      "text/plain": [
       "   DataSet Algorithm nDCG       MRR         \n",
       "1  LFM360K II-B      0.11521055 1.457182e-02\n",
       "2  LFM360K II-C      0.06933316 4.356273e-04\n",
       "3  LFM360K II-CS     0.11512288 1.498513e-02\n",
       "4  LFM360K MF-B      0.07099392 2.400604e-04\n",
       "5  LFM360K MF-C      0.06302425 6.661219e-05\n",
       "⋮  ⋮       ⋮         ⋮          ⋮           \n",
       "13 ML1M    MF-B      0.1005116  0.003013896 \n",
       "14 ML1M    MF-E      0.1000357  0.003083938 \n",
       "15 ML1M    Pop-B     0.1051980  0.006273357 \n",
       "16 ML1M    UU-B      0.1309468  0.019808926 \n",
       "17 ML1M    UU-E      0.1031338  0.002663259 "
      ]
     },
     "metadata": {},
     "output_type": "display_data"
    }
   ],
   "source": [
    "overall.results = item.results %>%\n",
    "    select(DataSet, Algorithm, RecipRank, nDCG) %>%\n",
    "    group_by(DataSet, Algorithm) %>%\n",
    "    summarize(nDCG=mean(nDCG), MRR=mean(RecipRank)) %>%\n",
    "    ungroup()\n",
    "overall.results"
   ]
  },
  {
   "cell_type": "code",
   "execution_count": 84,
   "metadata": {},
   "outputs": [
    {
     "data": {
      "text/html": [
       "<table>\n",
       "<thead><tr><th scope=col>DataSet</th><th scope=col>Best.nDCG</th><th scope=col>BestAlgo</th></tr></thead>\n",
       "<tbody>\n",
       "\t<tr><td>LFM360K  </td><td>0.1152106</td><td>II-B     </td></tr>\n",
       "\t<tr><td>ML1M     </td><td>0.1309468</td><td>UU-B     </td></tr>\n",
       "</tbody>\n",
       "</table>\n"
      ],
      "text/latex": [
       "\\begin{tabular}{r|lll}\n",
       " DataSet & Best.nDCG & BestAlgo\\\\\n",
       "\\hline\n",
       "\t LFM360K   & 0.1152106 & II-B     \\\\\n",
       "\t ML1M      & 0.1309468 & UU-B     \\\\\n",
       "\\end{tabular}\n"
      ],
      "text/markdown": [
       "\n",
       "DataSet | Best.nDCG | BestAlgo | \n",
       "|---|---|\n",
       "| LFM360K   | 0.1152106 | II-B      | \n",
       "| ML1M      | 0.1309468 | UU-B      | \n",
       "\n",
       "\n"
      ],
      "text/plain": [
       "  DataSet Best.nDCG BestAlgo\n",
       "1 LFM360K 0.1152106 II-B    \n",
       "2 ML1M    0.1309468 UU-B    "
      ]
     },
     "metadata": {},
     "output_type": "display_data"
    }
   ],
   "source": [
    "best.algos = overall.results %>%\n",
    "    group_by(DataSet) %>%\n",
    "    summarize(Best.nDCG=max(nDCG),\n",
    "              BestAlgo = Algorithm[which.max(nDCG)])\n",
    "best.algos"
   ]
  },
  {
   "cell_type": "markdown",
   "metadata": {},
   "source": [
    "## User Prevalence\n",
    "\n",
    "Since we selected test data by items, users can appear more than once. Let's see how often users appear as test users:"
   ]
  },
  {
   "cell_type": "code",
   "execution_count": 65,
   "metadata": {},
   "outputs": [
    {
     "data": {
      "text/plain": [
       "   Min. 1st Qu.  Median    Mean 3rd Qu.    Max. \n",
       "   8.00   27.00   54.00   67.77   90.00 1504.00 "
      ]
     },
     "metadata": {},
     "output_type": "display_data"
    }
   ],
   "source": [
    "user.stats = item.results %>%\n",
    "    group_by(DataSet, user) %>%\n",
    "    summarize(TestItemCount=n())\n",
    "summary(user.stats$TestItemCount)"
   ]
  },
  {
   "cell_type": "code",
   "execution_count": 68,
   "metadata": {},
   "outputs": [
    {
     "data": {},
     "metadata": {},
     "output_type": "display_data"
    },
    {
     "data": {
      "image/png": "[encoded data removed]",
      "text/plain": [
       "plot without title"
      ]
     },
     "metadata": {},
     "output_type": "display_data"
    }
   ],
   "source": [
    "make.plot(\"u1r-user-item-dist\", width=5.5, height=2, {\n",
    "    ggplot(user.stats) +\n",
    "        aes(x=TestItemCount) +\n",
    "        geom_histogram(binwidth=20) +\n",
    "        facet_wrap(~ DataSet, scales=\"free\") +\n",
    "        theme_paper() +\n",
    "        xlab(\"Test Items per User\") +\n",
    "        ylab(\"User Count\")\n",
    "})"
   ]
  },
  {
   "cell_type": "markdown",
   "metadata": {},
   "source": [
    "How often do we get test pairs for each gender?"
   ]
  },
  {
   "cell_type": "code",
   "execution_count": 69,
   "metadata": {},
   "outputs": [
    {
     "name": "stderr",
     "output_type": "stream",
     "text": [
      "Joining, by = c(\"DataSet\", \"user\")\n"
     ]
    },
    {
     "data": {
      "text/html": [
       "<table>\n",
       "<thead><tr><th scope=col>DataSet</th><th scope=col>gender</th><th scope=col>TestUsers</th><th scope=col>TestPairs</th><th scope=col>UserFrac</th><th scope=col>PairFrac</th></tr></thead>\n",
       "<tbody>\n",
       "\t<tr><td>LFM360K   </td><td>F         </td><td> 5785     </td><td> 372762   </td><td>0.23713876</td><td>0.2088117 </td></tr>\n",
       "\t<tr><td>LFM360K   </td><td>M         </td><td>16300     </td><td>1231569   </td><td>0.66816971</td><td>0.6898932 </td></tr>\n",
       "\t<tr><td>LFM360K   </td><td>NA        </td><td> 2310     </td><td> 180828   </td><td>0.09469154</td><td>0.1012952 </td></tr>\n",
       "\t<tr><td>ML1M      </td><td>F         </td><td> 1089     </td><td>  36264   </td><td>0.27008929</td><td>0.2564204 </td></tr>\n",
       "\t<tr><td>ML1M      </td><td>M         </td><td> 2943     </td><td> 105160   </td><td>0.72991071</td><td>0.7435796 </td></tr>\n",
       "</tbody>\n",
       "</table>\n"
      ],
      "text/latex": [
       "\\begin{tabular}{r|llllll}\n",
       " DataSet & gender & TestUsers & TestPairs & UserFrac & PairFrac\\\\\n",
       "\\hline\n",
       "\t LFM360K    & F          &  5785      &  372762    & 0.23713876 & 0.2088117 \\\\\n",
       "\t LFM360K    & M          & 16300      & 1231569    & 0.66816971 & 0.6898932 \\\\\n",
       "\t LFM360K    & NA         &  2310      &  180828    & 0.09469154 & 0.1012952 \\\\\n",
       "\t ML1M       & F          &  1089      &   36264    & 0.27008929 & 0.2564204 \\\\\n",
       "\t ML1M       & M          &  2943      &  105160    & 0.72991071 & 0.7435796 \\\\\n",
       "\\end{tabular}\n"
      ],
      "text/markdown": [
       "\n",
       "DataSet | gender | TestUsers | TestPairs | UserFrac | PairFrac | \n",
       "|---|---|---|---|---|\n",
       "| LFM360K    | F          |  5785      |  372762    | 0.23713876 | 0.2088117  | \n",
       "| LFM360K    | M          | 16300      | 1231569    | 0.66816971 | 0.6898932  | \n",
       "| LFM360K    | NA         |  2310      |  180828    | 0.09469154 | 0.1012952  | \n",
       "| ML1M       | F          |  1089      |   36264    | 0.27008929 | 0.2564204  | \n",
       "| ML1M       | M          |  2943      |  105160    | 0.72991071 | 0.7435796  | \n",
       "\n",
       "\n"
      ],
      "text/plain": [
       "  DataSet gender TestUsers TestPairs UserFrac   PairFrac \n",
       "1 LFM360K F       5785      372762   0.23713876 0.2088117\n",
       "2 LFM360K M      16300     1231569   0.66816971 0.6898932\n",
       "3 LFM360K NA      2310      180828   0.09469154 0.1012952\n",
       "4 ML1M    F       1089       36264   0.27008929 0.2564204\n",
       "5 ML1M    M       2943      105160   0.72991071 0.7435796"
      ]
     },
     "metadata": {},
     "output_type": "display_data"
    }
   ],
   "source": [
    "gender.stats = user.stats %>%\n",
    "    inner_join(users.meta) %>%\n",
    "    group_by(DataSet, gender) %>%\n",
    "    summarize(TestUsers=n(), TestPairs=sum(TestItemCount)) %>%\n",
    "    group_by(DataSet) %>%\n",
    "    mutate(UserFrac=TestUsers / sum(TestUsers),\n",
    "           PairFrac=TestPairs / sum(TestPairs))\n",
    "gender.stats"
   ]
  },
  {
   "cell_type": "code",
   "execution_count": 70,
   "metadata": {},
   "outputs": [
    {
     "data": {},
     "metadata": {},
     "output_type": "display_data"
    },
    {
     "data": {
      "image/png": "[encoded data removed]",
      "text/plain": [
       "plot without title"
      ]
     },
     "metadata": {},
     "output_type": "display_data"
    }
   ],
   "source": [
    "make.plot(\"u1r-test-data-dist\", width=5.5, height=2, {\n",
    "ggplot(gender.stats %>%\n",
    "           gather(\"var\", \"val\", UserFrac, PairFrac) %>%\n",
    "           mutate(var=recode(var, UserFrac=\"Users\", PairFrac=\"Test Pairs\"))) +\n",
    "    aes(x=gender, y=val) +\n",
    "    geom_bar(stat=\"identity\") +\n",
    "    facet_grid(DataSet ~ var, scales=\"free\") +\n",
    "    scale_y_continuous(labels=scales::percent) +\n",
    "    theme_paper() +\n",
    "    ylab(\"Fraction of Data Points\") +\n",
    "    xlab(\"Gender\")\n",
    "})"
   ]
  },
  {
   "cell_type": "markdown",
   "metadata": {},
   "source": [
    "We can see that these are distributed similarly to the underlying user distribution. This is good."
   ]
  },
  {
   "cell_type": "markdown",
   "metadata": {},
   "source": [
    "## Gender-Based Accuracy Results"
   ]
  },
  {
   "cell_type": "code",
   "execution_count": 71,
   "metadata": {},
   "outputs": [
    {
     "name": "stderr",
     "output_type": "stream",
     "text": [
      "Joining, by = c(\"DataSet\", \"user\")\n"
     ]
    },
    {
     "data": {
      "text/plain": [
       "   Min. 1st Qu.  Median    Mean 3rd Qu.    Max. \n",
       "  1.000   3.000   6.000   7.651  10.000 188.000 "
      ]
     },
     "metadata": {},
     "output_type": "display_data"
    },
    {
     "name": "stderr",
     "output_type": "stream",
     "text": [
      "Joining, by = c(\"DataSet\", \"Algorithm\", \"user\")\n"
     ]
    },
    {
     "data": {
      "text/html": [
       "<table>\n",
       "<thead><tr><th scope=col>DataSet</th><th scope=col>Algorithm</th><th scope=col>gender</th><th scope=col>nDCG</th><th scope=col>MRR</th><th scope=col>U.nDCG</th><th scope=col>U.MRR</th></tr></thead>\n",
       "<tbody>\n",
       "\t<tr><td>LFM360K     </td><td>II-B        </td><td>F           </td><td>0.11598505  </td><td>0.0149162039</td><td>0.11598505  </td><td>0.0149162039</td></tr>\n",
       "\t<tr><td>LFM360K     </td><td>II-B        </td><td>M           </td><td>0.11540313  </td><td>0.0145693681</td><td>0.11540313  </td><td>0.0145693681</td></tr>\n",
       "\t<tr><td>LFM360K     </td><td>II-B        </td><td>NA          </td><td>0.11230240  </td><td>0.0138785750</td><td>0.11230240  </td><td>0.0138785750</td></tr>\n",
       "\t<tr><td>LFM360K     </td><td>II-C        </td><td>F           </td><td>0.06973698  </td><td>0.0003512151</td><td>0.06973698  </td><td>0.0003512151</td></tr>\n",
       "\t<tr><td>LFM360K     </td><td>II-C        </td><td>M           </td><td>0.06934831  </td><td>0.0004648344</td><td>0.06934831  </td><td>0.0004648344</td></tr>\n",
       "\t<tr><td>⋮</td><td>⋮</td><td>⋮</td><td>⋮</td><td>⋮</td><td>⋮</td><td>⋮</td></tr>\n",
       "\t<tr><td>ML1M       </td><td>Pop-B      </td><td>M          </td><td>0.1063249  </td><td>0.007020403</td><td>0.1063249  </td><td>0.007020403</td></tr>\n",
       "\t<tr><td>ML1M       </td><td>UU-B       </td><td>F          </td><td>0.1264665  </td><td>0.016491610</td><td>0.1264665  </td><td>0.016491610</td></tr>\n",
       "\t<tr><td>ML1M       </td><td>UU-B       </td><td>M          </td><td>0.1324918  </td><td>0.020952889</td><td>0.1324918  </td><td>0.020952889</td></tr>\n",
       "\t<tr><td>ML1M       </td><td>UU-E       </td><td>F          </td><td>0.1020110  </td><td>0.002070063</td><td>0.1020110  </td><td>0.002070063</td></tr>\n",
       "\t<tr><td>ML1M       </td><td>UU-E       </td><td>M          </td><td>0.1035211  </td><td>0.002867820</td><td>0.1035211  </td><td>0.002867820</td></tr>\n",
       "</tbody>\n",
       "</table>\n"
      ],
      "text/latex": [
       "\\begin{tabular}{r|lllllll}\n",
       " DataSet & Algorithm & gender & nDCG & MRR & U.nDCG & U.MRR\\\\\n",
       "\\hline\n",
       "\t LFM360K      & II-B         & F            & 0.11598505   & 0.0149162039 & 0.11598505   & 0.0149162039\\\\\n",
       "\t LFM360K      & II-B         & M            & 0.11540313   & 0.0145693681 & 0.11540313   & 0.0145693681\\\\\n",
       "\t LFM360K      & II-B         & NA           & 0.11230240   & 0.0138785750 & 0.11230240   & 0.0138785750\\\\\n",
       "\t LFM360K      & II-C         & F            & 0.06973698   & 0.0003512151 & 0.06973698   & 0.0003512151\\\\\n",
       "\t LFM360K      & II-C         & M            & 0.06934831   & 0.0004648344 & 0.06934831   & 0.0004648344\\\\\n",
       "\t ⋮ & ⋮ & ⋮ & ⋮ & ⋮ & ⋮ & ⋮\\\\\n",
       "\t ML1M        & Pop-B       & M           & 0.1063249   & 0.007020403 & 0.1063249   & 0.007020403\\\\\n",
       "\t ML1M        & UU-B        & F           & 0.1264665   & 0.016491610 & 0.1264665   & 0.016491610\\\\\n",
       "\t ML1M        & UU-B        & M           & 0.1324918   & 0.020952889 & 0.1324918   & 0.020952889\\\\\n",
       "\t ML1M        & UU-E        & F           & 0.1020110   & 0.002070063 & 0.1020110   & 0.002070063\\\\\n",
       "\t ML1M        & UU-E        & M           & 0.1035211   & 0.002867820 & 0.1035211   & 0.002867820\\\\\n",
       "\\end{tabular}\n"
      ],
      "text/markdown": [
       "\n",
       "DataSet | Algorithm | gender | nDCG | MRR | U.nDCG | U.MRR | \n",
       "|---|---|---|---|---|---|---|---|---|---|---|\n",
       "| LFM360K      | II-B         | F            | 0.11598505   | 0.0149162039 | 0.11598505   | 0.0149162039 | \n",
       "| LFM360K      | II-B         | M            | 0.11540313   | 0.0145693681 | 0.11540313   | 0.0145693681 | \n",
       "| LFM360K      | II-B         | NA           | 0.11230240   | 0.0138785750 | 0.11230240   | 0.0138785750 | \n",
       "| LFM360K      | II-C         | F            | 0.06973698   | 0.0003512151 | 0.06973698   | 0.0003512151 | \n",
       "| LFM360K      | II-C         | M            | 0.06934831   | 0.0004648344 | 0.06934831   | 0.0004648344 | \n",
       "| ⋮ | ⋮ | ⋮ | ⋮ | ⋮ | ⋮ | ⋮ | \n",
       "| ML1M        | Pop-B       | M           | 0.1063249   | 0.007020403 | 0.1063249   | 0.007020403 | \n",
       "| ML1M        | UU-B        | F           | 0.1264665   | 0.016491610 | 0.1264665   | 0.016491610 | \n",
       "| ML1M        | UU-B        | M           | 0.1324918   | 0.020952889 | 0.1324918   | 0.020952889 | \n",
       "| ML1M        | UU-E        | F           | 0.1020110   | 0.002070063 | 0.1020110   | 0.002070063 | \n",
       "| ML1M        | UU-E        | M           | 0.1035211   | 0.002867820 | 0.1035211   | 0.002867820 | \n",
       "\n",
       "\n"
      ],
      "text/plain": [
       "   DataSet Algorithm gender nDCG       MRR          U.nDCG     U.MRR       \n",
       "1  LFM360K II-B      F      0.11598505 0.0149162039 0.11598505 0.0149162039\n",
       "2  LFM360K II-B      M      0.11540313 0.0145693681 0.11540313 0.0145693681\n",
       "3  LFM360K II-B      NA     0.11230240 0.0138785750 0.11230240 0.0138785750\n",
       "4  LFM360K II-C      F      0.06973698 0.0003512151 0.06973698 0.0003512151\n",
       "5  LFM360K II-C      M      0.06934831 0.0004648344 0.06934831 0.0004648344\n",
       "⋮  ⋮       ⋮         ⋮      ⋮          ⋮            ⋮          ⋮           \n",
       "39 ML1M    Pop-B     M      0.1063249  0.007020403  0.1063249  0.007020403 \n",
       "40 ML1M    UU-B      F      0.1264665  0.016491610  0.1264665  0.016491610 \n",
       "41 ML1M    UU-B      M      0.1324918  0.020952889  0.1324918  0.020952889 \n",
       "42 ML1M    UU-E      F      0.1020110  0.002070063  0.1020110  0.002070063 \n",
       "43 ML1M    UU-E      M      0.1035211  0.002867820  0.1035211  0.002867820 "
      ]
     },
     "metadata": {},
     "output_type": "display_data"
    }
   ],
   "source": [
    "gender.results.raw = item.results %>%\n",
    "    inner_join(users.meta) %>%\n",
    "    select(DataSet, Algorithm, gender, user, RecipRank, nDCG)\n",
    "gender.results.pu = gender.results.raw %>%\n",
    "    group_by(DataSet, Algorithm, user) %>%\n",
    "    summarize(N=n(), U.nDCG=mean(nDCG), U.MRR=mean(RecipRank))\n",
    "summary(gender.results.pu$N)\n",
    "gender.results = gender.results.raw %>%\n",
    "    inner_join(gender.results.pu) %>%\n",
    "    group_by(DataSet, Algorithm, gender) %>%\n",
    "    summarize(nDCG=mean(nDCG), MRR=mean(RecipRank),\n",
    "              U.nDCG=mean(U.nDCG), U.MRR=mean(U.MRR)) %>%\n",
    "    ungroup()\n",
    "gender.results"
   ]
  },
  {
   "cell_type": "code",
   "execution_count": 72,
   "metadata": {},
   "outputs": [
    {
     "data": {},
     "metadata": {},
     "output_type": "display_data"
    },
    {
     "data": {
      "image/png": "[encoded data removed]",
      "text/plain": [
       "plot without title"
      ]
     },
     "metadata": {},
     "output_type": "display_data"
    }
   ],
   "source": [
    "gender.ndcg.ml = gender.results %>%\n",
    "    filter(DataSet == \"ML1M\") %>%\n",
    "    select(Algorithm, gender, Overall=nDCG, PerUser=U.nDCG) %>%\n",
    "    gather(\"Aggregation\", \"nDCG\", Overall, PerUser)\n",
    "make.plot(\"u1r-gender-ndcg-ml\", width=5.5, height=2, {\n",
    "    ggplot(gender.results) +\n",
    "        aes(x=gender, y=nDCG) +\n",
    "        geom_bar(stat=\"identity\") +\n",
    "        facet_grid(DataSet ~ Algorithm, scales=\"free\") +\n",
    "        theme_paper()\n",
    "})"
   ]
  },
  {
   "cell_type": "code",
   "execution_count": 91,
   "metadata": {},
   "outputs": [
    {
     "name": "stderr",
     "output_type": "stream",
     "text": [
      "Joining, by = \"DataSet\"\n"
     ]
    },
    {
     "data": {
      "text/html": [
       "<table>\n",
       "<thead><tr><th scope=col>DataSet</th><th scope=col>Algorithm</th><th scope=col>gender</th><th scope=col>nDCG</th><th scope=col>MRR</th><th scope=col>U.nDCG</th><th scope=col>U.MRR</th><th scope=col>Best.nDCG</th><th scope=col>BestAlgo</th><th scope=col>Label</th></tr></thead>\n",
       "<tbody>\n",
       "\t<tr><td>LFM360K        </td><td>II-B           </td><td>F              </td><td>0.1159851      </td><td>0.01491620     </td><td>0.1159851      </td><td>0.01491620     </td><td>0.1152106      </td><td>II-B           </td><td>II-B on LFM360K</td></tr>\n",
       "\t<tr><td>LFM360K        </td><td>II-B           </td><td>M              </td><td>0.1154031      </td><td>0.01456937     </td><td>0.1154031      </td><td>0.01456937     </td><td>0.1152106      </td><td>II-B           </td><td>II-B on LFM360K</td></tr>\n",
       "\t<tr><td>LFM360K        </td><td>II-B           </td><td>NA             </td><td>0.1123024      </td><td>0.01387857     </td><td>0.1123024      </td><td>0.01387857     </td><td>0.1152106      </td><td>II-B           </td><td>II-B on LFM360K</td></tr>\n",
       "\t<tr><td>ML1M           </td><td>UU-B           </td><td>F              </td><td>0.1264665      </td><td>0.01649161     </td><td>0.1264665      </td><td>0.01649161     </td><td>0.1309468      </td><td>UU-B           </td><td>UU-B on ML1M   </td></tr>\n",
       "\t<tr><td>ML1M           </td><td>UU-B           </td><td>M              </td><td>0.1324918      </td><td>0.02095289     </td><td>0.1324918      </td><td>0.02095289     </td><td>0.1309468      </td><td>UU-B           </td><td>UU-B on ML1M   </td></tr>\n",
       "</tbody>\n",
       "</table>\n"
      ],
      "text/latex": [
       "\\begin{tabular}{r|llllllllll}\n",
       " DataSet & Algorithm & gender & nDCG & MRR & U.nDCG & U.MRR & Best.nDCG & BestAlgo & Label\\\\\n",
       "\\hline\n",
       "\t LFM360K         & II-B            & F               & 0.1159851       & 0.01491620      & 0.1159851       & 0.01491620      & 0.1152106       & II-B            & II-B on LFM360K\\\\\n",
       "\t LFM360K         & II-B            & M               & 0.1154031       & 0.01456937      & 0.1154031       & 0.01456937      & 0.1152106       & II-B            & II-B on LFM360K\\\\\n",
       "\t LFM360K         & II-B            & NA              & 0.1123024       & 0.01387857      & 0.1123024       & 0.01387857      & 0.1152106       & II-B            & II-B on LFM360K\\\\\n",
       "\t ML1M            & UU-B            & F               & 0.1264665       & 0.01649161      & 0.1264665       & 0.01649161      & 0.1309468       & UU-B            & UU-B on ML1M   \\\\\n",
       "\t ML1M            & UU-B            & M               & 0.1324918       & 0.02095289      & 0.1324918       & 0.02095289      & 0.1309468       & UU-B            & UU-B on ML1M   \\\\\n",
       "\\end{tabular}\n"
      ],
      "text/markdown": [
       "\n",
       "DataSet | Algorithm | gender | nDCG | MRR | U.nDCG | U.MRR | Best.nDCG | BestAlgo | Label | \n",
       "|---|---|---|---|---|\n",
       "| LFM360K         | II-B            | F               | 0.1159851       | 0.01491620      | 0.1159851       | 0.01491620      | 0.1152106       | II-B            | II-B on LFM360K | \n",
       "| LFM360K         | II-B            | M               | 0.1154031       | 0.01456937      | 0.1154031       | 0.01456937      | 0.1152106       | II-B            | II-B on LFM360K | \n",
       "| LFM360K         | II-B            | NA              | 0.1123024       | 0.01387857      | 0.1123024       | 0.01387857      | 0.1152106       | II-B            | II-B on LFM360K | \n",
       "| ML1M            | UU-B            | F               | 0.1264665       | 0.01649161      | 0.1264665       | 0.01649161      | 0.1309468       | UU-B            | UU-B on ML1M    | \n",
       "| ML1M            | UU-B            | M               | 0.1324918       | 0.02095289      | 0.1324918       | 0.02095289      | 0.1309468       | UU-B            | UU-B on ML1M    | \n",
       "\n",
       "\n"
      ],
      "text/plain": [
       "  DataSet Algorithm gender nDCG      MRR        U.nDCG    U.MRR      Best.nDCG\n",
       "1 LFM360K II-B      F      0.1159851 0.01491620 0.1159851 0.01491620 0.1152106\n",
       "2 LFM360K II-B      M      0.1154031 0.01456937 0.1154031 0.01456937 0.1152106\n",
       "3 LFM360K II-B      NA     0.1123024 0.01387857 0.1123024 0.01387857 0.1152106\n",
       "4 ML1M    UU-B      F      0.1264665 0.01649161 0.1264665 0.01649161 0.1309468\n",
       "5 ML1M    UU-B      M      0.1324918 0.02095289 0.1324918 0.02095289 0.1309468\n",
       "  BestAlgo Label          \n",
       "1 II-B     II-B on LFM360K\n",
       "2 II-B     II-B on LFM360K\n",
       "3 II-B     II-B on LFM360K\n",
       "4 UU-B     UU-B on ML1M   \n",
       "5 UU-B     UU-B on ML1M   "
      ]
     },
     "metadata": {},
     "output_type": "display_data"
    },
    {
     "data": {},
     "metadata": {},
     "output_type": "display_data"
    },
    {
     "data": {
      "image/png": "[encoded data removed]",
      "text/plain": [
       "plot without title"
      ]
     },
     "metadata": {},
     "output_type": "display_data"
    }
   ],
   "source": [
    "trimmed.gender.results = gender.results %>% \n",
    "    inner_join(best.algos) %>% \n",
    "    filter(Algorithm == BestAlgo) %>%\n",
    "    mutate(Label=sprintf(\"%s on %s\", Algorithm, DataSet))\n",
    "make.plot(\"u1r-gender-ndcg-minimal\", width=5.5, height=2, {\n",
    "    ggplot(trimmed.gender.results) +\n",
    "        aes(x=gender, y=nDCG) +\n",
    "        geom_bar(stat=\"identity\") +\n",
    "        facet_wrap(~ Label, scales=\"free\") +\n",
    "        theme_paper() +\n",
    "        xlab(\"Gender\")\n",
    "})"
   ]
  },
  {
   "cell_type": "code",
   "execution_count": 73,
   "metadata": {},
   "outputs": [
    {
     "data": {},
     "metadata": {},
     "output_type": "display_data"
    },
    {
     "data": {
      "image/png": "[encoded data removed]",
      "text/plain": [
       "plot without title"
      ]
     },
     "metadata": {},
     "output_type": "display_data"
    }
   ],
   "source": [
    "gender.mrr.ml = gender.results %>%\n",
    "    filter(DataSet == \"ML1M\") %>%\n",
    "    select(Algorithm, gender, Overall=MRR, PerUser=U.MRR) %>%\n",
    "    gather(\"Aggregation\", \"MRR\", Overall, PerUser)\n",
    "ggplot(gender.mrr.ml) +\n",
    "    aes(x=gender, y=MRR) +\n",
    "    geom_bar(stat=\"identity\") +\n",
    "    facet_grid(Aggregation ~ Algorithm, scales=\"free\") +\n",
    "    theme_paper()"
   ]
  },
  {
   "cell_type": "markdown",
   "metadata": {},
   "source": [
    "## Age-based Accuracy Results"
   ]
  },
  {
   "cell_type": "code",
   "execution_count": 75,
   "metadata": {},
   "outputs": [
    {
     "name": "stderr",
     "output_type": "stream",
     "text": [
      "Joining, by = c(\"DataSet\", \"user\")\n"
     ]
    },
    {
     "data": {
      "text/plain": [
       "   Min. 1st Qu.  Median    Mean 3rd Qu.    Max. \n",
       "  1.000   3.000   6.000   7.651  10.000 188.000 "
      ]
     },
     "metadata": {},
     "output_type": "display_data"
    },
    {
     "name": "stderr",
     "output_type": "stream",
     "text": [
      "Joining, by = c(\"DataSet\", \"Algorithm\", \"user\")\n"
     ]
    },
    {
     "data": {
      "text/html": [
       "<table>\n",
       "<thead><tr><th scope=col>DataSet</th><th scope=col>Algorithm</th><th scope=col>age</th><th scope=col>nDCG</th><th scope=col>MRR</th><th scope=col>U.nDCG</th><th scope=col>U.MRR</th></tr></thead>\n",
       "<tbody>\n",
       "\t<tr><td>LFM360K   </td><td>II-B      </td><td>1-17      </td><td>0.1207145 </td><td>0.01728173</td><td>0.1207145 </td><td>0.01728173</td></tr>\n",
       "\t<tr><td>LFM360K   </td><td>II-B      </td><td>18-24     </td><td>0.1158593 </td><td>0.01372971</td><td>0.1158593 </td><td>0.01372971</td></tr>\n",
       "\t<tr><td>LFM360K   </td><td>II-B      </td><td>25-34     </td><td>0.1126686 </td><td>0.01381344</td><td>0.1126686 </td><td>0.01381344</td></tr>\n",
       "\t<tr><td>LFM360K   </td><td>II-B      </td><td>35-44     </td><td>0.1153457 </td><td>0.01621331</td><td>0.1153457 </td><td>0.01621331</td></tr>\n",
       "\t<tr><td>LFM360K   </td><td>II-B      </td><td>45-49     </td><td>0.1222298 </td><td>0.01988506</td><td>0.1222298 </td><td>0.01988506</td></tr>\n",
       "\t<tr><td>⋮</td><td>⋮</td><td>⋮</td><td>⋮</td><td>⋮</td><td>⋮</td><td>⋮</td></tr>\n",
       "\t<tr><td>ML1M       </td><td>UU-E       </td><td>25-34      </td><td>0.1025093  </td><td>0.002726368</td><td>0.1025093  </td><td>0.002726368</td></tr>\n",
       "\t<tr><td>ML1M       </td><td>UU-E       </td><td>35-44      </td><td>0.1045525  </td><td>0.002881013</td><td>0.1045525  </td><td>0.002881013</td></tr>\n",
       "\t<tr><td>ML1M       </td><td>UU-E       </td><td>45-49      </td><td>0.1051021  </td><td>0.002700964</td><td>0.1051021  </td><td>0.002700964</td></tr>\n",
       "\t<tr><td>ML1M       </td><td>UU-E       </td><td>50-55      </td><td>0.1056337  </td><td>0.002644780</td><td>0.1056337  </td><td>0.002644780</td></tr>\n",
       "\t<tr><td>ML1M       </td><td>UU-E       </td><td>56+        </td><td>0.1048559  </td><td>0.002291133</td><td>0.1048559  </td><td>0.002291133</td></tr>\n",
       "</tbody>\n",
       "</table>\n"
      ],
      "text/latex": [
       "\\begin{tabular}{r|lllllll}\n",
       " DataSet & Algorithm & age & nDCG & MRR & U.nDCG & U.MRR\\\\\n",
       "\\hline\n",
       "\t LFM360K    & II-B       & 1-17       & 0.1207145  & 0.01728173 & 0.1207145  & 0.01728173\\\\\n",
       "\t LFM360K    & II-B       & 18-24      & 0.1158593  & 0.01372971 & 0.1158593  & 0.01372971\\\\\n",
       "\t LFM360K    & II-B       & 25-34      & 0.1126686  & 0.01381344 & 0.1126686  & 0.01381344\\\\\n",
       "\t LFM360K    & II-B       & 35-44      & 0.1153457  & 0.01621331 & 0.1153457  & 0.01621331\\\\\n",
       "\t LFM360K    & II-B       & 45-49      & 0.1222298  & 0.01988506 & 0.1222298  & 0.01988506\\\\\n",
       "\t ⋮ & ⋮ & ⋮ & ⋮ & ⋮ & ⋮ & ⋮\\\\\n",
       "\t ML1M        & UU-E        & 25-34       & 0.1025093   & 0.002726368 & 0.1025093   & 0.002726368\\\\\n",
       "\t ML1M        & UU-E        & 35-44       & 0.1045525   & 0.002881013 & 0.1045525   & 0.002881013\\\\\n",
       "\t ML1M        & UU-E        & 45-49       & 0.1051021   & 0.002700964 & 0.1051021   & 0.002700964\\\\\n",
       "\t ML1M        & UU-E        & 50-55       & 0.1056337   & 0.002644780 & 0.1056337   & 0.002644780\\\\\n",
       "\t ML1M        & UU-E        & 56+         & 0.1048559   & 0.002291133 & 0.1048559   & 0.002291133\\\\\n",
       "\\end{tabular}\n"
      ],
      "text/markdown": [
       "\n",
       "DataSet | Algorithm | age | nDCG | MRR | U.nDCG | U.MRR | \n",
       "|---|---|---|---|---|---|---|---|---|---|---|\n",
       "| LFM360K    | II-B       | 1-17       | 0.1207145  | 0.01728173 | 0.1207145  | 0.01728173 | \n",
       "| LFM360K    | II-B       | 18-24      | 0.1158593  | 0.01372971 | 0.1158593  | 0.01372971 | \n",
       "| LFM360K    | II-B       | 25-34      | 0.1126686  | 0.01381344 | 0.1126686  | 0.01381344 | \n",
       "| LFM360K    | II-B       | 35-44      | 0.1153457  | 0.01621331 | 0.1153457  | 0.01621331 | \n",
       "| LFM360K    | II-B       | 45-49      | 0.1222298  | 0.01988506 | 0.1222298  | 0.01988506 | \n",
       "| ⋮ | ⋮ | ⋮ | ⋮ | ⋮ | ⋮ | ⋮ | \n",
       "| ML1M        | UU-E        | 25-34       | 0.1025093   | 0.002726368 | 0.1025093   | 0.002726368 | \n",
       "| ML1M        | UU-E        | 35-44       | 0.1045525   | 0.002881013 | 0.1045525   | 0.002881013 | \n",
       "| ML1M        | UU-E        | 45-49       | 0.1051021   | 0.002700964 | 0.1051021   | 0.002700964 | \n",
       "| ML1M        | UU-E        | 50-55       | 0.1056337   | 0.002644780 | 0.1056337   | 0.002644780 | \n",
       "| ML1M        | UU-E        | 56+         | 0.1048559   | 0.002291133 | 0.1048559   | 0.002291133 | \n",
       "\n",
       "\n"
      ],
      "text/plain": [
       "    DataSet Algorithm age   nDCG      MRR         U.nDCG    U.MRR      \n",
       "1   LFM360K II-B      1-17  0.1207145 0.01728173  0.1207145 0.01728173 \n",
       "2   LFM360K II-B      18-24 0.1158593 0.01372971  0.1158593 0.01372971 \n",
       "3   LFM360K II-B      25-34 0.1126686 0.01381344  0.1126686 0.01381344 \n",
       "4   LFM360K II-B      35-44 0.1153457 0.01621331  0.1153457 0.01621331 \n",
       "5   LFM360K II-B      45-49 0.1222298 0.01988506  0.1222298 0.01988506 \n",
       "⋮   ⋮       ⋮         ⋮     ⋮         ⋮           ⋮         ⋮          \n",
       "124 ML1M    UU-E      25-34 0.1025093 0.002726368 0.1025093 0.002726368\n",
       "125 ML1M    UU-E      35-44 0.1045525 0.002881013 0.1045525 0.002881013\n",
       "126 ML1M    UU-E      45-49 0.1051021 0.002700964 0.1051021 0.002700964\n",
       "127 ML1M    UU-E      50-55 0.1056337 0.002644780 0.1056337 0.002644780\n",
       "128 ML1M    UU-E      56+   0.1048559 0.002291133 0.1048559 0.002291133"
      ]
     },
     "metadata": {},
     "output_type": "display_data"
    }
   ],
   "source": [
    "age.results.raw = item.results %>%\n",
    "    inner_join(users.meta) %>%\n",
    "    select(DataSet, Algorithm, age, user, RecipRank, nDCG)\n",
    "age.results.pu = age.results.raw %>%\n",
    "    group_by(DataSet, Algorithm, user) %>%\n",
    "    summarize(N=n(), U.nDCG=mean(nDCG), U.MRR=mean(RecipRank))\n",
    "summary(age.results.pu$N)\n",
    "age.results = age.results.raw %>%\n",
    "    inner_join(age.results.pu) %>%\n",
    "    group_by(DataSet, Algorithm, age) %>%\n",
    "    summarize(nDCG=mean(nDCG), MRR=mean(RecipRank),\n",
    "              U.nDCG=mean(U.nDCG), U.MRR=mean(U.MRR)) %>%\n",
    "    ungroup()\n",
    "age.results"
   ]
  },
  {
   "cell_type": "code",
   "execution_count": 88,
   "metadata": {},
   "outputs": [
    {
     "name": "stderr",
     "output_type": "stream",
     "text": [
      "Joining, by = \"DataSet\"\n"
     ]
    },
    {
     "data": {},
     "metadata": {},
     "output_type": "display_data"
    },
    {
     "data": {
      "image/png": "[encoded data removed]",
      "text/plain": [
       "plot without title"
      ]
     },
     "metadata": {},
     "output_type": "display_data"
    }
   ],
   "source": [
    "trimmed.age.results = age.results %>% \n",
    "    inner_join(best.algos) %>% \n",
    "    filter(Algorithm == BestAlgo) %>%\n",
    "    mutate(Label=sprintf(\"%s on %s\", Algorithm, DataSet))\n",
    "make.plot(\"u1r-age-ndcg-minimal\", width=5.5, height=2, {\n",
    "    ggplot(trimmed.age.results) +\n",
    "        aes(x=age, y=nDCG) +\n",
    "        geom_bar(stat=\"identity\") +\n",
    "        facet_wrap(~ Label, scales=\"free\") +\n",
    "        theme_paper() +\n",
    "        theme(axis.text.x = element_text(angle=90, vjust=0.5, hjust=1)) +\n",
    "        xlab(\"Age\")\n",
    "})"
   ]
  },
  {
   "cell_type": "code",
   "execution_count": 83,
   "metadata": {},
   "outputs": [
    {
     "data": {},
     "metadata": {},
     "output_type": "display_data"
    },
    {
     "data": {
      "image/png": "[encoded data removed]",
      "text/plain": [
       "plot without title"
      ]
     },
     "metadata": {},
     "output_type": "display_data"
    }
   ],
   "source": [
    "make.plot(\"u1r-age-ndcg-lfm\", width=9, height=2, {\n",
    "    ggplot(age.results %>% filter(DataSet == \"LFM360K\", !startsWith(Algorithm, \"UU-\"))) +\n",
    "        aes(x=age, y=nDCG) +\n",
    "        geom_bar(stat=\"identity\") +\n",
    "        facet_grid(DataSet ~ Algorithm, scales=\"free\") +\n",
    "        theme_paper() +\n",
    "        theme(axis.text.x = element_text(angle=90, vjust=0.5, hjust=1))\n",
    "})"
   ]
  },
  {
   "cell_type": "code",
   "execution_count": 82,
   "metadata": {},
   "outputs": [
    {
     "data": {},
     "metadata": {},
     "output_type": "display_data"
    },
    {
     "data": {
      "image/png": "[encoded data removed]",
      "text/plain": [
       "plot without title"
      ]
     },
     "metadata": {},
     "output_type": "display_data"
    }
   ],
   "source": [
    "make.plot(\"u1r-age-ndcg-ml\", width=9, height=2, {\n",
    "    ggplot(age.results %>% filter(DataSet == \"ML1M\")) +\n",
    "        aes(x=age, y=nDCG) +\n",
    "        geom_bar(stat=\"identity\") +\n",
    "        facet_grid(DataSet ~ Algorithm, scales=\"free\") +\n",
    "        theme_paper() +\n",
    "        theme(axis.text.x = element_text(angle=90, vjust=0.5, hjust=1))\n",
    "})"
   ]
  },
  {
   "cell_type": "code",
   "execution_count": null,
   "metadata": {
    "collapsed": true
   },
   "outputs": [],
   "source": []
  }
 ],
 "metadata": {
  "kernelspec": {
   "display_name": "R",
   "language": "R",
   "name": "ir"
  },
  "language_info": {
   "codemirror_mode": "r",
   "file_extension": ".r",
   "mimetype": "text/x-r-source",
   "name": "R",
   "pygments_lexer": "r",
   "version": "3.3.2"
  }
 },
 "nbformat": 4,
 "nbformat_minor": 2
}
