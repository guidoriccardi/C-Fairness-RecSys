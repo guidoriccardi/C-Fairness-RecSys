{
 "cells": [
  {
   "cell_type": "markdown",
   "metadata": {},
   "source": [
    "# Output Analysis for Gender Balanced ML Data\n",
    "\n",
    "This notebook contains our analysis of the recommender evaluation results.\n",
    "\n",
    "It proceeds in a few steps:\n",
    "\n",
    "1. [Setup](#Setup), where we do the initial R configuration\n",
    "2. [Read Data](#Read-Data), where we load in the experiment data for analysis\n",
    "3. [Controlling for Profile Size](#Controlling-for-Profile-Size), where we model accuracy as a function of user profile size in order to control for intrinsic profile difficulty\n",
    "4. [Gender](#Gender), where we analyze the results by gender.\n",
    "5. [Age](#Age), where we analyze the results by age."
   ]
  },
  {
   "cell_type": "markdown",
   "metadata": {},
   "source": [
    "## Setup\n",
    "\n",
    "Libraries:"
   ]
  },
  {
   "cell_type": "code",
   "execution_count": 1,
   "metadata": {},
   "outputs": [
    {
     "name": "stderr",
     "output_type": "stream",
     "text": [
      "\n",
      "Attaching package: ‘dplyr’\n",
      "\n",
      "The following objects are masked from ‘package:plyr’:\n",
      "\n",
      "    arrange, count, desc, failwith, id, mutate, rename, summarise,\n",
      "    summarize\n",
      "\n",
      "The following object is masked from ‘package:MASS’:\n",
      "\n",
      "    select\n",
      "\n",
      "The following objects are masked from ‘package:stats’:\n",
      "\n",
      "    filter, lag\n",
      "\n",
      "The following objects are masked from ‘package:base’:\n",
      "\n",
      "    intersect, setdiff, setequal, union\n",
      "\n"
     ]
    }
   ],
   "source": [
    "library(MASS)\n",
    "library(plyr)\n",
    "library(dplyr)\n",
    "library(readr)\n",
    "library(ggplot2)\n",
    "library(tidyr)\n",
    "library(modelr)\n",
    "library(tibble)\n",
    "source(\"plot-tools.R\")"
   ]
  },
  {
   "cell_type": "markdown",
   "metadata": {},
   "source": [
    "Options:"
   ]
  },
  {
   "cell_type": "code",
   "execution_count": 2,
   "metadata": {
    "collapsed": true
   },
   "outputs": [],
   "source": [
    "options(repr.plot.height=5)\n",
    "options(repr.matrix.max.rows=10)\n",
    "options(repr.matrix.max.columns=10)"
   ]
  },
  {
   "cell_type": "markdown",
   "metadata": {},
   "source": [
    "## Read Data"
   ]
  },
  {
   "cell_type": "markdown",
   "metadata": {},
   "source": [
    "First, we need to read the user data from the underlying MovieLens data:"
   ]
  },
  {
   "cell_type": "code",
   "execution_count": 3,
   "metadata": {},
   "outputs": [
    {
     "data": {
      "text/html": [
       "<table>\n",
       "<thead><tr><th scope=col>user</th><th scope=col>gender</th><th scope=col>age</th><th scope=col>occupation</th><th scope=col>zip</th></tr></thead>\n",
       "<tbody>\n",
       "\t<tr><td>1    </td><td>F    </td><td>1    </td><td>10   </td><td>48067</td></tr>\n",
       "\t<tr><td>2    </td><td>M    </td><td>56   </td><td>16   </td><td>70072</td></tr>\n",
       "\t<tr><td>3    </td><td>M    </td><td>25   </td><td>15   </td><td>55117</td></tr>\n",
       "\t<tr><td>4    </td><td>M    </td><td>45   </td><td>7    </td><td>02460</td></tr>\n",
       "\t<tr><td>5    </td><td>M    </td><td>25   </td><td>20   </td><td>55455</td></tr>\n",
       "\t<tr><td>⋮</td><td>⋮</td><td>⋮</td><td>⋮</td><td>⋮</td></tr>\n",
       "\t<tr><td>6036 </td><td>F    </td><td>25   </td><td>15   </td><td>32603</td></tr>\n",
       "\t<tr><td>6037 </td><td>F    </td><td>45   </td><td>1    </td><td>76006</td></tr>\n",
       "\t<tr><td>6038 </td><td>F    </td><td>56   </td><td>1    </td><td>14706</td></tr>\n",
       "\t<tr><td>6039 </td><td>F    </td><td>45   </td><td>0    </td><td>01060</td></tr>\n",
       "\t<tr><td>6040 </td><td>M    </td><td>25   </td><td>6    </td><td>11106</td></tr>\n",
       "</tbody>\n",
       "</table>\n"
      ],
      "text/latex": [
       "\\begin{tabular}{r|lllll}\n",
       " user & gender & age & occupation & zip\\\\\n",
       "\\hline\n",
       "\t 1     & F     & 1     & 10    & 48067\\\\\n",
       "\t 2     & M     & 56    & 16    & 70072\\\\\n",
       "\t 3     & M     & 25    & 15    & 55117\\\\\n",
       "\t 4     & M     & 45    & 7     & 02460\\\\\n",
       "\t 5     & M     & 25    & 20    & 55455\\\\\n",
       "\t ⋮ & ⋮ & ⋮ & ⋮ & ⋮\\\\\n",
       "\t 6036  & F     & 25    & 15    & 32603\\\\\n",
       "\t 6037  & F     & 45    & 1     & 76006\\\\\n",
       "\t 6038  & F     & 56    & 1     & 14706\\\\\n",
       "\t 6039  & F     & 45    & 0     & 01060\\\\\n",
       "\t 6040  & M     & 25    & 6     & 11106\\\\\n",
       "\\end{tabular}\n"
      ],
      "text/markdown": [
       "\n",
       "user | gender | age | occupation | zip | \n",
       "|---|---|---|---|---|---|---|---|---|---|---|\n",
       "| 1     | F     | 1     | 10    | 48067 | \n",
       "| 2     | M     | 56    | 16    | 70072 | \n",
       "| 3     | M     | 25    | 15    | 55117 | \n",
       "| 4     | M     | 45    | 7     | 02460 | \n",
       "| 5     | M     | 25    | 20    | 55455 | \n",
       "| ⋮ | ⋮ | ⋮ | ⋮ | ⋮ | \n",
       "| 6036  | F     | 25    | 15    | 32603 | \n",
       "| 6037  | F     | 45    | 1     | 76006 | \n",
       "| 6038  | F     | 56    | 1     | 14706 | \n",
       "| 6039  | F     | 45    | 0     | 01060 | \n",
       "| 6040  | M     | 25    | 6     | 11106 | \n",
       "\n",
       "\n"
      ],
      "text/plain": [
       "     user gender age occupation zip  \n",
       "1    1    F      1   10         48067\n",
       "2    2    M      56  16         70072\n",
       "3    3    M      25  15         55117\n",
       "4    4    M      45  7          02460\n",
       "5    5    M      25  20         55455\n",
       "⋮    ⋮    ⋮      ⋮   ⋮          ⋮    \n",
       "6036 6036 F      25  15         32603\n",
       "6037 6037 F      45  1          76006\n",
       "6038 6038 F      56  1          14706\n",
       "6039 6039 F      45  0          01060\n",
       "6040 6040 M      25  6          11106"
      ]
     },
     "metadata": {},
     "output_type": "display_data"
    }
   ],
   "source": [
    "users.meta = read_delim(\"data/ml-1m/users.dat\", delim=\":\",\n",
    "                   col_names=c(\"user\", \"gender\", \"age\", \"occupation\", \"zip\"),\n",
    "                   col_types=\"i_c_c_c_c\") %>%\n",
    "    mutate(gender=as.factor(gender),\n",
    "           age=as.factor(age),\n",
    "           occupation=as.factor(occupation))\n",
    "users.meta"
   ]
  },
  {
   "cell_type": "markdown",
   "metadata": {},
   "source": [
    "Now, we want to get user profile statistics. In order to do that, we need each user's train profile; we can load that from the training data output by the cross-folding process.\n",
    "\n",
    "For each partition, we need to load the _train ratings_ (historical profile) for all the _test users_ in that partition. So we will load the test data (to get the users) and the train data (to get the histories), then merge them."
   ]
  },
  {
   "cell_type": "code",
   "execution_count": 4,
   "metadata": {},
   "outputs": [
    {
     "name": "stderr",
     "output_type": "stream",
     "text": [
      "reading part 1\n",
      "Joining, by = \"user\"\n",
      "reading part 2\n",
      "Joining, by = \"user\"\n",
      "reading part 3\n",
      "Joining, by = \"user\"\n",
      "reading part 4\n",
      "Joining, by = \"user\"\n",
      "reading part 5\n",
      "Joining, by = \"user\"\n"
     ]
    }
   ],
   "source": [
    "train.ratings = ldply(1:5, function(part) {\n",
    "    message(\"reading part \", part)\n",
    "    test.fn = sprintf(\"build/ML-1M.GB.out/part0%d.test.csv\", part)\n",
    "    train.fn = sprintf(\"build/ML-1M.GB.out/part0%d.train.csv\", part)\n",
    "    test = suppressMessages(read_csv(test.fn, col_names=c(\"user\", \"item\", \"rating\", \"timestamp\")))\n",
    "    train = suppressMessages(read_csv(train.fn, col_names=c(\"user\", \"item\", \"rating\", \"timestamp\")))\n",
    "    test %>%\n",
    "        select(user) %>%\n",
    "        distinct() %>%\n",
    "        mutate(part=as.factor(part), proto=as.factor('UserPct')) %>%\n",
    "        inner_join(train)\n",
    "})"
   ]
  },
  {
   "cell_type": "markdown",
   "metadata": {},
   "source": [
    "Quick summary just to see what this data looks like:"
   ]
  },
  {
   "cell_type": "code",
   "execution_count": 5,
   "metadata": {},
   "outputs": [
    {
     "data": {
      "text/plain": [
       " part          proto            rating     \n",
       " 1:92326   UserPct:450444   Min.   :1.000  \n",
       " 2:83923                    1st Qu.:3.000  \n",
       " 3:98167                    Median :4.000  \n",
       " 4:91488                    Mean   :3.584  \n",
       " 5:84540                    3rd Qu.:4.000  \n",
       "                            Max.   :5.000  "
      ]
     },
     "metadata": {},
     "output_type": "display_data"
    }
   ],
   "source": [
    "train.ratings %>%\n",
    "    select(part, proto, rating) %>%\n",
    "    summary()"
   ]
  },
  {
   "cell_type": "markdown",
   "metadata": {},
   "source": [
    "Now we want to compute per-user profile statistics:"
   ]
  },
  {
   "cell_type": "code",
   "execution_count": 6,
   "metadata": {},
   "outputs": [
    {
     "data": {
      "text/html": [
       "<table>\n",
       "<thead><tr><th scope=col>user</th><th scope=col>nratings</th><th scope=col>meanRating</th><th scope=col>ratingVar</th></tr></thead>\n",
       "<tbody>\n",
       "\t<tr><td>1        </td><td> 48      </td><td>4.187500 </td><td>0.4534574</td></tr>\n",
       "\t<tr><td>4        </td><td> 16      </td><td>4.187500 </td><td>1.0958333</td></tr>\n",
       "\t<tr><td>5        </td><td>193      </td><td>3.124352 </td><td>1.2865393</td></tr>\n",
       "\t<tr><td>6        </td><td> 66      </td><td>3.909091 </td><td>0.6993007</td></tr>\n",
       "\t<tr><td>8        </td><td>134      </td><td>3.858209 </td><td>0.8594434</td></tr>\n",
       "\t<tr><td>⋮</td><td>⋮</td><td>⋮</td><td>⋮</td></tr>\n",
       "\t<tr><td>6031     </td><td> 46      </td><td>3.760870 </td><td>1.9637681</td></tr>\n",
       "\t<tr><td>6035     </td><td>275      </td><td>2.607273 </td><td>2.2904579</td></tr>\n",
       "\t<tr><td>6038     </td><td> 15      </td><td>3.866667 </td><td>0.8380952</td></tr>\n",
       "\t<tr><td>6039     </td><td>118      </td><td>3.889831 </td><td>0.5433145</td></tr>\n",
       "\t<tr><td>6040     </td><td>336      </td><td>3.592262 </td><td>1.3705668</td></tr>\n",
       "</tbody>\n",
       "</table>\n"
      ],
      "text/latex": [
       "\\begin{tabular}{r|llll}\n",
       " user & nratings & meanRating & ratingVar\\\\\n",
       "\\hline\n",
       "\t 1         &  48       & 4.187500  & 0.4534574\\\\\n",
       "\t 4         &  16       & 4.187500  & 1.0958333\\\\\n",
       "\t 5         & 193       & 3.124352  & 1.2865393\\\\\n",
       "\t 6         &  66       & 3.909091  & 0.6993007\\\\\n",
       "\t 8         & 134       & 3.858209  & 0.8594434\\\\\n",
       "\t ⋮ & ⋮ & ⋮ & ⋮\\\\\n",
       "\t 6031      &  46       & 3.760870  & 1.9637681\\\\\n",
       "\t 6035      & 275       & 2.607273  & 2.2904579\\\\\n",
       "\t 6038      &  15       & 3.866667  & 0.8380952\\\\\n",
       "\t 6039      & 118       & 3.889831  & 0.5433145\\\\\n",
       "\t 6040      & 336       & 3.592262  & 1.3705668\\\\\n",
       "\\end{tabular}\n"
      ],
      "text/markdown": [
       "\n",
       "user | nratings | meanRating | ratingVar | \n",
       "|---|---|---|---|---|---|---|---|---|---|---|\n",
       "| 1         |  48       | 4.187500  | 0.4534574 | \n",
       "| 4         |  16       | 4.187500  | 1.0958333 | \n",
       "| 5         | 193       | 3.124352  | 1.2865393 | \n",
       "| 6         |  66       | 3.909091  | 0.6993007 | \n",
       "| 8         | 134       | 3.858209  | 0.8594434 | \n",
       "| ⋮ | ⋮ | ⋮ | ⋮ | \n",
       "| 6031      |  46       | 3.760870  | 1.9637681 | \n",
       "| 6035      | 275       | 2.607273  | 2.2904579 | \n",
       "| 6038      |  15       | 3.866667  | 0.8380952 | \n",
       "| 6039      | 118       | 3.889831  | 0.5433145 | \n",
       "| 6040      | 336       | 3.592262  | 1.3705668 | \n",
       "\n",
       "\n"
      ],
      "text/plain": [
       "     user nratings meanRating ratingVar\n",
       "1    1     48      4.187500   0.4534574\n",
       "2    4     16      4.187500   1.0958333\n",
       "3    5    193      3.124352   1.2865393\n",
       "4    6     66      3.909091   0.6993007\n",
       "5    8    134      3.858209   0.8594434\n",
       "⋮    ⋮    ⋮        ⋮          ⋮        \n",
       "2996 6031  46      3.760870   1.9637681\n",
       "2997 6035 275      2.607273   2.2904579\n",
       "2998 6038  15      3.866667   0.8380952\n",
       "2999 6039 118      3.889831   0.5433145\n",
       "3000 6040 336      3.592262   1.3705668"
      ]
     },
     "metadata": {},
     "output_type": "display_data"
    }
   ],
   "source": [
    "user.stats = train.ratings %>%\n",
    "    group_by(user) %>%\n",
    "    summarize(nratings = n(), meanRating=mean(rating), ratingVar=var(rating))\n",
    "user.stats"
   ]
  },
  {
   "cell_type": "markdown",
   "metadata": {},
   "source": [
    "Join these statistics with our user metadata table, so that we have one table of user information:"
   ]
  },
  {
   "cell_type": "code",
   "execution_count": 7,
   "metadata": {},
   "outputs": [
    {
     "name": "stderr",
     "output_type": "stream",
     "text": [
      "Joining, by = \"user\"\n"
     ]
    },
    {
     "data": {
      "text/html": [
       "<table>\n",
       "<thead><tr><th scope=col>user</th><th scope=col>gender</th><th scope=col>age</th><th scope=col>occupation</th><th scope=col>zip</th><th scope=col>nratings</th><th scope=col>meanRating</th><th scope=col>ratingVar</th></tr></thead>\n",
       "<tbody>\n",
       "\t<tr><td>1        </td><td>F        </td><td>1        </td><td>10       </td><td>48067    </td><td> 48      </td><td>4.187500 </td><td>0.4534574</td></tr>\n",
       "\t<tr><td>4        </td><td>M        </td><td>45       </td><td>7        </td><td>02460    </td><td> 16      </td><td>4.187500 </td><td>1.0958333</td></tr>\n",
       "\t<tr><td>5        </td><td>M        </td><td>25       </td><td>20       </td><td>55455    </td><td>193      </td><td>3.124352 </td><td>1.2865393</td></tr>\n",
       "\t<tr><td>6        </td><td>F        </td><td>50       </td><td>9        </td><td>55117    </td><td> 66      </td><td>3.909091 </td><td>0.6993007</td></tr>\n",
       "\t<tr><td>8        </td><td>M        </td><td>25       </td><td>12       </td><td>11413    </td><td>134      </td><td>3.858209 </td><td>0.8594434</td></tr>\n",
       "\t<tr><td>⋮</td><td>⋮</td><td>⋮</td><td>⋮</td><td>⋮</td><td>⋮</td><td>⋮</td><td>⋮</td></tr>\n",
       "\t<tr><td>6031     </td><td>F        </td><td>18       </td><td>0        </td><td>45123    </td><td> 46      </td><td>3.760870 </td><td>1.9637681</td></tr>\n",
       "\t<tr><td>6035     </td><td>F        </td><td>25       </td><td>1        </td><td>78734    </td><td>275      </td><td>2.607273 </td><td>2.2904579</td></tr>\n",
       "\t<tr><td>6038     </td><td>F        </td><td>56       </td><td>1        </td><td>14706    </td><td> 15      </td><td>3.866667 </td><td>0.8380952</td></tr>\n",
       "\t<tr><td>6039     </td><td>F        </td><td>45       </td><td>0        </td><td>01060    </td><td>118      </td><td>3.889831 </td><td>0.5433145</td></tr>\n",
       "\t<tr><td>6040     </td><td>M        </td><td>25       </td><td>6        </td><td>11106    </td><td>336      </td><td>3.592262 </td><td>1.3705668</td></tr>\n",
       "</tbody>\n",
       "</table>\n"
      ],
      "text/latex": [
       "\\begin{tabular}{r|llllllll}\n",
       " user & gender & age & occupation & zip & nratings & meanRating & ratingVar\\\\\n",
       "\\hline\n",
       "\t 1         & F         & 1         & 10        & 48067     &  48       & 4.187500  & 0.4534574\\\\\n",
       "\t 4         & M         & 45        & 7         & 02460     &  16       & 4.187500  & 1.0958333\\\\\n",
       "\t 5         & M         & 25        & 20        & 55455     & 193       & 3.124352  & 1.2865393\\\\\n",
       "\t 6         & F         & 50        & 9         & 55117     &  66       & 3.909091  & 0.6993007\\\\\n",
       "\t 8         & M         & 25        & 12        & 11413     & 134       & 3.858209  & 0.8594434\\\\\n",
       "\t ⋮ & ⋮ & ⋮ & ⋮ & ⋮ & ⋮ & ⋮ & ⋮\\\\\n",
       "\t 6031      & F         & 18        & 0         & 45123     &  46       & 3.760870  & 1.9637681\\\\\n",
       "\t 6035      & F         & 25        & 1         & 78734     & 275       & 2.607273  & 2.2904579\\\\\n",
       "\t 6038      & F         & 56        & 1         & 14706     &  15       & 3.866667  & 0.8380952\\\\\n",
       "\t 6039      & F         & 45        & 0         & 01060     & 118       & 3.889831  & 0.5433145\\\\\n",
       "\t 6040      & M         & 25        & 6         & 11106     & 336       & 3.592262  & 1.3705668\\\\\n",
       "\\end{tabular}\n"
      ],
      "text/markdown": [
       "\n",
       "user | gender | age | occupation | zip | nratings | meanRating | ratingVar | \n",
       "|---|---|---|---|---|---|---|---|---|---|---|\n",
       "| 1         | F         | 1         | 10        | 48067     |  48       | 4.187500  | 0.4534574 | \n",
       "| 4         | M         | 45        | 7         | 02460     |  16       | 4.187500  | 1.0958333 | \n",
       "| 5         | M         | 25        | 20        | 55455     | 193       | 3.124352  | 1.2865393 | \n",
       "| 6         | F         | 50        | 9         | 55117     |  66       | 3.909091  | 0.6993007 | \n",
       "| 8         | M         | 25        | 12        | 11413     | 134       | 3.858209  | 0.8594434 | \n",
       "| ⋮ | ⋮ | ⋮ | ⋮ | ⋮ | ⋮ | ⋮ | ⋮ | \n",
       "| 6031      | F         | 18        | 0         | 45123     |  46       | 3.760870  | 1.9637681 | \n",
       "| 6035      | F         | 25        | 1         | 78734     | 275       | 2.607273  | 2.2904579 | \n",
       "| 6038      | F         | 56        | 1         | 14706     |  15       | 3.866667  | 0.8380952 | \n",
       "| 6039      | F         | 45        | 0         | 01060     | 118       | 3.889831  | 0.5433145 | \n",
       "| 6040      | M         | 25        | 6         | 11106     | 336       | 3.592262  | 1.3705668 | \n",
       "\n",
       "\n"
      ],
      "text/plain": [
       "     user gender age occupation zip   nratings meanRating ratingVar\n",
       "1    1    F      1   10         48067  48      4.187500   0.4534574\n",
       "2    4    M      45  7          02460  16      4.187500   1.0958333\n",
       "3    5    M      25  20         55455 193      3.124352   1.2865393\n",
       "4    6    F      50  9          55117  66      3.909091   0.6993007\n",
       "5    8    M      25  12         11413 134      3.858209   0.8594434\n",
       "⋮    ⋮    ⋮      ⋮   ⋮          ⋮     ⋮        ⋮          ⋮        \n",
       "2996 6031 F      18  0          45123  46      3.760870   1.9637681\n",
       "2997 6035 F      25  1          78734 275      2.607273   2.2904579\n",
       "2998 6038 F      56  1          14706  15      3.866667   0.8380952\n",
       "2999 6039 F      45  0          01060 118      3.889831   0.5433145\n",
       "3000 6040 M      25  6          11106 336      3.592262   1.3705668"
      ]
     },
     "metadata": {},
     "output_type": "display_data"
    }
   ],
   "source": [
    "users = users.meta %>% inner_join(user.stats)\n",
    "users"
   ]
  },
  {
   "cell_type": "markdown",
   "metadata": {},
   "source": [
    "Now that we have user information, we can read the per-user recommender evaluation results."
   ]
  },
  {
   "cell_type": "code",
   "execution_count": 8,
   "metadata": {},
   "outputs": [
    {
     "name": "stderr",
     "output_type": "stream",
     "text": [
      "Parsed with column specification:\n",
      "cols(\n",
      "  .default = col_double(),\n",
      "  DataSet = col_character(),\n",
      "  Partition = col_integer(),\n",
      "  Algorithm = col_character(),\n",
      "  User = col_integer(),\n",
      "  L100.Rank = col_integer(),\n",
      "  Rank = col_integer(),\n",
      "  `1R.nDCG` = col_character(),\n",
      "  `1R.Rank` = col_character(),\n",
      "  `1R.RecipRank` = col_character(),\n",
      "  `1R.AvgPrec` = col_character()\n",
      ")\n",
      "See spec(...) for full column specifications.\n",
      "Joining, by = \"user\"\n"
     ]
    },
    {
     "data": {
      "text/html": [
       "<table>\n",
       "<thead><tr><th scope=col>DataSet</th><th scope=col>Partition</th><th scope=col>Algorithm</th><th scope=col>user</th><th scope=col>TestTime</th><th scope=col>RMSE</th><th scope=col>Rank.nDCG</th><th scope=col>L100.nDCG</th><th scope=col>L100.Rank</th><th scope=col>L100.RecipRank</th><th scope=col>⋯</th><th scope=col>1R.Rank</th><th scope=col>1R.RecipRank</th><th scope=col>1R.AvgPrec</th><th scope=col>gender</th><th scope=col>age</th><th scope=col>occupation</th><th scope=col>zip</th><th scope=col>nratings</th><th scope=col>meanRating</th><th scope=col>ratingVar</th></tr></thead>\n",
       "<tbody>\n",
       "\t<tr><td>ML-1M.UI </td><td>3        </td><td>Pop-B    </td><td>3976     </td><td>0.026    </td><td>NA       </td><td>1.0000000</td><td>0        </td><td>NA       </td><td>0        </td><td>⋯        </td><td>NA       </td><td>NA       </td><td>NA       </td><td>F        </td><td>25       </td><td>0        </td><td>44107    </td><td>294      </td><td>3.649660 </td><td>1.4092661</td></tr>\n",
       "\t<tr><td>ML-1M.UI </td><td>2        </td><td>Pop-B    </td><td>3997     </td><td>0.014    </td><td>NA       </td><td>1.0000000</td><td>0        </td><td>NA       </td><td>0        </td><td>⋯        </td><td>NA       </td><td>NA       </td><td>NA       </td><td>M        </td><td>35       </td><td>17       </td><td>45255    </td><td>310      </td><td>3.551613 </td><td>1.3872951</td></tr>\n",
       "\t<tr><td>ML-1M.UI </td><td>5        </td><td>Pop-B    </td><td>4048     </td><td>0.022    </td><td>NA       </td><td>0.9607933</td><td>0        </td><td>NA       </td><td>0        </td><td>⋯        </td><td>NA       </td><td>NA       </td><td>NA       </td><td>F        </td><td>35       </td><td>1        </td><td>89431    </td><td>724      </td><td>3.750000 </td><td>1.1946750</td></tr>\n",
       "\t<tr><td>ML-1M.UI </td><td>4        </td><td>Pop-B    </td><td>4007     </td><td>0.047    </td><td>NA       </td><td>1.0000000</td><td>0        </td><td>NA       </td><td>0        </td><td>⋯        </td><td>NA       </td><td>NA       </td><td>NA       </td><td>M        </td><td>35       </td><td>12       </td><td>88005    </td><td>539      </td><td>2.883117 </td><td>0.9770193</td></tr>\n",
       "\t<tr><td>ML-1M.UI </td><td>3        </td><td>Pop-B    </td><td>3997     </td><td>0.052    </td><td>NA       </td><td>0.9601516</td><td>0        </td><td>NA       </td><td>0        </td><td>⋯        </td><td>NA       </td><td>NA       </td><td>NA       </td><td>M        </td><td>35       </td><td>17       </td><td>45255    </td><td>310      </td><td>3.551613 </td><td>1.3872951</td></tr>\n",
       "\t<tr><td>ML-1M.UI </td><td>2        </td><td>Pop-B    </td><td>3998     </td><td>0.049    </td><td>NA       </td><td>0.8033698</td><td>0        </td><td>NA       </td><td>0        </td><td>⋯        </td><td>NA       </td><td>NA       </td><td>NA       </td><td>M        </td><td>45       </td><td>0        </td><td>74354    </td><td>319      </td><td>2.833856 </td><td>1.9943219</td></tr>\n",
       "</tbody>\n",
       "</table>\n"
      ],
      "text/latex": [
       "\\begin{tabular}{r|lllllllllllllllllllllllllll}\n",
       " DataSet & Partition & Algorithm & user & TestTime & RMSE & Rank.nDCG & L100.nDCG & L100.Rank & L100.RecipRank & ⋯ & 1R.Rank & 1R.RecipRank & 1R.AvgPrec & gender & age & occupation & zip & nratings & meanRating & ratingVar\\\\\n",
       "\\hline\n",
       "\t ML-1M.UI  & 3         & Pop-B     & 3976      & 0.026     & NA        & 1.0000000 & 0         & NA        & 0         & ⋯         & NA        & NA        & NA        & F         & 25        & 0         & 44107     & 294       & 3.649660  & 1.4092661\\\\\n",
       "\t ML-1M.UI  & 2         & Pop-B     & 3997      & 0.014     & NA        & 1.0000000 & 0         & NA        & 0         & ⋯         & NA        & NA        & NA        & M         & 35        & 17        & 45255     & 310       & 3.551613  & 1.3872951\\\\\n",
       "\t ML-1M.UI  & 5         & Pop-B     & 4048      & 0.022     & NA        & 0.9607933 & 0         & NA        & 0         & ⋯         & NA        & NA        & NA        & F         & 35        & 1         & 89431     & 724       & 3.750000  & 1.1946750\\\\\n",
       "\t ML-1M.UI  & 4         & Pop-B     & 4007      & 0.047     & NA        & 1.0000000 & 0         & NA        & 0         & ⋯         & NA        & NA        & NA        & M         & 35        & 12        & 88005     & 539       & 2.883117  & 0.9770193\\\\\n",
       "\t ML-1M.UI  & 3         & Pop-B     & 3997      & 0.052     & NA        & 0.9601516 & 0         & NA        & 0         & ⋯         & NA        & NA        & NA        & M         & 35        & 17        & 45255     & 310       & 3.551613  & 1.3872951\\\\\n",
       "\t ML-1M.UI  & 2         & Pop-B     & 3998      & 0.049     & NA        & 0.8033698 & 0         & NA        & 0         & ⋯         & NA        & NA        & NA        & M         & 45        & 0         & 74354     & 319       & 2.833856  & 1.9943219\\\\\n",
       "\\end{tabular}\n"
      ],
      "text/markdown": [
       "\n",
       "DataSet | Partition | Algorithm | user | TestTime | RMSE | Rank.nDCG | L100.nDCG | L100.Rank | L100.RecipRank | ⋯ | 1R.Rank | 1R.RecipRank | 1R.AvgPrec | gender | age | occupation | zip | nratings | meanRating | ratingVar | \n",
       "|---|---|---|---|---|---|\n",
       "| ML-1M.UI  | 3         | Pop-B     | 3976      | 0.026     | NA        | 1.0000000 | 0         | NA        | 0         | ⋯         | NA        | NA        | NA        | F         | 25        | 0         | 44107     | 294       | 3.649660  | 1.4092661 | \n",
       "| ML-1M.UI  | 2         | Pop-B     | 3997      | 0.014     | NA        | 1.0000000 | 0         | NA        | 0         | ⋯         | NA        | NA        | NA        | M         | 35        | 17        | 45255     | 310       | 3.551613  | 1.3872951 | \n",
       "| ML-1M.UI  | 5         | Pop-B     | 4048      | 0.022     | NA        | 0.9607933 | 0         | NA        | 0         | ⋯         | NA        | NA        | NA        | F         | 35        | 1         | 89431     | 724       | 3.750000  | 1.1946750 | \n",
       "| ML-1M.UI  | 4         | Pop-B     | 4007      | 0.047     | NA        | 1.0000000 | 0         | NA        | 0         | ⋯         | NA        | NA        | NA        | M         | 35        | 12        | 88005     | 539       | 2.883117  | 0.9770193 | \n",
       "| ML-1M.UI  | 3         | Pop-B     | 3997      | 0.052     | NA        | 0.9601516 | 0         | NA        | 0         | ⋯         | NA        | NA        | NA        | M         | 35        | 17        | 45255     | 310       | 3.551613  | 1.3872951 | \n",
       "| ML-1M.UI  | 2         | Pop-B     | 3998      | 0.049     | NA        | 0.8033698 | 0         | NA        | 0         | ⋯         | NA        | NA        | NA        | M         | 45        | 0         | 74354     | 319       | 2.833856  | 1.9943219 | \n",
       "\n",
       "\n"
      ],
      "text/plain": [
       "  DataSet  Partition Algorithm user TestTime RMSE Rank.nDCG L100.nDCG L100.Rank\n",
       "1 ML-1M.UI 3         Pop-B     3976 0.026    NA   1.0000000 0         NA       \n",
       "2 ML-1M.UI 2         Pop-B     3997 0.014    NA   1.0000000 0         NA       \n",
       "3 ML-1M.UI 5         Pop-B     4048 0.022    NA   0.9607933 0         NA       \n",
       "4 ML-1M.UI 4         Pop-B     4007 0.047    NA   1.0000000 0         NA       \n",
       "5 ML-1M.UI 3         Pop-B     3997 0.052    NA   0.9601516 0         NA       \n",
       "6 ML-1M.UI 2         Pop-B     3998 0.049    NA   0.8033698 0         NA       \n",
       "  L100.RecipRank ⋯ 1R.Rank 1R.RecipRank 1R.AvgPrec gender age occupation zip  \n",
       "1 0              ⋯ NA      NA           NA         F      25  0          44107\n",
       "2 0              ⋯ NA      NA           NA         M      35  17         45255\n",
       "3 0              ⋯ NA      NA           NA         F      35  1          89431\n",
       "4 0              ⋯ NA      NA           NA         M      35  12         88005\n",
       "5 0              ⋯ NA      NA           NA         M      35  17         45255\n",
       "6 0              ⋯ NA      NA           NA         M      45  0          74354\n",
       "  nratings meanRating ratingVar\n",
       "1 294      3.649660   1.4092661\n",
       "2 310      3.551613   1.3872951\n",
       "3 724      3.750000   1.1946750\n",
       "4 539      2.883117   0.9770193\n",
       "5 310      3.551613   1.3872951\n",
       "6 319      2.833856   1.9943219"
      ]
     },
     "metadata": {},
     "output_type": "display_data"
    }
   ],
   "source": [
    "user.results.all = read_csv(\"build/movielens-user-results.csv\", guess_max=10000) %>%\n",
    "    rename(user=User) %>%\n",
    "    mutate(DataSet=as.factor(DataSet), \n",
    "           Partition=as.factor(Partition),\n",
    "           Algorithm=as.factor(Algorithm)) %>%\n",
    "    inner_join(users)\n",
    "head(user.results.all)"
   ]
  },
  {
   "cell_type": "markdown",
   "metadata": {},
   "source": [
    "We will often want to use the standard-crossfold user results, so filter those down into a table:"
   ]
  },
  {
   "cell_type": "code",
   "execution_count": 9,
   "metadata": {
    "collapsed": true
   },
   "outputs": [],
   "source": [
    "user.results = user.results.all %>%\n",
    "    filter(DataSet == 'ML-1M.GB')"
   ]
  },
  {
   "cell_type": "code",
   "execution_count": 10,
   "metadata": {
    "collapsed": true
   },
   "outputs": [],
   "source": [
    "write_csv(user.results, \"build/movielens-integrated-user-results-balanced.csv\")"
   ]
  },
  {
   "cell_type": "markdown",
   "metadata": {},
   "source": [
    "## Gender\n",
    "\n",
    "Let's analyze accuracy by gender."
   ]
  },
  {
   "cell_type": "code",
   "execution_count": 11,
   "metadata": {},
   "outputs": [
    {
     "data": {
      "text/html": [
       "<table>\n",
       "<thead><tr><th scope=col>Algorithm</th><th scope=col>gender</th><th scope=col>Metric</th><th scope=col>value</th></tr></thead>\n",
       "<tbody>\n",
       "\t<tr><td>II-B      </td><td>F         </td><td>MAP       </td><td>0.07968918</td></tr>\n",
       "\t<tr><td>II-B      </td><td>F         </td><td>MRR       </td><td>0.23293273</td></tr>\n",
       "\t<tr><td>II-B      </td><td>F         </td><td>nDCG      </td><td>0.27252724</td></tr>\n",
       "\t<tr><td>II-B      </td><td>F         </td><td>RMSE      </td><td>        NA</td></tr>\n",
       "\t<tr><td>II-B      </td><td>M         </td><td>MAP       </td><td>0.08517989</td></tr>\n",
       "\t<tr><td>II-B      </td><td>M         </td><td>MRR       </td><td>0.25169426</td></tr>\n",
       "</tbody>\n",
       "</table>\n"
      ],
      "text/latex": [
       "\\begin{tabular}{r|llll}\n",
       " Algorithm & gender & Metric & value\\\\\n",
       "\\hline\n",
       "\t II-B       & F          & MAP        & 0.07968918\\\\\n",
       "\t II-B       & F          & MRR        & 0.23293273\\\\\n",
       "\t II-B       & F          & nDCG       & 0.27252724\\\\\n",
       "\t II-B       & F          & RMSE       &         NA\\\\\n",
       "\t II-B       & M          & MAP        & 0.08517989\\\\\n",
       "\t II-B       & M          & MRR        & 0.25169426\\\\\n",
       "\\end{tabular}\n"
      ],
      "text/markdown": [
       "\n",
       "Algorithm | gender | Metric | value | \n",
       "|---|---|---|---|---|---|\n",
       "| II-B       | F          | MAP        | 0.07968918 | \n",
       "| II-B       | F          | MRR        | 0.23293273 | \n",
       "| II-B       | F          | nDCG       | 0.27252724 | \n",
       "| II-B       | F          | RMSE       |         NA | \n",
       "| II-B       | M          | MAP        | 0.08517989 | \n",
       "| II-B       | M          | MRR        | 0.25169426 | \n",
       "\n",
       "\n"
      ],
      "text/plain": [
       "  Algorithm gender Metric value     \n",
       "1 II-B      F      MAP    0.07968918\n",
       "2 II-B      F      MRR    0.23293273\n",
       "3 II-B      F      nDCG   0.27252724\n",
       "4 II-B      F      RMSE           NA\n",
       "5 II-B      M      MAP    0.08517989\n",
       "6 II-B      M      MRR    0.25169426"
      ]
     },
     "metadata": {},
     "output_type": "display_data"
    }
   ],
   "source": [
    "# FIXME re-add rank.ndcg\n",
    "gender.results = user.results %>%\n",
    "    select(Algorithm, gender, MAP=AvgPrec, MRR=RecipRank, RMSE, nDCG) %>%\n",
    "    gather(\"Metric\", \"value\", -Algorithm, -gender) %>%\n",
    "    group_by(Algorithm, gender, Metric) %>%\n",
    "    summarize(value=mean(value)) %>%\n",
    "    ungroup()\n",
    "head(gender.results)"
   ]
  },
  {
   "cell_type": "code",
   "execution_count": 12,
   "metadata": {},
   "outputs": [
    {
     "data": {
      "text/html": [
       "<table>\n",
       "<thead><tr><th scope=col>Algorithm</th><th scope=col>gender</th><th scope=col>Metric</th><th scope=col>value</th></tr></thead>\n",
       "<tbody>\n",
       "\t<tr><td>II-B      </td><td>F         </td><td>MAP       </td><td>0.07968918</td></tr>\n",
       "\t<tr><td>II-B      </td><td>F         </td><td>MRR       </td><td>0.23293273</td></tr>\n",
       "\t<tr><td>II-B      </td><td>F         </td><td>nDCG      </td><td>0.27252724</td></tr>\n",
       "\t<tr><td>II-B      </td><td>F         </td><td>RMSE      </td><td>        NA</td></tr>\n",
       "\t<tr><td>II-B      </td><td>M         </td><td>MAP       </td><td>0.08517989</td></tr>\n",
       "\t<tr><td>II-B      </td><td>M         </td><td>MRR       </td><td>0.25169426</td></tr>\n",
       "</tbody>\n",
       "</table>\n"
      ],
      "text/latex": [
       "\\begin{tabular}{r|llll}\n",
       " Algorithm & gender & Metric & value\\\\\n",
       "\\hline\n",
       "\t II-B       & F          & MAP        & 0.07968918\\\\\n",
       "\t II-B       & F          & MRR        & 0.23293273\\\\\n",
       "\t II-B       & F          & nDCG       & 0.27252724\\\\\n",
       "\t II-B       & F          & RMSE       &         NA\\\\\n",
       "\t II-B       & M          & MAP        & 0.08517989\\\\\n",
       "\t II-B       & M          & MRR        & 0.25169426\\\\\n",
       "\\end{tabular}\n"
      ],
      "text/markdown": [
       "\n",
       "Algorithm | gender | Metric | value | \n",
       "|---|---|---|---|---|---|\n",
       "| II-B       | F          | MAP        | 0.07968918 | \n",
       "| II-B       | F          | MRR        | 0.23293273 | \n",
       "| II-B       | F          | nDCG       | 0.27252724 | \n",
       "| II-B       | F          | RMSE       |         NA | \n",
       "| II-B       | M          | MAP        | 0.08517989 | \n",
       "| II-B       | M          | MRR        | 0.25169426 | \n",
       "\n",
       "\n"
      ],
      "text/plain": [
       "  Algorithm gender Metric value     \n",
       "1 II-B      F      MAP    0.07968918\n",
       "2 II-B      F      MRR    0.23293273\n",
       "3 II-B      F      nDCG   0.27252724\n",
       "4 II-B      F      RMSE           NA\n",
       "5 II-B      M      MAP    0.08517989\n",
       "6 II-B      M      MRR    0.25169426"
      ]
     },
     "metadata": {},
     "output_type": "display_data"
    }
   ],
   "source": [
    "overall.results = user.results %>%\n",
    "    select(Algorithm, MAP=AvgPrec, MRR=RecipRank, RMSE, nDCG) %>%\n",
    "    gather(\"Metric\", \"value\", -Algorithm) %>%\n",
    "    group_by(Algorithm, Metric) %>%\n",
    "    summarize(value=mean(value)) %>%\n",
    "    ungroup() %>%\n",
    "    mutate(gender = 'Any')\n",
    "combined.results = rbind(gender.results, overall.results)\n",
    "head(combined.results)"
   ]
  },
  {
   "cell_type": "code",
   "execution_count": 13,
   "metadata": {},
   "outputs": [
    {
     "name": "stderr",
     "output_type": "stream",
     "text": [
      "Warning message:\n",
      "“Removed 15 rows containing missing values (geom_bar).”"
     ]
    },
    {
     "data": {},
     "metadata": {},
     "output_type": "display_data"
    },
    {
     "data": {
      "image/png": "[encoded data removed]",
      "text/plain": [
       "plot without title"
      ]
     },
     "metadata": {},
     "output_type": "display_data"
    }
   ],
   "source": [
    "ggplot(combined.results) +\n",
    "    aes(x=gender, y=value, fill=Algorithm) +\n",
    "    geom_bar(stat=\"identity\", position=\"dodge\") +\n",
    "    facet_wrap(~ Metric, scales=\"free\")"
   ]
  },
  {
   "cell_type": "markdown",
   "metadata": {},
   "source": [
    "## Age"
   ]
  },
  {
   "cell_type": "markdown",
   "metadata": {},
   "source": [
    "We now want to examine accuracy as a function of age. We're basically going to do the same thing we did for gender.\n",
    "\n",
    "Start by aggregating the results:"
   ]
  },
  {
   "cell_type": "code",
   "execution_count": 14,
   "metadata": {},
   "outputs": [
    {
     "data": {
      "text/html": [
       "<table>\n",
       "<thead><tr><th scope=col>Algorithm</th><th scope=col>age</th><th scope=col>Metric</th><th scope=col>value</th></tr></thead>\n",
       "<tbody>\n",
       "\t<tr><td>II-B      </td><td>1         </td><td>MAP       </td><td>0.10340013</td></tr>\n",
       "\t<tr><td>II-B      </td><td>1         </td><td>MRR       </td><td>0.30973982</td></tr>\n",
       "\t<tr><td>II-B      </td><td>1         </td><td>nDCG      </td><td>0.30391096</td></tr>\n",
       "\t<tr><td>II-B      </td><td>18        </td><td>MAP       </td><td>0.08583685</td></tr>\n",
       "\t<tr><td>II-B      </td><td>18        </td><td>MRR       </td><td>0.26011838</td></tr>\n",
       "\t<tr><td>⋮</td><td>⋮</td><td>⋮</td><td>⋮</td></tr>\n",
       "\t<tr><td>UU-E       </td><td>50         </td><td>MRR        </td><td>0.007829822</td></tr>\n",
       "\t<tr><td>UU-E       </td><td>50         </td><td>nDCG       </td><td>0.146030742</td></tr>\n",
       "\t<tr><td>UU-E       </td><td>56         </td><td>MAP        </td><td>0.004967619</td></tr>\n",
       "\t<tr><td>UU-E       </td><td>56         </td><td>MRR        </td><td>0.006961650</td></tr>\n",
       "\t<tr><td>UU-E       </td><td>56         </td><td>nDCG       </td><td>0.145666416</td></tr>\n",
       "</tbody>\n",
       "</table>\n"
      ],
      "text/latex": [
       "\\begin{tabular}{r|llll}\n",
       " Algorithm & age & Metric & value\\\\\n",
       "\\hline\n",
       "\t II-B       & 1          & MAP        & 0.10340013\\\\\n",
       "\t II-B       & 1          & MRR        & 0.30973982\\\\\n",
       "\t II-B       & 1          & nDCG       & 0.30391096\\\\\n",
       "\t II-B       & 18         & MAP        & 0.08583685\\\\\n",
       "\t II-B       & 18         & MRR        & 0.26011838\\\\\n",
       "\t ⋮ & ⋮ & ⋮ & ⋮\\\\\n",
       "\t UU-E        & 50          & MRR         & 0.007829822\\\\\n",
       "\t UU-E        & 50          & nDCG        & 0.146030742\\\\\n",
       "\t UU-E        & 56          & MAP         & 0.004967619\\\\\n",
       "\t UU-E        & 56          & MRR         & 0.006961650\\\\\n",
       "\t UU-E        & 56          & nDCG        & 0.145666416\\\\\n",
       "\\end{tabular}\n"
      ],
      "text/markdown": [
       "\n",
       "Algorithm | age | Metric | value | \n",
       "|---|---|---|---|---|---|---|---|---|---|---|\n",
       "| II-B       | 1          | MAP        | 0.10340013 | \n",
       "| II-B       | 1          | MRR        | 0.30973982 | \n",
       "| II-B       | 1          | nDCG       | 0.30391096 | \n",
       "| II-B       | 18         | MAP        | 0.08583685 | \n",
       "| II-B       | 18         | MRR        | 0.26011838 | \n",
       "| ⋮ | ⋮ | ⋮ | ⋮ | \n",
       "| UU-E        | 50          | MRR         | 0.007829822 | \n",
       "| UU-E        | 50          | nDCG        | 0.146030742 | \n",
       "| UU-E        | 56          | MAP         | 0.004967619 | \n",
       "| UU-E        | 56          | MRR         | 0.006961650 | \n",
       "| UU-E        | 56          | nDCG        | 0.145666416 | \n",
       "\n",
       "\n"
      ],
      "text/plain": [
       "    Algorithm age Metric value      \n",
       "1   II-B      1   MAP    0.10340013 \n",
       "2   II-B      1   MRR    0.30973982 \n",
       "3   II-B      1   nDCG   0.30391096 \n",
       "4   II-B      18  MAP    0.08583685 \n",
       "5   II-B      18  MRR    0.26011838 \n",
       "⋮   ⋮         ⋮   ⋮      ⋮          \n",
       "164 UU-E      50  MRR    0.007829822\n",
       "165 UU-E      50  nDCG   0.146030742\n",
       "166 UU-E      56  MAP    0.004967619\n",
       "167 UU-E      56  MRR    0.006961650\n",
       "168 UU-E      56  nDCG   0.145666416"
      ]
     },
     "metadata": {},
     "output_type": "display_data"
    }
   ],
   "source": [
    "# FIXME Re-add rank nDCG\n",
    "age.results = user.results %>%\n",
    "    select(Algorithm, age, MAP=AvgPrec, MRR=RecipRank, nDCG) %>%\n",
    "    gather(\"Metric\", \"value\", -Algorithm, -age) %>%\n",
    "    group_by(Algorithm, age, Metric) %>%\n",
    "    summarize(value=mean(value))\n",
    "age.results"
   ]
  },
  {
   "cell_type": "markdown",
   "metadata": {},
   "source": [
    "And then we can plot them:"
   ]
  },
  {
   "cell_type": "code",
   "execution_count": 15,
   "metadata": {},
   "outputs": [
    {
     "data": {},
     "metadata": {},
     "output_type": "display_data"
    },
    {
     "data": {
      "image/png": "[encoded data removed]",
      "text/plain": [
       "plot without title"
      ]
     },
     "metadata": {},
     "output_type": "display_data"
    }
   ],
   "source": [
    "ggplot(age.results) +\n",
    "    aes(x=age, y=value, fill=Algorithm) +\n",
    "    geom_bar(stat=\"identity\", position=\"dodge\") +\n",
    "    facet_grid(Metric ~ ., scales=\"free_y\")"
   ]
  },
  {
   "cell_type": "markdown",
   "metadata": {},
   "source": [
    "### Controlling for Profile Size\n",
    "\n",
    "Let's control for profile size again."
   ]
  },
  {
   "cell_type": "code",
   "execution_count": 16,
   "metadata": {},
   "outputs": [
    {
     "ename": "ERROR",
     "evalue": "Error in select_(.data, .dots = lazyeval::lazy_dots(...)): object 'user.ndcg.preds' not found\n",
     "output_type": "error",
     "traceback": [
      "Error in select_(.data, .dots = lazyeval::lazy_dots(...)): object 'user.ndcg.preds' not found\nTraceback:\n",
      "1. user.results %>% select(user, Algorithm, age, nDCG) %>% inner_join(select(user.ndcg.preds, \n .     user, Pred.nDCG = pred)) %>% mutate(Corr.nDCG = nDCG - Pred.nDCG) %>% \n .     group_by(age, Algorithm) %>% summarize(nDCG = mean(nDCG), \n .     Corr.nDCG = mean(Corr.nDCG))",
      "2. withVisible(eval(quote(`_fseq`(`_lhs`)), env, env))",
      "3. eval(quote(`_fseq`(`_lhs`)), env, env)",
      "4. eval(expr, envir, enclos)",
      "5. `_fseq`(`_lhs`)",
      "6. freduce(value, `_function_list`)",
      "7. function_list[[i]](value)",
      "8. inner_join(., select(user.ndcg.preds, user, Pred.nDCG = pred))",
      "9. inner_join.tbl_df(., select(user.ndcg.preds, user, Pred.nDCG = pred))",
      "10. common_by(by, x, y)",
      "11. intersect(tbl_vars(x), tbl_vars(y))",
      "12. intersect.default(tbl_vars(x), tbl_vars(y))",
      "13. base::intersect(x, y, ...)",
      "14. as.vector(y)",
      "15. tbl_vars(y)",
      "16. select(user.ndcg.preds, user, Pred.nDCG = pred)",
      "17. select_(.data, .dots = lazyeval::lazy_dots(...))"
     ]
    }
   ],
   "source": [
    "age.corr.ndcg = user.results %>%\n",
    "    select(user, Algorithm, age, nDCG) %>%\n",
    "    inner_join(select(user.ndcg.preds, user, Pred.nDCG=pred)) %>%\n",
    "    mutate(Corr.nDCG = nDCG - Pred.nDCG) %>%\n",
    "    group_by(age, Algorithm) %>%\n",
    "    summarize(nDCG=mean(nDCG), Corr.nDCG=mean(Corr.nDCG))\n",
    "head(age.corr.ndcg)"
   ]
  },
  {
   "cell_type": "code",
   "execution_count": 33,
   "metadata": {},
   "outputs": [
    {
     "data": {},
     "metadata": {},
     "output_type": "display_data"
    },
    {
     "data": {
      "image/png": "[encoded data removed]",
      "text/plain": [
       "plot without title"
      ]
     },
     "metadata": {},
     "output_type": "display_data"
    }
   ],
   "source": [
    "ggplot(age.corr.ndcg) +\n",
    "    aes(x=age, y=Corr.nDCG, fill=Algorithm) +\n",
    "    geom_bar(stat=\"identity\", position=\"dodge\")"
   ]
  },
  {
   "cell_type": "markdown",
   "metadata": {
    "collapsed": true
   },
   "source": [
    "Discrepancy in performance is robust to controls for size."
   ]
  }
 ],
 "metadata": {
  "kernelspec": {
   "display_name": "R",
   "language": "R",
   "name": "ir"
  },
  "language_info": {
   "codemirror_mode": "r",
   "file_extension": ".r",
   "mimetype": "text/x-r-source",
   "name": "R",
   "pygments_lexer": "r",
   "version": "3.3.2"
  }
 },
 "nbformat": 4,
 "nbformat_minor": 2
}
